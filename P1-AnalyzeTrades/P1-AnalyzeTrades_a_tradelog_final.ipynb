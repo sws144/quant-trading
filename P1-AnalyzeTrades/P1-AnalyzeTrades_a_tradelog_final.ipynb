{
 "cells": [
  {
   "cell_type": "markdown",
   "metadata": {},
   "source": [
    " ## Convert trade log into pnl design matrix for modeling\n",
    " Design matrix is one record per row"
   ]
  },
  {
   "cell_type": "code",
   "execution_count": 10,
   "metadata": {},
   "outputs": [],
   "source": [
    "# imports\n",
    "\n",
    "import pandas as pd\n",
    "import numpy as np # for np.nan\n",
    "import glob # for text matching\n",
    "import os # for path\n"
   ]
  },
  {
   "cell_type": "code",
   "execution_count": 11,
   "metadata": {},
   "outputs": [],
   "source": [
    "# read in raw data\n",
    "### INPUT ###\n",
    "attr_filename = 'data/PCM-Tracking - LogHist.csv'\n",
    "\n",
    "# trade + activity list, max 30 cols\n",
    "globbed_files = glob.glob('data/*U106*.csv')\n",
    "col_names_temp = list(range(30))\n",
    "df_raw = pd.DataFrame(columns = col_names_temp)\n",
    "\n",
    "# initial date\n",
    "init_date = '2015-06-30'\n",
    "\n",
    "for csv in globbed_files:\n",
    "    frame = pd.read_csv(csv, names=col_names_temp)\n",
    "    frame['filename'] = os.path.basename(csv)\n",
    "    df_raw = df_raw.append(frame)\n",
    "\n",
    "# attributes from trading\n",
    "df_raw_attr = pd.read_csv(attr_filename)\n",
    "df_raw_attr['filename'] = os.path.basename(attr_filename)\n",
    "df_raw_attr = df_raw_attr.append(df_raw_attr)"
   ]
  },
  {
   "cell_type": "code",
   "execution_count": 12,
   "metadata": {},
   "outputs": [
    {
     "output_type": "execute_result",
     "data": {
      "text/plain": [
       "           0       1              2                                    3    4  \\\n",
       "0  Statement  Header     Field Name                          Field Value  NaN   \n",
       "1  Statement    Data     BrokerName                  Interactive Brokers  NaN   \n",
       "2  Statement    Data  BrokerAddress                                  NaN  NaN   \n",
       "3  Statement    Data          Title                   Activity Statement  NaN   \n",
       "4  Statement    Data         Period  January 1, 2015 - December 31, 2015  NaN   \n",
       "\n",
       "     5    6    7    8    9  ...   21   22   23   24   25   26   27   28   29  \\\n",
       "0  NaN  NaN  NaN  NaN  NaN  ...  NaN  NaN  NaN  NaN  NaN  NaN  NaN  NaN  NaN   \n",
       "1  NaN  NaN  NaN  NaN  NaN  ...  NaN  NaN  NaN  NaN  NaN  NaN  NaN  NaN  NaN   \n",
       "2  NaN  NaN  NaN  NaN  NaN  ...  NaN  NaN  NaN  NaN  NaN  NaN  NaN  NaN  NaN   \n",
       "3  NaN  NaN  NaN  NaN  NaN  ...  NaN  NaN  NaN  NaN  NaN  NaN  NaN  NaN  NaN   \n",
       "4  NaN  NaN  NaN  NaN  NaN  ...  NaN  NaN  NaN  NaN  NaN  NaN  NaN  NaN  NaN   \n",
       "\n",
       "                                            filename  \n",
       "0  F1056881_U1060261_20150102_20151231_AS_Fv2_6ea...  \n",
       "1  F1056881_U1060261_20150102_20151231_AS_Fv2_6ea...  \n",
       "2  F1056881_U1060261_20150102_20151231_AS_Fv2_6ea...  \n",
       "3  F1056881_U1060261_20150102_20151231_AS_Fv2_6ea...  \n",
       "4  F1056881_U1060261_20150102_20151231_AS_Fv2_6ea...  \n",
       "\n",
       "[5 rows x 31 columns]"
      ],
      "text/html": "<div>\n<style scoped>\n    .dataframe tbody tr th:only-of-type {\n        vertical-align: middle;\n    }\n\n    .dataframe tbody tr th {\n        vertical-align: top;\n    }\n\n    .dataframe thead th {\n        text-align: right;\n    }\n</style>\n<table border=\"1\" class=\"dataframe\">\n  <thead>\n    <tr style=\"text-align: right;\">\n      <th></th>\n      <th>0</th>\n      <th>1</th>\n      <th>2</th>\n      <th>3</th>\n      <th>4</th>\n      <th>5</th>\n      <th>6</th>\n      <th>7</th>\n      <th>8</th>\n      <th>9</th>\n      <th>...</th>\n      <th>21</th>\n      <th>22</th>\n      <th>23</th>\n      <th>24</th>\n      <th>25</th>\n      <th>26</th>\n      <th>27</th>\n      <th>28</th>\n      <th>29</th>\n      <th>filename</th>\n    </tr>\n  </thead>\n  <tbody>\n    <tr>\n      <th>0</th>\n      <td>Statement</td>\n      <td>Header</td>\n      <td>Field Name</td>\n      <td>Field Value</td>\n      <td>NaN</td>\n      <td>NaN</td>\n      <td>NaN</td>\n      <td>NaN</td>\n      <td>NaN</td>\n      <td>NaN</td>\n      <td>...</td>\n      <td>NaN</td>\n      <td>NaN</td>\n      <td>NaN</td>\n      <td>NaN</td>\n      <td>NaN</td>\n      <td>NaN</td>\n      <td>NaN</td>\n      <td>NaN</td>\n      <td>NaN</td>\n      <td>F1056881_U1060261_20150102_20151231_AS_Fv2_6ea...</td>\n    </tr>\n    <tr>\n      <th>1</th>\n      <td>Statement</td>\n      <td>Data</td>\n      <td>BrokerName</td>\n      <td>Interactive Brokers</td>\n      <td>NaN</td>\n      <td>NaN</td>\n      <td>NaN</td>\n      <td>NaN</td>\n      <td>NaN</td>\n      <td>NaN</td>\n      <td>...</td>\n      <td>NaN</td>\n      <td>NaN</td>\n      <td>NaN</td>\n      <td>NaN</td>\n      <td>NaN</td>\n      <td>NaN</td>\n      <td>NaN</td>\n      <td>NaN</td>\n      <td>NaN</td>\n      <td>F1056881_U1060261_20150102_20151231_AS_Fv2_6ea...</td>\n    </tr>\n    <tr>\n      <th>2</th>\n      <td>Statement</td>\n      <td>Data</td>\n      <td>BrokerAddress</td>\n      <td>NaN</td>\n      <td>NaN</td>\n      <td>NaN</td>\n      <td>NaN</td>\n      <td>NaN</td>\n      <td>NaN</td>\n      <td>NaN</td>\n      <td>...</td>\n      <td>NaN</td>\n      <td>NaN</td>\n      <td>NaN</td>\n      <td>NaN</td>\n      <td>NaN</td>\n      <td>NaN</td>\n      <td>NaN</td>\n      <td>NaN</td>\n      <td>NaN</td>\n      <td>F1056881_U1060261_20150102_20151231_AS_Fv2_6ea...</td>\n    </tr>\n    <tr>\n      <th>3</th>\n      <td>Statement</td>\n      <td>Data</td>\n      <td>Title</td>\n      <td>Activity Statement</td>\n      <td>NaN</td>\n      <td>NaN</td>\n      <td>NaN</td>\n      <td>NaN</td>\n      <td>NaN</td>\n      <td>NaN</td>\n      <td>...</td>\n      <td>NaN</td>\n      <td>NaN</td>\n      <td>NaN</td>\n      <td>NaN</td>\n      <td>NaN</td>\n      <td>NaN</td>\n      <td>NaN</td>\n      <td>NaN</td>\n      <td>NaN</td>\n      <td>F1056881_U1060261_20150102_20151231_AS_Fv2_6ea...</td>\n    </tr>\n    <tr>\n      <th>4</th>\n      <td>Statement</td>\n      <td>Data</td>\n      <td>Period</td>\n      <td>January 1, 2015 - December 31, 2015</td>\n      <td>NaN</td>\n      <td>NaN</td>\n      <td>NaN</td>\n      <td>NaN</td>\n      <td>NaN</td>\n      <td>NaN</td>\n      <td>...</td>\n      <td>NaN</td>\n      <td>NaN</td>\n      <td>NaN</td>\n      <td>NaN</td>\n      <td>NaN</td>\n      <td>NaN</td>\n      <td>NaN</td>\n      <td>NaN</td>\n      <td>NaN</td>\n      <td>F1056881_U1060261_20150102_20151231_AS_Fv2_6ea...</td>\n    </tr>\n  </tbody>\n</table>\n<p>5 rows × 31 columns</p>\n</div>"
     },
     "metadata": {},
     "execution_count": 12
    }
   ],
   "source": [
    "# Understand df_raw\n",
    "df_raw.head()\n"
   ]
  },
  {
   "cell_type": "code",
   "execution_count": 13,
   "metadata": {},
   "outputs": [
    {
     "output_type": "execute_result",
     "data": {
      "text/plain": [
       "Borrow Fee Details                                                                                          6089\n",
       "IBKR Managed Securities Lent Activity (Stock Yield Enhancement Program)                                     5037\n",
       "Trades                                                                                                      4239\n",
       "IBKR Managed Securities Lent Activity (Stock Yield Enhancement Program) (Post February 28, 2017)            3604\n",
       "IBKR Managed Securities Lent Interest Details (Stock Yield Enhancement Program) (Post February 28, 2017)    2467\n",
       "IBKR Managed Securities Lent Fee Details (Stock Yield Enhancement Program)                                  2305\n",
       "IBKR Managed Securities Lent Interest Details (Stock Yield Enhancement Program)                             1253\n",
       "Change in Dividend Accruals                                                                                 1170\n",
       "Dividends                                                                                                    531\n",
       "Mark-to-Market Performance Summary                                                                           443\n",
       "Name: 0, dtype: int64"
      ]
     },
     "metadata": {},
     "execution_count": 13
    }
   ],
   "source": [
    "# See df_raw available data\n",
    "df_raw[0].value_counts()[:10]"
   ]
  },
  {
   "cell_type": "code",
   "execution_count": 14,
   "metadata": {},
   "outputs": [
    {
     "output_type": "execute_result",
     "data": {
      "text/plain": [
       "     Trades Header DataDiscriminator Asset Category Currency Symbol  \\\n",
       "388  Trades   Data             Order         Stocks      USD   AAPL   \n",
       "389  Trades   Data             Order         Stocks      USD   AAPL   \n",
       "390  Trades   Data             Order         Stocks      USD   AAPL   \n",
       "391  Trades   Data             Order         Stocks      USD   AAPL   \n",
       "392  Trades   Data             Order         Stocks      USD   AAPL   \n",
       "\n",
       "                Date/Time Quantity  T. Price C. Price  Proceeds      Comm/Fee  \\\n",
       "388  2016-01-11, 10:20:02      200    98.159    98.53  -19631.8            -1   \n",
       "389  2016-01-25, 09:44:44      150     100.4    99.44    -15060            -1   \n",
       "390  2016-01-27, 12:22:10     -600  95.80105    93.42  57480.63  -3.457643592   \n",
       "391  2016-01-29, 09:51:29      600     95.58    97.34    -57348            -3   \n",
       "392  2016-02-11, 13:48:52     -600  93.17055     93.7  55902.33  -3.818670794   \n",
       "\n",
       "             Basis   Realized P/L  MTM P/L    Code  \\\n",
       "388        19632.8    2566.569764     74.2       O   \n",
       "389          15061              0     -144     O;P   \n",
       "390    -70599.8163  -13122.643944  1428.63  C;LI;P   \n",
       "391          57351   13122.643944     1056       O   \n",
       "392  -70473.643944  -14575.132614  -317.67  C;LI;P   \n",
       "\n",
       "                                              filename  \n",
       "388  F1056881_U1060261_20160104_20161230_AS_Fv2_6b2...  \n",
       "389  F1056881_U1060261_20160104_20161230_AS_Fv2_6b2...  \n",
       "390  F1056881_U1060261_20160104_20161230_AS_Fv2_6b2...  \n",
       "391  F1056881_U1060261_20160104_20161230_AS_Fv2_6b2...  \n",
       "392  F1056881_U1060261_20160104_20161230_AS_Fv2_6b2...  "
      ],
      "text/html": "<div>\n<style scoped>\n    .dataframe tbody tr th:only-of-type {\n        vertical-align: middle;\n    }\n\n    .dataframe tbody tr th {\n        vertical-align: top;\n    }\n\n    .dataframe thead th {\n        text-align: right;\n    }\n</style>\n<table border=\"1\" class=\"dataframe\">\n  <thead>\n    <tr style=\"text-align: right;\">\n      <th></th>\n      <th>Trades</th>\n      <th>Header</th>\n      <th>DataDiscriminator</th>\n      <th>Asset Category</th>\n      <th>Currency</th>\n      <th>Symbol</th>\n      <th>Date/Time</th>\n      <th>Quantity</th>\n      <th>T. Price</th>\n      <th>C. Price</th>\n      <th>Proceeds</th>\n      <th>Comm/Fee</th>\n      <th>Basis</th>\n      <th>Realized P/L</th>\n      <th>MTM P/L</th>\n      <th>Code</th>\n      <th>filename</th>\n    </tr>\n  </thead>\n  <tbody>\n    <tr>\n      <th>388</th>\n      <td>Trades</td>\n      <td>Data</td>\n      <td>Order</td>\n      <td>Stocks</td>\n      <td>USD</td>\n      <td>AAPL</td>\n      <td>2016-01-11, 10:20:02</td>\n      <td>200</td>\n      <td>98.159</td>\n      <td>98.53</td>\n      <td>-19631.8</td>\n      <td>-1</td>\n      <td>19632.8</td>\n      <td>2566.569764</td>\n      <td>74.2</td>\n      <td>O</td>\n      <td>F1056881_U1060261_20160104_20161230_AS_Fv2_6b2...</td>\n    </tr>\n    <tr>\n      <th>389</th>\n      <td>Trades</td>\n      <td>Data</td>\n      <td>Order</td>\n      <td>Stocks</td>\n      <td>USD</td>\n      <td>AAPL</td>\n      <td>2016-01-25, 09:44:44</td>\n      <td>150</td>\n      <td>100.4</td>\n      <td>99.44</td>\n      <td>-15060</td>\n      <td>-1</td>\n      <td>15061</td>\n      <td>0</td>\n      <td>-144</td>\n      <td>O;P</td>\n      <td>F1056881_U1060261_20160104_20161230_AS_Fv2_6b2...</td>\n    </tr>\n    <tr>\n      <th>390</th>\n      <td>Trades</td>\n      <td>Data</td>\n      <td>Order</td>\n      <td>Stocks</td>\n      <td>USD</td>\n      <td>AAPL</td>\n      <td>2016-01-27, 12:22:10</td>\n      <td>-600</td>\n      <td>95.80105</td>\n      <td>93.42</td>\n      <td>57480.63</td>\n      <td>-3.457643592</td>\n      <td>-70599.8163</td>\n      <td>-13122.643944</td>\n      <td>1428.63</td>\n      <td>C;LI;P</td>\n      <td>F1056881_U1060261_20160104_20161230_AS_Fv2_6b2...</td>\n    </tr>\n    <tr>\n      <th>391</th>\n      <td>Trades</td>\n      <td>Data</td>\n      <td>Order</td>\n      <td>Stocks</td>\n      <td>USD</td>\n      <td>AAPL</td>\n      <td>2016-01-29, 09:51:29</td>\n      <td>600</td>\n      <td>95.58</td>\n      <td>97.34</td>\n      <td>-57348</td>\n      <td>-3</td>\n      <td>57351</td>\n      <td>13122.643944</td>\n      <td>1056</td>\n      <td>O</td>\n      <td>F1056881_U1060261_20160104_20161230_AS_Fv2_6b2...</td>\n    </tr>\n    <tr>\n      <th>392</th>\n      <td>Trades</td>\n      <td>Data</td>\n      <td>Order</td>\n      <td>Stocks</td>\n      <td>USD</td>\n      <td>AAPL</td>\n      <td>2016-02-11, 13:48:52</td>\n      <td>-600</td>\n      <td>93.17055</td>\n      <td>93.7</td>\n      <td>55902.33</td>\n      <td>-3.818670794</td>\n      <td>-70473.643944</td>\n      <td>-14575.132614</td>\n      <td>-317.67</td>\n      <td>C;LI;P</td>\n      <td>F1056881_U1060261_20160104_20161230_AS_Fv2_6b2...</td>\n    </tr>\n  </tbody>\n</table>\n</div>"
     },
     "metadata": {},
     "execution_count": 14
    }
   ],
   "source": [
    "# Create trading list, after first activity file\n",
    "df_trades = df_raw[df_raw[0]=='Trades']\n",
    "df_trades.columns  = df_trades.iloc[0,:]\n",
    "df_trades.columns = [*df_trades.columns[:-1], 'filename']\n",
    "cols = df_trades.columns[~df_trades.columns.isin([np.nan])]\n",
    "df_trades = df_trades[cols]\n",
    "df_trades = df_trades[df_trades['Header'] == 'Data']\n",
    "df_trades = df_trades[df_trades['filename'] != os.path.basename(globbed_files[0])]\n",
    "df_trades.head()"
   ]
  },
  {
   "cell_type": "code",
   "execution_count": 15,
   "metadata": {},
   "outputs": [
    {
     "output_type": "execute_result",
     "data": {
      "text/plain": [
       "     Open Positions Header DataDiscriminator Asset Category Currency Symbol  \\\n",
       "281  Open Positions   Data           Summary         Stocks      USD   AAPL   \n",
       "282  Open Positions   Data           Summary         Stocks      USD    ABC   \n",
       "283  Open Positions   Data           Summary         Stocks      USD    ABX   \n",
       "284  Open Positions   Data           Summary         Stocks      USD    AER   \n",
       "285  Open Positions   Data           Summary         Stocks      USD    AGN   \n",
       "\n",
       "    Quantity Mult     Cost Price     Cost Basis Close Price   Value  \\\n",
       "281      250    1  133.357786144   33339.446536      105.26   26315   \n",
       "282      500    1  100.714796258   50357.398129      103.71   51855   \n",
       "283    -2000    1    6.424273331  -12848.546663        7.38  -14760   \n",
       "284      600    1    46.97212004   28183.272024       43.16   25896   \n",
       "285       40    1    316.4487488   12657.949952       312.5   12500   \n",
       "\n",
       "    Unrealized P/L Code                                           filename  \n",
       "281   -7024.446536  NaN  F1056881_U1060261_20150102_20151231_AS_Fv2_6ea...  \n",
       "282    1497.601871  NaN  F1056881_U1060261_20150102_20151231_AS_Fv2_6ea...  \n",
       "283   -1911.453337  NaN  F1056881_U1060261_20150102_20151231_AS_Fv2_6ea...  \n",
       "284   -2287.272024  NaN  F1056881_U1060261_20150102_20151231_AS_Fv2_6ea...  \n",
       "285    -157.949952  NaN  F1056881_U1060261_20150102_20151231_AS_Fv2_6ea...  "
      ],
      "text/html": "<div>\n<style scoped>\n    .dataframe tbody tr th:only-of-type {\n        vertical-align: middle;\n    }\n\n    .dataframe tbody tr th {\n        vertical-align: top;\n    }\n\n    .dataframe thead th {\n        text-align: right;\n    }\n</style>\n<table border=\"1\" class=\"dataframe\">\n  <thead>\n    <tr style=\"text-align: right;\">\n      <th></th>\n      <th>Open Positions</th>\n      <th>Header</th>\n      <th>DataDiscriminator</th>\n      <th>Asset Category</th>\n      <th>Currency</th>\n      <th>Symbol</th>\n      <th>Quantity</th>\n      <th>Mult</th>\n      <th>Cost Price</th>\n      <th>Cost Basis</th>\n      <th>Close Price</th>\n      <th>Value</th>\n      <th>Unrealized P/L</th>\n      <th>Code</th>\n      <th>filename</th>\n    </tr>\n  </thead>\n  <tbody>\n    <tr>\n      <th>281</th>\n      <td>Open Positions</td>\n      <td>Data</td>\n      <td>Summary</td>\n      <td>Stocks</td>\n      <td>USD</td>\n      <td>AAPL</td>\n      <td>250</td>\n      <td>1</td>\n      <td>133.357786144</td>\n      <td>33339.446536</td>\n      <td>105.26</td>\n      <td>26315</td>\n      <td>-7024.446536</td>\n      <td>NaN</td>\n      <td>F1056881_U1060261_20150102_20151231_AS_Fv2_6ea...</td>\n    </tr>\n    <tr>\n      <th>282</th>\n      <td>Open Positions</td>\n      <td>Data</td>\n      <td>Summary</td>\n      <td>Stocks</td>\n      <td>USD</td>\n      <td>ABC</td>\n      <td>500</td>\n      <td>1</td>\n      <td>100.714796258</td>\n      <td>50357.398129</td>\n      <td>103.71</td>\n      <td>51855</td>\n      <td>1497.601871</td>\n      <td>NaN</td>\n      <td>F1056881_U1060261_20150102_20151231_AS_Fv2_6ea...</td>\n    </tr>\n    <tr>\n      <th>283</th>\n      <td>Open Positions</td>\n      <td>Data</td>\n      <td>Summary</td>\n      <td>Stocks</td>\n      <td>USD</td>\n      <td>ABX</td>\n      <td>-2000</td>\n      <td>1</td>\n      <td>6.424273331</td>\n      <td>-12848.546663</td>\n      <td>7.38</td>\n      <td>-14760</td>\n      <td>-1911.453337</td>\n      <td>NaN</td>\n      <td>F1056881_U1060261_20150102_20151231_AS_Fv2_6ea...</td>\n    </tr>\n    <tr>\n      <th>284</th>\n      <td>Open Positions</td>\n      <td>Data</td>\n      <td>Summary</td>\n      <td>Stocks</td>\n      <td>USD</td>\n      <td>AER</td>\n      <td>600</td>\n      <td>1</td>\n      <td>46.97212004</td>\n      <td>28183.272024</td>\n      <td>43.16</td>\n      <td>25896</td>\n      <td>-2287.272024</td>\n      <td>NaN</td>\n      <td>F1056881_U1060261_20150102_20151231_AS_Fv2_6ea...</td>\n    </tr>\n    <tr>\n      <th>285</th>\n      <td>Open Positions</td>\n      <td>Data</td>\n      <td>Summary</td>\n      <td>Stocks</td>\n      <td>USD</td>\n      <td>AGN</td>\n      <td>40</td>\n      <td>1</td>\n      <td>316.4487488</td>\n      <td>12657.949952</td>\n      <td>312.5</td>\n      <td>12500</td>\n      <td>-157.949952</td>\n      <td>NaN</td>\n      <td>F1056881_U1060261_20150102_20151231_AS_Fv2_6ea...</td>\n    </tr>\n  </tbody>\n</table>\n</div>"
     },
     "metadata": {},
     "execution_count": 15
    }
   ],
   "source": [
    "# create initial portfolio based on first activity file\n",
    "df_port_init = df_raw[df_raw[0]=='Open Positions']\n",
    "df_port_init.columns  = df_port_init.iloc[0,:]\n",
    "df_port_init = df_port_init[df_port_init['Header'] == 'Data']\n",
    "df_port_init.columns = [*df_port_init.columns[:-1], 'filename']\n",
    "cols = df_port_init.columns[~df_port_init.columns.isin([np.nan])]\n",
    "df_port_init = df_port_init[cols]\n",
    "\n",
    "df_port_init = df_port_init[df_port_init['filename'] == os.path.basename(globbed_files[0])]\n",
    "\n",
    "df_port_init.head()\n"
   ]
  },
  {
   "cell_type": "code",
   "execution_count": 16,
   "metadata": {},
   "outputs": [
    {
     "output_type": "execute_result",
     "data": {
      "text/plain": [
       "        DATE ACTION CONTRACT QTYCHG     PRICE        TIME UNNAMED: 6  \\\n",
       "4  5/30/2012    BOT      AIG    500   $29.70   1:30:19 PM        NaN   \n",
       "5  5/30/2012    BOT     AAPL     12  $569.32   1:36:31 PM        NaN   \n",
       "6  5/30/2012    SLD      KGC     76    $7.87   1:56:01 PM        NaN   \n",
       "7  5/30/2012    SLD      KGC    100    $7.87   1:56:01 PM        NaN   \n",
       "8  5/30/2012    SLD      KGC    224    $7.87   1:56:01 PM        NaN   \n",
       "\n",
       "   COMMISSION UNNAMED: 8 CASH CHG (PNL)  ... DAYSTOFYEND FYEPSNXT  \\\n",
       "4         2.5        NaN   ($14,852.50)  ...         NaN      NaN   \n",
       "5         1.0        NaN    ($6,832.84)  ...         NaN      NaN   \n",
       "6         1.0        NaN       $597.12   ...         NaN      NaN   \n",
       "7         0.0        NaN       $787.00   ...         NaN      NaN   \n",
       "8         1.0        NaN     $1,761.88   ...         NaN      NaN   \n",
       "\n",
       "   GROWTH*0.5TO0.75 ROIC (BW ROA ROE) IMPLIED P/E YEARS TO NORMALIZATION  \\\n",
       "4               NaN               NaN         NaN                    NaN   \n",
       "5               NaN               NaN         NaN                    NaN   \n",
       "6               NaN               NaN         NaN                    NaN   \n",
       "7               NaN               NaN         NaN                    NaN   \n",
       "8               NaN               NaN         NaN                    NaN   \n",
       "\n",
       "  LASTUPDATED CATEGORY COMMENTS.1                    FILENAME  \n",
       "4         NaN      NaN        NaN  PCM-Tracking - LogHist.csv  \n",
       "5         NaN      NaN        NaN  PCM-Tracking - LogHist.csv  \n",
       "6         NaN      NaN        NaN  PCM-Tracking - LogHist.csv  \n",
       "7         NaN      NaN        NaN  PCM-Tracking - LogHist.csv  \n",
       "8         NaN      NaN        NaN  PCM-Tracking - LogHist.csv  \n",
       "\n",
       "[5 rows x 35 columns]"
      ],
      "text/html": "<div>\n<style scoped>\n    .dataframe tbody tr th:only-of-type {\n        vertical-align: middle;\n    }\n\n    .dataframe tbody tr th {\n        vertical-align: top;\n    }\n\n    .dataframe thead th {\n        text-align: right;\n    }\n</style>\n<table border=\"1\" class=\"dataframe\">\n  <thead>\n    <tr style=\"text-align: right;\">\n      <th></th>\n      <th>DATE</th>\n      <th>ACTION</th>\n      <th>CONTRACT</th>\n      <th>QTYCHG</th>\n      <th>PRICE</th>\n      <th>TIME</th>\n      <th>UNNAMED: 6</th>\n      <th>COMMISSION</th>\n      <th>UNNAMED: 8</th>\n      <th>CASH CHG (PNL)</th>\n      <th>...</th>\n      <th>DAYSTOFYEND</th>\n      <th>FYEPSNXT</th>\n      <th>GROWTH*0.5TO0.75</th>\n      <th>ROIC (BW ROA ROE)</th>\n      <th>IMPLIED P/E</th>\n      <th>YEARS TO NORMALIZATION</th>\n      <th>LASTUPDATED</th>\n      <th>CATEGORY</th>\n      <th>COMMENTS.1</th>\n      <th>FILENAME</th>\n    </tr>\n  </thead>\n  <tbody>\n    <tr>\n      <th>4</th>\n      <td>5/30/2012</td>\n      <td>BOT</td>\n      <td>AIG</td>\n      <td>500</td>\n      <td>$29.70</td>\n      <td>1:30:19 PM</td>\n      <td>NaN</td>\n      <td>2.5</td>\n      <td>NaN</td>\n      <td>($14,852.50)</td>\n      <td>...</td>\n      <td>NaN</td>\n      <td>NaN</td>\n      <td>NaN</td>\n      <td>NaN</td>\n      <td>NaN</td>\n      <td>NaN</td>\n      <td>NaN</td>\n      <td>NaN</td>\n      <td>NaN</td>\n      <td>PCM-Tracking - LogHist.csv</td>\n    </tr>\n    <tr>\n      <th>5</th>\n      <td>5/30/2012</td>\n      <td>BOT</td>\n      <td>AAPL</td>\n      <td>12</td>\n      <td>$569.32</td>\n      <td>1:36:31 PM</td>\n      <td>NaN</td>\n      <td>1.0</td>\n      <td>NaN</td>\n      <td>($6,832.84)</td>\n      <td>...</td>\n      <td>NaN</td>\n      <td>NaN</td>\n      <td>NaN</td>\n      <td>NaN</td>\n      <td>NaN</td>\n      <td>NaN</td>\n      <td>NaN</td>\n      <td>NaN</td>\n      <td>NaN</td>\n      <td>PCM-Tracking - LogHist.csv</td>\n    </tr>\n    <tr>\n      <th>6</th>\n      <td>5/30/2012</td>\n      <td>SLD</td>\n      <td>KGC</td>\n      <td>76</td>\n      <td>$7.87</td>\n      <td>1:56:01 PM</td>\n      <td>NaN</td>\n      <td>1.0</td>\n      <td>NaN</td>\n      <td>$597.12</td>\n      <td>...</td>\n      <td>NaN</td>\n      <td>NaN</td>\n      <td>NaN</td>\n      <td>NaN</td>\n      <td>NaN</td>\n      <td>NaN</td>\n      <td>NaN</td>\n      <td>NaN</td>\n      <td>NaN</td>\n      <td>PCM-Tracking - LogHist.csv</td>\n    </tr>\n    <tr>\n      <th>7</th>\n      <td>5/30/2012</td>\n      <td>SLD</td>\n      <td>KGC</td>\n      <td>100</td>\n      <td>$7.87</td>\n      <td>1:56:01 PM</td>\n      <td>NaN</td>\n      <td>0.0</td>\n      <td>NaN</td>\n      <td>$787.00</td>\n      <td>...</td>\n      <td>NaN</td>\n      <td>NaN</td>\n      <td>NaN</td>\n      <td>NaN</td>\n      <td>NaN</td>\n      <td>NaN</td>\n      <td>NaN</td>\n      <td>NaN</td>\n      <td>NaN</td>\n      <td>PCM-Tracking - LogHist.csv</td>\n    </tr>\n    <tr>\n      <th>8</th>\n      <td>5/30/2012</td>\n      <td>SLD</td>\n      <td>KGC</td>\n      <td>224</td>\n      <td>$7.87</td>\n      <td>1:56:01 PM</td>\n      <td>NaN</td>\n      <td>1.0</td>\n      <td>NaN</td>\n      <td>$1,761.88</td>\n      <td>...</td>\n      <td>NaN</td>\n      <td>NaN</td>\n      <td>NaN</td>\n      <td>NaN</td>\n      <td>NaN</td>\n      <td>NaN</td>\n      <td>NaN</td>\n      <td>NaN</td>\n      <td>NaN</td>\n      <td>PCM-Tracking - LogHist.csv</td>\n    </tr>\n  </tbody>\n</table>\n<p>5 rows × 35 columns</p>\n</div>"
     },
     "metadata": {},
     "execution_count": 16
    }
   ],
   "source": [
    "# clean attribute columns\n",
    "\n",
    "col_dict_attr = {\n",
    "    'DATE' : 'DATE',\n",
    "    'CONTRACT' : 'CONTRACT',\n",
    "    'TIME':'TIME',\n",
    "    'ACTION':'ACTION',\n",
    "    'PRICE':'PRICE',\n",
    "    'QTYCHG':'QTYCHG',\n",
    "    'COMMISSION':'COMMISSION',\n",
    "    \n",
    "    'PCTRETURN': 'PCTRETURN',\n",
    "}\n",
    "\n",
    "df_clean_attr = df_raw_attr.copy(deep=True)\n",
    "df_clean_attr.columns = pd.Series(df_clean_attr.columns.astype(str).str.upper().str.strip())\n",
    "df_clean_attr.columns = pd.Series(df_clean_attr.columns).map(col_dict_attr)\\\n",
    "    .fillna(pd.Series(df_clean_attr.columns))\n",
    "\n",
    "df_clean_attr['ACTION'] = df_clean_attr['ACTION'].astype(str).str.strip()\n",
    "\n",
    "# pull out macro / non trades\n",
    "df_macro = df_clean_attr[~ df_clean_attr['ACTION'].astype(str).str.contains('BOT') & \n",
    "                      ~ df_clean_attr['ACTION'].astype(str).str.contains('SLD') &\n",
    "                      ~ df_clean_attr['ACTION'].astype(str).str.contains('END')\n",
    "                      ]\n",
    "                    \n",
    "df_clean_attr = df_clean_attr[ df_clean_attr['ACTION'].astype(str).str.contains('BOT') | \n",
    "                       df_clean_attr['ACTION'].astype(str).str.contains('SLD') |\n",
    "                       df_clean_attr['ACTION'].astype(str).str.contains('END')\n",
    "                        ]\n",
    "\n",
    "df_clean_attr.head()"
   ]
  },
  {
   "cell_type": "code",
   "execution_count": 17,
   "metadata": {},
   "outputs": [
    {
     "output_type": "execute_result",
     "data": {
      "text/plain": [
       "DATE                                    datetime64[ns]\n",
       "ACTION                                          object\n",
       "CONTRACT                                        object\n",
       "QTYCHG                                         float64\n",
       "PRICE                                          float64\n",
       "TIME                                            object\n",
       "UNNAMED: 6                                      object\n",
       "COMMISSION                                     float64\n",
       "UNNAMED: 8                                      object\n",
       "CASH CHG (PNL)                                  object\n",
       "COMMENTS                                        object\n",
       "PCTRETURN                                       object\n",
       "DETAILS                                        float64\n",
       "STARTDATE                                       object\n",
       "COMPANY NAME (IN ALPHABETICAL ORDER)            object\n",
       "TICKER                                          object\n",
       "STOP                                            object\n",
       "% TO STOP                                       object\n",
       "CURRENT PRICE                                   object\n",
       "% TO TARGET                                     object\n",
       "AT PRICE                                        object\n",
       "TARGET                                          object\n",
       "EPS1                                            object\n",
       "EPS2                                            object\n",
       "FYEND                                           object\n",
       "DAYSTOFYEND                                     object\n",
       "FYEPSNXT                                       float64\n",
       "GROWTH*0.5TO0.75                                object\n",
       "ROIC (BW ROA ROE)                               object\n",
       "IMPLIED P/E                                     object\n",
       "YEARS TO NORMALIZATION                         float64\n",
       "LASTUPDATED                                     object\n",
       "CATEGORY                                        object\n",
       "COMMENTS.1                                      object\n",
       "FILENAME                                        object\n",
       "dtype: object"
      ]
     },
     "metadata": {},
     "execution_count": 17
    }
   ],
   "source": [
    "# update data types for attr\n",
    "\n",
    "df_clean_attr['DATE'] = pd.to_datetime(df_clean_attr['DATE'],errors='coerce') \n",
    "numeric_cols = ['PRICE','COMMISSION','QTYCHG']\n",
    "for col in numeric_cols:\n",
    "    df_clean_attr[col] = (df_clean_attr[col].astype(str).str.strip()\n",
    "        .str.replace('$','').str.replace(',','').astype(float)\n",
    "        )\n",
    "\n",
    "# QA\n",
    "df_clean_attr.dtypes   \n"
   ]
  },
  {
   "cell_type": "code",
   "execution_count": 5,
   "metadata": {},
   "outputs": [],
   "source": [
    "# initialize pnl \n",
    "\n",
    "# create final pnl df\n",
    "final_cols =                                ['Date_Open', 'Quantity', 'Cost_Basis']\n",
    "df_complete_trades = pd.DataFrame(columns = final_cols)\n",
    "\n",
    "# create initial portfolio with key: contract name, \n",
    "# item is nested dictionary of qty, cost, date (last updated)\n",
    "portfolio_dict = {}\n",
    "for i, row in df_port_init.iterrows():\n",
    "    portfolio_dict[row['Symbol']] = [init_date, row['Quantity'],  row['Cost Basis']  ]\n",
    "    \n"
   ]
  },
  {
   "cell_type": "code",
   "execution_count": null,
   "metadata": {},
   "outputs": [],
   "source": [
    "# update pnl\n",
    "\n",
    "# for i, row in df_clean_attr.iterrows():\n",
    "#     if row['ACTION'].find('BOT'):        \n",
    "#         if row['CONTRACT'] in df_portfolio:\n",
    "#             # if positive position in portfolio, add to it\n",
    "#             # if df_portfolio[row['CONTRACT']] > 0:\n",
    "#             #     df_portfolio[row['CONTRACT']] = (row['PRICE'] * row['QTYCHG'] - row['COMMISSION']\n",
    "#             #                                     + row['CONTRACT']\n",
    "#             #                                     )\n",
    "#             # if negative position\n",
    "#             # else:\n",
    "#                 # pass\n",
    "#         # if not in portfolio, add to it\n",
    "#         else: \n",
    "#             df_portfolio[row['CONTRACT']] = {\n",
    "#                 'cost': row['PRICE'] * row['QTYCHG'] - row['COMMISSION']\n",
    "#             }\n",
    "#     elif row['ACTION'].find('SLD') | row['ACTION'].find('END'):\n",
    "#         if row['CONTRACT'] in df_portfolio:\n",
    "#             # df_portfolio[row['CONTRACT']] = (row['CONTRACT'] - (\n",
    "#             #     row['PRICE'] * row['QTYCHG'] - row['COMMISSION'])\n",
    "#             #                                  )\n",
    "#         else: \n",
    "#             # ignore errors for now\n",
    "#             pass\n",
    "    \n",
    "#     #QA\n",
    "#     # print(str(i) +  f'\\n' + str(row))\n",
    "#     if i > 100:\n",
    "#         break\n",
    "    "
   ]
  }
 ],
 "metadata": {
  "kernelspec": {
   "name": "python3",
   "display_name": "Python 3.8.6 64-bit ('P1-AnalyzeTrades-o_uAbzQN')",
   "metadata": {
    "interpreter": {
     "hash": "8c772cd6595bc58bacff0e4f92f2f709d31e36b5841886c2374e0ad37d3e15f4"
    }
   }
  },
  "language_info": {
   "codemirror_mode": {
    "name": "ipython",
    "version": 3
   },
   "file_extension": ".py",
   "mimetype": "text/x-python",
   "name": "python",
   "nbconvert_exporter": "python",
   "pygments_lexer": "ipython3",
   "version": "3.8.6-final"
  }
 },
 "nbformat": 4,
 "nbformat_minor": 4
}