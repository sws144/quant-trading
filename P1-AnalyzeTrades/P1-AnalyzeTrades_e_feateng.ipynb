{
 "cells": [
  {
   "cell_type": "markdown",
   "id": "e1d9e183",
   "metadata": {},
   "source": [
    "# E: Feature Engineering"
   ]
  },
  {
   "cell_type": "markdown",
   "id": "0334c4ff",
   "metadata": {},
   "source": [
    "## imports"
   ]
  },
  {
   "cell_type": "code",
   "execution_count": 1,
   "id": "95c96570",
   "metadata": {
    "ExecuteTime": {
     "end_time": "2022-07-24T14:59:50.460122Z",
     "start_time": "2022-07-24T14:59:48.104161Z"
    }
   },
   "outputs": [],
   "source": [
    "\n",
    "\n",
    "import pandas as pd\n",
    "import numpy as np\n",
    "\n",
    "# for na pipeline\n",
    "import warnings\n",
    "import sklearn\n",
    "from sklearn.compose import ColumnTransformer\n",
    "from sklearn.impute import SimpleImputer\n",
    "from sklearn.pipeline import Pipeline\n",
    "from sklearn.preprocessing import StandardScaler, OneHotEncoder\n",
    "from sklearn.base import TransformerMixin  # for custom transformers\n",
    "\n",
    "from joblib import dump, load"
   ]
  },
  {
   "cell_type": "markdown",
   "id": "2c33d684",
   "metadata": {},
   "source": [
    "## read in data"
   ]
  },
  {
   "cell_type": "code",
   "execution_count": 2,
   "id": "d6ccabda",
   "metadata": {
    "ExecuteTime": {
     "end_time": "2022-07-24T14:59:50.554124Z",
     "start_time": "2022-07-24T14:59:50.469128Z"
    },
    "lines_to_next_cell": 1
   },
   "outputs": [],
   "source": [
    "df_XY = pd.read_csv(\"output/c_resulttradewattr.csv\")"
   ]
  },
  {
   "cell_type": "code",
   "execution_count": 3,
   "id": "b447cd2d",
   "metadata": {
    "ExecuteTime": {
     "end_time": "2022-07-24T14:59:50.584125Z",
     "start_time": "2022-07-24T14:59:50.560124Z"
    }
   },
   "outputs": [],
   "source": [
    "##  get_feature_names function\n",
    "# https://johaupt.github.io/scikit-learn/tutorial/python/data%20processing/ml%20pipeline/model%20interpretation/columnTransformer_feature_names.html\n",
    "def get_feature_names(column_transformer):\n",
    "    \"\"\"Get feature names from all transformers.\n",
    "    Returns\n",
    "    -------\n",
    "    feature_names : list of strings\n",
    "        Names of the features produced by transform.\n",
    "    \"\"\"\n",
    "    # Remove the internal helper function\n",
    "    # check_is_fitted(column_transformer)\n",
    "\n",
    "    # Turn loopkup into function for better handling with pipeline later\n",
    "    def get_names(trans):\n",
    "        # >> Original get_feature_names() method\n",
    "        if trans == \"drop\" or (hasattr(column, \"__len__\") and not len(column)):\n",
    "            return []\n",
    "        if trans == \"passthrough\":\n",
    "            if hasattr(column_transformer, \"_df_columns\"):\n",
    "                if (not isinstance(column, slice)) and all(\n",
    "                    isinstance(col, str) for col in column\n",
    "                ):\n",
    "                    return column\n",
    "                else:\n",
    "                    return column_transformer._df_columns[column]\n",
    "            else:\n",
    "                indices = np.arange(column_transformer._n_features)\n",
    "                return [i for i in indices[column]]\n",
    "        if not hasattr(trans, \"get_feature_names\"):\n",
    "            # >>> Change: Return input column names if no method avaiable\n",
    "            # Turn error into a warning\n",
    "            warnings.warn(\n",
    "                \"Transformer %s (type %s) does not \"\n",
    "                \"provide get_feature_names. \"\n",
    "                \"Will return input column names if available\"\n",
    "                % (str(name), type(trans).__name__)\n",
    "            )\n",
    "            # For transformers without a get_features_names method, use the input\n",
    "            # names to the column transformer\n",
    "            if column is None:\n",
    "                return []\n",
    "            else:\n",
    "                return [f for f in column]\n",
    "\n",
    "        return [f for f in trans.get_feature_names()]\n",
    "\n",
    "    ### Start of processing\n",
    "    feature_names = []\n",
    "\n",
    "    # Allow transformers to be pipelines. Pipeline steps are named differently, so preprocessing is needed\n",
    "    if type(column_transformer) == sklearn.pipeline.Pipeline:\n",
    "        l_transformers = [\n",
    "            (name, trans, None) for step, name, trans in column_transformer._iter()\n",
    "        ]\n",
    "    else:\n",
    "        # For column transformers, follow the original method\n",
    "        l_transformers = column_transformer.transformers_\n",
    "\n",
    "    for name, trans, column in l_transformers:\n",
    "        if type(trans) == sklearn.pipeline.Pipeline:\n",
    "            # Recursive call on pipeline\n",
    "            _names = get_feature_names(trans)\n",
    "            # if pipeline has no transformer that returns names\n",
    "            if len(_names) == 0:\n",
    "                _names = [f for f in column]\n",
    "            feature_names.extend(_names)\n",
    "        else:\n",
    "            feature_names.extend(get_names(trans))\n",
    "\n",
    "    return feature_names"
   ]
  },
  {
   "cell_type": "markdown",
   "id": "5c8a0007",
   "metadata": {},
   "source": [
    "## custom transformers"
   ]
  },
  {
   "cell_type": "code",
   "execution_count": 4,
   "id": "3331ab60",
   "metadata": {
    "ExecuteTime": {
     "end_time": "2022-07-24T14:59:50.616123Z",
     "start_time": "2022-07-24T14:59:50.591125Z"
    }
   },
   "outputs": [],
   "source": [
    "class Numerizer(TransformerMixin):\n",
    "    \"convert numbers and % to numbers as well\"\n",
    "    import pandas as pd\n",
    "    import numpy as np\n",
    "\n",
    "    def __init__(self):\n",
    "        pass\n",
    "\n",
    "    def fit(self, X, y=None):\n",
    "        return self\n",
    "\n",
    "    def transform(self, X):\n",
    "        \n",
    "#         Y = X.apply(pd.to_numeric, args=({\"errors\":\"coerce\"})).fillna(np.nan)\n",
    "\n",
    "        Y = X.apply((lambda x: (\n",
    "            pd.to_numeric(x.astype(str).str.replace(r'%', r'e-2'),errors='coerce')\n",
    "            )\n",
    "            )\n",
    "        )\n",
    "\n",
    "        return Y\n",
    "\n",
    "\n",
    "class StringTransformer(TransformerMixin):\n",
    "    import pandas as pd\n",
    "\n",
    "    def __init__(self):\n",
    "        pass\n",
    "\n",
    "    def fit(self, X, y=None):\n",
    "        return self\n",
    "\n",
    "    def transform(self, X):\n",
    "        Y = pd.DataFrame(X).astype(\"string\")\n",
    "        return Y"
   ]
  },
  {
   "cell_type": "markdown",
   "id": "73df66cb",
   "metadata": {},
   "source": [
    "## Add Weights"
   ]
  },
  {
   "cell_type": "code",
   "execution_count": 5,
   "id": "0c1ba452",
   "metadata": {
    "ExecuteTime": {
     "end_time": "2022-07-24T14:59:50.647125Z",
     "start_time": "2022-07-24T14:59:50.620126Z"
    },
    "scrolled": true
   },
   "outputs": [],
   "source": [
    "df_XY['Age'] = df_XY['Open_Year'] - min(df_XY['Open_Year']-1)\n",
    "df_XY['Weight'] = 0.8 # hyperparam for exponential weighting\n",
    "df_XY['Weight'] = df_XY['Weight'].pow(df_XY['Age'],fill_value=0)"
   ]
  },
  {
   "cell_type": "code",
   "execution_count": 6,
   "id": "bd9e0fc9",
   "metadata": {
    "ExecuteTime": {
     "end_time": "2022-07-24T14:59:50.711127Z",
     "start_time": "2022-07-24T14:59:50.655125Z"
    }
   },
   "outputs": [
    {
     "data": {
      "text/plain": [
       "2    742\n",
       "6    417\n",
       "5    336\n",
       "7    214\n",
       "3    196\n",
       "4    104\n",
       "8     94\n",
       "1     86\n",
       "Name: Age, dtype: int64"
      ]
     },
     "execution_count": 6,
     "metadata": {},
     "output_type": "execute_result"
    }
   ],
   "source": [
    "df_XY['Age'].value_counts()"
   ]
  },
  {
   "cell_type": "code",
   "execution_count": 7,
   "id": "9edf7d76",
   "metadata": {
    "ExecuteTime": {
     "end_time": "2022-07-24T14:59:50.742126Z",
     "start_time": "2022-07-24T14:59:50.721133Z"
    }
   },
   "outputs": [
    {
     "data": {
      "text/plain": [
       "0.640000    742\n",
       "0.262144    417\n",
       "0.327680    336\n",
       "0.209715    214\n",
       "0.512000    196\n",
       "0.409600    104\n",
       "0.167772     94\n",
       "0.800000     86\n",
       "Name: Weight, dtype: int64"
      ]
     },
     "execution_count": 7,
     "metadata": {},
     "output_type": "execute_result"
    }
   ],
   "source": [
    "df_XY['Weight'].value_counts()"
   ]
  },
  {
   "cell_type": "markdown",
   "id": "5ddbf2ee",
   "metadata": {},
   "source": [
    "## create na pipeline"
   ]
  },
  {
   "cell_type": "code",
   "execution_count": 8,
   "id": "351d6bd5",
   "metadata": {
    "ExecuteTime": {
     "end_time": "2022-07-24T14:59:50.758124Z",
     "start_time": "2022-07-24T14:59:50.746122Z"
    },
    "scrolled": true
   },
   "outputs": [
    {
     "data": {
      "text/plain": [
       "Series([], Name: 0, dtype: object)"
      ]
     },
     "execution_count": 8,
     "metadata": {},
     "output_type": "execute_result"
    }
   ],
   "source": [
    "df_XY.loc[0,df_XY.columns.duplicated()]"
   ]
  },
  {
   "cell_type": "code",
   "execution_count": 9,
   "id": "ce3267dc",
   "metadata": {
    "ExecuteTime": {
     "end_time": "2022-07-24T14:59:50.804127Z",
     "start_time": "2022-07-24T14:59:50.762126Z"
    },
    "lines_to_next_cell": 2
   },
   "outputs": [],
   "source": [
    "# remove all nan columns\n",
    "df_XY = df_XY.dropna(axis=1, how='all')"
   ]
  },
  {
   "cell_type": "code",
   "execution_count": 10,
   "id": "da5d1dfc",
   "metadata": {
    "ExecuteTime": {
     "end_time": "2022-07-24T14:59:50.835125Z",
     "start_time": "2022-07-24T14:59:50.814123Z"
    }
   },
   "outputs": [
    {
     "data": {
      "text/plain": [
       "Index(['Unnamed: 0.2', 'Unnamed: 0.1', 'Unnamed: 0', 'Open_Date', 'Close_Date',\n",
       "       'Symbol', 'Quantity', 'Pnl', 'OpenAct', 'CloseAct', 'Open_Price',\n",
       "       'Close_Price', 'Comm_Tot', 'DATE', 'ACTION', 'QTYCHG', 'PRICE', 'TIME',\n",
       "       'UNNAMED: 6', 'COMMISSION', 'UNNAMED: 8', 'CASH CHG (PNL)', 'COMMENTS',\n",
       "       'PCTRETURN', 'STARTDATE', 'COMPANY NAME (IN ALPHABETICAL ORDER)',\n",
       "       'TICKER', 'STOP', '% TO STOP', 'CURRENT PRICE', '% TO TARGET',\n",
       "       'AT PRICE', 'TARGET', 'EPS1', 'EPS2', 'FYEND', 'DAYSTOFYEND',\n",
       "       'FYEPSNXT', 'GROWTH*0.5TO0.75', 'ROIC (BW ROA ROE)', 'TGT FWD P/E',\n",
       "       'YEARS TO NORMALIZATION', 'LASTUPDATED', 'CATEGORY', 'COMMENTS.1',\n",
       "       'FILENAME', 'DayOfWeek0Mon', 'Date_YahooFinance', 'Close_^GSPC',\n",
       "       'Close_^VIX', 'Open_Year', 'AAII_SENT_Date', 'AAII_SENT_Bullish',\n",
       "       'AAII_SENT_Neutral', 'AAII_SENT_Bearish', 'AAII_SENT_Total',\n",
       "       'AAII_SENT_Bullish8WeekMovAvg', 'AAII_SENT_BullBearSpread',\n",
       "       'AAII_SENT_BullishAverage', 'AAII_SENT_BullishAverage+StDev',\n",
       "       'AAII_SENT_BullishAverageStDev', 'AAII_SENT_S&P500WeeklyHigh',\n",
       "       'AAII_SENT_S&P500WeeklyLow', 'AAII_SENT_S&P500WeeklyClose', 'Date',\n",
       "       'Age', 'Weight'],\n",
       "      dtype='object')"
      ]
     },
     "execution_count": 10,
     "metadata": {},
     "output_type": "execute_result"
    }
   ],
   "source": [
    "df_XY.columns"
   ]
  },
  {
   "cell_type": "code",
   "execution_count": 11,
   "id": "54add40d",
   "metadata": {
    "ExecuteTime": {
     "end_time": "2022-07-24T14:59:51.433125Z",
     "start_time": "2022-07-24T14:59:50.838125Z"
    },
    "lines_to_next_cell": 2
   },
   "outputs": [
    {
     "name": "stderr",
     "output_type": "stream",
     "text": [
      "C:\\Users\\SW\\AppData\\Local\\Temp\\ipykernel_19956\\1557959305.py:3: FutureWarning: The default value of regex will change from True to False in a future version. In addition, single character regular expressions will *not* be treated as literal strings when regex=True.\n",
      "  pd.Series(df_XY.columns)\n",
      "C:\\Users\\SW\\AppData\\Local\\Temp\\ipykernel_19956\\3465394604.py:32: UserWarning: Transformer numerizer (type Numerizer) does not provide get_feature_names. Will return input column names if available\n",
      "  warnings.warn(\n",
      "C:\\Users\\SW\\AppData\\Local\\Temp\\ipykernel_19956\\3465394604.py:32: UserWarning: Transformer imputer (type SimpleImputer) does not provide get_feature_names. Will return input column names if available\n",
      "  warnings.warn(\n",
      "C:\\Users\\SW\\AppData\\Local\\Temp\\ipykernel_19956\\3465394604.py:32: UserWarning: Transformer stringtransformer (type StringTransformer) does not provide get_feature_names. Will return input column names if available\n",
      "  warnings.warn(\n"
     ]
    }
   ],
   "source": [
    "# update columns headers to clean up\n",
    "df_XY.columns = list(\n",
    "    pd.Series(df_XY.columns)\n",
    "    .astype(str)\n",
    "    .str.replace(\" \", \"_\", regex=True)\n",
    "    .str.upper()\n",
    "    .str.strip()\n",
    "    .str.replace(\"/\", \"_\")\n",
    "    .str.replace(\"*\", \"_\")\n",
    ")\n",
    "\n",
    "# avoid duplicates\n",
    "df_XY = df_XY.loc[:,~df_XY.columns.duplicated()]\n",
    "\n",
    "# start with numeric, utilizng explore data before\n",
    "numeric_features = df_XY.convert_dtypes().select_dtypes(include=np.number).columns.tolist()\n",
    "numeric_features = numeric_features + [\n",
    "    \"%_TO_STOP\",\n",
    "    \"%_TO_TARGET\",\n",
    "    \"GROWTH_0.5TO0.75\",\n",
    "    \"ROIC_(BW_ROA_ROE)\",\n",
    "    \"TGT_FWD_P_E\",\n",
    "    \"YEARS_TO_NORMALIZATION\",\n",
    "]\n",
    "numeric_features = list(set(numeric_features))\n",
    "\n",
    "numeric_transformer = Pipeline(\n",
    "    steps=[\n",
    "        (\"numerizer\", Numerizer()),\n",
    "        (\"imputer\", SimpleImputer(missing_values=np.nan,strategy=\"median\")),\n",
    "    ]\n",
    ")\n",
    "categorical_transformer = Pipeline(\n",
    "    steps=[\n",
    "        (\"imputer\", SimpleImputer(strategy=\"constant\", fill_value=\"_NA_\")),\n",
    "        (\"stringtransformer\", StringTransformer()),\n",
    "    ]\n",
    ")\n",
    "\n",
    "# numerical\n",
    "\n",
    "# categorical_features = ['embarked', 'sex', 'pclass']\n",
    "# categorical_transformer = Pipeline(steps=[\n",
    "#     ('imputer', SimpleImputer(strategy='constant', fill_value='missing')),\n",
    "#     ('onehot', OneHotEncoder(handle_unknown='ignore'))])\n",
    "\n",
    "categorical_features = list(set(df_XY.columns).difference(set(numeric_features)))\n",
    "\n",
    "preprocessor_na = ColumnTransformer(\n",
    "    transformers=[\n",
    "        (\"num\", numeric_transformer, numeric_features),\n",
    "        (\"cat\", categorical_transformer, categorical_features),\n",
    "    ],\n",
    "    # remainder = 'passthrough' # not needed anymore\n",
    ")\n",
    "\n",
    "XY_imputed = preprocessor_na.fit_transform(df_XY)\n",
    "\n",
    "columns = get_feature_names(preprocessor_na)\n",
    "\n",
    "df_XY_imputed = pd.DataFrame(XY_imputed, columns=columns).convert_dtypes()"
   ]
  },
  {
   "cell_type": "code",
   "execution_count": 12,
   "id": "fa2f3cbb",
   "metadata": {
    "ExecuteTime": {
     "end_time": "2022-07-24T14:59:51.526126Z",
     "start_time": "2022-07-24T14:59:51.445126Z"
    }
   },
   "outputs": [
    {
     "data": {
      "text/html": [
       "<div>\n",
       "<style scoped>\n",
       "    .dataframe tbody tr th:only-of-type {\n",
       "        vertical-align: middle;\n",
       "    }\n",
       "\n",
       "    .dataframe tbody tr th {\n",
       "        vertical-align: top;\n",
       "    }\n",
       "\n",
       "    .dataframe thead th {\n",
       "        text-align: right;\n",
       "    }\n",
       "</style>\n",
       "<table border=\"1\" class=\"dataframe\">\n",
       "  <thead>\n",
       "    <tr style=\"text-align: right;\">\n",
       "      <th></th>\n",
       "      <th>CLOSE_^VIX</th>\n",
       "      <th>AAII_SENT_TOTAL</th>\n",
       "      <th>OPEN_YEAR</th>\n",
       "      <th>AAII_SENT_S&amp;P500WEEKLYLOW</th>\n",
       "      <th>CLOSE_^GSPC</th>\n",
       "      <th>OPEN_PRICE</th>\n",
       "      <th>AAII_SENT_S&amp;P500WEEKLYHIGH</th>\n",
       "      <th>TGT_FWD_P_E</th>\n",
       "      <th>AAII_SENT_BULLISHAVERAGE+STDEV</th>\n",
       "      <th>AAII_SENT_BULLISHAVERAGESTDEV</th>\n",
       "      <th>...</th>\n",
       "      <th>OPENACT</th>\n",
       "      <th>EPS1</th>\n",
       "      <th>AAII_SENT_DATE</th>\n",
       "      <th>COMMENTS.1</th>\n",
       "      <th>COMMENTS</th>\n",
       "      <th>SYMBOL</th>\n",
       "      <th>LASTUPDATED</th>\n",
       "      <th>CURRENT_PRICE</th>\n",
       "      <th>UNNAMED:_6</th>\n",
       "      <th>DATE</th>\n",
       "    </tr>\n",
       "  </thead>\n",
       "  <tbody>\n",
       "    <tr>\n",
       "      <th>0</th>\n",
       "      <td>18.23</td>\n",
       "      <td>1.0</td>\n",
       "      <td>2015</td>\n",
       "      <td>2056.32</td>\n",
       "      <td>2063.110107</td>\n",
       "      <td>46.97212</td>\n",
       "      <td>2128.03</td>\n",
       "      <td>28.46</td>\n",
       "      <td>0.480891</td>\n",
       "      <td>0.279599</td>\n",
       "      <td>...</td>\n",
       "      <td>B</td>\n",
       "      <td>_NA_</td>\n",
       "      <td>2015-07-02</td>\n",
       "      <td>_NA_</td>\n",
       "      <td>_NA_</td>\n",
       "      <td>AER</td>\n",
       "      <td>_NA_</td>\n",
       "      <td>_NA_</td>\n",
       "      <td>USD</td>\n",
       "      <td>2015-06-16</td>\n",
       "    </tr>\n",
       "    <tr>\n",
       "      <th>1</th>\n",
       "      <td>18.23</td>\n",
       "      <td>1.0</td>\n",
       "      <td>2015</td>\n",
       "      <td>2056.32</td>\n",
       "      <td>2063.110107</td>\n",
       "      <td>2.435028</td>\n",
       "      <td>2128.03</td>\n",
       "      <td>28.46</td>\n",
       "      <td>0.480891</td>\n",
       "      <td>0.279599</td>\n",
       "      <td>...</td>\n",
       "      <td>B</td>\n",
       "      <td>_NA_</td>\n",
       "      <td>2015-07-02</td>\n",
       "      <td>_NA_</td>\n",
       "      <td>_NA_</td>\n",
       "      <td>FMCC</td>\n",
       "      <td>_NA_</td>\n",
       "      <td>_NA_</td>\n",
       "      <td>USD</td>\n",
       "      <td>2015-04-16</td>\n",
       "    </tr>\n",
       "    <tr>\n",
       "      <th>2</th>\n",
       "      <td>18.23</td>\n",
       "      <td>1.0</td>\n",
       "      <td>2015</td>\n",
       "      <td>2056.32</td>\n",
       "      <td>2063.110107</td>\n",
       "      <td>96.065</td>\n",
       "      <td>2128.03</td>\n",
       "      <td>28.46</td>\n",
       "      <td>0.480891</td>\n",
       "      <td>0.279599</td>\n",
       "      <td>...</td>\n",
       "      <td>B</td>\n",
       "      <td>_NA_</td>\n",
       "      <td>2015-07-02</td>\n",
       "      <td>_NA_</td>\n",
       "      <td>_NA_</td>\n",
       "      <td>LYB</td>\n",
       "      <td>_NA_</td>\n",
       "      <td>_NA_</td>\n",
       "      <td>_NA_</td>\n",
       "      <td>_NA_</td>\n",
       "    </tr>\n",
       "    <tr>\n",
       "      <th>3</th>\n",
       "      <td>18.23</td>\n",
       "      <td>1.0</td>\n",
       "      <td>2015</td>\n",
       "      <td>2056.32</td>\n",
       "      <td>2063.110107</td>\n",
       "      <td>41.795663</td>\n",
       "      <td>2128.03</td>\n",
       "      <td>28.46</td>\n",
       "      <td>0.480891</td>\n",
       "      <td>0.279599</td>\n",
       "      <td>...</td>\n",
       "      <td>B</td>\n",
       "      <td>_NA_</td>\n",
       "      <td>2015-07-02</td>\n",
       "      <td>_NA_</td>\n",
       "      <td>_NA_</td>\n",
       "      <td>AWH</td>\n",
       "      <td>_NA_</td>\n",
       "      <td>_NA_</td>\n",
       "      <td>USD</td>\n",
       "      <td>2015-05-26</td>\n",
       "    </tr>\n",
       "    <tr>\n",
       "      <th>4</th>\n",
       "      <td>18.23</td>\n",
       "      <td>1.0</td>\n",
       "      <td>2015</td>\n",
       "      <td>2056.32</td>\n",
       "      <td>2063.110107</td>\n",
       "      <td>3.184507</td>\n",
       "      <td>2128.03</td>\n",
       "      <td>28.46</td>\n",
       "      <td>0.480891</td>\n",
       "      <td>0.279599</td>\n",
       "      <td>...</td>\n",
       "      <td>S</td>\n",
       "      <td>_NA_</td>\n",
       "      <td>2015-07-02</td>\n",
       "      <td>_NA_</td>\n",
       "      <td>_NA_</td>\n",
       "      <td>VALE</td>\n",
       "      <td>_NA_</td>\n",
       "      <td>_NA_</td>\n",
       "      <td>USD</td>\n",
       "      <td>2015-06-30</td>\n",
       "    </tr>\n",
       "  </tbody>\n",
       "</table>\n",
       "<p>5 rows × 66 columns</p>\n",
       "</div>"
      ],
      "text/plain": [
       "   CLOSE_^VIX  AAII_SENT_TOTAL  OPEN_YEAR  AAII_SENT_S&P500WEEKLYLOW  \\\n",
       "0       18.23              1.0       2015                    2056.32   \n",
       "1       18.23              1.0       2015                    2056.32   \n",
       "2       18.23              1.0       2015                    2056.32   \n",
       "3       18.23              1.0       2015                    2056.32   \n",
       "4       18.23              1.0       2015                    2056.32   \n",
       "\n",
       "   CLOSE_^GSPC  OPEN_PRICE  AAII_SENT_S&P500WEEKLYHIGH  TGT_FWD_P_E  \\\n",
       "0  2063.110107    46.97212                     2128.03        28.46   \n",
       "1  2063.110107    2.435028                     2128.03        28.46   \n",
       "2  2063.110107      96.065                     2128.03        28.46   \n",
       "3  2063.110107   41.795663                     2128.03        28.46   \n",
       "4  2063.110107    3.184507                     2128.03        28.46   \n",
       "\n",
       "   AAII_SENT_BULLISHAVERAGE+STDEV  AAII_SENT_BULLISHAVERAGESTDEV  ...  \\\n",
       "0                        0.480891                       0.279599  ...   \n",
       "1                        0.480891                       0.279599  ...   \n",
       "2                        0.480891                       0.279599  ...   \n",
       "3                        0.480891                       0.279599  ...   \n",
       "4                        0.480891                       0.279599  ...   \n",
       "\n",
       "   OPENACT  EPS1  AAII_SENT_DATE  COMMENTS.1  COMMENTS  SYMBOL  LASTUPDATED  \\\n",
       "0        B  _NA_      2015-07-02        _NA_      _NA_     AER         _NA_   \n",
       "1        B  _NA_      2015-07-02        _NA_      _NA_    FMCC         _NA_   \n",
       "2        B  _NA_      2015-07-02        _NA_      _NA_     LYB         _NA_   \n",
       "3        B  _NA_      2015-07-02        _NA_      _NA_     AWH         _NA_   \n",
       "4        S  _NA_      2015-07-02        _NA_      _NA_    VALE         _NA_   \n",
       "\n",
       "   CURRENT_PRICE  UNNAMED:_6        DATE  \n",
       "0           _NA_         USD  2015-06-16  \n",
       "1           _NA_         USD  2015-04-16  \n",
       "2           _NA_        _NA_        _NA_  \n",
       "3           _NA_         USD  2015-05-26  \n",
       "4           _NA_         USD  2015-06-30  \n",
       "\n",
       "[5 rows x 66 columns]"
      ]
     },
     "execution_count": 12,
     "metadata": {},
     "output_type": "execute_result"
    }
   ],
   "source": [
    "df_XY_imputed.head()"
   ]
  },
  {
   "cell_type": "code",
   "execution_count": 13,
   "id": "6560baf9",
   "metadata": {
    "ExecuteTime": {
     "end_time": "2022-07-24T14:59:51.557130Z",
     "start_time": "2022-07-24T14:59:51.532125Z"
    }
   },
   "outputs": [
    {
     "data": {
      "text/plain": [
       "Index(['CLOSE_^VIX', 'AAII_SENT_TOTAL', 'OPEN_YEAR',\n",
       "       'AAII_SENT_S&P500WEEKLYLOW', 'CLOSE_^GSPC', 'OPEN_PRICE',\n",
       "       'AAII_SENT_S&P500WEEKLYHIGH', 'TGT_FWD_P_E',\n",
       "       'AAII_SENT_BULLISHAVERAGE+STDEV', 'AAII_SENT_BULLISHAVERAGESTDEV',\n",
       "       'WEIGHT', 'AAII_SENT_NEUTRAL', 'AAII_SENT_BULLISHAVERAGE',\n",
       "       'UNNAMED:_0.2', 'AAII_SENT_BULLISH8WEEKMOVAVG', 'COMMISSION',\n",
       "       'AAII_SENT_BULLBEARSPREAD', 'COMM_TOT', 'AAII_SENT_BULLISH', 'QTYCHG',\n",
       "       'AAII_SENT_BEARISH', 'DAYOFWEEK0MON', 'CLOSE_PRICE',\n",
       "       'AAII_SENT_S&P500WEEKLYCLOSE', 'UNNAMED:_0', 'QUANTITY',\n",
       "       'ROIC_(BW_ROA_ROE)', 'UNNAMED:_0.1', '%_TO_TARGET', 'AGE',\n",
       "       'GROWTH_0.5TO0.75', 'YEARS_TO_NORMALIZATION', '%_TO_STOP', 'PRICE',\n",
       "       'PNL', 'AT_PRICE', 'STOP', 'TIME', 'CASH_CHG_(PNL)', 'CLOSEACT',\n",
       "       'UNNAMED:_8', 'ACTION', 'CLOSE_DATE', 'PCTRETURN', 'TARGET', 'EPS2',\n",
       "       'OPEN_DATE', 'DAYSTOFYEND', 'CATEGORY',\n",
       "       'COMPANY_NAME_(IN_ALPHABETICAL_ORDER)', 'DATE_YAHOOFINANCE', 'TICKER',\n",
       "       'FILENAME', 'FYEPSNXT', 'STARTDATE', 'FYEND', 'OPENACT', 'EPS1',\n",
       "       'AAII_SENT_DATE', 'COMMENTS.1', 'COMMENTS', 'SYMBOL', 'LASTUPDATED',\n",
       "       'CURRENT_PRICE', 'UNNAMED:_6', 'DATE'],\n",
       "      dtype='object')"
      ]
     },
     "execution_count": 13,
     "metadata": {},
     "output_type": "execute_result"
    }
   ],
   "source": [
    "df_XY_imputed.columns"
   ]
  },
  {
   "cell_type": "code",
   "execution_count": 15,
   "id": "ef82b6dc",
   "metadata": {
    "ExecuteTime": {
     "end_time": "2022-07-24T14:59:58.077775Z",
     "start_time": "2022-07-24T14:59:56.777776Z"
    }
   },
   "outputs": [
    {
     "data": {
      "text/plain": [
       "<AxesSubplot:>"
      ]
     },
     "execution_count": 15,
     "metadata": {},
     "output_type": "execute_result"
    },
    {
     "data": {
      "image/png": "[encoded data removed]",
      "text/plain": [
       "<Figure size 432x288 with 1 Axes>"
      ]
     },
     "metadata": {
      "needs_background": "light"
     },
     "output_type": "display_data"
    }
   ],
   "source": [
    "# df_XY_imputed[\"%_TO_STOP\"].hist()"
   ]
  },
  {
   "cell_type": "code",
   "execution_count": null,
   "id": "bfa62f20",
   "metadata": {
    "ExecuteTime": {
     "end_time": "2022-07-24T00:45:05.446736Z",
     "start_time": "2022-07-24T00:45:05.446736Z"
    }
   },
   "outputs": [],
   "source": [
    "# create target\n",
    "\n",
    "df_XY_imputed[\"PCT_RET_FINAL\"] = df_XY_imputed[\"PNL\"] / (\n",
    "    df_XY_imputed[\"OPEN_PRICE\"] * df_XY_imputed[\"QUANTITY\"]\n",
    ")"
   ]
  },
  {
   "cell_type": "code",
   "execution_count": null,
   "id": "6f75aa8b",
   "metadata": {
    "ExecuteTime": {
     "end_time": "2022-07-24T00:45:05.447744Z",
     "start_time": "2022-07-24T00:45:05.447744Z"
    },
    "lines_to_next_cell": 2
   },
   "outputs": [],
   "source": [
    "# TODO create moving avg"
   ]
  },
  {
   "cell_type": "code",
   "execution_count": null,
   "id": "8179bfa2",
   "metadata": {
    "ExecuteTime": {
     "end_time": "2022-07-24T00:45:05.450736Z",
     "start_time": "2022-07-24T00:45:05.450736Z"
    }
   },
   "outputs": [],
   "source": [
    "# Final columns\n",
    "\n",
    "print(df_XY_imputed.columns)"
   ]
  },
  {
   "cell_type": "code",
   "execution_count": null,
   "id": "925b9084",
   "metadata": {
    "ExecuteTime": {
     "end_time": "2022-07-24T00:45:05.451735Z",
     "start_time": "2022-07-24T00:45:05.451735Z"
    }
   },
   "outputs": [],
   "source": [
    "## check no na's left in numerical\n",
    "\n",
    "try:\n",
    "    assert (\n",
    "        df_XY_imputed[numeric_features].isna().sum().sum() == 0\n",
    "    ), \"NAs remain in numerical\"\n",
    "except:\n",
    "    print(\"NAs remain in numerical\")"
   ]
  },
  {
   "cell_type": "markdown",
   "id": "ad761e04",
   "metadata": {},
   "source": [
    "## API Spec"
   ]
  },
  {
   "cell_type": "code",
   "execution_count": null,
   "id": "d620b42a",
   "metadata": {
    "ExecuteTime": {
     "end_time": "2022-07-24T00:45:05.453736Z",
     "start_time": "2022-07-24T00:45:05.453736Z"
    },
    "lines_to_next_cell": 2
   },
   "outputs": [],
   "source": [
    "## import api spec\n",
    "\n",
    "import yaml\n",
    "from yaml import Loader\n",
    "\n",
    "with open(\"data-tests/_apispecs.yaml\") as f:\n",
    "    api_specs = yaml.load(f, Loader=Loader)"
   ]
  },
  {
   "cell_type": "code",
   "execution_count": null,
   "id": "d6570cbd",
   "metadata": {
    "ExecuteTime": {
     "end_time": "2022-07-24T00:45:05.455740Z",
     "start_time": "2022-07-24T00:45:05.455740Z"
    }
   },
   "outputs": [],
   "source": [
    "## validate based on api spec\n",
    "\n",
    "from openapi_schema_validator import validate\n",
    "import json\n",
    "\n",
    "schema = api_specs[\"components\"][\"schemas\"][\"Tradelog\"]\n",
    "\n",
    "json_str = df_XY_imputed.to_json(orient=\"records\")\n",
    "json_test = json.loads(json_str)\n",
    "\n",
    "i = 0\n",
    "for row in json_test:\n",
    "    try:\n",
    "        validate(row, schema)\n",
    "    except:\n",
    "        print(f\"failed on {i}th row \")\n",
    "        break\n",
    "    i = i + 1\n",
    "\n",
    "print(\"validation completed\")"
   ]
  },
  {
   "cell_type": "code",
   "execution_count": null,
   "id": "72f92a7e",
   "metadata": {
    "ExecuteTime": {
     "end_time": "2022-07-24T00:45:05.458739Z",
     "start_time": "2022-07-24T00:45:05.458739Z"
    },
    "lines_to_next_cell": 2
   },
   "outputs": [],
   "source": [
    "## save api spec to html\n",
    "\n",
    "import os\n",
    "\n",
    "# feed yaml file to swagger python, then create api.html\n",
    "os.system(\n",
    "    \"python swagger_yaml_to_html.py < data-tests/_apispecs.yaml > templates/api.html\"\n",
    ")"
   ]
  },
  {
   "cell_type": "markdown",
   "id": "d6574f30",
   "metadata": {},
   "source": [
    "## Resort & Save Results"
   ]
  },
  {
   "cell_type": "code",
   "execution_count": null,
   "id": "d722f77c",
   "metadata": {
    "ExecuteTime": {
     "end_time": "2022-07-24T00:45:05.461778Z",
     "start_time": "2022-07-24T00:45:05.461778Z"
    }
   },
   "outputs": [],
   "source": [
    "df_XY_imputed = df_XY_imputed.reindex(sorted(df_XY_imputed.columns), axis=1)"
   ]
  },
  {
   "cell_type": "code",
   "execution_count": null,
   "id": "b01a7cf1",
   "metadata": {
    "ExecuteTime": {
     "end_time": "2022-07-24T00:45:05.464740Z",
     "start_time": "2022-07-24T00:45:05.464740Z"
    },
    "lines_to_next_cell": 2
   },
   "outputs": [],
   "source": [
    "## save results\n",
    "\n",
    "df_XY_imputed.to_csv(\"output/e_resultcleaned.csv\")"
   ]
  },
  {
   "cell_type": "code",
   "execution_count": null,
   "id": "c5d949fc",
   "metadata": {
    "ExecuteTime": {
     "end_time": "2022-07-24T00:45:05.466732Z",
     "start_time": "2022-07-24T00:45:05.466732Z"
    }
   },
   "outputs": [],
   "source": [
    "## save imputer\n",
    "\n",
    "dump(preprocessor_na, \"output/e_preprocessor_na.joblib\")"
   ]
  },
  {
   "cell_type": "code",
   "execution_count": null,
   "id": "78a95beb",
   "metadata": {},
   "outputs": [],
   "source": []
  }
 ],
 "metadata": {
  "jupytext": {
   "cell_metadata_filter": "-all",
   "formats": "auto:percent,ipynb",
   "notebook_metadata_filter": "-all"
  },
  "kernelspec": {
   "display_name": "p1analyzetrades",
   "language": "python",
   "name": "p1analyzetrades"
  },
  "language_info": {
   "codemirror_mode": {
    "name": "ipython",
    "version": 3
   },
   "file_extension": ".py",
   "mimetype": "text/x-python",
   "name": "python",
   "nbconvert_exporter": "python",
   "pygments_lexer": "ipython3",
   "version": "3.9.10"
  },
  "toc": {
   "base_numbering": 1,
   "nav_menu": {},
   "number_sections": true,
   "sideBar": true,
   "skip_h1_title": false,
   "title_cell": "Table of Contents",
   "title_sidebar": "Contents",
   "toc_cell": false,
   "toc_position": {
    "height": "calc(100% - 180px)",
    "left": "10px",
    "top": "150px",
    "width": "384px"
   },
   "toc_section_display": true,
   "toc_window_display": true
  },
  "varInspector": {
   "cols": {
    "lenName": 16,
    "lenType": 16,
    "lenVar": 40
   },
   "kernels_config": {
    "python": {
     "delete_cmd_postfix": "",
     "delete_cmd_prefix": "del ",
     "library": "var_list.py",
     "varRefreshCmd": "print(var_dic_list())"
    },
    "r": {
     "delete_cmd_postfix": ") ",
     "delete_cmd_prefix": "rm(",
     "library": "var_list.r",
     "varRefreshCmd": "cat(var_dic_list()) "
    }
   },
   "types_to_exclude": [
    "module",
    "function",
    "builtin_function_or_method",
    "instance",
    "_Feature"
   ],
   "window_display": true
  }
 },
 "nbformat": 4,
 "nbformat_minor": 5
}
