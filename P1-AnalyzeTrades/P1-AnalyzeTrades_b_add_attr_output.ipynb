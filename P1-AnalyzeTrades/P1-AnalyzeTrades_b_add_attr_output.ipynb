{
 "cells": [
  {
   "cell_type": "markdown",
   "id": "5f893565",
   "metadata": {
    "papermill": {
     "duration": 0.002991,
     "end_time": "2023-12-10T20:46:46.969956",
     "exception": false,
     "start_time": "2023-12-10T20:46:46.966965",
     "status": "completed"
    },
    "tags": []
   },
   "source": [
    " # add attributes to trade log\n",
    " Design matrix is one record per row"
   ]
  },
  {
   "cell_type": "markdown",
   "id": "31b01896",
   "metadata": {
    "papermill": {
     "duration": 0.003987,
     "end_time": "2023-12-10T20:46:46.975935",
     "exception": false,
     "start_time": "2023-12-10T20:46:46.971948",
     "status": "completed"
    },
    "tags": []
   },
   "source": [
    "## imports"
   ]
  },
  {
   "cell_type": "code",
   "execution_count": 1,
   "id": "98f0ed81",
   "metadata": {
    "ExecuteTime": {
     "end_time": "2022-07-15T00:43:45.653303Z",
     "start_time": "2022-07-15T00:43:44.922340Z"
    },
    "execution": {
     "iopub.execute_input": "2023-12-10T20:46:46.983909Z",
     "iopub.status.busy": "2023-12-10T20:46:46.983909Z",
     "iopub.status.idle": "2023-12-10T20:46:47.247574Z",
     "shell.execute_reply": "2023-12-10T20:46:47.247574Z"
    },
    "papermill": {
     "duration": 0.268648,
     "end_time": "2023-12-10T20:46:47.248570",
     "exception": false,
     "start_time": "2023-12-10T20:46:46.979922",
     "status": "completed"
    },
    "tags": []
   },
   "outputs": [],
   "source": [
    "import pandas as pd\n",
    "import numpy as np # for np.nan\n",
    "import os # for path"
   ]
  },
  {
   "cell_type": "markdown",
   "id": "f70fc33f",
   "metadata": {
    "papermill": {
     "duration": 0.001993,
     "end_time": "2023-12-10T20:46:47.252565",
     "exception": false,
     "start_time": "2023-12-10T20:46:47.250572",
     "status": "completed"
    },
    "tags": []
   },
   "source": [
    "## INPUT ###"
   ]
  },
  {
   "cell_type": "code",
   "execution_count": 2,
   "id": "e70030de",
   "metadata": {
    "ExecuteTime": {
     "end_time": "2022-07-15T00:43:45.933305Z",
     "start_time": "2022-07-15T00:43:45.657326Z"
    },
    "execution": {
     "iopub.execute_input": "2023-12-10T20:46:47.256544Z",
     "iopub.status.busy": "2023-12-10T20:46:47.256544Z",
     "iopub.status.idle": "2023-12-10T20:46:47.341260Z",
     "shell.execute_reply": "2023-12-10T20:46:47.341260Z"
    },
    "lines_to_next_cell": 2,
    "papermill": {
     "duration": 0.087706,
     "end_time": "2023-12-10T20:46:47.342257",
     "exception": false,
     "start_time": "2023-12-10T20:46:47.254551",
     "status": "completed"
    },
    "tags": []
   },
   "outputs": [
    {
     "name": "stderr",
     "output_type": "stream",
     "text": [
      "C:\\Users\\Stanley\\AppData\\Local\\Temp\\ipykernel_36292\\1905578940.py:10: DtypeWarning: Columns (11,16,21,25,26,29) have mixed types. Specify dtype option on import or set low_memory=False.\n",
      "  df_raw_attr = pd.read_csv(attr_filename)\n",
      "C:\\Users\\Stanley\\AppData\\Local\\Temp\\ipykernel_36292\\1905578940.py:12: FutureWarning: The frame.append method is deprecated and will be removed from pandas in a future version. Use pandas.concat instead.\n",
      "  df_raw_attr = df_raw_attr.append(df_raw_attr)\n"
     ]
    }
   ],
   "source": [
    "# read in raw data\n",
    "\n",
    "\n",
    "# formatted tradelog\n",
    "trades_filename = 'output/a_completelog.csv'\n",
    "df_complete_trades = pd.read_csv(trades_filename)\n",
    "\n",
    "# attributes 1 from own log\n",
    "attr_filename = 'data/PCM-Tracking - LogHist.csv'\n",
    "df_raw_attr = pd.read_csv(attr_filename)\n",
    "df_raw_attr['filename'] = os.path.basename(attr_filename)\n",
    "df_raw_attr = df_raw_attr.append(df_raw_attr)\n",
    "\n",
    "# attributes 2 \n",
    "# TODO "
   ]
  },
  {
   "cell_type": "markdown",
   "id": "78e0cd6f",
   "metadata": {
    "papermill": {
     "duration": 0.001992,
     "end_time": "2023-12-10T20:46:47.346248",
     "exception": false,
     "start_time": "2023-12-10T20:46:47.344256",
     "status": "completed"
    },
    "tags": []
   },
   "source": [
    "## ensure date time for open for complete trades"
   ]
  },
  {
   "cell_type": "code",
   "execution_count": 3,
   "id": "0983d354",
   "metadata": {
    "ExecuteTime": {
     "end_time": "2022-07-15T00:43:45.965304Z",
     "start_time": "2022-07-15T00:43:45.939309Z"
    },
    "execution": {
     "iopub.execute_input": "2023-12-10T20:46:47.350231Z",
     "iopub.status.busy": "2023-12-10T20:46:47.350231Z",
     "iopub.status.idle": "2023-12-10T20:46:47.357207Z",
     "shell.execute_reply": "2023-12-10T20:46:47.357207Z"
    },
    "papermill": {
     "duration": 0.009967,
     "end_time": "2023-12-10T20:46:47.358204",
     "exception": false,
     "start_time": "2023-12-10T20:46:47.348237",
     "status": "completed"
    },
    "tags": []
   },
   "outputs": [],
   "source": [
    "df_complete_trades['Open_Date'] = pd.to_datetime(df_complete_trades['Open_Date'], errors='coerce')"
   ]
  },
  {
   "cell_type": "code",
   "execution_count": 4,
   "id": "6ba126a9",
   "metadata": {
    "ExecuteTime": {
     "end_time": "2022-07-15T00:43:46.012303Z",
     "start_time": "2022-07-15T00:43:45.971305Z"
    },
    "execution": {
     "iopub.execute_input": "2023-12-10T20:46:47.363613Z",
     "iopub.status.busy": "2023-12-10T20:46:47.363613Z",
     "iopub.status.idle": "2023-12-10T20:46:47.372587Z",
     "shell.execute_reply": "2023-12-10T20:46:47.372587Z"
    },
    "lines_to_next_cell": 2,
    "papermill": {
     "duration": 0.012391,
     "end_time": "2023-12-10T20:46:47.373584",
     "exception": false,
     "start_time": "2023-12-10T20:46:47.361193",
     "status": "completed"
    },
    "tags": []
   },
   "outputs": [
    {
     "data": {
      "text/plain": [
       "Unnamed: 0              int64\n",
       "Open_Date      datetime64[ns]\n",
       "Close_Date             object\n",
       "Symbol                 object\n",
       "Quantity              float64\n",
       "Pnl                   float64\n",
       "OpenAct                object\n",
       "CloseAct               object\n",
       "Open_Price            float64\n",
       "Close_Price           float64\n",
       "Comm_Tot              float64\n",
       "dtype: object"
      ]
     },
     "execution_count": 4,
     "metadata": {},
     "output_type": "execute_result"
    }
   ],
   "source": [
    "# check complete trades\n",
    "\n",
    "df_complete_trades.dtypes"
   ]
  },
  {
   "cell_type": "markdown",
   "id": "d6118fd7",
   "metadata": {
    "papermill": {
     "duration": 0.002989,
     "end_time": "2023-12-10T20:46:47.378566",
     "exception": false,
     "start_time": "2023-12-10T20:46:47.375577",
     "status": "completed"
    },
    "tags": []
   },
   "source": [
    "## clean attribute columns"
   ]
  },
  {
   "cell_type": "code",
   "execution_count": 5,
   "id": "5cf879e4",
   "metadata": {
    "ExecuteTime": {
     "end_time": "2022-07-15T00:43:46.280304Z",
     "start_time": "2022-07-15T00:43:46.014306Z"
    },
    "execution": {
     "iopub.execute_input": "2023-12-10T20:46:47.383550Z",
     "iopub.status.busy": "2023-12-10T20:46:47.383550Z",
     "iopub.status.idle": "2023-12-10T20:46:47.484213Z",
     "shell.execute_reply": "2023-12-10T20:46:47.484213Z"
    },
    "lines_to_next_cell": 2,
    "papermill": {
     "duration": 0.105646,
     "end_time": "2023-12-10T20:46:47.486207",
     "exception": false,
     "start_time": "2023-12-10T20:46:47.380561",
     "status": "completed"
    },
    "tags": []
   },
   "outputs": [
    {
     "data": {
      "text/html": [
       "<div>\n",
       "<style scoped>\n",
       "    .dataframe tbody tr th:only-of-type {\n",
       "        vertical-align: middle;\n",
       "    }\n",
       "\n",
       "    .dataframe tbody tr th {\n",
       "        vertical-align: top;\n",
       "    }\n",
       "\n",
       "    .dataframe thead th {\n",
       "        text-align: right;\n",
       "    }\n",
       "</style>\n",
       "<table border=\"1\" class=\"dataframe\">\n",
       "  <thead>\n",
       "    <tr style=\"text-align: right;\">\n",
       "      <th></th>\n",
       "      <th>DATE</th>\n",
       "      <th>ACTION</th>\n",
       "      <th>CONTRACT</th>\n",
       "      <th>QTYCHG</th>\n",
       "      <th>PRICE</th>\n",
       "      <th>TIME</th>\n",
       "      <th>UNNAMED: 6</th>\n",
       "      <th>COMMISSION</th>\n",
       "      <th>UNNAMED: 8</th>\n",
       "      <th>CASH CHG (PNL)</th>\n",
       "      <th>...</th>\n",
       "      <th>DAYSTOFYEND</th>\n",
       "      <th>FYEPSNXT</th>\n",
       "      <th>GROWTH*0.5TO0.75</th>\n",
       "      <th>ROIC (BW ROA ROE)</th>\n",
       "      <th>TGT FWD P/E</th>\n",
       "      <th>YEARS TO NORMALIZATION</th>\n",
       "      <th>LASTUPDATED</th>\n",
       "      <th>CATEGORY</th>\n",
       "      <th>COMMENTS.1</th>\n",
       "      <th>FILENAME</th>\n",
       "    </tr>\n",
       "  </thead>\n",
       "  <tbody>\n",
       "    <tr>\n",
       "      <th>4</th>\n",
       "      <td>5/30/2012</td>\n",
       "      <td>BOT</td>\n",
       "      <td>AIG</td>\n",
       "      <td>500</td>\n",
       "      <td>$29.70</td>\n",
       "      <td>1:30:19 PM</td>\n",
       "      <td>NaN</td>\n",
       "      <td>2.5</td>\n",
       "      <td>NaN</td>\n",
       "      <td>($14,852.50)</td>\n",
       "      <td>...</td>\n",
       "      <td>NaN</td>\n",
       "      <td>NaN</td>\n",
       "      <td>NaN</td>\n",
       "      <td>NaN</td>\n",
       "      <td>NaN</td>\n",
       "      <td>NaN</td>\n",
       "      <td>NaN</td>\n",
       "      <td>NaN</td>\n",
       "      <td>NaN</td>\n",
       "      <td>PCM-Tracking - LogHist.csv</td>\n",
       "    </tr>\n",
       "    <tr>\n",
       "      <th>5</th>\n",
       "      <td>5/30/2012</td>\n",
       "      <td>BOT</td>\n",
       "      <td>AAPL</td>\n",
       "      <td>12</td>\n",
       "      <td>$569.32</td>\n",
       "      <td>1:36:31 PM</td>\n",
       "      <td>NaN</td>\n",
       "      <td>1.0</td>\n",
       "      <td>NaN</td>\n",
       "      <td>($6,832.84)</td>\n",
       "      <td>...</td>\n",
       "      <td>NaN</td>\n",
       "      <td>NaN</td>\n",
       "      <td>NaN</td>\n",
       "      <td>NaN</td>\n",
       "      <td>NaN</td>\n",
       "      <td>NaN</td>\n",
       "      <td>NaN</td>\n",
       "      <td>Value</td>\n",
       "      <td>NaN</td>\n",
       "      <td>PCM-Tracking - LogHist.csv</td>\n",
       "    </tr>\n",
       "    <tr>\n",
       "      <th>6</th>\n",
       "      <td>5/30/2012</td>\n",
       "      <td>SLD</td>\n",
       "      <td>KGC</td>\n",
       "      <td>76</td>\n",
       "      <td>$7.87</td>\n",
       "      <td>1:56:01 PM</td>\n",
       "      <td>NaN</td>\n",
       "      <td>1.0</td>\n",
       "      <td>NaN</td>\n",
       "      <td>$597.12</td>\n",
       "      <td>...</td>\n",
       "      <td>NaN</td>\n",
       "      <td>NaN</td>\n",
       "      <td>NaN</td>\n",
       "      <td>NaN</td>\n",
       "      <td>NaN</td>\n",
       "      <td>NaN</td>\n",
       "      <td>NaN</td>\n",
       "      <td>NaN</td>\n",
       "      <td>NaN</td>\n",
       "      <td>PCM-Tracking - LogHist.csv</td>\n",
       "    </tr>\n",
       "    <tr>\n",
       "      <th>7</th>\n",
       "      <td>5/30/2012</td>\n",
       "      <td>SLD</td>\n",
       "      <td>KGC</td>\n",
       "      <td>100</td>\n",
       "      <td>$7.87</td>\n",
       "      <td>1:56:01 PM</td>\n",
       "      <td>NaN</td>\n",
       "      <td>0.0</td>\n",
       "      <td>NaN</td>\n",
       "      <td>$787.00</td>\n",
       "      <td>...</td>\n",
       "      <td>NaN</td>\n",
       "      <td>NaN</td>\n",
       "      <td>NaN</td>\n",
       "      <td>NaN</td>\n",
       "      <td>NaN</td>\n",
       "      <td>NaN</td>\n",
       "      <td>NaN</td>\n",
       "      <td>NaN</td>\n",
       "      <td>NaN</td>\n",
       "      <td>PCM-Tracking - LogHist.csv</td>\n",
       "    </tr>\n",
       "    <tr>\n",
       "      <th>8</th>\n",
       "      <td>5/30/2012</td>\n",
       "      <td>SLD</td>\n",
       "      <td>KGC</td>\n",
       "      <td>224</td>\n",
       "      <td>$7.87</td>\n",
       "      <td>1:56:01 PM</td>\n",
       "      <td>NaN</td>\n",
       "      <td>1.0</td>\n",
       "      <td>NaN</td>\n",
       "      <td>$1,761.88</td>\n",
       "      <td>...</td>\n",
       "      <td>NaN</td>\n",
       "      <td>NaN</td>\n",
       "      <td>NaN</td>\n",
       "      <td>NaN</td>\n",
       "      <td>NaN</td>\n",
       "      <td>NaN</td>\n",
       "      <td>NaN</td>\n",
       "      <td>NaN</td>\n",
       "      <td>NaN</td>\n",
       "      <td>PCM-Tracking - LogHist.csv</td>\n",
       "    </tr>\n",
       "  </tbody>\n",
       "</table>\n",
       "<p>5 rows × 35 columns</p>\n",
       "</div>"
      ],
      "text/plain": [
       "        DATE ACTION CONTRACT QTYCHG     PRICE        TIME UNNAMED: 6  \\\n",
       "4  5/30/2012    BOT      AIG    500   $29.70   1:30:19 PM        NaN   \n",
       "5  5/30/2012    BOT     AAPL     12  $569.32   1:36:31 PM        NaN   \n",
       "6  5/30/2012    SLD      KGC     76    $7.87   1:56:01 PM        NaN   \n",
       "7  5/30/2012    SLD      KGC    100    $7.87   1:56:01 PM        NaN   \n",
       "8  5/30/2012    SLD      KGC    224    $7.87   1:56:01 PM        NaN   \n",
       "\n",
       "   COMMISSION UNNAMED: 8 CASH CHG (PNL)  ... DAYSTOFYEND FYEPSNXT  \\\n",
       "4         2.5        NaN   ($14,852.50)  ...         NaN      NaN   \n",
       "5         1.0        NaN    ($6,832.84)  ...         NaN      NaN   \n",
       "6         1.0        NaN       $597.12   ...         NaN      NaN   \n",
       "7         0.0        NaN       $787.00   ...         NaN      NaN   \n",
       "8         1.0        NaN     $1,761.88   ...         NaN      NaN   \n",
       "\n",
       "   GROWTH*0.5TO0.75 ROIC (BW ROA ROE) TGT FWD P/E YEARS TO NORMALIZATION  \\\n",
       "4               NaN               NaN         NaN                    NaN   \n",
       "5               NaN               NaN         NaN                    NaN   \n",
       "6               NaN               NaN         NaN                    NaN   \n",
       "7               NaN               NaN         NaN                    NaN   \n",
       "8               NaN               NaN         NaN                    NaN   \n",
       "\n",
       "  LASTUPDATED CATEGORY COMMENTS.1                    FILENAME  \n",
       "4         NaN      NaN        NaN  PCM-Tracking - LogHist.csv  \n",
       "5         NaN    Value        NaN  PCM-Tracking - LogHist.csv  \n",
       "6         NaN      NaN        NaN  PCM-Tracking - LogHist.csv  \n",
       "7         NaN      NaN        NaN  PCM-Tracking - LogHist.csv  \n",
       "8         NaN      NaN        NaN  PCM-Tracking - LogHist.csv  \n",
       "\n",
       "[5 rows x 35 columns]"
      ]
     },
     "execution_count": 5,
     "metadata": {},
     "output_type": "execute_result"
    }
   ],
   "source": [
    "col_dict_attr = {\n",
    "    'DATE' : 'DATE',\n",
    "    'CONTRACT' : 'CONTRACT',\n",
    "    'TIME':'TIME',\n",
    "    'ACTION':'ACTION',\n",
    "    'PRICE':'PRICE',\n",
    "    'QTYCHG':'QTYCHG',\n",
    "    'COMMISSION':'COMMISSION',\n",
    "    \n",
    "    'PCTRETURN': 'PCTRETURN',\n",
    "}\n",
    "\n",
    "df_clean_attr = df_raw_attr.copy(deep=True)\n",
    "df_clean_attr.columns = pd.Series(df_clean_attr.columns.astype(str).str.upper().str.strip())\n",
    "df_clean_attr.columns = pd.Series(df_clean_attr.columns).map(col_dict_attr)    .fillna(pd.Series(df_clean_attr.columns))\n",
    "\n",
    "df_clean_attr['ACTION'] = df_clean_attr['ACTION'].astype(str).str.strip()\n",
    "\n",
    "# pull out macro / non trades\n",
    "df_macro = df_clean_attr[\n",
    "    ~ df_clean_attr['ACTION'].astype(str).str.contains('BOT') & \n",
    "    ~ df_clean_attr['ACTION'].astype(str).str.contains('SLD') &\n",
    "    ~ df_clean_attr['ACTION'].astype(str).str.contains('END')\n",
    "]\n",
    "                    \n",
    "df_clean_attr = df_clean_attr[ \n",
    "    df_clean_attr['ACTION'].astype(str).str.contains('BOT') | \n",
    "    df_clean_attr['ACTION'].astype(str).str.contains('SLD') |\n",
    "    df_clean_attr['ACTION'].astype(str).str.contains('END')\n",
    "]\n",
    "\n",
    "df_clean_attr.head()"
   ]
  },
  {
   "cell_type": "code",
   "execution_count": 6,
   "id": "3b4cc3ef",
   "metadata": {
    "ExecuteTime": {
     "end_time": "2022-07-15T00:43:46.498326Z",
     "start_time": "2022-07-15T00:43:46.287307Z"
    },
    "execution": {
     "iopub.execute_input": "2023-12-10T20:46:47.492187Z",
     "iopub.status.busy": "2023-12-10T20:46:47.492187Z",
     "iopub.status.idle": "2023-12-10T20:46:47.530990Z",
     "shell.execute_reply": "2023-12-10T20:46:47.530990Z"
    },
    "papermill": {
     "duration": 0.042817,
     "end_time": "2023-12-10T20:46:47.532014",
     "exception": false,
     "start_time": "2023-12-10T20:46:47.489197",
     "status": "completed"
    },
    "tags": []
   },
   "outputs": [
    {
     "name": "stderr",
     "output_type": "stream",
     "text": [
      "C:\\Users\\Stanley\\AppData\\Local\\Temp\\ipykernel_36292\\1376618256.py:7: FutureWarning: The default value of regex will change from True to False in a future version. In addition, single character regular expressions will *not* be treated as literal strings when regex=True.\n",
      "  df_clean_attr[col].astype(str).str.strip()\n"
     ]
    },
    {
     "data": {
      "text/plain": [
       "DATE                                    datetime64[ns]\n",
       "ACTION                                          object\n",
       "CONTRACT                                        object\n",
       "QTYCHG                                         float64\n",
       "PRICE                                          float64\n",
       "TIME                                            object\n",
       "UNNAMED: 6                                      object\n",
       "COMMISSION                                     float64\n",
       "UNNAMED: 8                                      object\n",
       "CASH CHG (PNL)                                  object\n",
       "COMMENTS                                        object\n",
       "PCTRETURN                                       object\n",
       "DETAILS                                        float64\n",
       "STARTDATE                                       object\n",
       "COMPANY NAME (IN ALPHABETICAL ORDER)            object\n",
       "TICKER                                          object\n",
       "STOP                                            object\n",
       "% TO STOP                                       object\n",
       "CURRENT PRICE                                   object\n",
       "% TO TARGET                                     object\n",
       "AT PRICE                                        object\n",
       "TARGET                                          object\n",
       "EPS1                                            object\n",
       "EPS2                                            object\n",
       "FYEND                                           object\n",
       "DAYSTOFYEND                                     object\n",
       "FYEPSNXT                                        object\n",
       "GROWTH*0.5TO0.75                                object\n",
       "ROIC (BW ROA ROE)                               object\n",
       "TGT FWD P/E                                     object\n",
       "YEARS TO NORMALIZATION                         float64\n",
       "LASTUPDATED                                     object\n",
       "CATEGORY                                        object\n",
       "COMMENTS.1                                      object\n",
       "FILENAME                                        object\n",
       "dtype: object"
      ]
     },
     "execution_count": 6,
     "metadata": {},
     "output_type": "execute_result"
    }
   ],
   "source": [
    "# update data types for attr\n",
    "\n",
    "df_clean_attr['DATE'] = pd.to_datetime(df_clean_attr['DATE'],errors='coerce') \n",
    "numeric_cols = ['PRICE','COMMISSION','QTYCHG']\n",
    "for col in numeric_cols:\n",
    "    df_clean_attr[col] = (\n",
    "        df_clean_attr[col].astype(str).str.strip()\n",
    "        .str.replace('$','').str.replace(',','').astype(float)\n",
    "    )\n",
    "\n",
    "# QA\n",
    "df_clean_attr.dtypes   "
   ]
  },
  {
   "cell_type": "markdown",
   "id": "5a5459fe",
   "metadata": {
    "papermill": {
     "duration": 0.002986,
     "end_time": "2023-12-10T20:46:47.536970",
     "exception": false,
     "start_time": "2023-12-10T20:46:47.533984",
     "status": "completed"
    },
    "tags": []
   },
   "source": [
    "## Create More Features"
   ]
  },
  {
   "cell_type": "code",
   "execution_count": 7,
   "id": "f111c894",
   "metadata": {
    "ExecuteTime": {
     "end_time": "2022-07-15T00:46:18.754658Z",
     "start_time": "2022-07-15T00:46:18.731659Z"
    },
    "execution": {
     "iopub.execute_input": "2023-12-10T20:46:47.541954Z",
     "iopub.status.busy": "2023-12-10T20:46:47.541954Z",
     "iopub.status.idle": "2023-12-10T20:46:47.546130Z",
     "shell.execute_reply": "2023-12-10T20:46:47.546130Z"
    },
    "papermill": {
     "duration": 0.008163,
     "end_time": "2023-12-10T20:46:47.547127",
     "exception": false,
     "start_time": "2023-12-10T20:46:47.538964",
     "status": "completed"
    },
    "tags": []
   },
   "outputs": [],
   "source": [
    "df_clean_attr['DayOfWeek0Mon'] = df_clean_attr['DATE'].dt.dayofweek"
   ]
  },
  {
   "cell_type": "markdown",
   "id": "9867cf7e",
   "metadata": {
    "papermill": {
     "duration": 0.001988,
     "end_time": "2023-12-10T20:46:47.552110",
     "exception": false,
     "start_time": "2023-12-10T20:46:47.550122",
     "status": "completed"
    },
    "tags": []
   },
   "source": [
    "## merge attr to completed trades"
   ]
  },
  {
   "cell_type": "code",
   "execution_count": 8,
   "id": "115792a8",
   "metadata": {
    "ExecuteTime": {
     "end_time": "2022-07-15T00:46:22.083653Z",
     "start_time": "2022-07-15T00:46:21.991654Z"
    },
    "execution": {
     "iopub.execute_input": "2023-12-10T20:46:47.557093Z",
     "iopub.status.busy": "2023-12-10T20:46:47.557093Z",
     "iopub.status.idle": "2023-12-10T20:46:47.578115Z",
     "shell.execute_reply": "2023-12-10T20:46:47.578115Z"
    },
    "lines_to_next_cell": 2,
    "papermill": {
     "duration": 0.025009,
     "end_time": "2023-12-10T20:46:47.579112",
     "exception": false,
     "start_time": "2023-12-10T20:46:47.554103",
     "status": "completed"
    },
    "tags": []
   },
   "outputs": [],
   "source": [
    "\n",
    "\n",
    "df_complete_trades = df_complete_trades.sort_values(['Open_Date']) \n",
    "df_clean_attr = df_clean_attr.sort_values(['DATE'])\n",
    "\n",
    "df_clean_attr = df_clean_attr.rename(columns={'CONTRACT':'Symbol'}) \n",
    "\n",
    "# get closeset match\n",
    "df_comptrade_wattr = pd.merge_asof(\n",
    "    df_complete_trades, df_clean_attr, by = 'Symbol', left_on=['Open_Date'], \n",
    "    right_on=['DATE'], suffixes=('','_a') \n",
    ")"
   ]
  },
  {
   "cell_type": "code",
   "execution_count": 9,
   "id": "63cd7025",
   "metadata": {
    "ExecuteTime": {
     "end_time": "2022-07-15T00:46:22.301661Z",
     "start_time": "2022-07-15T00:46:22.089661Z"
    },
    "execution": {
     "iopub.execute_input": "2023-12-10T20:46:47.585183Z",
     "iopub.status.busy": "2023-12-10T20:46:47.585183Z",
     "iopub.status.idle": "2023-12-10T20:46:47.624289Z",
     "shell.execute_reply": "2023-12-10T20:46:47.624289Z"
    },
    "lines_to_next_cell": 2,
    "papermill": {
     "duration": 0.043185,
     "end_time": "2023-12-10T20:46:47.625287",
     "exception": false,
     "start_time": "2023-12-10T20:46:47.582102",
     "status": "completed"
    },
    "tags": []
   },
   "outputs": [],
   "source": [
    "# save output\n",
    "\n",
    "df_comptrade_wattr.to_csv('output/b_completewattr.csv')"
   ]
  },
  {
   "cell_type": "code",
   "execution_count": null,
   "id": "2a043e36",
   "metadata": {
    "papermill": {
     "duration": 0.004984,
     "end_time": "2023-12-10T20:46:47.634257",
     "exception": false,
     "start_time": "2023-12-10T20:46:47.629273",
     "status": "completed"
    },
    "tags": []
   },
   "outputs": [],
   "source": []
  }
 ],
 "metadata": {
  "jupytext": {
   "cell_metadata_filter": "-all",
   "formats": "auto:percent,ipynb",
   "notebook_metadata_filter": "-all"
  },
  "kernelspec": {
   "display_name": "p1analyzetrades",
   "language": "python",
   "name": "p1analyzetrades"
  },
  "language_info": {
   "codemirror_mode": {
    "name": "ipython",
    "version": 3
   },
   "file_extension": ".py",
   "mimetype": "text/x-python",
   "name": "python",
   "nbconvert_exporter": "python",
   "pygments_lexer": "ipython3",
   "version": "3.9.13"
  },
  "papermill": {
   "default_parameters": {},
   "duration": 1.744275,
   "end_time": "2023-12-10T20:46:47.892040",
   "environment_variables": {},
   "exception": null,
   "input_path": "P1-AnalyzeTrades_b_add_attr.ipynb",
   "output_path": "P1-AnalyzeTrades_b_add_attr_output.ipynb",
   "parameters": {},
   "start_time": "2023-12-10T20:46:46.147765",
   "version": "2.5.0"
  },
  "toc": {
   "base_numbering": 1,
   "nav_menu": {},
   "number_sections": true,
   "sideBar": true,
   "skip_h1_title": false,
   "title_cell": "Table of Contents",
   "title_sidebar": "Contents",
   "toc_cell": false,
   "toc_position": {},
   "toc_section_display": true,
   "toc_window_display": true
  },
  "varInspector": {
   "cols": {
    "lenName": 16,
    "lenType": 16,
    "lenVar": 40
   },
   "kernels_config": {
    "python": {
     "delete_cmd_postfix": "",
     "delete_cmd_prefix": "del ",
     "library": "var_list.py",
     "varRefreshCmd": "print(var_dic_list())"
    },
    "r": {
     "delete_cmd_postfix": ") ",
     "delete_cmd_prefix": "rm(",
     "library": "var_list.r",
     "varRefreshCmd": "cat(var_dic_list()) "
    }
   },
   "types_to_exclude": [
    "module",
    "function",
    "builtin_function_or_method",
    "instance",
    "_Feature"
   ],
   "window_display": true
  }
 },
 "nbformat": 4,
 "nbformat_minor": 5
}