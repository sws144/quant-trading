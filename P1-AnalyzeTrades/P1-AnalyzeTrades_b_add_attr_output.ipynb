{
 "cells": [
  {
   "cell_type": "markdown",
   "id": "5f893565",
   "metadata": {
    "papermill": {
     "duration": 0.002853,
     "end_time": "2022-07-03T14:30:20.316085",
     "exception": false,
     "start_time": "2022-07-03T14:30:20.313232",
     "status": "completed"
    },
    "tags": []
   },
   "source": [
    " ## add attributes to trade log\n",
    " Design matrix is one record per row"
   ]
  },
  {
   "cell_type": "code",
   "execution_count": 1,
   "id": "98f0ed81",
   "metadata": {
    "execution": {
     "iopub.execute_input": "2022-07-03T14:30:20.325088Z",
     "iopub.status.busy": "2022-07-03T14:30:20.324093Z",
     "iopub.status.idle": "2022-07-03T14:30:21.037087Z",
     "shell.execute_reply": "2022-07-03T14:30:21.036094Z"
    },
    "papermill": {
     "duration": 0.719,
     "end_time": "2022-07-03T14:30:21.039085",
     "exception": false,
     "start_time": "2022-07-03T14:30:20.320085",
     "status": "completed"
    },
    "tags": []
   },
   "outputs": [],
   "source": [
    "# imports\n",
    "\n",
    "import pandas as pd\n",
    "import numpy as np # for np.nan\n",
    "import os # for path"
   ]
  },
  {
   "cell_type": "code",
   "execution_count": 2,
   "id": "e70030de",
   "metadata": {
    "execution": {
     "iopub.execute_input": "2022-07-03T14:30:21.049092Z",
     "iopub.status.busy": "2022-07-03T14:30:21.048089Z",
     "iopub.status.idle": "2022-07-03T14:30:21.357092Z",
     "shell.execute_reply": "2022-07-03T14:30:21.353092Z"
    },
    "lines_to_next_cell": 2,
    "papermill": {
     "duration": 0.322006,
     "end_time": "2022-07-03T14:30:21.365091",
     "exception": false,
     "start_time": "2022-07-03T14:30:21.043085",
     "status": "completed"
    },
    "tags": []
   },
   "outputs": [
    {
     "name": "stderr",
     "output_type": "stream",
     "text": [
      "C:\\Users\\SW\\AppData\\Local\\Temp\\ipykernel_85572\\1088501349.py:12: FutureWarning: The frame.append method is deprecated and will be removed from pandas in a future version. Use pandas.concat instead.\n",
      "  df_raw_attr = df_raw_attr.append(df_raw_attr)\n"
     ]
    }
   ],
   "source": [
    "# read in raw data\n",
    "### INPUT ###\n",
    "\n",
    "# formatted tradelog\n",
    "trades_filename = 'output/a_completelog.csv'\n",
    "df_complete_trades = pd.read_csv(trades_filename)\n",
    "\n",
    "# attributes 1 from own log\n",
    "attr_filename = 'data/PCM-Tracking - LogHist.csv'\n",
    "df_raw_attr = pd.read_csv(attr_filename)\n",
    "df_raw_attr['filename'] = os.path.basename(attr_filename)\n",
    "df_raw_attr = df_raw_attr.append(df_raw_attr)\n",
    "\n",
    "# attributes 2 \n",
    "# TODO "
   ]
  },
  {
   "cell_type": "code",
   "execution_count": 3,
   "id": "0983d354",
   "metadata": {
    "execution": {
     "iopub.execute_input": "2022-07-03T14:30:21.395096Z",
     "iopub.status.busy": "2022-07-03T14:30:21.393095Z",
     "iopub.status.idle": "2022-07-03T14:30:21.417089Z",
     "shell.execute_reply": "2022-07-03T14:30:21.416094Z"
    },
    "papermill": {
     "duration": 0.042995,
     "end_time": "2022-07-03T14:30:21.421088",
     "exception": false,
     "start_time": "2022-07-03T14:30:21.378093",
     "status": "completed"
    },
    "tags": []
   },
   "outputs": [],
   "source": [
    "# ensure date time for open for complete trades\n",
    "df_complete_trades['Open_Date'] = pd.to_datetime(df_complete_trades['Open_Date'], errors='coerce')"
   ]
  },
  {
   "cell_type": "code",
   "execution_count": 4,
   "id": "6ba126a9",
   "metadata": {
    "execution": {
     "iopub.execute_input": "2022-07-03T14:30:21.431088Z",
     "iopub.status.busy": "2022-07-03T14:30:21.431088Z",
     "iopub.status.idle": "2022-07-03T14:30:21.466092Z",
     "shell.execute_reply": "2022-07-03T14:30:21.463091Z"
    },
    "lines_to_next_cell": 2,
    "papermill": {
     "duration": 0.049009,
     "end_time": "2022-07-03T14:30:21.474094",
     "exception": false,
     "start_time": "2022-07-03T14:30:21.425085",
     "status": "completed"
    },
    "tags": []
   },
   "outputs": [
    {
     "data": {
      "text/plain": [
       "Unnamed: 0              int64\n",
       "Open_Date      datetime64[ns]\n",
       "Close_Date             object\n",
       "Symbol                 object\n",
       "Quantity              float64\n",
       "Pnl                   float64\n",
       "OpenAct                object\n",
       "CloseAct               object\n",
       "Open_Price            float64\n",
       "Close_Price           float64\n",
       "Comm_Tot              float64\n",
       "dtype: object"
      ]
     },
     "execution_count": 4,
     "metadata": {},
     "output_type": "execute_result"
    }
   ],
   "source": [
    "# check complete trades\n",
    "\n",
    "df_complete_trades.dtypes"
   ]
  },
  {
   "cell_type": "code",
   "execution_count": 5,
   "id": "5cf879e4",
   "metadata": {
    "execution": {
     "iopub.execute_input": "2022-07-03T14:30:21.501092Z",
     "iopub.status.busy": "2022-07-03T14:30:21.500092Z",
     "iopub.status.idle": "2022-07-03T14:30:21.712085Z",
     "shell.execute_reply": "2022-07-03T14:30:21.711097Z"
    },
    "lines_to_next_cell": 2,
    "papermill": {
     "duration": 0.227005,
     "end_time": "2022-07-03T14:30:21.716103",
     "exception": false,
     "start_time": "2022-07-03T14:30:21.489098",
     "status": "completed"
    },
    "tags": []
   },
   "outputs": [
    {
     "data": {
      "text/html": [
       "<div>\n",
       "<style scoped>\n",
       "    .dataframe tbody tr th:only-of-type {\n",
       "        vertical-align: middle;\n",
       "    }\n",
       "\n",
       "    .dataframe tbody tr th {\n",
       "        vertical-align: top;\n",
       "    }\n",
       "\n",
       "    .dataframe thead th {\n",
       "        text-align: right;\n",
       "    }\n",
       "</style>\n",
       "<table border=\"1\" class=\"dataframe\">\n",
       "  <thead>\n",
       "    <tr style=\"text-align: right;\">\n",
       "      <th></th>\n",
       "      <th>DATE</th>\n",
       "      <th>ACTION</th>\n",
       "      <th>CONTRACT</th>\n",
       "      <th>QTYCHG</th>\n",
       "      <th>PRICE</th>\n",
       "      <th>TIME</th>\n",
       "      <th>UNNAMED: 6</th>\n",
       "      <th>COMMISSION</th>\n",
       "      <th>UNNAMED: 8</th>\n",
       "      <th>CASH CHG (PNL)</th>\n",
       "      <th>...</th>\n",
       "      <th>DAYSTOFYEND</th>\n",
       "      <th>FYEPSNXT</th>\n",
       "      <th>GROWTH*0.5TO0.75</th>\n",
       "      <th>ROIC (BW ROA ROE)</th>\n",
       "      <th>TGT FWD P/E</th>\n",
       "      <th>YEARS TO NORMALIZATION</th>\n",
       "      <th>LASTUPDATED</th>\n",
       "      <th>CATEGORY</th>\n",
       "      <th>COMMENTS.1</th>\n",
       "      <th>FILENAME</th>\n",
       "    </tr>\n",
       "  </thead>\n",
       "  <tbody>\n",
       "    <tr>\n",
       "      <th>4</th>\n",
       "      <td>5/30/2012</td>\n",
       "      <td>BOT</td>\n",
       "      <td>AIG</td>\n",
       "      <td>500</td>\n",
       "      <td>$29.70</td>\n",
       "      <td>1:30:19 PM</td>\n",
       "      <td>NaN</td>\n",
       "      <td>2.5</td>\n",
       "      <td>NaN</td>\n",
       "      <td>($14,852.50)</td>\n",
       "      <td>...</td>\n",
       "      <td>NaN</td>\n",
       "      <td>NaN</td>\n",
       "      <td>NaN</td>\n",
       "      <td>NaN</td>\n",
       "      <td>NaN</td>\n",
       "      <td>NaN</td>\n",
       "      <td>NaN</td>\n",
       "      <td>NaN</td>\n",
       "      <td>NaN</td>\n",
       "      <td>PCM-Tracking - LogHist.csv</td>\n",
       "    </tr>\n",
       "    <tr>\n",
       "      <th>5</th>\n",
       "      <td>5/30/2012</td>\n",
       "      <td>BOT</td>\n",
       "      <td>AAPL</td>\n",
       "      <td>12</td>\n",
       "      <td>$569.32</td>\n",
       "      <td>1:36:31 PM</td>\n",
       "      <td>NaN</td>\n",
       "      <td>1.0</td>\n",
       "      <td>NaN</td>\n",
       "      <td>($6,832.84)</td>\n",
       "      <td>...</td>\n",
       "      <td>NaN</td>\n",
       "      <td>NaN</td>\n",
       "      <td>NaN</td>\n",
       "      <td>NaN</td>\n",
       "      <td>NaN</td>\n",
       "      <td>NaN</td>\n",
       "      <td>NaN</td>\n",
       "      <td>NaN</td>\n",
       "      <td>NaN</td>\n",
       "      <td>PCM-Tracking - LogHist.csv</td>\n",
       "    </tr>\n",
       "    <tr>\n",
       "      <th>6</th>\n",
       "      <td>5/30/2012</td>\n",
       "      <td>SLD</td>\n",
       "      <td>KGC</td>\n",
       "      <td>76</td>\n",
       "      <td>$7.87</td>\n",
       "      <td>1:56:01 PM</td>\n",
       "      <td>NaN</td>\n",
       "      <td>1.0</td>\n",
       "      <td>NaN</td>\n",
       "      <td>$597.12</td>\n",
       "      <td>...</td>\n",
       "      <td>NaN</td>\n",
       "      <td>NaN</td>\n",
       "      <td>NaN</td>\n",
       "      <td>NaN</td>\n",
       "      <td>NaN</td>\n",
       "      <td>NaN</td>\n",
       "      <td>NaN</td>\n",
       "      <td>NaN</td>\n",
       "      <td>NaN</td>\n",
       "      <td>PCM-Tracking - LogHist.csv</td>\n",
       "    </tr>\n",
       "    <tr>\n",
       "      <th>7</th>\n",
       "      <td>5/30/2012</td>\n",
       "      <td>SLD</td>\n",
       "      <td>KGC</td>\n",
       "      <td>100</td>\n",
       "      <td>$7.87</td>\n",
       "      <td>1:56:01 PM</td>\n",
       "      <td>NaN</td>\n",
       "      <td>0.0</td>\n",
       "      <td>NaN</td>\n",
       "      <td>$787.00</td>\n",
       "      <td>...</td>\n",
       "      <td>NaN</td>\n",
       "      <td>NaN</td>\n",
       "      <td>NaN</td>\n",
       "      <td>NaN</td>\n",
       "      <td>NaN</td>\n",
       "      <td>NaN</td>\n",
       "      <td>NaN</td>\n",
       "      <td>NaN</td>\n",
       "      <td>NaN</td>\n",
       "      <td>PCM-Tracking - LogHist.csv</td>\n",
       "    </tr>\n",
       "    <tr>\n",
       "      <th>8</th>\n",
       "      <td>5/30/2012</td>\n",
       "      <td>SLD</td>\n",
       "      <td>KGC</td>\n",
       "      <td>224</td>\n",
       "      <td>$7.87</td>\n",
       "      <td>1:56:01 PM</td>\n",
       "      <td>NaN</td>\n",
       "      <td>1.0</td>\n",
       "      <td>NaN</td>\n",
       "      <td>$1,761.88</td>\n",
       "      <td>...</td>\n",
       "      <td>NaN</td>\n",
       "      <td>NaN</td>\n",
       "      <td>NaN</td>\n",
       "      <td>NaN</td>\n",
       "      <td>NaN</td>\n",
       "      <td>NaN</td>\n",
       "      <td>NaN</td>\n",
       "      <td>NaN</td>\n",
       "      <td>NaN</td>\n",
       "      <td>PCM-Tracking - LogHist.csv</td>\n",
       "    </tr>\n",
       "  </tbody>\n",
       "</table>\n",
       "<p>5 rows × 35 columns</p>\n",
       "</div>"
      ],
      "text/plain": [
       "        DATE ACTION CONTRACT QTYCHG     PRICE        TIME UNNAMED: 6  \\\n",
       "4  5/30/2012    BOT      AIG    500   $29.70   1:30:19 PM        NaN   \n",
       "5  5/30/2012    BOT     AAPL     12  $569.32   1:36:31 PM        NaN   \n",
       "6  5/30/2012    SLD      KGC     76    $7.87   1:56:01 PM        NaN   \n",
       "7  5/30/2012    SLD      KGC    100    $7.87   1:56:01 PM        NaN   \n",
       "8  5/30/2012    SLD      KGC    224    $7.87   1:56:01 PM        NaN   \n",
       "\n",
       "   COMMISSION UNNAMED: 8 CASH CHG (PNL)  ... DAYSTOFYEND FYEPSNXT  \\\n",
       "4         2.5        NaN   ($14,852.50)  ...         NaN      NaN   \n",
       "5         1.0        NaN    ($6,832.84)  ...         NaN      NaN   \n",
       "6         1.0        NaN       $597.12   ...         NaN      NaN   \n",
       "7         0.0        NaN       $787.00   ...         NaN      NaN   \n",
       "8         1.0        NaN     $1,761.88   ...         NaN      NaN   \n",
       "\n",
       "   GROWTH*0.5TO0.75 ROIC (BW ROA ROE) TGT FWD P/E YEARS TO NORMALIZATION  \\\n",
       "4               NaN               NaN         NaN                    NaN   \n",
       "5               NaN               NaN         NaN                    NaN   \n",
       "6               NaN               NaN         NaN                    NaN   \n",
       "7               NaN               NaN         NaN                    NaN   \n",
       "8               NaN               NaN         NaN                    NaN   \n",
       "\n",
       "  LASTUPDATED CATEGORY COMMENTS.1                    FILENAME  \n",
       "4         NaN      NaN        NaN  PCM-Tracking - LogHist.csv  \n",
       "5         NaN      NaN        NaN  PCM-Tracking - LogHist.csv  \n",
       "6         NaN      NaN        NaN  PCM-Tracking - LogHist.csv  \n",
       "7         NaN      NaN        NaN  PCM-Tracking - LogHist.csv  \n",
       "8         NaN      NaN        NaN  PCM-Tracking - LogHist.csv  \n",
       "\n",
       "[5 rows x 35 columns]"
      ]
     },
     "execution_count": 5,
     "metadata": {},
     "output_type": "execute_result"
    }
   ],
   "source": [
    "# clean attribute columns 1\n",
    "\n",
    "col_dict_attr = {\n",
    "    'DATE' : 'DATE',\n",
    "    'CONTRACT' : 'CONTRACT',\n",
    "    'TIME':'TIME',\n",
    "    'ACTION':'ACTION',\n",
    "    'PRICE':'PRICE',\n",
    "    'QTYCHG':'QTYCHG',\n",
    "    'COMMISSION':'COMMISSION',\n",
    "    \n",
    "    'PCTRETURN': 'PCTRETURN',\n",
    "}\n",
    "\n",
    "df_clean_attr = df_raw_attr.copy(deep=True)\n",
    "df_clean_attr.columns = pd.Series(df_clean_attr.columns.astype(str).str.upper().str.strip())\n",
    "df_clean_attr.columns = pd.Series(df_clean_attr.columns).map(col_dict_attr)    .fillna(pd.Series(df_clean_attr.columns))\n",
    "\n",
    "df_clean_attr['ACTION'] = df_clean_attr['ACTION'].astype(str).str.strip()\n",
    "\n",
    "# pull out macro / non trades\n",
    "df_macro = df_clean_attr[\n",
    "    ~ df_clean_attr['ACTION'].astype(str).str.contains('BOT') & \n",
    "    ~ df_clean_attr['ACTION'].astype(str).str.contains('SLD') &\n",
    "    ~ df_clean_attr['ACTION'].astype(str).str.contains('END')\n",
    "]\n",
    "                    \n",
    "df_clean_attr = df_clean_attr[ \n",
    "    df_clean_attr['ACTION'].astype(str).str.contains('BOT') | \n",
    "    df_clean_attr['ACTION'].astype(str).str.contains('SLD') |\n",
    "    df_clean_attr['ACTION'].astype(str).str.contains('END')\n",
    "]\n",
    "\n",
    "df_clean_attr.head()"
   ]
  },
  {
   "cell_type": "code",
   "execution_count": 6,
   "id": "3b4cc3ef",
   "metadata": {
    "execution": {
     "iopub.execute_input": "2022-07-03T14:30:21.726087Z",
     "iopub.status.busy": "2022-07-03T14:30:21.725095Z",
     "iopub.status.idle": "2022-07-03T14:30:21.901115Z",
     "shell.execute_reply": "2022-07-03T14:30:21.900185Z"
    },
    "papermill": {
     "duration": 0.183997,
     "end_time": "2022-07-03T14:30:21.904086",
     "exception": false,
     "start_time": "2022-07-03T14:30:21.720089",
     "status": "completed"
    },
    "tags": []
   },
   "outputs": [
    {
     "name": "stderr",
     "output_type": "stream",
     "text": [
      "C:\\Users\\SW\\AppData\\Local\\Temp\\ipykernel_85572\\1376618256.py:7: FutureWarning: The default value of regex will change from True to False in a future version. In addition, single character regular expressions will *not* be treated as literal strings when regex=True.\n",
      "  df_clean_attr[col].astype(str).str.strip()\n"
     ]
    },
    {
     "data": {
      "text/plain": [
       "DATE                                    datetime64[ns]\n",
       "ACTION                                          object\n",
       "CONTRACT                                        object\n",
       "QTYCHG                                         float64\n",
       "PRICE                                          float64\n",
       "TIME                                            object\n",
       "UNNAMED: 6                                      object\n",
       "COMMISSION                                     float64\n",
       "UNNAMED: 8                                      object\n",
       "CASH CHG (PNL)                                  object\n",
       "COMMENTS                                        object\n",
       "PCTRETURN                                       object\n",
       "DETAILS                                        float64\n",
       "STARTDATE                                       object\n",
       "COMPANY NAME (IN ALPHABETICAL ORDER)            object\n",
       "TICKER                                          object\n",
       "STOP                                            object\n",
       "% TO STOP                                       object\n",
       "CURRENT PRICE                                   object\n",
       "% TO TARGET                                     object\n",
       "AT PRICE                                        object\n",
       "TARGET                                          object\n",
       "EPS1                                            object\n",
       "EPS2                                            object\n",
       "FYEND                                           object\n",
       "DAYSTOFYEND                                     object\n",
       "FYEPSNXT                                        object\n",
       "GROWTH*0.5TO0.75                                object\n",
       "ROIC (BW ROA ROE)                               object\n",
       "TGT FWD P/E                                     object\n",
       "YEARS TO NORMALIZATION                         float64\n",
       "LASTUPDATED                                     object\n",
       "CATEGORY                                        object\n",
       "COMMENTS.1                                      object\n",
       "FILENAME                                        object\n",
       "dtype: object"
      ]
     },
     "execution_count": 6,
     "metadata": {},
     "output_type": "execute_result"
    }
   ],
   "source": [
    "# update data types for attr\n",
    "\n",
    "df_clean_attr['DATE'] = pd.to_datetime(df_clean_attr['DATE'],errors='coerce') \n",
    "numeric_cols = ['PRICE','COMMISSION','QTYCHG']\n",
    "for col in numeric_cols:\n",
    "    df_clean_attr[col] = (\n",
    "        df_clean_attr[col].astype(str).str.strip()\n",
    "        .str.replace('$','').str.replace(',','').astype(float)\n",
    "    )\n",
    "\n",
    "# QA\n",
    "df_clean_attr.dtypes   "
   ]
  },
  {
   "cell_type": "code",
   "execution_count": 7,
   "id": "115792a8",
   "metadata": {
    "execution": {
     "iopub.execute_input": "2022-07-03T14:30:21.915090Z",
     "iopub.status.busy": "2022-07-03T14:30:21.914085Z",
     "iopub.status.idle": "2022-07-03T14:30:21.981086Z",
     "shell.execute_reply": "2022-07-03T14:30:21.979180Z"
    },
    "lines_to_next_cell": 2,
    "papermill": {
     "duration": 0.074978,
     "end_time": "2022-07-03T14:30:21.984103",
     "exception": false,
     "start_time": "2022-07-03T14:30:21.909125",
     "status": "completed"
    },
    "tags": []
   },
   "outputs": [],
   "source": [
    "# merge attr to completed trades\n",
    "\n",
    "df_complete_trades = df_complete_trades.sort_values(['Open_Date']) \n",
    "df_clean_attr = df_clean_attr.sort_values(['DATE'])\n",
    "\n",
    "df_clean_attr = df_clean_attr.rename(columns={'CONTRACT':'Symbol'}) \n",
    "\n",
    "# get closeset match\n",
    "df_comptrade_wattr = pd.merge_asof(\n",
    "    df_complete_trades, df_clean_attr, by = 'Symbol', left_on=['Open_Date'], \n",
    "    right_on=['DATE'], suffixes=('','_a') \n",
    ")"
   ]
  },
  {
   "cell_type": "code",
   "execution_count": 8,
   "id": "63cd7025",
   "metadata": {
    "execution": {
     "iopub.execute_input": "2022-07-03T14:30:21.996085Z",
     "iopub.status.busy": "2022-07-03T14:30:21.995087Z",
     "iopub.status.idle": "2022-07-03T14:30:22.122086Z",
     "shell.execute_reply": "2022-07-03T14:30:22.120182Z"
    },
    "lines_to_next_cell": 2,
    "papermill": {
     "duration": 0.134026,
     "end_time": "2022-07-03T14:30:22.124113",
     "exception": false,
     "start_time": "2022-07-03T14:30:21.990087",
     "status": "completed"
    },
    "tags": []
   },
   "outputs": [],
   "source": [
    "# save output\n",
    "\n",
    "df_comptrade_wattr.to_csv('output/b_completewattr.csv')"
   ]
  },
  {
   "cell_type": "code",
   "execution_count": null,
   "id": "2a043e36",
   "metadata": {
    "papermill": {
     "duration": 0.003969,
     "end_time": "2022-07-03T14:30:22.134091",
     "exception": false,
     "start_time": "2022-07-03T14:30:22.130122",
     "status": "completed"
    },
    "tags": []
   },
   "outputs": [],
   "source": []
  }
 ],
 "metadata": {
  "jupytext": {
   "cell_metadata_filter": "-all",
   "formats": "auto:percent,ipynb",
   "notebook_metadata_filter": "-all"
  },
  "kernelspec": {
   "display_name": "p1analyzetrades",
   "language": "python",
   "name": "p1analyzetrades"
  },
  "language_info": {
   "codemirror_mode": {
    "name": "ipython",
    "version": 3
   },
   "file_extension": ".py",
   "mimetype": "text/x-python",
   "name": "python",
   "nbconvert_exporter": "python",
   "pygments_lexer": "ipython3",
   "version": "3.9.10"
  },
  "papermill": {
   "default_parameters": {},
   "duration": 4.512972,
   "end_time": "2022-07-03T14:30:22.486085",
   "environment_variables": {},
   "exception": null,
   "input_path": "P1-AnalyzeTrades_b_add_attr.ipynb",
   "output_path": "P1-AnalyzeTrades_b_add_attr_output.ipynb",
   "parameters": {},
   "start_time": "2022-07-03T14:30:17.973113",
   "version": "2.3.4"
  },
  "toc": {
   "base_numbering": 1,
   "nav_menu": {},
   "number_sections": true,
   "sideBar": true,
   "skip_h1_title": false,
   "title_cell": "Table of Contents",
   "title_sidebar": "Contents",
   "toc_cell": false,
   "toc_position": {},
   "toc_section_display": true,
   "toc_window_display": false
  },
  "varInspector": {
   "cols": {
    "lenName": 16,
    "lenType": 16,
    "lenVar": 40
   },
   "kernels_config": {
    "python": {
     "delete_cmd_postfix": "",
     "delete_cmd_prefix": "del ",
     "library": "var_list.py",
     "varRefreshCmd": "print(var_dic_list())"
    },
    "r": {
     "delete_cmd_postfix": ") ",
     "delete_cmd_prefix": "rm(",
     "library": "var_list.r",
     "varRefreshCmd": "cat(var_dic_list()) "
    }
   },
   "types_to_exclude": [
    "module",
    "function",
    "builtin_function_or_method",
    "instance",
    "_Feature"
   ],
   "window_display": false
  }
 },
 "nbformat": 4,
 "nbformat_minor": 5
}