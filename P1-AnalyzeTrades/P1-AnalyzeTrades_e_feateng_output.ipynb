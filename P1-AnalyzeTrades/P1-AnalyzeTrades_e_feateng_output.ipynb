{
 "cells": [
  {
   "cell_type": "markdown",
   "id": "e1d9e183",
   "metadata": {
    "papermill": {
     "duration": 0.005015,
     "end_time": "2022-07-03T14:30:33.248676",
     "exception": false,
     "start_time": "2022-07-03T14:30:33.243661",
     "status": "completed"
    },
    "tags": []
   },
   "source": [
    "#  ## E: Feature Engineering"
   ]
  },
  {
   "cell_type": "code",
   "execution_count": 1,
   "id": "95c96570",
   "metadata": {
    "execution": {
     "iopub.execute_input": "2022-07-03T14:30:33.259663Z",
     "iopub.status.busy": "2022-07-03T14:30:33.258661Z",
     "iopub.status.idle": "2022-07-03T14:30:35.096658Z",
     "shell.execute_reply": "2022-07-03T14:30:35.093663Z"
    },
    "papermill": {
     "duration": 1.847002,
     "end_time": "2022-07-03T14:30:35.099661",
     "exception": false,
     "start_time": "2022-07-03T14:30:33.252659",
     "status": "completed"
    },
    "tags": []
   },
   "outputs": [],
   "source": [
    "## imports\n",
    "\n",
    "import pandas as pd\n",
    "import numpy as np\n",
    "\n",
    "# for na pipeline\n",
    "import warnings\n",
    "import sklearn\n",
    "from sklearn.compose import ColumnTransformer\n",
    "from sklearn.impute import SimpleImputer\n",
    "from sklearn.pipeline import Pipeline\n",
    "from sklearn.preprocessing import StandardScaler, OneHotEncoder\n",
    "from sklearn.base import TransformerMixin  # for custom transformers\n",
    "\n",
    "from joblib import dump, load"
   ]
  },
  {
   "cell_type": "code",
   "execution_count": 2,
   "id": "d6ccabda",
   "metadata": {
    "execution": {
     "iopub.execute_input": "2022-07-03T14:30:35.113661Z",
     "iopub.status.busy": "2022-07-03T14:30:35.112668Z",
     "iopub.status.idle": "2022-07-03T14:30:35.172665Z",
     "shell.execute_reply": "2022-07-03T14:30:35.171656Z"
    },
    "lines_to_next_cell": 1,
    "papermill": {
     "duration": 0.071,
     "end_time": "2022-07-03T14:30:35.176657",
     "exception": false,
     "start_time": "2022-07-03T14:30:35.105657",
     "status": "completed"
    },
    "tags": []
   },
   "outputs": [],
   "source": [
    "## read in data\n",
    "\n",
    "df_XY = pd.read_csv(\"output/c_resulttradewattr.csv\")"
   ]
  },
  {
   "cell_type": "code",
   "execution_count": 3,
   "id": "b447cd2d",
   "metadata": {
    "execution": {
     "iopub.execute_input": "2022-07-03T14:30:35.187658Z",
     "iopub.status.busy": "2022-07-03T14:30:35.187658Z",
     "iopub.status.idle": "2022-07-03T14:30:35.203660Z",
     "shell.execute_reply": "2022-07-03T14:30:35.202656Z"
    },
    "papermill": {
     "duration": 0.02699,
     "end_time": "2022-07-03T14:30:35.207658",
     "exception": false,
     "start_time": "2022-07-03T14:30:35.180668",
     "status": "completed"
    },
    "tags": []
   },
   "outputs": [],
   "source": [
    "##  get_feature_names function\n",
    "# https://johaupt.github.io/scikit-learn/tutorial/python/data%20processing/ml%20pipeline/model%20interpretation/columnTransformer_feature_names.html\n",
    "def get_feature_names(column_transformer):\n",
    "    \"\"\"Get feature names from all transformers.\n",
    "    Returns\n",
    "    -------\n",
    "    feature_names : list of strings\n",
    "        Names of the features produced by transform.\n",
    "    \"\"\"\n",
    "    # Remove the internal helper function\n",
    "    # check_is_fitted(column_transformer)\n",
    "\n",
    "    # Turn loopkup into function for better handling with pipeline later\n",
    "    def get_names(trans):\n",
    "        # >> Original get_feature_names() method\n",
    "        if trans == \"drop\" or (hasattr(column, \"__len__\") and not len(column)):\n",
    "            return []\n",
    "        if trans == \"passthrough\":\n",
    "            if hasattr(column_transformer, \"_df_columns\"):\n",
    "                if (not isinstance(column, slice)) and all(\n",
    "                    isinstance(col, str) for col in column\n",
    "                ):\n",
    "                    return column\n",
    "                else:\n",
    "                    return column_transformer._df_columns[column]\n",
    "            else:\n",
    "                indices = np.arange(column_transformer._n_features)\n",
    "                return [i for i in indices[column]]\n",
    "        if not hasattr(trans, \"get_feature_names\"):\n",
    "            # >>> Change: Return input column names if no method avaiable\n",
    "            # Turn error into a warning\n",
    "            warnings.warn(\n",
    "                \"Transformer %s (type %s) does not \"\n",
    "                \"provide get_feature_names. \"\n",
    "                \"Will return input column names if available\"\n",
    "                % (str(name), type(trans).__name__)\n",
    "            )\n",
    "            # For transformers without a get_features_names method, use the input\n",
    "            # names to the column transformer\n",
    "            if column is None:\n",
    "                return []\n",
    "            else:\n",
    "                return [f for f in column]\n",
    "\n",
    "        return [f for f in trans.get_feature_names()]\n",
    "\n",
    "    ### Start of processing\n",
    "    feature_names = []\n",
    "\n",
    "    # Allow transformers to be pipelines. Pipeline steps are named differently, so preprocessing is needed\n",
    "    if type(column_transformer) == sklearn.pipeline.Pipeline:\n",
    "        l_transformers = [\n",
    "            (name, trans, None) for step, name, trans in column_transformer._iter()\n",
    "        ]\n",
    "    else:\n",
    "        # For column transformers, follow the original method\n",
    "        l_transformers = column_transformer.transformers_\n",
    "\n",
    "    for name, trans, column in l_transformers:\n",
    "        if type(trans) == sklearn.pipeline.Pipeline:\n",
    "            # Recursive call on pipeline\n",
    "            _names = get_feature_names(trans)\n",
    "            # if pipeline has no transformer that returns names\n",
    "            if len(_names) == 0:\n",
    "                _names = [f for f in column]\n",
    "            feature_names.extend(_names)\n",
    "        else:\n",
    "            feature_names.extend(get_names(trans))\n",
    "\n",
    "    return feature_names"
   ]
  },
  {
   "cell_type": "code",
   "execution_count": 4,
   "id": "3331ab60",
   "metadata": {
    "execution": {
     "iopub.execute_input": "2022-07-03T14:30:35.222659Z",
     "iopub.status.busy": "2022-07-03T14:30:35.222659Z",
     "iopub.status.idle": "2022-07-03T14:30:35.235657Z",
     "shell.execute_reply": "2022-07-03T14:30:35.233656Z"
    },
    "papermill": {
     "duration": 0.023007,
     "end_time": "2022-07-03T14:30:35.239665",
     "exception": false,
     "start_time": "2022-07-03T14:30:35.216658",
     "status": "completed"
    },
    "tags": []
   },
   "outputs": [],
   "source": [
    "## custom transformers\n",
    "class Numerizer(TransformerMixin):\n",
    "    import pandas as pd\n",
    "\n",
    "    def __init__(self):\n",
    "        pass\n",
    "\n",
    "    def fit(self, X, y=None):\n",
    "        return self\n",
    "\n",
    "    def transform(self, X):\n",
    "        Y = X.apply(pd.to_numeric, errors=\"coerce\")\n",
    "        return Y\n",
    "\n",
    "\n",
    "class StringTransformer(TransformerMixin):\n",
    "    import pandas as pd\n",
    "\n",
    "    def __init__(self):\n",
    "        pass\n",
    "\n",
    "    def fit(self, X, y=None):\n",
    "        return self\n",
    "\n",
    "    def transform(self, X):\n",
    "        Y = pd.DataFrame(X).astype(\"string\")\n",
    "        return Y"
   ]
  },
  {
   "cell_type": "code",
   "execution_count": 5,
   "id": "54add40d",
   "metadata": {
    "execution": {
     "iopub.execute_input": "2022-07-03T14:30:35.248657Z",
     "iopub.status.busy": "2022-07-03T14:30:35.248657Z",
     "iopub.status.idle": "2022-07-03T14:30:35.342661Z",
     "shell.execute_reply": "2022-07-03T14:30:35.341655Z"
    },
    "lines_to_next_cell": 2,
    "papermill": {
     "duration": 0.101999,
     "end_time": "2022-07-03T14:30:35.345656",
     "exception": false,
     "start_time": "2022-07-03T14:30:35.243657",
     "status": "completed"
    },
    "tags": []
   },
   "outputs": [
    {
     "name": "stderr",
     "output_type": "stream",
     "text": [
      "C:\\Users\\SW\\AppData\\Local\\Temp\\ipykernel_79108\\824171622.py:5: FutureWarning: The default value of regex will change from True to False in a future version. In addition, single character regular expressions will *not* be treated as literal strings when regex=True.\n",
      "  pd.Series(df_XY.columns)\n",
      "C:\\Users\\SW\\AppData\\Local\\Temp\\ipykernel_79108\\3465394604.py:32: UserWarning: Transformer numerizer (type Numerizer) does not provide get_feature_names. Will return input column names if available\n",
      "  warnings.warn(\n",
      "C:\\Users\\SW\\AppData\\Local\\Temp\\ipykernel_79108\\3465394604.py:32: UserWarning: Transformer imputer (type SimpleImputer) does not provide get_feature_names. Will return input column names if available\n",
      "  warnings.warn(\n",
      "C:\\Users\\SW\\AppData\\Local\\Temp\\ipykernel_79108\\3465394604.py:32: UserWarning: Transformer stringtransformer (type StringTransformer) does not provide get_feature_names. Will return input column names if available\n",
      "  warnings.warn(\n"
     ]
    }
   ],
   "source": [
    "## create na pipeline\n",
    "\n",
    "# update columns headers to clean up\n",
    "df_XY.columns = list(\n",
    "    pd.Series(df_XY.columns)\n",
    "    .astype(str)\n",
    "    .str.replace(\" \", \"_\", regex=True)\n",
    "    .str.upper()\n",
    "    .str.strip()\n",
    "    .str.replace(\"/\", \"_\")\n",
    "    .str.replace(\"*\", \"_\")\n",
    ")\n",
    "\n",
    "# start with numeric, utilizng explore data before\n",
    "numeric_features = df_XY.select_dtypes(include=np.number).columns.tolist()\n",
    "numeric_features = numeric_features + [\n",
    "    \"%_TO_STOP\",\n",
    "    \"%_TO_TARGET\",\n",
    "    \"GROWTH_0.5TO0.75\",\n",
    "    \"ROIC_(BW_ROA_ROE)\",\n",
    "    \"TGT_FWD_P_E\",\n",
    "    \"YEARS_TO_NORMALIZATION\",\n",
    "]\n",
    "numeric_features = list(set(numeric_features))\n",
    "\n",
    "numeric_transformer = Pipeline(\n",
    "    steps=[\n",
    "        (\"numerizer\", Numerizer()),\n",
    "        (\"imputer\", SimpleImputer(strategy=\"constant\", fill_value=-1)),\n",
    "    ]\n",
    ")\n",
    "categorical_transformer = Pipeline(\n",
    "    steps=[\n",
    "        (\"imputer\", SimpleImputer(strategy=\"constant\", fill_value=\"_NA_\")),\n",
    "        (\"stringtransformer\", StringTransformer()),\n",
    "    ]\n",
    ")\n",
    "\n",
    "# numerical\n",
    "\n",
    "# categorical_features = ['embarked', 'sex', 'pclass']\n",
    "# categorical_transformer = Pipeline(steps=[\n",
    "#     ('imputer', SimpleImputer(strategy='constant', fill_value='missing')),\n",
    "#     ('onehot', OneHotEncoder(handle_unknown='ignore'))])\n",
    "\n",
    "categorical_features = list(set(df_XY.columns).difference(set(numeric_features)))\n",
    "\n",
    "preprocessor_na = ColumnTransformer(\n",
    "    transformers=[\n",
    "        (\"num\", numeric_transformer, numeric_features),\n",
    "        (\"cat\", categorical_transformer, categorical_features),\n",
    "    ],\n",
    "    # remainder = 'passthrough' # not needed anymore\n",
    ")\n",
    "\n",
    "XY_imputed = preprocessor_na.fit_transform(df_XY)\n",
    "\n",
    "columns = get_feature_names(preprocessor_na)\n",
    "\n",
    "df_XY_imputed = pd.DataFrame(XY_imputed, columns=columns).convert_dtypes()"
   ]
  },
  {
   "cell_type": "code",
   "execution_count": 6,
   "id": "bfa62f20",
   "metadata": {
    "execution": {
     "iopub.execute_input": "2022-07-03T14:30:35.357656Z",
     "iopub.status.busy": "2022-07-03T14:30:35.356663Z",
     "iopub.status.idle": "2022-07-03T14:30:35.375661Z",
     "shell.execute_reply": "2022-07-03T14:30:35.373672Z"
    },
    "papermill": {
     "duration": 0.026,
     "end_time": "2022-07-03T14:30:35.377656",
     "exception": false,
     "start_time": "2022-07-03T14:30:35.351656",
     "status": "completed"
    },
    "tags": []
   },
   "outputs": [],
   "source": [
    "# create target\n",
    "\n",
    "df_XY_imputed[\"PCT_RET_FINAL\"] = df_XY_imputed[\"PNL\"] / (\n",
    "    df_XY_imputed[\"OPEN_PRICE\"] * df_XY_imputed[\"QUANTITY\"]\n",
    ")"
   ]
  },
  {
   "cell_type": "code",
   "execution_count": 7,
   "id": "6f75aa8b",
   "metadata": {
    "execution": {
     "iopub.execute_input": "2022-07-03T14:30:35.385657Z",
     "iopub.status.busy": "2022-07-03T14:30:35.385657Z",
     "iopub.status.idle": "2022-07-03T14:30:35.405660Z",
     "shell.execute_reply": "2022-07-03T14:30:35.403659Z"
    },
    "lines_to_next_cell": 2,
    "papermill": {
     "duration": 0.027045,
     "end_time": "2022-07-03T14:30:35.407701",
     "exception": false,
     "start_time": "2022-07-03T14:30:35.380656",
     "status": "completed"
    },
    "tags": []
   },
   "outputs": [],
   "source": [
    "# TODO create moving avg"
   ]
  },
  {
   "cell_type": "code",
   "execution_count": 8,
   "id": "8179bfa2",
   "metadata": {
    "execution": {
     "iopub.execute_input": "2022-07-03T14:30:35.457671Z",
     "iopub.status.busy": "2022-07-03T14:30:35.457671Z",
     "iopub.status.idle": "2022-07-03T14:30:35.468657Z",
     "shell.execute_reply": "2022-07-03T14:30:35.467682Z"
    },
    "papermill": {
     "duration": 0.060976,
     "end_time": "2022-07-03T14:30:35.471667",
     "exception": false,
     "start_time": "2022-07-03T14:30:35.410691",
     "status": "completed"
    },
    "tags": []
   },
   "outputs": [
    {
     "name": "stdout",
     "output_type": "stream",
     "text": [
      "Index(['COMM_TOT', 'PNL', 'CLOSE_^VIX', 'AAII_SENT_S&P500WEEKLYCLOSE',\n",
      "       'AAII_SENT_S&P500WEEKLYHIGH', 'AAII_SENT_BULLISHAVERAGE', 'QTYCHG',\n",
      "       'AAII_SENT_BEARISH', 'UNNAMED:_0_Y', 'AAII_SENT_BULLISH8WEEKMOVAVG',\n",
      "       'OPEN_PRICE', 'UNNAMED:_0_X', 'AAII_SENT_TOTAL', 'COMMISSION',\n",
      "       '%_TO_STOP', 'UNNAMED:_0.1', 'AAII_SENT_BULLISHAVERAGE+STDEV',\n",
      "       '%_TO_TARGET', 'AAII_SENT_BULLISH', 'GROWTH_0.5TO0.75', 'TGT_FWD_P_E',\n",
      "       'DETAILS', 'QUANTITY', 'CLOSE_^GSPC', 'UNNAMED:_0',\n",
      "       'AAII_SENT_BULLBEARSPREAD', 'YEARS_TO_NORMALIZATION',\n",
      "       'AAII_SENT_NEUTRAL', 'PRICE', 'ROIC_(BW_ROA_ROE)',\n",
      "       'AAII_SENT_BULLISHAVERAGESTDEV', 'AAII_SENT_S&P500WEEKLYLOW',\n",
      "       'CLOSE_PRICE', 'ACTION', 'TARGET', 'CATEGORY', 'UNNAMED:_8',\n",
      "       'CASH_CHG_(PNL)', 'FYEPSNXT', 'AT_PRICE', 'COMMENTS', 'OPEN_DATE',\n",
      "       'CLOSEACT', 'CURRENT_PRICE', 'FYEND', 'STARTDATE', 'OPENACT',\n",
      "       'LASTUPDATED', 'EPS1', 'SYMBOL', 'TIME', 'DAYSTOFYEND',\n",
      "       'COMPANY_NAME_(IN_ALPHABETICAL_ORDER)', 'PCTRETURN', 'STOP', 'DATE_',\n",
      "       'AAII_SENT_DATE', 'CLOSE_DATE', 'COMMENTS.1', 'UNNAMED:_6', 'TICKER',\n",
      "       'EPS2', 'FILENAME', 'DATE', 'PCT_RET_FINAL'],\n",
      "      dtype='object')\n"
     ]
    }
   ],
   "source": [
    "# Final columns\n",
    "\n",
    "print(df_XY_imputed.columns)"
   ]
  },
  {
   "cell_type": "code",
   "execution_count": 9,
   "id": "925b9084",
   "metadata": {
    "execution": {
     "iopub.execute_input": "2022-07-03T14:30:35.484662Z",
     "iopub.status.busy": "2022-07-03T14:30:35.484662Z",
     "iopub.status.idle": "2022-07-03T14:30:35.500657Z",
     "shell.execute_reply": "2022-07-03T14:30:35.499657Z"
    },
    "papermill": {
     "duration": 0.025,
     "end_time": "2022-07-03T14:30:35.502657",
     "exception": false,
     "start_time": "2022-07-03T14:30:35.477657",
     "status": "completed"
    },
    "tags": []
   },
   "outputs": [],
   "source": [
    "## check no na's left in numerical\n",
    "\n",
    "try:\n",
    "    assert (\n",
    "        df_XY_imputed[numeric_features].isna().sum().sum() == 0\n",
    "    ), \"NAs remain in numerical\"\n",
    "except:\n",
    "    print(\"NAs remain in numerical\")"
   ]
  },
  {
   "cell_type": "code",
   "execution_count": 10,
   "id": "d620b42a",
   "metadata": {
    "execution": {
     "iopub.execute_input": "2022-07-03T14:30:35.512697Z",
     "iopub.status.busy": "2022-07-03T14:30:35.511661Z",
     "iopub.status.idle": "2022-07-03T14:30:35.596658Z",
     "shell.execute_reply": "2022-07-03T14:30:35.594657Z"
    },
    "lines_to_next_cell": 2,
    "papermill": {
     "duration": 0.094057,
     "end_time": "2022-07-03T14:30:35.599712",
     "exception": false,
     "start_time": "2022-07-03T14:30:35.505655",
     "status": "completed"
    },
    "tags": []
   },
   "outputs": [],
   "source": [
    "## import api spec\n",
    "\n",
    "import yaml\n",
    "from yaml import Loader\n",
    "\n",
    "with open(\"data-tests/_apispecs.yaml\") as f:\n",
    "    api_specs = yaml.load(f, Loader=Loader)"
   ]
  },
  {
   "cell_type": "code",
   "execution_count": 11,
   "id": "d6570cbd",
   "metadata": {
    "execution": {
     "iopub.execute_input": "2022-07-03T14:30:35.610658Z",
     "iopub.status.busy": "2022-07-03T14:30:35.609659Z",
     "iopub.status.idle": "2022-07-03T14:30:40.058659Z",
     "shell.execute_reply": "2022-07-03T14:30:40.057689Z"
    },
    "papermill": {
     "duration": 4.457972,
     "end_time": "2022-07-03T14:30:40.062659",
     "exception": false,
     "start_time": "2022-07-03T14:30:35.604687",
     "status": "completed"
    },
    "tags": []
   },
   "outputs": [
    {
     "name": "stdout",
     "output_type": "stream",
     "text": [
      "validation completed\n"
     ]
    }
   ],
   "source": [
    "## validate based on api spec\n",
    "\n",
    "from openapi_schema_validator import validate\n",
    "import json\n",
    "\n",
    "schema = api_specs[\"components\"][\"schemas\"][\"Tradelog\"]\n",
    "\n",
    "json_str = df_XY_imputed.to_json(orient=\"records\")\n",
    "json_test = json.loads(json_str)\n",
    "\n",
    "i = 0\n",
    "for row in json_test:\n",
    "    try:\n",
    "        validate(row, schema)\n",
    "    except:\n",
    "        print(f\"failed on {i}th row \")\n",
    "        break\n",
    "    i = i + 1\n",
    "\n",
    "print(\"validation completed\")"
   ]
  },
  {
   "cell_type": "code",
   "execution_count": 12,
   "id": "72f92a7e",
   "metadata": {
    "execution": {
     "iopub.execute_input": "2022-07-03T14:30:40.113697Z",
     "iopub.status.busy": "2022-07-03T14:30:40.112658Z",
     "iopub.status.idle": "2022-07-03T14:30:40.387660Z",
     "shell.execute_reply": "2022-07-03T14:30:40.385657Z"
    },
    "lines_to_next_cell": 2,
    "papermill": {
     "duration": 0.282997,
     "end_time": "2022-07-03T14:30:40.389658",
     "exception": false,
     "start_time": "2022-07-03T14:30:40.106661",
     "status": "completed"
    },
    "tags": []
   },
   "outputs": [
    {
     "data": {
      "text/plain": [
       "0"
      ]
     },
     "execution_count": 12,
     "metadata": {},
     "output_type": "execute_result"
    }
   ],
   "source": [
    "## save api spec to html\n",
    "\n",
    "import os\n",
    "\n",
    "# feed yaml file to swagger python, then create api.html\n",
    "os.system(\n",
    "    \"python swagger_yaml_to_html.py < data-tests/_apispecs.yaml > templates/api.html\"\n",
    ")"
   ]
  },
  {
   "cell_type": "code",
   "execution_count": 13,
   "id": "b01a7cf1",
   "metadata": {
    "execution": {
     "iopub.execute_input": "2022-07-03T14:30:40.402659Z",
     "iopub.status.busy": "2022-07-03T14:30:40.402659Z",
     "iopub.status.idle": "2022-07-03T14:30:40.510661Z",
     "shell.execute_reply": "2022-07-03T14:30:40.508756Z"
    },
    "lines_to_next_cell": 2,
    "papermill": {
     "duration": 0.116034,
     "end_time": "2022-07-03T14:30:40.512692",
     "exception": false,
     "start_time": "2022-07-03T14:30:40.396658",
     "status": "completed"
    },
    "tags": []
   },
   "outputs": [],
   "source": [
    "## save results\n",
    "\n",
    "df_XY_imputed.to_csv(\"output/e_resultcleaned.csv\")"
   ]
  },
  {
   "cell_type": "code",
   "execution_count": 14,
   "id": "c5d949fc",
   "metadata": {
    "execution": {
     "iopub.execute_input": "2022-07-03T14:30:40.521660Z",
     "iopub.status.busy": "2022-07-03T14:30:40.521660Z",
     "iopub.status.idle": "2022-07-03T14:30:40.541658Z",
     "shell.execute_reply": "2022-07-03T14:30:40.540657Z"
    },
    "papermill": {
     "duration": 0.027966,
     "end_time": "2022-07-03T14:30:40.543657",
     "exception": false,
     "start_time": "2022-07-03T14:30:40.515691",
     "status": "completed"
    },
    "tags": []
   },
   "outputs": [
    {
     "data": {
      "text/plain": [
       "['output/e_preprocessor_na.joblib']"
      ]
     },
     "execution_count": 14,
     "metadata": {},
     "output_type": "execute_result"
    }
   ],
   "source": [
    "## save imputer\n",
    "\n",
    "dump(preprocessor_na, \"output/e_preprocessor_na.joblib\")"
   ]
  },
  {
   "cell_type": "code",
   "execution_count": null,
   "id": "78a95beb",
   "metadata": {
    "papermill": {
     "duration": 0.003963,
     "end_time": "2022-07-03T14:30:40.551656",
     "exception": false,
     "start_time": "2022-07-03T14:30:40.547693",
     "status": "completed"
    },
    "tags": []
   },
   "outputs": [],
   "source": []
  }
 ],
 "metadata": {
  "jupytext": {
   "cell_metadata_filter": "-all",
   "formats": "auto:percent,ipynb",
   "notebook_metadata_filter": "-all"
  },
  "kernelspec": {
   "display_name": "p1analyzetrades",
   "language": "python",
   "name": "p1analyzetrades"
  },
  "language_info": {
   "codemirror_mode": {
    "name": "ipython",
    "version": 3
   },
   "file_extension": ".py",
   "mimetype": "text/x-python",
   "name": "python",
   "nbconvert_exporter": "python",
   "pygments_lexer": "ipython3",
   "version": "3.9.10"
  },
  "papermill": {
   "default_parameters": {},
   "duration": 10.085998,
   "end_time": "2022-07-03T14:30:41.013657",
   "environment_variables": {},
   "exception": null,
   "input_path": "P1-AnalyzeTrades_e_feateng.ipynb",
   "output_path": "P1-AnalyzeTrades_e_feateng_output.ipynb",
   "parameters": {},
   "start_time": "2022-07-03T14:30:30.927659",
   "version": "2.3.4"
  },
  "toc": {
   "base_numbering": 1,
   "nav_menu": {},
   "number_sections": true,
   "sideBar": true,
   "skip_h1_title": false,
   "title_cell": "Table of Contents",
   "title_sidebar": "Contents",
   "toc_cell": false,
   "toc_position": {},
   "toc_section_display": true,
   "toc_window_display": true
  },
  "varInspector": {
   "cols": {
    "lenName": 16,
    "lenType": 16,
    "lenVar": 40
   },
   "kernels_config": {
    "python": {
     "delete_cmd_postfix": "",
     "delete_cmd_prefix": "del ",
     "library": "var_list.py",
     "varRefreshCmd": "print(var_dic_list())"
    },
    "r": {
     "delete_cmd_postfix": ") ",
     "delete_cmd_prefix": "rm(",
     "library": "var_list.r",
     "varRefreshCmd": "cat(var_dic_list()) "
    }
   },
   "types_to_exclude": [
    "module",
    "function",
    "builtin_function_or_method",
    "instance",
    "_Feature"
   ],
   "window_display": true
  }
 },
 "nbformat": 4,
 "nbformat_minor": 5
}