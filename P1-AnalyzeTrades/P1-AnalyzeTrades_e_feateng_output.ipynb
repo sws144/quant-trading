{
 "cells": [
  {
   "cell_type": "markdown",
   "id": "e1d9e183",
   "metadata": {
    "papermill": {
     "duration": 0.004988,
     "end_time": "2022-07-05T14:22:16.252244",
     "exception": false,
     "start_time": "2022-07-05T14:22:16.247256",
     "status": "completed"
    },
    "tags": []
   },
   "source": [
    "# E: Feature Engineering"
   ]
  },
  {
   "cell_type": "markdown",
   "id": "0334c4ff",
   "metadata": {
    "papermill": {
     "duration": 0.005969,
     "end_time": "2022-07-05T14:22:16.263239",
     "exception": false,
     "start_time": "2022-07-05T14:22:16.257270",
     "status": "completed"
    },
    "tags": []
   },
   "source": [
    "## imports"
   ]
  },
  {
   "cell_type": "code",
   "execution_count": 1,
   "id": "95c96570",
   "metadata": {
    "ExecuteTime": {
     "end_time": "2022-07-05T14:21:03.838610Z",
     "start_time": "2022-07-05T14:21:01.779539Z"
    },
    "execution": {
     "iopub.execute_input": "2022-07-05T14:22:16.282235Z",
     "iopub.status.busy": "2022-07-05T14:22:16.280274Z",
     "iopub.status.idle": "2022-07-05T14:22:18.212458Z",
     "shell.execute_reply": "2022-07-05T14:22:18.211489Z"
    },
    "papermill": {
     "duration": 1.944209,
     "end_time": "2022-07-05T14:22:18.216489",
     "exception": false,
     "start_time": "2022-07-05T14:22:16.272280",
     "status": "completed"
    },
    "tags": []
   },
   "outputs": [],
   "source": [
    "\n",
    "\n",
    "import pandas as pd\n",
    "import numpy as np\n",
    "\n",
    "# for na pipeline\n",
    "import warnings\n",
    "import sklearn\n",
    "from sklearn.compose import ColumnTransformer\n",
    "from sklearn.impute import SimpleImputer\n",
    "from sklearn.pipeline import Pipeline\n",
    "from sklearn.preprocessing import StandardScaler, OneHotEncoder\n",
    "from sklearn.base import TransformerMixin  # for custom transformers\n",
    "\n",
    "from joblib import dump, load"
   ]
  },
  {
   "cell_type": "markdown",
   "id": "2c33d684",
   "metadata": {
    "papermill": {
     "duration": 0.006007,
     "end_time": "2022-07-05T14:22:18.231462",
     "exception": false,
     "start_time": "2022-07-05T14:22:18.225455",
     "status": "completed"
    },
    "tags": []
   },
   "source": [
    "## read in data"
   ]
  },
  {
   "cell_type": "code",
   "execution_count": 2,
   "id": "d6ccabda",
   "metadata": {
    "ExecuteTime": {
     "end_time": "2022-07-05T14:21:04.026542Z",
     "start_time": "2022-07-05T14:21:03.843545Z"
    },
    "execution": {
     "iopub.execute_input": "2022-07-05T14:22:18.255460Z",
     "iopub.status.busy": "2022-07-05T14:22:18.255460Z",
     "iopub.status.idle": "2022-07-05T14:22:18.321462Z",
     "shell.execute_reply": "2022-07-05T14:22:18.319514Z"
    },
    "lines_to_next_cell": 1,
    "papermill": {
     "duration": 0.078992,
     "end_time": "2022-07-05T14:22:18.323456",
     "exception": false,
     "start_time": "2022-07-05T14:22:18.244464",
     "status": "completed"
    },
    "tags": []
   },
   "outputs": [],
   "source": [
    "df_XY = pd.read_csv(\"output/c_resulttradewattr.csv\")"
   ]
  },
  {
   "cell_type": "code",
   "execution_count": 3,
   "id": "b447cd2d",
   "metadata": {
    "ExecuteTime": {
     "end_time": "2022-07-05T14:21:04.058537Z",
     "start_time": "2022-07-05T14:21:04.030538Z"
    },
    "execution": {
     "iopub.execute_input": "2022-07-05T14:22:18.338459Z",
     "iopub.status.busy": "2022-07-05T14:22:18.338459Z",
     "iopub.status.idle": "2022-07-05T14:22:18.368466Z",
     "shell.execute_reply": "2022-07-05T14:22:18.366472Z"
    },
    "papermill": {
     "duration": 0.040002,
     "end_time": "2022-07-05T14:22:18.371458",
     "exception": false,
     "start_time": "2022-07-05T14:22:18.331456",
     "status": "completed"
    },
    "tags": []
   },
   "outputs": [],
   "source": [
    "##  get_feature_names function\n",
    "# https://johaupt.github.io/scikit-learn/tutorial/python/data%20processing/ml%20pipeline/model%20interpretation/columnTransformer_feature_names.html\n",
    "def get_feature_names(column_transformer):\n",
    "    \"\"\"Get feature names from all transformers.\n",
    "    Returns\n",
    "    -------\n",
    "    feature_names : list of strings\n",
    "        Names of the features produced by transform.\n",
    "    \"\"\"\n",
    "    # Remove the internal helper function\n",
    "    # check_is_fitted(column_transformer)\n",
    "\n",
    "    # Turn loopkup into function for better handling with pipeline later\n",
    "    def get_names(trans):\n",
    "        # >> Original get_feature_names() method\n",
    "        if trans == \"drop\" or (hasattr(column, \"__len__\") and not len(column)):\n",
    "            return []\n",
    "        if trans == \"passthrough\":\n",
    "            if hasattr(column_transformer, \"_df_columns\"):\n",
    "                if (not isinstance(column, slice)) and all(\n",
    "                    isinstance(col, str) for col in column\n",
    "                ):\n",
    "                    return column\n",
    "                else:\n",
    "                    return column_transformer._df_columns[column]\n",
    "            else:\n",
    "                indices = np.arange(column_transformer._n_features)\n",
    "                return [i for i in indices[column]]\n",
    "        if not hasattr(trans, \"get_feature_names\"):\n",
    "            # >>> Change: Return input column names if no method avaiable\n",
    "            # Turn error into a warning\n",
    "            warnings.warn(\n",
    "                \"Transformer %s (type %s) does not \"\n",
    "                \"provide get_feature_names. \"\n",
    "                \"Will return input column names if available\"\n",
    "                % (str(name), type(trans).__name__)\n",
    "            )\n",
    "            # For transformers without a get_features_names method, use the input\n",
    "            # names to the column transformer\n",
    "            if column is None:\n",
    "                return []\n",
    "            else:\n",
    "                return [f for f in column]\n",
    "\n",
    "        return [f for f in trans.get_feature_names()]\n",
    "\n",
    "    ### Start of processing\n",
    "    feature_names = []\n",
    "\n",
    "    # Allow transformers to be pipelines. Pipeline steps are named differently, so preprocessing is needed\n",
    "    if type(column_transformer) == sklearn.pipeline.Pipeline:\n",
    "        l_transformers = [\n",
    "            (name, trans, None) for step, name, trans in column_transformer._iter()\n",
    "        ]\n",
    "    else:\n",
    "        # For column transformers, follow the original method\n",
    "        l_transformers = column_transformer.transformers_\n",
    "\n",
    "    for name, trans, column in l_transformers:\n",
    "        if type(trans) == sklearn.pipeline.Pipeline:\n",
    "            # Recursive call on pipeline\n",
    "            _names = get_feature_names(trans)\n",
    "            # if pipeline has no transformer that returns names\n",
    "            if len(_names) == 0:\n",
    "                _names = [f for f in column]\n",
    "            feature_names.extend(_names)\n",
    "        else:\n",
    "            feature_names.extend(get_names(trans))\n",
    "\n",
    "    return feature_names"
   ]
  },
  {
   "cell_type": "code",
   "execution_count": 4,
   "id": "3331ab60",
   "metadata": {
    "ExecuteTime": {
     "end_time": "2022-07-05T14:21:04.074536Z",
     "start_time": "2022-07-05T14:21:04.065539Z"
    },
    "execution": {
     "iopub.execute_input": "2022-07-05T14:22:18.383514Z",
     "iopub.status.busy": "2022-07-05T14:22:18.382470Z",
     "iopub.status.idle": "2022-07-05T14:22:18.398458Z",
     "shell.execute_reply": "2022-07-05T14:22:18.397485Z"
    },
    "papermill": {
     "duration": 0.025001,
     "end_time": "2022-07-05T14:22:18.402461",
     "exception": false,
     "start_time": "2022-07-05T14:22:18.377460",
     "status": "completed"
    },
    "tags": []
   },
   "outputs": [],
   "source": [
    "## custom transformers\n",
    "class Numerizer(TransformerMixin):\n",
    "    import pandas as pd\n",
    "\n",
    "    def __init__(self):\n",
    "        pass\n",
    "\n",
    "    def fit(self, X, y=None):\n",
    "        return self\n",
    "\n",
    "    def transform(self, X):\n",
    "        Y = X.apply(pd.to_numeric, errors=\"coerce\")\n",
    "        return Y\n",
    "\n",
    "\n",
    "class StringTransformer(TransformerMixin):\n",
    "    import pandas as pd\n",
    "\n",
    "    def __init__(self):\n",
    "        pass\n",
    "\n",
    "    def fit(self, X, y=None):\n",
    "        return self\n",
    "\n",
    "    def transform(self, X):\n",
    "        Y = pd.DataFrame(X).astype(\"string\")\n",
    "        return Y"
   ]
  },
  {
   "cell_type": "markdown",
   "id": "5ddbf2ee",
   "metadata": {
    "papermill": {
     "duration": 0.004006,
     "end_time": "2022-07-05T14:22:18.411463",
     "exception": false,
     "start_time": "2022-07-05T14:22:18.407457",
     "status": "completed"
    },
    "tags": []
   },
   "source": [
    "## create na pipeline"
   ]
  },
  {
   "cell_type": "code",
   "execution_count": 5,
   "id": "54add40d",
   "metadata": {
    "ExecuteTime": {
     "end_time": "2022-07-05T14:21:04.260541Z",
     "start_time": "2022-07-05T14:21:04.079546Z"
    },
    "execution": {
     "iopub.execute_input": "2022-07-05T14:22:18.421490Z",
     "iopub.status.busy": "2022-07-05T14:22:18.421490Z",
     "iopub.status.idle": "2022-07-05T14:22:18.540463Z",
     "shell.execute_reply": "2022-07-05T14:22:18.537547Z"
    },
    "lines_to_next_cell": 2,
    "papermill": {
     "duration": 0.130974,
     "end_time": "2022-07-05T14:22:18.546465",
     "exception": false,
     "start_time": "2022-07-05T14:22:18.415491",
     "status": "completed"
    },
    "tags": []
   },
   "outputs": [
    {
     "name": "stderr",
     "output_type": "stream",
     "text": [
      "C:\\Users\\SW\\AppData\\Local\\Temp\\ipykernel_59428\\61775179.py:3: FutureWarning: The default value of regex will change from True to False in a future version. In addition, single character regular expressions will *not* be treated as literal strings when regex=True.\n",
      "  pd.Series(df_XY.columns)\n",
      "C:\\Users\\SW\\AppData\\Local\\Temp\\ipykernel_59428\\3465394604.py:32: UserWarning: Transformer numerizer (type Numerizer) does not provide get_feature_names. Will return input column names if available\n",
      "  warnings.warn(\n",
      "C:\\Users\\SW\\AppData\\Local\\Temp\\ipykernel_59428\\3465394604.py:32: UserWarning: Transformer imputer (type SimpleImputer) does not provide get_feature_names. Will return input column names if available\n",
      "  warnings.warn(\n",
      "C:\\Users\\SW\\AppData\\Local\\Temp\\ipykernel_59428\\3465394604.py:32: UserWarning: Transformer stringtransformer (type StringTransformer) does not provide get_feature_names. Will return input column names if available\n",
      "  warnings.warn(\n"
     ]
    }
   ],
   "source": [
    "\n",
    "\n",
    "# update columns headers to clean up\n",
    "df_XY.columns = list(\n",
    "    pd.Series(df_XY.columns)\n",
    "    .astype(str)\n",
    "    .str.replace(\" \", \"_\", regex=True)\n",
    "    .str.upper()\n",
    "    .str.strip()\n",
    "    .str.replace(\"/\", \"_\")\n",
    "    .str.replace(\"*\", \"_\")\n",
    ")\n",
    "\n",
    "# start with numeric, utilizng explore data before\n",
    "numeric_features = df_XY.select_dtypes(include=np.number).columns.tolist()\n",
    "numeric_features = numeric_features + [\n",
    "    \"%_TO_STOP\",\n",
    "    \"%_TO_TARGET\",\n",
    "    \"GROWTH_0.5TO0.75\",\n",
    "    \"ROIC_(BW_ROA_ROE)\",\n",
    "    \"TGT_FWD_P_E\",\n",
    "    \"YEARS_TO_NORMALIZATION\",\n",
    "]\n",
    "numeric_features = list(set(numeric_features))\n",
    "\n",
    "numeric_transformer = Pipeline(\n",
    "    steps=[\n",
    "        (\"numerizer\", Numerizer()),\n",
    "        (\"imputer\", SimpleImputer(strategy=\"constant\", fill_value=-1)),\n",
    "    ]\n",
    ")\n",
    "categorical_transformer = Pipeline(\n",
    "    steps=[\n",
    "        (\"imputer\", SimpleImputer(strategy=\"constant\", fill_value=\"_NA_\")),\n",
    "        (\"stringtransformer\", StringTransformer()),\n",
    "    ]\n",
    ")\n",
    "\n",
    "# numerical\n",
    "\n",
    "# categorical_features = ['embarked', 'sex', 'pclass']\n",
    "# categorical_transformer = Pipeline(steps=[\n",
    "#     ('imputer', SimpleImputer(strategy='constant', fill_value='missing')),\n",
    "#     ('onehot', OneHotEncoder(handle_unknown='ignore'))])\n",
    "\n",
    "categorical_features = list(set(df_XY.columns).difference(set(numeric_features)))\n",
    "\n",
    "preprocessor_na = ColumnTransformer(\n",
    "    transformers=[\n",
    "        (\"num\", numeric_transformer, numeric_features),\n",
    "        (\"cat\", categorical_transformer, categorical_features),\n",
    "    ],\n",
    "    # remainder = 'passthrough' # not needed anymore\n",
    ")\n",
    "\n",
    "XY_imputed = preprocessor_na.fit_transform(df_XY)\n",
    "\n",
    "columns = get_feature_names(preprocessor_na)\n",
    "\n",
    "df_XY_imputed = pd.DataFrame(XY_imputed, columns=columns).convert_dtypes()"
   ]
  },
  {
   "cell_type": "code",
   "execution_count": 6,
   "id": "bfa62f20",
   "metadata": {
    "ExecuteTime": {
     "end_time": "2022-07-05T14:21:04.293567Z",
     "start_time": "2022-07-05T14:21:04.265538Z"
    },
    "execution": {
     "iopub.execute_input": "2022-07-05T14:22:18.568471Z",
     "iopub.status.busy": "2022-07-05T14:22:18.566462Z",
     "iopub.status.idle": "2022-07-05T14:22:18.585455Z",
     "shell.execute_reply": "2022-07-05T14:22:18.584458Z"
    },
    "papermill": {
     "duration": 0.031024,
     "end_time": "2022-07-05T14:22:18.587484",
     "exception": false,
     "start_time": "2022-07-05T14:22:18.556460",
     "status": "completed"
    },
    "tags": []
   },
   "outputs": [],
   "source": [
    "# create target\n",
    "\n",
    "df_XY_imputed[\"PCT_RET_FINAL\"] = df_XY_imputed[\"PNL\"] / (\n",
    "    df_XY_imputed[\"OPEN_PRICE\"] * df_XY_imputed[\"QUANTITY\"]\n",
    ")"
   ]
  },
  {
   "cell_type": "code",
   "execution_count": 7,
   "id": "6f75aa8b",
   "metadata": {
    "ExecuteTime": {
     "end_time": "2022-07-05T14:21:04.307541Z",
     "start_time": "2022-07-05T14:21:04.300539Z"
    },
    "execution": {
     "iopub.execute_input": "2022-07-05T14:22:18.599461Z",
     "iopub.status.busy": "2022-07-05T14:22:18.598456Z",
     "iopub.status.idle": "2022-07-05T14:22:18.617465Z",
     "shell.execute_reply": "2022-07-05T14:22:18.614480Z"
    },
    "lines_to_next_cell": 2,
    "papermill": {
     "duration": 0.037978,
     "end_time": "2022-07-05T14:22:18.629466",
     "exception": false,
     "start_time": "2022-07-05T14:22:18.591488",
     "status": "completed"
    },
    "tags": []
   },
   "outputs": [],
   "source": [
    "# TODO create moving avg"
   ]
  },
  {
   "cell_type": "code",
   "execution_count": 8,
   "id": "8179bfa2",
   "metadata": {
    "ExecuteTime": {
     "end_time": "2022-07-05T14:21:04.338538Z",
     "start_time": "2022-07-05T14:21:04.316540Z"
    },
    "execution": {
     "iopub.execute_input": "2022-07-05T14:22:18.660462Z",
     "iopub.status.busy": "2022-07-05T14:22:18.658493Z",
     "iopub.status.idle": "2022-07-05T14:22:18.677461Z",
     "shell.execute_reply": "2022-07-05T14:22:18.675490Z"
    },
    "papermill": {
     "duration": 0.035992,
     "end_time": "2022-07-05T14:22:18.680455",
     "exception": false,
     "start_time": "2022-07-05T14:22:18.644463",
     "status": "completed"
    },
    "tags": []
   },
   "outputs": [
    {
     "name": "stdout",
     "output_type": "stream",
     "text": [
      "Index(['GROWTH_0.5TO0.75', 'UNNAMED:_0_X', 'AAII_SENT_BULLISHAVERAGE',\n",
      "       'AAII_SENT_S&P500WEEKLYCLOSE', 'UNNAMED:_0', 'COMM_TOT', 'CLOSE_^GSPC',\n",
      "       'AAII_SENT_S&P500WEEKLYLOW', 'AAII_SENT_TOTAL', 'AAII_SENT_NEUTRAL',\n",
      "       'AAII_SENT_BULLISH', 'DETAILS', 'PRICE', 'OPEN_PRICE', 'CLOSE_PRICE',\n",
      "       'YEARS_TO_NORMALIZATION', 'CLOSE_^VIX', 'AAII_SENT_BULLISHAVERAGESTDEV',\n",
      "       '%_TO_TARGET', 'UNNAMED:_0_Y', 'AAII_SENT_S&P500WEEKLYHIGH', 'QTYCHG',\n",
      "       'COMMISSION', 'ROIC_(BW_ROA_ROE)', 'AAII_SENT_BULLBEARSPREAD',\n",
      "       'TGT_FWD_P_E', 'QUANTITY', 'PNL', 'AAII_SENT_BULLISH8WEEKMOVAVG',\n",
      "       'AAII_SENT_BEARISH', '%_TO_STOP', 'UNNAMED:_0.1',\n",
      "       'AAII_SENT_BULLISHAVERAGE+STDEV', 'PCTRETURN', 'COMMENTS.1', 'EPS1',\n",
      "       'CURRENT_PRICE', 'AT_PRICE', 'CATEGORY', 'CLOSEACT', 'OPEN_DATE',\n",
      "       'TIME', 'SYMBOL', 'DATE', 'CASH_CHG_(PNL)', 'EPS2', 'STOP', 'FILENAME',\n",
      "       'AAII_SENT_DATE', 'TICKER', 'FYEPSNXT', 'CLOSE_DATE', 'UNNAMED:_8',\n",
      "       'FYEND', 'DAYSTOFYEND', 'TARGET', 'OPENACT', 'DATE_', 'UNNAMED:_6',\n",
      "       'ACTION', 'COMPANY_NAME_(IN_ALPHABETICAL_ORDER)', 'LASTUPDATED',\n",
      "       'COMMENTS', 'STARTDATE', 'PCT_RET_FINAL'],\n",
      "      dtype='object')\n"
     ]
    }
   ],
   "source": [
    "# Final columns\n",
    "\n",
    "print(df_XY_imputed.columns)"
   ]
  },
  {
   "cell_type": "code",
   "execution_count": 9,
   "id": "925b9084",
   "metadata": {
    "ExecuteTime": {
     "end_time": "2022-07-05T14:21:04.368540Z",
     "start_time": "2022-07-05T14:21:04.349545Z"
    },
    "execution": {
     "iopub.execute_input": "2022-07-05T14:22:18.693461Z",
     "iopub.status.busy": "2022-07-05T14:22:18.692458Z",
     "iopub.status.idle": "2022-07-05T14:22:18.709461Z",
     "shell.execute_reply": "2022-07-05T14:22:18.706458Z"
    },
    "papermill": {
     "duration": 0.029089,
     "end_time": "2022-07-05T14:22:18.714545",
     "exception": false,
     "start_time": "2022-07-05T14:22:18.685456",
     "status": "completed"
    },
    "tags": []
   },
   "outputs": [],
   "source": [
    "## check no na's left in numerical\n",
    "\n",
    "try:\n",
    "    assert (\n",
    "        df_XY_imputed[numeric_features].isna().sum().sum() == 0\n",
    "    ), \"NAs remain in numerical\"\n",
    "except:\n",
    "    print(\"NAs remain in numerical\")"
   ]
  },
  {
   "cell_type": "markdown",
   "id": "ad761e04",
   "metadata": {
    "papermill": {
     "duration": 0.048007,
     "end_time": "2022-07-05T14:22:18.767463",
     "exception": false,
     "start_time": "2022-07-05T14:22:18.719456",
     "status": "completed"
    },
    "tags": []
   },
   "source": [
    "## API Spec"
   ]
  },
  {
   "cell_type": "code",
   "execution_count": 10,
   "id": "d620b42a",
   "metadata": {
    "ExecuteTime": {
     "end_time": "2022-07-05T14:21:04.493544Z",
     "start_time": "2022-07-05T14:21:04.382539Z"
    },
    "execution": {
     "iopub.execute_input": "2022-07-05T14:22:18.810460Z",
     "iopub.status.busy": "2022-07-05T14:22:18.809465Z",
     "iopub.status.idle": "2022-07-05T14:22:18.878458Z",
     "shell.execute_reply": "2022-07-05T14:22:18.877464Z"
    },
    "lines_to_next_cell": 2,
    "papermill": {
     "duration": 0.097001,
     "end_time": "2022-07-05T14:22:18.881461",
     "exception": false,
     "start_time": "2022-07-05T14:22:18.784460",
     "status": "completed"
    },
    "tags": []
   },
   "outputs": [],
   "source": [
    "## import api spec\n",
    "\n",
    "import yaml\n",
    "from yaml import Loader\n",
    "\n",
    "with open(\"data-tests/_apispecs.yaml\") as f:\n",
    "    api_specs = yaml.load(f, Loader=Loader)"
   ]
  },
  {
   "cell_type": "code",
   "execution_count": 11,
   "id": "d6570cbd",
   "metadata": {
    "ExecuteTime": {
     "end_time": "2022-07-05T14:21:10.317537Z",
     "start_time": "2022-07-05T14:21:04.498549Z"
    },
    "execution": {
     "iopub.execute_input": "2022-07-05T14:22:18.899464Z",
     "iopub.status.busy": "2022-07-05T14:22:18.898458Z",
     "iopub.status.idle": "2022-07-05T14:22:23.890456Z",
     "shell.execute_reply": "2022-07-05T14:22:23.889456Z"
    },
    "papermill": {
     "duration": 5.003989,
     "end_time": "2022-07-05T14:22:23.892457",
     "exception": false,
     "start_time": "2022-07-05T14:22:18.888468",
     "status": "completed"
    },
    "tags": []
   },
   "outputs": [
    {
     "name": "stdout",
     "output_type": "stream",
     "text": [
      "validation completed\n"
     ]
    }
   ],
   "source": [
    "## validate based on api spec\n",
    "\n",
    "from openapi_schema_validator import validate\n",
    "import json\n",
    "\n",
    "schema = api_specs[\"components\"][\"schemas\"][\"Tradelog\"]\n",
    "\n",
    "json_str = df_XY_imputed.to_json(orient=\"records\")\n",
    "json_test = json.loads(json_str)\n",
    "\n",
    "i = 0\n",
    "for row in json_test:\n",
    "    try:\n",
    "        validate(row, schema)\n",
    "    except:\n",
    "        print(f\"failed on {i}th row \")\n",
    "        break\n",
    "    i = i + 1\n",
    "\n",
    "print(\"validation completed\")"
   ]
  },
  {
   "cell_type": "code",
   "execution_count": 12,
   "id": "72f92a7e",
   "metadata": {
    "ExecuteTime": {
     "end_time": "2022-07-05T14:21:10.688538Z",
     "start_time": "2022-07-05T14:21:10.320536Z"
    },
    "execution": {
     "iopub.execute_input": "2022-07-05T14:22:23.905488Z",
     "iopub.status.busy": "2022-07-05T14:22:23.904458Z",
     "iopub.status.idle": "2022-07-05T14:22:24.122456Z",
     "shell.execute_reply": "2022-07-05T14:22:24.121491Z"
    },
    "lines_to_next_cell": 2,
    "papermill": {
     "duration": 0.228005,
     "end_time": "2022-07-05T14:22:24.124459",
     "exception": false,
     "start_time": "2022-07-05T14:22:23.896454",
     "status": "completed"
    },
    "tags": []
   },
   "outputs": [
    {
     "data": {
      "text/plain": [
       "0"
      ]
     },
     "execution_count": 12,
     "metadata": {},
     "output_type": "execute_result"
    }
   ],
   "source": [
    "## save api spec to html\n",
    "\n",
    "import os\n",
    "\n",
    "# feed yaml file to swagger python, then create api.html\n",
    "os.system(\n",
    "    \"python swagger_yaml_to_html.py < data-tests/_apispecs.yaml > templates/api.html\"\n",
    ")"
   ]
  },
  {
   "cell_type": "markdown",
   "id": "d6574f30",
   "metadata": {
    "papermill": {
     "duration": 0.007003,
     "end_time": "2022-07-05T14:22:24.142459",
     "exception": false,
     "start_time": "2022-07-05T14:22:24.135456",
     "status": "completed"
    },
    "tags": []
   },
   "source": [
    "## Resort & Save Results"
   ]
  },
  {
   "cell_type": "code",
   "execution_count": 13,
   "id": "d722f77c",
   "metadata": {
    "ExecuteTime": {
     "end_time": "2022-07-05T14:21:10.704539Z",
     "start_time": "2022-07-05T14:21:10.692539Z"
    },
    "execution": {
     "iopub.execute_input": "2022-07-05T14:22:24.179473Z",
     "iopub.status.busy": "2022-07-05T14:22:24.178457Z",
     "iopub.status.idle": "2022-07-05T14:22:24.202456Z",
     "shell.execute_reply": "2022-07-05T14:22:24.199481Z"
    },
    "papermill": {
     "duration": 0.053997,
     "end_time": "2022-07-05T14:22:24.207460",
     "exception": false,
     "start_time": "2022-07-05T14:22:24.153463",
     "status": "completed"
    },
    "tags": []
   },
   "outputs": [],
   "source": [
    "df_XY_imputed = df_XY_imputed.reindex(sorted(df_XY_imputed.columns), axis=1)"
   ]
  },
  {
   "cell_type": "code",
   "execution_count": 14,
   "id": "b01a7cf1",
   "metadata": {
    "ExecuteTime": {
     "end_time": "2022-07-05T14:21:10.875537Z",
     "start_time": "2022-07-05T14:21:10.711540Z"
    },
    "execution": {
     "iopub.execute_input": "2022-07-05T14:22:24.262465Z",
     "iopub.status.busy": "2022-07-05T14:22:24.260468Z",
     "iopub.status.idle": "2022-07-05T14:22:24.403457Z",
     "shell.execute_reply": "2022-07-05T14:22:24.402455Z"
    },
    "lines_to_next_cell": 2,
    "papermill": {
     "duration": 0.192003,
     "end_time": "2022-07-05T14:22:24.406458",
     "exception": false,
     "start_time": "2022-07-05T14:22:24.214455",
     "status": "completed"
    },
    "tags": []
   },
   "outputs": [],
   "source": [
    "## save results\n",
    "\n",
    "df_XY_imputed.to_csv(\"output/e_resultcleaned.csv\")"
   ]
  },
  {
   "cell_type": "code",
   "execution_count": 15,
   "id": "c5d949fc",
   "metadata": {
    "ExecuteTime": {
     "end_time": "2022-07-05T14:21:10.906538Z",
     "start_time": "2022-07-05T14:21:10.881550Z"
    },
    "execution": {
     "iopub.execute_input": "2022-07-05T14:22:24.421457Z",
     "iopub.status.busy": "2022-07-05T14:22:24.421457Z",
     "iopub.status.idle": "2022-07-05T14:22:24.452472Z",
     "shell.execute_reply": "2022-07-05T14:22:24.448464Z"
    },
    "papermill": {
     "duration": 0.047008,
     "end_time": "2022-07-05T14:22:24.461464",
     "exception": false,
     "start_time": "2022-07-05T14:22:24.414456",
     "status": "completed"
    },
    "tags": []
   },
   "outputs": [
    {
     "data": {
      "text/plain": [
       "['output/e_preprocessor_na.joblib']"
      ]
     },
     "execution_count": 15,
     "metadata": {},
     "output_type": "execute_result"
    }
   ],
   "source": [
    "## save imputer\n",
    "\n",
    "dump(preprocessor_na, \"output/e_preprocessor_na.joblib\")"
   ]
  },
  {
   "cell_type": "code",
   "execution_count": null,
   "id": "78a95beb",
   "metadata": {
    "papermill": {
     "duration": 0.007002,
     "end_time": "2022-07-05T14:22:24.479456",
     "exception": false,
     "start_time": "2022-07-05T14:22:24.472454",
     "status": "completed"
    },
    "tags": []
   },
   "outputs": [],
   "source": []
  }
 ],
 "metadata": {
  "jupytext": {
   "cell_metadata_filter": "-all",
   "formats": "auto:percent,ipynb",
   "notebook_metadata_filter": "-all"
  },
  "kernelspec": {
   "display_name": "p1analyzetrades",
   "language": "python",
   "name": "p1analyzetrades"
  },
  "language_info": {
   "codemirror_mode": {
    "name": "ipython",
    "version": 3
   },
   "file_extension": ".py",
   "mimetype": "text/x-python",
   "name": "python",
   "nbconvert_exporter": "python",
   "pygments_lexer": "ipython3",
   "version": "3.9.10"
  },
  "papermill": {
   "default_parameters": {},
   "duration": 11.488751,
   "end_time": "2022-07-05T14:22:25.062462",
   "environment_variables": {},
   "exception": null,
   "input_path": "P1-AnalyzeTrades_e_feateng.ipynb",
   "output_path": "P1-AnalyzeTrades_e_feateng_output.ipynb",
   "parameters": {},
   "start_time": "2022-07-05T14:22:13.573711",
   "version": "2.3.4"
  },
  "toc": {
   "base_numbering": 1,
   "nav_menu": {},
   "number_sections": true,
   "sideBar": true,
   "skip_h1_title": false,
   "title_cell": "Table of Contents",
   "title_sidebar": "Contents",
   "toc_cell": false,
   "toc_position": {},
   "toc_section_display": true,
   "toc_window_display": true
  },
  "varInspector": {
   "cols": {
    "lenName": 16,
    "lenType": 16,
    "lenVar": 40
   },
   "kernels_config": {
    "python": {
     "delete_cmd_postfix": "",
     "delete_cmd_prefix": "del ",
     "library": "var_list.py",
     "varRefreshCmd": "print(var_dic_list())"
    },
    "r": {
     "delete_cmd_postfix": ") ",
     "delete_cmd_prefix": "rm(",
     "library": "var_list.r",
     "varRefreshCmd": "cat(var_dic_list()) "
    }
   },
   "types_to_exclude": [
    "module",
    "function",
    "builtin_function_or_method",
    "instance",
    "_Feature"
   ],
   "window_display": true
  }
 },
 "nbformat": 4,
 "nbformat_minor": 5
}