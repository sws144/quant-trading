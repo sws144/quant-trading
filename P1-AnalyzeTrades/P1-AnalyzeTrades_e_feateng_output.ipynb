{
 "cells": [
  {
   "cell_type": "markdown",
   "id": "e1d9e183",
   "metadata": {
    "papermill": {
     "duration": 0.004964,
     "end_time": "2022-07-15T00:47:15.467796",
     "exception": false,
     "start_time": "2022-07-15T00:47:15.462832",
     "status": "completed"
    },
    "tags": []
   },
   "source": [
    "# E: Feature Engineering"
   ]
  },
  {
   "cell_type": "markdown",
   "id": "0334c4ff",
   "metadata": {
    "papermill": {
     "duration": 0.010002,
     "end_time": "2022-07-15T00:47:15.484799",
     "exception": false,
     "start_time": "2022-07-15T00:47:15.474797",
     "status": "completed"
    },
    "tags": []
   },
   "source": [
    "## imports"
   ]
  },
  {
   "cell_type": "code",
   "execution_count": 1,
   "id": "95c96570",
   "metadata": {
    "ExecuteTime": {
     "end_time": "2022-07-05T14:21:03.838610Z",
     "start_time": "2022-07-05T14:21:01.779539Z"
    },
    "execution": {
     "iopub.execute_input": "2022-07-15T00:47:15.499801Z",
     "iopub.status.busy": "2022-07-15T00:47:15.498801Z",
     "iopub.status.idle": "2022-07-15T00:47:17.520449Z",
     "shell.execute_reply": "2022-07-15T00:47:17.518452Z"
    },
    "papermill": {
     "duration": 2.030659,
     "end_time": "2022-07-15T00:47:17.523456",
     "exception": false,
     "start_time": "2022-07-15T00:47:15.492797",
     "status": "completed"
    },
    "tags": []
   },
   "outputs": [],
   "source": [
    "\n",
    "\n",
    "import pandas as pd\n",
    "import numpy as np\n",
    "\n",
    "# for na pipeline\n",
    "import warnings\n",
    "import sklearn\n",
    "from sklearn.compose import ColumnTransformer\n",
    "from sklearn.impute import SimpleImputer\n",
    "from sklearn.pipeline import Pipeline\n",
    "from sklearn.preprocessing import StandardScaler, OneHotEncoder\n",
    "from sklearn.base import TransformerMixin  # for custom transformers\n",
    "\n",
    "from joblib import dump, load"
   ]
  },
  {
   "cell_type": "markdown",
   "id": "2c33d684",
   "metadata": {
    "papermill": {
     "duration": 0.006972,
     "end_time": "2022-07-15T00:47:17.539450",
     "exception": false,
     "start_time": "2022-07-15T00:47:17.532478",
     "status": "completed"
    },
    "tags": []
   },
   "source": [
    "## read in data"
   ]
  },
  {
   "cell_type": "code",
   "execution_count": 2,
   "id": "d6ccabda",
   "metadata": {
    "ExecuteTime": {
     "end_time": "2022-07-05T14:21:04.026542Z",
     "start_time": "2022-07-05T14:21:03.843545Z"
    },
    "execution": {
     "iopub.execute_input": "2022-07-15T00:47:17.553449Z",
     "iopub.status.busy": "2022-07-15T00:47:17.552456Z",
     "iopub.status.idle": "2022-07-15T00:47:17.615474Z",
     "shell.execute_reply": "2022-07-15T00:47:17.612446Z"
    },
    "lines_to_next_cell": 1,
    "papermill": {
     "duration": 0.073004,
     "end_time": "2022-07-15T00:47:17.618453",
     "exception": false,
     "start_time": "2022-07-15T00:47:17.545449",
     "status": "completed"
    },
    "tags": []
   },
   "outputs": [],
   "source": [
    "df_XY = pd.read_csv(\"output/c_resulttradewattr.csv\")"
   ]
  },
  {
   "cell_type": "code",
   "execution_count": 3,
   "id": "b447cd2d",
   "metadata": {
    "ExecuteTime": {
     "end_time": "2022-07-05T14:21:04.058537Z",
     "start_time": "2022-07-05T14:21:04.030538Z"
    },
    "execution": {
     "iopub.execute_input": "2022-07-15T00:47:17.633452Z",
     "iopub.status.busy": "2022-07-15T00:47:17.632453Z",
     "iopub.status.idle": "2022-07-15T00:47:17.660449Z",
     "shell.execute_reply": "2022-07-15T00:47:17.659449Z"
    },
    "papermill": {
     "duration": 0.038998,
     "end_time": "2022-07-15T00:47:17.663447",
     "exception": false,
     "start_time": "2022-07-15T00:47:17.624449",
     "status": "completed"
    },
    "tags": []
   },
   "outputs": [],
   "source": [
    "##  get_feature_names function\n",
    "# https://johaupt.github.io/scikit-learn/tutorial/python/data%20processing/ml%20pipeline/model%20interpretation/columnTransformer_feature_names.html\n",
    "def get_feature_names(column_transformer):\n",
    "    \"\"\"Get feature names from all transformers.\n",
    "    Returns\n",
    "    -------\n",
    "    feature_names : list of strings\n",
    "        Names of the features produced by transform.\n",
    "    \"\"\"\n",
    "    # Remove the internal helper function\n",
    "    # check_is_fitted(column_transformer)\n",
    "\n",
    "    # Turn loopkup into function for better handling with pipeline later\n",
    "    def get_names(trans):\n",
    "        # >> Original get_feature_names() method\n",
    "        if trans == \"drop\" or (hasattr(column, \"__len__\") and not len(column)):\n",
    "            return []\n",
    "        if trans == \"passthrough\":\n",
    "            if hasattr(column_transformer, \"_df_columns\"):\n",
    "                if (not isinstance(column, slice)) and all(\n",
    "                    isinstance(col, str) for col in column\n",
    "                ):\n",
    "                    return column\n",
    "                else:\n",
    "                    return column_transformer._df_columns[column]\n",
    "            else:\n",
    "                indices = np.arange(column_transformer._n_features)\n",
    "                return [i for i in indices[column]]\n",
    "        if not hasattr(trans, \"get_feature_names\"):\n",
    "            # >>> Change: Return input column names if no method avaiable\n",
    "            # Turn error into a warning\n",
    "            warnings.warn(\n",
    "                \"Transformer %s (type %s) does not \"\n",
    "                \"provide get_feature_names. \"\n",
    "                \"Will return input column names if available\"\n",
    "                % (str(name), type(trans).__name__)\n",
    "            )\n",
    "            # For transformers without a get_features_names method, use the input\n",
    "            # names to the column transformer\n",
    "            if column is None:\n",
    "                return []\n",
    "            else:\n",
    "                return [f for f in column]\n",
    "\n",
    "        return [f for f in trans.get_feature_names()]\n",
    "\n",
    "    ### Start of processing\n",
    "    feature_names = []\n",
    "\n",
    "    # Allow transformers to be pipelines. Pipeline steps are named differently, so preprocessing is needed\n",
    "    if type(column_transformer) == sklearn.pipeline.Pipeline:\n",
    "        l_transformers = [\n",
    "            (name, trans, None) for step, name, trans in column_transformer._iter()\n",
    "        ]\n",
    "    else:\n",
    "        # For column transformers, follow the original method\n",
    "        l_transformers = column_transformer.transformers_\n",
    "\n",
    "    for name, trans, column in l_transformers:\n",
    "        if type(trans) == sklearn.pipeline.Pipeline:\n",
    "            # Recursive call on pipeline\n",
    "            _names = get_feature_names(trans)\n",
    "            # if pipeline has no transformer that returns names\n",
    "            if len(_names) == 0:\n",
    "                _names = [f for f in column]\n",
    "            feature_names.extend(_names)\n",
    "        else:\n",
    "            feature_names.extend(get_names(trans))\n",
    "\n",
    "    return feature_names"
   ]
  },
  {
   "cell_type": "code",
   "execution_count": 4,
   "id": "3331ab60",
   "metadata": {
    "ExecuteTime": {
     "end_time": "2022-07-05T14:21:04.074536Z",
     "start_time": "2022-07-05T14:21:04.065539Z"
    },
    "execution": {
     "iopub.execute_input": "2022-07-15T00:47:17.678452Z",
     "iopub.status.busy": "2022-07-15T00:47:17.678452Z",
     "iopub.status.idle": "2022-07-15T00:47:17.691453Z",
     "shell.execute_reply": "2022-07-15T00:47:17.689465Z"
    },
    "papermill": {
     "duration": 0.024001,
     "end_time": "2022-07-15T00:47:17.694450",
     "exception": false,
     "start_time": "2022-07-15T00:47:17.670449",
     "status": "completed"
    },
    "tags": []
   },
   "outputs": [],
   "source": [
    "## custom transformers\n",
    "class Numerizer(TransformerMixin):\n",
    "    import pandas as pd\n",
    "\n",
    "    def __init__(self):\n",
    "        pass\n",
    "\n",
    "    def fit(self, X, y=None):\n",
    "        return self\n",
    "\n",
    "    def transform(self, X):\n",
    "        Y = X.apply(pd.to_numeric, errors=\"coerce\")\n",
    "        return Y\n",
    "\n",
    "\n",
    "class StringTransformer(TransformerMixin):\n",
    "    import pandas as pd\n",
    "\n",
    "    def __init__(self):\n",
    "        pass\n",
    "\n",
    "    def fit(self, X, y=None):\n",
    "        return self\n",
    "\n",
    "    def transform(self, X):\n",
    "        Y = pd.DataFrame(X).astype(\"string\")\n",
    "        return Y"
   ]
  },
  {
   "cell_type": "markdown",
   "id": "5ddbf2ee",
   "metadata": {
    "papermill": {
     "duration": 0.01199,
     "end_time": "2022-07-15T00:47:17.766454",
     "exception": false,
     "start_time": "2022-07-15T00:47:17.754464",
     "status": "completed"
    },
    "tags": []
   },
   "source": [
    "## create na pipeline"
   ]
  },
  {
   "cell_type": "code",
   "execution_count": 5,
   "id": "54add40d",
   "metadata": {
    "ExecuteTime": {
     "end_time": "2022-07-05T14:21:04.260541Z",
     "start_time": "2022-07-05T14:21:04.079546Z"
    },
    "execution": {
     "iopub.execute_input": "2022-07-15T00:47:17.790452Z",
     "iopub.status.busy": "2022-07-15T00:47:17.789451Z",
     "iopub.status.idle": "2022-07-15T00:47:17.924490Z",
     "shell.execute_reply": "2022-07-15T00:47:17.923490Z"
    },
    "lines_to_next_cell": 2,
    "papermill": {
     "duration": 0.148064,
     "end_time": "2022-07-15T00:47:17.927517",
     "exception": false,
     "start_time": "2022-07-15T00:47:17.779453",
     "status": "completed"
    },
    "tags": []
   },
   "outputs": [
    {
     "name": "stderr",
     "output_type": "stream",
     "text": [
      "C:\\Users\\SW\\AppData\\Local\\Temp\\ipykernel_63428\\61775179.py:3: FutureWarning: The default value of regex will change from True to False in a future version. In addition, single character regular expressions will *not* be treated as literal strings when regex=True.\n",
      "  pd.Series(df_XY.columns)\n",
      "C:\\Users\\SW\\AppData\\Local\\Temp\\ipykernel_63428\\3465394604.py:32: UserWarning: Transformer numerizer (type Numerizer) does not provide get_feature_names. Will return input column names if available\n",
      "  warnings.warn(\n",
      "C:\\Users\\SW\\AppData\\Local\\Temp\\ipykernel_63428\\3465394604.py:32: UserWarning: Transformer imputer (type SimpleImputer) does not provide get_feature_names. Will return input column names if available\n",
      "  warnings.warn(\n",
      "C:\\Users\\SW\\AppData\\Local\\Temp\\ipykernel_63428\\3465394604.py:32: UserWarning: Transformer stringtransformer (type StringTransformer) does not provide get_feature_names. Will return input column names if available\n",
      "  warnings.warn(\n"
     ]
    }
   ],
   "source": [
    "\n",
    "\n",
    "# update columns headers to clean up\n",
    "df_XY.columns = list(\n",
    "    pd.Series(df_XY.columns)\n",
    "    .astype(str)\n",
    "    .str.replace(\" \", \"_\", regex=True)\n",
    "    .str.upper()\n",
    "    .str.strip()\n",
    "    .str.replace(\"/\", \"_\")\n",
    "    .str.replace(\"*\", \"_\")\n",
    ")\n",
    "\n",
    "# start with numeric, utilizng explore data before\n",
    "numeric_features = df_XY.select_dtypes(include=np.number).columns.tolist()\n",
    "numeric_features = numeric_features + [\n",
    "    \"%_TO_STOP\",\n",
    "    \"%_TO_TARGET\",\n",
    "    \"GROWTH_0.5TO0.75\",\n",
    "    \"ROIC_(BW_ROA_ROE)\",\n",
    "    \"TGT_FWD_P_E\",\n",
    "    \"YEARS_TO_NORMALIZATION\",\n",
    "]\n",
    "numeric_features = list(set(numeric_features))\n",
    "\n",
    "numeric_transformer = Pipeline(\n",
    "    steps=[\n",
    "        (\"numerizer\", Numerizer()),\n",
    "        (\"imputer\", SimpleImputer(strategy=\"constant\", fill_value=-1)),\n",
    "    ]\n",
    ")\n",
    "categorical_transformer = Pipeline(\n",
    "    steps=[\n",
    "        (\"imputer\", SimpleImputer(strategy=\"constant\", fill_value=\"_NA_\")),\n",
    "        (\"stringtransformer\", StringTransformer()),\n",
    "    ]\n",
    ")\n",
    "\n",
    "# numerical\n",
    "\n",
    "# categorical_features = ['embarked', 'sex', 'pclass']\n",
    "# categorical_transformer = Pipeline(steps=[\n",
    "#     ('imputer', SimpleImputer(strategy='constant', fill_value='missing')),\n",
    "#     ('onehot', OneHotEncoder(handle_unknown='ignore'))])\n",
    "\n",
    "categorical_features = list(set(df_XY.columns).difference(set(numeric_features)))\n",
    "\n",
    "preprocessor_na = ColumnTransformer(\n",
    "    transformers=[\n",
    "        (\"num\", numeric_transformer, numeric_features),\n",
    "        (\"cat\", categorical_transformer, categorical_features),\n",
    "    ],\n",
    "    # remainder = 'passthrough' # not needed anymore\n",
    ")\n",
    "\n",
    "XY_imputed = preprocessor_na.fit_transform(df_XY)\n",
    "\n",
    "columns = get_feature_names(preprocessor_na)\n",
    "\n",
    "df_XY_imputed = pd.DataFrame(XY_imputed, columns=columns).convert_dtypes()"
   ]
  },
  {
   "cell_type": "code",
   "execution_count": 6,
   "id": "bfa62f20",
   "metadata": {
    "ExecuteTime": {
     "end_time": "2022-07-05T14:21:04.293567Z",
     "start_time": "2022-07-05T14:21:04.265538Z"
    },
    "execution": {
     "iopub.execute_input": "2022-07-15T00:47:17.940492Z",
     "iopub.status.busy": "2022-07-15T00:47:17.938489Z",
     "iopub.status.idle": "2022-07-15T00:47:17.956488Z",
     "shell.execute_reply": "2022-07-15T00:47:17.955500Z"
    },
    "papermill": {
     "duration": 0.027004,
     "end_time": "2022-07-15T00:47:17.958492",
     "exception": false,
     "start_time": "2022-07-15T00:47:17.931488",
     "status": "completed"
    },
    "tags": []
   },
   "outputs": [],
   "source": [
    "# create target\n",
    "\n",
    "df_XY_imputed[\"PCT_RET_FINAL\"] = df_XY_imputed[\"PNL\"] / (\n",
    "    df_XY_imputed[\"OPEN_PRICE\"] * df_XY_imputed[\"QUANTITY\"]\n",
    ")"
   ]
  },
  {
   "cell_type": "code",
   "execution_count": 7,
   "id": "6f75aa8b",
   "metadata": {
    "ExecuteTime": {
     "end_time": "2022-07-05T14:21:04.307541Z",
     "start_time": "2022-07-05T14:21:04.300539Z"
    },
    "execution": {
     "iopub.execute_input": "2022-07-15T00:47:17.971492Z",
     "iopub.status.busy": "2022-07-15T00:47:17.970499Z",
     "iopub.status.idle": "2022-07-15T00:47:17.987491Z",
     "shell.execute_reply": "2022-07-15T00:47:17.986493Z"
    },
    "lines_to_next_cell": 2,
    "papermill": {
     "duration": 0.026999,
     "end_time": "2022-07-15T00:47:17.991487",
     "exception": false,
     "start_time": "2022-07-15T00:47:17.964488",
     "status": "completed"
    },
    "tags": []
   },
   "outputs": [],
   "source": [
    "# TODO create moving avg"
   ]
  },
  {
   "cell_type": "code",
   "execution_count": 8,
   "id": "8179bfa2",
   "metadata": {
    "ExecuteTime": {
     "end_time": "2022-07-05T14:21:04.338538Z",
     "start_time": "2022-07-05T14:21:04.316540Z"
    },
    "execution": {
     "iopub.execute_input": "2022-07-15T00:47:18.006487Z",
     "iopub.status.busy": "2022-07-15T00:47:18.006487Z",
     "iopub.status.idle": "2022-07-15T00:47:18.019489Z",
     "shell.execute_reply": "2022-07-15T00:47:18.018488Z"
    },
    "papermill": {
     "duration": 0.023001,
     "end_time": "2022-07-15T00:47:18.021488",
     "exception": false,
     "start_time": "2022-07-15T00:47:17.998487",
     "status": "completed"
    },
    "tags": []
   },
   "outputs": [
    {
     "name": "stdout",
     "output_type": "stream",
     "text": [
      "Index(['AAII_SENT_BULLISHAVERAGE+STDEV', '%_TO_TARGET',\n",
      "       'AAII_SENT_BULLISHAVERAGE', 'CLOSE_PRICE',\n",
      "       'AAII_SENT_BULLISHAVERAGESTDEV', 'QUANTITY', 'QTYCHG', 'CLOSE_^GSPC',\n",
      "       'CLOSE_^VIX', 'AAII_SENT_BULLBEARSPREAD', 'PNL',\n",
      "       'AAII_SENT_BULLISH8WEEKMOVAVG', 'COMMISSION', 'AAII_SENT_NEUTRAL',\n",
      "       'DAYOFWEEK0MON', 'COMM_TOT', 'AAII_SENT_BEARISH', 'UNNAMED:_0',\n",
      "       'AAII_SENT_TOTAL', 'UNNAMED:_0_Y', 'YEARS_TO_NORMALIZATION',\n",
      "       'TGT_FWD_P_E', 'AAII_SENT_BULLISH', 'PRICE',\n",
      "       'AAII_SENT_S&P500WEEKLYHIGH', 'ROIC_(BW_ROA_ROE)', 'GROWTH_0.5TO0.75',\n",
      "       'DETAILS', 'UNNAMED:_0_X', 'AAII_SENT_S&P500WEEKLYCLOSE',\n",
      "       'UNNAMED:_0.1', 'OPEN_PRICE', '%_TO_STOP', 'AAII_SENT_S&P500WEEKLYLOW',\n",
      "       'OPENACT', 'OPEN_DATE', 'EPS1', 'TIME', 'UNNAMED:_8', 'FYEPSNXT',\n",
      "       'LASTUPDATED', 'EPS2', 'ACTION', 'DATE', 'AAII_SENT_DATE', 'STOP',\n",
      "       'CATEGORY', 'TICKER', 'PCTRETURN', 'CASH_CHG_(PNL)', 'CLOSE_DATE',\n",
      "       'AT_PRICE', 'CLOSEACT', 'DAYSTOFYEND', 'UNNAMED:_6', 'COMMENTS.1',\n",
      "       'FYEND', 'STARTDATE', 'DATE_', 'COMMENTS', 'TARGET',\n",
      "       'COMPANY_NAME_(IN_ALPHABETICAL_ORDER)', 'CURRENT_PRICE', 'SYMBOL',\n",
      "       'FILENAME', 'PCT_RET_FINAL'],\n",
      "      dtype='object')\n"
     ]
    }
   ],
   "source": [
    "# Final columns\n",
    "\n",
    "print(df_XY_imputed.columns)"
   ]
  },
  {
   "cell_type": "code",
   "execution_count": 9,
   "id": "925b9084",
   "metadata": {
    "ExecuteTime": {
     "end_time": "2022-07-05T14:21:04.368540Z",
     "start_time": "2022-07-05T14:21:04.349545Z"
    },
    "execution": {
     "iopub.execute_input": "2022-07-15T00:47:18.033507Z",
     "iopub.status.busy": "2022-07-15T00:47:18.032487Z",
     "iopub.status.idle": "2022-07-15T00:47:18.053492Z",
     "shell.execute_reply": "2022-07-15T00:47:18.050541Z"
    },
    "papermill": {
     "duration": 0.033017,
     "end_time": "2022-07-15T00:47:18.059505",
     "exception": false,
     "start_time": "2022-07-15T00:47:18.026488",
     "status": "completed"
    },
    "tags": []
   },
   "outputs": [],
   "source": [
    "## check no na's left in numerical\n",
    "\n",
    "try:\n",
    "    assert (\n",
    "        df_XY_imputed[numeric_features].isna().sum().sum() == 0\n",
    "    ), \"NAs remain in numerical\"\n",
    "except:\n",
    "    print(\"NAs remain in numerical\")"
   ]
  },
  {
   "cell_type": "markdown",
   "id": "ad761e04",
   "metadata": {
    "papermill": {
     "duration": 0.012989,
     "end_time": "2022-07-15T00:47:18.092492",
     "exception": false,
     "start_time": "2022-07-15T00:47:18.079503",
     "status": "completed"
    },
    "tags": []
   },
   "source": [
    "## API Spec"
   ]
  },
  {
   "cell_type": "code",
   "execution_count": 10,
   "id": "d620b42a",
   "metadata": {
    "ExecuteTime": {
     "end_time": "2022-07-05T14:21:04.493544Z",
     "start_time": "2022-07-05T14:21:04.382539Z"
    },
    "execution": {
     "iopub.execute_input": "2022-07-15T00:47:18.113494Z",
     "iopub.status.busy": "2022-07-15T00:47:18.112487Z",
     "iopub.status.idle": "2022-07-15T00:47:18.221654Z",
     "shell.execute_reply": "2022-07-15T00:47:18.220653Z"
    },
    "lines_to_next_cell": 2,
    "papermill": {
     "duration": 0.12316,
     "end_time": "2022-07-15T00:47:18.225654",
     "exception": false,
     "start_time": "2022-07-15T00:47:18.102494",
     "status": "completed"
    },
    "tags": []
   },
   "outputs": [],
   "source": [
    "## import api spec\n",
    "\n",
    "import yaml\n",
    "from yaml import Loader\n",
    "\n",
    "with open(\"data-tests/_apispecs.yaml\") as f:\n",
    "    api_specs = yaml.load(f, Loader=Loader)"
   ]
  },
  {
   "cell_type": "code",
   "execution_count": 11,
   "id": "d6570cbd",
   "metadata": {
    "ExecuteTime": {
     "end_time": "2022-07-05T14:21:10.317537Z",
     "start_time": "2022-07-05T14:21:04.498549Z"
    },
    "execution": {
     "iopub.execute_input": "2022-07-15T00:47:18.242653Z",
     "iopub.status.busy": "2022-07-15T00:47:18.241657Z",
     "iopub.status.idle": "2022-07-15T00:47:22.746428Z",
     "shell.execute_reply": "2022-07-15T00:47:22.743460Z"
    },
    "papermill": {
     "duration": 4.516774,
     "end_time": "2022-07-15T00:47:22.750427",
     "exception": false,
     "start_time": "2022-07-15T00:47:18.233653",
     "status": "completed"
    },
    "tags": []
   },
   "outputs": [
    {
     "name": "stdout",
     "output_type": "stream",
     "text": [
      "validation completed\n"
     ]
    }
   ],
   "source": [
    "## validate based on api spec\n",
    "\n",
    "from openapi_schema_validator import validate\n",
    "import json\n",
    "\n",
    "schema = api_specs[\"components\"][\"schemas\"][\"Tradelog\"]\n",
    "\n",
    "json_str = df_XY_imputed.to_json(orient=\"records\")\n",
    "json_test = json.loads(json_str)\n",
    "\n",
    "i = 0\n",
    "for row in json_test:\n",
    "    try:\n",
    "        validate(row, schema)\n",
    "    except:\n",
    "        print(f\"failed on {i}th row \")\n",
    "        break\n",
    "    i = i + 1\n",
    "\n",
    "print(\"validation completed\")"
   ]
  },
  {
   "cell_type": "code",
   "execution_count": 12,
   "id": "72f92a7e",
   "metadata": {
    "ExecuteTime": {
     "end_time": "2022-07-05T14:21:10.688538Z",
     "start_time": "2022-07-05T14:21:10.320536Z"
    },
    "execution": {
     "iopub.execute_input": "2022-07-15T00:47:22.767487Z",
     "iopub.status.busy": "2022-07-15T00:47:22.766428Z",
     "iopub.status.idle": "2022-07-15T00:47:23.137431Z",
     "shell.execute_reply": "2022-07-15T00:47:23.135430Z"
    },
    "lines_to_next_cell": 2,
    "papermill": {
     "duration": 0.378994,
     "end_time": "2022-07-15T00:47:23.140431",
     "exception": false,
     "start_time": "2022-07-15T00:47:22.761437",
     "status": "completed"
    },
    "tags": []
   },
   "outputs": [
    {
     "data": {
      "text/plain": [
       "0"
      ]
     },
     "execution_count": 12,
     "metadata": {},
     "output_type": "execute_result"
    }
   ],
   "source": [
    "## save api spec to html\n",
    "\n",
    "import os\n",
    "\n",
    "# feed yaml file to swagger python, then create api.html\n",
    "os.system(\n",
    "    \"python swagger_yaml_to_html.py < data-tests/_apispecs.yaml > templates/api.html\"\n",
    ")"
   ]
  },
  {
   "cell_type": "markdown",
   "id": "d6574f30",
   "metadata": {
    "papermill": {
     "duration": 0.010004,
     "end_time": "2022-07-15T00:47:23.156431",
     "exception": false,
     "start_time": "2022-07-15T00:47:23.146427",
     "status": "completed"
    },
    "tags": []
   },
   "source": [
    "## Resort & Save Results"
   ]
  },
  {
   "cell_type": "code",
   "execution_count": 13,
   "id": "d722f77c",
   "metadata": {
    "ExecuteTime": {
     "end_time": "2022-07-05T14:21:10.704539Z",
     "start_time": "2022-07-05T14:21:10.692539Z"
    },
    "execution": {
     "iopub.execute_input": "2022-07-15T00:47:23.177427Z",
     "iopub.status.busy": "2022-07-15T00:47:23.176428Z",
     "iopub.status.idle": "2022-07-15T00:47:23.183427Z",
     "shell.execute_reply": "2022-07-15T00:47:23.181453Z"
    },
    "papermill": {
     "duration": 0.018003,
     "end_time": "2022-07-15T00:47:23.186433",
     "exception": false,
     "start_time": "2022-07-15T00:47:23.168430",
     "status": "completed"
    },
    "tags": []
   },
   "outputs": [],
   "source": [
    "df_XY_imputed = df_XY_imputed.reindex(sorted(df_XY_imputed.columns), axis=1)"
   ]
  },
  {
   "cell_type": "code",
   "execution_count": 14,
   "id": "b01a7cf1",
   "metadata": {
    "ExecuteTime": {
     "end_time": "2022-07-05T14:21:10.875537Z",
     "start_time": "2022-07-05T14:21:10.711540Z"
    },
    "execution": {
     "iopub.execute_input": "2022-07-15T00:47:23.207431Z",
     "iopub.status.busy": "2022-07-15T00:47:23.206431Z",
     "iopub.status.idle": "2022-07-15T00:47:23.354430Z",
     "shell.execute_reply": "2022-07-15T00:47:23.352429Z"
    },
    "lines_to_next_cell": 2,
    "papermill": {
     "duration": 0.166985,
     "end_time": "2022-07-15T00:47:23.359430",
     "exception": false,
     "start_time": "2022-07-15T00:47:23.192445",
     "status": "completed"
    },
    "tags": []
   },
   "outputs": [],
   "source": [
    "## save results\n",
    "\n",
    "df_XY_imputed.to_csv(\"output/e_resultcleaned.csv\")"
   ]
  },
  {
   "cell_type": "code",
   "execution_count": 15,
   "id": "c5d949fc",
   "metadata": {
    "ExecuteTime": {
     "end_time": "2022-07-05T14:21:10.906538Z",
     "start_time": "2022-07-05T14:21:10.881550Z"
    },
    "execution": {
     "iopub.execute_input": "2022-07-15T00:47:23.388434Z",
     "iopub.status.busy": "2022-07-15T00:47:23.387436Z",
     "iopub.status.idle": "2022-07-15T00:47:23.431429Z",
     "shell.execute_reply": "2022-07-15T00:47:23.430426Z"
    },
    "papermill": {
     "duration": 0.060994,
     "end_time": "2022-07-15T00:47:23.435427",
     "exception": false,
     "start_time": "2022-07-15T00:47:23.374433",
     "status": "completed"
    },
    "tags": []
   },
   "outputs": [
    {
     "data": {
      "text/plain": [
       "['output/e_preprocessor_na.joblib']"
      ]
     },
     "execution_count": 15,
     "metadata": {},
     "output_type": "execute_result"
    }
   ],
   "source": [
    "## save imputer\n",
    "\n",
    "dump(preprocessor_na, \"output/e_preprocessor_na.joblib\")"
   ]
  },
  {
   "cell_type": "code",
   "execution_count": null,
   "id": "78a95beb",
   "metadata": {
    "papermill": {
     "duration": 0.009999,
     "end_time": "2022-07-15T00:47:23.452431",
     "exception": false,
     "start_time": "2022-07-15T00:47:23.442432",
     "status": "completed"
    },
    "tags": []
   },
   "outputs": [],
   "source": []
  }
 ],
 "metadata": {
  "jupytext": {
   "cell_metadata_filter": "-all",
   "formats": "auto:percent,ipynb",
   "notebook_metadata_filter": "-all"
  },
  "kernelspec": {
   "display_name": "p1analyzetrades",
   "language": "python",
   "name": "p1analyzetrades"
  },
  "language_info": {
   "codemirror_mode": {
    "name": "ipython",
    "version": 3
   },
   "file_extension": ".py",
   "mimetype": "text/x-python",
   "name": "python",
   "nbconvert_exporter": "python",
   "pygments_lexer": "ipython3",
   "version": "3.9.10"
  },
  "papermill": {
   "default_parameters": {},
   "duration": 11.055629,
   "end_time": "2022-07-15T00:47:24.046425",
   "environment_variables": {},
   "exception": null,
   "input_path": "P1-AnalyzeTrades_e_feateng.ipynb",
   "output_path": "P1-AnalyzeTrades_e_feateng_output.ipynb",
   "parameters": {},
   "start_time": "2022-07-15T00:47:12.990796",
   "version": "2.3.4"
  },
  "toc": {
   "base_numbering": 1,
   "nav_menu": {},
   "number_sections": true,
   "sideBar": true,
   "skip_h1_title": false,
   "title_cell": "Table of Contents",
   "title_sidebar": "Contents",
   "toc_cell": false,
   "toc_position": {},
   "toc_section_display": true,
   "toc_window_display": true
  },
  "varInspector": {
   "cols": {
    "lenName": 16,
    "lenType": 16,
    "lenVar": 40
   },
   "kernels_config": {
    "python": {
     "delete_cmd_postfix": "",
     "delete_cmd_prefix": "del ",
     "library": "var_list.py",
     "varRefreshCmd": "print(var_dic_list())"
    },
    "r": {
     "delete_cmd_postfix": ") ",
     "delete_cmd_prefix": "rm(",
     "library": "var_list.r",
     "varRefreshCmd": "cat(var_dic_list()) "
    }
   },
   "types_to_exclude": [
    "module",
    "function",
    "builtin_function_or_method",
    "instance",
    "_Feature"
   ],
   "window_display": true
  }
 },
 "nbformat": 4,
 "nbformat_minor": 5
}