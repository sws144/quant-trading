{
 "cells": [
  {
   "cell_type": "markdown",
   "id": "e1d9e183",
   "metadata": {
    "papermill": {
     "duration": 0.003001,
     "end_time": "2023-08-19T12:14:36.612031",
     "exception": false,
     "start_time": "2023-08-19T12:14:36.609030",
     "status": "completed"
    },
    "tags": []
   },
   "source": [
    "# E: Feature Engineering"
   ]
  },
  {
   "cell_type": "markdown",
   "id": "0334c4ff",
   "metadata": {
    "papermill": {
     "duration": 0.001999,
     "end_time": "2023-08-19T12:14:36.617030",
     "exception": false,
     "start_time": "2023-08-19T12:14:36.615031",
     "status": "completed"
    },
    "tags": []
   },
   "source": [
    "## imports"
   ]
  },
  {
   "cell_type": "code",
   "execution_count": 1,
   "id": "95c96570",
   "metadata": {
    "ExecuteTime": {
     "end_time": "2022-09-24T23:31:04.702580Z",
     "start_time": "2022-09-24T23:31:04.686575Z"
    },
    "execution": {
     "iopub.execute_input": "2023-08-19T12:14:36.625031Z",
     "iopub.status.busy": "2023-08-19T12:14:36.625031Z",
     "iopub.status.idle": "2023-08-19T12:14:37.602507Z",
     "shell.execute_reply": "2023-08-19T12:14:37.602507Z"
    },
    "papermill": {
     "duration": 0.982477,
     "end_time": "2023-08-19T12:14:37.603507",
     "exception": false,
     "start_time": "2023-08-19T12:14:36.621030",
     "status": "completed"
    },
    "tags": []
   },
   "outputs": [],
   "source": [
    "\n",
    "\n",
    "import pandas as pd\n",
    "import numpy as np\n",
    "\n",
    "# for na pipeline\n",
    "import warnings\n",
    "import sklearn\n",
    "from sklearn.compose import ColumnTransformer\n",
    "from sklearn.impute import SimpleImputer\n",
    "from sklearn.pipeline import Pipeline\n",
    "from sklearn.preprocessing import StandardScaler, OneHotEncoder\n",
    "from sklearn.base import TransformerMixin  # for custom transformers\n",
    "\n",
    "from joblib import dump, load"
   ]
  },
  {
   "cell_type": "markdown",
   "id": "2c33d684",
   "metadata": {
    "papermill": {
     "duration": 0.003234,
     "end_time": "2023-08-19T12:14:37.610741",
     "exception": false,
     "start_time": "2023-08-19T12:14:37.607507",
     "status": "completed"
    },
    "tags": []
   },
   "source": [
    "## read in data"
   ]
  },
  {
   "cell_type": "code",
   "execution_count": 2,
   "id": "d6ccabda",
   "metadata": {
    "ExecuteTime": {
     "end_time": "2022-09-24T23:31:04.811593Z",
     "start_time": "2022-09-24T23:31:04.709580Z"
    },
    "execution": {
     "iopub.execute_input": "2023-08-19T12:14:37.617743Z",
     "iopub.status.busy": "2023-08-19T12:14:37.616742Z",
     "iopub.status.idle": "2023-08-19T12:14:37.649743Z",
     "shell.execute_reply": "2023-08-19T12:14:37.649743Z"
    },
    "lines_to_next_cell": 1,
    "papermill": {
     "duration": 0.037,
     "end_time": "2023-08-19T12:14:37.650743",
     "exception": false,
     "start_time": "2023-08-19T12:14:37.613743",
     "status": "completed"
    },
    "tags": []
   },
   "outputs": [],
   "source": [
    "df_XY = pd.read_csv(\"output/c_resulttradewattr.csv\")"
   ]
  },
  {
   "cell_type": "code",
   "execution_count": 3,
   "id": "b447cd2d",
   "metadata": {
    "ExecuteTime": {
     "end_time": "2022-09-24T23:31:04.857575Z",
     "start_time": "2022-09-24T23:31:04.819603Z"
    },
    "execution": {
     "iopub.execute_input": "2023-08-19T12:14:37.657743Z",
     "iopub.status.busy": "2023-08-19T12:14:37.657743Z",
     "iopub.status.idle": "2023-08-19T12:14:37.664746Z",
     "shell.execute_reply": "2023-08-19T12:14:37.664746Z"
    },
    "papermill": {
     "duration": 0.012002,
     "end_time": "2023-08-19T12:14:37.665745",
     "exception": false,
     "start_time": "2023-08-19T12:14:37.653743",
     "status": "completed"
    },
    "tags": []
   },
   "outputs": [],
   "source": [
    "##  get_feature_names function\n",
    "# https://johaupt.github.io/scikit-learn/tutorial/python/data%20processing/ml%20pipeline/model%20interpretation/columnTransformer_feature_names.html\n",
    "def get_feature_names(column_transformer):\n",
    "    \"\"\"Get feature names from all transformers.\n",
    "    Returns\n",
    "    -------\n",
    "    feature_names : list of strings\n",
    "        Names of the features produced by transform.\n",
    "    \"\"\"\n",
    "    # Remove the internal helper function\n",
    "    # check_is_fitted(column_transformer)\n",
    "\n",
    "    # Turn loopkup into function for better handling with pipeline later\n",
    "    def get_names(trans):\n",
    "        # >> Original get_feature_names() method\n",
    "        if trans == \"drop\" or (hasattr(column, \"__len__\") and not len(column)):\n",
    "            return []\n",
    "        if trans == \"passthrough\":\n",
    "            if hasattr(column_transformer, \"_df_columns\"):\n",
    "                if (not isinstance(column, slice)) and all(\n",
    "                    isinstance(col, str) for col in column\n",
    "                ):\n",
    "                    return column\n",
    "                else:\n",
    "                    return column_transformer._df_columns[column]\n",
    "            else:\n",
    "                indices = np.arange(column_transformer._n_features)\n",
    "                return [i for i in indices[column]]\n",
    "        if not hasattr(trans, \"get_feature_names\"):\n",
    "            # >>> Change: Return input column names if no method avaiable\n",
    "            # Turn error into a warning\n",
    "            warnings.warn(\n",
    "                \"Transformer %s (type %s) does not \"\n",
    "                \"provide get_feature_names. \"\n",
    "                \"Will return input column names if available\"\n",
    "                % (str(name), type(trans).__name__)\n",
    "            )\n",
    "            # For transformers without a get_features_names method, use the input\n",
    "            # names to the column transformer\n",
    "            if column is None:\n",
    "                return []\n",
    "            else:\n",
    "                return [f for f in column]\n",
    "\n",
    "        return [f for f in trans.get_feature_names()]\n",
    "\n",
    "    ### Start of processing\n",
    "    feature_names = []\n",
    "\n",
    "    # Allow transformers to be pipelines. Pipeline steps are named differently, so preprocessing is needed\n",
    "    if type(column_transformer) == sklearn.pipeline.Pipeline:\n",
    "        l_transformers = [\n",
    "            (name, trans, None) for step, name, trans in column_transformer._iter()\n",
    "        ]\n",
    "    else:\n",
    "        # For column transformers, follow the original method\n",
    "        l_transformers = column_transformer.transformers_\n",
    "\n",
    "    for name, trans, column in l_transformers:\n",
    "        if type(trans) == sklearn.pipeline.Pipeline:\n",
    "            # Recursive call on pipeline\n",
    "            _names = get_feature_names(trans)\n",
    "            # if pipeline has no transformer that returns names\n",
    "            if len(_names) == 0:\n",
    "                _names = [f for f in column]\n",
    "            feature_names.extend(_names)\n",
    "        else:\n",
    "            feature_names.extend(get_names(trans))\n",
    "\n",
    "    return feature_names"
   ]
  },
  {
   "cell_type": "markdown",
   "id": "5c8a0007",
   "metadata": {
    "papermill": {
     "duration": 0.003,
     "end_time": "2023-08-19T12:14:37.672745",
     "exception": false,
     "start_time": "2023-08-19T12:14:37.669745",
     "status": "completed"
    },
    "tags": []
   },
   "source": [
    "## custom transformers"
   ]
  },
  {
   "cell_type": "code",
   "execution_count": 4,
   "id": "3331ab60",
   "metadata": {
    "ExecuteTime": {
     "end_time": "2022-09-24T23:31:04.888575Z",
     "start_time": "2022-09-24T23:31:04.864585Z"
    },
    "execution": {
     "iopub.execute_input": "2023-08-19T12:14:37.679944Z",
     "iopub.status.busy": "2023-08-19T12:14:37.678745Z",
     "iopub.status.idle": "2023-08-19T12:14:37.695944Z",
     "shell.execute_reply": "2023-08-19T12:14:37.695944Z"
    },
    "papermill": {
     "duration": 0.021197,
     "end_time": "2023-08-19T12:14:37.696943",
     "exception": false,
     "start_time": "2023-08-19T12:14:37.675746",
     "status": "completed"
    },
    "tags": []
   },
   "outputs": [],
   "source": [
    "class Numerizer(TransformerMixin):\n",
    "    \"convert numbers and % to numbers as well\"\n",
    "    import pandas as pd\n",
    "    import numpy as np\n",
    "\n",
    "    def __init__(self):\n",
    "        pass\n",
    "\n",
    "    def fit(self, X, y=None):\n",
    "        return self\n",
    "\n",
    "    def transform(self, X):\n",
    "        \n",
    "#         Y = X.apply(pd.to_numeric, args=({\"errors\":\"coerce\"})).fillna(np.nan)\n",
    "\n",
    "        Y = X.apply((lambda x: (\n",
    "            pd.to_numeric(x.astype(str).str.replace(r'%', r'e-2'),errors='coerce')\n",
    "            )\n",
    "            )\n",
    "        )\n",
    "\n",
    "        return Y\n",
    "\n",
    "\n",
    "class StringTransformer(TransformerMixin):\n",
    "    import pandas as pd\n",
    "\n",
    "    def __init__(self):\n",
    "        pass\n",
    "\n",
    "    def fit(self, X, y=None):\n",
    "        return self\n",
    "\n",
    "    def transform(self, X):\n",
    "        Y = pd.DataFrame(X).astype(\"string\")\n",
    "        return Y"
   ]
  },
  {
   "cell_type": "markdown",
   "id": "73df66cb",
   "metadata": {
    "papermill": {
     "duration": 0.003999,
     "end_time": "2023-08-19T12:14:37.703943",
     "exception": false,
     "start_time": "2023-08-19T12:14:37.699944",
     "status": "completed"
    },
    "tags": []
   },
   "source": [
    "## Add Weights"
   ]
  },
  {
   "cell_type": "code",
   "execution_count": 5,
   "id": "0c1ba452",
   "metadata": {
    "ExecuteTime": {
     "end_time": "2022-09-18T18:35:14.646541Z",
     "start_time": "2022-09-18T18:35:14.631542Z"
    },
    "execution": {
     "iopub.execute_input": "2023-08-19T12:14:37.711944Z",
     "iopub.status.busy": "2023-08-19T12:14:37.711944Z",
     "iopub.status.idle": "2023-08-19T12:14:37.727944Z",
     "shell.execute_reply": "2023-08-19T12:14:37.727944Z"
    },
    "papermill": {
     "duration": 0.021,
     "end_time": "2023-08-19T12:14:37.728944",
     "exception": false,
     "start_time": "2023-08-19T12:14:37.707944",
     "status": "completed"
    },
    "scrolled": true,
    "tags": []
   },
   "outputs": [],
   "source": [
    "df_XY['Age'] = df_XY['Open_Year'] - min(df_XY['Open_Year']-1)\n",
    "df_XY['Weight'] = 0.8 # hyperparam for exponential weighting\n",
    "df_XY['Weight'] = df_XY['Weight'].pow(df_XY['Age'],fill_value=0)"
   ]
  },
  {
   "cell_type": "code",
   "execution_count": 6,
   "id": "bd9e0fc9",
   "metadata": {
    "ExecuteTime": {
     "end_time": "2022-09-18T18:35:14.677541Z",
     "start_time": "2022-09-18T18:35:14.651542Z"
    },
    "execution": {
     "iopub.execute_input": "2023-08-19T12:14:37.737944Z",
     "iopub.status.busy": "2023-08-19T12:14:37.737944Z",
     "iopub.status.idle": "2023-08-19T12:14:37.743944Z",
     "shell.execute_reply": "2023-08-19T12:14:37.743944Z"
    },
    "papermill": {
     "duration": 0.011,
     "end_time": "2023-08-19T12:14:37.744944",
     "exception": false,
     "start_time": "2023-08-19T12:14:37.733944",
     "status": "completed"
    },
    "tags": []
   },
   "outputs": [
    {
     "data": {
      "text/plain": [
       "2    742\n",
       "6    437\n",
       "5    339\n",
       "7    235\n",
       "8    205\n",
       "3    197\n",
       "4    104\n",
       "1     86\n",
       "9     49\n",
       "Name: Age, dtype: int64"
      ]
     },
     "execution_count": 6,
     "metadata": {},
     "output_type": "execute_result"
    }
   ],
   "source": [
    "df_XY['Age'].value_counts()"
   ]
  },
  {
   "cell_type": "code",
   "execution_count": 7,
   "id": "9edf7d76",
   "metadata": {
    "ExecuteTime": {
     "end_time": "2022-09-18T18:35:14.708560Z",
     "start_time": "2022-09-18T18:35:14.681549Z"
    },
    "execution": {
     "iopub.execute_input": "2023-08-19T12:14:37.751943Z",
     "iopub.status.busy": "2023-08-19T12:14:37.751943Z",
     "iopub.status.idle": "2023-08-19T12:14:37.759944Z",
     "shell.execute_reply": "2023-08-19T12:14:37.759944Z"
    },
    "papermill": {
     "duration": 0.013,
     "end_time": "2023-08-19T12:14:37.760944",
     "exception": false,
     "start_time": "2023-08-19T12:14:37.747944",
     "status": "completed"
    },
    "tags": []
   },
   "outputs": [
    {
     "data": {
      "text/plain": [
       "0.640000    742\n",
       "0.262144    437\n",
       "0.327680    339\n",
       "0.209715    235\n",
       "0.167772    205\n",
       "0.512000    197\n",
       "0.409600    104\n",
       "0.800000     86\n",
       "0.134218     49\n",
       "Name: Weight, dtype: int64"
      ]
     },
     "execution_count": 7,
     "metadata": {},
     "output_type": "execute_result"
    }
   ],
   "source": [
    "df_XY['Weight'].value_counts()"
   ]
  },
  {
   "cell_type": "markdown",
   "id": "5ddbf2ee",
   "metadata": {
    "papermill": {
     "duration": 0.003999,
     "end_time": "2023-08-19T12:14:37.767945",
     "exception": false,
     "start_time": "2023-08-19T12:14:37.763946",
     "status": "completed"
    },
    "tags": []
   },
   "source": [
    "## create na pipeline"
   ]
  },
  {
   "cell_type": "code",
   "execution_count": 8,
   "id": "351d6bd5",
   "metadata": {
    "ExecuteTime": {
     "end_time": "2022-09-18T18:35:14.740543Z",
     "start_time": "2022-09-18T18:35:14.713543Z"
    },
    "execution": {
     "iopub.execute_input": "2023-08-19T12:14:37.774946Z",
     "iopub.status.busy": "2023-08-19T12:14:37.774946Z",
     "iopub.status.idle": "2023-08-19T12:14:37.790967Z",
     "shell.execute_reply": "2023-08-19T12:14:37.790967Z"
    },
    "papermill": {
     "duration": 0.021021,
     "end_time": "2023-08-19T12:14:37.791967",
     "exception": false,
     "start_time": "2023-08-19T12:14:37.770946",
     "status": "completed"
    },
    "scrolled": true,
    "tags": []
   },
   "outputs": [
    {
     "data": {
      "text/plain": [
       "Series([], Name: 0, dtype: object)"
      ]
     },
     "execution_count": 8,
     "metadata": {},
     "output_type": "execute_result"
    }
   ],
   "source": [
    "df_XY.loc[0,df_XY.columns.duplicated()]"
   ]
  },
  {
   "cell_type": "code",
   "execution_count": 9,
   "id": "ce3267dc",
   "metadata": {
    "ExecuteTime": {
     "end_time": "2022-09-18T18:35:14.786543Z",
     "start_time": "2022-09-18T18:35:14.744542Z"
    },
    "execution": {
     "iopub.execute_input": "2023-08-19T12:14:37.798968Z",
     "iopub.status.busy": "2023-08-19T12:14:37.797967Z",
     "iopub.status.idle": "2023-08-19T12:14:37.806967Z",
     "shell.execute_reply": "2023-08-19T12:14:37.806967Z"
    },
    "lines_to_next_cell": 2,
    "papermill": {
     "duration": 0.014,
     "end_time": "2023-08-19T12:14:37.808967",
     "exception": false,
     "start_time": "2023-08-19T12:14:37.794967",
     "status": "completed"
    },
    "tags": []
   },
   "outputs": [],
   "source": [
    "# remove all nan columns\n",
    "df_XY = df_XY.dropna(axis=1, how='all')"
   ]
  },
  {
   "cell_type": "code",
   "execution_count": 10,
   "id": "da5d1dfc",
   "metadata": {
    "ExecuteTime": {
     "end_time": "2022-09-18T18:35:14.818542Z",
     "start_time": "2022-09-18T18:35:14.795541Z"
    },
    "execution": {
     "iopub.execute_input": "2023-08-19T12:14:37.817967Z",
     "iopub.status.busy": "2023-08-19T12:14:37.817967Z",
     "iopub.status.idle": "2023-08-19T12:14:37.822967Z",
     "shell.execute_reply": "2023-08-19T12:14:37.822967Z"
    },
    "papermill": {
     "duration": 0.011,
     "end_time": "2023-08-19T12:14:37.823967",
     "exception": false,
     "start_time": "2023-08-19T12:14:37.812967",
     "status": "completed"
    },
    "tags": []
   },
   "outputs": [
    {
     "data": {
      "text/plain": [
       "Index(['Unnamed: 0.2', 'Unnamed: 0.1', 'Unnamed: 0', 'Open_Date', 'Close_Date',\n",
       "       'Symbol', 'Quantity', 'Pnl', 'OpenAct', 'CloseAct', 'Open_Price',\n",
       "       'Close_Price', 'Comm_Tot', 'DATE', 'ACTION', 'QTYCHG', 'PRICE', 'TIME',\n",
       "       'UNNAMED: 6', 'COMMISSION', 'UNNAMED: 8', 'CASH CHG (PNL)', 'COMMENTS',\n",
       "       'PCTRETURN', 'STARTDATE', 'COMPANY NAME (IN ALPHABETICAL ORDER)',\n",
       "       'TICKER', 'STOP', '% TO STOP', 'CURRENT PRICE', '% TO TARGET',\n",
       "       'AT PRICE', 'TARGET', 'EPS1', 'EPS2', 'FYEND', 'DAYSTOFYEND',\n",
       "       'FYEPSNXT', 'GROWTH*0.5TO0.75', 'ROIC (BW ROA ROE)', 'TGT FWD P/E',\n",
       "       'YEARS TO NORMALIZATION', 'LASTUPDATED', 'CATEGORY', 'COMMENTS.1',\n",
       "       'FILENAME', 'DayOfWeek0Mon', 'Date_YahooFinance', 'Close_^GSPC',\n",
       "       'Close_^VIX', 'Close_^GSPC_200MA', 'SP500from200MA', 'Open_Year',\n",
       "       'CONS_SENT_Date', 'CONS_SENT_Index', 'Date',\n",
       "       'AAII_0_level_0_Reported_Date', 'AAII_1_level_0_Reported_Bullish',\n",
       "       'AAII_2_level_0_Reported_Neutral', 'AAII_3_level_0_Reported_Bearish',\n",
       "       'AAII_4_level_0_Reported_Total', 'AAII_Bullish_8-week_Mov Avg',\n",
       "       'AAII_Bullish_Bull-Bear_Spread', 'AAII_Bullish_Bullish_Average',\n",
       "       'AAII_Bullish_Average_+St. Dev.', 'AAII_Bullish_Average_- St. Dev.',\n",
       "       'AAII_S&P 500_Weekly_High', 'AAII_S&P 500_Weekly_Low',\n",
       "       'AAII_S&P 500_Weekly_Close', 'AAII_Date', 'Age', 'Weight'],\n",
       "      dtype='object')"
      ]
     },
     "execution_count": 10,
     "metadata": {},
     "output_type": "execute_result"
    }
   ],
   "source": [
    "df_XY.columns"
   ]
  },
  {
   "cell_type": "code",
   "execution_count": 11,
   "id": "54add40d",
   "metadata": {
    "ExecuteTime": {
     "end_time": "2022-09-18T18:35:15.157548Z",
     "start_time": "2022-09-18T18:35:14.821547Z"
    },
    "execution": {
     "iopub.execute_input": "2023-08-19T12:14:37.832967Z",
     "iopub.status.busy": "2023-08-19T12:14:37.832967Z",
     "iopub.status.idle": "2023-08-19T12:14:37.963748Z",
     "shell.execute_reply": "2023-08-19T12:14:37.963748Z"
    },
    "lines_to_next_cell": 2,
    "papermill": {
     "duration": 0.136782,
     "end_time": "2023-08-19T12:14:37.964749",
     "exception": false,
     "start_time": "2023-08-19T12:14:37.827967",
     "status": "completed"
    },
    "tags": []
   },
   "outputs": [
    {
     "name": "stderr",
     "output_type": "stream",
     "text": [
      "C:\\Users\\Stanley\\AppData\\Local\\Temp\\ipykernel_46864\\1557959305.py:3: FutureWarning: The default value of regex will change from True to False in a future version. In addition, single character regular expressions will *not* be treated as literal strings when regex=True.\n",
      "  pd.Series(df_XY.columns)\n",
      "C:\\Users\\Stanley\\AppData\\Local\\Temp\\ipykernel_46864\\3465394604.py:32: UserWarning: Transformer numerizer (type Numerizer) does not provide get_feature_names. Will return input column names if available\n",
      "  warnings.warn(\n",
      "C:\\Users\\Stanley\\AppData\\Local\\Temp\\ipykernel_46864\\3465394604.py:32: UserWarning: Transformer imputer (type SimpleImputer) does not provide get_feature_names. Will return input column names if available\n",
      "  warnings.warn(\n",
      "C:\\Users\\Stanley\\AppData\\Local\\Temp\\ipykernel_46864\\3465394604.py:32: UserWarning: Transformer stringtransformer (type StringTransformer) does not provide get_feature_names. Will return input column names if available\n",
      "  warnings.warn(\n"
     ]
    }
   ],
   "source": [
    "# update columns headers to clean up\n",
    "df_XY.columns = list(\n",
    "    pd.Series(df_XY.columns)\n",
    "    .astype(str)\n",
    "    .str.replace(\" \", \"_\", regex=True)\n",
    "    .str.upper()\n",
    "    .str.strip()\n",
    "    .str.replace(\"/\", \"_\")\n",
    "    .str.replace(\"*\", \"_\")\n",
    ")\n",
    "\n",
    "# avoid duplicates\n",
    "df_XY = df_XY.loc[:,~df_XY.columns.duplicated()]\n",
    "\n",
    "# start with numeric, utilizng explore data before\n",
    "numeric_features = df_XY.convert_dtypes().select_dtypes(include=np.number).columns.tolist()\n",
    "numeric_features = numeric_features + [\n",
    "    \"%_TO_STOP\",\n",
    "    \"%_TO_TARGET\",\n",
    "    \"GROWTH_0.5TO0.75\",\n",
    "    \"ROIC_(BW_ROA_ROE)\",\n",
    "    \"TGT_FWD_P_E\",\n",
    "    \"YEARS_TO_NORMALIZATION\",\n",
    "]\n",
    "numeric_features = list(set(numeric_features))\n",
    "\n",
    "numeric_transformer = Pipeline(\n",
    "    steps=[\n",
    "        (\"numerizer\", Numerizer()),\n",
    "        (\"imputer\", SimpleImputer(missing_values=np.nan,strategy=\"median\")),\n",
    "    ]\n",
    ")\n",
    "categorical_transformer = Pipeline(\n",
    "    steps=[\n",
    "        (\"imputer\", SimpleImputer(strategy=\"constant\", fill_value=\"_NA_\")),\n",
    "        (\"stringtransformer\", StringTransformer()),\n",
    "    ]\n",
    ")\n",
    "\n",
    "# numerical\n",
    "\n",
    "# categorical_features = ['embarked', 'sex', 'pclass']\n",
    "# categorical_transformer = Pipeline(steps=[\n",
    "#     ('imputer', SimpleImputer(strategy='constant', fill_value='missing')),\n",
    "#     ('onehot', OneHotEncoder(handle_unknown='ignore'))])\n",
    "\n",
    "categorical_features = list(set(df_XY.columns).difference(set(numeric_features)))\n",
    "\n",
    "preprocessor_na = ColumnTransformer(\n",
    "    transformers=[\n",
    "        (\"num\", numeric_transformer, numeric_features),\n",
    "        (\"cat\", categorical_transformer, categorical_features),\n",
    "    ],\n",
    "    # remainder = 'passthrough' # not needed anymore\n",
    ")\n",
    "\n",
    "XY_imputed = preprocessor_na.fit_transform(df_XY)\n",
    "\n",
    "columns = get_feature_names(preprocessor_na)\n",
    "\n",
    "df_XY_imputed = pd.DataFrame(XY_imputed, columns=columns).convert_dtypes()"
   ]
  },
  {
   "cell_type": "code",
   "execution_count": 12,
   "id": "fa2f3cbb",
   "metadata": {
    "ExecuteTime": {
     "end_time": "2022-09-18T18:35:15.235550Z",
     "start_time": "2022-09-18T18:35:15.165554Z"
    },
    "execution": {
     "iopub.execute_input": "2023-08-19T12:14:37.971749Z",
     "iopub.status.busy": "2023-08-19T12:14:37.971749Z",
     "iopub.status.idle": "2023-08-19T12:14:37.994386Z",
     "shell.execute_reply": "2023-08-19T12:14:37.994386Z"
    },
    "papermill": {
     "duration": 0.027636,
     "end_time": "2023-08-19T12:14:37.995386",
     "exception": false,
     "start_time": "2023-08-19T12:14:37.967750",
     "status": "completed"
    },
    "tags": []
   },
   "outputs": [
    {
     "data": {
      "text/html": [
       "<div>\n",
       "<style scoped>\n",
       "    .dataframe tbody tr th:only-of-type {\n",
       "        vertical-align: middle;\n",
       "    }\n",
       "\n",
       "    .dataframe tbody tr th {\n",
       "        vertical-align: top;\n",
       "    }\n",
       "\n",
       "    .dataframe thead th {\n",
       "        text-align: right;\n",
       "    }\n",
       "</style>\n",
       "<table border=\"1\" class=\"dataframe\">\n",
       "  <thead>\n",
       "    <tr style=\"text-align: right;\">\n",
       "      <th></th>\n",
       "      <th>%_TO_TARGET</th>\n",
       "      <th>AAII_BULLISH_AVERAGE_-_ST._DEV.</th>\n",
       "      <th>AAII_BULLISH_BULL-BEAR_SPREAD</th>\n",
       "      <th>UNNAMED:_0.2</th>\n",
       "      <th>UNNAMED:_0</th>\n",
       "      <th>YEARS_TO_NORMALIZATION</th>\n",
       "      <th>%_TO_STOP</th>\n",
       "      <th>PNL</th>\n",
       "      <th>QTYCHG</th>\n",
       "      <th>PRICE</th>\n",
       "      <th>...</th>\n",
       "      <th>UNNAMED:_8</th>\n",
       "      <th>SYMBOL</th>\n",
       "      <th>DAYSTOFYEND</th>\n",
       "      <th>CONS_SENT_DATE</th>\n",
       "      <th>TICKER</th>\n",
       "      <th>FYEND</th>\n",
       "      <th>OPENACT</th>\n",
       "      <th>STOP</th>\n",
       "      <th>DATE_YAHOOFINANCE</th>\n",
       "      <th>STARTDATE</th>\n",
       "    </tr>\n",
       "  </thead>\n",
       "  <tbody>\n",
       "    <tr>\n",
       "      <th>0</th>\n",
       "      <td>0.0045</td>\n",
       "      <td>0.276547</td>\n",
       "      <td>0.138889</td>\n",
       "      <td>0</td>\n",
       "      <td>0</td>\n",
       "      <td>6</td>\n",
       "      <td>-0.1473</td>\n",
       "      <td>-4851.23</td>\n",
       "      <td>200</td>\n",
       "      <td>46.8</td>\n",
       "      <td>...</td>\n",
       "      <td>_NA_</td>\n",
       "      <td>AER</td>\n",
       "      <td>_NA_</td>\n",
       "      <td>2015-06-30</td>\n",
       "      <td>_NA_</td>\n",
       "      <td>_NA_</td>\n",
       "      <td>B</td>\n",
       "      <td>_NA_</td>\n",
       "      <td>2015-06-30</td>\n",
       "      <td>_NA_</td>\n",
       "    </tr>\n",
       "    <tr>\n",
       "      <th>1</th>\n",
       "      <td>0.0045</td>\n",
       "      <td>0.276547</td>\n",
       "      <td>0.138889</td>\n",
       "      <td>1</td>\n",
       "      <td>10</td>\n",
       "      <td>6</td>\n",
       "      <td>-0.1473</td>\n",
       "      <td>-4728.0</td>\n",
       "      <td>2000</td>\n",
       "      <td>16.49</td>\n",
       "      <td>...</td>\n",
       "      <td>_NA_</td>\n",
       "      <td>ABX</td>\n",
       "      <td>_NA_</td>\n",
       "      <td>2015-06-30</td>\n",
       "      <td>_NA_</td>\n",
       "      <td>_NA_</td>\n",
       "      <td>S</td>\n",
       "      <td>_NA_</td>\n",
       "      <td>2015-06-30</td>\n",
       "      <td>_NA_</td>\n",
       "    </tr>\n",
       "    <tr>\n",
       "      <th>2</th>\n",
       "      <td>0.0045</td>\n",
       "      <td>0.276547</td>\n",
       "      <td>0.138889</td>\n",
       "      <td>2</td>\n",
       "      <td>35</td>\n",
       "      <td>6</td>\n",
       "      <td>-0.1473</td>\n",
       "      <td>2229.17</td>\n",
       "      <td>20</td>\n",
       "      <td>689.73</td>\n",
       "      <td>...</td>\n",
       "      <td>_NA_</td>\n",
       "      <td>AZO</td>\n",
       "      <td>_NA_</td>\n",
       "      <td>2015-06-30</td>\n",
       "      <td>_NA_</td>\n",
       "      <td>_NA_</td>\n",
       "      <td>B</td>\n",
       "      <td>_NA_</td>\n",
       "      <td>2015-06-30</td>\n",
       "      <td>_NA_</td>\n",
       "    </tr>\n",
       "    <tr>\n",
       "      <th>3</th>\n",
       "      <td>0.0045</td>\n",
       "      <td>0.276547</td>\n",
       "      <td>0.138889</td>\n",
       "      <td>3</td>\n",
       "      <td>259</td>\n",
       "      <td>6</td>\n",
       "      <td>-0.1473</td>\n",
       "      <td>-1573.1</td>\n",
       "      <td>100</td>\n",
       "      <td>59.36</td>\n",
       "      <td>...</td>\n",
       "      <td>_NA_</td>\n",
       "      <td>AIG</td>\n",
       "      <td>_NA_</td>\n",
       "      <td>2015-06-30</td>\n",
       "      <td>_NA_</td>\n",
       "      <td>_NA_</td>\n",
       "      <td>B</td>\n",
       "      <td>_NA_</td>\n",
       "      <td>2015-06-30</td>\n",
       "      <td>_NA_</td>\n",
       "    </tr>\n",
       "    <tr>\n",
       "      <th>4</th>\n",
       "      <td>0.0045</td>\n",
       "      <td>0.276547</td>\n",
       "      <td>0.138889</td>\n",
       "      <td>4</td>\n",
       "      <td>64</td>\n",
       "      <td>6</td>\n",
       "      <td>-0.1473</td>\n",
       "      <td>6677.8</td>\n",
       "      <td>4000</td>\n",
       "      <td>5.97</td>\n",
       "      <td>...</td>\n",
       "      <td>_NA_</td>\n",
       "      <td>VALE</td>\n",
       "      <td>_NA_</td>\n",
       "      <td>2015-06-30</td>\n",
       "      <td>_NA_</td>\n",
       "      <td>_NA_</td>\n",
       "      <td>S</td>\n",
       "      <td>_NA_</td>\n",
       "      <td>2015-06-30</td>\n",
       "      <td>_NA_</td>\n",
       "    </tr>\n",
       "  </tbody>\n",
       "</table>\n",
       "<p>5 rows × 71 columns</p>\n",
       "</div>"
      ],
      "text/plain": [
       "   %_TO_TARGET  AAII_BULLISH_AVERAGE_-_ST._DEV.  \\\n",
       "0       0.0045                         0.276547   \n",
       "1       0.0045                         0.276547   \n",
       "2       0.0045                         0.276547   \n",
       "3       0.0045                         0.276547   \n",
       "4       0.0045                         0.276547   \n",
       "\n",
       "   AAII_BULLISH_BULL-BEAR_SPREAD  UNNAMED:_0.2  UNNAMED:_0  \\\n",
       "0                       0.138889             0           0   \n",
       "1                       0.138889             1          10   \n",
       "2                       0.138889             2          35   \n",
       "3                       0.138889             3         259   \n",
       "4                       0.138889             4          64   \n",
       "\n",
       "   YEARS_TO_NORMALIZATION  %_TO_STOP      PNL  QTYCHG   PRICE  ...  \\\n",
       "0                       6    -0.1473 -4851.23     200    46.8  ...   \n",
       "1                       6    -0.1473  -4728.0    2000   16.49  ...   \n",
       "2                       6    -0.1473  2229.17      20  689.73  ...   \n",
       "3                       6    -0.1473  -1573.1     100   59.36  ...   \n",
       "4                       6    -0.1473   6677.8    4000    5.97  ...   \n",
       "\n",
       "   UNNAMED:_8  SYMBOL  DAYSTOFYEND  CONS_SENT_DATE  TICKER  FYEND  OPENACT  \\\n",
       "0        _NA_     AER         _NA_      2015-06-30    _NA_   _NA_        B   \n",
       "1        _NA_     ABX         _NA_      2015-06-30    _NA_   _NA_        S   \n",
       "2        _NA_     AZO         _NA_      2015-06-30    _NA_   _NA_        B   \n",
       "3        _NA_     AIG         _NA_      2015-06-30    _NA_   _NA_        B   \n",
       "4        _NA_    VALE         _NA_      2015-06-30    _NA_   _NA_        S   \n",
       "\n",
       "   STOP  DATE_YAHOOFINANCE  STARTDATE  \n",
       "0  _NA_         2015-06-30       _NA_  \n",
       "1  _NA_         2015-06-30       _NA_  \n",
       "2  _NA_         2015-06-30       _NA_  \n",
       "3  _NA_         2015-06-30       _NA_  \n",
       "4  _NA_         2015-06-30       _NA_  \n",
       "\n",
       "[5 rows x 71 columns]"
      ]
     },
     "execution_count": 12,
     "metadata": {},
     "output_type": "execute_result"
    }
   ],
   "source": [
    "df_XY_imputed.head()"
   ]
  },
  {
   "cell_type": "code",
   "execution_count": 13,
   "id": "6560baf9",
   "metadata": {
    "ExecuteTime": {
     "end_time": "2022-09-18T18:35:15.251545Z",
     "start_time": "2022-09-18T18:35:15.237540Z"
    },
    "execution": {
     "iopub.execute_input": "2023-08-19T12:14:38.002386Z",
     "iopub.status.busy": "2023-08-19T12:14:38.002386Z",
     "iopub.status.idle": "2023-08-19T12:14:38.010458Z",
     "shell.execute_reply": "2023-08-19T12:14:38.010458Z"
    },
    "papermill": {
     "duration": 0.013073,
     "end_time": "2023-08-19T12:14:38.011459",
     "exception": false,
     "start_time": "2023-08-19T12:14:37.998386",
     "status": "completed"
    },
    "tags": []
   },
   "outputs": [
    {
     "data": {
      "text/plain": [
       "Index(['%_TO_TARGET', 'AAII_BULLISH_AVERAGE_-_ST._DEV.',\n",
       "       'AAII_BULLISH_BULL-BEAR_SPREAD', 'UNNAMED:_0.2', 'UNNAMED:_0',\n",
       "       'YEARS_TO_NORMALIZATION', '%_TO_STOP', 'PNL', 'QTYCHG', 'PRICE',\n",
       "       'AAII_3_LEVEL_0_REPORTED_BEARISH', 'AAII_S&P_500_WEEKLY_CLOSE',\n",
       "       'QUANTITY', 'COMM_TOT', 'AGE', 'DAYOFWEEK0MON',\n",
       "       'AAII_BULLISH_8-WEEK_MOV_AVG', 'AAII_2_LEVEL_0_REPORTED_NEUTRAL',\n",
       "       'CLOSE_^GSPC', 'CLOSE_PRICE', 'AAII_S&P_500_WEEKLY_LOW',\n",
       "       'AAII_BULLISH_AVERAGE_+ST._DEV.', 'AAII_1_LEVEL_0_REPORTED_BULLISH',\n",
       "       'CLOSE_^GSPC_200MA', 'AAII_BULLISH_BULLISH_AVERAGE', 'OPEN_YEAR',\n",
       "       'GROWTH_0.5TO0.75', 'AAII_S&P_500_WEEKLY_HIGH', 'ROIC_(BW_ROA_ROE)',\n",
       "       'CLOSE_^VIX', 'SP500FROM200MA', 'TGT_FWD_P_E', 'CONS_SENT_INDEX',\n",
       "       'OPEN_PRICE', 'COMMISSION', 'UNNAMED:_0.1', 'WEIGHT',\n",
       "       'AAII_4_LEVEL_0_REPORTED_TOTAL', 'OPEN_DATE', 'TARGET', 'COMMENTS.1',\n",
       "       'ACTION', 'FILENAME', 'CATEGORY', 'CASH_CHG_(PNL)', 'COMMENTS',\n",
       "       'COMPANY_NAME_(IN_ALPHABETICAL_ORDER)', 'TIME', 'CLOSE_DATE',\n",
       "       'UNNAMED:_6', 'PCTRETURN', 'DATE', 'AAII_DATE',\n",
       "       'AAII_0_LEVEL_0_REPORTED_DATE', 'FYEPSNXT', 'AT_PRICE', 'CURRENT_PRICE',\n",
       "       'CLOSEACT', 'EPS2', 'EPS1', 'LASTUPDATED', 'UNNAMED:_8', 'SYMBOL',\n",
       "       'DAYSTOFYEND', 'CONS_SENT_DATE', 'TICKER', 'FYEND', 'OPENACT', 'STOP',\n",
       "       'DATE_YAHOOFINANCE', 'STARTDATE'],\n",
       "      dtype='object')"
      ]
     },
     "execution_count": 13,
     "metadata": {},
     "output_type": "execute_result"
    }
   ],
   "source": [
    "df_XY_imputed.columns"
   ]
  },
  {
   "cell_type": "code",
   "execution_count": 14,
   "id": "ef82b6dc",
   "metadata": {
    "ExecuteTime": {
     "end_time": "2022-09-18T18:35:15.266552Z",
     "start_time": "2022-09-18T18:35:15.256541Z"
    },
    "execution": {
     "iopub.execute_input": "2023-08-19T12:14:38.020459Z",
     "iopub.status.busy": "2023-08-19T12:14:38.020459Z",
     "iopub.status.idle": "2023-08-19T12:14:38.025686Z",
     "shell.execute_reply": "2023-08-19T12:14:38.025686Z"
    },
    "papermill": {
     "duration": 0.011229,
     "end_time": "2023-08-19T12:14:38.026687",
     "exception": false,
     "start_time": "2023-08-19T12:14:38.015458",
     "status": "completed"
    },
    "tags": []
   },
   "outputs": [],
   "source": [
    "# df_XY_imputed[\"%_TO_STOP\"].hist()"
   ]
  },
  {
   "cell_type": "code",
   "execution_count": 15,
   "id": "bfa62f20",
   "metadata": {
    "ExecuteTime": {
     "end_time": "2022-09-18T18:35:15.282547Z",
     "start_time": "2022-09-18T18:35:15.272544Z"
    },
    "execution": {
     "iopub.execute_input": "2023-08-19T12:14:38.034687Z",
     "iopub.status.busy": "2023-08-19T12:14:38.033686Z",
     "iopub.status.idle": "2023-08-19T12:14:38.042686Z",
     "shell.execute_reply": "2023-08-19T12:14:38.041687Z"
    },
    "papermill": {
     "duration": 0.013,
     "end_time": "2023-08-19T12:14:38.042686",
     "exception": false,
     "start_time": "2023-08-19T12:14:38.029686",
     "status": "completed"
    },
    "tags": []
   },
   "outputs": [],
   "source": [
    "# create target\n",
    "\n",
    "df_XY_imputed[\"PCT_RET_FINAL\"] = df_XY_imputed[\"PNL\"] / (\n",
    "    df_XY_imputed[\"OPEN_PRICE\"] * df_XY_imputed[\"QUANTITY\"]\n",
    ")"
   ]
  },
  {
   "cell_type": "code",
   "execution_count": 16,
   "id": "6f75aa8b",
   "metadata": {
    "ExecuteTime": {
     "end_time": "2022-09-18T18:35:15.298573Z",
     "start_time": "2022-09-18T18:35:15.288545Z"
    },
    "execution": {
     "iopub.execute_input": "2023-08-19T12:14:38.050686Z",
     "iopub.status.busy": "2023-08-19T12:14:38.049686Z",
     "iopub.status.idle": "2023-08-19T12:14:38.057035Z",
     "shell.execute_reply": "2023-08-19T12:14:38.057035Z"
    },
    "lines_to_next_cell": 2,
    "papermill": {
     "duration": 0.011349,
     "end_time": "2023-08-19T12:14:38.058035",
     "exception": false,
     "start_time": "2023-08-19T12:14:38.046686",
     "status": "completed"
    },
    "tags": []
   },
   "outputs": [],
   "source": [
    "# TODO create moving avg"
   ]
  },
  {
   "cell_type": "code",
   "execution_count": 17,
   "id": "8179bfa2",
   "metadata": {
    "ExecuteTime": {
     "end_time": "2022-09-18T18:35:15.314540Z",
     "start_time": "2022-09-18T18:35:15.302542Z"
    },
    "execution": {
     "iopub.execute_input": "2023-08-19T12:14:38.065036Z",
     "iopub.status.busy": "2023-08-19T12:14:38.065036Z",
     "iopub.status.idle": "2023-08-19T12:14:38.073141Z",
     "shell.execute_reply": "2023-08-19T12:14:38.073141Z"
    },
    "papermill": {
     "duration": 0.013106,
     "end_time": "2023-08-19T12:14:38.074141",
     "exception": false,
     "start_time": "2023-08-19T12:14:38.061035",
     "status": "completed"
    },
    "tags": []
   },
   "outputs": [
    {
     "name": "stdout",
     "output_type": "stream",
     "text": [
      "Index(['%_TO_TARGET', 'AAII_BULLISH_AVERAGE_-_ST._DEV.',\n",
      "       'AAII_BULLISH_BULL-BEAR_SPREAD', 'UNNAMED:_0.2', 'UNNAMED:_0',\n",
      "       'YEARS_TO_NORMALIZATION', '%_TO_STOP', 'PNL', 'QTYCHG', 'PRICE',\n",
      "       'AAII_3_LEVEL_0_REPORTED_BEARISH', 'AAII_S&P_500_WEEKLY_CLOSE',\n",
      "       'QUANTITY', 'COMM_TOT', 'AGE', 'DAYOFWEEK0MON',\n",
      "       'AAII_BULLISH_8-WEEK_MOV_AVG', 'AAII_2_LEVEL_0_REPORTED_NEUTRAL',\n",
      "       'CLOSE_^GSPC', 'CLOSE_PRICE', 'AAII_S&P_500_WEEKLY_LOW',\n",
      "       'AAII_BULLISH_AVERAGE_+ST._DEV.', 'AAII_1_LEVEL_0_REPORTED_BULLISH',\n",
      "       'CLOSE_^GSPC_200MA', 'AAII_BULLISH_BULLISH_AVERAGE', 'OPEN_YEAR',\n",
      "       'GROWTH_0.5TO0.75', 'AAII_S&P_500_WEEKLY_HIGH', 'ROIC_(BW_ROA_ROE)',\n",
      "       'CLOSE_^VIX', 'SP500FROM200MA', 'TGT_FWD_P_E', 'CONS_SENT_INDEX',\n",
      "       'OPEN_PRICE', 'COMMISSION', 'UNNAMED:_0.1', 'WEIGHT',\n",
      "       'AAII_4_LEVEL_0_REPORTED_TOTAL', 'OPEN_DATE', 'TARGET', 'COMMENTS.1',\n",
      "       'ACTION', 'FILENAME', 'CATEGORY', 'CASH_CHG_(PNL)', 'COMMENTS',\n",
      "       'COMPANY_NAME_(IN_ALPHABETICAL_ORDER)', 'TIME', 'CLOSE_DATE',\n",
      "       'UNNAMED:_6', 'PCTRETURN', 'DATE', 'AAII_DATE',\n",
      "       'AAII_0_LEVEL_0_REPORTED_DATE', 'FYEPSNXT', 'AT_PRICE', 'CURRENT_PRICE',\n",
      "       'CLOSEACT', 'EPS2', 'EPS1', 'LASTUPDATED', 'UNNAMED:_8', 'SYMBOL',\n",
      "       'DAYSTOFYEND', 'CONS_SENT_DATE', 'TICKER', 'FYEND', 'OPENACT', 'STOP',\n",
      "       'DATE_YAHOOFINANCE', 'STARTDATE', 'PCT_RET_FINAL'],\n",
      "      dtype='object')\n"
     ]
    }
   ],
   "source": [
    "# Final columns\n",
    "\n",
    "print(df_XY_imputed.columns)"
   ]
  },
  {
   "cell_type": "code",
   "execution_count": 18,
   "id": "925b9084",
   "metadata": {
    "ExecuteTime": {
     "end_time": "2022-09-18T18:35:15.344542Z",
     "start_time": "2022-09-18T18:35:15.317541Z"
    },
    "execution": {
     "iopub.execute_input": "2023-08-19T12:14:38.081647Z",
     "iopub.status.busy": "2023-08-19T12:14:38.080647Z",
     "iopub.status.idle": "2023-08-19T12:14:38.088647Z",
     "shell.execute_reply": "2023-08-19T12:14:38.088647Z"
    },
    "papermill": {
     "duration": 0.012506,
     "end_time": "2023-08-19T12:14:38.089647",
     "exception": false,
     "start_time": "2023-08-19T12:14:38.077141",
     "status": "completed"
    },
    "tags": []
   },
   "outputs": [],
   "source": [
    "## check no na's left in numerical\n",
    "\n",
    "try:\n",
    "    assert (\n",
    "        df_XY_imputed[numeric_features].isna().sum().sum() == 0\n",
    "    ), \"NAs remain in numerical\"\n",
    "except:\n",
    "    print(\"NAs remain in numerical\")"
   ]
  },
  {
   "cell_type": "markdown",
   "id": "ad761e04",
   "metadata": {
    "papermill": {
     "duration": 0.003,
     "end_time": "2023-08-19T12:14:38.095647",
     "exception": false,
     "start_time": "2023-08-19T12:14:38.092647",
     "status": "completed"
    },
    "tags": []
   },
   "source": [
    "## API Spec"
   ]
  },
  {
   "cell_type": "code",
   "execution_count": 19,
   "id": "d620b42a",
   "metadata": {
    "ExecuteTime": {
     "end_time": "2022-09-18T18:35:15.721541Z",
     "start_time": "2022-09-18T18:35:15.349550Z"
    },
    "execution": {
     "iopub.execute_input": "2023-08-19T12:14:38.103647Z",
     "iopub.status.busy": "2023-08-19T12:14:38.103647Z",
     "iopub.status.idle": "2023-08-19T12:14:38.134952Z",
     "shell.execute_reply": "2023-08-19T12:14:38.134952Z"
    },
    "lines_to_next_cell": 2,
    "papermill": {
     "duration": 0.036305,
     "end_time": "2023-08-19T12:14:38.135952",
     "exception": false,
     "start_time": "2023-08-19T12:14:38.099647",
     "status": "completed"
    },
    "tags": []
   },
   "outputs": [],
   "source": [
    "## import api spec\n",
    "\n",
    "import yaml\n",
    "from yaml import Loader\n",
    "\n",
    "with open(\"data-tests/_apispecs.yaml\") as f:\n",
    "    api_specs = yaml.load(f, Loader=Loader)"
   ]
  },
  {
   "cell_type": "code",
   "execution_count": 20,
   "id": "d6570cbd",
   "metadata": {
    "ExecuteTime": {
     "end_time": "2022-09-18T18:35:20.374129Z",
     "start_time": "2022-09-18T18:35:15.726549Z"
    },
    "execution": {
     "iopub.execute_input": "2023-08-19T12:14:38.144952Z",
     "iopub.status.busy": "2023-08-19T12:14:38.143952Z",
     "iopub.status.idle": "2023-08-19T12:14:40.466250Z",
     "shell.execute_reply": "2023-08-19T12:14:40.466250Z"
    },
    "papermill": {
     "duration": 2.327298,
     "end_time": "2023-08-19T12:14:40.467250",
     "exception": false,
     "start_time": "2023-08-19T12:14:38.139952",
     "status": "completed"
    },
    "tags": []
   },
   "outputs": [
    {
     "name": "stdout",
     "output_type": "stream",
     "text": [
      "validation completed\n"
     ]
    }
   ],
   "source": [
    "## validate based on api spec\n",
    "\n",
    "from openapi_schema_validator import validate\n",
    "import json\n",
    "\n",
    "schema = api_specs[\"components\"][\"schemas\"][\"Tradelog\"]\n",
    "\n",
    "json_str = df_XY_imputed.to_json(orient=\"records\")\n",
    "json_test = json.loads(json_str)\n",
    "\n",
    "i = 0\n",
    "for row in json_test:\n",
    "    try:\n",
    "        validate(row, schema)\n",
    "    except:\n",
    "        print(f\"failed on {i}th row \")\n",
    "        break\n",
    "    i = i + 1\n",
    "\n",
    "print(\"validation completed\")"
   ]
  },
  {
   "cell_type": "code",
   "execution_count": 21,
   "id": "72f92a7e",
   "metadata": {
    "ExecuteTime": {
     "end_time": "2022-09-18T18:35:20.610127Z",
     "start_time": "2022-09-18T18:35:20.378129Z"
    },
    "execution": {
     "iopub.execute_input": "2023-08-19T12:14:40.474250Z",
     "iopub.status.busy": "2023-08-19T12:14:40.474250Z",
     "iopub.status.idle": "2023-08-19T12:14:40.544388Z",
     "shell.execute_reply": "2023-08-19T12:14:40.544388Z"
    },
    "lines_to_next_cell": 2,
    "papermill": {
     "duration": 0.075138,
     "end_time": "2023-08-19T12:14:40.545388",
     "exception": false,
     "start_time": "2023-08-19T12:14:40.470250",
     "status": "completed"
    },
    "tags": []
   },
   "outputs": [
    {
     "data": {
      "text/plain": [
       "0"
      ]
     },
     "execution_count": 21,
     "metadata": {},
     "output_type": "execute_result"
    }
   ],
   "source": [
    "## save api spec to html\n",
    "\n",
    "import os\n",
    "\n",
    "# feed yaml file to swagger python, then create api.html\n",
    "os.system(\n",
    "    \"python swagger_yaml_to_html.py < data-tests/_apispecs.yaml > templates/api.html\"\n",
    ")"
   ]
  },
  {
   "cell_type": "markdown",
   "id": "d6574f30",
   "metadata": {
    "papermill": {
     "duration": 0.003,
     "end_time": "2023-08-19T12:14:40.552388",
     "exception": false,
     "start_time": "2023-08-19T12:14:40.549388",
     "status": "completed"
    },
    "tags": []
   },
   "source": [
    "## Resort & Save Results"
   ]
  },
  {
   "cell_type": "code",
   "execution_count": 22,
   "id": "d722f77c",
   "metadata": {
    "ExecuteTime": {
     "end_time": "2022-09-18T18:35:20.626127Z",
     "start_time": "2022-09-18T18:35:20.613129Z"
    },
    "execution": {
     "iopub.execute_input": "2023-08-19T12:14:40.560388Z",
     "iopub.status.busy": "2023-08-19T12:14:40.560388Z",
     "iopub.status.idle": "2023-08-19T12:14:40.575389Z",
     "shell.execute_reply": "2023-08-19T12:14:40.575389Z"
    },
    "papermill": {
     "duration": 0.020002,
     "end_time": "2023-08-19T12:14:40.576389",
     "exception": false,
     "start_time": "2023-08-19T12:14:40.556387",
     "status": "completed"
    },
    "tags": []
   },
   "outputs": [],
   "source": [
    "df_XY_imputed = df_XY_imputed.reindex(sorted(df_XY_imputed.columns), axis=1)"
   ]
  },
  {
   "cell_type": "code",
   "execution_count": 23,
   "id": "b01a7cf1",
   "metadata": {
    "ExecuteTime": {
     "end_time": "2022-09-18T18:35:20.766136Z",
     "start_time": "2022-09-18T18:35:20.629130Z"
    },
    "execution": {
     "iopub.execute_input": "2023-08-19T12:14:40.584862Z",
     "iopub.status.busy": "2023-08-19T12:14:40.584862Z",
     "iopub.status.idle": "2023-08-19T12:14:40.653862Z",
     "shell.execute_reply": "2023-08-19T12:14:40.653862Z"
    },
    "lines_to_next_cell": 2,
    "papermill": {
     "duration": 0.074473,
     "end_time": "2023-08-19T12:14:40.654862",
     "exception": false,
     "start_time": "2023-08-19T12:14:40.580389",
     "status": "completed"
    },
    "tags": []
   },
   "outputs": [],
   "source": [
    "## save results\n",
    "\n",
    "df_XY_imputed.to_csv(\"output/e_resultcleaned.csv\")"
   ]
  },
  {
   "cell_type": "code",
   "execution_count": 24,
   "id": "c5d949fc",
   "metadata": {
    "ExecuteTime": {
     "end_time": "2022-09-18T18:35:20.781128Z",
     "start_time": "2022-09-18T18:35:20.768128Z"
    },
    "execution": {
     "iopub.execute_input": "2023-08-19T12:14:40.663862Z",
     "iopub.status.busy": "2023-08-19T12:14:40.663862Z",
     "iopub.status.idle": "2023-08-19T12:14:40.669864Z",
     "shell.execute_reply": "2023-08-19T12:14:40.669864Z"
    },
    "papermill": {
     "duration": 0.012002,
     "end_time": "2023-08-19T12:14:40.670864",
     "exception": false,
     "start_time": "2023-08-19T12:14:40.658862",
     "status": "completed"
    },
    "tags": []
   },
   "outputs": [
    {
     "data": {
      "text/plain": [
       "['output/e_preprocessor_na.joblib']"
      ]
     },
     "execution_count": 24,
     "metadata": {},
     "output_type": "execute_result"
    }
   ],
   "source": [
    "## save imputer\n",
    "\n",
    "dump(preprocessor_na, \"output/e_preprocessor_na.joblib\")"
   ]
  },
  {
   "cell_type": "code",
   "execution_count": null,
   "id": "78a95beb",
   "metadata": {
    "papermill": {
     "duration": 0.004,
     "end_time": "2023-08-19T12:14:40.677864",
     "exception": false,
     "start_time": "2023-08-19T12:14:40.673864",
     "status": "completed"
    },
    "tags": []
   },
   "outputs": [],
   "source": []
  }
 ],
 "metadata": {
  "jupytext": {
   "cell_metadata_filter": "-all",
   "formats": "auto:percent,ipynb",
   "notebook_metadata_filter": "-all"
  },
  "kernelspec": {
   "display_name": "p1analyzetrades",
   "language": "python",
   "name": "p1analyzetrades"
  },
  "language_info": {
   "codemirror_mode": {
    "name": "ipython",
    "version": 3
   },
   "file_extension": ".py",
   "mimetype": "text/x-python",
   "name": "python",
   "nbconvert_exporter": "python",
   "pygments_lexer": "ipython3",
   "version": "3.9.13"
  },
  "papermill": {
   "default_parameters": {},
   "duration": 5.119562,
   "end_time": "2023-08-19T12:14:40.921589",
   "environment_variables": {},
   "exception": null,
   "input_path": "P1-AnalyzeTrades_e_feateng.ipynb",
   "output_path": "P1-AnalyzeTrades_e_feateng_output.ipynb",
   "parameters": {},
   "start_time": "2023-08-19T12:14:35.802027",
   "version": "2.4.0"
  },
  "toc": {
   "base_numbering": 1,
   "nav_menu": {},
   "number_sections": true,
   "sideBar": true,
   "skip_h1_title": false,
   "title_cell": "Table of Contents",
   "title_sidebar": "Contents",
   "toc_cell": false,
   "toc_position": {
    "height": "calc(100% - 180px)",
    "left": "10px",
    "top": "150px",
    "width": "384px"
   },
   "toc_section_display": true,
   "toc_window_display": true
  },
  "varInspector": {
   "cols": {
    "lenName": 16,
    "lenType": 16,
    "lenVar": 40
   },
   "kernels_config": {
    "python": {
     "delete_cmd_postfix": "",
     "delete_cmd_prefix": "del ",
     "library": "var_list.py",
     "varRefreshCmd": "print(var_dic_list())"
    },
    "r": {
     "delete_cmd_postfix": ") ",
     "delete_cmd_prefix": "rm(",
     "library": "var_list.r",
     "varRefreshCmd": "cat(var_dic_list()) "
    }
   },
   "types_to_exclude": [
    "module",
    "function",
    "builtin_function_or_method",
    "instance",
    "_Feature"
   ],
   "window_display": true
  }
 },
 "nbformat": 4,
 "nbformat_minor": 5
}