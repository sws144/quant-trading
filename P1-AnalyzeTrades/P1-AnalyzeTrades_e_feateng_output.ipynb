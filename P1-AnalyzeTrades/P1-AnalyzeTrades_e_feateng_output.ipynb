{
 "cells": [
  {
   "cell_type": "markdown",
   "id": "e1d9e183",
   "metadata": {
    "papermill": {
     "duration": 0.016002,
     "end_time": "2022-07-25T01:14:42.035548",
     "exception": false,
     "start_time": "2022-07-25T01:14:42.019546",
     "status": "completed"
    },
    "tags": []
   },
   "source": [
    "# E: Feature Engineering"
   ]
  },
  {
   "cell_type": "markdown",
   "id": "0334c4ff",
   "metadata": {
    "papermill": {
     "duration": 0.007967,
     "end_time": "2022-07-25T01:14:42.054544",
     "exception": false,
     "start_time": "2022-07-25T01:14:42.046577",
     "status": "completed"
    },
    "tags": []
   },
   "source": [
    "## imports"
   ]
  },
  {
   "cell_type": "code",
   "execution_count": 1,
   "id": "95c96570",
   "metadata": {
    "ExecuteTime": {
     "end_time": "2022-07-24T14:59:50.460122Z",
     "start_time": "2022-07-24T14:59:48.104161Z"
    },
    "execution": {
     "iopub.execute_input": "2022-07-25T01:14:42.071543Z",
     "iopub.status.busy": "2022-07-25T01:14:42.070543Z",
     "iopub.status.idle": "2022-07-25T01:14:44.898543Z",
     "shell.execute_reply": "2022-07-25T01:14:44.897543Z"
    },
    "papermill": {
     "duration": 2.840003,
     "end_time": "2022-07-25T01:14:44.902547",
     "exception": false,
     "start_time": "2022-07-25T01:14:42.062544",
     "status": "completed"
    },
    "tags": []
   },
   "outputs": [],
   "source": [
    "\n",
    "\n",
    "import pandas as pd\n",
    "import numpy as np\n",
    "\n",
    "# for na pipeline\n",
    "import warnings\n",
    "import sklearn\n",
    "from sklearn.compose import ColumnTransformer\n",
    "from sklearn.impute import SimpleImputer\n",
    "from sklearn.pipeline import Pipeline\n",
    "from sklearn.preprocessing import StandardScaler, OneHotEncoder\n",
    "from sklearn.base import TransformerMixin  # for custom transformers\n",
    "\n",
    "from joblib import dump, load"
   ]
  },
  {
   "cell_type": "markdown",
   "id": "2c33d684",
   "metadata": {
    "papermill": {
     "duration": 0.009002,
     "end_time": "2022-07-25T01:14:44.923543",
     "exception": false,
     "start_time": "2022-07-25T01:14:44.914541",
     "status": "completed"
    },
    "tags": []
   },
   "source": [
    "## read in data"
   ]
  },
  {
   "cell_type": "code",
   "execution_count": 2,
   "id": "d6ccabda",
   "metadata": {
    "ExecuteTime": {
     "end_time": "2022-07-24T14:59:50.554124Z",
     "start_time": "2022-07-24T14:59:50.469128Z"
    },
    "execution": {
     "iopub.execute_input": "2022-07-25T01:14:44.955544Z",
     "iopub.status.busy": "2022-07-25T01:14:44.954544Z",
     "iopub.status.idle": "2022-07-25T01:14:45.009542Z",
     "shell.execute_reply": "2022-07-25T01:14:45.008540Z"
    },
    "lines_to_next_cell": 1,
    "papermill": {
     "duration": 0.076998,
     "end_time": "2022-07-25T01:14:45.011541",
     "exception": false,
     "start_time": "2022-07-25T01:14:44.934543",
     "status": "completed"
    },
    "tags": []
   },
   "outputs": [],
   "source": [
    "df_XY = pd.read_csv(\"output/c_resulttradewattr.csv\")"
   ]
  },
  {
   "cell_type": "code",
   "execution_count": 3,
   "id": "b447cd2d",
   "metadata": {
    "ExecuteTime": {
     "end_time": "2022-07-24T14:59:50.584125Z",
     "start_time": "2022-07-24T14:59:50.560124Z"
    },
    "execution": {
     "iopub.execute_input": "2022-07-25T01:14:45.031546Z",
     "iopub.status.busy": "2022-07-25T01:14:45.030543Z",
     "iopub.status.idle": "2022-07-25T01:14:45.055543Z",
     "shell.execute_reply": "2022-07-25T01:14:45.054542Z"
    },
    "papermill": {
     "duration": 0.038998,
     "end_time": "2022-07-25T01:14:45.057542",
     "exception": false,
     "start_time": "2022-07-25T01:14:45.018544",
     "status": "completed"
    },
    "tags": []
   },
   "outputs": [],
   "source": [
    "##  get_feature_names function\n",
    "# https://johaupt.github.io/scikit-learn/tutorial/python/data%20processing/ml%20pipeline/model%20interpretation/columnTransformer_feature_names.html\n",
    "def get_feature_names(column_transformer):\n",
    "    \"\"\"Get feature names from all transformers.\n",
    "    Returns\n",
    "    -------\n",
    "    feature_names : list of strings\n",
    "        Names of the features produced by transform.\n",
    "    \"\"\"\n",
    "    # Remove the internal helper function\n",
    "    # check_is_fitted(column_transformer)\n",
    "\n",
    "    # Turn loopkup into function for better handling with pipeline later\n",
    "    def get_names(trans):\n",
    "        # >> Original get_feature_names() method\n",
    "        if trans == \"drop\" or (hasattr(column, \"__len__\") and not len(column)):\n",
    "            return []\n",
    "        if trans == \"passthrough\":\n",
    "            if hasattr(column_transformer, \"_df_columns\"):\n",
    "                if (not isinstance(column, slice)) and all(\n",
    "                    isinstance(col, str) for col in column\n",
    "                ):\n",
    "                    return column\n",
    "                else:\n",
    "                    return column_transformer._df_columns[column]\n",
    "            else:\n",
    "                indices = np.arange(column_transformer._n_features)\n",
    "                return [i for i in indices[column]]\n",
    "        if not hasattr(trans, \"get_feature_names\"):\n",
    "            # >>> Change: Return input column names if no method avaiable\n",
    "            # Turn error into a warning\n",
    "            warnings.warn(\n",
    "                \"Transformer %s (type %s) does not \"\n",
    "                \"provide get_feature_names. \"\n",
    "                \"Will return input column names if available\"\n",
    "                % (str(name), type(trans).__name__)\n",
    "            )\n",
    "            # For transformers without a get_features_names method, use the input\n",
    "            # names to the column transformer\n",
    "            if column is None:\n",
    "                return []\n",
    "            else:\n",
    "                return [f for f in column]\n",
    "\n",
    "        return [f for f in trans.get_feature_names()]\n",
    "\n",
    "    ### Start of processing\n",
    "    feature_names = []\n",
    "\n",
    "    # Allow transformers to be pipelines. Pipeline steps are named differently, so preprocessing is needed\n",
    "    if type(column_transformer) == sklearn.pipeline.Pipeline:\n",
    "        l_transformers = [\n",
    "            (name, trans, None) for step, name, trans in column_transformer._iter()\n",
    "        ]\n",
    "    else:\n",
    "        # For column transformers, follow the original method\n",
    "        l_transformers = column_transformer.transformers_\n",
    "\n",
    "    for name, trans, column in l_transformers:\n",
    "        if type(trans) == sklearn.pipeline.Pipeline:\n",
    "            # Recursive call on pipeline\n",
    "            _names = get_feature_names(trans)\n",
    "            # if pipeline has no transformer that returns names\n",
    "            if len(_names) == 0:\n",
    "                _names = [f for f in column]\n",
    "            feature_names.extend(_names)\n",
    "        else:\n",
    "            feature_names.extend(get_names(trans))\n",
    "\n",
    "    return feature_names"
   ]
  },
  {
   "cell_type": "markdown",
   "id": "5c8a0007",
   "metadata": {
    "papermill": {
     "duration": 0.006023,
     "end_time": "2022-07-25T01:14:45.068562",
     "exception": false,
     "start_time": "2022-07-25T01:14:45.062539",
     "status": "completed"
    },
    "tags": []
   },
   "source": [
    "## custom transformers"
   ]
  },
  {
   "cell_type": "code",
   "execution_count": 4,
   "id": "3331ab60",
   "metadata": {
    "ExecuteTime": {
     "end_time": "2022-07-24T14:59:50.616123Z",
     "start_time": "2022-07-24T14:59:50.591125Z"
    },
    "execution": {
     "iopub.execute_input": "2022-07-25T01:14:45.089545Z",
     "iopub.status.busy": "2022-07-25T01:14:45.089545Z",
     "iopub.status.idle": "2022-07-25T01:14:45.102542Z",
     "shell.execute_reply": "2022-07-25T01:14:45.101541Z"
    },
    "papermill": {
     "duration": 0.025004,
     "end_time": "2022-07-25T01:14:45.106544",
     "exception": false,
     "start_time": "2022-07-25T01:14:45.081540",
     "status": "completed"
    },
    "tags": []
   },
   "outputs": [],
   "source": [
    "class Numerizer(TransformerMixin):\n",
    "    \"convert numbers and % to numbers as well\"\n",
    "    import pandas as pd\n",
    "    import numpy as np\n",
    "\n",
    "    def __init__(self):\n",
    "        pass\n",
    "\n",
    "    def fit(self, X, y=None):\n",
    "        return self\n",
    "\n",
    "    def transform(self, X):\n",
    "        \n",
    "#         Y = X.apply(pd.to_numeric, args=({\"errors\":\"coerce\"})).fillna(np.nan)\n",
    "\n",
    "        Y = X.apply((lambda x: (\n",
    "            pd.to_numeric(x.astype(str).str.replace(r'%', r'e-2'),errors='coerce')\n",
    "            )\n",
    "            )\n",
    "        )\n",
    "\n",
    "        return Y\n",
    "\n",
    "\n",
    "class StringTransformer(TransformerMixin):\n",
    "    import pandas as pd\n",
    "\n",
    "    def __init__(self):\n",
    "        pass\n",
    "\n",
    "    def fit(self, X, y=None):\n",
    "        return self\n",
    "\n",
    "    def transform(self, X):\n",
    "        Y = pd.DataFrame(X).astype(\"string\")\n",
    "        return Y"
   ]
  },
  {
   "cell_type": "markdown",
   "id": "73df66cb",
   "metadata": {
    "papermill": {
     "duration": 0.007006,
     "end_time": "2022-07-25T01:14:45.121548",
     "exception": false,
     "start_time": "2022-07-25T01:14:45.114542",
     "status": "completed"
    },
    "tags": []
   },
   "source": [
    "## Add Weights"
   ]
  },
  {
   "cell_type": "code",
   "execution_count": 5,
   "id": "0c1ba452",
   "metadata": {
    "ExecuteTime": {
     "end_time": "2022-07-24T14:59:50.647125Z",
     "start_time": "2022-07-24T14:59:50.620126Z"
    },
    "execution": {
     "iopub.execute_input": "2022-07-25T01:14:45.136545Z",
     "iopub.status.busy": "2022-07-25T01:14:45.135544Z",
     "iopub.status.idle": "2022-07-25T01:14:45.164552Z",
     "shell.execute_reply": "2022-07-25T01:14:45.162542Z"
    },
    "papermill": {
     "duration": 0.044007,
     "end_time": "2022-07-25T01:14:45.171550",
     "exception": false,
     "start_time": "2022-07-25T01:14:45.127543",
     "status": "completed"
    },
    "scrolled": true,
    "tags": []
   },
   "outputs": [],
   "source": [
    "df_XY['Age'] = df_XY['Open_Year'] - min(df_XY['Open_Year']-1)\n",
    "df_XY['Weight'] = 0.8 # hyperparam for exponential weighting\n",
    "df_XY['Weight'] = df_XY['Weight'].pow(df_XY['Age'],fill_value=0)"
   ]
  },
  {
   "cell_type": "code",
   "execution_count": 6,
   "id": "bd9e0fc9",
   "metadata": {
    "ExecuteTime": {
     "end_time": "2022-07-24T14:59:50.711127Z",
     "start_time": "2022-07-24T14:59:50.655125Z"
    },
    "execution": {
     "iopub.execute_input": "2022-07-25T01:14:45.185542Z",
     "iopub.status.busy": "2022-07-25T01:14:45.185542Z",
     "iopub.status.idle": "2022-07-25T01:14:45.209541Z",
     "shell.execute_reply": "2022-07-25T01:14:45.208550Z"
    },
    "papermill": {
     "duration": 0.034001,
     "end_time": "2022-07-25T01:14:45.211541",
     "exception": false,
     "start_time": "2022-07-25T01:14:45.177540",
     "status": "completed"
    },
    "tags": []
   },
   "outputs": [
    {
     "data": {
      "text/plain": [
       "2    742\n",
       "6    417\n",
       "5    336\n",
       "7    214\n",
       "3    196\n",
       "4    104\n",
       "8     94\n",
       "1     86\n",
       "Name: Age, dtype: int64"
      ]
     },
     "execution_count": 6,
     "metadata": {},
     "output_type": "execute_result"
    }
   ],
   "source": [
    "df_XY['Age'].value_counts()"
   ]
  },
  {
   "cell_type": "code",
   "execution_count": 7,
   "id": "9edf7d76",
   "metadata": {
    "ExecuteTime": {
     "end_time": "2022-07-24T14:59:50.742126Z",
     "start_time": "2022-07-24T14:59:50.721133Z"
    },
    "execution": {
     "iopub.execute_input": "2022-07-25T01:14:45.225541Z",
     "iopub.status.busy": "2022-07-25T01:14:45.225541Z",
     "iopub.status.idle": "2022-07-25T01:14:45.241541Z",
     "shell.execute_reply": "2022-07-25T01:14:45.240540Z"
    },
    "papermill": {
     "duration": 0.026008,
     "end_time": "2022-07-25T01:14:45.243549",
     "exception": false,
     "start_time": "2022-07-25T01:14:45.217541",
     "status": "completed"
    },
    "tags": []
   },
   "outputs": [
    {
     "data": {
      "text/plain": [
       "0.640000    742\n",
       "0.262144    417\n",
       "0.327680    336\n",
       "0.209715    214\n",
       "0.512000    196\n",
       "0.409600    104\n",
       "0.167772     94\n",
       "0.800000     86\n",
       "Name: Weight, dtype: int64"
      ]
     },
     "execution_count": 7,
     "metadata": {},
     "output_type": "execute_result"
    }
   ],
   "source": [
    "df_XY['Weight'].value_counts()"
   ]
  },
  {
   "cell_type": "markdown",
   "id": "5ddbf2ee",
   "metadata": {
    "papermill": {
     "duration": 0.007,
     "end_time": "2022-07-25T01:14:45.259542",
     "exception": false,
     "start_time": "2022-07-25T01:14:45.252542",
     "status": "completed"
    },
    "tags": []
   },
   "source": [
    "## create na pipeline"
   ]
  },
  {
   "cell_type": "code",
   "execution_count": 8,
   "id": "351d6bd5",
   "metadata": {
    "ExecuteTime": {
     "end_time": "2022-07-24T14:59:50.758124Z",
     "start_time": "2022-07-24T14:59:50.746122Z"
    },
    "execution": {
     "iopub.execute_input": "2022-07-25T01:14:45.274543Z",
     "iopub.status.busy": "2022-07-25T01:14:45.273545Z",
     "iopub.status.idle": "2022-07-25T01:14:45.287541Z",
     "shell.execute_reply": "2022-07-25T01:14:45.286543Z"
    },
    "papermill": {
     "duration": 0.025999,
     "end_time": "2022-07-25T01:14:45.290540",
     "exception": false,
     "start_time": "2022-07-25T01:14:45.264541",
     "status": "completed"
    },
    "scrolled": true,
    "tags": []
   },
   "outputs": [
    {
     "data": {
      "text/plain": [
       "Series([], Name: 0, dtype: object)"
      ]
     },
     "execution_count": 8,
     "metadata": {},
     "output_type": "execute_result"
    }
   ],
   "source": [
    "df_XY.loc[0,df_XY.columns.duplicated()]"
   ]
  },
  {
   "cell_type": "code",
   "execution_count": 9,
   "id": "ce3267dc",
   "metadata": {
    "ExecuteTime": {
     "end_time": "2022-07-24T14:59:50.804127Z",
     "start_time": "2022-07-24T14:59:50.762126Z"
    },
    "execution": {
     "iopub.execute_input": "2022-07-25T01:14:45.304542Z",
     "iopub.status.busy": "2022-07-25T01:14:45.304542Z",
     "iopub.status.idle": "2022-07-25T01:14:45.333542Z",
     "shell.execute_reply": "2022-07-25T01:14:45.332550Z"
    },
    "lines_to_next_cell": 2,
    "papermill": {
     "duration": 0.039039,
     "end_time": "2022-07-25T01:14:45.335580",
     "exception": false,
     "start_time": "2022-07-25T01:14:45.296541",
     "status": "completed"
    },
    "tags": []
   },
   "outputs": [],
   "source": [
    "# remove all nan columns\n",
    "df_XY = df_XY.dropna(axis=1, how='all')"
   ]
  },
  {
   "cell_type": "code",
   "execution_count": 10,
   "id": "da5d1dfc",
   "metadata": {
    "ExecuteTime": {
     "end_time": "2022-07-24T14:59:50.835125Z",
     "start_time": "2022-07-24T14:59:50.814123Z"
    },
    "execution": {
     "iopub.execute_input": "2022-07-25T01:14:45.348575Z",
     "iopub.status.busy": "2022-07-25T01:14:45.348575Z",
     "iopub.status.idle": "2022-07-25T01:14:45.364557Z",
     "shell.execute_reply": "2022-07-25T01:14:45.363607Z"
    },
    "papermill": {
     "duration": 0.025972,
     "end_time": "2022-07-25T01:14:45.367547",
     "exception": false,
     "start_time": "2022-07-25T01:14:45.341575",
     "status": "completed"
    },
    "tags": []
   },
   "outputs": [
    {
     "data": {
      "text/plain": [
       "Index(['Unnamed: 0.2', 'Unnamed: 0.1', 'Unnamed: 0', 'Open_Date', 'Close_Date',\n",
       "       'Symbol', 'Quantity', 'Pnl', 'OpenAct', 'CloseAct', 'Open_Price',\n",
       "       'Close_Price', 'Comm_Tot', 'DATE', 'ACTION', 'QTYCHG', 'PRICE', 'TIME',\n",
       "       'UNNAMED: 6', 'COMMISSION', 'UNNAMED: 8', 'CASH CHG (PNL)', 'COMMENTS',\n",
       "       'PCTRETURN', 'STARTDATE', 'COMPANY NAME (IN ALPHABETICAL ORDER)',\n",
       "       'TICKER', 'STOP', '% TO STOP', 'CURRENT PRICE', '% TO TARGET',\n",
       "       'AT PRICE', 'TARGET', 'EPS1', 'EPS2', 'FYEND', 'DAYSTOFYEND',\n",
       "       'FYEPSNXT', 'GROWTH*0.5TO0.75', 'ROIC (BW ROA ROE)', 'TGT FWD P/E',\n",
       "       'YEARS TO NORMALIZATION', 'LASTUPDATED', 'CATEGORY', 'COMMENTS.1',\n",
       "       'FILENAME', 'DayOfWeek0Mon', 'Date_YahooFinance', 'Close_^GSPC',\n",
       "       'Close_^VIX', 'Open_Year', 'AAII_SENT_Date', 'AAII_SENT_Bullish',\n",
       "       'AAII_SENT_Neutral', 'AAII_SENT_Bearish', 'AAII_SENT_Total',\n",
       "       'AAII_SENT_Bullish8WeekMovAvg', 'AAII_SENT_BullBearSpread',\n",
       "       'AAII_SENT_BullishAverage', 'AAII_SENT_BullishAverage+StDev',\n",
       "       'AAII_SENT_BullishAverageStDev', 'AAII_SENT_S&P500WeeklyHigh',\n",
       "       'AAII_SENT_S&P500WeeklyLow', 'AAII_SENT_S&P500WeeklyClose', 'Date',\n",
       "       'Age', 'Weight'],\n",
       "      dtype='object')"
      ]
     },
     "execution_count": 10,
     "metadata": {},
     "output_type": "execute_result"
    }
   ],
   "source": [
    "df_XY.columns"
   ]
  },
  {
   "cell_type": "code",
   "execution_count": 11,
   "id": "54add40d",
   "metadata": {
    "ExecuteTime": {
     "end_time": "2022-07-24T14:59:51.433125Z",
     "start_time": "2022-07-24T14:59:50.838125Z"
    },
    "execution": {
     "iopub.execute_input": "2022-07-25T01:14:45.390545Z",
     "iopub.status.busy": "2022-07-25T01:14:45.389547Z",
     "iopub.status.idle": "2022-07-25T01:14:45.679598Z",
     "shell.execute_reply": "2022-07-25T01:14:45.678681Z"
    },
    "lines_to_next_cell": 2,
    "papermill": {
     "duration": 0.304033,
     "end_time": "2022-07-25T01:14:45.681579",
     "exception": false,
     "start_time": "2022-07-25T01:14:45.377546",
     "status": "completed"
    },
    "tags": []
   },
   "outputs": [
    {
     "name": "stderr",
     "output_type": "stream",
     "text": [
      "C:\\Users\\SW\\AppData\\Local\\Temp\\ipykernel_29784\\1557959305.py:3: FutureWarning: The default value of regex will change from True to False in a future version. In addition, single character regular expressions will *not* be treated as literal strings when regex=True.\n",
      "  pd.Series(df_XY.columns)\n"
     ]
    },
    {
     "name": "stderr",
     "output_type": "stream",
     "text": [
      "C:\\Users\\SW\\AppData\\Local\\Temp\\ipykernel_29784\\3465394604.py:32: UserWarning: Transformer numerizer (type Numerizer) does not provide get_feature_names. Will return input column names if available\n",
      "  warnings.warn(\n",
      "C:\\Users\\SW\\AppData\\Local\\Temp\\ipykernel_29784\\3465394604.py:32: UserWarning: Transformer imputer (type SimpleImputer) does not provide get_feature_names. Will return input column names if available\n",
      "  warnings.warn(\n",
      "C:\\Users\\SW\\AppData\\Local\\Temp\\ipykernel_29784\\3465394604.py:32: UserWarning: Transformer stringtransformer (type StringTransformer) does not provide get_feature_names. Will return input column names if available\n",
      "  warnings.warn(\n"
     ]
    }
   ],
   "source": [
    "# update columns headers to clean up\n",
    "df_XY.columns = list(\n",
    "    pd.Series(df_XY.columns)\n",
    "    .astype(str)\n",
    "    .str.replace(\" \", \"_\", regex=True)\n",
    "    .str.upper()\n",
    "    .str.strip()\n",
    "    .str.replace(\"/\", \"_\")\n",
    "    .str.replace(\"*\", \"_\")\n",
    ")\n",
    "\n",
    "# avoid duplicates\n",
    "df_XY = df_XY.loc[:,~df_XY.columns.duplicated()]\n",
    "\n",
    "# start with numeric, utilizng explore data before\n",
    "numeric_features = df_XY.convert_dtypes().select_dtypes(include=np.number).columns.tolist()\n",
    "numeric_features = numeric_features + [\n",
    "    \"%_TO_STOP\",\n",
    "    \"%_TO_TARGET\",\n",
    "    \"GROWTH_0.5TO0.75\",\n",
    "    \"ROIC_(BW_ROA_ROE)\",\n",
    "    \"TGT_FWD_P_E\",\n",
    "    \"YEARS_TO_NORMALIZATION\",\n",
    "]\n",
    "numeric_features = list(set(numeric_features))\n",
    "\n",
    "numeric_transformer = Pipeline(\n",
    "    steps=[\n",
    "        (\"numerizer\", Numerizer()),\n",
    "        (\"imputer\", SimpleImputer(missing_values=np.nan,strategy=\"median\")),\n",
    "    ]\n",
    ")\n",
    "categorical_transformer = Pipeline(\n",
    "    steps=[\n",
    "        (\"imputer\", SimpleImputer(strategy=\"constant\", fill_value=\"_NA_\")),\n",
    "        (\"stringtransformer\", StringTransformer()),\n",
    "    ]\n",
    ")\n",
    "\n",
    "# numerical\n",
    "\n",
    "# categorical_features = ['embarked', 'sex', 'pclass']\n",
    "# categorical_transformer = Pipeline(steps=[\n",
    "#     ('imputer', SimpleImputer(strategy='constant', fill_value='missing')),\n",
    "#     ('onehot', OneHotEncoder(handle_unknown='ignore'))])\n",
    "\n",
    "categorical_features = list(set(df_XY.columns).difference(set(numeric_features)))\n",
    "\n",
    "preprocessor_na = ColumnTransformer(\n",
    "    transformers=[\n",
    "        (\"num\", numeric_transformer, numeric_features),\n",
    "        (\"cat\", categorical_transformer, categorical_features),\n",
    "    ],\n",
    "    # remainder = 'passthrough' # not needed anymore\n",
    ")\n",
    "\n",
    "XY_imputed = preprocessor_na.fit_transform(df_XY)\n",
    "\n",
    "columns = get_feature_names(preprocessor_na)\n",
    "\n",
    "df_XY_imputed = pd.DataFrame(XY_imputed, columns=columns).convert_dtypes()"
   ]
  },
  {
   "cell_type": "code",
   "execution_count": 12,
   "id": "fa2f3cbb",
   "metadata": {
    "ExecuteTime": {
     "end_time": "2022-07-24T14:59:51.526126Z",
     "start_time": "2022-07-24T14:59:51.445126Z"
    },
    "execution": {
     "iopub.execute_input": "2022-07-25T01:14:45.699541Z",
     "iopub.status.busy": "2022-07-25T01:14:45.699541Z",
     "iopub.status.idle": "2022-07-25T01:14:45.727541Z",
     "shell.execute_reply": "2022-07-25T01:14:45.726541Z"
    },
    "papermill": {
     "duration": 0.040036,
     "end_time": "2022-07-25T01:14:45.729580",
     "exception": false,
     "start_time": "2022-07-25T01:14:45.689544",
     "status": "completed"
    },
    "tags": []
   },
   "outputs": [
    {
     "data": {
      "text/html": [
       "<div>\n",
       "<style scoped>\n",
       "    .dataframe tbody tr th:only-of-type {\n",
       "        vertical-align: middle;\n",
       "    }\n",
       "\n",
       "    .dataframe tbody tr th {\n",
       "        vertical-align: top;\n",
       "    }\n",
       "\n",
       "    .dataframe thead th {\n",
       "        text-align: right;\n",
       "    }\n",
       "</style>\n",
       "<table border=\"1\" class=\"dataframe\">\n",
       "  <thead>\n",
       "    <tr style=\"text-align: right;\">\n",
       "      <th></th>\n",
       "      <th>DAYOFWEEK0MON</th>\n",
       "      <th>%_TO_STOP</th>\n",
       "      <th>AAII_SENT_BULLISHAVERAGE</th>\n",
       "      <th>OPEN_YEAR</th>\n",
       "      <th>CLOSE_PRICE</th>\n",
       "      <th>GROWTH_0.5TO0.75</th>\n",
       "      <th>ROIC_(BW_ROA_ROE)</th>\n",
       "      <th>CLOSE_^VIX</th>\n",
       "      <th>COMMISSION</th>\n",
       "      <th>AAII_SENT_BULLBEARSPREAD</th>\n",
       "      <th>...</th>\n",
       "      <th>LASTUPDATED</th>\n",
       "      <th>COMMENTS</th>\n",
       "      <th>CATEGORY</th>\n",
       "      <th>CLOSE_DATE</th>\n",
       "      <th>DAYSTOFYEND</th>\n",
       "      <th>UNNAMED:_8</th>\n",
       "      <th>UNNAMED:_6</th>\n",
       "      <th>TARGET</th>\n",
       "      <th>DATE</th>\n",
       "      <th>OPEN_DATE</th>\n",
       "    </tr>\n",
       "  </thead>\n",
       "  <tbody>\n",
       "    <tr>\n",
       "      <th>0</th>\n",
       "      <td>1</td>\n",
       "      <td>-0.19445</td>\n",
       "      <td>0.380245</td>\n",
       "      <td>2015</td>\n",
       "      <td>38.890367</td>\n",
       "      <td>0.1</td>\n",
       "      <td>0.2</td>\n",
       "      <td>18.23</td>\n",
       "      <td>1.0</td>\n",
       "      <td>-0.124756</td>\n",
       "      <td>...</td>\n",
       "      <td>_NA_</td>\n",
       "      <td>_NA_</td>\n",
       "      <td>_NA_</td>\n",
       "      <td>2016-01-07 11:12:44</td>\n",
       "      <td>_NA_</td>\n",
       "      <td>_NA_</td>\n",
       "      <td>USD</td>\n",
       "      <td>_NA_</td>\n",
       "      <td>2015-06-16</td>\n",
       "      <td>2015-06-30 00:00:00</td>\n",
       "    </tr>\n",
       "    <tr>\n",
       "      <th>1</th>\n",
       "      <td>3</td>\n",
       "      <td>-0.19445</td>\n",
       "      <td>0.380245</td>\n",
       "      <td>2015</td>\n",
       "      <td>1.61</td>\n",
       "      <td>0.1</td>\n",
       "      <td>0.2</td>\n",
       "      <td>18.23</td>\n",
       "      <td>2.5</td>\n",
       "      <td>-0.124756</td>\n",
       "      <td>...</td>\n",
       "      <td>_NA_</td>\n",
       "      <td>_NA_</td>\n",
       "      <td>Value</td>\n",
       "      <td>2016-01-07 14:17:15</td>\n",
       "      <td>_NA_</td>\n",
       "      <td>_NA_</td>\n",
       "      <td>USD</td>\n",
       "      <td>_NA_</td>\n",
       "      <td>2015-04-16</td>\n",
       "      <td>2015-06-30 00:00:00</td>\n",
       "    </tr>\n",
       "    <tr>\n",
       "      <th>2</th>\n",
       "      <td>2</td>\n",
       "      <td>-0.19445</td>\n",
       "      <td>0.380245</td>\n",
       "      <td>2015</td>\n",
       "      <td>82.2016</td>\n",
       "      <td>0.1</td>\n",
       "      <td>0.2</td>\n",
       "      <td>18.23</td>\n",
       "      <td>1.39</td>\n",
       "      <td>-0.124756</td>\n",
       "      <td>...</td>\n",
       "      <td>_NA_</td>\n",
       "      <td>_NA_</td>\n",
       "      <td>_NA_</td>\n",
       "      <td>2016-01-07 11:44:15</td>\n",
       "      <td>_NA_</td>\n",
       "      <td>_NA_</td>\n",
       "      <td>_NA_</td>\n",
       "      <td>_NA_</td>\n",
       "      <td>_NA_</td>\n",
       "      <td>2015-06-30 00:00:00</td>\n",
       "    </tr>\n",
       "    <tr>\n",
       "      <th>3</th>\n",
       "      <td>1</td>\n",
       "      <td>-0.19445</td>\n",
       "      <td>0.380245</td>\n",
       "      <td>2015</td>\n",
       "      <td>39.78</td>\n",
       "      <td>0.1</td>\n",
       "      <td>0.2</td>\n",
       "      <td>18.23</td>\n",
       "      <td>1.43</td>\n",
       "      <td>-0.124756</td>\n",
       "      <td>...</td>\n",
       "      <td>_NA_</td>\n",
       "      <td>_NA_</td>\n",
       "      <td>_NA_</td>\n",
       "      <td>2016-08-18 11:16:45</td>\n",
       "      <td>_NA_</td>\n",
       "      <td>_NA_</td>\n",
       "      <td>USD</td>\n",
       "      <td>_NA_</td>\n",
       "      <td>2015-05-26</td>\n",
       "      <td>2015-06-30 00:00:00</td>\n",
       "    </tr>\n",
       "    <tr>\n",
       "      <th>4</th>\n",
       "      <td>1</td>\n",
       "      <td>-0.19445</td>\n",
       "      <td>0.380245</td>\n",
       "      <td>2015</td>\n",
       "      <td>2.346984</td>\n",
       "      <td>0.1</td>\n",
       "      <td>0.2</td>\n",
       "      <td>18.23</td>\n",
       "      <td>17.94</td>\n",
       "      <td>-0.124756</td>\n",
       "      <td>...</td>\n",
       "      <td>_NA_</td>\n",
       "      <td>_NA_</td>\n",
       "      <td>_NA_</td>\n",
       "      <td>2016-01-20 15:22:41</td>\n",
       "      <td>_NA_</td>\n",
       "      <td>_NA_</td>\n",
       "      <td>USD</td>\n",
       "      <td>_NA_</td>\n",
       "      <td>2015-06-30</td>\n",
       "      <td>2015-06-30 00:00:00</td>\n",
       "    </tr>\n",
       "  </tbody>\n",
       "</table>\n",
       "<p>5 rows × 66 columns</p>\n",
       "</div>"
      ],
      "text/plain": [
       "   DAYOFWEEK0MON  %_TO_STOP  AAII_SENT_BULLISHAVERAGE  OPEN_YEAR  CLOSE_PRICE  \\\n",
       "0              1   -0.19445                  0.380245       2015    38.890367   \n",
       "1              3   -0.19445                  0.380245       2015         1.61   \n",
       "2              2   -0.19445                  0.380245       2015      82.2016   \n",
       "3              1   -0.19445                  0.380245       2015        39.78   \n",
       "4              1   -0.19445                  0.380245       2015     2.346984   \n",
       "\n",
       "   GROWTH_0.5TO0.75  ROIC_(BW_ROA_ROE)  CLOSE_^VIX  COMMISSION  \\\n",
       "0               0.1                0.2       18.23         1.0   \n",
       "1               0.1                0.2       18.23         2.5   \n",
       "2               0.1                0.2       18.23        1.39   \n",
       "3               0.1                0.2       18.23        1.43   \n",
       "4               0.1                0.2       18.23       17.94   \n",
       "\n",
       "   AAII_SENT_BULLBEARSPREAD  ...  LASTUPDATED  COMMENTS  CATEGORY  \\\n",
       "0                 -0.124756  ...         _NA_      _NA_      _NA_   \n",
       "1                 -0.124756  ...         _NA_      _NA_     Value   \n",
       "2                 -0.124756  ...         _NA_      _NA_      _NA_   \n",
       "3                 -0.124756  ...         _NA_      _NA_      _NA_   \n",
       "4                 -0.124756  ...         _NA_      _NA_      _NA_   \n",
       "\n",
       "            CLOSE_DATE  DAYSTOFYEND  UNNAMED:_8  UNNAMED:_6  TARGET  \\\n",
       "0  2016-01-07 11:12:44         _NA_        _NA_         USD    _NA_   \n",
       "1  2016-01-07 14:17:15         _NA_        _NA_         USD    _NA_   \n",
       "2  2016-01-07 11:44:15         _NA_        _NA_        _NA_    _NA_   \n",
       "3  2016-08-18 11:16:45         _NA_        _NA_         USD    _NA_   \n",
       "4  2016-01-20 15:22:41         _NA_        _NA_         USD    _NA_   \n",
       "\n",
       "         DATE            OPEN_DATE  \n",
       "0  2015-06-16  2015-06-30 00:00:00  \n",
       "1  2015-04-16  2015-06-30 00:00:00  \n",
       "2        _NA_  2015-06-30 00:00:00  \n",
       "3  2015-05-26  2015-06-30 00:00:00  \n",
       "4  2015-06-30  2015-06-30 00:00:00  \n",
       "\n",
       "[5 rows x 66 columns]"
      ]
     },
     "execution_count": 12,
     "metadata": {},
     "output_type": "execute_result"
    }
   ],
   "source": [
    "df_XY_imputed.head()"
   ]
  },
  {
   "cell_type": "code",
   "execution_count": 13,
   "id": "6560baf9",
   "metadata": {
    "ExecuteTime": {
     "end_time": "2022-07-24T14:59:51.557130Z",
     "start_time": "2022-07-24T14:59:51.532125Z"
    },
    "execution": {
     "iopub.execute_input": "2022-07-25T01:14:45.747542Z",
     "iopub.status.busy": "2022-07-25T01:14:45.747542Z",
     "iopub.status.idle": "2022-07-25T01:14:45.759544Z",
     "shell.execute_reply": "2022-07-25T01:14:45.758541Z"
    },
    "papermill": {
     "duration": 0.024999,
     "end_time": "2022-07-25T01:14:45.761541",
     "exception": false,
     "start_time": "2022-07-25T01:14:45.736542",
     "status": "completed"
    },
    "tags": []
   },
   "outputs": [
    {
     "data": {
      "text/plain": [
       "Index(['DAYOFWEEK0MON', '%_TO_STOP', 'AAII_SENT_BULLISHAVERAGE', 'OPEN_YEAR',\n",
       "       'CLOSE_PRICE', 'GROWTH_0.5TO0.75', 'ROIC_(BW_ROA_ROE)', 'CLOSE_^VIX',\n",
       "       'COMMISSION', 'AAII_SENT_BULLBEARSPREAD', 'TGT_FWD_P_E',\n",
       "       'AAII_SENT_S&P500WEEKLYHIGH', 'UNNAMED:_0.1', 'WEIGHT',\n",
       "       'AAII_SENT_BULLISH', 'QTYCHG', 'OPEN_PRICE', 'CLOSE_^GSPC', 'AGE',\n",
       "       'UNNAMED:_0.2', 'PNL', 'AAII_SENT_BULLISHAVERAGE+STDEV', 'QUANTITY',\n",
       "       'AAII_SENT_BULLISHAVERAGESTDEV', '%_TO_TARGET', 'PRICE',\n",
       "       'AAII_SENT_TOTAL', 'AAII_SENT_BULLISH8WEEKMOVAVG', 'COMM_TOT',\n",
       "       'AAII_SENT_S&P500WEEKLYLOW', 'AAII_SENT_BEARISH',\n",
       "       'YEARS_TO_NORMALIZATION', 'AAII_SENT_NEUTRAL',\n",
       "       'AAII_SENT_S&P500WEEKLYCLOSE', 'UNNAMED:_0', 'SYMBOL', 'CASH_CHG_(PNL)',\n",
       "       'TIME', 'FYEPSNXT', 'AT_PRICE', 'DATE_YAHOOFINANCE', 'EPS1', 'EPS2',\n",
       "       'ACTION', 'PCTRETURN', 'STOP', 'TICKER', 'AAII_SENT_DATE', 'CLOSEACT',\n",
       "       'CURRENT_PRICE', 'COMPANY_NAME_(IN_ALPHABETICAL_ORDER)', 'FYEND',\n",
       "       'STARTDATE', 'FILENAME', 'OPENACT', 'COMMENTS.1', 'LASTUPDATED',\n",
       "       'COMMENTS', 'CATEGORY', 'CLOSE_DATE', 'DAYSTOFYEND', 'UNNAMED:_8',\n",
       "       'UNNAMED:_6', 'TARGET', 'DATE', 'OPEN_DATE'],\n",
       "      dtype='object')"
      ]
     },
     "execution_count": 13,
     "metadata": {},
     "output_type": "execute_result"
    }
   ],
   "source": [
    "df_XY_imputed.columns"
   ]
  },
  {
   "cell_type": "code",
   "execution_count": 14,
   "id": "ef82b6dc",
   "metadata": {
    "ExecuteTime": {
     "end_time": "2022-07-24T14:59:58.077775Z",
     "start_time": "2022-07-24T14:59:56.777776Z"
    },
    "execution": {
     "iopub.execute_input": "2022-07-25T01:14:45.781543Z",
     "iopub.status.busy": "2022-07-25T01:14:45.781543Z",
     "iopub.status.idle": "2022-07-25T01:14:45.790542Z",
     "shell.execute_reply": "2022-07-25T01:14:45.788547Z"
    },
    "papermill": {
     "duration": 0.024029,
     "end_time": "2022-07-25T01:14:45.792570",
     "exception": false,
     "start_time": "2022-07-25T01:14:45.768541",
     "status": "completed"
    },
    "tags": []
   },
   "outputs": [],
   "source": [
    "# df_XY_imputed[\"%_TO_STOP\"].hist()"
   ]
  },
  {
   "cell_type": "code",
   "execution_count": 15,
   "id": "bfa62f20",
   "metadata": {
    "ExecuteTime": {
     "end_time": "2022-07-24T00:45:05.446736Z",
     "start_time": "2022-07-24T00:45:05.446736Z"
    },
    "execution": {
     "iopub.execute_input": "2022-07-25T01:14:45.814544Z",
     "iopub.status.busy": "2022-07-25T01:14:45.813552Z",
     "iopub.status.idle": "2022-07-25T01:14:45.838545Z",
     "shell.execute_reply": "2022-07-25T01:14:45.836566Z"
    },
    "papermill": {
     "duration": 0.041969,
     "end_time": "2022-07-25T01:14:45.840543",
     "exception": false,
     "start_time": "2022-07-25T01:14:45.798574",
     "status": "completed"
    },
    "tags": []
   },
   "outputs": [],
   "source": [
    "# create target\n",
    "\n",
    "df_XY_imputed[\"PCT_RET_FINAL\"] = df_XY_imputed[\"PNL\"] / (\n",
    "    df_XY_imputed[\"OPEN_PRICE\"] * df_XY_imputed[\"QUANTITY\"]\n",
    ")"
   ]
  },
  {
   "cell_type": "code",
   "execution_count": 16,
   "id": "6f75aa8b",
   "metadata": {
    "ExecuteTime": {
     "end_time": "2022-07-24T00:45:05.447744Z",
     "start_time": "2022-07-24T00:45:05.447744Z"
    },
    "execution": {
     "iopub.execute_input": "2022-07-25T01:14:45.861542Z",
     "iopub.status.busy": "2022-07-25T01:14:45.861542Z",
     "iopub.status.idle": "2022-07-25T01:14:45.870544Z",
     "shell.execute_reply": "2022-07-25T01:14:45.868566Z"
    },
    "lines_to_next_cell": 2,
    "papermill": {
     "duration": 0.025001,
     "end_time": "2022-07-25T01:14:45.873544",
     "exception": false,
     "start_time": "2022-07-25T01:14:45.848543",
     "status": "completed"
    },
    "tags": []
   },
   "outputs": [],
   "source": [
    "# TODO create moving avg"
   ]
  },
  {
   "cell_type": "code",
   "execution_count": 17,
   "id": "8179bfa2",
   "metadata": {
    "ExecuteTime": {
     "end_time": "2022-07-24T00:45:05.450736Z",
     "start_time": "2022-07-24T00:45:05.450736Z"
    },
    "execution": {
     "iopub.execute_input": "2022-07-25T01:14:45.893544Z",
     "iopub.status.busy": "2022-07-25T01:14:45.893544Z",
     "iopub.status.idle": "2022-07-25T01:14:45.916541Z",
     "shell.execute_reply": "2022-07-25T01:14:45.914550Z"
    },
    "papermill": {
     "duration": 0.038972,
     "end_time": "2022-07-25T01:14:45.919547",
     "exception": false,
     "start_time": "2022-07-25T01:14:45.880575",
     "status": "completed"
    },
    "tags": []
   },
   "outputs": [
    {
     "name": "stdout",
     "output_type": "stream",
     "text": [
      "Index(['DAYOFWEEK0MON', '%_TO_STOP', 'AAII_SENT_BULLISHAVERAGE', 'OPEN_YEAR',\n",
      "       'CLOSE_PRICE', 'GROWTH_0.5TO0.75', 'ROIC_(BW_ROA_ROE)', 'CLOSE_^VIX',\n",
      "       'COMMISSION', 'AAII_SENT_BULLBEARSPREAD', 'TGT_FWD_P_E',\n",
      "       'AAII_SENT_S&P500WEEKLYHIGH', 'UNNAMED:_0.1', 'WEIGHT',\n",
      "       'AAII_SENT_BULLISH', 'QTYCHG', 'OPEN_PRICE', 'CLOSE_^GSPC', 'AGE',\n",
      "       'UNNAMED:_0.2', 'PNL', 'AAII_SENT_BULLISHAVERAGE+STDEV', 'QUANTITY',\n",
      "       'AAII_SENT_BULLISHAVERAGESTDEV', '%_TO_TARGET', 'PRICE',\n",
      "       'AAII_SENT_TOTAL', 'AAII_SENT_BULLISH8WEEKMOVAVG', 'COMM_TOT',\n",
      "       'AAII_SENT_S&P500WEEKLYLOW', 'AAII_SENT_BEARISH',\n",
      "       'YEARS_TO_NORMALIZATION', 'AAII_SENT_NEUTRAL',\n",
      "       'AAII_SENT_S&P500WEEKLYCLOSE', 'UNNAMED:_0', 'SYMBOL', 'CASH_CHG_(PNL)',\n",
      "       'TIME', 'FYEPSNXT', 'AT_PRICE', 'DATE_YAHOOFINANCE', 'EPS1', 'EPS2',\n",
      "       'ACTION', 'PCTRETURN', 'STOP', 'TICKER', 'AAII_SENT_DATE', 'CLOSEACT',\n",
      "       'CURRENT_PRICE', 'COMPANY_NAME_(IN_ALPHABETICAL_ORDER)', 'FYEND',\n",
      "       'STARTDATE', 'FILENAME', 'OPENACT', 'COMMENTS.1', 'LASTUPDATED',\n",
      "       'COMMENTS', 'CATEGORY', 'CLOSE_DATE', 'DAYSTOFYEND', 'UNNAMED:_8',\n",
      "       'UNNAMED:_6', 'TARGET', 'DATE', 'OPEN_DATE', 'PCT_RET_FINAL'],\n",
      "      dtype='object')\n"
     ]
    }
   ],
   "source": [
    "# Final columns\n",
    "\n",
    "print(df_XY_imputed.columns)"
   ]
  },
  {
   "cell_type": "code",
   "execution_count": 18,
   "id": "925b9084",
   "metadata": {
    "ExecuteTime": {
     "end_time": "2022-07-24T00:45:05.451735Z",
     "start_time": "2022-07-24T00:45:05.451735Z"
    },
    "execution": {
     "iopub.execute_input": "2022-07-25T01:14:45.939552Z",
     "iopub.status.busy": "2022-07-25T01:14:45.939552Z",
     "iopub.status.idle": "2022-07-25T01:14:45.962574Z",
     "shell.execute_reply": "2022-07-25T01:14:45.961663Z"
    },
    "papermill": {
     "duration": 0.037034,
     "end_time": "2022-07-25T01:14:45.964576",
     "exception": false,
     "start_time": "2022-07-25T01:14:45.927542",
     "status": "completed"
    },
    "tags": []
   },
   "outputs": [],
   "source": [
    "## check no na's left in numerical\n",
    "\n",
    "try:\n",
    "    assert (\n",
    "        df_XY_imputed[numeric_features].isna().sum().sum() == 0\n",
    "    ), \"NAs remain in numerical\"\n",
    "except:\n",
    "    print(\"NAs remain in numerical\")"
   ]
  },
  {
   "cell_type": "markdown",
   "id": "ad761e04",
   "metadata": {
    "papermill": {
     "duration": 0.006971,
     "end_time": "2022-07-25T01:14:45.978542",
     "exception": false,
     "start_time": "2022-07-25T01:14:45.971571",
     "status": "completed"
    },
    "tags": []
   },
   "source": [
    "## API Spec"
   ]
  },
  {
   "cell_type": "code",
   "execution_count": 19,
   "id": "d620b42a",
   "metadata": {
    "ExecuteTime": {
     "end_time": "2022-07-24T00:45:05.453736Z",
     "start_time": "2022-07-24T00:45:05.453736Z"
    },
    "execution": {
     "iopub.execute_input": "2022-07-25T01:14:45.998567Z",
     "iopub.status.busy": "2022-07-25T01:14:45.998567Z",
     "iopub.status.idle": "2022-07-25T01:14:46.106547Z",
     "shell.execute_reply": "2022-07-25T01:14:46.103541Z"
    },
    "lines_to_next_cell": 2,
    "papermill": {
     "duration": 0.126003,
     "end_time": "2022-07-25T01:14:46.112549",
     "exception": false,
     "start_time": "2022-07-25T01:14:45.986546",
     "status": "completed"
    },
    "tags": []
   },
   "outputs": [],
   "source": [
    "## import api spec\n",
    "\n",
    "import yaml\n",
    "from yaml import Loader\n",
    "\n",
    "with open(\"data-tests/_apispecs.yaml\") as f:\n",
    "    api_specs = yaml.load(f, Loader=Loader)"
   ]
  },
  {
   "cell_type": "code",
   "execution_count": 20,
   "id": "d6570cbd",
   "metadata": {
    "ExecuteTime": {
     "end_time": "2022-07-24T00:45:05.455740Z",
     "start_time": "2022-07-24T00:45:05.455740Z"
    },
    "execution": {
     "iopub.execute_input": "2022-07-25T01:14:46.149543Z",
     "iopub.status.busy": "2022-07-25T01:14:46.148551Z",
     "iopub.status.idle": "2022-07-25T01:14:50.446546Z",
     "shell.execute_reply": "2022-07-25T01:14:50.445693Z"
    },
    "papermill": {
     "duration": 4.317028,
     "end_time": "2022-07-25T01:14:50.449575",
     "exception": false,
     "start_time": "2022-07-25T01:14:46.132547",
     "status": "completed"
    },
    "tags": []
   },
   "outputs": [
    {
     "name": "stdout",
     "output_type": "stream",
     "text": [
      "validation completed\n"
     ]
    }
   ],
   "source": [
    "## validate based on api spec\n",
    "\n",
    "from openapi_schema_validator import validate\n",
    "import json\n",
    "\n",
    "schema = api_specs[\"components\"][\"schemas\"][\"Tradelog\"]\n",
    "\n",
    "json_str = df_XY_imputed.to_json(orient=\"records\")\n",
    "json_test = json.loads(json_str)\n",
    "\n",
    "i = 0\n",
    "for row in json_test:\n",
    "    try:\n",
    "        validate(row, schema)\n",
    "    except:\n",
    "        print(f\"failed on {i}th row \")\n",
    "        break\n",
    "    i = i + 1\n",
    "\n",
    "print(\"validation completed\")"
   ]
  },
  {
   "cell_type": "code",
   "execution_count": 21,
   "id": "72f92a7e",
   "metadata": {
    "ExecuteTime": {
     "end_time": "2022-07-24T00:45:05.458739Z",
     "start_time": "2022-07-24T00:45:05.458739Z"
    },
    "execution": {
     "iopub.execute_input": "2022-07-25T01:14:50.470543Z",
     "iopub.status.busy": "2022-07-25T01:14:50.468543Z",
     "iopub.status.idle": "2022-07-25T01:14:50.714624Z",
     "shell.execute_reply": "2022-07-25T01:14:50.712589Z"
    },
    "lines_to_next_cell": 2,
    "papermill": {
     "duration": 0.260028,
     "end_time": "2022-07-25T01:14:50.718571",
     "exception": false,
     "start_time": "2022-07-25T01:14:50.458543",
     "status": "completed"
    },
    "tags": []
   },
   "outputs": [
    {
     "data": {
      "text/plain": [
       "0"
      ]
     },
     "execution_count": 21,
     "metadata": {},
     "output_type": "execute_result"
    }
   ],
   "source": [
    "## save api spec to html\n",
    "\n",
    "import os\n",
    "\n",
    "# feed yaml file to swagger python, then create api.html\n",
    "os.system(\n",
    "    \"python swagger_yaml_to_html.py < data-tests/_apispecs.yaml > templates/api.html\"\n",
    ")"
   ]
  },
  {
   "cell_type": "markdown",
   "id": "d6574f30",
   "metadata": {
    "papermill": {
     "duration": 0.00797,
     "end_time": "2022-07-25T01:14:50.734544",
     "exception": false,
     "start_time": "2022-07-25T01:14:50.726574",
     "status": "completed"
    },
    "tags": []
   },
   "source": [
    "## Resort & Save Results"
   ]
  },
  {
   "cell_type": "code",
   "execution_count": 22,
   "id": "d722f77c",
   "metadata": {
    "ExecuteTime": {
     "end_time": "2022-07-24T00:45:05.461778Z",
     "start_time": "2022-07-24T00:45:05.461778Z"
    },
    "execution": {
     "iopub.execute_input": "2022-07-25T01:14:50.760575Z",
     "iopub.status.busy": "2022-07-25T01:14:50.760575Z",
     "iopub.status.idle": "2022-07-25T01:14:50.776550Z",
     "shell.execute_reply": "2022-07-25T01:14:50.774550Z"
    },
    "papermill": {
     "duration": 0.032994,
     "end_time": "2022-07-25T01:14:50.780541",
     "exception": false,
     "start_time": "2022-07-25T01:14:50.747547",
     "status": "completed"
    },
    "tags": []
   },
   "outputs": [],
   "source": [
    "df_XY_imputed = df_XY_imputed.reindex(sorted(df_XY_imputed.columns), axis=1)"
   ]
  },
  {
   "cell_type": "code",
   "execution_count": 23,
   "id": "b01a7cf1",
   "metadata": {
    "ExecuteTime": {
     "end_time": "2022-07-24T00:45:05.464740Z",
     "start_time": "2022-07-24T00:45:05.464740Z"
    },
    "execution": {
     "iopub.execute_input": "2022-07-25T01:14:50.803543Z",
     "iopub.status.busy": "2022-07-25T01:14:50.803543Z",
     "iopub.status.idle": "2022-07-25T01:14:50.932584Z",
     "shell.execute_reply": "2022-07-25T01:14:50.931640Z"
    },
    "lines_to_next_cell": 2,
    "papermill": {
     "duration": 0.141998,
     "end_time": "2022-07-25T01:14:50.934542",
     "exception": false,
     "start_time": "2022-07-25T01:14:50.792544",
     "status": "completed"
    },
    "tags": []
   },
   "outputs": [],
   "source": [
    "## save results\n",
    "\n",
    "df_XY_imputed.to_csv(\"output/e_resultcleaned.csv\")"
   ]
  },
  {
   "cell_type": "code",
   "execution_count": 24,
   "id": "c5d949fc",
   "metadata": {
    "ExecuteTime": {
     "end_time": "2022-07-24T00:45:05.466732Z",
     "start_time": "2022-07-24T00:45:05.466732Z"
    },
    "execution": {
     "iopub.execute_input": "2022-07-25T01:14:50.953545Z",
     "iopub.status.busy": "2022-07-25T01:14:50.952543Z",
     "iopub.status.idle": "2022-07-25T01:14:50.979542Z",
     "shell.execute_reply": "2022-07-25T01:14:50.978606Z"
    },
    "papermill": {
     "duration": 0.038999,
     "end_time": "2022-07-25T01:14:50.981578",
     "exception": false,
     "start_time": "2022-07-25T01:14:50.942579",
     "status": "completed"
    },
    "tags": []
   },
   "outputs": [
    {
     "data": {
      "text/plain": [
       "['output/e_preprocessor_na.joblib']"
      ]
     },
     "execution_count": 24,
     "metadata": {},
     "output_type": "execute_result"
    }
   ],
   "source": [
    "## save imputer\n",
    "\n",
    "dump(preprocessor_na, \"output/e_preprocessor_na.joblib\")"
   ]
  },
  {
   "cell_type": "code",
   "execution_count": null,
   "id": "78a95beb",
   "metadata": {
    "papermill": {
     "duration": 0.010042,
     "end_time": "2022-07-25T01:14:50.999588",
     "exception": false,
     "start_time": "2022-07-25T01:14:50.989546",
     "status": "completed"
    },
    "tags": []
   },
   "outputs": [],
   "source": []
  }
 ],
 "metadata": {
  "jupytext": {
   "cell_metadata_filter": "-all",
   "formats": "auto:percent,ipynb",
   "notebook_metadata_filter": "-all"
  },
  "kernelspec": {
   "display_name": "p1analyzetrades",
   "language": "python",
   "name": "p1analyzetrades"
  },
  "language_info": {
   "codemirror_mode": {
    "name": "ipython",
    "version": 3
   },
   "file_extension": ".py",
   "mimetype": "text/x-python",
   "name": "python",
   "nbconvert_exporter": "python",
   "pygments_lexer": "ipython3",
   "version": "3.9.10"
  },
  "papermill": {
   "default_parameters": {},
   "duration": 11.877991,
   "end_time": "2022-07-25T01:14:51.565541",
   "environment_variables": {},
   "exception": null,
   "input_path": "P1-AnalyzeTrades_e_feateng.ipynb",
   "output_path": "P1-AnalyzeTrades_e_feateng_output.ipynb",
   "parameters": {},
   "start_time": "2022-07-25T01:14:39.687550",
   "version": "2.3.4"
  },
  "toc": {
   "base_numbering": 1,
   "nav_menu": {},
   "number_sections": true,
   "sideBar": true,
   "skip_h1_title": false,
   "title_cell": "Table of Contents",
   "title_sidebar": "Contents",
   "toc_cell": false,
   "toc_position": {
    "height": "calc(100% - 180px)",
    "left": "10px",
    "top": "150px",
    "width": "384px"
   },
   "toc_section_display": true,
   "toc_window_display": true
  },
  "varInspector": {
   "cols": {
    "lenName": 16,
    "lenType": 16,
    "lenVar": 40
   },
   "kernels_config": {
    "python": {
     "delete_cmd_postfix": "",
     "delete_cmd_prefix": "del ",
     "library": "var_list.py",
     "varRefreshCmd": "print(var_dic_list())"
    },
    "r": {
     "delete_cmd_postfix": ") ",
     "delete_cmd_prefix": "rm(",
     "library": "var_list.r",
     "varRefreshCmd": "cat(var_dic_list()) "
    }
   },
   "types_to_exclude": [
    "module",
    "function",
    "builtin_function_or_method",
    "instance",
    "_Feature"
   ],
   "window_display": true
  }
 },
 "nbformat": 4,
 "nbformat_minor": 5
}