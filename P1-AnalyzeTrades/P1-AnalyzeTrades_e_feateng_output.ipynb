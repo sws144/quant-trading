{
 "cells": [
  {
   "cell_type": "markdown",
   "id": "e1d9e183",
   "metadata": {
    "papermill": {
     "duration": 0.006,
     "end_time": "2023-02-18T18:29:07.549775",
     "exception": false,
     "start_time": "2023-02-18T18:29:07.543775",
     "status": "completed"
    },
    "tags": []
   },
   "source": [
    "# E: Feature Engineering"
   ]
  },
  {
   "cell_type": "markdown",
   "id": "0334c4ff",
   "metadata": {
    "papermill": {
     "duration": 0.004971,
     "end_time": "2023-02-18T18:29:07.560776",
     "exception": false,
     "start_time": "2023-02-18T18:29:07.555805",
     "status": "completed"
    },
    "tags": []
   },
   "source": [
    "## imports"
   ]
  },
  {
   "cell_type": "code",
   "execution_count": 1,
   "id": "95c96570",
   "metadata": {
    "ExecuteTime": {
     "end_time": "2022-09-24T23:31:04.702580Z",
     "start_time": "2022-09-24T23:31:04.686575Z"
    },
    "execution": {
     "iopub.execute_input": "2023-02-18T18:29:07.577778Z",
     "iopub.status.busy": "2023-02-18T18:29:07.576792Z",
     "iopub.status.idle": "2023-02-18T18:29:09.383380Z",
     "shell.execute_reply": "2023-02-18T18:29:09.382389Z"
    },
    "papermill": {
     "duration": 1.817535,
     "end_time": "2023-02-18T18:29:09.386330",
     "exception": false,
     "start_time": "2023-02-18T18:29:07.568795",
     "status": "completed"
    },
    "tags": []
   },
   "outputs": [],
   "source": [
    "\n",
    "\n",
    "import pandas as pd\n",
    "import numpy as np\n",
    "\n",
    "# for na pipeline\n",
    "import warnings\n",
    "import sklearn\n",
    "from sklearn.compose import ColumnTransformer\n",
    "from sklearn.impute import SimpleImputer\n",
    "from sklearn.pipeline import Pipeline\n",
    "from sklearn.preprocessing import StandardScaler, OneHotEncoder\n",
    "from sklearn.base import TransformerMixin  # for custom transformers\n",
    "\n",
    "from joblib import dump, load"
   ]
  },
  {
   "cell_type": "markdown",
   "id": "2c33d684",
   "metadata": {
    "papermill": {
     "duration": 0.007005,
     "end_time": "2023-02-18T18:29:09.399339",
     "exception": false,
     "start_time": "2023-02-18T18:29:09.392334",
     "status": "completed"
    },
    "tags": []
   },
   "source": [
    "## read in data"
   ]
  },
  {
   "cell_type": "code",
   "execution_count": 2,
   "id": "d6ccabda",
   "metadata": {
    "ExecuteTime": {
     "end_time": "2022-09-24T23:31:04.811593Z",
     "start_time": "2022-09-24T23:31:04.709580Z"
    },
    "execution": {
     "iopub.execute_input": "2023-02-18T18:29:09.416332Z",
     "iopub.status.busy": "2023-02-18T18:29:09.415334Z",
     "iopub.status.idle": "2023-02-18T18:29:09.479346Z",
     "shell.execute_reply": "2023-02-18T18:29:09.477419Z"
    },
    "lines_to_next_cell": 1,
    "papermill": {
     "duration": 0.073,
     "end_time": "2023-02-18T18:29:09.481363",
     "exception": false,
     "start_time": "2023-02-18T18:29:09.408363",
     "status": "completed"
    },
    "tags": []
   },
   "outputs": [],
   "source": [
    "df_XY = pd.read_csv(\"output/c_resulttradewattr.csv\")"
   ]
  },
  {
   "cell_type": "code",
   "execution_count": 3,
   "id": "b447cd2d",
   "metadata": {
    "ExecuteTime": {
     "end_time": "2022-09-24T23:31:04.857575Z",
     "start_time": "2022-09-24T23:31:04.819603Z"
    },
    "execution": {
     "iopub.execute_input": "2023-02-18T18:29:09.495330Z",
     "iopub.status.busy": "2023-02-18T18:29:09.494330Z",
     "iopub.status.idle": "2023-02-18T18:29:09.510334Z",
     "shell.execute_reply": "2023-02-18T18:29:09.508389Z"
    },
    "papermill": {
     "duration": 0.025994,
     "end_time": "2023-02-18T18:29:09.514328",
     "exception": false,
     "start_time": "2023-02-18T18:29:09.488334",
     "status": "completed"
    },
    "tags": []
   },
   "outputs": [],
   "source": [
    "##  get_feature_names function\n",
    "# https://johaupt.github.io/scikit-learn/tutorial/python/data%20processing/ml%20pipeline/model%20interpretation/columnTransformer_feature_names.html\n",
    "def get_feature_names(column_transformer):\n",
    "    \"\"\"Get feature names from all transformers.\n",
    "    Returns\n",
    "    -------\n",
    "    feature_names : list of strings\n",
    "        Names of the features produced by transform.\n",
    "    \"\"\"\n",
    "    # Remove the internal helper function\n",
    "    # check_is_fitted(column_transformer)\n",
    "\n",
    "    # Turn loopkup into function for better handling with pipeline later\n",
    "    def get_names(trans):\n",
    "        # >> Original get_feature_names() method\n",
    "        if trans == \"drop\" or (hasattr(column, \"__len__\") and not len(column)):\n",
    "            return []\n",
    "        if trans == \"passthrough\":\n",
    "            if hasattr(column_transformer, \"_df_columns\"):\n",
    "                if (not isinstance(column, slice)) and all(\n",
    "                    isinstance(col, str) for col in column\n",
    "                ):\n",
    "                    return column\n",
    "                else:\n",
    "                    return column_transformer._df_columns[column]\n",
    "            else:\n",
    "                indices = np.arange(column_transformer._n_features)\n",
    "                return [i for i in indices[column]]\n",
    "        if not hasattr(trans, \"get_feature_names\"):\n",
    "            # >>> Change: Return input column names if no method avaiable\n",
    "            # Turn error into a warning\n",
    "            warnings.warn(\n",
    "                \"Transformer %s (type %s) does not \"\n",
    "                \"provide get_feature_names. \"\n",
    "                \"Will return input column names if available\"\n",
    "                % (str(name), type(trans).__name__)\n",
    "            )\n",
    "            # For transformers without a get_features_names method, use the input\n",
    "            # names to the column transformer\n",
    "            if column is None:\n",
    "                return []\n",
    "            else:\n",
    "                return [f for f in column]\n",
    "\n",
    "        return [f for f in trans.get_feature_names()]\n",
    "\n",
    "    ### Start of processing\n",
    "    feature_names = []\n",
    "\n",
    "    # Allow transformers to be pipelines. Pipeline steps are named differently, so preprocessing is needed\n",
    "    if type(column_transformer) == sklearn.pipeline.Pipeline:\n",
    "        l_transformers = [\n",
    "            (name, trans, None) for step, name, trans in column_transformer._iter()\n",
    "        ]\n",
    "    else:\n",
    "        # For column transformers, follow the original method\n",
    "        l_transformers = column_transformer.transformers_\n",
    "\n",
    "    for name, trans, column in l_transformers:\n",
    "        if type(trans) == sklearn.pipeline.Pipeline:\n",
    "            # Recursive call on pipeline\n",
    "            _names = get_feature_names(trans)\n",
    "            # if pipeline has no transformer that returns names\n",
    "            if len(_names) == 0:\n",
    "                _names = [f for f in column]\n",
    "            feature_names.extend(_names)\n",
    "        else:\n",
    "            feature_names.extend(get_names(trans))\n",
    "\n",
    "    return feature_names"
   ]
  },
  {
   "cell_type": "markdown",
   "id": "5c8a0007",
   "metadata": {
    "papermill": {
     "duration": 0.006997,
     "end_time": "2023-02-18T18:29:09.527328",
     "exception": false,
     "start_time": "2023-02-18T18:29:09.520331",
     "status": "completed"
    },
    "tags": []
   },
   "source": [
    "## custom transformers"
   ]
  },
  {
   "cell_type": "code",
   "execution_count": 4,
   "id": "3331ab60",
   "metadata": {
    "ExecuteTime": {
     "end_time": "2022-09-24T23:31:04.888575Z",
     "start_time": "2022-09-24T23:31:04.864585Z"
    },
    "execution": {
     "iopub.execute_input": "2023-02-18T18:29:09.541331Z",
     "iopub.status.busy": "2023-02-18T18:29:09.541331Z",
     "iopub.status.idle": "2023-02-18T18:29:09.556331Z",
     "shell.execute_reply": "2023-02-18T18:29:09.555363Z"
    },
    "papermill": {
     "duration": 0.024033,
     "end_time": "2023-02-18T18:29:09.558363",
     "exception": false,
     "start_time": "2023-02-18T18:29:09.534330",
     "status": "completed"
    },
    "tags": []
   },
   "outputs": [],
   "source": [
    "class Numerizer(TransformerMixin):\n",
    "    \"convert numbers and % to numbers as well\"\n",
    "    import pandas as pd\n",
    "    import numpy as np\n",
    "\n",
    "    def __init__(self):\n",
    "        pass\n",
    "\n",
    "    def fit(self, X, y=None):\n",
    "        return self\n",
    "\n",
    "    def transform(self, X):\n",
    "        \n",
    "#         Y = X.apply(pd.to_numeric, args=({\"errors\":\"coerce\"})).fillna(np.nan)\n",
    "\n",
    "        Y = X.apply((lambda x: (\n",
    "            pd.to_numeric(x.astype(str).str.replace(r'%', r'e-2'),errors='coerce')\n",
    "            )\n",
    "            )\n",
    "        )\n",
    "\n",
    "        return Y\n",
    "\n",
    "\n",
    "class StringTransformer(TransformerMixin):\n",
    "    import pandas as pd\n",
    "\n",
    "    def __init__(self):\n",
    "        pass\n",
    "\n",
    "    def fit(self, X, y=None):\n",
    "        return self\n",
    "\n",
    "    def transform(self, X):\n",
    "        Y = pd.DataFrame(X).astype(\"string\")\n",
    "        return Y"
   ]
  },
  {
   "cell_type": "markdown",
   "id": "73df66cb",
   "metadata": {
    "papermill": {
     "duration": 0.007008,
     "end_time": "2023-02-18T18:29:09.571338",
     "exception": false,
     "start_time": "2023-02-18T18:29:09.564330",
     "status": "completed"
    },
    "tags": []
   },
   "source": [
    "## Add Weights"
   ]
  },
  {
   "cell_type": "code",
   "execution_count": 5,
   "id": "0c1ba452",
   "metadata": {
    "ExecuteTime": {
     "end_time": "2022-09-18T18:35:14.646541Z",
     "start_time": "2022-09-18T18:35:14.631542Z"
    },
    "execution": {
     "iopub.execute_input": "2023-02-18T18:29:09.584331Z",
     "iopub.status.busy": "2023-02-18T18:29:09.583329Z",
     "iopub.status.idle": "2023-02-18T18:29:09.603164Z",
     "shell.execute_reply": "2023-02-18T18:29:09.602240Z"
    },
    "papermill": {
     "duration": 0.02883,
     "end_time": "2023-02-18T18:29:09.605198",
     "exception": false,
     "start_time": "2023-02-18T18:29:09.576368",
     "status": "completed"
    },
    "scrolled": true,
    "tags": []
   },
   "outputs": [],
   "source": [
    "df_XY['Age'] = df_XY['Open_Year'] - min(df_XY['Open_Year']-1)\n",
    "df_XY['Weight'] = 0.8 # hyperparam for exponential weighting\n",
    "df_XY['Weight'] = df_XY['Weight'].pow(df_XY['Age'],fill_value=0)"
   ]
  },
  {
   "cell_type": "code",
   "execution_count": 6,
   "id": "bd9e0fc9",
   "metadata": {
    "ExecuteTime": {
     "end_time": "2022-09-18T18:35:14.677541Z",
     "start_time": "2022-09-18T18:35:14.651542Z"
    },
    "execution": {
     "iopub.execute_input": "2023-02-18T18:29:09.620179Z",
     "iopub.status.busy": "2023-02-18T18:29:09.619162Z",
     "iopub.status.idle": "2023-02-18T18:29:09.651167Z",
     "shell.execute_reply": "2023-02-18T18:29:09.649163Z"
    },
    "papermill": {
     "duration": 0.040988,
     "end_time": "2023-02-18T18:29:09.653163",
     "exception": false,
     "start_time": "2023-02-18T18:29:09.612175",
     "status": "completed"
    },
    "tags": []
   },
   "outputs": [
    {
     "data": {
      "text/plain": [
       "2    742\n",
       "6    430\n",
       "5    339\n",
       "7    230\n",
       "3    196\n",
       "8    145\n",
       "4    104\n",
       "1     86\n",
       "Name: Age, dtype: int64"
      ]
     },
     "execution_count": 6,
     "metadata": {},
     "output_type": "execute_result"
    }
   ],
   "source": [
    "df_XY['Age'].value_counts()"
   ]
  },
  {
   "cell_type": "code",
   "execution_count": 7,
   "id": "9edf7d76",
   "metadata": {
    "ExecuteTime": {
     "end_time": "2022-09-18T18:35:14.708560Z",
     "start_time": "2022-09-18T18:35:14.681549Z"
    },
    "execution": {
     "iopub.execute_input": "2023-02-18T18:29:09.669163Z",
     "iopub.status.busy": "2023-02-18T18:29:09.668165Z",
     "iopub.status.idle": "2023-02-18T18:29:09.698193Z",
     "shell.execute_reply": "2023-02-18T18:29:09.696172Z"
    },
    "papermill": {
     "duration": 0.040028,
     "end_time": "2023-02-18T18:29:09.701198",
     "exception": false,
     "start_time": "2023-02-18T18:29:09.661170",
     "status": "completed"
    },
    "tags": []
   },
   "outputs": [
    {
     "data": {
      "text/plain": [
       "0.640000    742\n",
       "0.262144    430\n",
       "0.327680    339\n",
       "0.209715    230\n",
       "0.512000    196\n",
       "0.167772    145\n",
       "0.409600    104\n",
       "0.800000     86\n",
       "Name: Weight, dtype: int64"
      ]
     },
     "execution_count": 7,
     "metadata": {},
     "output_type": "execute_result"
    }
   ],
   "source": [
    "df_XY['Weight'].value_counts()"
   ]
  },
  {
   "cell_type": "markdown",
   "id": "5ddbf2ee",
   "metadata": {
    "papermill": {
     "duration": 0.007998,
     "end_time": "2023-02-18T18:29:09.716162",
     "exception": false,
     "start_time": "2023-02-18T18:29:09.708164",
     "status": "completed"
    },
    "tags": []
   },
   "source": [
    "## create na pipeline"
   ]
  },
  {
   "cell_type": "code",
   "execution_count": 8,
   "id": "351d6bd5",
   "metadata": {
    "ExecuteTime": {
     "end_time": "2022-09-18T18:35:14.740543Z",
     "start_time": "2022-09-18T18:35:14.713543Z"
    },
    "execution": {
     "iopub.execute_input": "2023-02-18T18:29:09.729192Z",
     "iopub.status.busy": "2023-02-18T18:29:09.728162Z",
     "iopub.status.idle": "2023-02-18T18:29:09.742210Z",
     "shell.execute_reply": "2023-02-18T18:29:09.741200Z"
    },
    "papermill": {
     "duration": 0.022035,
     "end_time": "2023-02-18T18:29:09.744197",
     "exception": false,
     "start_time": "2023-02-18T18:29:09.722162",
     "status": "completed"
    },
    "scrolled": true,
    "tags": []
   },
   "outputs": [
    {
     "data": {
      "text/plain": [
       "Series([], Name: 0, dtype: object)"
      ]
     },
     "execution_count": 8,
     "metadata": {},
     "output_type": "execute_result"
    }
   ],
   "source": [
    "df_XY.loc[0,df_XY.columns.duplicated()]"
   ]
  },
  {
   "cell_type": "code",
   "execution_count": 9,
   "id": "ce3267dc",
   "metadata": {
    "ExecuteTime": {
     "end_time": "2022-09-18T18:35:14.786543Z",
     "start_time": "2022-09-18T18:35:14.744542Z"
    },
    "execution": {
     "iopub.execute_input": "2023-02-18T18:29:09.759163Z",
     "iopub.status.busy": "2023-02-18T18:29:09.758180Z",
     "iopub.status.idle": "2023-02-18T18:29:09.789214Z",
     "shell.execute_reply": "2023-02-18T18:29:09.788239Z"
    },
    "lines_to_next_cell": 2,
    "papermill": {
     "duration": 0.041031,
     "end_time": "2023-02-18T18:29:09.791194",
     "exception": false,
     "start_time": "2023-02-18T18:29:09.750163",
     "status": "completed"
    },
    "tags": []
   },
   "outputs": [],
   "source": [
    "# remove all nan columns\n",
    "df_XY = df_XY.dropna(axis=1, how='all')"
   ]
  },
  {
   "cell_type": "code",
   "execution_count": 10,
   "id": "da5d1dfc",
   "metadata": {
    "ExecuteTime": {
     "end_time": "2022-09-18T18:35:14.818542Z",
     "start_time": "2022-09-18T18:35:14.795541Z"
    },
    "execution": {
     "iopub.execute_input": "2023-02-18T18:29:09.809165Z",
     "iopub.status.busy": "2023-02-18T18:29:09.808165Z",
     "iopub.status.idle": "2023-02-18T18:29:09.821227Z",
     "shell.execute_reply": "2023-02-18T18:29:09.819197Z"
    },
    "papermill": {
     "duration": 0.024997,
     "end_time": "2023-02-18T18:29:09.824162",
     "exception": false,
     "start_time": "2023-02-18T18:29:09.799165",
     "status": "completed"
    },
    "tags": []
   },
   "outputs": [
    {
     "data": {
      "text/plain": [
       "Index(['Unnamed: 0.2', 'Unnamed: 0.1', 'Unnamed: 0', 'Open_Date', 'Close_Date',\n",
       "       'Symbol', 'Quantity', 'Pnl', 'OpenAct', 'CloseAct', 'Open_Price',\n",
       "       'Close_Price', 'Comm_Tot', 'DATE', 'ACTION', 'QTYCHG', 'PRICE', 'TIME',\n",
       "       'UNNAMED: 6', 'COMMISSION', 'UNNAMED: 8', 'CASH CHG (PNL)', 'COMMENTS',\n",
       "       'PCTRETURN', 'STARTDATE', 'COMPANY NAME (IN ALPHABETICAL ORDER)',\n",
       "       'TICKER', 'STOP', '% TO STOP', 'CURRENT PRICE', '% TO TARGET',\n",
       "       'AT PRICE', 'TARGET', 'EPS1', 'EPS2', 'FYEND', 'DAYSTOFYEND',\n",
       "       'FYEPSNXT', 'GROWTH*0.5TO0.75', 'ROIC (BW ROA ROE)', 'TGT FWD P/E',\n",
       "       'YEARS TO NORMALIZATION', 'LASTUPDATED', 'CATEGORY', 'COMMENTS.1',\n",
       "       'FILENAME', 'DayOfWeek0Mon', 'Date_YahooFinance', 'Close_^GSPC',\n",
       "       'Close_^VIX', 'Close_^GSPC_200MA', 'SP500from200MA', 'Open_Year',\n",
       "       'CONS_SENT_Date', 'CONS_SENT_Index', 'Date',\n",
       "       'AAII_0_level_0_Reported_Date', 'AAII_1_level_0_Reported_Bullish',\n",
       "       'AAII_2_level_0_Reported_Neutral', 'AAII_3_level_0_Reported_Bearish',\n",
       "       'AAII_4_level_0_Reported_Total', 'AAII_Bullish_8-week_Mov Avg',\n",
       "       'AAII_Bullish_Bull-Bear_Spread', 'AAII_Bullish_Bullish_Average',\n",
       "       'AAII_Bullish_Average_+St. Dev.', 'AAII_Bullish_Average_- St. Dev.',\n",
       "       'AAII_S&P 500_Weekly_High', 'AAII_S&P 500_Weekly_Low',\n",
       "       'AAII_S&P 500_Weekly_Close', 'AAII_Date', 'Age', 'Weight'],\n",
       "      dtype='object')"
      ]
     },
     "execution_count": 10,
     "metadata": {},
     "output_type": "execute_result"
    }
   ],
   "source": [
    "df_XY.columns"
   ]
  },
  {
   "cell_type": "code",
   "execution_count": 11,
   "id": "54add40d",
   "metadata": {
    "ExecuteTime": {
     "end_time": "2022-09-18T18:35:15.157548Z",
     "start_time": "2022-09-18T18:35:14.821547Z"
    },
    "execution": {
     "iopub.execute_input": "2023-02-18T18:29:09.841201Z",
     "iopub.status.busy": "2023-02-18T18:29:09.841201Z",
     "iopub.status.idle": "2023-02-18T18:29:10.135973Z",
     "shell.execute_reply": "2023-02-18T18:29:10.133990Z"
    },
    "lines_to_next_cell": 2,
    "papermill": {
     "duration": 0.307802,
     "end_time": "2023-02-18T18:29:10.137966",
     "exception": false,
     "start_time": "2023-02-18T18:29:09.830164",
     "status": "completed"
    },
    "tags": []
   },
   "outputs": [
    {
     "name": "stderr",
     "output_type": "stream",
     "text": [
      "C:\\Users\\SW\\AppData\\Local\\Temp\\ipykernel_22180\\1557959305.py:3: FutureWarning: The default value of regex will change from True to False in a future version. In addition, single character regular expressions will *not* be treated as literal strings when regex=True.\n",
      "  pd.Series(df_XY.columns)\n"
     ]
    },
    {
     "name": "stderr",
     "output_type": "stream",
     "text": [
      "C:\\Users\\SW\\AppData\\Local\\Temp\\ipykernel_22180\\3465394604.py:32: UserWarning: Transformer numerizer (type Numerizer) does not provide get_feature_names. Will return input column names if available\n",
      "  warnings.warn(\n",
      "C:\\Users\\SW\\AppData\\Local\\Temp\\ipykernel_22180\\3465394604.py:32: UserWarning: Transformer imputer (type SimpleImputer) does not provide get_feature_names. Will return input column names if available\n",
      "  warnings.warn(\n",
      "C:\\Users\\SW\\AppData\\Local\\Temp\\ipykernel_22180\\3465394604.py:32: UserWarning: Transformer stringtransformer (type StringTransformer) does not provide get_feature_names. Will return input column names if available\n",
      "  warnings.warn(\n"
     ]
    }
   ],
   "source": [
    "# update columns headers to clean up\n",
    "df_XY.columns = list(\n",
    "    pd.Series(df_XY.columns)\n",
    "    .astype(str)\n",
    "    .str.replace(\" \", \"_\", regex=True)\n",
    "    .str.upper()\n",
    "    .str.strip()\n",
    "    .str.replace(\"/\", \"_\")\n",
    "    .str.replace(\"*\", \"_\")\n",
    ")\n",
    "\n",
    "# avoid duplicates\n",
    "df_XY = df_XY.loc[:,~df_XY.columns.duplicated()]\n",
    "\n",
    "# start with numeric, utilizng explore data before\n",
    "numeric_features = df_XY.convert_dtypes().select_dtypes(include=np.number).columns.tolist()\n",
    "numeric_features = numeric_features + [\n",
    "    \"%_TO_STOP\",\n",
    "    \"%_TO_TARGET\",\n",
    "    \"GROWTH_0.5TO0.75\",\n",
    "    \"ROIC_(BW_ROA_ROE)\",\n",
    "    \"TGT_FWD_P_E\",\n",
    "    \"YEARS_TO_NORMALIZATION\",\n",
    "]\n",
    "numeric_features = list(set(numeric_features))\n",
    "\n",
    "numeric_transformer = Pipeline(\n",
    "    steps=[\n",
    "        (\"numerizer\", Numerizer()),\n",
    "        (\"imputer\", SimpleImputer(missing_values=np.nan,strategy=\"median\")),\n",
    "    ]\n",
    ")\n",
    "categorical_transformer = Pipeline(\n",
    "    steps=[\n",
    "        (\"imputer\", SimpleImputer(strategy=\"constant\", fill_value=\"_NA_\")),\n",
    "        (\"stringtransformer\", StringTransformer()),\n",
    "    ]\n",
    ")\n",
    "\n",
    "# numerical\n",
    "\n",
    "# categorical_features = ['embarked', 'sex', 'pclass']\n",
    "# categorical_transformer = Pipeline(steps=[\n",
    "#     ('imputer', SimpleImputer(strategy='constant', fill_value='missing')),\n",
    "#     ('onehot', OneHotEncoder(handle_unknown='ignore'))])\n",
    "\n",
    "categorical_features = list(set(df_XY.columns).difference(set(numeric_features)))\n",
    "\n",
    "preprocessor_na = ColumnTransformer(\n",
    "    transformers=[\n",
    "        (\"num\", numeric_transformer, numeric_features),\n",
    "        (\"cat\", categorical_transformer, categorical_features),\n",
    "    ],\n",
    "    # remainder = 'passthrough' # not needed anymore\n",
    ")\n",
    "\n",
    "XY_imputed = preprocessor_na.fit_transform(df_XY)\n",
    "\n",
    "columns = get_feature_names(preprocessor_na)\n",
    "\n",
    "df_XY_imputed = pd.DataFrame(XY_imputed, columns=columns).convert_dtypes()"
   ]
  },
  {
   "cell_type": "code",
   "execution_count": 12,
   "id": "fa2f3cbb",
   "metadata": {
    "ExecuteTime": {
     "end_time": "2022-09-18T18:35:15.235550Z",
     "start_time": "2022-09-18T18:35:15.165554Z"
    },
    "execution": {
     "iopub.execute_input": "2023-02-18T18:29:10.151937Z",
     "iopub.status.busy": "2023-02-18T18:29:10.151937Z",
     "iopub.status.idle": "2023-02-18T18:29:10.181244Z",
     "shell.execute_reply": "2023-02-18T18:29:10.180278Z"
    },
    "papermill": {
     "duration": 0.040315,
     "end_time": "2023-02-18T18:29:10.183281",
     "exception": false,
     "start_time": "2023-02-18T18:29:10.142966",
     "status": "completed"
    },
    "tags": []
   },
   "outputs": [
    {
     "data": {
      "text/html": [
       "<div>\n",
       "<style scoped>\n",
       "    .dataframe tbody tr th:only-of-type {\n",
       "        vertical-align: middle;\n",
       "    }\n",
       "\n",
       "    .dataframe tbody tr th {\n",
       "        vertical-align: top;\n",
       "    }\n",
       "\n",
       "    .dataframe thead th {\n",
       "        text-align: right;\n",
       "    }\n",
       "</style>\n",
       "<table border=\"1\" class=\"dataframe\">\n",
       "  <thead>\n",
       "    <tr style=\"text-align: right;\">\n",
       "      <th></th>\n",
       "      <th>UNNAMED:_0</th>\n",
       "      <th>AAII_S&amp;P_500_WEEKLY_CLOSE</th>\n",
       "      <th>YEARS_TO_NORMALIZATION</th>\n",
       "      <th>CLOSE_^VIX</th>\n",
       "      <th>AAII_BULLISH_AVERAGE_-_ST._DEV.</th>\n",
       "      <th>ROIC_(BW_ROA_ROE)</th>\n",
       "      <th>COMM_TOT</th>\n",
       "      <th>AAII_2_LEVEL_0_REPORTED_NEUTRAL</th>\n",
       "      <th>%_TO_STOP</th>\n",
       "      <th>QUANTITY</th>\n",
       "      <th>...</th>\n",
       "      <th>DATE</th>\n",
       "      <th>TIME</th>\n",
       "      <th>TICKER</th>\n",
       "      <th>CASH_CHG_(PNL)</th>\n",
       "      <th>TARGET</th>\n",
       "      <th>AT_PRICE</th>\n",
       "      <th>PCTRETURN</th>\n",
       "      <th>CLOSE_DATE</th>\n",
       "      <th>FYEPSNXT</th>\n",
       "      <th>CATEGORY</th>\n",
       "    </tr>\n",
       "  </thead>\n",
       "  <tbody>\n",
       "    <tr>\n",
       "      <th>0</th>\n",
       "      <td>0</td>\n",
       "      <td>2108.58</td>\n",
       "      <td>6</td>\n",
       "      <td>18.23</td>\n",
       "      <td>0.276547</td>\n",
       "      <td>0.15</td>\n",
       "      <td>-3.22935</td>\n",
       "      <td>0.427778</td>\n",
       "      <td>-0.172</td>\n",
       "      <td>600</td>\n",
       "      <td>...</td>\n",
       "      <td>2015-06-16</td>\n",
       "      <td>9:42:16 AM</td>\n",
       "      <td>_NA_</td>\n",
       "      <td>($9,360.64)</td>\n",
       "      <td>_NA_</td>\n",
       "      <td>_NA_</td>\n",
       "      <td>_NA_</td>\n",
       "      <td>2016-01-07 11:12:44</td>\n",
       "      <td>_NA_</td>\n",
       "      <td>_NA_</td>\n",
       "    </tr>\n",
       "    <tr>\n",
       "      <th>1</th>\n",
       "      <td>14</td>\n",
       "      <td>2108.58</td>\n",
       "      <td>6</td>\n",
       "      <td>18.23</td>\n",
       "      <td>0.276547</td>\n",
       "      <td>0.15</td>\n",
       "      <td>-10.116656</td>\n",
       "      <td>0.427778</td>\n",
       "      <td>-0.172</td>\n",
       "      <td>2000</td>\n",
       "      <td>...</td>\n",
       "      <td>2015-04-16</td>\n",
       "      <td>1:11:04 PM</td>\n",
       "      <td>_NA_</td>\n",
       "      <td>($2,452.50)</td>\n",
       "      <td>_NA_</td>\n",
       "      <td>_NA_</td>\n",
       "      <td>_NA_</td>\n",
       "      <td>2016-01-07 14:17:08</td>\n",
       "      <td>_NA_</td>\n",
       "      <td>Value</td>\n",
       "    </tr>\n",
       "    <tr>\n",
       "      <th>2</th>\n",
       "      <td>22</td>\n",
       "      <td>2108.58</td>\n",
       "      <td>6</td>\n",
       "      <td>18.23</td>\n",
       "      <td>0.276547</td>\n",
       "      <td>0.15</td>\n",
       "      <td>-2.0</td>\n",
       "      <td>0.427778</td>\n",
       "      <td>-0.172</td>\n",
       "      <td>500</td>\n",
       "      <td>...</td>\n",
       "      <td>_NA_</td>\n",
       "      <td>_NA_</td>\n",
       "      <td>_NA_</td>\n",
       "      <td>_NA_</td>\n",
       "      <td>_NA_</td>\n",
       "      <td>_NA_</td>\n",
       "      <td>_NA_</td>\n",
       "      <td>2016-01-08 14:24:59</td>\n",
       "      <td>_NA_</td>\n",
       "      <td>_NA_</td>\n",
       "    </tr>\n",
       "    <tr>\n",
       "      <th>3</th>\n",
       "      <td>653</td>\n",
       "      <td>2108.58</td>\n",
       "      <td>6</td>\n",
       "      <td>18.23</td>\n",
       "      <td>0.276547</td>\n",
       "      <td>0.15</td>\n",
       "      <td>-1.108597</td>\n",
       "      <td>0.427778</td>\n",
       "      <td>-0.172</td>\n",
       "      <td>75</td>\n",
       "      <td>...</td>\n",
       "      <td>2015-04-17</td>\n",
       "      <td>3:02:24 PM</td>\n",
       "      <td>_NA_</td>\n",
       "      <td>$18,442.76</td>\n",
       "      <td>_NA_</td>\n",
       "      <td>_NA_</td>\n",
       "      <td>_NA_</td>\n",
       "      <td>2016-08-11 11:02:04</td>\n",
       "      <td>_NA_</td>\n",
       "      <td>_NA_</td>\n",
       "    </tr>\n",
       "    <tr>\n",
       "      <th>4</th>\n",
       "      <td>64</td>\n",
       "      <td>2108.58</td>\n",
       "      <td>6</td>\n",
       "      <td>18.23</td>\n",
       "      <td>0.276547</td>\n",
       "      <td>0.15</td>\n",
       "      <td>-42.2</td>\n",
       "      <td>0.427778</td>\n",
       "      <td>-0.172</td>\n",
       "      <td>8000</td>\n",
       "      <td>...</td>\n",
       "      <td>2015-06-30</td>\n",
       "      <td>10:32:56 AM</td>\n",
       "      <td>_NA_</td>\n",
       "      <td>$23,862.06</td>\n",
       "      <td>_NA_</td>\n",
       "      <td>_NA_</td>\n",
       "      <td>_NA_</td>\n",
       "      <td>2016-01-20 15:22:41</td>\n",
       "      <td>_NA_</td>\n",
       "      <td>_NA_</td>\n",
       "    </tr>\n",
       "  </tbody>\n",
       "</table>\n",
       "<p>5 rows × 71 columns</p>\n",
       "</div>"
      ],
      "text/plain": [
       "   UNNAMED:_0  AAII_S&P_500_WEEKLY_CLOSE  YEARS_TO_NORMALIZATION  CLOSE_^VIX  \\\n",
       "0           0                    2108.58                       6       18.23   \n",
       "1          14                    2108.58                       6       18.23   \n",
       "2          22                    2108.58                       6       18.23   \n",
       "3         653                    2108.58                       6       18.23   \n",
       "4          64                    2108.58                       6       18.23   \n",
       "\n",
       "   AAII_BULLISH_AVERAGE_-_ST._DEV.  ROIC_(BW_ROA_ROE)   COMM_TOT  \\\n",
       "0                         0.276547               0.15   -3.22935   \n",
       "1                         0.276547               0.15 -10.116656   \n",
       "2                         0.276547               0.15       -2.0   \n",
       "3                         0.276547               0.15  -1.108597   \n",
       "4                         0.276547               0.15      -42.2   \n",
       "\n",
       "   AAII_2_LEVEL_0_REPORTED_NEUTRAL  %_TO_STOP  QUANTITY  ...        DATE  \\\n",
       "0                         0.427778     -0.172       600  ...  2015-06-16   \n",
       "1                         0.427778     -0.172      2000  ...  2015-04-16   \n",
       "2                         0.427778     -0.172       500  ...        _NA_   \n",
       "3                         0.427778     -0.172        75  ...  2015-04-17   \n",
       "4                         0.427778     -0.172      8000  ...  2015-06-30   \n",
       "\n",
       "          TIME  TICKER  CASH_CHG_(PNL)  TARGET  AT_PRICE  PCTRETURN  \\\n",
       "0   9:42:16 AM    _NA_     ($9,360.64)    _NA_      _NA_       _NA_   \n",
       "1   1:11:04 PM    _NA_     ($2,452.50)    _NA_      _NA_       _NA_   \n",
       "2         _NA_    _NA_            _NA_    _NA_      _NA_       _NA_   \n",
       "3   3:02:24 PM    _NA_     $18,442.76     _NA_      _NA_       _NA_   \n",
       "4  10:32:56 AM    _NA_     $23,862.06     _NA_      _NA_       _NA_   \n",
       "\n",
       "            CLOSE_DATE  FYEPSNXT  CATEGORY  \n",
       "0  2016-01-07 11:12:44      _NA_      _NA_  \n",
       "1  2016-01-07 14:17:08      _NA_     Value  \n",
       "2  2016-01-08 14:24:59      _NA_      _NA_  \n",
       "3  2016-08-11 11:02:04      _NA_      _NA_  \n",
       "4  2016-01-20 15:22:41      _NA_      _NA_  \n",
       "\n",
       "[5 rows x 71 columns]"
      ]
     },
     "execution_count": 12,
     "metadata": {},
     "output_type": "execute_result"
    }
   ],
   "source": [
    "df_XY_imputed.head()"
   ]
  },
  {
   "cell_type": "code",
   "execution_count": 13,
   "id": "6560baf9",
   "metadata": {
    "ExecuteTime": {
     "end_time": "2022-09-18T18:35:15.251545Z",
     "start_time": "2022-09-18T18:35:15.237540Z"
    },
    "execution": {
     "iopub.execute_input": "2023-02-18T18:29:10.203244Z",
     "iopub.status.busy": "2023-02-18T18:29:10.202246Z",
     "iopub.status.idle": "2023-02-18T18:29:10.214254Z",
     "shell.execute_reply": "2023-02-18T18:29:10.212247Z"
    },
    "papermill": {
     "duration": 0.027036,
     "end_time": "2023-02-18T18:29:10.217281",
     "exception": false,
     "start_time": "2023-02-18T18:29:10.190245",
     "status": "completed"
    },
    "tags": []
   },
   "outputs": [
    {
     "data": {
      "text/plain": [
       "Index(['UNNAMED:_0', 'AAII_S&P_500_WEEKLY_CLOSE', 'YEARS_TO_NORMALIZATION',\n",
       "       'CLOSE_^VIX', 'AAII_BULLISH_AVERAGE_-_ST._DEV.', 'ROIC_(BW_ROA_ROE)',\n",
       "       'COMM_TOT', 'AAII_2_LEVEL_0_REPORTED_NEUTRAL', '%_TO_STOP', 'QUANTITY',\n",
       "       'AAII_S&P_500_WEEKLY_LOW', 'PNL', 'CLOSE_PRICE', 'PRICE',\n",
       "       'AAII_3_LEVEL_0_REPORTED_BEARISH', 'SP500FROM200MA',\n",
       "       'AAII_BULLISH_8-WEEK_MOV_AVG', 'WEIGHT', 'QTYCHG',\n",
       "       'AAII_1_LEVEL_0_REPORTED_BULLISH', '%_TO_TARGET', 'OPEN_YEAR',\n",
       "       'GROWTH_0.5TO0.75', 'COMMISSION', 'AAII_BULLISH_BULL-BEAR_SPREAD',\n",
       "       'CLOSE_^GSPC', 'AAII_S&P_500_WEEKLY_HIGH', 'DAYOFWEEK0MON',\n",
       "       'UNNAMED:_0.1', 'AAII_4_LEVEL_0_REPORTED_TOTAL',\n",
       "       'AAII_BULLISH_BULLISH_AVERAGE', 'CLOSE_^GSPC_200MA', 'CONS_SENT_INDEX',\n",
       "       'AGE', 'AAII_BULLISH_AVERAGE_+ST._DEV.', 'OPEN_PRICE', 'UNNAMED:_0.2',\n",
       "       'TGT_FWD_P_E', 'STARTDATE', 'COMMENTS', 'FYEND', 'DATE_YAHOOFINANCE',\n",
       "       'EPS2', 'UNNAMED:_8', 'LASTUPDATED', 'OPEN_DATE', 'DAYSTOFYEND', 'EPS1',\n",
       "       'COMMENTS.1', 'UNNAMED:_6', 'CURRENT_PRICE',\n",
       "       'AAII_0_LEVEL_0_REPORTED_DATE', 'CLOSEACT', 'FILENAME',\n",
       "       'CONS_SENT_DATE', 'OPENACT', 'ACTION',\n",
       "       'COMPANY_NAME_(IN_ALPHABETICAL_ORDER)', 'STOP', 'SYMBOL', 'AAII_DATE',\n",
       "       'DATE', 'TIME', 'TICKER', 'CASH_CHG_(PNL)', 'TARGET', 'AT_PRICE',\n",
       "       'PCTRETURN', 'CLOSE_DATE', 'FYEPSNXT', 'CATEGORY'],\n",
       "      dtype='object')"
      ]
     },
     "execution_count": 13,
     "metadata": {},
     "output_type": "execute_result"
    }
   ],
   "source": [
    "df_XY_imputed.columns"
   ]
  },
  {
   "cell_type": "code",
   "execution_count": 14,
   "id": "ef82b6dc",
   "metadata": {
    "ExecuteTime": {
     "end_time": "2022-09-18T18:35:15.266552Z",
     "start_time": "2022-09-18T18:35:15.256541Z"
    },
    "execution": {
     "iopub.execute_input": "2023-02-18T18:29:10.234246Z",
     "iopub.status.busy": "2023-02-18T18:29:10.234246Z",
     "iopub.status.idle": "2023-02-18T18:29:10.245246Z",
     "shell.execute_reply": "2023-02-18T18:29:10.244276Z"
    },
    "papermill": {
     "duration": 0.023001,
     "end_time": "2023-02-18T18:29:10.247244",
     "exception": false,
     "start_time": "2023-02-18T18:29:10.224243",
     "status": "completed"
    },
    "tags": []
   },
   "outputs": [],
   "source": [
    "# df_XY_imputed[\"%_TO_STOP\"].hist()"
   ]
  },
  {
   "cell_type": "code",
   "execution_count": 15,
   "id": "bfa62f20",
   "metadata": {
    "ExecuteTime": {
     "end_time": "2022-09-18T18:35:15.282547Z",
     "start_time": "2022-09-18T18:35:15.272544Z"
    },
    "execution": {
     "iopub.execute_input": "2023-02-18T18:29:10.265304Z",
     "iopub.status.busy": "2023-02-18T18:29:10.264246Z",
     "iopub.status.idle": "2023-02-18T18:29:10.278248Z",
     "shell.execute_reply": "2023-02-18T18:29:10.276263Z"
    },
    "papermill": {
     "duration": 0.02899,
     "end_time": "2023-02-18T18:29:10.283245",
     "exception": false,
     "start_time": "2023-02-18T18:29:10.254255",
     "status": "completed"
    },
    "tags": []
   },
   "outputs": [],
   "source": [
    "# create target\n",
    "\n",
    "df_XY_imputed[\"PCT_RET_FINAL\"] = df_XY_imputed[\"PNL\"] / (\n",
    "    df_XY_imputed[\"OPEN_PRICE\"] * df_XY_imputed[\"QUANTITY\"]\n",
    ")"
   ]
  },
  {
   "cell_type": "code",
   "execution_count": 16,
   "id": "6f75aa8b",
   "metadata": {
    "ExecuteTime": {
     "end_time": "2022-09-18T18:35:15.298573Z",
     "start_time": "2022-09-18T18:35:15.288545Z"
    },
    "execution": {
     "iopub.execute_input": "2023-02-18T18:29:10.306257Z",
     "iopub.status.busy": "2023-02-18T18:29:10.305245Z",
     "iopub.status.idle": "2023-02-18T18:29:10.325244Z",
     "shell.execute_reply": "2023-02-18T18:29:10.324251Z"
    },
    "lines_to_next_cell": 2,
    "papermill": {
     "duration": 0.03397,
     "end_time": "2023-02-18T18:29:10.327243",
     "exception": false,
     "start_time": "2023-02-18T18:29:10.293273",
     "status": "completed"
    },
    "tags": []
   },
   "outputs": [],
   "source": [
    "# TODO create moving avg"
   ]
  },
  {
   "cell_type": "code",
   "execution_count": 17,
   "id": "8179bfa2",
   "metadata": {
    "ExecuteTime": {
     "end_time": "2022-09-18T18:35:15.314540Z",
     "start_time": "2022-09-18T18:35:15.302542Z"
    },
    "execution": {
     "iopub.execute_input": "2023-02-18T18:29:10.345244Z",
     "iopub.status.busy": "2023-02-18T18:29:10.344252Z",
     "iopub.status.idle": "2023-02-18T18:29:10.357255Z",
     "shell.execute_reply": "2023-02-18T18:29:10.356242Z"
    },
    "papermill": {
     "duration": 0.026999,
     "end_time": "2023-02-18T18:29:10.360242",
     "exception": false,
     "start_time": "2023-02-18T18:29:10.333243",
     "status": "completed"
    },
    "tags": []
   },
   "outputs": [
    {
     "name": "stdout",
     "output_type": "stream",
     "text": [
      "Index(['UNNAMED:_0', 'AAII_S&P_500_WEEKLY_CLOSE', 'YEARS_TO_NORMALIZATION',\n",
      "       'CLOSE_^VIX', 'AAII_BULLISH_AVERAGE_-_ST._DEV.', 'ROIC_(BW_ROA_ROE)',\n",
      "       'COMM_TOT', 'AAII_2_LEVEL_0_REPORTED_NEUTRAL', '%_TO_STOP', 'QUANTITY',\n",
      "       'AAII_S&P_500_WEEKLY_LOW', 'PNL', 'CLOSE_PRICE', 'PRICE',\n",
      "       'AAII_3_LEVEL_0_REPORTED_BEARISH', 'SP500FROM200MA',\n",
      "       'AAII_BULLISH_8-WEEK_MOV_AVG', 'WEIGHT', 'QTYCHG',\n",
      "       'AAII_1_LEVEL_0_REPORTED_BULLISH', '%_TO_TARGET', 'OPEN_YEAR',\n",
      "       'GROWTH_0.5TO0.75', 'COMMISSION', 'AAII_BULLISH_BULL-BEAR_SPREAD',\n",
      "       'CLOSE_^GSPC', 'AAII_S&P_500_WEEKLY_HIGH', 'DAYOFWEEK0MON',\n",
      "       'UNNAMED:_0.1', 'AAII_4_LEVEL_0_REPORTED_TOTAL',\n",
      "       'AAII_BULLISH_BULLISH_AVERAGE', 'CLOSE_^GSPC_200MA', 'CONS_SENT_INDEX',\n",
      "       'AGE', 'AAII_BULLISH_AVERAGE_+ST._DEV.', 'OPEN_PRICE', 'UNNAMED:_0.2',\n",
      "       'TGT_FWD_P_E', 'STARTDATE', 'COMMENTS', 'FYEND', 'DATE_YAHOOFINANCE',\n",
      "       'EPS2', 'UNNAMED:_8', 'LASTUPDATED', 'OPEN_DATE', 'DAYSTOFYEND', 'EPS1',\n",
      "       'COMMENTS.1', 'UNNAMED:_6', 'CURRENT_PRICE',\n",
      "       'AAII_0_LEVEL_0_REPORTED_DATE', 'CLOSEACT', 'FILENAME',\n",
      "       'CONS_SENT_DATE', 'OPENACT', 'ACTION',\n",
      "       'COMPANY_NAME_(IN_ALPHABETICAL_ORDER)', 'STOP', 'SYMBOL', 'AAII_DATE',\n",
      "       'DATE', 'TIME', 'TICKER', 'CASH_CHG_(PNL)', 'TARGET', 'AT_PRICE',\n",
      "       'PCTRETURN', 'CLOSE_DATE', 'FYEPSNXT', 'CATEGORY', 'PCT_RET_FINAL'],\n",
      "      dtype='object')\n"
     ]
    }
   ],
   "source": [
    "# Final columns\n",
    "\n",
    "print(df_XY_imputed.columns)"
   ]
  },
  {
   "cell_type": "code",
   "execution_count": 18,
   "id": "925b9084",
   "metadata": {
    "ExecuteTime": {
     "end_time": "2022-09-18T18:35:15.344542Z",
     "start_time": "2022-09-18T18:35:15.317541Z"
    },
    "execution": {
     "iopub.execute_input": "2023-02-18T18:29:10.375335Z",
     "iopub.status.busy": "2023-02-18T18:29:10.375335Z",
     "iopub.status.idle": "2023-02-18T18:29:10.405337Z",
     "shell.execute_reply": "2023-02-18T18:29:10.404343Z"
    },
    "papermill": {
     "duration": 0.041095,
     "end_time": "2023-02-18T18:29:10.408336",
     "exception": false,
     "start_time": "2023-02-18T18:29:10.367241",
     "status": "completed"
    },
    "tags": []
   },
   "outputs": [],
   "source": [
    "## check no na's left in numerical\n",
    "\n",
    "try:\n",
    "    assert (\n",
    "        df_XY_imputed[numeric_features].isna().sum().sum() == 0\n",
    "    ), \"NAs remain in numerical\"\n",
    "except:\n",
    "    print(\"NAs remain in numerical\")"
   ]
  },
  {
   "cell_type": "markdown",
   "id": "ad761e04",
   "metadata": {
    "papermill": {
     "duration": 0.008999,
     "end_time": "2023-02-18T18:29:10.426341",
     "exception": false,
     "start_time": "2023-02-18T18:29:10.417342",
     "status": "completed"
    },
    "tags": []
   },
   "source": [
    "## API Spec"
   ]
  },
  {
   "cell_type": "code",
   "execution_count": 19,
   "id": "d620b42a",
   "metadata": {
    "ExecuteTime": {
     "end_time": "2022-09-18T18:35:15.721541Z",
     "start_time": "2022-09-18T18:35:15.349550Z"
    },
    "execution": {
     "iopub.execute_input": "2023-02-18T18:29:10.452366Z",
     "iopub.status.busy": "2023-02-18T18:29:10.452366Z",
     "iopub.status.idle": "2023-02-18T18:29:10.547890Z",
     "shell.execute_reply": "2023-02-18T18:29:10.546892Z"
    },
    "lines_to_next_cell": 2,
    "papermill": {
     "duration": 0.112542,
     "end_time": "2023-02-18T18:29:10.550926",
     "exception": false,
     "start_time": "2023-02-18T18:29:10.438384",
     "status": "completed"
    },
    "tags": []
   },
   "outputs": [],
   "source": [
    "## import api spec\n",
    "\n",
    "import yaml\n",
    "from yaml import Loader\n",
    "\n",
    "with open(\"data-tests/_apispecs.yaml\") as f:\n",
    "    api_specs = yaml.load(f, Loader=Loader)"
   ]
  },
  {
   "cell_type": "code",
   "execution_count": 20,
   "id": "d6570cbd",
   "metadata": {
    "ExecuteTime": {
     "end_time": "2022-09-18T18:35:20.374129Z",
     "start_time": "2022-09-18T18:35:15.726549Z"
    },
    "execution": {
     "iopub.execute_input": "2023-02-18T18:29:10.567891Z",
     "iopub.status.busy": "2023-02-18T18:29:10.566919Z",
     "iopub.status.idle": "2023-02-18T18:29:14.935873Z",
     "shell.execute_reply": "2023-02-18T18:29:14.934970Z"
    },
    "papermill": {
     "duration": 4.380015,
     "end_time": "2023-02-18T18:29:14.937904",
     "exception": false,
     "start_time": "2023-02-18T18:29:10.557889",
     "status": "completed"
    },
    "tags": []
   },
   "outputs": [
    {
     "name": "stdout",
     "output_type": "stream",
     "text": [
      "validation completed\n"
     ]
    }
   ],
   "source": [
    "## validate based on api spec\n",
    "\n",
    "from openapi_schema_validator import validate\n",
    "import json\n",
    "\n",
    "schema = api_specs[\"components\"][\"schemas\"][\"Tradelog\"]\n",
    "\n",
    "json_str = df_XY_imputed.to_json(orient=\"records\")\n",
    "json_test = json.loads(json_str)\n",
    "\n",
    "i = 0\n",
    "for row in json_test:\n",
    "    try:\n",
    "        validate(row, schema)\n",
    "    except:\n",
    "        print(f\"failed on {i}th row \")\n",
    "        break\n",
    "    i = i + 1\n",
    "\n",
    "print(\"validation completed\")"
   ]
  },
  {
   "cell_type": "code",
   "execution_count": 21,
   "id": "72f92a7e",
   "metadata": {
    "ExecuteTime": {
     "end_time": "2022-09-18T18:35:20.610127Z",
     "start_time": "2022-09-18T18:35:20.378129Z"
    },
    "execution": {
     "iopub.execute_input": "2023-02-18T18:29:14.956870Z",
     "iopub.status.busy": "2023-02-18T18:29:14.955870Z",
     "iopub.status.idle": "2023-02-18T18:29:15.219179Z",
     "shell.execute_reply": "2023-02-18T18:29:15.217164Z"
    },
    "lines_to_next_cell": 2,
    "papermill": {
     "duration": 0.276331,
     "end_time": "2023-02-18T18:29:15.222202",
     "exception": false,
     "start_time": "2023-02-18T18:29:14.945871",
     "status": "completed"
    },
    "tags": []
   },
   "outputs": [
    {
     "data": {
      "text/plain": [
       "0"
      ]
     },
     "execution_count": 21,
     "metadata": {},
     "output_type": "execute_result"
    }
   ],
   "source": [
    "## save api spec to html\n",
    "\n",
    "import os\n",
    "\n",
    "# feed yaml file to swagger python, then create api.html\n",
    "os.system(\n",
    "    \"python swagger_yaml_to_html.py < data-tests/_apispecs.yaml > templates/api.html\"\n",
    ")"
   ]
  },
  {
   "cell_type": "markdown",
   "id": "d6574f30",
   "metadata": {
    "papermill": {
     "duration": 0.007023,
     "end_time": "2023-02-18T18:29:15.236192",
     "exception": false,
     "start_time": "2023-02-18T18:29:15.229169",
     "status": "completed"
    },
    "tags": []
   },
   "source": [
    "## Resort & Save Results"
   ]
  },
  {
   "cell_type": "code",
   "execution_count": 22,
   "id": "d722f77c",
   "metadata": {
    "ExecuteTime": {
     "end_time": "2022-09-18T18:35:20.626127Z",
     "start_time": "2022-09-18T18:35:20.613129Z"
    },
    "execution": {
     "iopub.execute_input": "2023-02-18T18:29:15.256162Z",
     "iopub.status.busy": "2023-02-18T18:29:15.255163Z",
     "iopub.status.idle": "2023-02-18T18:29:15.267166Z",
     "shell.execute_reply": "2023-02-18T18:29:15.265163Z"
    },
    "papermill": {
     "duration": 0.024987,
     "end_time": "2023-02-18T18:29:15.271163",
     "exception": false,
     "start_time": "2023-02-18T18:29:15.246176",
     "status": "completed"
    },
    "tags": []
   },
   "outputs": [],
   "source": [
    "df_XY_imputed = df_XY_imputed.reindex(sorted(df_XY_imputed.columns), axis=1)"
   ]
  },
  {
   "cell_type": "code",
   "execution_count": 23,
   "id": "b01a7cf1",
   "metadata": {
    "ExecuteTime": {
     "end_time": "2022-09-18T18:35:20.766136Z",
     "start_time": "2022-09-18T18:35:20.629130Z"
    },
    "execution": {
     "iopub.execute_input": "2023-02-18T18:29:15.291160Z",
     "iopub.status.busy": "2023-02-18T18:29:15.290172Z",
     "iopub.status.idle": "2023-02-18T18:29:15.409173Z",
     "shell.execute_reply": "2023-02-18T18:29:15.407163Z"
    },
    "lines_to_next_cell": 2,
    "papermill": {
     "duration": 0.135971,
     "end_time": "2023-02-18T18:29:15.413167",
     "exception": false,
     "start_time": "2023-02-18T18:29:15.277196",
     "status": "completed"
    },
    "tags": []
   },
   "outputs": [],
   "source": [
    "## save results\n",
    "\n",
    "df_XY_imputed.to_csv(\"output/e_resultcleaned.csv\")"
   ]
  },
  {
   "cell_type": "code",
   "execution_count": 24,
   "id": "c5d949fc",
   "metadata": {
    "ExecuteTime": {
     "end_time": "2022-09-18T18:35:20.781128Z",
     "start_time": "2022-09-18T18:35:20.768128Z"
    },
    "execution": {
     "iopub.execute_input": "2023-02-18T18:29:15.438162Z",
     "iopub.status.busy": "2023-02-18T18:29:15.437162Z",
     "iopub.status.idle": "2023-02-18T18:29:15.456159Z",
     "shell.execute_reply": "2023-02-18T18:29:15.455230Z"
    },
    "papermill": {
     "duration": 0.030999,
     "end_time": "2023-02-18T18:29:15.457160",
     "exception": false,
     "start_time": "2023-02-18T18:29:15.426161",
     "status": "completed"
    },
    "tags": []
   },
   "outputs": [
    {
     "data": {
      "text/plain": [
       "['output/e_preprocessor_na.joblib']"
      ]
     },
     "execution_count": 24,
     "metadata": {},
     "output_type": "execute_result"
    }
   ],
   "source": [
    "## save imputer\n",
    "\n",
    "dump(preprocessor_na, \"output/e_preprocessor_na.joblib\")"
   ]
  },
  {
   "cell_type": "code",
   "execution_count": null,
   "id": "78a95beb",
   "metadata": {
    "papermill": {
     "duration": 0.010001,
     "end_time": "2023-02-18T18:29:15.475160",
     "exception": false,
     "start_time": "2023-02-18T18:29:15.465159",
     "status": "completed"
    },
    "tags": []
   },
   "outputs": [],
   "source": []
  }
 ],
 "metadata": {
  "jupytext": {
   "cell_metadata_filter": "-all",
   "formats": "auto:percent,ipynb",
   "notebook_metadata_filter": "-all"
  },
  "kernelspec": {
   "display_name": "p1analyzetrades",
   "language": "python",
   "name": "p1analyzetrades"
  },
  "language_info": {
   "codemirror_mode": {
    "name": "ipython",
    "version": 3
   },
   "file_extension": ".py",
   "mimetype": "text/x-python",
   "name": "python",
   "nbconvert_exporter": "python",
   "pygments_lexer": "ipython3",
   "version": "3.9.10"
  },
  "papermill": {
   "default_parameters": {},
   "duration": 10.850477,
   "end_time": "2023-02-18T18:29:16.045871",
   "environment_variables": {},
   "exception": null,
   "input_path": "P1-AnalyzeTrades_e_feateng.ipynb",
   "output_path": "P1-AnalyzeTrades_e_feateng_output.ipynb",
   "parameters": {},
   "start_time": "2023-02-18T18:29:05.195394",
   "version": "2.3.4"
  },
  "toc": {
   "base_numbering": 1,
   "nav_menu": {},
   "number_sections": true,
   "sideBar": true,
   "skip_h1_title": false,
   "title_cell": "Table of Contents",
   "title_sidebar": "Contents",
   "toc_cell": false,
   "toc_position": {
    "height": "calc(100% - 180px)",
    "left": "10px",
    "top": "150px",
    "width": "384px"
   },
   "toc_section_display": true,
   "toc_window_display": true
  },
  "varInspector": {
   "cols": {
    "lenName": 16,
    "lenType": 16,
    "lenVar": 40
   },
   "kernels_config": {
    "python": {
     "delete_cmd_postfix": "",
     "delete_cmd_prefix": "del ",
     "library": "var_list.py",
     "varRefreshCmd": "print(var_dic_list())"
    },
    "r": {
     "delete_cmd_postfix": ") ",
     "delete_cmd_prefix": "rm(",
     "library": "var_list.r",
     "varRefreshCmd": "cat(var_dic_list()) "
    }
   },
   "types_to_exclude": [
    "module",
    "function",
    "builtin_function_or_method",
    "instance",
    "_Feature"
   ],
   "window_display": true
  }
 },
 "nbformat": 4,
 "nbformat_minor": 5
}