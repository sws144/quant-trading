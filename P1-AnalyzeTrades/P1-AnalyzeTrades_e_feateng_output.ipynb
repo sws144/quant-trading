{
 "cells": [
  {
   "cell_type": "markdown",
   "id": "e1d9e183",
   "metadata": {
    "papermill": {
     "duration": 0.01096,
     "end_time": "2023-12-10T20:46:57.735042",
     "exception": false,
     "start_time": "2023-12-10T20:46:57.724082",
     "status": "completed"
    },
    "tags": []
   },
   "source": [
    "# E: Feature Engineering"
   ]
  },
  {
   "cell_type": "markdown",
   "id": "0334c4ff",
   "metadata": {
    "papermill": {
     "duration": 0.001994,
     "end_time": "2023-12-10T20:46:57.741276",
     "exception": false,
     "start_time": "2023-12-10T20:46:57.739282",
     "status": "completed"
    },
    "tags": []
   },
   "source": [
    "## imports"
   ]
  },
  {
   "cell_type": "code",
   "execution_count": 1,
   "id": "95c96570",
   "metadata": {
    "ExecuteTime": {
     "end_time": "2022-09-24T23:31:04.702580Z",
     "start_time": "2022-09-24T23:31:04.686575Z"
    },
    "execution": {
     "iopub.execute_input": "2023-12-10T20:46:57.747661Z",
     "iopub.status.busy": "2023-12-10T20:46:57.747661Z",
     "iopub.status.idle": "2023-12-10T20:46:58.301826Z",
     "shell.execute_reply": "2023-12-10T20:46:58.301826Z"
    },
    "papermill": {
     "duration": 0.558152,
     "end_time": "2023-12-10T20:46:58.302823",
     "exception": false,
     "start_time": "2023-12-10T20:46:57.744671",
     "status": "completed"
    },
    "tags": []
   },
   "outputs": [],
   "source": [
    "\n",
    "\n",
    "import pandas as pd\n",
    "import numpy as np\n",
    "\n",
    "# for na pipeline\n",
    "import warnings\n",
    "import sklearn\n",
    "from sklearn.compose import ColumnTransformer\n",
    "from sklearn.impute import SimpleImputer\n",
    "from sklearn.pipeline import Pipeline\n",
    "from sklearn.preprocessing import StandardScaler, OneHotEncoder\n",
    "from sklearn.base import TransformerMixin  # for custom transformers\n",
    "\n",
    "from joblib import dump, load"
   ]
  },
  {
   "cell_type": "markdown",
   "id": "2c33d684",
   "metadata": {
    "papermill": {
     "duration": 0.00299,
     "end_time": "2023-12-10T20:46:58.308803",
     "exception": false,
     "start_time": "2023-12-10T20:46:58.305813",
     "status": "completed"
    },
    "tags": []
   },
   "source": [
    "## read in data"
   ]
  },
  {
   "cell_type": "code",
   "execution_count": 2,
   "id": "d6ccabda",
   "metadata": {
    "ExecuteTime": {
     "end_time": "2022-09-24T23:31:04.811593Z",
     "start_time": "2022-09-24T23:31:04.709580Z"
    },
    "execution": {
     "iopub.execute_input": "2023-12-10T20:46:58.314783Z",
     "iopub.status.busy": "2023-12-10T20:46:58.314783Z",
     "iopub.status.idle": "2023-12-10T20:46:58.349671Z",
     "shell.execute_reply": "2023-12-10T20:46:58.349671Z"
    },
    "lines_to_next_cell": 1,
    "papermill": {
     "duration": 0.039872,
     "end_time": "2023-12-10T20:46:58.350668",
     "exception": false,
     "start_time": "2023-12-10T20:46:58.310796",
     "status": "completed"
    },
    "tags": []
   },
   "outputs": [],
   "source": [
    "df_XY = pd.read_csv(\"output/c_resulttradewattr.csv\")"
   ]
  },
  {
   "cell_type": "code",
   "execution_count": 3,
   "id": "b447cd2d",
   "metadata": {
    "ExecuteTime": {
     "end_time": "2022-09-24T23:31:04.857575Z",
     "start_time": "2022-09-24T23:31:04.819603Z"
    },
    "execution": {
     "iopub.execute_input": "2023-12-10T20:46:58.357644Z",
     "iopub.status.busy": "2023-12-10T20:46:58.357644Z",
     "iopub.status.idle": "2023-12-10T20:46:58.365618Z",
     "shell.execute_reply": "2023-12-10T20:46:58.365618Z"
    },
    "papermill": {
     "duration": 0.012956,
     "end_time": "2023-12-10T20:46:58.366614",
     "exception": false,
     "start_time": "2023-12-10T20:46:58.353658",
     "status": "completed"
    },
    "tags": []
   },
   "outputs": [],
   "source": [
    "##  get_feature_names function\n",
    "# https://johaupt.github.io/scikit-learn/tutorial/python/data%20processing/ml%20pipeline/model%20interpretation/columnTransformer_feature_names.html\n",
    "def get_feature_names(column_transformer):\n",
    "    \"\"\"Get feature names from all transformers.\n",
    "    Returns\n",
    "    -------\n",
    "    feature_names : list of strings\n",
    "        Names of the features produced by transform.\n",
    "    \"\"\"\n",
    "    # Remove the internal helper function\n",
    "    # check_is_fitted(column_transformer)\n",
    "\n",
    "    # Turn loopkup into function for better handling with pipeline later\n",
    "    def get_names(trans):\n",
    "        # >> Original get_feature_names() method\n",
    "        if trans == \"drop\" or (hasattr(column, \"__len__\") and not len(column)):\n",
    "            return []\n",
    "        if trans == \"passthrough\":\n",
    "            if hasattr(column_transformer, \"_df_columns\"):\n",
    "                if (not isinstance(column, slice)) and all(\n",
    "                    isinstance(col, str) for col in column\n",
    "                ):\n",
    "                    return column\n",
    "                else:\n",
    "                    return column_transformer._df_columns[column]\n",
    "            else:\n",
    "                indices = np.arange(column_transformer._n_features)\n",
    "                return [i for i in indices[column]]\n",
    "        if not hasattr(trans, \"get_feature_names\"):\n",
    "            # >>> Change: Return input column names if no method avaiable\n",
    "            # Turn error into a warning\n",
    "            warnings.warn(\n",
    "                \"Transformer %s (type %s) does not \"\n",
    "                \"provide get_feature_names. \"\n",
    "                \"Will return input column names if available\"\n",
    "                % (str(name), type(trans).__name__)\n",
    "            )\n",
    "            # For transformers without a get_features_names method, use the input\n",
    "            # names to the column transformer\n",
    "            if column is None:\n",
    "                return []\n",
    "            else:\n",
    "                return [f for f in column]\n",
    "\n",
    "        return [f for f in trans.get_feature_names()]\n",
    "\n",
    "    ### Start of processing\n",
    "    feature_names = []\n",
    "\n",
    "    # Allow transformers to be pipelines. Pipeline steps are named differently, so preprocessing is needed\n",
    "    if type(column_transformer) == sklearn.pipeline.Pipeline:\n",
    "        l_transformers = [\n",
    "            (name, trans, None) for step, name, trans in column_transformer._iter()\n",
    "        ]\n",
    "    else:\n",
    "        # For column transformers, follow the original method\n",
    "        l_transformers = column_transformer.transformers_\n",
    "\n",
    "    for name, trans, column in l_transformers:\n",
    "        if type(trans) == sklearn.pipeline.Pipeline:\n",
    "            # Recursive call on pipeline\n",
    "            _names = get_feature_names(trans)\n",
    "            # if pipeline has no transformer that returns names\n",
    "            if len(_names) == 0:\n",
    "                _names = [f for f in column]\n",
    "            feature_names.extend(_names)\n",
    "        else:\n",
    "            feature_names.extend(get_names(trans))\n",
    "\n",
    "    return feature_names"
   ]
  },
  {
   "cell_type": "markdown",
   "id": "5c8a0007",
   "metadata": {
    "papermill": {
     "duration": 0.001993,
     "end_time": "2023-12-10T20:46:58.371597",
     "exception": false,
     "start_time": "2023-12-10T20:46:58.369604",
     "status": "completed"
    },
    "tags": []
   },
   "source": [
    "## custom transformers"
   ]
  },
  {
   "cell_type": "code",
   "execution_count": 4,
   "id": "3331ab60",
   "metadata": {
    "ExecuteTime": {
     "end_time": "2022-09-24T23:31:04.888575Z",
     "start_time": "2022-09-24T23:31:04.864585Z"
    },
    "execution": {
     "iopub.execute_input": "2023-12-10T20:46:58.377578Z",
     "iopub.status.busy": "2023-12-10T20:46:58.377578Z",
     "iopub.status.idle": "2023-12-10T20:46:58.397516Z",
     "shell.execute_reply": "2023-12-10T20:46:58.396519Z"
    },
    "papermill": {
     "duration": 0.022929,
     "end_time": "2023-12-10T20:46:58.397516",
     "exception": false,
     "start_time": "2023-12-10T20:46:58.374587",
     "status": "completed"
    },
    "tags": []
   },
   "outputs": [],
   "source": [
    "class Numerizer(TransformerMixin):\n",
    "    \"convert numbers and % to numbers as well\"\n",
    "    import pandas as pd\n",
    "    import numpy as np\n",
    "\n",
    "    def __init__(self):\n",
    "        pass\n",
    "\n",
    "    def fit(self, X, y=None):\n",
    "        return self\n",
    "\n",
    "    def transform(self, X):\n",
    "        \n",
    "#         Y = X.apply(pd.to_numeric, args=({\"errors\":\"coerce\"})).fillna(np.nan)\n",
    "\n",
    "        Y = X.apply((lambda x: (\n",
    "            pd.to_numeric(x.astype(str).str.replace(r'%', r'e-2'),errors='coerce')\n",
    "            )\n",
    "            )\n",
    "        )\n",
    "\n",
    "        return Y\n",
    "\n",
    "\n",
    "class StringTransformer(TransformerMixin):\n",
    "    import pandas as pd\n",
    "\n",
    "    def __init__(self):\n",
    "        pass\n",
    "\n",
    "    def fit(self, X, y=None):\n",
    "        return self\n",
    "\n",
    "    def transform(self, X):\n",
    "        Y = pd.DataFrame(X).astype(\"string\")\n",
    "        return Y"
   ]
  },
  {
   "cell_type": "markdown",
   "id": "73df66cb",
   "metadata": {
    "papermill": {
     "duration": 0.00299,
     "end_time": "2023-12-10T20:46:58.403496",
     "exception": false,
     "start_time": "2023-12-10T20:46:58.400506",
     "status": "completed"
    },
    "tags": []
   },
   "source": [
    "## Add Weights"
   ]
  },
  {
   "cell_type": "code",
   "execution_count": 5,
   "id": "0c1ba452",
   "metadata": {
    "ExecuteTime": {
     "end_time": "2022-09-18T18:35:14.646541Z",
     "start_time": "2022-09-18T18:35:14.631542Z"
    },
    "execution": {
     "iopub.execute_input": "2023-12-10T20:46:58.409476Z",
     "iopub.status.busy": "2023-12-10T20:46:58.408479Z",
     "iopub.status.idle": "2023-12-10T20:46:58.428413Z",
     "shell.execute_reply": "2023-12-10T20:46:58.427417Z"
    },
    "papermill": {
     "duration": 0.023922,
     "end_time": "2023-12-10T20:46:58.429411",
     "exception": false,
     "start_time": "2023-12-10T20:46:58.405489",
     "status": "completed"
    },
    "scrolled": true,
    "tags": []
   },
   "outputs": [],
   "source": [
    "df_XY['Age'] = df_XY['Open_Year'] - min(df_XY['Open_Year']-1)\n",
    "df_XY['Weight'] = 0.8 # hyperparam for exponential weighting\n",
    "df_XY['Weight'] = df_XY['Weight'].pow(df_XY['Age'],fill_value=0)"
   ]
  },
  {
   "cell_type": "code",
   "execution_count": 6,
   "id": "bd9e0fc9",
   "metadata": {
    "ExecuteTime": {
     "end_time": "2022-09-18T18:35:14.677541Z",
     "start_time": "2022-09-18T18:35:14.651542Z"
    },
    "execution": {
     "iopub.execute_input": "2023-12-10T20:46:58.439376Z",
     "iopub.status.busy": "2023-12-10T20:46:58.439376Z",
     "iopub.status.idle": "2023-12-10T20:46:58.458510Z",
     "shell.execute_reply": "2023-12-10T20:46:58.457512Z"
    },
    "papermill": {
     "duration": 0.02611,
     "end_time": "2023-12-10T20:46:58.460503",
     "exception": false,
     "start_time": "2023-12-10T20:46:58.434393",
     "status": "completed"
    },
    "tags": []
   },
   "outputs": [
    {
     "data": {
      "text/plain": [
       "2    742\n",
       "6    447\n",
       "5    341\n",
       "7    238\n",
       "8    212\n",
       "3    197\n",
       "4    104\n",
       "1     86\n",
       "9     86\n",
       "Name: Age, dtype: int64"
      ]
     },
     "execution_count": 6,
     "metadata": {},
     "output_type": "execute_result"
    }
   ],
   "source": [
    "df_XY['Age'].value_counts()"
   ]
  },
  {
   "cell_type": "code",
   "execution_count": 7,
   "id": "9edf7d76",
   "metadata": {
    "ExecuteTime": {
     "end_time": "2022-09-18T18:35:14.708560Z",
     "start_time": "2022-09-18T18:35:14.681549Z"
    },
    "execution": {
     "iopub.execute_input": "2023-12-10T20:46:58.473460Z",
     "iopub.status.busy": "2023-12-10T20:46:58.472462Z",
     "iopub.status.idle": "2023-12-10T20:46:58.488409Z",
     "shell.execute_reply": "2023-12-10T20:46:58.488409Z"
    },
    "papermill": {
     "duration": 0.022923,
     "end_time": "2023-12-10T20:46:58.489406",
     "exception": false,
     "start_time": "2023-12-10T20:46:58.466483",
     "status": "completed"
    },
    "tags": []
   },
   "outputs": [
    {
     "data": {
      "text/plain": [
       "0.640000    742\n",
       "0.262144    447\n",
       "0.327680    341\n",
       "0.209715    238\n",
       "0.167772    212\n",
       "0.512000    197\n",
       "0.409600    104\n",
       "0.800000     86\n",
       "0.134218     86\n",
       "Name: Weight, dtype: int64"
      ]
     },
     "execution_count": 7,
     "metadata": {},
     "output_type": "execute_result"
    }
   ],
   "source": [
    "df_XY['Weight'].value_counts()"
   ]
  },
  {
   "cell_type": "markdown",
   "id": "5ddbf2ee",
   "metadata": {
    "papermill": {
     "duration": 0.003986,
     "end_time": "2023-12-10T20:46:58.497379",
     "exception": false,
     "start_time": "2023-12-10T20:46:58.493393",
     "status": "completed"
    },
    "tags": []
   },
   "source": [
    "## create na pipeline"
   ]
  },
  {
   "cell_type": "code",
   "execution_count": 8,
   "id": "351d6bd5",
   "metadata": {
    "ExecuteTime": {
     "end_time": "2022-09-18T18:35:14.740543Z",
     "start_time": "2022-09-18T18:35:14.713543Z"
    },
    "execution": {
     "iopub.execute_input": "2023-12-10T20:46:58.504356Z",
     "iopub.status.busy": "2023-12-10T20:46:58.504356Z",
     "iopub.status.idle": "2023-12-10T20:46:58.519306Z",
     "shell.execute_reply": "2023-12-10T20:46:58.519306Z"
    },
    "papermill": {
     "duration": 0.019934,
     "end_time": "2023-12-10T20:46:58.520303",
     "exception": false,
     "start_time": "2023-12-10T20:46:58.500369",
     "status": "completed"
    },
    "scrolled": true,
    "tags": []
   },
   "outputs": [
    {
     "data": {
      "text/plain": [
       "Series([], Name: 0, dtype: object)"
      ]
     },
     "execution_count": 8,
     "metadata": {},
     "output_type": "execute_result"
    }
   ],
   "source": [
    "df_XY.loc[0,df_XY.columns.duplicated()]"
   ]
  },
  {
   "cell_type": "code",
   "execution_count": 9,
   "id": "ce3267dc",
   "metadata": {
    "ExecuteTime": {
     "end_time": "2022-09-18T18:35:14.786543Z",
     "start_time": "2022-09-18T18:35:14.744542Z"
    },
    "execution": {
     "iopub.execute_input": "2023-12-10T20:46:58.527279Z",
     "iopub.status.busy": "2023-12-10T20:46:58.527279Z",
     "iopub.status.idle": "2023-12-10T20:46:58.551199Z",
     "shell.execute_reply": "2023-12-10T20:46:58.550202Z"
    },
    "lines_to_next_cell": 2,
    "papermill": {
     "duration": 0.028904,
     "end_time": "2023-12-10T20:46:58.552196",
     "exception": false,
     "start_time": "2023-12-10T20:46:58.523292",
     "status": "completed"
    },
    "tags": []
   },
   "outputs": [],
   "source": [
    "# remove all nan columns\n",
    "df_XY = df_XY.dropna(axis=1, how='all')"
   ]
  },
  {
   "cell_type": "code",
   "execution_count": 10,
   "id": "da5d1dfc",
   "metadata": {
    "ExecuteTime": {
     "end_time": "2022-09-18T18:35:14.818542Z",
     "start_time": "2022-09-18T18:35:14.795541Z"
    },
    "execution": {
     "iopub.execute_input": "2023-12-10T20:46:58.562162Z",
     "iopub.status.busy": "2023-12-10T20:46:58.562162Z",
     "iopub.status.idle": "2023-12-10T20:46:58.566149Z",
     "shell.execute_reply": "2023-12-10T20:46:58.566149Z"
    },
    "papermill": {
     "duration": 0.00897,
     "end_time": "2023-12-10T20:46:58.567146",
     "exception": false,
     "start_time": "2023-12-10T20:46:58.558176",
     "status": "completed"
    },
    "tags": []
   },
   "outputs": [
    {
     "data": {
      "text/plain": [
       "Index(['Unnamed: 0.2', 'Unnamed: 0.1', 'Unnamed: 0', 'Open_Date', 'Close_Date',\n",
       "       'Symbol', 'Quantity', 'Pnl', 'OpenAct', 'CloseAct', 'Open_Price',\n",
       "       'Close_Price', 'Comm_Tot', 'DATE', 'ACTION', 'QTYCHG', 'PRICE', 'TIME',\n",
       "       'UNNAMED: 6', 'COMMISSION', 'UNNAMED: 8', 'CASH CHG (PNL)', 'COMMENTS',\n",
       "       'PCTRETURN', 'STARTDATE', 'COMPANY NAME (IN ALPHABETICAL ORDER)',\n",
       "       'TICKER', 'STOP', '% TO STOP', 'CURRENT PRICE', '% TO TARGET',\n",
       "       'AT PRICE', 'TARGET', 'EPS1', 'EPS2', 'FYEND', 'DAYSTOFYEND',\n",
       "       'FYEPSNXT', 'GROWTH*0.5TO0.75', 'ROIC (BW ROA ROE)', 'TGT FWD P/E',\n",
       "       'YEARS TO NORMALIZATION', 'LASTUPDATED', 'CATEGORY', 'COMMENTS.1',\n",
       "       'FILENAME', 'DayOfWeek0Mon', 'Date_YahooFinance', 'Close_^GSPC',\n",
       "       'Close_^VIX', 'Close_^GSPC_200MA', 'SP500from200MA', 'Open_Year',\n",
       "       'AAII_0_level_0_Reported_Date', 'AAII_1_level_0_Reported_Bullish',\n",
       "       'AAII_2_level_0_Reported_Neutral', 'AAII_3_level_0_Reported_Bearish',\n",
       "       'AAII_4_level_0_Reported_Total', 'AAII_Bullish_8-week_Mov Avg',\n",
       "       'AAII_Bullish_Bull-Bear_Spread', 'AAII_Bullish_Bullish_Average',\n",
       "       'AAII_Bullish_Average_+St. Dev.', 'AAII_Bullish_Average_- St. Dev.',\n",
       "       'AAII_S&P 500_Weekly_High', 'AAII_S&P 500_Weekly_Low',\n",
       "       'AAII_S&P 500_Weekly_Close', 'AAII_Date', 'Age', 'Weight'],\n",
       "      dtype='object')"
      ]
     },
     "execution_count": 10,
     "metadata": {},
     "output_type": "execute_result"
    }
   ],
   "source": [
    "df_XY.columns"
   ]
  },
  {
   "cell_type": "code",
   "execution_count": 11,
   "id": "54add40d",
   "metadata": {
    "ExecuteTime": {
     "end_time": "2022-09-18T18:35:15.157548Z",
     "start_time": "2022-09-18T18:35:14.821547Z"
    },
    "execution": {
     "iopub.execute_input": "2023-12-10T20:46:58.574122Z",
     "iopub.status.busy": "2023-12-10T20:46:58.574122Z",
     "iopub.status.idle": "2023-12-10T20:46:58.693722Z",
     "shell.execute_reply": "2023-12-10T20:46:58.693722Z"
    },
    "lines_to_next_cell": 2,
    "papermill": {
     "duration": 0.124583,
     "end_time": "2023-12-10T20:46:58.694719",
     "exception": false,
     "start_time": "2023-12-10T20:46:58.570136",
     "status": "completed"
    },
    "tags": []
   },
   "outputs": [
    {
     "name": "stderr",
     "output_type": "stream",
     "text": [
      "C:\\Users\\Stanley\\AppData\\Local\\Temp\\ipykernel_36220\\1557959305.py:3: FutureWarning: The default value of regex will change from True to False in a future version. In addition, single character regular expressions will *not* be treated as literal strings when regex=True.\n",
      "  pd.Series(df_XY.columns)\n",
      "C:\\Users\\Stanley\\AppData\\Local\\Temp\\ipykernel_36220\\3465394604.py:32: UserWarning: Transformer numerizer (type Numerizer) does not provide get_feature_names. Will return input column names if available\n",
      "  warnings.warn(\n",
      "C:\\Users\\Stanley\\AppData\\Local\\Temp\\ipykernel_36220\\3465394604.py:32: UserWarning: Transformer imputer (type SimpleImputer) does not provide get_feature_names. Will return input column names if available\n",
      "  warnings.warn(\n",
      "C:\\Users\\Stanley\\AppData\\Local\\Temp\\ipykernel_36220\\3465394604.py:32: UserWarning: Transformer stringtransformer (type StringTransformer) does not provide get_feature_names. Will return input column names if available\n",
      "  warnings.warn(\n"
     ]
    }
   ],
   "source": [
    "# update columns headers to clean up\n",
    "df_XY.columns = list(\n",
    "    pd.Series(df_XY.columns)\n",
    "    .astype(str)\n",
    "    .str.replace(\" \", \"_\", regex=True)\n",
    "    .str.upper()\n",
    "    .str.strip()\n",
    "    .str.replace(\"/\", \"_\")\n",
    "    .str.replace(\"*\", \"_\")\n",
    ")\n",
    "\n",
    "# avoid duplicates\n",
    "df_XY = df_XY.loc[:,~df_XY.columns.duplicated()]\n",
    "\n",
    "# start with numeric, utilizng explore data before\n",
    "numeric_features = df_XY.convert_dtypes().select_dtypes(include=np.number).columns.tolist()\n",
    "numeric_features = numeric_features + [\n",
    "    \"%_TO_STOP\",\n",
    "    \"%_TO_TARGET\",\n",
    "    \"GROWTH_0.5TO0.75\",\n",
    "    \"ROIC_(BW_ROA_ROE)\",\n",
    "    \"TGT_FWD_P_E\",\n",
    "    \"YEARS_TO_NORMALIZATION\",\n",
    "]\n",
    "numeric_features = list(set(numeric_features))\n",
    "\n",
    "numeric_transformer = Pipeline(\n",
    "    steps=[\n",
    "        (\"numerizer\", Numerizer()),\n",
    "        (\"imputer\", SimpleImputer(missing_values=np.nan,strategy=\"median\")),\n",
    "    ]\n",
    ")\n",
    "categorical_transformer = Pipeline(\n",
    "    steps=[\n",
    "        (\"imputer\", SimpleImputer(strategy=\"constant\", fill_value=\"_NA_\")),\n",
    "        (\"stringtransformer\", StringTransformer()),\n",
    "    ]\n",
    ")\n",
    "\n",
    "# numerical\n",
    "\n",
    "# categorical_features = ['embarked', 'sex', 'pclass']\n",
    "# categorical_transformer = Pipeline(steps=[\n",
    "#     ('imputer', SimpleImputer(strategy='constant', fill_value='missing')),\n",
    "#     ('onehot', OneHotEncoder(handle_unknown='ignore'))])\n",
    "\n",
    "categorical_features = list(set(df_XY.columns).difference(set(numeric_features)))\n",
    "\n",
    "preprocessor_na = ColumnTransformer(\n",
    "    transformers=[\n",
    "        (\"num\", numeric_transformer, numeric_features),\n",
    "        (\"cat\", categorical_transformer, categorical_features),\n",
    "    ],\n",
    "    # remainder = 'passthrough' # not needed anymore\n",
    ")\n",
    "\n",
    "XY_imputed = preprocessor_na.fit_transform(df_XY)\n",
    "\n",
    "columns = get_feature_names(preprocessor_na)\n",
    "\n",
    "df_XY_imputed = pd.DataFrame(XY_imputed, columns=columns).convert_dtypes()"
   ]
  },
  {
   "cell_type": "code",
   "execution_count": 12,
   "id": "fa2f3cbb",
   "metadata": {
    "ExecuteTime": {
     "end_time": "2022-09-18T18:35:15.235550Z",
     "start_time": "2022-09-18T18:35:15.165554Z"
    },
    "execution": {
     "iopub.execute_input": "2023-12-10T20:46:58.701695Z",
     "iopub.status.busy": "2023-12-10T20:46:58.701695Z",
     "iopub.status.idle": "2023-12-10T20:46:58.724624Z",
     "shell.execute_reply": "2023-12-10T20:46:58.724624Z"
    },
    "papermill": {
     "duration": 0.027912,
     "end_time": "2023-12-10T20:46:58.725621",
     "exception": false,
     "start_time": "2023-12-10T20:46:58.697709",
     "status": "completed"
    },
    "tags": []
   },
   "outputs": [
    {
     "data": {
      "text/html": [
       "<div>\n",
       "<style scoped>\n",
       "    .dataframe tbody tr th:only-of-type {\n",
       "        vertical-align: middle;\n",
       "    }\n",
       "\n",
       "    .dataframe tbody tr th {\n",
       "        vertical-align: top;\n",
       "    }\n",
       "\n",
       "    .dataframe thead th {\n",
       "        text-align: right;\n",
       "    }\n",
       "</style>\n",
       "<table border=\"1\" class=\"dataframe\">\n",
       "  <thead>\n",
       "    <tr style=\"text-align: right;\">\n",
       "      <th></th>\n",
       "      <th>OPEN_YEAR</th>\n",
       "      <th>AAII_3_LEVEL_0_REPORTED_BEARISH</th>\n",
       "      <th>OPEN_PRICE</th>\n",
       "      <th>WEIGHT</th>\n",
       "      <th>CLOSE_^VIX</th>\n",
       "      <th>AAII_BULLISH_AVERAGE_+ST._DEV.</th>\n",
       "      <th>UNNAMED:_0.2</th>\n",
       "      <th>UNNAMED:_0.1</th>\n",
       "      <th>ROIC_(BW_ROA_ROE)</th>\n",
       "      <th>PNL</th>\n",
       "      <th>...</th>\n",
       "      <th>DAYSTOFYEND</th>\n",
       "      <th>COMPANY_NAME_(IN_ALPHABETICAL_ORDER)</th>\n",
       "      <th>DATE_YAHOOFINANCE</th>\n",
       "      <th>COMMENTS</th>\n",
       "      <th>AT_PRICE</th>\n",
       "      <th>UNNAMED:_8</th>\n",
       "      <th>EPS1</th>\n",
       "      <th>CURRENT_PRICE</th>\n",
       "      <th>EPS2</th>\n",
       "      <th>AAII_0_LEVEL_0_REPORTED_DATE</th>\n",
       "    </tr>\n",
       "  </thead>\n",
       "  <tbody>\n",
       "    <tr>\n",
       "      <th>0</th>\n",
       "      <td>2015</td>\n",
       "      <td>0.216667</td>\n",
       "      <td>46.97212</td>\n",
       "      <td>0.8</td>\n",
       "      <td>18.23</td>\n",
       "      <td>0.476572</td>\n",
       "      <td>0</td>\n",
       "      <td>0</td>\n",
       "      <td>0.12</td>\n",
       "      <td>-4851.23</td>\n",
       "      <td>...</td>\n",
       "      <td>_NA_</td>\n",
       "      <td>_NA_</td>\n",
       "      <td>2015-06-30</td>\n",
       "      <td>_NA_</td>\n",
       "      <td>_NA_</td>\n",
       "      <td>_NA_</td>\n",
       "      <td>_NA_</td>\n",
       "      <td>_NA_</td>\n",
       "      <td>_NA_</td>\n",
       "      <td>2015-06-25 00:00:00</td>\n",
       "    </tr>\n",
       "    <tr>\n",
       "      <th>1</th>\n",
       "      <td>2015</td>\n",
       "      <td>0.216667</td>\n",
       "      <td>15.21619</td>\n",
       "      <td>0.8</td>\n",
       "      <td>18.23</td>\n",
       "      <td>0.476572</td>\n",
       "      <td>1</td>\n",
       "      <td>62</td>\n",
       "      <td>0.12</td>\n",
       "      <td>-492.0</td>\n",
       "      <td>...</td>\n",
       "      <td>_NA_</td>\n",
       "      <td>_NA_</td>\n",
       "      <td>2015-06-30</td>\n",
       "      <td>_NA_</td>\n",
       "      <td>_NA_</td>\n",
       "      <td>_NA_</td>\n",
       "      <td>_NA_</td>\n",
       "      <td>_NA_</td>\n",
       "      <td>_NA_</td>\n",
       "      <td>2015-06-25 00:00:00</td>\n",
       "    </tr>\n",
       "    <tr>\n",
       "      <th>2</th>\n",
       "      <td>2015</td>\n",
       "      <td>0.216667</td>\n",
       "      <td>14.64198</td>\n",
       "      <td>0.8</td>\n",
       "      <td>18.23</td>\n",
       "      <td>0.476572</td>\n",
       "      <td>2</td>\n",
       "      <td>61</td>\n",
       "      <td>0.12</td>\n",
       "      <td>4667.7</td>\n",
       "      <td>...</td>\n",
       "      <td>_NA_</td>\n",
       "      <td>_NA_</td>\n",
       "      <td>2015-06-30</td>\n",
       "      <td>_NA_</td>\n",
       "      <td>_NA_</td>\n",
       "      <td>_NA_</td>\n",
       "      <td>_NA_</td>\n",
       "      <td>_NA_</td>\n",
       "      <td>_NA_</td>\n",
       "      <td>2015-06-25 00:00:00</td>\n",
       "    </tr>\n",
       "    <tr>\n",
       "      <th>3</th>\n",
       "      <td>2015</td>\n",
       "      <td>0.216667</td>\n",
       "      <td>66.956667</td>\n",
       "      <td>0.8</td>\n",
       "      <td>18.23</td>\n",
       "      <td>0.476572</td>\n",
       "      <td>3</td>\n",
       "      <td>60</td>\n",
       "      <td>0.12</td>\n",
       "      <td>-41.61</td>\n",
       "      <td>...</td>\n",
       "      <td>_NA_</td>\n",
       "      <td>_NA_</td>\n",
       "      <td>2015-06-30</td>\n",
       "      <td>_NA_</td>\n",
       "      <td>_NA_</td>\n",
       "      <td>_NA_</td>\n",
       "      <td>_NA_</td>\n",
       "      <td>_NA_</td>\n",
       "      <td>_NA_</td>\n",
       "      <td>2015-06-25 00:00:00</td>\n",
       "    </tr>\n",
       "    <tr>\n",
       "      <th>4</th>\n",
       "      <td>2015</td>\n",
       "      <td>0.216667</td>\n",
       "      <td>3.184507</td>\n",
       "      <td>0.8</td>\n",
       "      <td>18.23</td>\n",
       "      <td>0.476572</td>\n",
       "      <td>4</td>\n",
       "      <td>59</td>\n",
       "      <td>0.12</td>\n",
       "      <td>6677.8</td>\n",
       "      <td>...</td>\n",
       "      <td>_NA_</td>\n",
       "      <td>_NA_</td>\n",
       "      <td>2015-06-30</td>\n",
       "      <td>_NA_</td>\n",
       "      <td>_NA_</td>\n",
       "      <td>_NA_</td>\n",
       "      <td>_NA_</td>\n",
       "      <td>_NA_</td>\n",
       "      <td>_NA_</td>\n",
       "      <td>2015-06-25 00:00:00</td>\n",
       "    </tr>\n",
       "  </tbody>\n",
       "</table>\n",
       "<p>5 rows × 69 columns</p>\n",
       "</div>"
      ],
      "text/plain": [
       "   OPEN_YEAR  AAII_3_LEVEL_0_REPORTED_BEARISH  OPEN_PRICE  WEIGHT  CLOSE_^VIX  \\\n",
       "0       2015                         0.216667    46.97212     0.8       18.23   \n",
       "1       2015                         0.216667    15.21619     0.8       18.23   \n",
       "2       2015                         0.216667    14.64198     0.8       18.23   \n",
       "3       2015                         0.216667   66.956667     0.8       18.23   \n",
       "4       2015                         0.216667    3.184507     0.8       18.23   \n",
       "\n",
       "   AAII_BULLISH_AVERAGE_+ST._DEV.  UNNAMED:_0.2  UNNAMED:_0.1  \\\n",
       "0                        0.476572             0             0   \n",
       "1                        0.476572             1            62   \n",
       "2                        0.476572             2            61   \n",
       "3                        0.476572             3            60   \n",
       "4                        0.476572             4            59   \n",
       "\n",
       "   ROIC_(BW_ROA_ROE)      PNL  ...  DAYSTOFYEND  \\\n",
       "0               0.12 -4851.23  ...         _NA_   \n",
       "1               0.12   -492.0  ...         _NA_   \n",
       "2               0.12   4667.7  ...         _NA_   \n",
       "3               0.12   -41.61  ...         _NA_   \n",
       "4               0.12   6677.8  ...         _NA_   \n",
       "\n",
       "   COMPANY_NAME_(IN_ALPHABETICAL_ORDER)  DATE_YAHOOFINANCE  COMMENTS  \\\n",
       "0                                  _NA_         2015-06-30      _NA_   \n",
       "1                                  _NA_         2015-06-30      _NA_   \n",
       "2                                  _NA_         2015-06-30      _NA_   \n",
       "3                                  _NA_         2015-06-30      _NA_   \n",
       "4                                  _NA_         2015-06-30      _NA_   \n",
       "\n",
       "   AT_PRICE  UNNAMED:_8  EPS1  CURRENT_PRICE  EPS2  \\\n",
       "0      _NA_        _NA_  _NA_           _NA_  _NA_   \n",
       "1      _NA_        _NA_  _NA_           _NA_  _NA_   \n",
       "2      _NA_        _NA_  _NA_           _NA_  _NA_   \n",
       "3      _NA_        _NA_  _NA_           _NA_  _NA_   \n",
       "4      _NA_        _NA_  _NA_           _NA_  _NA_   \n",
       "\n",
       "   AAII_0_LEVEL_0_REPORTED_DATE  \n",
       "0           2015-06-25 00:00:00  \n",
       "1           2015-06-25 00:00:00  \n",
       "2           2015-06-25 00:00:00  \n",
       "3           2015-06-25 00:00:00  \n",
       "4           2015-06-25 00:00:00  \n",
       "\n",
       "[5 rows x 69 columns]"
      ]
     },
     "execution_count": 12,
     "metadata": {},
     "output_type": "execute_result"
    }
   ],
   "source": [
    "df_XY_imputed.head()"
   ]
  },
  {
   "cell_type": "code",
   "execution_count": 13,
   "id": "6560baf9",
   "metadata": {
    "ExecuteTime": {
     "end_time": "2022-09-18T18:35:15.251545Z",
     "start_time": "2022-09-18T18:35:15.237540Z"
    },
    "execution": {
     "iopub.execute_input": "2023-12-10T20:46:58.733594Z",
     "iopub.status.busy": "2023-12-10T20:46:58.733594Z",
     "iopub.status.idle": "2023-12-10T20:46:58.740570Z",
     "shell.execute_reply": "2023-12-10T20:46:58.740570Z"
    },
    "papermill": {
     "duration": 0.01196,
     "end_time": "2023-12-10T20:46:58.741567",
     "exception": false,
     "start_time": "2023-12-10T20:46:58.729607",
     "status": "completed"
    },
    "tags": []
   },
   "outputs": [
    {
     "data": {
      "text/plain": [
       "Index(['OPEN_YEAR', 'AAII_3_LEVEL_0_REPORTED_BEARISH', 'OPEN_PRICE', 'WEIGHT',\n",
       "       'CLOSE_^VIX', 'AAII_BULLISH_AVERAGE_+ST._DEV.', 'UNNAMED:_0.2',\n",
       "       'UNNAMED:_0.1', 'ROIC_(BW_ROA_ROE)', 'PNL', 'UNNAMED:_0', 'QUANTITY',\n",
       "       'SP500FROM200MA', 'AAII_BULLISH_BULL-BEAR_SPREAD', '%_TO_TARGET',\n",
       "       'AAII_BULLISH_AVERAGE_-_ST._DEV.', 'YEARS_TO_NORMALIZATION',\n",
       "       'AAII_S&P_500_WEEKLY_HIGH', 'CLOSE_^GSPC', 'TGT_FWD_P_E', '%_TO_STOP',\n",
       "       'PRICE', 'GROWTH_0.5TO0.75', 'AGE', 'DAYOFWEEK0MON',\n",
       "       'AAII_S&P_500_WEEKLY_CLOSE', 'AAII_BULLISH_BULLISH_AVERAGE',\n",
       "       'AAII_2_LEVEL_0_REPORTED_NEUTRAL', 'AAII_4_LEVEL_0_REPORTED_TOTAL',\n",
       "       'AAII_S&P_500_WEEKLY_LOW', 'AAII_BULLISH_8-WEEK_MOV_AVG',\n",
       "       'AAII_1_LEVEL_0_REPORTED_BULLISH', 'CLOSE_^GSPC_200MA', 'COMMISSION',\n",
       "       'COMM_TOT', 'CLOSE_PRICE', 'QTYCHG', 'COMMENTS.1', 'FYEND', 'STARTDATE',\n",
       "       'TARGET', 'OPEN_DATE', 'PCTRETURN', 'CASH_CHG_(PNL)', 'FYEPSNXT',\n",
       "       'CATEGORY', 'FILENAME', 'TICKER', 'LASTUPDATED', 'CLOSEACT',\n",
       "       'CLOSE_DATE', 'ACTION', 'AAII_DATE', 'TIME', 'OPENACT', 'SYMBOL',\n",
       "       'UNNAMED:_6', 'DATE', 'STOP', 'DAYSTOFYEND',\n",
       "       'COMPANY_NAME_(IN_ALPHABETICAL_ORDER)', 'DATE_YAHOOFINANCE', 'COMMENTS',\n",
       "       'AT_PRICE', 'UNNAMED:_8', 'EPS1', 'CURRENT_PRICE', 'EPS2',\n",
       "       'AAII_0_LEVEL_0_REPORTED_DATE'],\n",
       "      dtype='object')"
      ]
     },
     "execution_count": 13,
     "metadata": {},
     "output_type": "execute_result"
    }
   ],
   "source": [
    "df_XY_imputed.columns"
   ]
  },
  {
   "cell_type": "code",
   "execution_count": 14,
   "id": "ef82b6dc",
   "metadata": {
    "ExecuteTime": {
     "end_time": "2022-09-18T18:35:15.266552Z",
     "start_time": "2022-09-18T18:35:15.256541Z"
    },
    "execution": {
     "iopub.execute_input": "2023-12-10T20:46:58.749541Z",
     "iopub.status.busy": "2023-12-10T20:46:58.748544Z",
     "iopub.status.idle": "2023-12-10T20:46:58.756517Z",
     "shell.execute_reply": "2023-12-10T20:46:58.756517Z"
    },
    "papermill": {
     "duration": 0.012957,
     "end_time": "2023-12-10T20:46:58.757514",
     "exception": false,
     "start_time": "2023-12-10T20:46:58.744557",
     "status": "completed"
    },
    "tags": []
   },
   "outputs": [],
   "source": [
    "# df_XY_imputed[\"%_TO_STOP\"].hist()"
   ]
  },
  {
   "cell_type": "code",
   "execution_count": 15,
   "id": "bfa62f20",
   "metadata": {
    "ExecuteTime": {
     "end_time": "2022-09-18T18:35:15.282547Z",
     "start_time": "2022-09-18T18:35:15.272544Z"
    },
    "execution": {
     "iopub.execute_input": "2023-12-10T20:46:58.764491Z",
     "iopub.status.busy": "2023-12-10T20:46:58.764491Z",
     "iopub.status.idle": "2023-12-10T20:46:58.771737Z",
     "shell.execute_reply": "2023-12-10T20:46:58.771737Z"
    },
    "papermill": {
     "duration": 0.012231,
     "end_time": "2023-12-10T20:46:58.772735",
     "exception": false,
     "start_time": "2023-12-10T20:46:58.760504",
     "status": "completed"
    },
    "tags": []
   },
   "outputs": [],
   "source": [
    "# create target\n",
    "\n",
    "df_XY_imputed[\"PCT_RET_FINAL\"] = df_XY_imputed[\"PNL\"] / (\n",
    "    df_XY_imputed[\"OPEN_PRICE\"] * df_XY_imputed[\"QUANTITY\"]\n",
    ")"
   ]
  },
  {
   "cell_type": "code",
   "execution_count": 16,
   "id": "6f75aa8b",
   "metadata": {
    "ExecuteTime": {
     "end_time": "2022-09-18T18:35:15.298573Z",
     "start_time": "2022-09-18T18:35:15.288545Z"
    },
    "execution": {
     "iopub.execute_input": "2023-12-10T20:46:58.779711Z",
     "iopub.status.busy": "2023-12-10T20:46:58.779711Z",
     "iopub.status.idle": "2023-12-10T20:46:58.787684Z",
     "shell.execute_reply": "2023-12-10T20:46:58.787684Z"
    },
    "lines_to_next_cell": 2,
    "papermill": {
     "duration": 0.012957,
     "end_time": "2023-12-10T20:46:58.788681",
     "exception": false,
     "start_time": "2023-12-10T20:46:58.775724",
     "status": "completed"
    },
    "tags": []
   },
   "outputs": [],
   "source": [
    "# TODO create moving avg"
   ]
  },
  {
   "cell_type": "code",
   "execution_count": 17,
   "id": "8179bfa2",
   "metadata": {
    "ExecuteTime": {
     "end_time": "2022-09-18T18:35:15.314540Z",
     "start_time": "2022-09-18T18:35:15.302542Z"
    },
    "execution": {
     "iopub.execute_input": "2023-12-10T20:46:58.795658Z",
     "iopub.status.busy": "2023-12-10T20:46:58.794661Z",
     "iopub.status.idle": "2023-12-10T20:46:58.803631Z",
     "shell.execute_reply": "2023-12-10T20:46:58.803631Z"
    },
    "papermill": {
     "duration": 0.012957,
     "end_time": "2023-12-10T20:46:58.804628",
     "exception": false,
     "start_time": "2023-12-10T20:46:58.791671",
     "status": "completed"
    },
    "tags": []
   },
   "outputs": [
    {
     "name": "stdout",
     "output_type": "stream",
     "text": [
      "Index(['OPEN_YEAR', 'AAII_3_LEVEL_0_REPORTED_BEARISH', 'OPEN_PRICE', 'WEIGHT',\n",
      "       'CLOSE_^VIX', 'AAII_BULLISH_AVERAGE_+ST._DEV.', 'UNNAMED:_0.2',\n",
      "       'UNNAMED:_0.1', 'ROIC_(BW_ROA_ROE)', 'PNL', 'UNNAMED:_0', 'QUANTITY',\n",
      "       'SP500FROM200MA', 'AAII_BULLISH_BULL-BEAR_SPREAD', '%_TO_TARGET',\n",
      "       'AAII_BULLISH_AVERAGE_-_ST._DEV.', 'YEARS_TO_NORMALIZATION',\n",
      "       'AAII_S&P_500_WEEKLY_HIGH', 'CLOSE_^GSPC', 'TGT_FWD_P_E', '%_TO_STOP',\n",
      "       'PRICE', 'GROWTH_0.5TO0.75', 'AGE', 'DAYOFWEEK0MON',\n",
      "       'AAII_S&P_500_WEEKLY_CLOSE', 'AAII_BULLISH_BULLISH_AVERAGE',\n",
      "       'AAII_2_LEVEL_0_REPORTED_NEUTRAL', 'AAII_4_LEVEL_0_REPORTED_TOTAL',\n",
      "       'AAII_S&P_500_WEEKLY_LOW', 'AAII_BULLISH_8-WEEK_MOV_AVG',\n",
      "       'AAII_1_LEVEL_0_REPORTED_BULLISH', 'CLOSE_^GSPC_200MA', 'COMMISSION',\n",
      "       'COMM_TOT', 'CLOSE_PRICE', 'QTYCHG', 'COMMENTS.1', 'FYEND', 'STARTDATE',\n",
      "       'TARGET', 'OPEN_DATE', 'PCTRETURN', 'CASH_CHG_(PNL)', 'FYEPSNXT',\n",
      "       'CATEGORY', 'FILENAME', 'TICKER', 'LASTUPDATED', 'CLOSEACT',\n",
      "       'CLOSE_DATE', 'ACTION', 'AAII_DATE', 'TIME', 'OPENACT', 'SYMBOL',\n",
      "       'UNNAMED:_6', 'DATE', 'STOP', 'DAYSTOFYEND',\n",
      "       'COMPANY_NAME_(IN_ALPHABETICAL_ORDER)', 'DATE_YAHOOFINANCE', 'COMMENTS',\n",
      "       'AT_PRICE', 'UNNAMED:_8', 'EPS1', 'CURRENT_PRICE', 'EPS2',\n",
      "       'AAII_0_LEVEL_0_REPORTED_DATE', 'PCT_RET_FINAL'],\n",
      "      dtype='object')\n"
     ]
    }
   ],
   "source": [
    "# Final columns\n",
    "\n",
    "print(df_XY_imputed.columns)"
   ]
  },
  {
   "cell_type": "code",
   "execution_count": 18,
   "id": "925b9084",
   "metadata": {
    "ExecuteTime": {
     "end_time": "2022-09-18T18:35:15.344542Z",
     "start_time": "2022-09-18T18:35:15.317541Z"
    },
    "execution": {
     "iopub.execute_input": "2023-12-10T20:46:58.811605Z",
     "iopub.status.busy": "2023-12-10T20:46:58.811605Z",
     "iopub.status.idle": "2023-12-10T20:46:58.818581Z",
     "shell.execute_reply": "2023-12-10T20:46:58.818581Z"
    },
    "papermill": {
     "duration": 0.01196,
     "end_time": "2023-12-10T20:46:58.819578",
     "exception": false,
     "start_time": "2023-12-10T20:46:58.807618",
     "status": "completed"
    },
    "tags": []
   },
   "outputs": [],
   "source": [
    "## check no na's left in numerical\n",
    "\n",
    "try:\n",
    "    assert (\n",
    "        df_XY_imputed[numeric_features].isna().sum().sum() == 0\n",
    "    ), \"NAs remain in numerical\"\n",
    "except:\n",
    "    print(\"NAs remain in numerical\")"
   ]
  },
  {
   "cell_type": "markdown",
   "id": "ad761e04",
   "metadata": {
    "papermill": {
     "duration": 0.00299,
     "end_time": "2023-12-10T20:46:58.825558",
     "exception": false,
     "start_time": "2023-12-10T20:46:58.822568",
     "status": "completed"
    },
    "tags": []
   },
   "source": [
    "## API Spec"
   ]
  },
  {
   "cell_type": "code",
   "execution_count": 19,
   "id": "d620b42a",
   "metadata": {
    "ExecuteTime": {
     "end_time": "2022-09-18T18:35:15.721541Z",
     "start_time": "2022-09-18T18:35:15.349550Z"
    },
    "execution": {
     "iopub.execute_input": "2023-12-10T20:46:58.832534Z",
     "iopub.status.busy": "2023-12-10T20:46:58.832534Z",
     "iopub.status.idle": "2023-12-10T20:46:58.850474Z",
     "shell.execute_reply": "2023-12-10T20:46:58.850474Z"
    },
    "lines_to_next_cell": 2,
    "papermill": {
     "duration": 0.022923,
     "end_time": "2023-12-10T20:46:58.851471",
     "exception": false,
     "start_time": "2023-12-10T20:46:58.828548",
     "status": "completed"
    },
    "tags": []
   },
   "outputs": [],
   "source": [
    "## import api spec\n",
    "\n",
    "import yaml\n",
    "from yaml import Loader\n",
    "\n",
    "with open(\"data-tests/_apispecs.yaml\") as f:\n",
    "    api_specs = yaml.load(f, Loader=Loader)"
   ]
  },
  {
   "cell_type": "code",
   "execution_count": 20,
   "id": "d6570cbd",
   "metadata": {
    "ExecuteTime": {
     "end_time": "2022-09-18T18:35:20.374129Z",
     "start_time": "2022-09-18T18:35:15.726549Z"
    },
    "execution": {
     "iopub.execute_input": "2023-12-10T20:46:58.859444Z",
     "iopub.status.busy": "2023-12-10T20:46:58.859444Z",
     "iopub.status.idle": "2023-12-10T20:47:00.412414Z",
     "shell.execute_reply": "2023-12-10T20:47:00.412414Z"
    },
    "papermill": {
     "duration": 1.557955,
     "end_time": "2023-12-10T20:47:00.413412",
     "exception": false,
     "start_time": "2023-12-10T20:46:58.855457",
     "status": "completed"
    },
    "tags": []
   },
   "outputs": [
    {
     "name": "stdout",
     "output_type": "stream",
     "text": [
      "validation completed\n"
     ]
    }
   ],
   "source": [
    "## validate based on api spec\n",
    "\n",
    "from openapi_schema_validator import validate\n",
    "import json\n",
    "\n",
    "schema = api_specs[\"components\"][\"schemas\"][\"Tradelog\"]\n",
    "\n",
    "json_str = df_XY_imputed.to_json(orient=\"records\")\n",
    "json_test = json.loads(json_str)\n",
    "\n",
    "i = 0\n",
    "for row in json_test:\n",
    "    try:\n",
    "        validate(row, schema)\n",
    "    except:\n",
    "        print(f\"failed on {i}th row \")\n",
    "        break\n",
    "    i = i + 1\n",
    "\n",
    "print(\"validation completed\")"
   ]
  },
  {
   "cell_type": "code",
   "execution_count": 21,
   "id": "72f92a7e",
   "metadata": {
    "ExecuteTime": {
     "end_time": "2022-09-18T18:35:20.610127Z",
     "start_time": "2022-09-18T18:35:20.378129Z"
    },
    "execution": {
     "iopub.execute_input": "2023-12-10T20:47:00.420722Z",
     "iopub.status.busy": "2023-12-10T20:47:00.420722Z",
     "iopub.status.idle": "2023-12-10T20:47:00.505470Z",
     "shell.execute_reply": "2023-12-10T20:47:00.505470Z"
    },
    "lines_to_next_cell": 2,
    "papermill": {
     "duration": 0.090066,
     "end_time": "2023-12-10T20:47:00.506467",
     "exception": false,
     "start_time": "2023-12-10T20:47:00.416401",
     "status": "completed"
    },
    "tags": []
   },
   "outputs": [
    {
     "data": {
      "text/plain": [
       "0"
      ]
     },
     "execution_count": 21,
     "metadata": {},
     "output_type": "execute_result"
    }
   ],
   "source": [
    "## save api spec to html\n",
    "\n",
    "import os\n",
    "\n",
    "# feed yaml file to swagger python, then create api.html\n",
    "os.system(\n",
    "    \"python swagger_yaml_to_html.py < data-tests/_apispecs.yaml > templates/api.html\"\n",
    ")"
   ]
  },
  {
   "cell_type": "markdown",
   "id": "d6574f30",
   "metadata": {
    "papermill": {
     "duration": 0.00299,
     "end_time": "2023-12-10T20:47:00.513443",
     "exception": false,
     "start_time": "2023-12-10T20:47:00.510453",
     "status": "completed"
    },
    "tags": []
   },
   "source": [
    "## Resort & Save Results"
   ]
  },
  {
   "cell_type": "code",
   "execution_count": 22,
   "id": "d722f77c",
   "metadata": {
    "ExecuteTime": {
     "end_time": "2022-09-18T18:35:20.626127Z",
     "start_time": "2022-09-18T18:35:20.613129Z"
    },
    "execution": {
     "iopub.execute_input": "2023-12-10T20:47:00.520420Z",
     "iopub.status.busy": "2023-12-10T20:47:00.520420Z",
     "iopub.status.idle": "2023-12-10T20:47:00.538365Z",
     "shell.execute_reply": "2023-12-10T20:47:00.537368Z"
    },
    "papermill": {
     "duration": 0.021932,
     "end_time": "2023-12-10T20:47:00.538365",
     "exception": false,
     "start_time": "2023-12-10T20:47:00.516433",
     "status": "completed"
    },
    "tags": []
   },
   "outputs": [],
   "source": [
    "df_XY_imputed = df_XY_imputed.reindex(sorted(df_XY_imputed.columns), axis=1)"
   ]
  },
  {
   "cell_type": "code",
   "execution_count": 23,
   "id": "b01a7cf1",
   "metadata": {
    "ExecuteTime": {
     "end_time": "2022-09-18T18:35:20.766136Z",
     "start_time": "2022-09-18T18:35:20.629130Z"
    },
    "execution": {
     "iopub.execute_input": "2023-12-10T20:47:00.546339Z",
     "iopub.status.busy": "2023-12-10T20:47:00.546339Z",
     "iopub.status.idle": "2023-12-10T20:47:00.616144Z",
     "shell.execute_reply": "2023-12-10T20:47:00.616144Z"
    },
    "lines_to_next_cell": 2,
    "papermill": {
     "duration": 0.074789,
     "end_time": "2023-12-10T20:47:00.617141",
     "exception": false,
     "start_time": "2023-12-10T20:47:00.542352",
     "status": "completed"
    },
    "tags": []
   },
   "outputs": [],
   "source": [
    "## save results\n",
    "\n",
    "df_XY_imputed.to_csv(\"output/e_resultcleaned.csv\")"
   ]
  },
  {
   "cell_type": "code",
   "execution_count": 24,
   "id": "c5d949fc",
   "metadata": {
    "ExecuteTime": {
     "end_time": "2022-09-18T18:35:20.781128Z",
     "start_time": "2022-09-18T18:35:20.768128Z"
    },
    "execution": {
     "iopub.execute_input": "2023-12-10T20:47:00.625114Z",
     "iopub.status.busy": "2023-12-10T20:47:00.625114Z",
     "iopub.status.idle": "2023-12-10T20:47:00.631094Z",
     "shell.execute_reply": "2023-12-10T20:47:00.631094Z"
    },
    "papermill": {
     "duration": 0.010963,
     "end_time": "2023-12-10T20:47:00.632090",
     "exception": false,
     "start_time": "2023-12-10T20:47:00.621127",
     "status": "completed"
    },
    "tags": []
   },
   "outputs": [
    {
     "data": {
      "text/plain": [
       "['output/e_preprocessor_na.joblib']"
      ]
     },
     "execution_count": 24,
     "metadata": {},
     "output_type": "execute_result"
    }
   ],
   "source": [
    "## save imputer\n",
    "\n",
    "dump(preprocessor_na, \"output/e_preprocessor_na.joblib\")"
   ]
  },
  {
   "cell_type": "code",
   "execution_count": null,
   "id": "78a95beb",
   "metadata": {
    "papermill": {
     "duration": 0.00299,
     "end_time": "2023-12-10T20:47:00.639067",
     "exception": false,
     "start_time": "2023-12-10T20:47:00.636077",
     "status": "completed"
    },
    "tags": []
   },
   "outputs": [],
   "source": []
  }
 ],
 "metadata": {
  "jupytext": {
   "cell_metadata_filter": "-all",
   "formats": "auto:percent,ipynb",
   "notebook_metadata_filter": "-all"
  },
  "kernelspec": {
   "display_name": "p1analyzetrades",
   "language": "python",
   "name": "p1analyzetrades"
  },
  "language_info": {
   "codemirror_mode": {
    "name": "ipython",
    "version": 3
   },
   "file_extension": ".py",
   "mimetype": "text/x-python",
   "name": "python",
   "nbconvert_exporter": "python",
   "pygments_lexer": "ipython3",
   "version": "3.9.13"
  },
  "papermill": {
   "default_parameters": {},
   "duration": 3.949579,
   "end_time": "2023-12-10T20:47:00.885609",
   "environment_variables": {},
   "exception": null,
   "input_path": "P1-AnalyzeTrades_e_feateng.ipynb",
   "output_path": "P1-AnalyzeTrades_e_feateng_output.ipynb",
   "parameters": {},
   "start_time": "2023-12-10T20:46:56.936030",
   "version": "2.5.0"
  },
  "toc": {
   "base_numbering": 1,
   "nav_menu": {},
   "number_sections": true,
   "sideBar": true,
   "skip_h1_title": false,
   "title_cell": "Table of Contents",
   "title_sidebar": "Contents",
   "toc_cell": false,
   "toc_position": {
    "height": "calc(100% - 180px)",
    "left": "10px",
    "top": "150px",
    "width": "384px"
   },
   "toc_section_display": true,
   "toc_window_display": true
  },
  "varInspector": {
   "cols": {
    "lenName": 16,
    "lenType": 16,
    "lenVar": 40
   },
   "kernels_config": {
    "python": {
     "delete_cmd_postfix": "",
     "delete_cmd_prefix": "del ",
     "library": "var_list.py",
     "varRefreshCmd": "print(var_dic_list())"
    },
    "r": {
     "delete_cmd_postfix": ") ",
     "delete_cmd_prefix": "rm(",
     "library": "var_list.r",
     "varRefreshCmd": "cat(var_dic_list()) "
    }
   },
   "types_to_exclude": [
    "module",
    "function",
    "builtin_function_or_method",
    "instance",
    "_Feature"
   ],
   "window_display": true
  }
 },
 "nbformat": 4,
 "nbformat_minor": 5
}