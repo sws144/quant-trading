{
 "cells": [
  {
   "cell_type": "markdown",
   "id": "f95cfd49",
   "metadata": {},
   "source": [
    "# E: Build & Tune Models"
   ]
  },
  {
   "cell_type": "markdown",
   "id": "5e1f707b",
   "metadata": {},
   "source": [
    "## INPUTS"
   ]
  },
  {
   "cell_type": "code",
   "execution_count": 33,
   "id": "9cf92d68",
   "metadata": {
    "ExecuteTime": {
     "end_time": "2022-07-24T01:12:15.600608Z",
     "start_time": "2022-07-24T01:12:15.581616Z"
    }
   },
   "outputs": [],
   "source": [
    "retune = True  # hyperparameter tuning"
   ]
  },
  {
   "cell_type": "markdown",
   "id": "c82da79a",
   "metadata": {},
   "source": [
    "## imports"
   ]
  },
  {
   "cell_type": "code",
   "execution_count": 34,
   "id": "88f86958",
   "metadata": {
    "ExecuteTime": {
     "end_time": "2022-07-24T01:12:15.616605Z",
     "start_time": "2022-07-24T01:12:15.604605Z"
    }
   },
   "outputs": [],
   "source": [
    "#for formatting\n",
    "import jupyter_black\n",
    "\n",
    "jupyter_black.load(\n",
    "    lab=False,\n",
    ")"
   ]
  },
  {
   "cell_type": "code",
   "execution_count": 35,
   "id": "8628c2f2",
   "metadata": {
    "ExecuteTime": {
     "end_time": "2022-07-24T01:12:15.648604Z",
     "start_time": "2022-07-24T01:12:15.619606Z"
    },
    "lines_to_next_cell": 2
   },
   "outputs": [],
   "source": [
    "import dill\n",
    "import importlib  # for importing other packages\n",
    "import copy\n",
    "import os\n",
    "import pandas as pd\n",
    "import numpy as np\n",
    "from patsy import dmatrices\n",
    "\n",
    "import mlflow  # model tracking\n",
    "\n",
    "from sklearn.model_selection import train_test_split\n",
    "\n",
    "from sklearn.compose import ColumnTransformer\n",
    "from sklearn.preprocessing import FunctionTransformer, OrdinalEncoder\n",
    "from sklearn.pipeline import Pipeline\n",
    "\n",
    "from sklearn.ensemble import GradientBoostingRegressor\n",
    "from sklearn.ensemble import HistGradientBoostingRegressor\n",
    "from sklearn.model_selection import cross_val_score, StratifiedKFold\n",
    "from sklearn.ensemble import RandomForestClassifier\n",
    "from sklearn.metrics import make_scorer\n",
    "\n",
    "from hyperopt import hp, tpe\n",
    "from hyperopt.fmin import fmin\n",
    "\n",
    "# H2O , needs java installed & on path / environment variable (java --version to test)\n",
    "import h2o\n",
    "from h2o.estimators import *\n",
    "from h2o.grid import *\n",
    "from mlflow.models.signature import infer_signature\n",
    "\n",
    "# evaluation\n",
    "from sklearn import tree\n",
    "import shap  # package used to calculate Shap values\n",
    "import matplotlib.pyplot as plt"
   ]
  },
  {
   "cell_type": "markdown",
   "id": "55fb8811",
   "metadata": {},
   "source": [
    "## Prep work"
   ]
  },
  {
   "cell_type": "code",
   "execution_count": 36,
   "id": "a0f91c95",
   "metadata": {
    "ExecuteTime": {
     "end_time": "2022-07-24T01:12:15.790602Z",
     "start_time": "2022-07-24T01:12:15.653604Z"
    }
   },
   "outputs": [],
   "source": [
    "# start logging\n",
    "\n",
    "# set location for mlruns\n",
    "mlflow.set_tracking_uri(\"file:D:/Stuff/OneDrive/MLflow\")\n",
    "\n",
    "# set experiment\n",
    "try:\n",
    "    mlflow.set_experiment(\"P1-AnalyzeTrades_f_core\")\n",
    "except:\n",
    "    mlflow.create_experiment(\"P1-AnalyzeTrades_f_core\")\n",
    "\n",
    "mlflow.sklearn.autolog()"
   ]
  },
  {
   "cell_type": "code",
   "execution_count": 37,
   "id": "92fbf85b",
   "metadata": {
    "ExecuteTime": {
     "end_time": "2022-07-24T01:12:15.853602Z",
     "start_time": "2022-07-24T01:12:15.793605Z"
    }
   },
   "outputs": [],
   "source": [
    "## read in data\n",
    "\n",
    "df_XY = pd.read_csv(\"output/e_resultcleaned.csv\")"
   ]
  },
  {
   "cell_type": "code",
   "execution_count": 38,
   "id": "e0ad7819",
   "metadata": {
    "ExecuteTime": {
     "end_time": "2022-07-24T01:12:15.869615Z",
     "start_time": "2022-07-24T01:12:15.856603Z"
    }
   },
   "outputs": [],
   "source": [
    "## clean column names deprecated\n",
    "\n",
    "# cols = list(df_XY.columns)\n",
    "# new_cols = []\n",
    "\n",
    "# for c in cols:\n",
    "#     new_cols.append(\n",
    "#         \"\".join(\n",
    "#             e.replace(\".\", \"pt\")\n",
    "#             for e in c\n",
    "#             if (e.isalnum()) | (e == \"_\") | (e == \"%\") | (e == \".\")\n",
    "#         )\n",
    "#     )\n",
    "\n",
    "# print(f\"cols {new_cols}\")\n",
    "\n",
    "# df_XY.columns = new_cols~~\n",
    "\n",
    "# df_XY.head()"
   ]
  },
  {
   "cell_type": "markdown",
   "id": "915adc67",
   "metadata": {},
   "source": [
    "## variable selection"
   ]
  },
  {
   "cell_type": "code",
   "execution_count": 39,
   "id": "52327226",
   "metadata": {
    "ExecuteTime": {
     "end_time": "2022-07-24T01:12:15.885603Z",
     "start_time": "2022-07-24T01:12:15.872605Z"
    }
   },
   "outputs": [
    {
     "name": "stdout",
     "output_type": "stream",
     "text": [
      "Index(['Unnamed: 0', '%_TO_STOP', '%_TO_TARGET', 'AAII_SENT_BEARISH',\n",
      "       'AAII_SENT_BULLBEARSPREAD', 'AAII_SENT_BULLISH',\n",
      "       'AAII_SENT_BULLISH8WEEKMOVAVG', 'AAII_SENT_BULLISHAVERAGE',\n",
      "       'AAII_SENT_BULLISHAVERAGE+STDEV', 'AAII_SENT_BULLISHAVERAGESTDEV',\n",
      "       'AAII_SENT_DATE', 'AAII_SENT_NEUTRAL', 'AAII_SENT_S&P500WEEKLYCLOSE',\n",
      "       'AAII_SENT_S&P500WEEKLYHIGH', 'AAII_SENT_S&P500WEEKLYLOW',\n",
      "       'AAII_SENT_TOTAL', 'ACTION', 'AGE', 'AT_PRICE', 'CASH_CHG_(PNL)',\n",
      "       'CATEGORY', 'CLOSEACT', 'CLOSE_DATE', 'CLOSE_PRICE', 'CLOSE_^GSPC',\n",
      "       'CLOSE_^VIX', 'COMMENTS', 'COMMENTS.1', 'COMMISSION', 'COMM_TOT',\n",
      "       'COMPANY_NAME_(IN_ALPHABETICAL_ORDER)', 'CURRENT_PRICE', 'DATE',\n",
      "       'DATE_YAHOOFINANCE', 'DAYOFWEEK0MON', 'DAYSTOFYEND', 'EPS1', 'EPS2',\n",
      "       'FILENAME', 'FYEND', 'FYEPSNXT', 'GROWTH_0.5TO0.75', 'LASTUPDATED',\n",
      "       'OPENACT', 'OPEN_DATE', 'OPEN_PRICE', 'OPEN_YEAR', 'PCTRETURN',\n",
      "       'PCT_RET_FINAL', 'PNL', 'PRICE', 'QTYCHG', 'QUANTITY',\n",
      "       'ROIC_(BW_ROA_ROE)', 'STARTDATE', 'STOP', 'SYMBOL', 'TARGET',\n",
      "       'TGT_FWD_P_E', 'TICKER', 'TIME', 'UNNAMED:_0', 'UNNAMED:_0.1',\n",
      "       'UNNAMED:_0.2', 'UNNAMED:_6', 'UNNAMED:_8', 'WEIGHT',\n",
      "       'YEARS_TO_NORMALIZATION'],\n",
      "      dtype='object')\n"
     ]
    }
   ],
   "source": [
    "print(df_XY.columns)"
   ]
  },
  {
   "cell_type": "code",
   "execution_count": 40,
   "id": "e9ec7ce1",
   "metadata": {
    "ExecuteTime": {
     "end_time": "2022-07-24T01:12:15.915613Z",
     "start_time": "2022-07-24T01:12:15.889606Z"
    },
    "lines_to_next_cell": 2
   },
   "outputs": [],
   "source": [
    "target = \"PCT_RET_FINAL\"\n",
    "\n",
    "numeric_features = [\n",
    "    \"TGT_FWD_P_E\",\n",
    "    \"YEARS_TO_NORMALIZATION\",\n",
    "    \"CLOSE_^VIX\",\n",
    "    \"AAII_SENT_BULLBEARSPREAD\",\n",
    "    \"%_TO_STOP\",\n",
    "    \"%_TO_TARGET\",\n",
    "    \"GROWTH_0.5TO0.75\",\n",
    "    \"ROIC_(BW_ROA_ROE)\",\n",
    "    \"DAYOFWEEK0MON\",\n",
    "]\n",
    "\n",
    "categorical_features = [\"OPENACT\", \"CATEGORY\"] #   categorical not stable as others captured and this is not stable\n",
    "\n",
    "variables = numeric_features + categorical_features\n",
    "\n",
    "# dtypes = pd.Series(df_XY.dtypes)\n",
    "# selected_vars = dtypes[variables]\n",
    "# varlist = []\n",
    "\n",
    "# cols_num = df_XY.select_dtypes(include=\"number\").columns\n",
    "# idx = 0\n",
    "\n",
    "# # create variable string\n",
    "# for v in variables:\n",
    "#     if idx != 0:\n",
    "#         varlist.append(\" + \")\n",
    "\n",
    "#     # if v not in cols_num:\n",
    "#     #     varlist.append('C(')\n",
    "\n",
    "#     # varlist.append(\"Q('\")\n",
    "#     varlist.append(v)\n",
    "#     # varlist.append(\"')\")\n",
    "\n",
    "#     # if v not in cols_num:\n",
    "#     #     varlist.append(')')\n",
    "\n",
    "#     idx = idx + 1\n",
    "\n",
    "# varstring = \"\".join(varlist)"
   ]
  },
  {
   "cell_type": "code",
   "execution_count": 41,
   "id": "fb8c64b6",
   "metadata": {
    "ExecuteTime": {
     "end_time": "2022-07-24T01:12:15.947603Z",
     "start_time": "2022-07-24T01:12:15.919605Z"
    },
    "lines_to_next_cell": 2
   },
   "outputs": [],
   "source": [
    "## Variables for columns\n",
    "\n",
    "y = df_XY[[target]]\n",
    "X = df_XY[variables]\n",
    "\n",
    "# deprecated\n",
    "# formula =  f\"\"\" {target} ~ 1 + {varstring}\"\"\"\n",
    "# y , X = dmatrices(formula, df_XY, return_type='dataframe')\n",
    "\n",
    "assert X.shape[0] == df_XY.shape[0], \"rows mismatched, probably due to NAs\""
   ]
  },
  {
   "cell_type": "code",
   "execution_count": 42,
   "id": "7e7b3adf",
   "metadata": {
    "ExecuteTime": {
     "end_time": "2022-07-24T01:12:15.978603Z",
     "start_time": "2022-07-24T01:12:15.955605Z"
    }
   },
   "outputs": [],
   "source": [
    "# train test data\n",
    "\n",
    "X_train, X_test, y_train, y_test, XY_train, XY_test = train_test_split(\n",
    "    X, y, df_XY, test_size=0.33, random_state=42\n",
    ")\n",
    "\n",
    "# y..to_numpy().ravel()"
   ]
  },
  {
   "cell_type": "code",
   "execution_count": 43,
   "id": "8bb5229d",
   "metadata": {
    "ExecuteTime": {
     "end_time": "2022-07-24T01:12:15.994602Z",
     "start_time": "2022-07-24T01:12:15.981603Z"
    },
    "lines_to_next_cell": 2
   },
   "outputs": [],
   "source": [
    "## sample tune & run model using hyperopt\n",
    "\n",
    "# from sklearn.model_selection import train_test_split\n",
    "# from sklearn.metrics import mean_absolute_error\n",
    "# from hpsklearn import HyperoptEstimator\n",
    "# from hpsklearn import any_regressor\n",
    "# from hpsklearn import any_preprocessing\n",
    "# from hyperopt import tpe\n",
    "# # load dataset\n",
    "# url = 'https://raw.githubusercontent.com/jbrownlee/Datasets/master/housing.csv'\n",
    "# dataframe = read_csv(url, header=None)\n",
    "# # split into input and output elements\n",
    "# data = dataframe.values\n",
    "# data = data.astype('float32')\n",
    "# X, y = data[:, :-1], data[:, -1]\n",
    "# # split into train and test sets\n",
    "# X_train, X_test, y_train, y_test = train_test_split(X, y, test_size=0.33, random_state=1)\n",
    "# # define search\n",
    "# model = HyperoptEstimator(regressor=any_regressor('reg'), preprocessing=any_preprocessing('pre'), loss_fn=mean_absolute_error, algo=tpe.suggest, max_evals=50, trial_timeout=30)\n",
    "# # perform the search\n",
    "# model.fit(X_train, y_train)\n",
    "# # summarize performance\n",
    "# mae = model.score(X_test, y_test)\n",
    "# print(\"MAE: %.3f\" % mae)\n",
    "# # summarize the best model\n",
    "# print(model.best_model())"
   ]
  },
  {
   "cell_type": "markdown",
   "id": "6440f93f",
   "metadata": {},
   "source": [
    "## support functions"
   ]
  },
  {
   "cell_type": "code",
   "execution_count": 44,
   "id": "6c39cec0",
   "metadata": {
    "ExecuteTime": {
     "end_time": "2022-07-24T01:12:16.105600Z",
     "start_time": "2022-07-24T01:12:15.999617Z"
    }
   },
   "outputs": [],
   "source": [
    "# looks reasonable\n",
    "# https://www.kaggle.com/jpopham91/gini-scoring-simple-and-efficient\n",
    "def gini_normalized(y_true, y_pred, sample_weight=None):\n",
    "    # check and get number of samples\n",
    "    assert (\n",
    "        np.array(y_true).shape == np.array(y_pred).shape\n",
    "    ), \"y_true and y_pred need to have same shape\"\n",
    "    n_samples = np.array(y_true).shape[0]\n",
    "\n",
    "    # sort rows on prediction column\n",
    "    # (from largest to smallest)\n",
    "    if sample_weight == None:\n",
    "        sample_weight = np.ones(n_samples)\n",
    "\n",
    "    arr = np.array([y_true, y_pred, sample_weight]).transpose()\n",
    "    true_order = arr[arr[:, 0].argsort()][::-1, 0]  # true col sorted by true\n",
    "    pred_order = arr[arr[:, 1].argsort()][::-1, 0]  # true col sorted by pred\n",
    "\n",
    "    true_order_wgts = arr[arr[:, 0].argsort()][::-1, 2]\n",
    "    pred_order_wgts = arr[arr[:, 0].argsort()][::-1, 2]\n",
    "\n",
    "    # get Lorenz curves\n",
    "    L_true = np.cumsum(np.multiply(true_order, true_order_wgts)) / np.sum(\n",
    "        np.dot(true_order, true_order_wgts)\n",
    "    )\n",
    "    L_pred = np.cumsum(np.multiply(pred_order, pred_order_wgts)) / np.sum(\n",
    "        np.multiply(pred_order, pred_order_wgts)\n",
    "    )\n",
    "    L_ones = np.multiply(np.linspace(1 / n_samples, 1, n_samples), pred_order_wgts)\n",
    "\n",
    "    # get Gini coefficients (area between curves)\n",
    "    G_true = np.sum(L_ones - L_true)\n",
    "    G_pred = np.sum(L_ones - L_pred)\n",
    "\n",
    "    # normalize to true Gini coefficient\n",
    "    return G_pred / G_true\n",
    "\n",
    "\n",
    "def score_estimator(\n",
    "    estimator,\n",
    "    X_train,\n",
    "    X_test,\n",
    "    df_train,\n",
    "    df_test,\n",
    "    target,\n",
    "    formula,\n",
    "    weights=None,\n",
    "    tweedie_powers=None,\n",
    "):\n",
    "    \"\"\"\n",
    "    Evaluate an estimator on train and test sets with different metrics\n",
    "    Requires active run on mlflow and estimator with .predict method\n",
    "    \"\"\"\n",
    "    from sklearn.metrics import mean_absolute_error, mean_squared_error, auc\n",
    "    from functools import partial\n",
    "    from sklearn.metrics import mean_tweedie_deviance\n",
    "\n",
    "    mlflow.set_tag(\"run_id\", mlflow.active_run().info.run_id)\n",
    "    mlflow.log_params({\"formula\": formula})\n",
    "\n",
    "    metrics = [\n",
    "        # (\"default score\", None),   # Use default scorer if it exists\n",
    "        (\"mean abs. error\", mean_absolute_error),\n",
    "        (\"mean squared error\", mean_squared_error),\n",
    "        (\"gini\", gini_normalized),\n",
    "    ]\n",
    "    if tweedie_powers:\n",
    "        metrics += [\n",
    "            (\n",
    "                \"mean Tweedie dev p={:.4f}\".format(power),\n",
    "                partial(mean_tweedie_deviance, power=power),\n",
    "            )\n",
    "            for power in tweedie_powers\n",
    "        ]\n",
    "\n",
    "    res = {}\n",
    "    for subset_label, X, df in [\n",
    "        (\"train\", X_train, df_train),\n",
    "        (\"test\", X_test, df_test),\n",
    "    ]:\n",
    "        if weights != None:\n",
    "            y, _weights = df[target], df[weights]\n",
    "        else:\n",
    "            y, _weights = df[target], None\n",
    "\n",
    "        if isinstance(estimator, tuple) and len(estimator) == 2:\n",
    "            # Score the model consisting of the product of frequency and\n",
    "            # severity models.\n",
    "            est_freq, est_sev = estimator\n",
    "            y_pred = est_freq.predict(X) * est_sev.predict(X)\n",
    "        elif \"h2o\" in str(type(estimator)):\n",
    "            y_pred = (\n",
    "                estimator.predict(h2o.H2OFrame(X)).as_data_frame().to_numpy().ravel()\n",
    "            )  # ensure 1D array\n",
    "        else:\n",
    "            y_pred = estimator.predict(X)\n",
    "\n",
    "        for score_label, metric in metrics:\n",
    "\n",
    "            if metric is None:\n",
    "                if not hasattr(estimator, \"score\"):\n",
    "                    continue\n",
    "                score = estimator.score(X, y, sample_weight=_weights)\n",
    "            else:\n",
    "                score = metric(y, y_pred, sample_weight=_weights)\n",
    "\n",
    "            res[score_label + \"_\" + subset_label] = score\n",
    "\n",
    "    return res\n",
    "\n",
    "\n",
    "def to_categorical(x):\n",
    "    return x.astype(\"category\")\n",
    "\n",
    "\n",
    "def to_float(x):\n",
    "    return x.astype(float)\n",
    "\n",
    "\n",
    "# def log_w_validate(y_true, y_pred, formula:str = ''):\n",
    "#     \"\"\"validates reg model and log metrics to active mlflow run.\n",
    "#     Requires active mlflow run to wrun\n",
    "\n",
    "#     Args: \\n\n",
    "#         y_true (array): [actual results] \\n\n",
    "#         y_pred (array): [predicted results] \\n\n",
    "#     \"\"\"\n",
    "\n",
    "#     from sklearn import metrics\n",
    "\n",
    "#     mlflow.set_tag('run_id', mlflow.active_run().info.run_id)\n",
    "#     mlflow.log_params({\"formula\":formula})\n",
    "\n",
    "#     test_score_r2 = metrics.r2_score(y_true, y_pred)\n",
    "\n",
    "#     mlflow.log_metric(\"test_r2\", test_score_r2)\n",
    "#     print(f'r2 score {test_score_r2}')\n",
    "\n",
    "#     return"
   ]
  },
  {
   "cell_type": "markdown",
   "id": "1a99ca78",
   "metadata": {},
   "source": [
    "## Model 5 hist boosting w optional tuning"
   ]
  },
  {
   "cell_type": "code",
   "execution_count": 45,
   "id": "13407591",
   "metadata": {
    "ExecuteTime": {
     "end_time": "2022-07-24T01:12:30.346526Z",
     "start_time": "2022-07-24T01:12:16.109605Z"
    },
    "scrolled": false
   },
   "outputs": [
    {
     "name": "stdout",
     "output_type": "stream",
     "text": [
      "Gini 0.357 params {'learning_rate': 0.9180943147043419, 'max_depth': 2.0}                                                                                                                      \n",
      "Gini 0.432 params {'learning_rate': 0.726051074381524, 'max_depth': 4.0}                                                                                                                       \n",
      "Gini 0.422 params {'learning_rate': 0.946072749812866, 'max_depth': 4.0}                                                                                                                       \n",
      "Gini 0.380 params {'learning_rate': 0.9255772359193132, 'max_depth': 2.0}                                                                                                                      \n",
      "Gini 0.299 params {'learning_rate': 0.10616196036020836, 'max_depth': 2.0}                                                                                                                     \n",
      "100%|█████████████████████████████████████████████████████████████████████████████████████████████████████████████████████████| 5/5 [00:06<00:00,  1.23s/trial, best loss: 0.29918083014298313]"
     ]
    },
    {
     "name": "stderr",
     "output_type": "stream",
     "text": [
      "2022/07/23 21:12:22 WARNING mlflow.utils: Truncated the value of the key `steps`. Truncated value: `[('preprocessor', ColumnTransformer(transformers=[('num',\n",
      "                                 Pipeline(steps=[('to_float',\n",
      "                                                  FunctionTransformer(func=<function to_float at 0x00000248DB7B4940>))]),\n",
      "     ...`\n",
      "2022/07/23 21:12:22 WARNING mlflow.utils: Truncated the value of the key `preprocessor`. Truncated value: `ColumnTransformer(transformers=[('num',\n",
      "                                 Pipeline(steps=[('to_float',\n",
      "                                                  FunctionTransformer(func=<function to_float at 0x00000248DB7B4940>))]),\n",
      "                       ...`\n",
      "2022/07/23 21:12:22 WARNING mlflow.utils: Truncated the value of the key `estimator`. Truncated value: `HistGradientBoostingRegressor(categorical_features=[False, False, False, False,\n",
      "                                                    False, False, False, False,\n",
      "                                                    False, True],\n",
      "                     ...`\n",
      "2022/07/23 21:12:22 WARNING mlflow.utils: Truncated the value of the key `preprocessor__transformers`. Truncated value: `[('num', Pipeline(steps=[('to_float',\n",
      "                 FunctionTransformer(func=<function to_float at 0x00000248DB7B4940>))]), ['TGT_FWD_P_E', 'YEARS_TO_NORMALIZATION', 'CLOSE_^VIX', 'AAII_SENT_BULLBEARSPREAD', '%_TO_STOP', '%_TO_TARGET', 'GROWTH_...`\n",
      "2022/07/23 21:12:22 WARNING mlflow.utils: Truncated the value of the key `preprocessor__cat`. Truncated value: `Pipeline(steps=[('to_categorical',\n",
      "                 FunctionTransformer(func=<function to_categorical at 0x00000248DB74F5E0>)),\n",
      "                ('ordinal',\n",
      "                 OrdinalEncoder(handle_unknown='use_encoded_value',\n",
      "                       ...`\n"
     ]
    },
    {
     "name": "stdout",
     "output_type": "stream",
     "text": [
      "\n",
      "Hyperopt estimated optimum {'learning_rate': 0.10616196036020836, 'max_depth': 2}\n",
      "Binning 0.000 GB of training data: 0.085 s\n",
      "Binning 0.000 GB of validation data: 0.004 s\n",
      "Fitting gradient boosted rounds:\n",
      "[1/100] 1 tree, 4 leaves, max depth = 2, train loss: 0.03934, val loss: 0.03505, in 0.007s\n",
      "[2/100] 1 tree, 4 leaves, max depth = 2, train loss: 0.03887, val loss: 0.03472, in 0.006s\n",
      "[3/100] 1 tree, 4 leaves, max depth = 2, train loss: 0.03847, val loss: 0.03459, in 0.004s\n",
      "[4/100] 1 tree, 4 leaves, max depth = 2, train loss: 0.03814, val loss: 0.03436, in 0.004s\n",
      "[5/100] 1 tree, 4 leaves, max depth = 2, train loss: 0.03787, val loss: 0.03437, in 0.005s\n",
      "[6/100] 1 tree, 4 leaves, max depth = 2, train loss: 0.03764, val loss: 0.03418, in 0.003s\n",
      "[7/100] 1 tree, 4 leaves, max depth = 2, train loss: 0.03744, val loss: 0.03423, in 0.003s\n",
      "[8/100] 1 tree, 4 leaves, max depth = 2, train loss: 0.03728, val loss: 0.03412, in 0.003s\n",
      "[9/100] 1 tree, 4 leaves, max depth = 2, train loss: 0.03700, val loss: 0.03392, in 0.004s\n",
      "[10/100] 1 tree, 4 leaves, max depth = 2, train loss: 0.03687, val loss: 0.03401, in 0.005s\n",
      "[11/100] 1 tree, 4 leaves, max depth = 2, train loss: 0.03666, val loss: 0.03388, in 0.003s\n",
      "[12/100] 1 tree, 3 leaves, max depth = 2, train loss: 0.03657, val loss: 0.03387, in 0.006s\n",
      "[13/100] 1 tree, 4 leaves, max depth = 2, train loss: 0.03647, val loss: 0.03397, in 0.003s\n",
      "[14/100] 1 tree, 4 leaves, max depth = 2, train loss: 0.03630, val loss: 0.03396, in 0.004s\n",
      "[15/100] 1 tree, 3 leaves, max depth = 2, train loss: 0.03623, val loss: 0.03396, in 0.003s\n",
      "[16/100] 1 tree, 4 leaves, max depth = 2, train loss: 0.03615, val loss: 0.03393, in 0.003s\n",
      "[17/100] 1 tree, 4 leaves, max depth = 2, train loss: 0.03588, val loss: 0.03376, in 0.003s\n",
      "[18/100] 1 tree, 3 leaves, max depth = 2, train loss: 0.03583, val loss: 0.03381, in 0.003s\n",
      "[19/100] 1 tree, 4 leaves, max depth = 2, train loss: 0.03562, val loss: 0.03369, in 0.004s\n",
      "[20/100] 1 tree, 3 leaves, max depth = 2, train loss: 0.03557, val loss: 0.03369, in 0.003s\n",
      "[21/100] 1 tree, 4 leaves, max depth = 2, train loss: 0.03540, val loss: 0.03359, in 0.004s\n",
      "[22/100] 1 tree, 3 leaves, max depth = 2, train loss: 0.03536, val loss: 0.03365, in 0.003s\n",
      "[23/100] 1 tree, 4 leaves, max depth = 2, train loss: 0.03519, val loss: 0.03355, in 0.003s\n",
      "[24/100] 1 tree, 3 leaves, max depth = 2, train loss: 0.03514, val loss: 0.03348, in 0.003s\n",
      "[25/100] 1 tree, 3 leaves, max depth = 2, train loss: 0.03510, val loss: 0.03352, in 0.003s\n",
      "[26/100] 1 tree, 4 leaves, max depth = 2, train loss: 0.03500, val loss: 0.03346, in 0.003s\n",
      "[27/100] 1 tree, 4 leaves, max depth = 2, train loss: 0.03486, val loss: 0.03340, in 0.004s\n",
      "[28/100] 1 tree, 3 leaves, max depth = 2, train loss: 0.03476, val loss: 0.03342, in 0.004s\n",
      "[29/100] 1 tree, 3 leaves, max depth = 2, train loss: 0.03472, val loss: 0.03345, in 0.003s\n",
      "[30/100] 1 tree, 3 leaves, max depth = 2, train loss: 0.03464, val loss: 0.03348, in 0.003s\n",
      "[31/100] 1 tree, 4 leaves, max depth = 2, train loss: 0.03457, val loss: 0.03347, in 0.003s\n",
      "[32/100] 1 tree, 4 leaves, max depth = 2, train loss: 0.03451, val loss: 0.03355, in 0.004s\n",
      "[33/100] 1 tree, 3 leaves, max depth = 2, train loss: 0.03447, val loss: 0.03358, in 0.003s\n",
      "[34/100] 1 tree, 4 leaves, max depth = 2, train loss: 0.03435, val loss: 0.03351, in 0.004s\n",
      "[35/100] 1 tree, 3 leaves, max depth = 2, train loss: 0.03432, val loss: 0.03355, in 0.003s\n",
      "[36/100] 1 tree, 4 leaves, max depth = 2, train loss: 0.03423, val loss: 0.03345, in 0.003s\n",
      "[37/100] 1 tree, 3 leaves, max depth = 2, train loss: 0.03419, val loss: 0.03339, in 0.003s\n",
      "[38/100] 1 tree, 4 leaves, max depth = 2, train loss: 0.03411, val loss: 0.03334, in 0.004s\n",
      "[39/100] 1 tree, 4 leaves, max depth = 2, train loss: 0.03406, val loss: 0.03333, in 0.003s\n",
      "[40/100] 1 tree, 4 leaves, max depth = 2, train loss: 0.03395, val loss: 0.03330, in 0.003s\n",
      "[41/100] 1 tree, 3 leaves, max depth = 2, train loss: 0.03388, val loss: 0.03334, in 0.003s\n",
      "[42/100] 1 tree, 3 leaves, max depth = 2, train loss: 0.03385, val loss: 0.03336, in 0.007s\n",
      "[43/100] 1 tree, 3 leaves, max depth = 2, train loss: 0.03378, val loss: 0.03339, in 0.004s\n",
      "[44/100] 1 tree, 4 leaves, max depth = 2, train loss: 0.03369, val loss: 0.03333, in 0.004s\n",
      "[45/100] 1 tree, 4 leaves, max depth = 2, train loss: 0.03364, val loss: 0.03337, in 0.003s\n",
      "[46/100] 1 tree, 3 leaves, max depth = 2, train loss: 0.03361, val loss: 0.03339, in 0.005s\n",
      "[47/100] 1 tree, 3 leaves, max depth = 2, train loss: 0.03356, val loss: 0.03342, in 0.003s\n",
      "[48/100] 1 tree, 4 leaves, max depth = 2, train loss: 0.03343, val loss: 0.03338, in 0.006s\n",
      "[49/100] 1 tree, 4 leaves, max depth = 2, train loss: 0.03334, val loss: 0.03335, in 0.005s\n",
      "[50/100] 1 tree, 3 leaves, max depth = 2, train loss: 0.03332, val loss: 0.03337, in 0.005s\n",
      "Fit 50 trees in 0.317 s, (181 total leaves)\n",
      "Time spent computing histograms: 0.006s\n",
      "Time spent finding best splits:  0.005s\n",
      "Time spent applying splits:      0.016s\n",
      "Time spent predicting:           0.003s\n"
     ]
    },
    {
     "name": "stderr",
     "output_type": "stream",
     "text": [
      "2022/07/23 21:12:22 WARNING mlflow.utils.autologging_utils: MLflow autologging encountered a warning: \"C:\\Users\\SW\\.virtualenvs\\P1-AnalyzeTrades-FvHLA50l\\lib\\site-packages\\mlflow\\models\\signature.py:129: UserWarning: Hint: Inferred schema contains integer column(s). Integer columns in Python cannot represent missing values. If your input data contains missing values at inference time, it will be encoded as floats and will cause a schema enforcement error. The best way to avoid this problem is to infer the model schema based on a realistic data sample (training dataset) that includes missing values. Alternatively, you can declare integer columns as doubles (float64) whenever these columns may have missing values. See `Handling Integers With Missing Values <https://www.mlflow.org/docs/latest/models.html#handling-integers-with-missing-values>`_ for more details.\"\n"
     ]
    },
    {
     "name": "stdout",
     "output_type": "stream",
     "text": [
      "runid = 9131e13ba6bd4f9686a8a840e7e60052\n"
     ]
    }
   ],
   "source": [
    "\n",
    "\n",
    "mlflow.end_run()\n",
    "mlflow.start_run(run_name=\"sklearn_hgbm\")\n",
    "\n",
    "numeric_transformer = Pipeline(\n",
    "    steps=[\n",
    "        (\"to_float\", FunctionTransformer(func=to_float)),\n",
    "    ]\n",
    ")\n",
    "\n",
    "categorical_transformer = Pipeline(\n",
    "    steps=[\n",
    "        (\"to_categorical\", FunctionTransformer(func=to_categorical)),\n",
    "        (\n",
    "            \"ordinal\",\n",
    "            OrdinalEncoder(handle_unknown=\"use_encoded_value\", unknown_value=np.nan),\n",
    "        ),\n",
    "    ]\n",
    ")\n",
    "\n",
    "# based on variable order\n",
    "categorical_mask = [False] * len(numeric_features) + [True] * len(categorical_features)\n",
    "\n",
    "preprocessor = ColumnTransformer(\n",
    "    transformers=[\n",
    "        (\"num\", numeric_transformer, numeric_features),\n",
    "        (\"cat\", categorical_transformer, categorical_features),\n",
    "    ],\n",
    "    remainder=\"drop\",\n",
    ")\n",
    "\n",
    "\n",
    "# tuning\n",
    "if retune:\n",
    "\n",
    "    func_f = importlib.import_module(\"P1-AnalyzeTrades_f_buildmodel_func\")\n",
    "\n",
    "    gini_scorer = make_scorer(func_f.gini_sklearn, greater_is_better=True)\n",
    "\n",
    "    # use hyperopt package with to better search\n",
    "    # https://github.com/hyperopt/hyperopt/wiki/FMin\n",
    "    # use userdefined Gini, as it measures differentiation more\n",
    "    def objective_gbr(params):\n",
    "        \"objective_gbr function for hyper opt, params is dict of params for mdl\"\n",
    "        mlflow.start_run(nested=True)\n",
    "        parameters = {}\n",
    "        for k in params:\n",
    "            parameters[k] = params[k]\n",
    "        mdl = Pipeline(\n",
    "            steps=[\n",
    "                (\"preprocessor\", preprocessor),\n",
    "                (\n",
    "                    \"estimator\",\n",
    "                    HistGradientBoostingRegressor(\n",
    "                        random_state=0,\n",
    "                        **parameters,\n",
    "                        categorical_features=categorical_mask,\n",
    "                    ),\n",
    "                ),\n",
    "            ]\n",
    "        )\n",
    "        score = cross_val_score(\n",
    "            mdl, X_train, y_train.squeeze(), scoring=gini_scorer, cv=5\n",
    "        ).mean()\n",
    "        print(\"Gini {:.3f} params {}\".format(score, parameters))\n",
    "        mlflow.end_run()\n",
    "        return score\n",
    "\n",
    "    # need to match estimator\n",
    "    space = {\n",
    "        # low # high # number of choices\n",
    "        \"learning_rate\": hp.uniform(\"learning_rate\", 0.1, 1),\n",
    "        \"max_depth\": hp.quniform(\"max_depth\", 2, 4, 2),\n",
    "    }\n",
    "\n",
    "    best_params = fmin(fn=objective_gbr, space=space, algo=tpe.suggest, max_evals=5)\n",
    "\n",
    "    for key in best_params.keys():\n",
    "        if int(best_params[key]) == best_params[key]:\n",
    "            best_params[key] = int(best_params[key])\n",
    "\n",
    "    print(\"Hyperopt estimated optimum {}\".format(best_params))\n",
    "\n",
    "else:\n",
    "    best_params = {\"max_depth\": 2}\n",
    "\n",
    "mdl = Pipeline(\n",
    "    steps=[\n",
    "        (\"preprocessor\", preprocessor),\n",
    "        (\n",
    "            \"estimator\",\n",
    "            HistGradientBoostingRegressor(\n",
    "                random_state=0, \n",
    "                **best_params, \n",
    "                categorical_features=categorical_mask,\n",
    "                early_stopping = True,\n",
    "                validation_fraction = 0.25,\n",
    "                verbose=True\n",
    "            ),\n",
    "        ),\n",
    "    ]\n",
    ")\n",
    "# reg = GradientBoostingRegressor(random_state=0)\n",
    "mdl.fit(X_train, y_train.squeeze(), estimator__sample_weight = XY_train['WEIGHT'])\n",
    "\n",
    "# log with validation\n",
    "# log_w_validate(y_test, y_pred, formula)\n",
    "res = score_estimator(mdl, X_train, X_test, XY_train, XY_test, target, \"\")\n",
    "\n",
    "mlflow.log_metrics(res)\n",
    "mlflow.set_tag(\"target\", target)\n",
    "\n",
    "# addition artifacts\n",
    "# visualize a single tree\n",
    "# Get a tree\n",
    "# sub_tree_1 = reg.estimators_[0, 0]  # pull first 1 estimator, actual regressor vs array\n",
    "\n",
    "# tree.plot_tree(sub_tree_1, feature_names=list(X_train.columns), filled=True, fontsize=7)\n",
    "\n",
    "# plt.tight_layout()\n",
    "# plt.savefig(\"tree_plot1.png\", bbox_inches=\"tight\")\n",
    "# plt.show()\n",
    "\n",
    "# mlflow.log_artifact(\"tree_plot1.png\")\n",
    "\n",
    "# save requirements\n",
    "os.system(\"pipenv lock --keep-outdated -d -r > output/requirements.txt\")\n",
    "mlflow.log_artifact(\"output/requirements.txt\")\n",
    "\n",
    "# save categorical dict values\n",
    "cat_dict = {}\n",
    "for c in categorical_features:\n",
    "    cat_dict[c] = list(X_train[c].unique())\n",
    "\n",
    "with open(f\"cat_dict.pkl\", \"wb\") as handle:\n",
    "    dill.dump(cat_dict, handle, recurse=True)\n",
    "\n",
    "mlflow.log_artifact(f\"cat_dict.pkl\")\n",
    "\n",
    "os.remove(f\"cat_dict.pkl\")\n",
    "\n",
    "\n",
    "print(f'runid = {mlflow.active_run().info.run_id}')\n",
    "\n",
    "mlflow.end_run()"
   ]
  },
  {
   "cell_type": "markdown",
   "id": "cdef986e",
   "metadata": {},
   "source": [
    "## SHAP test"
   ]
  },
  {
   "cell_type": "code",
   "execution_count": 46,
   "id": "c74e5b3a",
   "metadata": {
    "ExecuteTime": {
     "end_time": "2022-07-24T01:12:32.841543Z",
     "start_time": "2022-07-24T01:12:30.349526Z"
    }
   },
   "outputs": [
    {
     "data": {
      "image/png": "[encoded data removed]",
      "text/plain": [
       "<Figure size 576x396 with 2 Axes>"
      ]
     },
     "metadata": {
      "needs_background": "light"
     },
     "output_type": "display_data"
    },
    {
     "ename": "IndexError",
     "evalue": "only integers, slices (`:`), ellipsis (`...`), numpy.newaxis (`None`) and integer or boolean arrays are valid indices",
     "output_type": "error",
     "traceback": [
      "\u001b[1;31m---------------------------------------------------------------------------\u001b[0m",
      "\u001b[1;31mIndexError\u001b[0m                                Traceback (most recent call last)",
      "Input \u001b[1;32mIn [46]\u001b[0m, in \u001b[0;36m<cell line: 46>\u001b[1;34m()\u001b[0m\n\u001b[0;32m     43\u001b[0m shap\u001b[38;5;241m.\u001b[39mplots\u001b[38;5;241m.\u001b[39mbeeswarm(shap_cat)\n\u001b[0;32m     44\u001b[0m fig, ax \u001b[38;5;241m=\u001b[39m plt\u001b[38;5;241m.\u001b[39msubplots()\n\u001b[1;32m---> 46\u001b[0m shap\u001b[38;5;241m.\u001b[39mplots\u001b[38;5;241m.\u001b[39mscatter(\u001b[43mshap_obj\u001b[49m\u001b[43m[\u001b[49m\u001b[43m:\u001b[49m\u001b[43m,\u001b[49m\u001b[43m \u001b[49m\u001b[43mvar\u001b[49m\u001b[43m]\u001b[49m, ax\u001b[38;5;241m=\u001b[39max, show\u001b[38;5;241m=\u001b[39m\u001b[38;5;28;01mFalse\u001b[39;00m, color\u001b[38;5;241m=\u001b[39mshap_obj)\n\u001b[0;32m     47\u001b[0m \u001b[38;5;28;01mif\u001b[39;00m var \u001b[38;5;129;01min\u001b[39;00m categorical_names:\n\u001b[0;32m     48\u001b[0m     orig_list \u001b[38;5;241m=\u001b[39m ax\u001b[38;5;241m.\u001b[39mget_xticks()\n",
      "File \u001b[1;32m~\\.virtualenvs\\P1-AnalyzeTrades-FvHLA50l\\lib\\site-packages\\shap\\_explanation.py:421\u001b[0m, in \u001b[0;36mExplanation.__getitem__\u001b[1;34m(self, item)\u001b[0m\n\u001b[0;32m    419\u001b[0m \u001b[38;5;28;01mif\u001b[39;00m new_self \u001b[38;5;129;01mis\u001b[39;00m \u001b[38;5;28;01mNone\u001b[39;00m:\n\u001b[0;32m    420\u001b[0m     new_self \u001b[38;5;241m=\u001b[39m copy\u001b[38;5;241m.\u001b[39mcopy(\u001b[38;5;28mself\u001b[39m)\n\u001b[1;32m--> 421\u001b[0m new_self\u001b[38;5;241m.\u001b[39m_s \u001b[38;5;241m=\u001b[39m \u001b[43mnew_self\u001b[49m\u001b[38;5;241;43m.\u001b[39;49m\u001b[43m_s\u001b[49m\u001b[38;5;241;43m.\u001b[39;49m\u001b[38;5;21;43m__getitem__\u001b[39;49m\u001b[43m(\u001b[49m\u001b[43mitem\u001b[49m\u001b[43m)\u001b[49m\n\u001b[0;32m    422\u001b[0m new_self\u001b[38;5;241m.\u001b[39mop_history\u001b[38;5;241m.\u001b[39mappend({\n\u001b[0;32m    423\u001b[0m     \u001b[38;5;124m\"\u001b[39m\u001b[38;5;124mname\u001b[39m\u001b[38;5;124m\"\u001b[39m: \u001b[38;5;124m\"\u001b[39m\u001b[38;5;124m__getitem__\u001b[39m\u001b[38;5;124m\"\u001b[39m,\n\u001b[0;32m    424\u001b[0m     \u001b[38;5;124m\"\u001b[39m\u001b[38;5;124margs\u001b[39m\u001b[38;5;124m\"\u001b[39m: (item,),\n\u001b[0;32m    425\u001b[0m     \u001b[38;5;124m\"\u001b[39m\u001b[38;5;124mprev_shape\u001b[39m\u001b[38;5;124m\"\u001b[39m: \u001b[38;5;28mself\u001b[39m\u001b[38;5;241m.\u001b[39mshape\n\u001b[0;32m    426\u001b[0m })\n\u001b[0;32m    428\u001b[0m \u001b[38;5;28;01mreturn\u001b[39;00m new_self\n",
      "File \u001b[1;32m~\\.virtualenvs\\P1-AnalyzeTrades-FvHLA50l\\lib\\site-packages\\slicer\\slicer.py:112\u001b[0m, in \u001b[0;36mSlicer.__getitem__\u001b[1;34m(self, item)\u001b[0m\n\u001b[0;32m    110\u001b[0m index_slicer \u001b[38;5;241m=\u001b[39m AtomicSlicer(index_tup, max_dim\u001b[38;5;241m=\u001b[39m\u001b[38;5;241m1\u001b[39m)\n\u001b[0;32m    111\u001b[0m slicer_index \u001b[38;5;241m=\u001b[39m index_slicer[tracked\u001b[38;5;241m.\u001b[39mdim]\n\u001b[1;32m--> 112\u001b[0m sliced_o \u001b[38;5;241m=\u001b[39m \u001b[43mtracked\u001b[49m\u001b[43m[\u001b[49m\u001b[43mslicer_index\u001b[49m\u001b[43m]\u001b[49m\n\u001b[0;32m    113\u001b[0m sliced_dim \u001b[38;5;241m=\u001b[39m resolve_dim(index_tup, tracked\u001b[38;5;241m.\u001b[39mdim)\n\u001b[0;32m    115\u001b[0m new_tracked \u001b[38;5;241m=\u001b[39m tracked\u001b[38;5;241m.\u001b[39m\u001b[38;5;18m__class__\u001b[39m(sliced_o, sliced_dim)\n",
      "File \u001b[1;32m~\\.virtualenvs\\P1-AnalyzeTrades-FvHLA50l\\lib\\site-packages\\slicer\\slicer_internal.py:69\u001b[0m, in \u001b[0;36mAtomicSlicer.__getitem__\u001b[1;34m(self, item)\u001b[0m\n\u001b[0;32m     66\u001b[0m index_tup \u001b[38;5;241m=\u001b[39m unify_slice(item, \u001b[38;5;28mself\u001b[39m\u001b[38;5;241m.\u001b[39mmax_dim)\n\u001b[0;32m     68\u001b[0m \u001b[38;5;66;03m# Slice according to object type.\u001b[39;00m\n\u001b[1;32m---> 69\u001b[0m \u001b[38;5;28;01mreturn\u001b[39;00m \u001b[43mUnifiedDataHandler\u001b[49m\u001b[38;5;241;43m.\u001b[39;49m\u001b[43mslice\u001b[49m\u001b[43m(\u001b[49m\u001b[38;5;28;43mself\u001b[39;49m\u001b[38;5;241;43m.\u001b[39;49m\u001b[43mo\u001b[49m\u001b[43m,\u001b[49m\u001b[43m \u001b[49m\u001b[43mindex_tup\u001b[49m\u001b[43m,\u001b[49m\u001b[43m \u001b[49m\u001b[38;5;28;43mself\u001b[39;49m\u001b[38;5;241;43m.\u001b[39;49m\u001b[43mmax_dim\u001b[49m\u001b[43m)\u001b[49m\n",
      "File \u001b[1;32m~\\.virtualenvs\\P1-AnalyzeTrades-FvHLA50l\\lib\\site-packages\\slicer\\slicer_internal.py:583\u001b[0m, in \u001b[0;36mUnifiedDataHandler.slice\u001b[1;34m(cls, o, index_tup, max_dim)\u001b[0m\n\u001b[0;32m    580\u001b[0m tail_slice \u001b[38;5;241m=\u001b[39m \u001b[38;5;28mcls\u001b[39m\u001b[38;5;241m.\u001b[39mtype_map[o_type]\u001b[38;5;241m.\u001b[39mtail_slice\n\u001b[0;32m    582\u001b[0m is_element, sliced_o, cut \u001b[38;5;241m=\u001b[39m head_slice(o, index_tup, max_dim)\n\u001b[1;32m--> 583\u001b[0m out \u001b[38;5;241m=\u001b[39m \u001b[43mtail_slice\u001b[49m\u001b[43m(\u001b[49m\u001b[43msliced_o\u001b[49m\u001b[43m,\u001b[49m\u001b[43m \u001b[49m\u001b[43mindex_tup\u001b[49m\u001b[43m[\u001b[49m\u001b[43mcut\u001b[49m\u001b[43m:\u001b[49m\u001b[43m]\u001b[49m\u001b[43m,\u001b[49m\u001b[43m \u001b[49m\u001b[43mmax_dim\u001b[49m\u001b[43m \u001b[49m\u001b[38;5;241;43m-\u001b[39;49m\u001b[43m \u001b[49m\u001b[43mcut\u001b[49m\u001b[43m,\u001b[49m\u001b[43m \u001b[49m\u001b[43mis_element\u001b[49m\u001b[43m)\u001b[49m\n\u001b[0;32m    584\u001b[0m \u001b[38;5;28;01mreturn\u001b[39;00m out\n",
      "File \u001b[1;32m~\\.virtualenvs\\P1-AnalyzeTrades-FvHLA50l\\lib\\site-packages\\slicer\\slicer_internal.py:439\u001b[0m, in \u001b[0;36mArrayHandler.tail_slice\u001b[1;34m(cls, o, tail_index, max_dim, flatten)\u001b[0m\n\u001b[0;32m    437\u001b[0m         \u001b[38;5;28;01mreturn\u001b[39;00m AtomicSlicer(o, max_dim\u001b[38;5;241m=\u001b[39mmax_dim)[tail_index]\n\u001b[0;32m    438\u001b[0m \u001b[38;5;28;01melse\u001b[39;00m:\n\u001b[1;32m--> 439\u001b[0m     inner \u001b[38;5;241m=\u001b[39m [AtomicSlicer(e, max_dim\u001b[38;5;241m=\u001b[39mmax_dim)[tail_index] \u001b[38;5;28;01mfor\u001b[39;00m e \u001b[38;5;129;01min\u001b[39;00m o]\n\u001b[0;32m    440\u001b[0m     \u001b[38;5;28;01mif\u001b[39;00m _safe_isinstance(o, \u001b[38;5;124m\"\u001b[39m\u001b[38;5;124mnumpy\u001b[39m\u001b[38;5;124m\"\u001b[39m, \u001b[38;5;124m\"\u001b[39m\u001b[38;5;124mndarray\u001b[39m\u001b[38;5;124m\"\u001b[39m):\n\u001b[0;32m    441\u001b[0m         \u001b[38;5;28;01mimport\u001b[39;00m \u001b[38;5;21;01mnumpy\u001b[39;00m\n",
      "File \u001b[1;32m~\\.virtualenvs\\P1-AnalyzeTrades-FvHLA50l\\lib\\site-packages\\slicer\\slicer_internal.py:439\u001b[0m, in \u001b[0;36m<listcomp>\u001b[1;34m(.0)\u001b[0m\n\u001b[0;32m    437\u001b[0m         \u001b[38;5;28;01mreturn\u001b[39;00m AtomicSlicer(o, max_dim\u001b[38;5;241m=\u001b[39mmax_dim)[tail_index]\n\u001b[0;32m    438\u001b[0m \u001b[38;5;28;01melse\u001b[39;00m:\n\u001b[1;32m--> 439\u001b[0m     inner \u001b[38;5;241m=\u001b[39m [\u001b[43mAtomicSlicer\u001b[49m\u001b[43m(\u001b[49m\u001b[43me\u001b[49m\u001b[43m,\u001b[49m\u001b[43m \u001b[49m\u001b[43mmax_dim\u001b[49m\u001b[38;5;241;43m=\u001b[39;49m\u001b[43mmax_dim\u001b[49m\u001b[43m)\u001b[49m\u001b[43m[\u001b[49m\u001b[43mtail_index\u001b[49m\u001b[43m]\u001b[49m \u001b[38;5;28;01mfor\u001b[39;00m e \u001b[38;5;129;01min\u001b[39;00m o]\n\u001b[0;32m    440\u001b[0m     \u001b[38;5;28;01mif\u001b[39;00m _safe_isinstance(o, \u001b[38;5;124m\"\u001b[39m\u001b[38;5;124mnumpy\u001b[39m\u001b[38;5;124m\"\u001b[39m, \u001b[38;5;124m\"\u001b[39m\u001b[38;5;124mndarray\u001b[39m\u001b[38;5;124m\"\u001b[39m):\n\u001b[0;32m    441\u001b[0m         \u001b[38;5;28;01mimport\u001b[39;00m \u001b[38;5;21;01mnumpy\u001b[39;00m\n",
      "File \u001b[1;32m~\\.virtualenvs\\P1-AnalyzeTrades-FvHLA50l\\lib\\site-packages\\slicer\\slicer_internal.py:69\u001b[0m, in \u001b[0;36mAtomicSlicer.__getitem__\u001b[1;34m(self, item)\u001b[0m\n\u001b[0;32m     66\u001b[0m index_tup \u001b[38;5;241m=\u001b[39m unify_slice(item, \u001b[38;5;28mself\u001b[39m\u001b[38;5;241m.\u001b[39mmax_dim)\n\u001b[0;32m     68\u001b[0m \u001b[38;5;66;03m# Slice according to object type.\u001b[39;00m\n\u001b[1;32m---> 69\u001b[0m \u001b[38;5;28;01mreturn\u001b[39;00m \u001b[43mUnifiedDataHandler\u001b[49m\u001b[38;5;241;43m.\u001b[39;49m\u001b[43mslice\u001b[49m\u001b[43m(\u001b[49m\u001b[38;5;28;43mself\u001b[39;49m\u001b[38;5;241;43m.\u001b[39;49m\u001b[43mo\u001b[49m\u001b[43m,\u001b[49m\u001b[43m \u001b[49m\u001b[43mindex_tup\u001b[49m\u001b[43m,\u001b[49m\u001b[43m \u001b[49m\u001b[38;5;28;43mself\u001b[39;49m\u001b[38;5;241;43m.\u001b[39;49m\u001b[43mmax_dim\u001b[49m\u001b[43m)\u001b[49m\n",
      "File \u001b[1;32m~\\.virtualenvs\\P1-AnalyzeTrades-FvHLA50l\\lib\\site-packages\\slicer\\slicer_internal.py:582\u001b[0m, in \u001b[0;36mUnifiedDataHandler.slice\u001b[1;34m(cls, o, index_tup, max_dim)\u001b[0m\n\u001b[0;32m    579\u001b[0m head_slice \u001b[38;5;241m=\u001b[39m \u001b[38;5;28mcls\u001b[39m\u001b[38;5;241m.\u001b[39mtype_map[o_type]\u001b[38;5;241m.\u001b[39mhead_slice\n\u001b[0;32m    580\u001b[0m tail_slice \u001b[38;5;241m=\u001b[39m \u001b[38;5;28mcls\u001b[39m\u001b[38;5;241m.\u001b[39mtype_map[o_type]\u001b[38;5;241m.\u001b[39mtail_slice\n\u001b[1;32m--> 582\u001b[0m is_element, sliced_o, cut \u001b[38;5;241m=\u001b[39m \u001b[43mhead_slice\u001b[49m\u001b[43m(\u001b[49m\u001b[43mo\u001b[49m\u001b[43m,\u001b[49m\u001b[43m \u001b[49m\u001b[43mindex_tup\u001b[49m\u001b[43m,\u001b[49m\u001b[43m \u001b[49m\u001b[43mmax_dim\u001b[49m\u001b[43m)\u001b[49m\n\u001b[0;32m    583\u001b[0m out \u001b[38;5;241m=\u001b[39m tail_slice(sliced_o, index_tup[cut:], max_dim \u001b[38;5;241m-\u001b[39m cut, is_element)\n\u001b[0;32m    584\u001b[0m \u001b[38;5;28;01mreturn\u001b[39;00m out\n",
      "File \u001b[1;32m~\\.virtualenvs\\P1-AnalyzeTrades-FvHLA50l\\lib\\site-packages\\slicer\\slicer_internal.py:418\u001b[0m, in \u001b[0;36mArrayHandler.head_slice\u001b[1;34m(cls, o, index_tup, max_dim)\u001b[0m\n\u001b[0;32m    416\u001b[0m cut_index \u001b[38;5;241m=\u001b[39m index_tup[:cut]\n\u001b[0;32m    417\u001b[0m is_element \u001b[38;5;241m=\u001b[39m \u001b[38;5;28many\u001b[39m([\u001b[38;5;28;01mTrue\u001b[39;00m \u001b[38;5;28;01mif\u001b[39;00m \u001b[38;5;28misinstance\u001b[39m(x, \u001b[38;5;28mint\u001b[39m) \u001b[38;5;28;01melse\u001b[39;00m \u001b[38;5;28;01mFalse\u001b[39;00m \u001b[38;5;28;01mfor\u001b[39;00m x \u001b[38;5;129;01min\u001b[39;00m cut_index])\n\u001b[1;32m--> 418\u001b[0m sliced_o \u001b[38;5;241m=\u001b[39m \u001b[43mo\u001b[49m\u001b[43m[\u001b[49m\u001b[43mcut_index\u001b[49m\u001b[43m]\u001b[49m\n\u001b[0;32m    420\u001b[0m \u001b[38;5;28;01mreturn\u001b[39;00m is_element, sliced_o, cut\n",
      "\u001b[1;31mIndexError\u001b[0m: only integers, slices (`:`), ellipsis (`...`), numpy.newaxis (`None`) and integer or boolean arrays are valid indices"
     ]
    },
    {
     "data": {
      "image/png": "[encoded data removed]",
      "text/plain": [
       "<Figure size 432x288 with 1 Axes>"
      ]
     },
     "metadata": {
      "needs_background": "light"
     },
     "output_type": "display_data"
    }
   ],
   "source": [
    "explainer = shap.Explainer(mdl[-1])\n",
    "\n",
    "# fix save expected value\n",
    "if len(explainer.expected_value.shape) > 0:\n",
    "    ev = explainer.expected_value[0]\n",
    "    explainer.expected_value = ev\n",
    "\n",
    "shap_obj = explainer(mdl[0].transform(X_train))\n",
    "\n",
    "\n",
    "var = \"CATEGORY\"\n",
    "\n",
    "## fix shap_obj, requires column transformer in step position 0 ,\n",
    "## categorical in position 1\n",
    "\n",
    "\n",
    "# def update_shap_obj(shap_obj, X_train, encoder):\n",
    "\n",
    "shap_obj.feature_names = list(X_train.columns)\n",
    "categorical_names = list(X_train.select_dtypes(include=[\"object\"]).columns)\n",
    "col_idx = list(np.where(np.isin(shap_obj.feature_names, categorical_names))[0])\n",
    "\n",
    "shap_cat = copy.deepcopy(shap_obj)\n",
    "shap_cat.data = np.array(shap_obj.data, dtype=\"object\")\n",
    "res_arr = (\n",
    "    mdl[0]\n",
    "    .transformers_[1][1][1]\n",
    "    .inverse_transform(\n",
    "        pd.DataFrame(shap_cat.data[:, col_idx], columns=[categorical_names])\n",
    "    )\n",
    ")\n",
    "for i, loc in enumerate(col_idx):\n",
    "    shap_cat.data[:, loc] = res_arr[:, i]\n",
    "\n",
    "# new_dtype = \"object\"\n",
    "# res_arr.astype(\n",
    "#     [(col, new_dtype) if d[0] in categorical_names else d for d in res_arr.dtype.descr]\n",
    "# )\n",
    "\n",
    "# col_idx = shap_obj.feature_names.index(var)\n",
    "# ord_encode_idx = mdl[0].transformers_[1][2].index(var)\n",
    "\n",
    "shap.plots.beeswarm(shap_cat)\n",
    "fig, ax = plt.subplots()\n",
    "\n",
    "shap.plots.scatter(shap_obj[:, var], ax=ax, show=False, color=shap_obj)\n",
    "if var in categorical_names:\n",
    "    orig_list = ax.get_xticks()\n",
    "    new_list = np.insert(\n",
    "        mdl[0].transformers_[1][1][1].categories_[categorical_names.index(var)],\n",
    "        0,\n",
    "        \"Unknown\",\n",
    "    )\n",
    "\n",
    "    for i in range(len(orig_list) - len(new_list)):\n",
    "        new_list = np.append(new_list, orig_list[i + len(new_list)])\n",
    "\n",
    "    ax.set_xticks(orig_list)\n",
    "    ax.set_xticklabels(new_list)\n",
    "\n",
    "plt.show()\n",
    "\n",
    "shap.plots.waterfall(shap_cat[0])"
   ]
  },
  {
   "cell_type": "code",
   "execution_count": null,
   "id": "831a4eb6",
   "metadata": {
    "ExecuteTime": {
     "end_time": "2022-07-24T01:12:32.846528Z",
     "start_time": "2022-07-24T01:12:32.846528Z"
    }
   },
   "outputs": [],
   "source": [
    "## placeholder"
   ]
  }
 ],
 "metadata": {
  "jupytext": {
   "cell_metadata_filter": "-all",
   "formats": "auto:percent,ipynb",
   "notebook_metadata_filter": "-all"
  },
  "kernelspec": {
   "display_name": "p1analyzetrades",
   "language": "python",
   "name": "p1analyzetrades"
  },
  "language_info": {
   "codemirror_mode": {
    "name": "ipython",
    "version": 3
   },
   "file_extension": ".py",
   "mimetype": "text/x-python",
   "name": "python",
   "nbconvert_exporter": "python",
   "pygments_lexer": "ipython3",
   "version": "3.9.10"
  },
  "toc": {
   "base_numbering": 1,
   "nav_menu": {},
   "number_sections": true,
   "sideBar": true,
   "skip_h1_title": false,
   "title_cell": "Table of Contents",
   "title_sidebar": "Contents",
   "toc_cell": false,
   "toc_position": {
    "height": "calc(100% - 180px)",
    "left": "10px",
    "top": "150px",
    "width": "384px"
   },
   "toc_section_display": true,
   "toc_window_display": true
  },
  "varInspector": {
   "cols": {
    "lenName": 16,
    "lenType": 16,
    "lenVar": 40
   },
   "kernels_config": {
    "python": {
     "delete_cmd_postfix": "",
     "delete_cmd_prefix": "del ",
     "library": "var_list.py",
     "varRefreshCmd": "print(var_dic_list())"
    },
    "r": {
     "delete_cmd_postfix": ") ",
     "delete_cmd_prefix": "rm(",
     "library": "var_list.r",
     "varRefreshCmd": "cat(var_dic_list()) "
    }
   },
   "types_to_exclude": [
    "module",
    "function",
    "builtin_function_or_method",
    "instance",
    "_Feature"
   ],
   "window_display": true
  }
 },
 "nbformat": 4,
 "nbformat_minor": 5
}
