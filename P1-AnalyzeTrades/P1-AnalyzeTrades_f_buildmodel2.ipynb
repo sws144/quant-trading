{
 "cells": [
  {
   "cell_type": "markdown",
   "id": "f95cfd49",
   "metadata": {},
   "source": [
    "# E: Build & Tune Models"
   ]
  },
  {
   "cell_type": "markdown",
   "id": "5e1f707b",
   "metadata": {},
   "source": [
    "## INPUTS"
   ]
  },
  {
   "cell_type": "code",
   "execution_count": 10,
   "id": "9cf92d68",
   "metadata": {
    "ExecuteTime": {
     "end_time": "2022-09-18T18:36:43.067720Z",
     "start_time": "2022-09-18T18:36:43.055715Z"
    }
   },
   "outputs": [],
   "source": [
    "retune = True  # hyperparameter tuning"
   ]
  },
  {
   "cell_type": "markdown",
   "id": "c82da79a",
   "metadata": {},
   "source": [
    "## imports"
   ]
  },
  {
   "cell_type": "code",
   "execution_count": 11,
   "id": "88f86958",
   "metadata": {
    "ExecuteTime": {
     "end_time": "2022-09-18T18:36:43.100720Z",
     "start_time": "2022-09-18T18:36:43.073721Z"
    }
   },
   "outputs": [],
   "source": [
    "#for formatting\n",
    "import jupyter_black\n",
    "\n",
    "jupyter_black.load(\n",
    "    lab=False,\n",
    ")"
   ]
  },
  {
   "cell_type": "code",
   "execution_count": 12,
   "id": "8628c2f2",
   "metadata": {
    "ExecuteTime": {
     "end_time": "2022-09-18T18:36:43.146714Z",
     "start_time": "2022-09-18T18:36:43.104719Z"
    },
    "lines_to_next_cell": 2
   },
   "outputs": [],
   "source": [
    "import dill\n",
    "import importlib  # for importing other packages\n",
    "import copy\n",
    "import os\n",
    "import pandas as pd\n",
    "import numpy as np\n",
    "from patsy import dmatrices\n",
    "\n",
    "import mlflow  # model tracking\n",
    "\n",
    "from sklearn.model_selection import train_test_split\n",
    "\n",
    "from sklearn.compose import ColumnTransformer\n",
    "from sklearn.preprocessing import FunctionTransformer, OrdinalEncoder\n",
    "from sklearn.pipeline import Pipeline\n",
    "\n",
    "from sklearn.ensemble import GradientBoostingRegressor\n",
    "from sklearn.ensemble import HistGradientBoostingRegressor\n",
    "from sklearn.model_selection import cross_val_score, StratifiedKFold\n",
    "from sklearn.ensemble import RandomForestClassifier\n",
    "from sklearn.metrics import make_scorer\n",
    "\n",
    "from hyperopt import hp, tpe\n",
    "from hyperopt.fmin import fmin\n",
    "\n",
    "# H2O , needs java installed & on path / environment variable (java --version to test)\n",
    "import h2o\n",
    "from h2o.estimators import *\n",
    "from h2o.grid import *\n",
    "from mlflow.models.signature import infer_signature\n",
    "\n",
    "# evaluation\n",
    "from sklearn import tree\n",
    "import shap  # package used to calculate Shap values\n",
    "import matplotlib.pyplot as plt"
   ]
  },
  {
   "cell_type": "markdown",
   "id": "55fb8811",
   "metadata": {},
   "source": [
    "## Prep work"
   ]
  },
  {
   "cell_type": "code",
   "execution_count": 13,
   "id": "a0f91c95",
   "metadata": {
    "ExecuteTime": {
     "end_time": "2022-09-18T18:36:43.346713Z",
     "start_time": "2022-09-18T18:36:43.152725Z"
    }
   },
   "outputs": [],
   "source": [
    "# start logging\n",
    "\n",
    "# set location for mlruns\n",
    "mlflow.set_tracking_uri(\"file:D:/Stuff/OneDrive/MLflow\")\n",
    "\n",
    "# set experiment\n",
    "try:\n",
    "    mlflow.set_experiment(\"P1-AnalyzeTrades_f_core\")\n",
    "except:\n",
    "    mlflow.create_experiment(\"P1-AnalyzeTrades_f_core\")\n",
    "\n",
    "mlflow.sklearn.autolog()"
   ]
  },
  {
   "cell_type": "code",
   "execution_count": 14,
   "id": "92fbf85b",
   "metadata": {
    "ExecuteTime": {
     "end_time": "2022-09-18T18:36:43.441714Z",
     "start_time": "2022-09-18T18:36:43.349716Z"
    }
   },
   "outputs": [],
   "source": [
    "## read in data\n",
    "\n",
    "df_XY = pd.read_csv(\"output/e_resultcleaned.csv\")"
   ]
  },
  {
   "cell_type": "code",
   "execution_count": 15,
   "id": "e0ad7819",
   "metadata": {
    "ExecuteTime": {
     "end_time": "2022-09-18T18:36:43.456716Z",
     "start_time": "2022-09-18T18:36:43.446719Z"
    }
   },
   "outputs": [],
   "source": [
    "## clean column names deprecated\n",
    "\n",
    "# cols = list(df_XY.columns)\n",
    "# new_cols = []\n",
    "\n",
    "# for c in cols:\n",
    "#     new_cols.append(\n",
    "#         \"\".join(\n",
    "#             e.replace(\".\", \"pt\")\n",
    "#             for e in c\n",
    "#             if (e.isalnum()) | (e == \"_\") | (e == \"%\") | (e == \".\")\n",
    "#         )\n",
    "#     )\n",
    "\n",
    "# print(f\"cols {new_cols}\")\n",
    "\n",
    "# df_XY.columns = new_cols~~\n",
    "\n",
    "# df_XY.head()"
   ]
  },
  {
   "cell_type": "markdown",
   "id": "915adc67",
   "metadata": {},
   "source": [
    "## variable selection"
   ]
  },
  {
   "cell_type": "code",
   "execution_count": 16,
   "id": "52327226",
   "metadata": {
    "ExecuteTime": {
     "end_time": "2022-09-18T18:36:43.487719Z",
     "start_time": "2022-09-18T18:36:43.463717Z"
    }
   },
   "outputs": [
    {
     "name": "stdout",
     "output_type": "stream",
     "text": [
      "Index(['Unnamed: 0', '%_TO_STOP', '%_TO_TARGET',\n",
      "       'AAII_0_LEVEL_0_REPORTED_DATE', 'AAII_1_LEVEL_0_REPORTED_BULLISH',\n",
      "       'AAII_2_LEVEL_0_REPORTED_NEUTRAL', 'AAII_3_LEVEL_0_REPORTED_BEARISH',\n",
      "       'AAII_4_LEVEL_0_REPORTED_TOTAL', 'AAII_BULLISH_8-WEEK_MOV_AVG',\n",
      "       'AAII_BULLISH_AVERAGE_+ST._DEV.', 'AAII_BULLISH_AVERAGE_-_ST._DEV.',\n",
      "       'AAII_BULLISH_BULL-BEAR_SPREAD', 'AAII_BULLISH_BULLISH_AVERAGE',\n",
      "       'AAII_DATE', 'AAII_S&P_500_WEEKLY_CLOSE', 'AAII_S&P_500_WEEKLY_HIGH',\n",
      "       'AAII_S&P_500_WEEKLY_LOW', 'ACTION', 'AGE', 'AT_PRICE',\n",
      "       'CASH_CHG_(PNL)', 'CATEGORY', 'CLOSEACT', 'CLOSE_DATE', 'CLOSE_PRICE',\n",
      "       'CLOSE_^GSPC', 'CLOSE_^VIX', 'COMMENTS', 'COMMENTS.1', 'COMMISSION',\n",
      "       'COMM_TOT', 'COMPANY_NAME_(IN_ALPHABETICAL_ORDER)', 'CONS_SENT_DATE',\n",
      "       'CONS_SENT_INDEX', 'CURRENT_PRICE', 'DATE', 'DATE_YAHOOFINANCE',\n",
      "       'DAYOFWEEK0MON', 'DAYSTOFYEND', 'EPS1', 'EPS2', 'FILENAME', 'FYEND',\n",
      "       'FYEPSNXT', 'GROWTH_0.5TO0.75', 'LASTUPDATED', 'OPENACT', 'OPEN_DATE',\n",
      "       'OPEN_PRICE', 'OPEN_YEAR', 'PCTRETURN', 'PCT_RET_FINAL', 'PNL', 'PRICE',\n",
      "       'QTYCHG', 'QUANTITY', 'ROIC_(BW_ROA_ROE)', 'STARTDATE', 'STOP',\n",
      "       'SYMBOL', 'TARGET', 'TGT_FWD_P_E', 'TICKER', 'TIME', 'UNNAMED:_0',\n",
      "       'UNNAMED:_0.1', 'UNNAMED:_0.2', 'UNNAMED:_6', 'UNNAMED:_8', 'WEIGHT',\n",
      "       'YEARS_TO_NORMALIZATION'],\n",
      "      dtype='object')\n"
     ]
    }
   ],
   "source": [
    "print(df_XY.columns)"
   ]
  },
  {
   "cell_type": "code",
   "execution_count": 17,
   "id": "e9ec7ce1",
   "metadata": {
    "ExecuteTime": {
     "end_time": "2022-09-18T18:36:43.533715Z",
     "start_time": "2022-09-18T18:36:43.494717Z"
    },
    "lines_to_next_cell": 2
   },
   "outputs": [],
   "source": [
    "target = \"PCT_RET_FINAL\"\n",
    "\n",
    "numeric_features = [\n",
    "    \"TGT_FWD_P_E\",\n",
    "    \"YEARS_TO_NORMALIZATION\",\n",
    "    \"CLOSE_^VIX\",\n",
    "    \"AAII_BULLISH_BULL-BEAR_SPREAD\",\n",
    "    \"%_TO_STOP\",\n",
    "    \"%_TO_TARGET\",\n",
    "    \"GROWTH_0.5TO0.75\",\n",
    "    \"ROIC_(BW_ROA_ROE)\",\n",
    "    \"DAYOFWEEK0MON\",\n",
    "]\n",
    "\n",
    "categorical_features = [\n",
    "    \"OPENACT\",\n",
    "    \"CATEGORY\",\n",
    "]  #   categorical not stable as others captured and this is not stable\n",
    "\n",
    "variables = numeric_features + categorical_features\n",
    "\n",
    "# dtypes = pd.Series(df_XY.dtypes)\n",
    "# selected_vars = dtypes[variables]\n",
    "# varlist = []\n",
    "\n",
    "# cols_num = df_XY.select_dtypes(include=\"number\").columns\n",
    "# idx = 0\n",
    "\n",
    "# # create variable string\n",
    "# for v in variables:\n",
    "#     if idx != 0:\n",
    "#         varlist.append(\" + \")\n",
    "\n",
    "#     # if v not in cols_num:\n",
    "#     #     varlist.append('C(')\n",
    "\n",
    "#     # varlist.append(\"Q('\")\n",
    "#     varlist.append(v)\n",
    "#     # varlist.append(\"')\")\n",
    "\n",
    "#     # if v not in cols_num:\n",
    "#     #     varlist.append(')')\n",
    "\n",
    "#     idx = idx + 1\n",
    "\n",
    "# varstring = \"\".join(varlist)"
   ]
  },
  {
   "cell_type": "code",
   "execution_count": 18,
   "id": "fb8c64b6",
   "metadata": {
    "ExecuteTime": {
     "end_time": "2022-09-18T18:36:43.564717Z",
     "start_time": "2022-09-18T18:36:43.538716Z"
    },
    "lines_to_next_cell": 2
   },
   "outputs": [],
   "source": [
    "## Variables for columns\n",
    "\n",
    "y = df_XY[[target]]\n",
    "X = df_XY[variables]\n",
    "\n",
    "# deprecated\n",
    "# formula =  f\"\"\" {target} ~ 1 + {varstring}\"\"\"\n",
    "# y , X = dmatrices(formula, df_XY, return_type='dataframe')\n",
    "\n",
    "assert X.shape[0] == df_XY.shape[0], \"rows mismatched, probably due to NAs\""
   ]
  },
  {
   "cell_type": "code",
   "execution_count": 19,
   "id": "7e7b3adf",
   "metadata": {
    "ExecuteTime": {
     "end_time": "2022-09-18T18:36:43.626718Z",
     "start_time": "2022-09-18T18:36:43.578718Z"
    }
   },
   "outputs": [],
   "source": [
    "# train test data\n",
    "\n",
    "X_train, X_test, y_train, y_test, XY_train, XY_test = train_test_split(\n",
    "    X, y, df_XY, test_size=0.33, random_state=42\n",
    ")\n",
    "\n",
    "# y..to_numpy().ravel()"
   ]
  },
  {
   "cell_type": "code",
   "execution_count": 20,
   "id": "8bb5229d",
   "metadata": {
    "ExecuteTime": {
     "end_time": "2022-09-18T18:36:43.657718Z",
     "start_time": "2022-09-18T18:36:43.633734Z"
    },
    "lines_to_next_cell": 2
   },
   "outputs": [],
   "source": [
    "## sample tune & run model using hyperopt\n",
    "\n",
    "# from sklearn.model_selection import train_test_split\n",
    "# from sklearn.metrics import mean_absolute_error\n",
    "# from hpsklearn import HyperoptEstimator\n",
    "# from hpsklearn import any_regressor\n",
    "# from hpsklearn import any_preprocessing\n",
    "# from hyperopt import tpe\n",
    "# # load dataset\n",
    "# url = 'https://raw.githubusercontent.com/jbrownlee/Datasets/master/housing.csv'\n",
    "# dataframe = read_csv(url, header=None)\n",
    "# # split into input and output elements\n",
    "# data = dataframe.values\n",
    "# data = data.astype('float32')\n",
    "# X, y = data[:, :-1], data[:, -1]\n",
    "# # split into train and test sets\n",
    "# X_train, X_test, y_train, y_test = train_test_split(X, y, test_size=0.33, random_state=1)\n",
    "# # define search\n",
    "# model = HyperoptEstimator(regressor=any_regressor('reg'), preprocessing=any_preprocessing('pre'), loss_fn=mean_absolute_error, algo=tpe.suggest, max_evals=50, trial_timeout=30)\n",
    "# # perform the search\n",
    "# model.fit(X_train, y_train)\n",
    "# # summarize performance\n",
    "# mae = model.score(X_test, y_test)\n",
    "# print(\"MAE: %.3f\" % mae)\n",
    "# # summarize the best model\n",
    "# print(model.best_model())"
   ]
  },
  {
   "cell_type": "markdown",
   "id": "6440f93f",
   "metadata": {},
   "source": [
    "## support functions"
   ]
  },
  {
   "cell_type": "code",
   "execution_count": 21,
   "id": "6c39cec0",
   "metadata": {
    "ExecuteTime": {
     "end_time": "2022-09-18T18:36:43.889714Z",
     "start_time": "2022-09-18T18:36:43.665722Z"
    }
   },
   "outputs": [],
   "source": [
    "# looks reasonable\n",
    "# https://www.kaggle.com/jpopham91/gini-scoring-simple-and-efficient\n",
    "def gini_normalized(y_true, y_pred, sample_weight=None):\n",
    "    # check and get number of samples\n",
    "    assert (\n",
    "        np.array(y_true).shape == np.array(y_pred).shape\n",
    "    ), \"y_true and y_pred need to have same shape\"\n",
    "    n_samples = np.array(y_true).shape[0]\n",
    "\n",
    "    # sort rows on prediction column\n",
    "    # (from largest to smallest)\n",
    "    if sample_weight == None:\n",
    "        sample_weight = np.ones(n_samples)\n",
    "\n",
    "    arr = np.array([y_true, y_pred, sample_weight]).transpose()\n",
    "    true_order = arr[arr[:, 0].argsort()][::-1, 0]  # true col sorted by true\n",
    "    pred_order = arr[arr[:, 1].argsort()][::-1, 0]  # true col sorted by pred\n",
    "\n",
    "    true_order_wgts = arr[arr[:, 0].argsort()][::-1, 2]\n",
    "    pred_order_wgts = arr[arr[:, 0].argsort()][::-1, 2]\n",
    "\n",
    "    # get Lorenz curves\n",
    "    L_true = np.cumsum(np.multiply(true_order, true_order_wgts)) / np.sum(\n",
    "        np.dot(true_order, true_order_wgts)\n",
    "    )\n",
    "    L_pred = np.cumsum(np.multiply(pred_order, pred_order_wgts)) / np.sum(\n",
    "        np.multiply(pred_order, pred_order_wgts)\n",
    "    )\n",
    "    L_ones = np.multiply(np.linspace(1 / n_samples, 1, n_samples), pred_order_wgts)\n",
    "\n",
    "    # get Gini coefficients (area between curves)\n",
    "    G_true = np.sum(L_ones - L_true)\n",
    "    G_pred = np.sum(L_ones - L_pred)\n",
    "\n",
    "    # normalize to true Gini coefficient\n",
    "    return G_pred / G_true\n",
    "\n",
    "\n",
    "def score_estimator(\n",
    "    estimator,\n",
    "    X_train,\n",
    "    X_test,\n",
    "    df_train,\n",
    "    df_test,\n",
    "    target,\n",
    "    formula,\n",
    "    weights=None,\n",
    "    tweedie_powers=None,\n",
    "):\n",
    "    \"\"\"\n",
    "    Evaluate an estimator on train and test sets with different metrics\n",
    "    Requires active run on mlflow and estimator with .predict method\n",
    "    \"\"\"\n",
    "    from sklearn.metrics import mean_absolute_error, mean_squared_error, auc\n",
    "    from functools import partial\n",
    "    from sklearn.metrics import mean_tweedie_deviance\n",
    "\n",
    "    mlflow.set_tag(\"run_id\", mlflow.active_run().info.run_id)\n",
    "    mlflow.log_params({\"formula\": formula})\n",
    "\n",
    "    metrics = [\n",
    "        # (\"default score\", None),   # Use default scorer if it exists\n",
    "        (\"mean abs. error\", mean_absolute_error),\n",
    "        (\"mean squared error\", mean_squared_error),\n",
    "        (\"gini\", gini_normalized),\n",
    "    ]\n",
    "    if tweedie_powers:\n",
    "        metrics += [\n",
    "            (\n",
    "                \"mean Tweedie dev p={:.4f}\".format(power),\n",
    "                partial(mean_tweedie_deviance, power=power),\n",
    "            )\n",
    "            for power in tweedie_powers\n",
    "        ]\n",
    "\n",
    "    res = {}\n",
    "    for subset_label, X, df in [\n",
    "        (\"train\", X_train, df_train),\n",
    "        (\"test\", X_test, df_test),\n",
    "    ]:\n",
    "        if weights != None:\n",
    "            y, _weights = df[target], df[weights]\n",
    "        else:\n",
    "            y, _weights = df[target], None\n",
    "\n",
    "        if isinstance(estimator, tuple) and len(estimator) == 2:\n",
    "            # Score the model consisting of the product of frequency and\n",
    "            # severity models.\n",
    "            est_freq, est_sev = estimator\n",
    "            y_pred = est_freq.predict(X) * est_sev.predict(X)\n",
    "        elif \"h2o\" in str(type(estimator)):\n",
    "            y_pred = (\n",
    "                estimator.predict(h2o.H2OFrame(X)).as_data_frame().to_numpy().ravel()\n",
    "            )  # ensure 1D array\n",
    "        else:\n",
    "            y_pred = estimator.predict(X)\n",
    "\n",
    "        for score_label, metric in metrics:\n",
    "\n",
    "            if metric is None:\n",
    "                if not hasattr(estimator, \"score\"):\n",
    "                    continue\n",
    "                score = estimator.score(X, y, sample_weight=_weights)\n",
    "            else:\n",
    "                score = metric(y, y_pred, sample_weight=_weights)\n",
    "\n",
    "            res[score_label + \"_\" + subset_label] = score\n",
    "\n",
    "    return res\n",
    "\n",
    "\n",
    "def to_categorical(x):\n",
    "    return x.astype(\"category\")\n",
    "\n",
    "\n",
    "def to_float(x):\n",
    "    return x.astype(float)\n",
    "\n",
    "\n",
    "# def log_w_validate(y_true, y_pred, formula:str = ''):\n",
    "#     \"\"\"validates reg model and log metrics to active mlflow run.\n",
    "#     Requires active mlflow run to wrun\n",
    "\n",
    "#     Args: \\n\n",
    "#         y_true (array): [actual results] \\n\n",
    "#         y_pred (array): [predicted results] \\n\n",
    "#     \"\"\"\n",
    "\n",
    "#     from sklearn import metrics\n",
    "\n",
    "#     mlflow.set_tag('run_id', mlflow.active_run().info.run_id)\n",
    "#     mlflow.log_params({\"formula\":formula})\n",
    "\n",
    "#     test_score_r2 = metrics.r2_score(y_true, y_pred)\n",
    "\n",
    "#     mlflow.log_metric(\"test_r2\", test_score_r2)\n",
    "#     print(f'r2 score {test_score_r2}')\n",
    "\n",
    "#     return"
   ]
  },
  {
   "cell_type": "markdown",
   "id": "1a99ca78",
   "metadata": {},
   "source": [
    "## Model 5 hist boosting w optional tuning"
   ]
  },
  {
   "cell_type": "code",
   "execution_count": 22,
   "id": "13407591",
   "metadata": {
    "ExecuteTime": {
     "end_time": "2022-09-18T18:37:06.994475Z",
     "start_time": "2022-09-18T18:36:43.892715Z"
    },
    "scrolled": true
   },
   "outputs": [
    {
     "name": "stdout",
     "output_type": "stream",
     "text": [
      "Gini 0.426 params {'learning_rate': 0.933696671030419, 'max_depth': 4.0}                                                                                                                                                       \n",
      "Gini 0.347 params {'learning_rate': 0.1679108776458071, 'max_depth': 2.0}                                                                                                                                                      \n",
      "Gini 0.389 params {'learning_rate': 0.5101945776949134, 'max_depth': 2.0}                                                                                                                                                      \n",
      "Gini 0.390 params {'learning_rate': 0.6964002941345321, 'max_depth': 2.0}                                                                                                                                                      \n",
      "Gini 0.348 params {'learning_rate': 0.1895729823767724, 'max_depth': 2.0}                                                                                                                                                      \n",
      "100%|██████████████████████████████████████████████████████████████████████████████████████████████████████████████████████████████████████████████████████████| 5/5 [00:07<00:00,  1.55s/trial, best loss: 0.3472954155801101]"
     ]
    },
    {
     "name": "stderr",
     "output_type": "stream",
     "text": [
      "2022/09/18 14:36:52 WARNING mlflow.utils: Truncated the value of the key `steps`. Truncated value: `[('preprocessor', ColumnTransformer(transformers=[('num',\n",
      "                                 Pipeline(steps=[('to_float',\n",
      "                                                  FunctionTransformer(func=<function to_float at 0x0000018D370294C0>))]),\n",
      "     ...`\n",
      "2022/09/18 14:36:52 WARNING mlflow.utils: Truncated the value of the key `preprocessor`. Truncated value: `ColumnTransformer(transformers=[('num',\n",
      "                                 Pipeline(steps=[('to_float',\n",
      "                                                  FunctionTransformer(func=<function to_float at 0x0000018D370294C0>))]),\n",
      "                       ...`\n",
      "2022/09/18 14:36:52 WARNING mlflow.utils: Truncated the value of the key `estimator`. Truncated value: `HistGradientBoostingRegressor(categorical_features=[False, False, False, False,\n",
      "                                                    False, False, False, False,\n",
      "                                                    False, True, True],\n",
      "               ...`\n",
      "2022/09/18 14:36:52 WARNING mlflow.utils: Truncated the value of the key `preprocessor__transformers`. Truncated value: `[('num', Pipeline(steps=[('to_float',\n",
      "                 FunctionTransformer(func=<function to_float at 0x0000018D370294C0>))]), ['TGT_FWD_P_E', 'YEARS_TO_NORMALIZATION', 'CLOSE_^VIX', 'AAII_BULLISH_BULL-BEAR_SPREAD', '%_TO_STOP', '%_TO_TARGET', 'GR...`\n",
      "2022/09/18 14:36:52 WARNING mlflow.utils: Truncated the value of the key `preprocessor__cat`. Truncated value: `Pipeline(steps=[('to_categorical',\n",
      "                 FunctionTransformer(func=<function to_categorical at 0x0000018D370293A0>)),\n",
      "                ('ordinal',\n",
      "                 OrdinalEncoder(handle_unknown='use_encoded_value',\n",
      "                       ...`\n"
     ]
    },
    {
     "name": "stdout",
     "output_type": "stream",
     "text": [
      "\n",
      "Hyperopt estimated optimum {'learning_rate': 0.1679108776458071, 'max_depth': 2}\n",
      "Binning 0.000 GB of training data: 0.007 s\n",
      "Binning 0.000 GB of validation data: 0.002 s\n",
      "Fitting gradient boosted rounds:\n",
      "[1/100] 1 tree, 4 leaves, max depth = 2, train loss: 0.03597, val loss: 0.04752, in 0.005s\n",
      "[2/100] 1 tree, 4 leaves, max depth = 2, train loss: 0.03545, val loss: 0.04720, in 0.005s\n",
      "[3/100] 1 tree, 4 leaves, max depth = 2, train loss: 0.03493, val loss: 0.04650, in 0.003s\n",
      "[4/100] 1 tree, 4 leaves, max depth = 2, train loss: 0.03461, val loss: 0.04618, in 0.003s\n",
      "[5/100] 1 tree, 4 leaves, max depth = 2, train loss: 0.03427, val loss: 0.04577, in 0.009s\n",
      "[6/100] 1 tree, 4 leaves, max depth = 2, train loss: 0.03408, val loss: 0.04564, in 0.004s\n",
      "[7/100] 1 tree, 4 leaves, max depth = 2, train loss: 0.03383, val loss: 0.04557, in 0.048s\n",
      "[8/100] 1 tree, 4 leaves, max depth = 2, train loss: 0.03369, val loss: 0.04560, in 0.010s\n",
      "[9/100] 1 tree, 4 leaves, max depth = 2, train loss: 0.03350, val loss: 0.04533, in 0.028s\n",
      "[10/100] 1 tree, 4 leaves, max depth = 2, train loss: 0.03330, val loss: 0.04529, in 0.010s\n",
      "[11/100] 1 tree, 4 leaves, max depth = 2, train loss: 0.03305, val loss: 0.04518, in 0.020s\n",
      "[12/100] 1 tree, 4 leaves, max depth = 2, train loss: 0.03290, val loss: 0.04513, in 0.016s\n",
      "[13/100] 1 tree, 4 leaves, max depth = 2, train loss: 0.03280, val loss: 0.04508, in 0.011s\n",
      "[14/100] 1 tree, 4 leaves, max depth = 2, train loss: 0.03269, val loss: 0.04504, in 0.008s\n",
      "[15/100] 1 tree, 4 leaves, max depth = 2, train loss: 0.03253, val loss: 0.04499, in 0.006s\n",
      "[16/100] 1 tree, 4 leaves, max depth = 2, train loss: 0.03245, val loss: 0.04490, in 0.005s\n",
      "[17/100] 1 tree, 4 leaves, max depth = 2, train loss: 0.03232, val loss: 0.04488, in 0.004s\n",
      "[18/100] 1 tree, 4 leaves, max depth = 2, train loss: 0.03226, val loss: 0.04485, in 0.004s\n",
      "[19/100] 1 tree, 4 leaves, max depth = 2, train loss: 0.03219, val loss: 0.04482, in 0.004s\n",
      "[20/100] 1 tree, 4 leaves, max depth = 2, train loss: 0.03200, val loss: 0.04448, in 0.005s\n",
      "[21/100] 1 tree, 3 leaves, max depth = 2, train loss: 0.03193, val loss: 0.04441, in 0.006s\n",
      "[22/100] 1 tree, 4 leaves, max depth = 2, train loss: 0.03183, val loss: 0.04443, in 0.003s\n",
      "[23/100] 1 tree, 4 leaves, max depth = 2, train loss: 0.03177, val loss: 0.04445, in 0.014s\n",
      "[24/100] 1 tree, 4 leaves, max depth = 2, train loss: 0.03172, val loss: 0.04440, in 0.006s\n",
      "[25/100] 1 tree, 4 leaves, max depth = 2, train loss: 0.03160, val loss: 0.04415, in 0.008s\n",
      "[26/100] 1 tree, 4 leaves, max depth = 2, train loss: 0.03146, val loss: 0.04406, in 0.005s\n",
      "[27/100] 1 tree, 4 leaves, max depth = 2, train loss: 0.03135, val loss: 0.04406, in 0.006s\n",
      "[28/100] 1 tree, 3 leaves, max depth = 2, train loss: 0.03129, val loss: 0.04400, in 0.003s\n",
      "[29/100] 1 tree, 4 leaves, max depth = 2, train loss: 0.03120, val loss: 0.04381, in 0.003s\n",
      "[30/100] 1 tree, 4 leaves, max depth = 2, train loss: 0.03115, val loss: 0.04387, in 0.006s\n",
      "[31/100] 1 tree, 4 leaves, max depth = 2, train loss: 0.03111, val loss: 0.04392, in 0.004s\n",
      "[32/100] 1 tree, 4 leaves, max depth = 2, train loss: 0.03101, val loss: 0.04385, in 0.005s\n",
      "[33/100] 1 tree, 4 leaves, max depth = 2, train loss: 0.03090, val loss: 0.04382, in 0.003s\n",
      "[34/100] 1 tree, 3 leaves, max depth = 2, train loss: 0.03085, val loss: 0.04378, in 0.004s\n",
      "[35/100] 1 tree, 4 leaves, max depth = 2, train loss: 0.03074, val loss: 0.04370, in 0.008s\n",
      "[36/100] 1 tree, 4 leaves, max depth = 2, train loss: 0.03064, val loss: 0.04354, in 0.003s\n",
      "[37/100] 1 tree, 4 leaves, max depth = 2, train loss: 0.03055, val loss: 0.04342, in 0.005s\n",
      "[38/100] 1 tree, 4 leaves, max depth = 2, train loss: 0.03047, val loss: 0.04344, in 0.010s\n",
      "[39/100] 1 tree, 3 leaves, max depth = 2, train loss: 0.03043, val loss: 0.04343, in 0.005s\n",
      "[40/100] 1 tree, 3 leaves, max depth = 2, train loss: 0.03039, val loss: 0.04340, in 0.004s\n",
      "[41/100] 1 tree, 4 leaves, max depth = 2, train loss: 0.03034, val loss: 0.04334, in 0.004s\n",
      "[42/100] 1 tree, 4 leaves, max depth = 2, train loss: 0.03031, val loss: 0.04335, in 0.007s\n",
      "[43/100] 1 tree, 4 leaves, max depth = 2, train loss: 0.03027, val loss: 0.04334, in 0.003s\n",
      "[44/100] 1 tree, 4 leaves, max depth = 2, train loss: 0.03017, val loss: 0.04315, in 0.004s\n",
      "[45/100] 1 tree, 4 leaves, max depth = 2, train loss: 0.03011, val loss: 0.04304, in 0.006s\n",
      "[46/100] 1 tree, 4 leaves, max depth = 2, train loss: 0.03001, val loss: 0.04295, in 0.004s\n",
      "[47/100] 1 tree, 4 leaves, max depth = 2, train loss: 0.02996, val loss: 0.04295, in 0.003s\n",
      "[48/100] 1 tree, 4 leaves, max depth = 2, train loss: 0.02989, val loss: 0.04291, in 0.004s\n",
      "[49/100] 1 tree, 4 leaves, max depth = 2, train loss: 0.02986, val loss: 0.04289, in 0.003s\n",
      "[50/100] 1 tree, 4 leaves, max depth = 2, train loss: 0.02979, val loss: 0.04287, in 0.007s\n",
      "[51/100] 1 tree, 4 leaves, max depth = 2, train loss: 0.02975, val loss: 0.04289, in 0.005s\n",
      "[52/100] 1 tree, 4 leaves, max depth = 2, train loss: 0.02972, val loss: 0.04290, in 0.003s\n",
      "[53/100] 1 tree, 4 leaves, max depth = 2, train loss: 0.02962, val loss: 0.04281, in 0.004s\n",
      "[54/100] 1 tree, 4 leaves, max depth = 2, train loss: 0.02956, val loss: 0.04251, in 0.005s\n",
      "[55/100] 1 tree, 4 leaves, max depth = 2, train loss: 0.02953, val loss: 0.04253, in 0.004s\n",
      "[56/100] 1 tree, 3 leaves, max depth = 2, train loss: 0.02951, val loss: 0.04254, in 0.003s\n",
      "[57/100] 1 tree, 4 leaves, max depth = 2, train loss: 0.02946, val loss: 0.04247, in 0.004s\n",
      "[58/100] 1 tree, 3 leaves, max depth = 2, train loss: 0.02944, val loss: 0.04246, in 0.003s\n",
      "[59/100] 1 tree, 3 leaves, max depth = 2, train loss: 0.02941, val loss: 0.04243, in 0.003s\n",
      "[60/100] 1 tree, 4 leaves, max depth = 2, train loss: 0.02935, val loss: 0.04233, in 0.003s\n",
      "[61/100] 1 tree, 4 leaves, max depth = 2, train loss: 0.02922, val loss: 0.04226, in 0.004s\n",
      "[62/100] 1 tree, 4 leaves, max depth = 2, train loss: 0.02915, val loss: 0.04218, in 0.004s\n",
      "[63/100] 1 tree, 4 leaves, max depth = 2, train loss: 0.02911, val loss: 0.04217, in 0.004s\n",
      "[64/100] 1 tree, 4 leaves, max depth = 2, train loss: 0.02904, val loss: 0.04220, in 0.008s\n",
      "[65/100] 1 tree, 4 leaves, max depth = 2, train loss: 0.02900, val loss: 0.04221, in 0.003s\n",
      "[66/100] 1 tree, 4 leaves, max depth = 2, train loss: 0.02897, val loss: 0.04224, in 0.003s\n",
      "[67/100] 1 tree, 4 leaves, max depth = 2, train loss: 0.02893, val loss: 0.04225, in 0.005s\n",
      "[68/100] 1 tree, 4 leaves, max depth = 2, train loss: 0.02888, val loss: 0.04224, in 0.004s\n",
      "[69/100] 1 tree, 3 leaves, max depth = 2, train loss: 0.02887, val loss: 0.04225, in 0.003s\n",
      "[70/100] 1 tree, 4 leaves, max depth = 2, train loss: 0.02880, val loss: 0.04219, in 0.003s\n",
      "[71/100] 1 tree, 3 leaves, max depth = 2, train loss: 0.02879, val loss: 0.04218, in 0.004s\n",
      "[72/100] 1 tree, 3 leaves, max depth = 2, train loss: 0.02877, val loss: 0.04215, in 0.010s\n",
      "[73/100] 1 tree, 4 leaves, max depth = 2, train loss: 0.02873, val loss: 0.04212, in 0.005s\n",
      "[74/100] 1 tree, 3 leaves, max depth = 2, train loss: 0.02871, val loss: 0.04214, in 0.004s\n",
      "[75/100] 1 tree, 4 leaves, max depth = 2, train loss: 0.02863, val loss: 0.04211, in 0.005s\n",
      "[76/100] 1 tree, 4 leaves, max depth = 2, train loss: 0.02860, val loss: 0.04211, in 0.003s\n",
      "[77/100] 1 tree, 4 leaves, max depth = 2, train loss: 0.02857, val loss: 0.04217, in 0.003s\n",
      "[78/100] 1 tree, 4 leaves, max depth = 2, train loss: 0.02851, val loss: 0.04220, in 0.003s\n",
      "[79/100] 1 tree, 4 leaves, max depth = 2, train loss: 0.02846, val loss: 0.04212, in 0.003s\n",
      "[80/100] 1 tree, 4 leaves, max depth = 2, train loss: 0.02836, val loss: 0.04204, in 0.004s\n",
      "[81/100] 1 tree, 4 leaves, max depth = 2, train loss: 0.02835, val loss: 0.04203, in 0.008s\n",
      "[82/100] 1 tree, 3 leaves, max depth = 2, train loss: 0.02832, val loss: 0.04204, in 0.004s\n",
      "[83/100] 1 tree, 3 leaves, max depth = 2, train loss: 0.02831, val loss: 0.04203, in 0.003s\n",
      "[84/100] 1 tree, 4 leaves, max depth = 2, train loss: 0.02828, val loss: 0.04203, in 0.004s\n",
      "[85/100] 1 tree, 4 leaves, max depth = 2, train loss: 0.02824, val loss: 0.04201, in 0.004s\n",
      "[86/100] 1 tree, 4 leaves, max depth = 2, train loss: 0.02822, val loss: 0.04203, in 0.003s\n",
      "[87/100] 1 tree, 4 leaves, max depth = 2, train loss: 0.02819, val loss: 0.04204, in 0.004s\n"
     ]
    },
    {
     "name": "stdout",
     "output_type": "stream",
     "text": [
      "[88/100] 1 tree, 4 leaves, max depth = 2, train loss: 0.02815, val loss: 0.04184, in 0.004s\n",
      "[89/100] 1 tree, 4 leaves, max depth = 2, train loss: 0.02812, val loss: 0.04178, in 0.006s\n",
      "[90/100] 1 tree, 3 leaves, max depth = 2, train loss: 0.02811, val loss: 0.04180, in 0.006s\n",
      "[91/100] 1 tree, 3 leaves, max depth = 2, train loss: 0.02810, val loss: 0.04178, in 0.003s\n",
      "[92/100] 1 tree, 4 leaves, max depth = 2, train loss: 0.02806, val loss: 0.04159, in 0.003s\n",
      "[93/100] 1 tree, 4 leaves, max depth = 2, train loss: 0.02802, val loss: 0.04162, in 0.008s\n",
      "[94/100] 1 tree, 4 leaves, max depth = 2, train loss: 0.02798, val loss: 0.04158, in 0.006s\n",
      "[95/100] 1 tree, 4 leaves, max depth = 2, train loss: 0.02795, val loss: 0.04144, in 0.004s\n",
      "[96/100] 1 tree, 4 leaves, max depth = 2, train loss: 0.02790, val loss: 0.04138, in 0.004s\n",
      "[97/100] 1 tree, 3 leaves, max depth = 2, train loss: 0.02789, val loss: 0.04138, in 0.005s\n",
      "[98/100] 1 tree, 4 leaves, max depth = 2, train loss: 0.02785, val loss: 0.04135, in 0.008s\n",
      "[99/100] 1 tree, 4 leaves, max depth = 2, train loss: 0.02781, val loss: 0.04133, in 0.004s\n",
      "[100/100] 1 tree, 4 leaves, max depth = 2, train loss: 0.02779, val loss: 0.04118, in 0.003s\n",
      "Fit 100 trees in 0.618 s, (383 total leaves)\n",
      "Time spent computing histograms: 0.031s\n",
      "Time spent finding best splits:  0.021s\n",
      "Time spent applying splits:      0.087s\n",
      "Time spent predicting:           0.018s\n"
     ]
    },
    {
     "name": "stderr",
     "output_type": "stream",
     "text": [
      "2022/09/18 14:36:53 WARNING mlflow.utils.autologging_utils: MLflow autologging encountered a warning: \"C:\\Users\\SW\\.virtualenvs\\P1-AnalyzeTrades-FvHLA50l\\lib\\site-packages\\mlflow\\models\\signature.py:129: UserWarning: Hint: Inferred schema contains integer column(s). Integer columns in Python cannot represent missing values. If your input data contains missing values at inference time, it will be encoded as floats and will cause a schema enforcement error. The best way to avoid this problem is to infer the model schema based on a realistic data sample (training dataset) that includes missing values. Alternatively, you can declare integer columns as doubles (float64) whenever these columns may have missing values. See `Handling Integers With Missing Values <https://www.mlflow.org/docs/latest/models.html#handling-integers-with-missing-values>`_ for more details.\"\n",
      "2022/09/18 14:37:00 WARNING mlflow.utils.autologging_utils: MLflow autologging encountered a warning: \"C:\\Users\\SW\\.virtualenvs\\P1-AnalyzeTrades-FvHLA50l\\lib\\site-packages\\_distutils_hack\\__init__.py:33: UserWarning: Setuptools is replacing distutils.\"\n"
     ]
    },
    {
     "name": "stdout",
     "output_type": "stream",
     "text": [
      "runid = 41976a2fd34f4c6cb4cc4ad35cb84a53\n"
     ]
    }
   ],
   "source": [
    "mlflow.end_run()\n",
    "mlflow.start_run(run_name=\"sklearn_hgbm\")\n",
    "\n",
    "numeric_transformer = Pipeline(\n",
    "    steps=[\n",
    "        (\"to_float\", FunctionTransformer(func=to_float)),\n",
    "    ]\n",
    ")\n",
    "\n",
    "categorical_transformer = Pipeline(\n",
    "    steps=[\n",
    "        (\"to_categorical\", FunctionTransformer(func=to_categorical)),\n",
    "        (\n",
    "            \"ordinal\",\n",
    "            OrdinalEncoder(handle_unknown=\"use_encoded_value\", unknown_value=np.nan),\n",
    "        ),\n",
    "    ]\n",
    ")\n",
    "\n",
    "# based on variable order\n",
    "categorical_mask = [False] * len(numeric_features) + [True] * len(categorical_features)\n",
    "\n",
    "preprocessor = ColumnTransformer(\n",
    "    transformers=[\n",
    "        (\"num\", numeric_transformer, numeric_features),\n",
    "        (\"cat\", categorical_transformer, categorical_features),\n",
    "    ],\n",
    "    remainder=\"drop\",\n",
    ")\n",
    "\n",
    "\n",
    "# tuning\n",
    "if retune:\n",
    "\n",
    "    func_f = importlib.import_module(\"P1-AnalyzeTrades_f_buildmodel_func\")\n",
    "\n",
    "    gini_scorer = make_scorer(func_f.gini_sklearn, greater_is_better=True)\n",
    "\n",
    "    # use hyperopt package with to better search\n",
    "    # https://github.com/hyperopt/hyperopt/wiki/FMin\n",
    "    # use userdefined Gini, as it measures differentiation more\n",
    "    def objective_gbr(params):\n",
    "        \"objective_gbr function for hyper opt, params is dict of params for mdl\"\n",
    "        mlflow.start_run(nested=True)\n",
    "        parameters = {}\n",
    "        for k in params:\n",
    "            parameters[k] = params[k]\n",
    "        mdl = Pipeline(\n",
    "            steps=[\n",
    "                (\"preprocessor\", preprocessor),\n",
    "                (\n",
    "                    \"estimator\",\n",
    "                    HistGradientBoostingRegressor(\n",
    "                        random_state=0,\n",
    "                        **parameters,\n",
    "                        categorical_features=categorical_mask,\n",
    "                    ),\n",
    "                ),\n",
    "            ]\n",
    "        )\n",
    "        score = cross_val_score(\n",
    "            mdl, X_train, y_train.squeeze(), scoring=gini_scorer, cv=5\n",
    "        ).mean()\n",
    "        print(\"Gini {:.3f} params {}\".format(score, parameters))\n",
    "        mlflow.end_run()\n",
    "        return score\n",
    "\n",
    "    # need to match estimator\n",
    "    space = {\n",
    "        # low # high # number of choices\n",
    "        \"learning_rate\": hp.uniform(\"learning_rate\", 0.1, 1),\n",
    "        \"max_depth\": hp.quniform(\"max_depth\", 2, 4, 2),\n",
    "    }\n",
    "\n",
    "    best_params = fmin(fn=objective_gbr, space=space, algo=tpe.suggest, max_evals=5)\n",
    "\n",
    "    for key in best_params.keys():\n",
    "        if int(best_params[key]) == best_params[key]:\n",
    "            best_params[key] = int(best_params[key])\n",
    "\n",
    "    print(\"Hyperopt estimated optimum {}\".format(best_params))\n",
    "\n",
    "else:\n",
    "    best_params = {\"max_depth\": 2}\n",
    "\n",
    "mdl = Pipeline(\n",
    "    steps=[\n",
    "        (\"preprocessor\", preprocessor),\n",
    "        (\n",
    "            \"estimator\",\n",
    "            HistGradientBoostingRegressor(\n",
    "                random_state=0,\n",
    "                **best_params,\n",
    "                categorical_features=categorical_mask,\n",
    "                early_stopping=True,\n",
    "                validation_fraction=0.25,\n",
    "                verbose=True,\n",
    "            ),\n",
    "        ),\n",
    "    ]\n",
    ")\n",
    "# reg = GradientBoostingRegressor(random_state=0)\n",
    "mdl.fit(X_train, y_train.squeeze(), estimator__sample_weight=XY_train[\"WEIGHT\"])\n",
    "\n",
    "# log with validation\n",
    "# log_w_validate(y_test, y_pred, formula)\n",
    "res = score_estimator(mdl, X_train, X_test, XY_train, XY_test, target, \"\")\n",
    "\n",
    "mlflow.log_metrics(res)\n",
    "mlflow.set_tag(\"target\", target)\n",
    "\n",
    "# addition artifacts\n",
    "# visualize a single tree\n",
    "# Get a tree\n",
    "# sub_tree_1 = reg.estimators_[0, 0]  # pull first 1 estimator, actual regressor vs array\n",
    "\n",
    "# tree.plot_tree(sub_tree_1, feature_names=list(X_train.columns), filled=True, fontsize=7)\n",
    "\n",
    "# plt.tight_layout()\n",
    "# plt.savefig(\"tree_plot1.png\", bbox_inches=\"tight\")\n",
    "# plt.show()\n",
    "\n",
    "# mlflow.log_artifact(\"tree_plot1.png\")\n",
    "\n",
    "# save requirements\n",
    "os.system(\"pipenv lock --keep-outdated -d -r > output/requirements.txt\")\n",
    "mlflow.log_artifact(\"output/requirements.txt\")\n",
    "\n",
    "# save categorical dict values\n",
    "cat_dict = {}\n",
    "for c in categorical_features:\n",
    "    cat_dict[c] = list(X_train[c].unique())\n",
    "\n",
    "with open(f\"cat_dict.pkl\", \"wb\") as handle:\n",
    "    dill.dump(cat_dict, handle, recurse=True)\n",
    "\n",
    "mlflow.log_artifact(f\"cat_dict.pkl\")\n",
    "\n",
    "os.remove(f\"cat_dict.pkl\")\n",
    "\n",
    "\n",
    "print(f\"runid = {mlflow.active_run().info.run_id}\")\n",
    "\n",
    "mlflow.end_run()"
   ]
  },
  {
   "cell_type": "markdown",
   "id": "cdef986e",
   "metadata": {},
   "source": [
    "## SHAP test"
   ]
  },
  {
   "cell_type": "code",
   "execution_count": 23,
   "id": "c74e5b3a",
   "metadata": {
    "ExecuteTime": {
     "end_time": "2022-09-18T18:37:09.455526Z",
     "start_time": "2022-09-18T18:37:06.999477Z"
    }
   },
   "outputs": [
    {
     "data": {
      "image/png": "[encoded data removed]",
      "text/plain": [
       "<Figure size 576x396 with 2 Axes>"
      ]
     },
     "metadata": {
      "needs_background": "light"
     },
     "output_type": "display_data"
    },
    {
     "data": {
      "image/png": "[encoded data removed]",
      "text/plain": [
       "<Figure size 432x288 with 3 Axes>"
      ]
     },
     "metadata": {
      "needs_background": "light"
     },
     "output_type": "display_data"
    },
    {
     "data": {
      "image/png": "[encoded data removed]",
      "text/plain": [
       "<Figure size 576x468 with 3 Axes>"
      ]
     },
     "metadata": {},
     "output_type": "display_data"
    }
   ],
   "source": [
    "explainer = shap.Explainer(mdl[-1])\n",
    "\n",
    "# fix save expected value\n",
    "if len(explainer.expected_value.shape) > 0:\n",
    "    ev = explainer.expected_value[0]\n",
    "    explainer.expected_value = ev\n",
    "\n",
    "shap_obj = explainer(mdl[0].transform(X_train))\n",
    "\n",
    "\n",
    "var = \"CATEGORY\"\n",
    "\n",
    "## fix shap_obj, requires column transformer in step position 0 ,\n",
    "## categorical in position 1\n",
    "\n",
    "\n",
    "# def update_shap_obj(shap_obj, X_train, encoder):\n",
    "\n",
    "shap_obj.feature_names = list(X_train.columns)\n",
    "categorical_names = list(X_train.select_dtypes(include=[\"object\"]).columns)\n",
    "col_idx = list(np.where(np.isin(shap_obj.feature_names, categorical_names))[0])\n",
    "\n",
    "shap_cat = copy.deepcopy(shap_obj)\n",
    "shap_cat.data = np.array(shap_obj.data, dtype=\"object\")\n",
    "res_arr = (\n",
    "    mdl[0]\n",
    "    .transformers_[1][1][1]\n",
    "    .inverse_transform(\n",
    "        pd.DataFrame(shap_cat.data[:, col_idx], columns=[categorical_names])\n",
    "    )\n",
    ")\n",
    "for i, loc in enumerate(col_idx):\n",
    "    shap_cat.data[:, loc] = res_arr[:, i]\n",
    "\n",
    "# new_dtype = \"object\"\n",
    "# res_arr.astype(\n",
    "#     [(col, new_dtype) if d[0] in categorical_names else d for d in res_arr.dtype.descr]\n",
    "# )\n",
    "\n",
    "# col_idx = shap_obj.feature_names.index(var)\n",
    "# ord_encode_idx = mdl[0].transformers_[1][2].index(var)\n",
    "\n",
    "shap.plots.beeswarm(shap_cat)\n",
    "fig, ax = plt.subplots()\n",
    "\n",
    "shap.plots.scatter(shap_obj[:, var], ax=ax, show=False, color=shap_obj)\n",
    "if var in categorical_names:\n",
    "    orig_list = ax.get_xticks()\n",
    "    new_list = np.insert(\n",
    "        mdl[0].transformers_[1][1][1].categories_[categorical_names.index(var)],\n",
    "        0,\n",
    "        \"Unknown\",\n",
    "    )\n",
    "\n",
    "    for i in range(len(orig_list) - len(new_list)):\n",
    "        new_list = np.append(new_list, orig_list[i + len(new_list)])\n",
    "\n",
    "    ax.set_xticks(orig_list)\n",
    "    ax.set_xticklabels(new_list)\n",
    "\n",
    "plt.show()\n",
    "\n",
    "shap.plots.waterfall(shap_cat[0])"
   ]
  },
  {
   "cell_type": "code",
   "execution_count": 24,
   "id": "831a4eb6",
   "metadata": {
    "ExecuteTime": {
     "end_time": "2022-09-18T18:37:09.471522Z",
     "start_time": "2022-09-18T18:37:09.458521Z"
    }
   },
   "outputs": [],
   "source": [
    "## placeholder"
   ]
  }
 ],
 "metadata": {
  "jupytext": {
   "cell_metadata_filter": "-all",
   "formats": "auto:percent,ipynb",
   "notebook_metadata_filter": "-all"
  },
  "kernelspec": {
   "display_name": "p1analyzetrades",
   "language": "python",
   "name": "p1analyzetrades"
  },
  "language_info": {
   "codemirror_mode": {
    "name": "ipython",
    "version": 3
   },
   "file_extension": ".py",
   "mimetype": "text/x-python",
   "name": "python",
   "nbconvert_exporter": "python",
   "pygments_lexer": "ipython3",
   "version": "3.9.10"
  },
  "toc": {
   "base_numbering": 1,
   "nav_menu": {},
   "number_sections": true,
   "sideBar": true,
   "skip_h1_title": false,
   "title_cell": "Table of Contents",
   "title_sidebar": "Contents",
   "toc_cell": false,
   "toc_position": {
    "height": "calc(100% - 180px)",
    "left": "10px",
    "top": "150px",
    "width": "384px"
   },
   "toc_section_display": true,
   "toc_window_display": true
  },
  "varInspector": {
   "cols": {
    "lenName": 16,
    "lenType": 16,
    "lenVar": 40
   },
   "kernels_config": {
    "python": {
     "delete_cmd_postfix": "",
     "delete_cmd_prefix": "del ",
     "library": "var_list.py",
     "varRefreshCmd": "print(var_dic_list())"
    },
    "r": {
     "delete_cmd_postfix": ") ",
     "delete_cmd_prefix": "rm(",
     "library": "var_list.r",
     "varRefreshCmd": "cat(var_dic_list()) "
    }
   },
   "types_to_exclude": [
    "module",
    "function",
    "builtin_function_or_method",
    "instance",
    "_Feature"
   ],
   "window_display": true
  }
 },
 "nbformat": 4,
 "nbformat_minor": 5
}
