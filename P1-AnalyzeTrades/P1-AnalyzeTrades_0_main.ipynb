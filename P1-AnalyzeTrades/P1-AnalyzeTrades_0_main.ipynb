{
 "cells": [
  {
   "cell_type": "markdown",
   "id": "d50c7066",
   "metadata": {},
   "source": [
    "# Overall\n",
    "See README.md for details\n"
   ]
  },
  {
   "cell_type": "markdown",
   "id": "e23d8464",
   "metadata": {
    "toc": true
   },
   "source": [
    "<h1>Table of Contents<span class=\"tocSkip\"></span></h1>\n",
    "<div class=\"toc\"><ul class=\"toc-item\"><li><span><a href=\"#Overall\" data-toc-modified-id=\"Overall-1\"><span class=\"toc-item-num\">1&nbsp;&nbsp;</span>Overall</a></span><ul class=\"toc-item\"><li><span><a href=\"#imports\" data-toc-modified-id=\"imports-1.1\"><span class=\"toc-item-num\">1.1&nbsp;&nbsp;</span>imports</a></span></li><li><span><a href=\"#run-notebooks\" data-toc-modified-id=\"run-notebooks-1.2\"><span class=\"toc-item-num\">1.2&nbsp;&nbsp;</span>run notebooks</a></span></li><li><span><a href=\"#build-models\" data-toc-modified-id=\"build-models-1.3\"><span class=\"toc-item-num\">1.3&nbsp;&nbsp;</span>build models</a></span></li></ul></li></ul></div>"
   ]
  },
  {
   "cell_type": "markdown",
   "id": "36a66b4c",
   "metadata": {},
   "source": [
    "## imports"
   ]
  },
  {
   "cell_type": "code",
   "execution_count": 2,
   "id": "1d76a92a",
   "metadata": {
    "ExecuteTime": {
     "end_time": "2022-07-15T06:19:37.428345Z",
     "start_time": "2022-07-15T06:19:37.413348Z"
    }
   },
   "outputs": [],
   "source": [
    "import jupyter_black\n",
    "\n",
    "jupyter_black.load(\n",
    "    lab=False,\n",
    ")"
   ]
  },
  {
   "cell_type": "code",
   "execution_count": 3,
   "id": "f9d98e41",
   "metadata": {
    "ExecuteTime": {
     "end_time": "2022-07-15T06:19:41.233383Z",
     "start_time": "2022-07-15T06:19:40.708359Z"
    }
   },
   "outputs": [],
   "source": [
    "import papermill as pm"
   ]
  },
  {
   "cell_type": "code",
   "execution_count": 2,
   "id": "325ac4be",
   "metadata": {
    "ExecuteTime": {
     "end_time": "2022-07-15T00:46:43.768741Z",
     "start_time": "2022-07-15T00:46:43.755742Z"
    }
   },
   "outputs": [],
   "source": [
    "pnl_notebooks = [\n",
    "    \"P1-AnalyzeTrades_a_tradelog.ipynb\",\n",
    "    \"P1-AnalyzeTrades_b_add_attr.ipynb\",\n",
    "    \"P1-AnalyzeTrades_c_add_attr2.ipynb\",\n",
    "    \"P1-AnalyzeTrades_d_exploredata.ipynb\",\n",
    "    \"P1-AnalyzeTrades_e_feateng.ipynb\",\n",
    "]"
   ]
  },
  {
   "cell_type": "markdown",
   "id": "8dbebbc4",
   "metadata": {},
   "source": [
    "## run notebooks"
   ]
  },
  {
   "cell_type": "code",
   "execution_count": 3,
   "id": "cc572019",
   "metadata": {
    "ExecuteTime": {
     "end_time": "2022-07-15T00:47:24.073428Z",
     "start_time": "2022-07-15T00:46:43.775750Z"
    },
    "lines_to_next_cell": 2,
    "scrolled": true
   },
   "outputs": [
    {
     "data": {
      "application/vnd.jupyter.widget-view+json": {
       "model_id": "1a7a4020aa124ccea48e95553782d8e9",
       "version_major": 2,
       "version_minor": 0
      },
      "text/plain": [
       "Executing:   0%|          | 0/21 [00:00<?, ?cell/s]"
      ]
     },
     "metadata": {},
     "output_type": "display_data"
    },
    {
     "data": {
      "application/vnd.jupyter.widget-view+json": {
       "model_id": "fd08cb5b0e364b8c8b4c5d41d93a97dc",
       "version_major": 2,
       "version_minor": 0
      },
      "text/plain": [
       "Executing:   0%|          | 0/17 [00:00<?, ?cell/s]"
      ]
     },
     "metadata": {},
     "output_type": "display_data"
    },
    {
     "data": {
      "application/vnd.jupyter.widget-view+json": {
       "model_id": "ac99559678f842f3bf726277efc84336",
       "version_major": 2,
       "version_minor": 0
      },
      "text/plain": [
       "Executing:   0%|          | 0/10 [00:00<?, ?cell/s]"
      ]
     },
     "metadata": {},
     "output_type": "display_data"
    },
    {
     "data": {
      "application/vnd.jupyter.widget-view+json": {
       "model_id": "76b28a33e96646d2b38a028488bd7d49",
       "version_major": 2,
       "version_minor": 0
      },
      "text/plain": [
       "Executing:   0%|          | 0/7 [00:00<?, ?cell/s]"
      ]
     },
     "metadata": {},
     "output_type": "display_data"
    },
    {
     "data": {
      "application/vnd.jupyter.widget-view+json": {
       "model_id": "cd401f66338346c390937196178c2ce7",
       "version_major": 2,
       "version_minor": 0
      },
      "text/plain": [
       "Executing:   0%|          | 0/22 [00:00<?, ?cell/s]"
      ]
     },
     "metadata": {},
     "output_type": "display_data"
    }
   ],
   "source": [
    "for nb in pnl_notebooks:\n",
    "    print(f'running {nb}')\n",
    "    output_temp = nb.split('.')[0] + \"_output.\" + nb.split('.')[1]\n",
    "    _ = pm.execute_notebook(nb, output_path= output_temp )"
   ]
  },
  {
   "cell_type": "markdown",
   "id": "72e548c5",
   "metadata": {},
   "source": [
    "## build models"
   ]
  },
  {
   "cell_type": "code",
   "execution_count": 4,
   "id": "37ad2a84",
   "metadata": {
    "ExecuteTime": {
     "end_time": "2022-07-15T00:47:24.088431Z",
     "start_time": "2022-07-15T00:47:24.078430Z"
    }
   },
   "outputs": [],
   "source": [
    "# typically run manually\n",
    "# f notebooks and later"
   ]
  }
 ],
 "metadata": {
  "jupytext": {
   "formats": "py:percent,ipynb"
  },
  "kernelspec": {
   "display_name": "p1analyzetrades",
   "language": "python",
   "name": "p1analyzetrades"
  },
  "language_info": {
   "codemirror_mode": {
    "name": "ipython",
    "version": 3
   },
   "file_extension": ".py",
   "mimetype": "text/x-python",
   "name": "python",
   "nbconvert_exporter": "python",
   "pygments_lexer": "ipython3",
   "version": "3.9.10"
  },
  "toc": {
   "base_numbering": 1,
   "nav_menu": {},
   "number_sections": true,
   "sideBar": true,
   "skip_h1_title": false,
   "title_cell": "Table of Contents",
   "title_sidebar": "Contents",
   "toc_cell": true,
   "toc_position": {},
   "toc_section_display": true,
   "toc_window_display": true
  },
  "varInspector": {
   "cols": {
    "lenName": 16,
    "lenType": 16,
    "lenVar": 40
   },
   "kernels_config": {
    "python": {
     "delete_cmd_postfix": "",
     "delete_cmd_prefix": "del ",
     "library": "var_list.py",
     "varRefreshCmd": "print(var_dic_list())"
    },
    "r": {
     "delete_cmd_postfix": ") ",
     "delete_cmd_prefix": "rm(",
     "library": "var_list.r",
     "varRefreshCmd": "cat(var_dic_list()) "
    }
   },
   "position": {
    "height": "526.844px",
    "left": "1558px",
    "right": "20px",
    "top": "120px",
    "width": "342px"
   },
   "types_to_exclude": [
    "module",
    "function",
    "builtin_function_or_method",
    "instance",
    "_Feature"
   ],
   "window_display": true
  }
 },
 "nbformat": 4,
 "nbformat_minor": 5
}
