{
 "cells": [
  {
   "cell_type": "markdown",
   "id": "d50c7066",
   "metadata": {},
   "source": [
    "# Overall\n",
    "See README.md for details\n"
   ]
  },
  {
   "cell_type": "markdown",
   "id": "e23d8464",
   "metadata": {
    "toc": true
   },
   "source": [
    "<h1>Table of Contents<span class=\"tocSkip\"></span></h1>\n",
    "<div class=\"toc\"><ul class=\"toc-item\"><li><span><a href=\"#Overall\" data-toc-modified-id=\"Overall-1\"><span class=\"toc-item-num\">1&nbsp;&nbsp;</span>Overall</a></span><ul class=\"toc-item\"><li><span><a href=\"#imports\" data-toc-modified-id=\"imports-1.1\"><span class=\"toc-item-num\">1.1&nbsp;&nbsp;</span>imports</a></span></li><li><span><a href=\"#run-notebooks\" data-toc-modified-id=\"run-notebooks-1.2\"><span class=\"toc-item-num\">1.2&nbsp;&nbsp;</span>run notebooks</a></span></li><li><span><a href=\"#build-models\" data-toc-modified-id=\"build-models-1.3\"><span class=\"toc-item-num\">1.3&nbsp;&nbsp;</span>build models</a></span></li></ul></li></ul></div>"
   ]
  },
  {
   "cell_type": "markdown",
   "id": "36a66b4c",
   "metadata": {},
   "source": [
    "## imports"
   ]
  },
  {
   "cell_type": "code",
   "execution_count": 1,
   "id": "f9d98e41",
   "metadata": {
    "ExecuteTime": {
     "end_time": "2022-07-05T14:21:46.824393Z",
     "start_time": "2022-07-05T14:21:45.946398Z"
    }
   },
   "outputs": [],
   "source": [
    "import papermill as pm"
   ]
  },
  {
   "cell_type": "code",
   "execution_count": 2,
   "id": "325ac4be",
   "metadata": {
    "ExecuteTime": {
     "end_time": "2022-07-05T14:21:46.839398Z",
     "start_time": "2022-07-05T14:21:46.829396Z"
    }
   },
   "outputs": [],
   "source": [
    "pnl_notebooks = [\n",
    "    \"P1-AnalyzeTrades_a_tradelog.ipynb\",\n",
    "    \"P1-AnalyzeTrades_b_add_attr.ipynb\",\n",
    "    \"P1-AnalyzeTrades_c_add_attr2.ipynb\",\n",
    "    \"P1-AnalyzeTrades_d_exploredata.ipynb\",\n",
    "    \"P1-AnalyzeTrades_e_feateng.ipynb\",\n",
    "]"
   ]
  },
  {
   "cell_type": "markdown",
   "id": "8dbebbc4",
   "metadata": {},
   "source": [
    "## run notebooks"
   ]
  },
  {
   "cell_type": "code",
   "execution_count": 3,
   "id": "cc572019",
   "metadata": {
    "ExecuteTime": {
     "end_time": "2022-07-05T14:22:25.102457Z",
     "start_time": "2022-07-05T14:21:46.849400Z"
    },
    "lines_to_next_cell": 2
   },
   "outputs": [
    {
     "data": {
      "application/vnd.jupyter.widget-view+json": {
       "model_id": "9d13f2e75ce04638ac99c447be48e011",
       "version_major": 2,
       "version_minor": 0
      },
      "text/plain": [
       "Executing:   0%|          | 0/21 [00:00<?, ?cell/s]"
      ]
     },
     "metadata": {},
     "output_type": "display_data"
    },
    {
     "data": {
      "application/vnd.jupyter.widget-view+json": {
       "model_id": "fd44728c13e44a26b9f31b2a9cb0c748",
       "version_major": 2,
       "version_minor": 0
      },
      "text/plain": [
       "Executing:   0%|          | 0/10 [00:00<?, ?cell/s]"
      ]
     },
     "metadata": {},
     "output_type": "display_data"
    },
    {
     "data": {
      "application/vnd.jupyter.widget-view+json": {
       "model_id": "146316eaa7984999ba6357031decd64a",
       "version_major": 2,
       "version_minor": 0
      },
      "text/plain": [
       "Executing:   0%|          | 0/10 [00:00<?, ?cell/s]"
      ]
     },
     "metadata": {},
     "output_type": "display_data"
    },
    {
     "data": {
      "application/vnd.jupyter.widget-view+json": {
       "model_id": "0c4e50bc1c6b4246bfcf776b096a8e2d",
       "version_major": 2,
       "version_minor": 0
      },
      "text/plain": [
       "Executing:   0%|          | 0/7 [00:00<?, ?cell/s]"
      ]
     },
     "metadata": {},
     "output_type": "display_data"
    },
    {
     "data": {
      "application/vnd.jupyter.widget-view+json": {
       "model_id": "1aa7c1fd1383488dba3300497d048361",
       "version_major": 2,
       "version_minor": 0
      },
      "text/plain": [
       "Executing:   0%|          | 0/22 [00:00<?, ?cell/s]"
      ]
     },
     "metadata": {},
     "output_type": "display_data"
    }
   ],
   "source": [
    "for nb in pnl_notebooks:\n",
    "    output_temp = nb.split('.')[0] + \"_output.\" + nb.split('.')[1]\n",
    "    _ = pm.execute_notebook(nb, output_path= output_temp )"
   ]
  },
  {
   "cell_type": "markdown",
   "id": "72e548c5",
   "metadata": {},
   "source": [
    "## build models"
   ]
  },
  {
   "cell_type": "code",
   "execution_count": 4,
   "id": "37ad2a84",
   "metadata": {
    "ExecuteTime": {
     "end_time": "2022-07-05T14:22:25.118462Z",
     "start_time": "2022-07-05T14:22:25.105458Z"
    }
   },
   "outputs": [],
   "source": [
    "# typically run manually\n",
    "# f notebooks and later"
   ]
  }
 ],
 "metadata": {
  "jupytext": {
   "formats": "py:percent,ipynb"
  },
  "kernelspec": {
   "display_name": "p1analyzetrades",
   "language": "python",
   "name": "p1analyzetrades"
  },
  "language_info": {
   "codemirror_mode": {
    "name": "ipython",
    "version": 3
   },
   "file_extension": ".py",
   "mimetype": "text/x-python",
   "name": "python",
   "nbconvert_exporter": "python",
   "pygments_lexer": "ipython3",
   "version": "3.9.10"
  },
  "toc": {
   "base_numbering": 1,
   "nav_menu": {},
   "number_sections": true,
   "sideBar": true,
   "skip_h1_title": false,
   "title_cell": "Table of Contents",
   "title_sidebar": "Contents",
   "toc_cell": true,
   "toc_position": {},
   "toc_section_display": true,
   "toc_window_display": true
  },
  "varInspector": {
   "cols": {
    "lenName": 16,
    "lenType": 16,
    "lenVar": 40
   },
   "kernels_config": {
    "python": {
     "delete_cmd_postfix": "",
     "delete_cmd_prefix": "del ",
     "library": "var_list.py",
     "varRefreshCmd": "print(var_dic_list())"
    },
    "r": {
     "delete_cmd_postfix": ") ",
     "delete_cmd_prefix": "rm(",
     "library": "var_list.r",
     "varRefreshCmd": "cat(var_dic_list()) "
    }
   },
   "position": {
    "height": "526.844px",
    "left": "1558px",
    "right": "20px",
    "top": "120px",
    "width": "342px"
   },
   "types_to_exclude": [
    "module",
    "function",
    "builtin_function_or_method",
    "instance",
    "_Feature"
   ],
   "window_display": true
  }
 },
 "nbformat": 4,
 "nbformat_minor": 5
}
