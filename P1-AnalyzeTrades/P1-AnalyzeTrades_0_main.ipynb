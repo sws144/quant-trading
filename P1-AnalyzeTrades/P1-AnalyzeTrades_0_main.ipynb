{
 "cells": [
  {
   "cell_type": "markdown",
   "id": "d50c7066",
   "metadata": {},
   "source": [
    "# Overall\n",
    "See README.md for details\n"
   ]
  },
  {
   "cell_type": "markdown",
   "id": "e23d8464",
   "metadata": {
    "toc": true
   },
   "source": [
    "<h1>Table of Contents<span class=\"tocSkip\"></span></h1>\n",
    "<div class=\"toc\"><ul class=\"toc-item\"><li><span><a href=\"#Overall\" data-toc-modified-id=\"Overall-1\"><span class=\"toc-item-num\">1&nbsp;&nbsp;</span>Overall</a></span><ul class=\"toc-item\"><li><span><a href=\"#imports\" data-toc-modified-id=\"imports-1.1\"><span class=\"toc-item-num\">1.1&nbsp;&nbsp;</span>imports</a></span></li><li><span><a href=\"#run-notebooks\" data-toc-modified-id=\"run-notebooks-1.2\"><span class=\"toc-item-num\">1.2&nbsp;&nbsp;</span>run notebooks</a></span></li><li><span><a href=\"#build-models\" data-toc-modified-id=\"build-models-1.3\"><span class=\"toc-item-num\">1.3&nbsp;&nbsp;</span>build models</a></span></li></ul></li></ul></div>"
   ]
  },
  {
   "cell_type": "markdown",
   "id": "36a66b4c",
   "metadata": {},
   "source": [
    "## imports"
   ]
  },
  {
   "cell_type": "code",
   "execution_count": 1,
   "id": "1d76a92a",
   "metadata": {
    "ExecuteTime": {
     "end_time": "2023-01-14T19:21:50.646697Z",
     "start_time": "2023-01-14T19:21:49.925484Z"
    }
   },
   "outputs": [
    {
     "data": {
      "application/javascript": [
       "\n",
       "            (function() {\n",
       "                jb_set_cell(\"import json\\nfrom sys import getsizeof\\n\\nfrom IPython import get_ipython\\nfrom IPython.core.magics.namespace import NamespaceMagics\\n\\n_nms = NamespaceMagics()\\n_Jupyter = get_ipython()\\n_nms.shell = _Jupyter.kernel.shell\\n\\ntry:\\n    import numpy as np\\nexcept ImportError:\\n    pass\\n\\n\\ndef _getsizeof(x):\\n    # return the size of variable x. Amended version of sys.getsizeof\\n    # which also supports ndarray, Series and DataFrame\\n    if type(x).__name__ in [\\\"ndarray\\\", \\\"Series\\\"]:\\n        return x.nbytes\\n    elif type(x).__name__ == \\\"DataFrame\\\":\\n        return x.memory_usage().sum()\\n    else:\\n        return getsizeof(x)\\n\\n\\ndef _getshapeof(x):\\n    # returns the shape of x if it has one\\n    # returns None otherwise - might want to return an empty string for an empty column\\n    try:\\n        return x.shape\\n    except AttributeError:  # x does not have a shape\\n        return None\\n\\n\\ndef _getcontentof(x):\\n    length = 150\\n    if type(x).__name__ == \\\"DataFrame\\\":\\n        colnames = \\\", \\\".join(x.columns.map(str))\\n        content = \\\"Column names: %s\\\" % colnames\\n    elif type(x).__name__ == \\\"Series\\\":\\n        content = \\\"Series [%d rows]\\\" % x.shape\\n    elif type(x).__name__ == \\\"ndarray\\\":\\n        content = x.__repr__()\\n    else:\\n        if hasattr(x, \\\"__len__\\\"):\\n            if len(x) > length:\\n                content = str(x[:length])\\n        else:\\n            content = str(x)\\n        if len(content) > 150:\\n            return content[:150] + \\\" ...\\\"\\n    return content\\n\\n\\ndef var_dic_list():\\n    types_to_exclude = [\\n        \\\"module\\\",\\n        \\\"function\\\",\\n        \\\"builtin_function_or_method\\\",\\n        \\\"instance\\\",\\n        \\\"_Feature\\\",\\n        \\\"type\\\",\\n        \\\"ufunc\\\",\\n    ]\\n    values = _nms.who_ls()\\n    vardic = [\\n        {\\n            \\\"varName\\\": v,\\n            \\\"varType\\\": type(eval(v)).__name__,\\n            \\\"varSize\\\": str(_getsizeof(eval(v))),\\n            \\\"varShape\\\": str(_getshapeof(eval(v))) if _getshapeof(eval(v)) else \\\"\\\",\\n            \\\"varContent\\\": _getcontentof(eval(v)),\\n        }  # noqa\\n        for v in values\\n        if (v not in [\\\"_html\\\", \\\"_nms\\\", \\\"NamespaceMagics\\\", \\\"_Jupyter\\\"])\\n        & (type(eval(v)).__name__ not in types_to_exclude)\\n    ]  # noqa\\n    return json.dumps(vardic)\\n\\n\\n# command to refresh the list of variables\\nprint(var_dic_list())\")\n",
       "            })();\n",
       "            "
      ],
      "text/plain": [
       "<IPython.core.display.Javascript object>"
      ]
     },
     "metadata": {},
     "output_type": "display_data"
    }
   ],
   "source": [
    "#for formatting\n",
    "import jupyter_black\n",
    "\n",
    "jupyter_black.load(\n",
    "    lab=False,\n",
    ")"
   ]
  },
  {
   "cell_type": "code",
   "execution_count": 2,
   "id": "f9d98e41",
   "metadata": {
    "ExecuteTime": {
     "end_time": "2023-01-14T19:21:52.019615Z",
     "start_time": "2023-01-14T19:21:50.649693Z"
    }
   },
   "outputs": [],
   "source": [
    "import papermill as pm"
   ]
  },
  {
   "cell_type": "code",
   "execution_count": 3,
   "id": "325ac4be",
   "metadata": {
    "ExecuteTime": {
     "end_time": "2023-01-14T19:21:52.050479Z",
     "start_time": "2023-01-14T19:21:52.023467Z"
    }
   },
   "outputs": [],
   "source": [
    "pnl_notebooks = [\n",
    "    \"P1-AnalyzeTrades_a_tradelog.ipynb\",\n",
    "    \"P1-AnalyzeTrades_b_add_attr.ipynb\",\n",
    "    \"P1-AnalyzeTrades_c_add_attr2.ipynb\",\n",
    "    \"P1-AnalyzeTrades_d_exploredata.ipynb\",\n",
    "    \"P1-AnalyzeTrades_e_feateng.ipynb\",\n",
    "]"
   ]
  },
  {
   "cell_type": "markdown",
   "id": "8dbebbc4",
   "metadata": {},
   "source": [
    "## run notebooks"
   ]
  },
  {
   "cell_type": "code",
   "execution_count": 4,
   "id": "cc572019",
   "metadata": {
    "ExecuteTime": {
     "end_time": "2023-01-14T19:22:54.382638Z",
     "start_time": "2023-01-14T19:21:52.059471Z"
    },
    "lines_to_next_cell": 2,
    "scrolled": false
   },
   "outputs": [
    {
     "name": "stdout",
     "output_type": "stream",
     "text": [
      "running P1-AnalyzeTrades_a_tradelog.ipynb\n"
     ]
    },
    {
     "data": {
      "application/vnd.jupyter.widget-view+json": {
       "model_id": "ab4de92b52934157a1da3a80159e22c2",
       "version_major": 2,
       "version_minor": 0
      },
      "text/plain": [
       "Executing:   0%|          | 0/21 [00:00<?, ?cell/s]"
      ]
     },
     "metadata": {},
     "output_type": "display_data"
    },
    {
     "name": "stdout",
     "output_type": "stream",
     "text": [
      "running P1-AnalyzeTrades_b_add_attr.ipynb\n"
     ]
    },
    {
     "data": {
      "application/vnd.jupyter.widget-view+json": {
       "model_id": "3aaf923fbec64cc2817df560acc55c94",
       "version_major": 2,
       "version_minor": 0
      },
      "text/plain": [
       "Executing:   0%|          | 0/17 [00:00<?, ?cell/s]"
      ]
     },
     "metadata": {},
     "output_type": "display_data"
    },
    {
     "name": "stdout",
     "output_type": "stream",
     "text": [
      "running P1-AnalyzeTrades_c_add_attr2.ipynb\n"
     ]
    },
    {
     "data": {
      "application/vnd.jupyter.widget-view+json": {
       "model_id": "a026a158235647848f70183e93a8bd95",
       "version_major": 2,
       "version_minor": 0
      },
      "text/plain": [
       "Executing:   0%|          | 0/41 [00:00<?, ?cell/s]"
      ]
     },
     "metadata": {},
     "output_type": "display_data"
    },
    {
     "name": "stdout",
     "output_type": "stream",
     "text": [
      "running P1-AnalyzeTrades_d_exploredata.ipynb\n"
     ]
    },
    {
     "data": {
      "application/vnd.jupyter.widget-view+json": {
       "model_id": "7dc5f6abdf3c4b73bfe4baca9f8694ce",
       "version_major": 2,
       "version_minor": 0
      },
      "text/plain": [
       "Executing:   0%|          | 0/16 [00:00<?, ?cell/s]"
      ]
     },
     "metadata": {},
     "output_type": "display_data"
    },
    {
     "name": "stdout",
     "output_type": "stream",
     "text": [
      "running P1-AnalyzeTrades_e_feateng.ipynb\n"
     ]
    },
    {
     "data": {
      "application/vnd.jupyter.widget-view+json": {
       "model_id": "ba9f61de55494eeba167ffdc30cf8caf",
       "version_major": 2,
       "version_minor": 0
      },
      "text/plain": [
       "Executing:   0%|          | 0/33 [00:00<?, ?cell/s]"
      ]
     },
     "metadata": {},
     "output_type": "display_data"
    }
   ],
   "source": [
    "for nb in pnl_notebooks:\n",
    "    print(f\"running {nb}\")\n",
    "    output_temp = nb.split(\".\")[0] + \"_output.\" + nb.split(\".\")[1]\n",
    "    _ = pm.execute_notebook(nb, output_path=output_temp)"
   ]
  },
  {
   "cell_type": "markdown",
   "id": "72e548c5",
   "metadata": {},
   "source": [
    "## build models"
   ]
  },
  {
   "cell_type": "code",
   "execution_count": 5,
   "id": "37ad2a84",
   "metadata": {
    "ExecuteTime": {
     "end_time": "2023-01-14T19:22:54.398642Z",
     "start_time": "2023-01-14T19:22:54.384643Z"
    }
   },
   "outputs": [],
   "source": [
    "# typically run manually\n",
    "# f notebooks and later"
   ]
  }
 ],
 "metadata": {
  "jupytext": {
   "formats": "py:percent,ipynb"
  },
  "kernelspec": {
   "display_name": "p1analyzetrades",
   "language": "python",
   "name": "p1analyzetrades"
  },
  "language_info": {
   "codemirror_mode": {
    "name": "ipython",
    "version": 3
   },
   "file_extension": ".py",
   "mimetype": "text/x-python",
   "name": "python",
   "nbconvert_exporter": "python",
   "pygments_lexer": "ipython3",
   "version": "3.9.10"
  },
  "toc": {
   "base_numbering": 1,
   "nav_menu": {},
   "number_sections": true,
   "sideBar": true,
   "skip_h1_title": false,
   "title_cell": "Table of Contents",
   "title_sidebar": "Contents",
   "toc_cell": true,
   "toc_position": {},
   "toc_section_display": true,
   "toc_window_display": true
  },
  "varInspector": {
   "cols": {
    "lenName": 16,
    "lenType": 16,
    "lenVar": 40
   },
   "kernels_config": {
    "python": {
     "delete_cmd_postfix": "",
     "delete_cmd_prefix": "del ",
     "library": "var_list.py",
     "varRefreshCmd": "print(var_dic_list())"
    },
    "r": {
     "delete_cmd_postfix": ") ",
     "delete_cmd_prefix": "rm(",
     "library": "var_list.r",
     "varRefreshCmd": "cat(var_dic_list()) "
    }
   },
   "position": {
    "height": "526.844px",
    "left": "1558px",
    "right": "20px",
    "top": "120px",
    "width": "342px"
   },
   "types_to_exclude": [
    "module",
    "function",
    "builtin_function_or_method",
    "instance",
    "_Feature"
   ],
   "window_display": true
  }
 },
 "nbformat": 4,
 "nbformat_minor": 5
}
