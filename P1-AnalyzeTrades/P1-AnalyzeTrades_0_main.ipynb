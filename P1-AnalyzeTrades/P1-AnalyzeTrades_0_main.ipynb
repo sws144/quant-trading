{
 "cells": [
  {
   "cell_type": "markdown",
   "id": "d50c7066",
   "metadata": {},
   "source": [
    "# Overall\n",
    "See README.md for details\n"
   ]
  },
  {
   "cell_type": "markdown",
   "id": "e23d8464",
   "metadata": {
    "toc": true
   },
   "source": [
    "<h1>Table of Contents<span class=\"tocSkip\"></span></h1>\n",
    "<div class=\"toc\"><ul class=\"toc-item\"><li><span><a href=\"#Overall\" data-toc-modified-id=\"Overall-1\"><span class=\"toc-item-num\">1&nbsp;&nbsp;</span>Overall</a></span><ul class=\"toc-item\"><li><span><a href=\"#imports\" data-toc-modified-id=\"imports-1.1\"><span class=\"toc-item-num\">1.1&nbsp;&nbsp;</span>imports</a></span></li><li><span><a href=\"#run-notebooks\" data-toc-modified-id=\"run-notebooks-1.2\"><span class=\"toc-item-num\">1.2&nbsp;&nbsp;</span>run notebooks</a></span></li><li><span><a href=\"#build-models\" data-toc-modified-id=\"build-models-1.3\"><span class=\"toc-item-num\">1.3&nbsp;&nbsp;</span>build models</a></span></li></ul></li></ul></div>"
   ]
  },
  {
   "cell_type": "markdown",
   "id": "36a66b4c",
   "metadata": {},
   "source": [
    "## imports"
   ]
  },
  {
   "cell_type": "code",
   "execution_count": 1,
   "id": "f9d98e41",
   "metadata": {
    "ExecuteTime": {
     "end_time": "2022-07-03T14:30:06.404922Z",
     "start_time": "2022-07-03T14:30:05.593922Z"
    }
   },
   "outputs": [],
   "source": [
    "import papermill as pm"
   ]
  },
  {
   "cell_type": "code",
   "execution_count": 2,
   "id": "325ac4be",
   "metadata": {
    "ExecuteTime": {
     "end_time": "2022-07-03T14:30:06.419919Z",
     "start_time": "2022-07-03T14:30:06.409922Z"
    }
   },
   "outputs": [],
   "source": [
    "pnl_notebooks = [\n",
    "    \"P1-AnalyzeTrades_a_tradelog.ipynb\",\n",
    "    \"P1-AnalyzeTrades_b_add_attr.ipynb\",\n",
    "    \"P1-AnalyzeTrades_c_add_attr2.ipynb\",\n",
    "    \"P1-AnalyzeTrades_d_exploredata.ipynb\",\n",
    "    \"P1-AnalyzeTrades_e_feateng.ipynb\",\n",
    "]"
   ]
  },
  {
   "cell_type": "markdown",
   "id": "8dbebbc4",
   "metadata": {},
   "source": [
    "## run notebooks"
   ]
  },
  {
   "cell_type": "code",
   "execution_count": 3,
   "id": "cc572019",
   "metadata": {
    "ExecuteTime": {
     "end_time": "2022-07-03T14:30:41.041692Z",
     "start_time": "2022-07-03T14:30:06.424921Z"
    },
    "lines_to_next_cell": 2
   },
   "outputs": [
    {
     "data": {
      "application/vnd.jupyter.widget-view+json": {
       "model_id": "965e621e47b74b9aa5d85258243b2790",
       "version_major": 2,
       "version_minor": 0
      },
      "text/plain": [
       "Executing:   0%|          | 0/21 [00:00<?, ?cell/s]"
      ]
     },
     "metadata": {},
     "output_type": "display_data"
    },
    {
     "data": {
      "application/vnd.jupyter.widget-view+json": {
       "model_id": "68aa0601014a4e50a6817923f86e1d71",
       "version_major": 2,
       "version_minor": 0
      },
      "text/plain": [
       "Executing:   0%|          | 0/10 [00:00<?, ?cell/s]"
      ]
     },
     "metadata": {},
     "output_type": "display_data"
    },
    {
     "data": {
      "application/vnd.jupyter.widget-view+json": {
       "model_id": "ccea72ccd6a641f0b34791b42dc60ada",
       "version_major": 2,
       "version_minor": 0
      },
      "text/plain": [
       "Executing:   0%|          | 0/10 [00:00<?, ?cell/s]"
      ]
     },
     "metadata": {},
     "output_type": "display_data"
    },
    {
     "data": {
      "application/vnd.jupyter.widget-view+json": {
       "model_id": "510de3e2413b4e6abc1271f0d507b7a1",
       "version_major": 2,
       "version_minor": 0
      },
      "text/plain": [
       "Executing:   0%|          | 0/7 [00:00<?, ?cell/s]"
      ]
     },
     "metadata": {},
     "output_type": "display_data"
    },
    {
     "data": {
      "application/vnd.jupyter.widget-view+json": {
       "model_id": "170bf35b42dc42c5948ebdc168f12ad9",
       "version_major": 2,
       "version_minor": 0
      },
      "text/plain": [
       "Executing:   0%|          | 0/16 [00:00<?, ?cell/s]"
      ]
     },
     "metadata": {},
     "output_type": "display_data"
    }
   ],
   "source": [
    "for nb in pnl_notebooks:\n",
    "    output_temp = nb.split('.')[0] + \"_output.\" + nb.split('.')[1]\n",
    "    _ = pm.execute_notebook(nb, output_path= output_temp )"
   ]
  },
  {
   "cell_type": "markdown",
   "id": "72e548c5",
   "metadata": {},
   "source": [
    "## build models"
   ]
  },
  {
   "cell_type": "code",
   "execution_count": 4,
   "id": "37ad2a84",
   "metadata": {
    "ExecuteTime": {
     "end_time": "2022-07-03T14:30:41.056658Z",
     "start_time": "2022-07-03T14:30:41.043672Z"
    }
   },
   "outputs": [],
   "source": [
    "# typically run manually\n",
    "# f notebooks and later"
   ]
  }
 ],
 "metadata": {
  "jupytext": {
   "formats": "py:percent,ipynb"
  },
  "kernelspec": {
   "display_name": "p1analyzetrades",
   "language": "python",
   "name": "p1analyzetrades"
  },
  "language_info": {
   "codemirror_mode": {
    "name": "ipython",
    "version": 3
   },
   "file_extension": ".py",
   "mimetype": "text/x-python",
   "name": "python",
   "nbconvert_exporter": "python",
   "pygments_lexer": "ipython3",
   "version": "3.9.10"
  },
  "toc": {
   "base_numbering": 1,
   "nav_menu": {},
   "number_sections": true,
   "sideBar": true,
   "skip_h1_title": false,
   "title_cell": "Table of Contents",
   "title_sidebar": "Contents",
   "toc_cell": true,
   "toc_position": {},
   "toc_section_display": true,
   "toc_window_display": true
  },
  "varInspector": {
   "cols": {
    "lenName": 16,
    "lenType": 16,
    "lenVar": 40
   },
   "kernels_config": {
    "python": {
     "delete_cmd_postfix": "",
     "delete_cmd_prefix": "del ",
     "library": "var_list.py",
     "varRefreshCmd": "print(var_dic_list())"
    },
    "r": {
     "delete_cmd_postfix": ") ",
     "delete_cmd_prefix": "rm(",
     "library": "var_list.r",
     "varRefreshCmd": "cat(var_dic_list()) "
    }
   },
   "position": {
    "height": "526.844px",
    "left": "1558px",
    "right": "20px",
    "top": "120px",
    "width": "342px"
   },
   "types_to_exclude": [
    "module",
    "function",
    "builtin_function_or_method",
    "instance",
    "_Feature"
   ],
   "window_display": true
  }
 },
 "nbformat": 4,
 "nbformat_minor": 5
}
