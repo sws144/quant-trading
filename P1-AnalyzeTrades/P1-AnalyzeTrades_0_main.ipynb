{
 "cells": [
  {
   "cell_type": "markdown",
   "id": "d50c7066",
   "metadata": {},
   "source": [
    "# Overall\n",
    "See README.md for details\n"
   ]
  },
  {
   "cell_type": "markdown",
   "id": "e23d8464",
   "metadata": {
    "toc": true
   },
   "source": [
    "<h1>Table of Contents<span class=\"tocSkip\"></span></h1>\n",
    "<div class=\"toc\"><ul class=\"toc-item\"><li><span><a href=\"#Overall\" data-toc-modified-id=\"Overall-1\"><span class=\"toc-item-num\">1&nbsp;&nbsp;</span>Overall</a></span><ul class=\"toc-item\"><li><span><a href=\"#imports\" data-toc-modified-id=\"imports-1.1\"><span class=\"toc-item-num\">1.1&nbsp;&nbsp;</span>imports</a></span></li><li><span><a href=\"#run-notebooks\" data-toc-modified-id=\"run-notebooks-1.2\"><span class=\"toc-item-num\">1.2&nbsp;&nbsp;</span>run notebooks</a></span></li><li><span><a href=\"#build-models\" data-toc-modified-id=\"build-models-1.3\"><span class=\"toc-item-num\">1.3&nbsp;&nbsp;</span>build models</a></span></li></ul></li></ul></div>"
   ]
  },
  {
   "cell_type": "markdown",
   "id": "36a66b4c",
   "metadata": {},
   "source": [
    "## imports"
   ]
  },
  {
   "cell_type": "code",
   "execution_count": 1,
   "id": "1d76a92a",
   "metadata": {
    "ExecuteTime": {
     "end_time": "2022-09-24T23:40:48.509582Z",
     "start_time": "2022-09-24T23:40:48.241583Z"
    }
   },
   "outputs": [
    {
     "data": {
      "text/html": [
       "\n",
       "                <script type=\"application/javascript\" id=\"jupyter_black\">\n",
       "                function jb_set_cell(\n",
       "                        jb_formatted_code\n",
       "                        ) {\n",
       "                    for (var cell of Jupyter.notebook.get_cells()) {\n",
       "                        if (cell.input_prompt_number == \"*\") {\n",
       "                            cell.set_text(jb_formatted_code)\n",
       "                            return\n",
       "                        }\n",
       "                    }\n",
       "                }\n",
       "                </script>\n",
       "                "
      ],
      "text/plain": [
       "<IPython.core.display.HTML object>"
      ]
     },
     "metadata": {},
     "output_type": "display_data"
    }
   ],
   "source": [
    "#for formatting\n",
    "import jupyter_black\n",
    "\n",
    "jupyter_black.load(\n",
    "    lab=False,\n",
    ")"
   ]
  },
  {
   "cell_type": "code",
   "execution_count": 2,
   "id": "f9d98e41",
   "metadata": {
    "ExecuteTime": {
     "end_time": "2022-09-24T23:40:49.175593Z",
     "start_time": "2022-09-24T23:40:48.513579Z"
    }
   },
   "outputs": [],
   "source": [
    "import papermill as pm"
   ]
  },
  {
   "cell_type": "code",
   "execution_count": 3,
   "id": "325ac4be",
   "metadata": {
    "ExecuteTime": {
     "end_time": "2022-09-24T23:40:49.191585Z",
     "start_time": "2022-09-24T23:40:49.179609Z"
    }
   },
   "outputs": [],
   "source": [
    "pnl_notebooks = [\n",
    "    \"P1-AnalyzeTrades_a_tradelog.ipynb\",\n",
    "    \"P1-AnalyzeTrades_b_add_attr.ipynb\",\n",
    "    \"P1-AnalyzeTrades_c_add_attr2.ipynb\",\n",
    "    \"P1-AnalyzeTrades_d_exploredata.ipynb\",\n",
    "    \"P1-AnalyzeTrades_e_feateng.ipynb\",\n",
    "]"
   ]
  },
  {
   "cell_type": "markdown",
   "id": "8dbebbc4",
   "metadata": {},
   "source": [
    "## run notebooks"
   ]
  },
  {
   "cell_type": "code",
   "execution_count": 4,
   "id": "cc572019",
   "metadata": {
    "ExecuteTime": {
     "end_time": "2022-09-24T23:41:44.965181Z",
     "start_time": "2022-09-24T23:40:49.204581Z"
    },
    "lines_to_next_cell": 2,
    "scrolled": false
   },
   "outputs": [
    {
     "name": "stdout",
     "output_type": "stream",
     "text": [
      "running P1-AnalyzeTrades_a_tradelog.ipynb\n"
     ]
    },
    {
     "data": {
      "application/vnd.jupyter.widget-view+json": {
       "model_id": "3a5c229623fc46e4bd3a4c4cc9f93557",
       "version_major": 2,
       "version_minor": 0
      },
      "text/plain": [
       "Executing:   0%|          | 0/21 [00:00<?, ?cell/s]"
      ]
     },
     "metadata": {},
     "output_type": "display_data"
    },
    {
     "name": "stdout",
     "output_type": "stream",
     "text": [
      "running P1-AnalyzeTrades_b_add_attr.ipynb\n"
     ]
    },
    {
     "data": {
      "application/vnd.jupyter.widget-view+json": {
       "model_id": "2ad41dd95e7a4043a2d7b2162b96c935",
       "version_major": 2,
       "version_minor": 0
      },
      "text/plain": [
       "Executing:   0%|          | 0/17 [00:00<?, ?cell/s]"
      ]
     },
     "metadata": {},
     "output_type": "display_data"
    },
    {
     "name": "stdout",
     "output_type": "stream",
     "text": [
      "running P1-AnalyzeTrades_c_add_attr2.ipynb\n"
     ]
    },
    {
     "data": {
      "application/vnd.jupyter.widget-view+json": {
       "model_id": "bc7e8054b5704db6b511ce01e170fd46",
       "version_major": 2,
       "version_minor": 0
      },
      "text/plain": [
       "Executing:   0%|          | 0/41 [00:00<?, ?cell/s]"
      ]
     },
     "metadata": {},
     "output_type": "display_data"
    },
    {
     "name": "stdout",
     "output_type": "stream",
     "text": [
      "running P1-AnalyzeTrades_d_exploredata.ipynb\n"
     ]
    },
    {
     "data": {
      "application/vnd.jupyter.widget-view+json": {
       "model_id": "d6e607df557545e79956533cc265d301",
       "version_major": 2,
       "version_minor": 0
      },
      "text/plain": [
       "Executing:   0%|          | 0/9 [00:00<?, ?cell/s]"
      ]
     },
     "metadata": {},
     "output_type": "display_data"
    },
    {
     "name": "stdout",
     "output_type": "stream",
     "text": [
      "running P1-AnalyzeTrades_e_feateng.ipynb\n"
     ]
    },
    {
     "data": {
      "application/vnd.jupyter.widget-view+json": {
       "model_id": "1038d831b5b5472388dfc68e0f090ee4",
       "version_major": 2,
       "version_minor": 0
      },
      "text/plain": [
       "Executing:   0%|          | 0/33 [00:00<?, ?cell/s]"
      ]
     },
     "metadata": {},
     "output_type": "display_data"
    }
   ],
   "source": [
    "for nb in pnl_notebooks:\n",
    "    print(f\"running {nb}\")\n",
    "    output_temp = nb.split(\".\")[0] + \"_output.\" + nb.split(\".\")[1]\n",
    "    _ = pm.execute_notebook(nb, output_path=output_temp)"
   ]
  },
  {
   "cell_type": "markdown",
   "id": "72e548c5",
   "metadata": {},
   "source": [
    "## build models"
   ]
  },
  {
   "cell_type": "code",
   "execution_count": 5,
   "id": "37ad2a84",
   "metadata": {
    "ExecuteTime": {
     "end_time": "2022-09-24T23:41:44.981177Z",
     "start_time": "2022-09-24T23:41:44.968157Z"
    }
   },
   "outputs": [],
   "source": [
    "# typically run manually\n",
    "# f notebooks and later"
   ]
  }
 ],
 "metadata": {
  "jupytext": {
   "formats": "py:percent,ipynb"
  },
  "kernelspec": {
   "display_name": "p1analyzetrades",
   "language": "python",
   "name": "p1analyzetrades"
  },
  "language_info": {
   "codemirror_mode": {
    "name": "ipython",
    "version": 3
   },
   "file_extension": ".py",
   "mimetype": "text/x-python",
   "name": "python",
   "nbconvert_exporter": "python",
   "pygments_lexer": "ipython3",
   "version": "3.9.10"
  },
  "toc": {
   "base_numbering": 1,
   "nav_menu": {},
   "number_sections": true,
   "sideBar": true,
   "skip_h1_title": false,
   "title_cell": "Table of Contents",
   "title_sidebar": "Contents",
   "toc_cell": true,
   "toc_position": {},
   "toc_section_display": true,
   "toc_window_display": true
  },
  "varInspector": {
   "cols": {
    "lenName": 16,
    "lenType": 16,
    "lenVar": 40
   },
   "kernels_config": {
    "python": {
     "delete_cmd_postfix": "",
     "delete_cmd_prefix": "del ",
     "library": "var_list.py",
     "varRefreshCmd": "print(var_dic_list())"
    },
    "r": {
     "delete_cmd_postfix": ") ",
     "delete_cmd_prefix": "rm(",
     "library": "var_list.r",
     "varRefreshCmd": "cat(var_dic_list()) "
    }
   },
   "position": {
    "height": "526.844px",
    "left": "1558px",
    "right": "20px",
    "top": "120px",
    "width": "342px"
   },
   "types_to_exclude": [
    "module",
    "function",
    "builtin_function_or_method",
    "instance",
    "_Feature"
   ],
   "window_display": true
  }
 },
 "nbformat": 4,
 "nbformat_minor": 5
}
