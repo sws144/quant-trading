{
 "cells": [
  {
   "cell_type": "markdown",
   "id": "d50c7066",
   "metadata": {},
   "source": [
    "# overall\n",
    "\n"
   ]
  },
  {
   "cell_type": "markdown",
   "id": "e23d8464",
   "metadata": {
    "toc": true
   },
   "source": [
    "<h1>Table of Contents<span class=\"tocSkip\"></span></h1>\n",
    "<div class=\"toc\"><ul class=\"toc-item\"><li><span><a href=\"#overall\" data-toc-modified-id=\"overall-1\"><span class=\"toc-item-num\">1&nbsp;&nbsp;</span>overall</a></span><ul class=\"toc-item\"><li><span><a href=\"#imports\" data-toc-modified-id=\"imports-1.1\"><span class=\"toc-item-num\">1.1&nbsp;&nbsp;</span>imports</a></span></li><li><span><a href=\"#run-notebooks\" data-toc-modified-id=\"run-notebooks-1.2\"><span class=\"toc-item-num\">1.2&nbsp;&nbsp;</span>run notebooks</a></span></li></ul></li></ul></div>"
   ]
  },
  {
   "cell_type": "markdown",
   "id": "36a66b4c",
   "metadata": {},
   "source": [
    "## imports"
   ]
  },
  {
   "cell_type": "code",
   "execution_count": 4,
   "id": "f9d98e41",
   "metadata": {
    "ExecuteTime": {
     "end_time": "2022-06-27T04:14:00.406550Z",
     "start_time": "2022-06-27T04:14:00.402523Z"
    }
   },
   "outputs": [],
   "source": [
    "import papermill as pm"
   ]
  },
  {
   "cell_type": "code",
   "execution_count": 5,
   "id": "325ac4be",
   "metadata": {
    "ExecuteTime": {
     "end_time": "2022-06-27T04:14:00.422523Z",
     "start_time": "2022-06-27T04:14:00.408525Z"
    }
   },
   "outputs": [],
   "source": [
    "notebooks = [\"P1-AnalyzeTrades_a_tradelog.ipynb\"]"
   ]
  },
  {
   "cell_type": "markdown",
   "id": "8dbebbc4",
   "metadata": {},
   "source": [
    "## run notebooks"
   ]
  },
  {
   "cell_type": "code",
   "execution_count": 6,
   "id": "cc572019",
   "metadata": {
    "ExecuteTime": {
     "end_time": "2022-06-27T04:14:12.052206Z",
     "start_time": "2022-06-27T04:14:00.426522Z"
    },
    "lines_to_next_cell": 2
   },
   "outputs": [
    {
     "data": {
      "application/vnd.jupyter.widget-view+json": {
       "model_id": "00b5234449444f51b57d67c8671e4d3c",
       "version_major": 2,
       "version_minor": 0
      },
      "text/plain": [
       "Executing:   0%|          | 0/21 [00:00<?, ?cell/s]"
      ]
     },
     "metadata": {},
     "output_type": "display_data"
    }
   ],
   "source": [
    "for nb in notebooks:\n",
    "    output_temp = nb.split('.')[0] + \"_output.\" + nb.split('.')[1]\n",
    "    pm.execute_notebook(nb, output_path= output_temp )"
   ]
  },
  {
   "cell_type": "code",
   "execution_count": null,
   "id": "d71d0da0",
   "metadata": {},
   "outputs": [],
   "source": []
  }
 ],
 "metadata": {
  "jupytext": {
   "formats": "py:percent,ipynb"
  },
  "kernelspec": {
   "display_name": "p1analyzetrades",
   "language": "python",
   "name": "p1analyzetrades"
  },
  "language_info": {
   "codemirror_mode": {
    "name": "ipython",
    "version": 3
   },
   "file_extension": ".py",
   "mimetype": "text/x-python",
   "name": "python",
   "nbconvert_exporter": "python",
   "pygments_lexer": "ipython3",
   "version": "3.9.10"
  },
  "toc": {
   "base_numbering": 1,
   "nav_menu": {},
   "number_sections": true,
   "sideBar": true,
   "skip_h1_title": false,
   "title_cell": "Table of Contents",
   "title_sidebar": "Contents",
   "toc_cell": true,
   "toc_position": {},
   "toc_section_display": true,
   "toc_window_display": true
  },
  "varInspector": {
   "cols": {
    "lenName": 16,
    "lenType": 16,
    "lenVar": 40
   },
   "kernels_config": {
    "python": {
     "delete_cmd_postfix": "",
     "delete_cmd_prefix": "del ",
     "library": "var_list.py",
     "varRefreshCmd": "print(var_dic_list())"
    },
    "r": {
     "delete_cmd_postfix": ") ",
     "delete_cmd_prefix": "rm(",
     "library": "var_list.r",
     "varRefreshCmd": "cat(var_dic_list()) "
    }
   },
   "position": {
    "height": "526.844px",
    "left": "1558px",
    "right": "20px",
    "top": "120px",
    "width": "342px"
   },
   "types_to_exclude": [
    "module",
    "function",
    "builtin_function_or_method",
    "instance",
    "_Feature"
   ],
   "window_display": true
  }
 },
 "nbformat": 4,
 "nbformat_minor": 5
}
