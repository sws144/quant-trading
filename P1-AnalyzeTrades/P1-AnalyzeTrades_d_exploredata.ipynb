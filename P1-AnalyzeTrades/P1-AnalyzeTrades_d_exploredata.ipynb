{
 "cells": [
  {
   "cell_type": "markdown",
   "id": "599741b1",
   "metadata": {},
   "source": [
    " ## d explore data\n"
   ]
  },
  {
   "cell_type": "code",
   "execution_count": null,
   "id": "81ed87a3",
   "metadata": {},
   "outputs": [],
   "source": [
    "# imports\n",
    "\n",
    "import pandas as pd"
   ]
  },
  {
   "cell_type": "code",
   "execution_count": null,
   "id": "530086ac",
   "metadata": {},
   "outputs": [],
   "source": [
    "# read in data\n",
    "\n",
    "df_datawattr = pd.read_csv('output/c_resulttradewattr.csv') "
   ]
  },
  {
   "cell_type": "code",
   "execution_count": null,
   "id": "ba88d01a",
   "metadata": {},
   "outputs": [],
   "source": [
    "# see data\n",
    "df_datawattr.head()"
   ]
  },
  {
   "cell_type": "code",
   "execution_count": null,
   "id": "70c4bdd6",
   "metadata": {
    "lines_to_next_cell": 2
   },
   "outputs": [],
   "source": [
    "# statistics\n",
    "\n",
    "df_datawattr.describe(include='all')"
   ]
  },
  {
   "cell_type": "code",
   "execution_count": null,
   "id": "cdce08f1",
   "metadata": {},
   "outputs": [],
   "source": [
    "# columns\n",
    "\n",
    "df_datawattr.dtypes"
   ]
  },
  {
   "cell_type": "code",
   "execution_count": null,
   "id": "90905861",
   "metadata": {},
   "outputs": [],
   "source": [
    "# placeholder"
   ]
  }
 ],
 "metadata": {
  "jupytext": {
   "cell_metadata_filter": "-all",
   "formats": "auto:percent,ipynb",
   "notebook_metadata_filter": "-all"
  },
  "kernelspec": {
   "display_name": "p1analyzetrades",
   "language": "python",
   "name": "p1analyzetrades"
  },
  "language_info": {
   "codemirror_mode": {
    "name": "ipython",
    "version": 3
   },
   "file_extension": ".py",
   "mimetype": "text/x-python",
   "name": "python",
   "nbconvert_exporter": "python",
   "pygments_lexer": "ipython3",
   "version": "3.9.10"
  },
  "toc": {
   "base_numbering": 1,
   "nav_menu": {},
   "number_sections": true,
   "sideBar": true,
   "skip_h1_title": false,
   "title_cell": "Table of Contents",
   "title_sidebar": "Contents",
   "toc_cell": false,
   "toc_position": {},
   "toc_section_display": true,
   "toc_window_display": false
  },
  "varInspector": {
   "cols": {
    "lenName": 16,
    "lenType": 16,
    "lenVar": 40
   },
   "kernels_config": {
    "python": {
     "delete_cmd_postfix": "",
     "delete_cmd_prefix": "del ",
     "library": "var_list.py",
     "varRefreshCmd": "print(var_dic_list())"
    },
    "r": {
     "delete_cmd_postfix": ") ",
     "delete_cmd_prefix": "rm(",
     "library": "var_list.r",
     "varRefreshCmd": "cat(var_dic_list()) "
    }
   },
   "types_to_exclude": [
    "module",
    "function",
    "builtin_function_or_method",
    "instance",
    "_Feature"
   ],
   "window_display": false
  }
 },
 "nbformat": 4,
 "nbformat_minor": 5
}
