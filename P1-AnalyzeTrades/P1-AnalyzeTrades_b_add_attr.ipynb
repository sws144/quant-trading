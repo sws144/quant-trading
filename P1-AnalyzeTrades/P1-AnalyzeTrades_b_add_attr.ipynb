{
 "cells": [
  {
   "cell_type": "markdown",
   "id": "5f893565",
   "metadata": {},
   "source": [
    " ## add attributes to trade log\n",
    " Design matrix is one record per row"
   ]
  },
  {
   "cell_type": "code",
   "execution_count": null,
   "id": "98f0ed81",
   "metadata": {},
   "outputs": [],
   "source": [
    "# imports\n",
    "\n",
    "import pandas as pd\n",
    "import numpy as np # for np.nan\n",
    "import os # for path"
   ]
  },
  {
   "cell_type": "code",
   "execution_count": null,
   "id": "e70030de",
   "metadata": {
    "lines_to_next_cell": 2
   },
   "outputs": [],
   "source": [
    "# read in raw data\n",
    "### INPUT ###\n",
    "\n",
    "# formatted tradelog\n",
    "trades_filename = 'output/a_completelog.csv'\n",
    "df_complete_trades = pd.read_csv(trades_filename)\n",
    "\n",
    "# attributes 1 from own log\n",
    "attr_filename = 'data/PCM-Tracking - LogHist.csv'\n",
    "df_raw_attr = pd.read_csv(attr_filename)\n",
    "df_raw_attr['filename'] = os.path.basename(attr_filename)\n",
    "df_raw_attr = df_raw_attr.append(df_raw_attr)\n",
    "\n",
    "# attributes 2 \n",
    "# TODO "
   ]
  },
  {
   "cell_type": "code",
   "execution_count": null,
   "id": "0983d354",
   "metadata": {},
   "outputs": [],
   "source": [
    "# ensure date time for open for complete trades\n",
    "df_complete_trades['Open_Date'] = pd.to_datetime(df_complete_trades['Open_Date'], errors='coerce')"
   ]
  },
  {
   "cell_type": "code",
   "execution_count": null,
   "id": "6ba126a9",
   "metadata": {
    "lines_to_next_cell": 2
   },
   "outputs": [],
   "source": [
    "# check complete trades\n",
    "\n",
    "df_complete_trades.dtypes"
   ]
  },
  {
   "cell_type": "code",
   "execution_count": null,
   "id": "5cf879e4",
   "metadata": {
    "lines_to_next_cell": 2
   },
   "outputs": [],
   "source": [
    "# clean attribute columns 1\n",
    "\n",
    "col_dict_attr = {\n",
    "    'DATE' : 'DATE',\n",
    "    'CONTRACT' : 'CONTRACT',\n",
    "    'TIME':'TIME',\n",
    "    'ACTION':'ACTION',\n",
    "    'PRICE':'PRICE',\n",
    "    'QTYCHG':'QTYCHG',\n",
    "    'COMMISSION':'COMMISSION',\n",
    "    \n",
    "    'PCTRETURN': 'PCTRETURN',\n",
    "}\n",
    "\n",
    "df_clean_attr = df_raw_attr.copy(deep=True)\n",
    "df_clean_attr.columns = pd.Series(df_clean_attr.columns.astype(str).str.upper().str.strip())\n",
    "df_clean_attr.columns = pd.Series(df_clean_attr.columns).map(col_dict_attr)    .fillna(pd.Series(df_clean_attr.columns))\n",
    "\n",
    "df_clean_attr['ACTION'] = df_clean_attr['ACTION'].astype(str).str.strip()\n",
    "\n",
    "# pull out macro / non trades\n",
    "df_macro = df_clean_attr[\n",
    "    ~ df_clean_attr['ACTION'].astype(str).str.contains('BOT') & \n",
    "    ~ df_clean_attr['ACTION'].astype(str).str.contains('SLD') &\n",
    "    ~ df_clean_attr['ACTION'].astype(str).str.contains('END')\n",
    "]\n",
    "                    \n",
    "df_clean_attr = df_clean_attr[ \n",
    "    df_clean_attr['ACTION'].astype(str).str.contains('BOT') | \n",
    "    df_clean_attr['ACTION'].astype(str).str.contains('SLD') |\n",
    "    df_clean_attr['ACTION'].astype(str).str.contains('END')\n",
    "]\n",
    "\n",
    "df_clean_attr.head()"
   ]
  },
  {
   "cell_type": "code",
   "execution_count": null,
   "id": "3b4cc3ef",
   "metadata": {},
   "outputs": [],
   "source": [
    "# update data types for attr\n",
    "\n",
    "df_clean_attr['DATE'] = pd.to_datetime(df_clean_attr['DATE'],errors='coerce') \n",
    "numeric_cols = ['PRICE','COMMISSION','QTYCHG']\n",
    "for col in numeric_cols:\n",
    "    df_clean_attr[col] = (\n",
    "        df_clean_attr[col].astype(str).str.strip()\n",
    "        .str.replace('$','').str.replace(',','').astype(float)\n",
    "    )\n",
    "\n",
    "# QA\n",
    "df_clean_attr.dtypes   "
   ]
  },
  {
   "cell_type": "code",
   "execution_count": null,
   "id": "115792a8",
   "metadata": {
    "lines_to_next_cell": 2
   },
   "outputs": [],
   "source": [
    "# merge attr to completed trades\n",
    "\n",
    "df_complete_trades = df_complete_trades.sort_values(['Open_Date']) \n",
    "df_clean_attr = df_clean_attr.sort_values(['DATE'])\n",
    "\n",
    "df_clean_attr = df_clean_attr.rename(columns={'CONTRACT':'Symbol'}) \n",
    "\n",
    "# get closeset match\n",
    "df_comptrade_wattr = pd.merge_asof(\n",
    "    df_complete_trades, df_clean_attr, by = 'Symbol', left_on=['Open_Date'], \n",
    "    right_on=['DATE'], suffixes=('','_a') \n",
    ")"
   ]
  },
  {
   "cell_type": "code",
   "execution_count": null,
   "id": "63cd7025",
   "metadata": {
    "lines_to_next_cell": 2
   },
   "outputs": [],
   "source": [
    "# save output\n",
    "\n",
    "df_comptrade_wattr.to_csv('output/b_completewattr.csv')"
   ]
  },
  {
   "cell_type": "code",
   "execution_count": null,
   "id": "2a043e36",
   "metadata": {},
   "outputs": [],
   "source": []
  }
 ],
 "metadata": {
  "jupytext": {
   "cell_metadata_filter": "-all",
   "formats": "auto:percent,ipynb",
   "notebook_metadata_filter": "-all"
  },
  "kernelspec": {
   "display_name": "p1analyzetrades",
   "language": "python",
   "name": "p1analyzetrades"
  },
  "language_info": {
   "codemirror_mode": {
    "name": "ipython",
    "version": 3
   },
   "file_extension": ".py",
   "mimetype": "text/x-python",
   "name": "python",
   "nbconvert_exporter": "python",
   "pygments_lexer": "ipython3",
   "version": "3.9.10"
  },
  "toc": {
   "base_numbering": 1,
   "nav_menu": {},
   "number_sections": true,
   "sideBar": true,
   "skip_h1_title": false,
   "title_cell": "Table of Contents",
   "title_sidebar": "Contents",
   "toc_cell": false,
   "toc_position": {},
   "toc_section_display": true,
   "toc_window_display": false
  },
  "varInspector": {
   "cols": {
    "lenName": 16,
    "lenType": 16,
    "lenVar": 40
   },
   "kernels_config": {
    "python": {
     "delete_cmd_postfix": "",
     "delete_cmd_prefix": "del ",
     "library": "var_list.py",
     "varRefreshCmd": "print(var_dic_list())"
    },
    "r": {
     "delete_cmd_postfix": ") ",
     "delete_cmd_prefix": "rm(",
     "library": "var_list.r",
     "varRefreshCmd": "cat(var_dic_list()) "
    }
   },
   "types_to_exclude": [
    "module",
    "function",
    "builtin_function_or_method",
    "instance",
    "_Feature"
   ],
   "window_display": false
  }
 },
 "nbformat": 4,
 "nbformat_minor": 5
}
