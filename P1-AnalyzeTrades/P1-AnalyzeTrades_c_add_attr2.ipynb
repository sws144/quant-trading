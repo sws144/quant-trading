{
 "cells": [
  {
   "cell_type": "markdown",
   "id": "412e9eb2",
   "metadata": {},
   "source": [
    " ## C add attributes 2 and begin feat engineering\n",
    " Design matrix is one record per row\n"
   ]
  },
  {
   "cell_type": "code",
   "execution_count": 81,
   "id": "578455e8",
   "metadata": {
    "ExecuteTime": {
     "end_time": "2022-09-18T18:18:10.175539Z",
     "start_time": "2022-09-18T18:18:10.160542Z"
    }
   },
   "outputs": [],
   "source": [
    "# formatting\n",
    "import jupyter_black\n",
    "\n",
    "jupyter_black.load(\n",
    "    lab=False,\n",
    ")"
   ]
  },
  {
   "cell_type": "code",
   "execution_count": 82,
   "id": "f71b1069",
   "metadata": {
    "ExecuteTime": {
     "end_time": "2022-09-18T18:18:10.206539Z",
     "start_time": "2022-09-18T18:18:10.180563Z"
    }
   },
   "outputs": [],
   "source": [
    "# imports\n",
    "\n",
    "import pandas as pd\n",
    "import numpy as np  # for np.nan\n",
    "import os  # for path\n",
    "\n",
    "import yfinance as yf\n",
    "\n",
    "import json\n",
    "\n",
    "from pandas_datareader.quandl import QuandlReader  # data side\n",
    "\n",
    "reload_data = True\n",
    "end_date = \"2030-12-31\""
   ]
  },
  {
   "cell_type": "code",
   "execution_count": 83,
   "id": "d62bf341",
   "metadata": {
    "ExecuteTime": {
     "end_time": "2022-09-18T18:18:10.221557Z",
     "start_time": "2022-09-18T18:18:10.209537Z"
    }
   },
   "outputs": [],
   "source": [
    "with open(\"data/vars.json\", \"r\") as json_file:\n",
    "    var_dict = json.load(json_file)"
   ]
  },
  {
   "cell_type": "code",
   "execution_count": 84,
   "id": "c6efb470",
   "metadata": {
    "ExecuteTime": {
     "end_time": "2022-09-18T18:18:10.284570Z",
     "start_time": "2022-09-18T18:18:10.231540Z"
    }
   },
   "outputs": [],
   "source": [
    "# read in raw data\n",
    "### INPUT ###\n",
    "\n",
    "# formatted tradelog\n",
    "trades_filename = \"output/b_completewattr.csv\"\n",
    "df_raw = pd.read_csv(trades_filename)"
   ]
  },
  {
   "cell_type": "markdown",
   "id": "96179ba6",
   "metadata": {},
   "source": [
    "### Existing Cols with Issues"
   ]
  },
  {
   "cell_type": "code",
   "execution_count": 85,
   "id": "b7a1be26",
   "metadata": {
    "ExecuteTime": {
     "end_time": "2022-09-18T18:18:10.315536Z",
     "start_time": "2022-09-18T18:18:10.287539Z"
    }
   },
   "outputs": [],
   "source": [
    "existing_err_cols = [\n",
    "    \"AAII_SENT_Date\",\n",
    "    \"AAII_SENT_Bullish\",  ## AAII columns are missing later 2021 and 2022 values\n",
    "    \"AAII_SENT_Neutral\",\n",
    "    \"AAII_SENT_Bearish\",\n",
    "    \"AAII_SENT_Total\",\n",
    "    \"AAII_SENT_Bullish8WeekMovAvg\",\n",
    "    \"AAII_SENT_BullBearSpread\",\n",
    "    \"AAII_SENT_BullishAverage\",\n",
    "    \"AAII_SENT_BullishAverage+StDev\",\n",
    "    \"AAII_SENT_BullishAverageStDev\",\n",
    "    \"AAII_SENT_S&P500WeeklyHigh\",\n",
    "    \"AAII_SENT_S&P500WeeklyLow\",\n",
    "    \"AAII_SENT_S&P500WeeklyClose\",\n",
    "]"
   ]
  },
  {
   "cell_type": "markdown",
   "id": "5fab6fe7",
   "metadata": {},
   "source": [
    "## pull data from yahoo finance"
   ]
  },
  {
   "cell_type": "code",
   "execution_count": 86,
   "id": "550d176c",
   "metadata": {
    "ExecuteTime": {
     "end_time": "2022-09-18T18:18:10.746541Z",
     "start_time": "2022-09-18T18:18:10.321575Z"
    },
    "lines_to_next_cell": 2
   },
   "outputs": [
    {
     "name": "stdout",
     "output_type": "stream",
     "text": [
      "[*********************100%***********************]  2 of 2 completed\n"
     ]
    },
    {
     "data": {
      "text/html": [
       "<div>\n",
       "<style scoped>\n",
       "    .dataframe tbody tr th:only-of-type {\n",
       "        vertical-align: middle;\n",
       "    }\n",
       "\n",
       "    .dataframe tbody tr th {\n",
       "        vertical-align: top;\n",
       "    }\n",
       "\n",
       "    .dataframe thead th {\n",
       "        text-align: right;\n",
       "    }\n",
       "</style>\n",
       "<table border=\"1\" class=\"dataframe\">\n",
       "  <thead>\n",
       "    <tr style=\"text-align: right;\">\n",
       "      <th></th>\n",
       "      <th>Date</th>\n",
       "      <th>Ticker</th>\n",
       "      <th>Adj Close</th>\n",
       "      <th>Close</th>\n",
       "      <th>High</th>\n",
       "      <th>Low</th>\n",
       "      <th>Open</th>\n",
       "      <th>Volume</th>\n",
       "    </tr>\n",
       "  </thead>\n",
       "  <tbody>\n",
       "    <tr>\n",
       "      <th>0</th>\n",
       "      <td>2010-01-04</td>\n",
       "      <td>^GSPC</td>\n",
       "      <td>1132.989990</td>\n",
       "      <td>1132.989990</td>\n",
       "      <td>1133.869995</td>\n",
       "      <td>1116.560059</td>\n",
       "      <td>1116.560059</td>\n",
       "      <td>3991400000</td>\n",
       "    </tr>\n",
       "    <tr>\n",
       "      <th>1</th>\n",
       "      <td>2010-01-04</td>\n",
       "      <td>^VIX</td>\n",
       "      <td>20.040001</td>\n",
       "      <td>20.040001</td>\n",
       "      <td>21.680000</td>\n",
       "      <td>20.030001</td>\n",
       "      <td>21.680000</td>\n",
       "      <td>0</td>\n",
       "    </tr>\n",
       "    <tr>\n",
       "      <th>2</th>\n",
       "      <td>2010-01-05</td>\n",
       "      <td>^GSPC</td>\n",
       "      <td>1136.520020</td>\n",
       "      <td>1136.520020</td>\n",
       "      <td>1136.630005</td>\n",
       "      <td>1129.660034</td>\n",
       "      <td>1132.660034</td>\n",
       "      <td>2491020000</td>\n",
       "    </tr>\n",
       "    <tr>\n",
       "      <th>3</th>\n",
       "      <td>2010-01-05</td>\n",
       "      <td>^VIX</td>\n",
       "      <td>19.350000</td>\n",
       "      <td>19.350000</td>\n",
       "      <td>20.129999</td>\n",
       "      <td>19.340000</td>\n",
       "      <td>20.049999</td>\n",
       "      <td>0</td>\n",
       "    </tr>\n",
       "    <tr>\n",
       "      <th>4</th>\n",
       "      <td>2010-01-06</td>\n",
       "      <td>^GSPC</td>\n",
       "      <td>1137.140015</td>\n",
       "      <td>1137.140015</td>\n",
       "      <td>1139.189941</td>\n",
       "      <td>1133.949951</td>\n",
       "      <td>1135.709961</td>\n",
       "      <td>4972660000</td>\n",
       "    </tr>\n",
       "  </tbody>\n",
       "</table>\n",
       "</div>"
      ],
      "text/plain": [
       "        Date Ticker    Adj Close        Close         High          Low  \\\n",
       "0 2010-01-04  ^GSPC  1132.989990  1132.989990  1133.869995  1116.560059   \n",
       "1 2010-01-04   ^VIX    20.040001    20.040001    21.680000    20.030001   \n",
       "2 2010-01-05  ^GSPC  1136.520020  1136.520020  1136.630005  1129.660034   \n",
       "3 2010-01-05   ^VIX    19.350000    19.350000    20.129999    19.340000   \n",
       "4 2010-01-06  ^GSPC  1137.140015  1137.140015  1139.189941  1133.949951   \n",
       "\n",
       "          Open      Volume  \n",
       "0  1116.560059  3991400000  \n",
       "1    21.680000           0  \n",
       "2  1132.660034  2491020000  \n",
       "3    20.049999           0  \n",
       "4  1135.709961  4972660000  "
      ]
     },
     "execution_count": 86,
     "metadata": {},
     "output_type": "execute_result"
    }
   ],
   "source": [
    "tickers = [\"^VIX\", \"^GSPC\"]\n",
    "if reload_data:\n",
    "    df_data = yf.download(\n",
    "        \" \".join(tickers), start=\"2010-01-01\", end=end_date, group_by=\"Tickers\"\n",
    "    )\n",
    "    # turn into tabular form\n",
    "    df_data_formatted = (\n",
    "        df_data.stack(level=0).reset_index().rename(columns={\"level_1\": \"Ticker\"})\n",
    "    )\n",
    "    df_data_formatted.to_csv(\"output/c_mktdata.csv\")\n",
    "else:\n",
    "    df_data_formatted = pd.read_csv(\"output/c_mktdata.csv\")\n",
    "\n",
    "df_data_formatted.head()"
   ]
  },
  {
   "cell_type": "code",
   "execution_count": 87,
   "id": "610ade48",
   "metadata": {
    "ExecuteTime": {
     "end_time": "2022-09-18T18:18:10.808538Z",
     "start_time": "2022-09-18T18:18:10.749537Z"
    }
   },
   "outputs": [
    {
     "data": {
      "text/html": [
       "<div>\n",
       "<style scoped>\n",
       "    .dataframe tbody tr th:only-of-type {\n",
       "        vertical-align: middle;\n",
       "    }\n",
       "\n",
       "    .dataframe tbody tr th {\n",
       "        vertical-align: top;\n",
       "    }\n",
       "\n",
       "    .dataframe thead th {\n",
       "        text-align: right;\n",
       "    }\n",
       "</style>\n",
       "<table border=\"1\" class=\"dataframe\">\n",
       "  <thead>\n",
       "    <tr style=\"text-align: right;\">\n",
       "      <th></th>\n",
       "      <th>Date_YahooFinance</th>\n",
       "      <th>Close_^GSPC</th>\n",
       "      <th>Close_^VIX</th>\n",
       "    </tr>\n",
       "  </thead>\n",
       "  <tbody>\n",
       "    <tr>\n",
       "      <th>0</th>\n",
       "      <td>2010-01-04</td>\n",
       "      <td>1132.989990</td>\n",
       "      <td>20.040001</td>\n",
       "    </tr>\n",
       "    <tr>\n",
       "      <th>1</th>\n",
       "      <td>2010-01-05</td>\n",
       "      <td>1136.520020</td>\n",
       "      <td>19.350000</td>\n",
       "    </tr>\n",
       "    <tr>\n",
       "      <th>2</th>\n",
       "      <td>2010-01-06</td>\n",
       "      <td>1137.140015</td>\n",
       "      <td>19.160000</td>\n",
       "    </tr>\n",
       "    <tr>\n",
       "      <th>3</th>\n",
       "      <td>2010-01-07</td>\n",
       "      <td>1141.689941</td>\n",
       "      <td>19.059999</td>\n",
       "    </tr>\n",
       "    <tr>\n",
       "      <th>4</th>\n",
       "      <td>2010-01-08</td>\n",
       "      <td>1144.979980</td>\n",
       "      <td>18.129999</td>\n",
       "    </tr>\n",
       "  </tbody>\n",
       "</table>\n",
       "</div>"
      ],
      "text/plain": [
       "  Date_YahooFinance  Close_^GSPC  Close_^VIX\n",
       "0        2010-01-04  1132.989990   20.040001\n",
       "1        2010-01-05  1136.520020   19.350000\n",
       "2        2010-01-06  1137.140015   19.160000\n",
       "3        2010-01-07  1141.689941   19.059999\n",
       "4        2010-01-08  1144.979980   18.129999"
      ]
     },
     "execution_count": 87,
     "metadata": {},
     "output_type": "execute_result"
    }
   ],
   "source": [
    "# pivoted\n",
    "\n",
    "df_data_pivot = df_data_formatted.pivot(\n",
    "    index=[\"Date\"],\n",
    "    columns=[\"Ticker\"],\n",
    "    values=[\"Close\"],\n",
    ").reset_index()\n",
    "\n",
    "# to deal with multiindex columns\n",
    "df_data_pivot.columns = [\"_\".join(col).strip() for col in df_data_pivot.columns.values]\n",
    "df_data_pivot.rename(columns={\"Date_\": \"Date_YahooFinance\"}, inplace=True)\n",
    "df_data_pivot[\"Date_YahooFinance\"] = pd.to_datetime(\n",
    "    df_data_pivot[\"Date_YahooFinance\"], errors=\"coerce\"\n",
    ")\n",
    "df_data_pivot.head()"
   ]
  },
  {
   "cell_type": "code",
   "execution_count": 88,
   "id": "2b522ccd",
   "metadata": {
    "ExecuteTime": {
     "end_time": "2022-09-18T18:18:10.854549Z",
     "start_time": "2022-09-18T18:18:10.815542Z"
    },
    "lines_to_next_cell": 2
   },
   "outputs": [],
   "source": [
    "# merge\n",
    "\n",
    "df_source = df_raw.copy(deep=True)\n",
    "\n",
    "df_source[\"Open_Date\"] = pd.to_datetime(df_source[\"Open_Date\"], errors=\"coerce\")\n",
    "\n",
    "\n",
    "# need to sort\n",
    "df_source = df_source.sort_values([\"Open_Date\"])\n",
    "df_data_pivot = df_data_pivot.sort_values([\"Date_YahooFinance\"])\n",
    "\n",
    "df_result = pd.merge_asof(\n",
    "    df_source, df_data_pivot, left_on=[\"Open_Date\"], right_on=[\"Date_YahooFinance\"]\n",
    ")"
   ]
  },
  {
   "cell_type": "markdown",
   "id": "08d5ea97",
   "metadata": {},
   "source": [
    "### Add Open Year"
   ]
  },
  {
   "cell_type": "code",
   "execution_count": 89,
   "id": "9416c46a",
   "metadata": {
    "ExecuteTime": {
     "end_time": "2022-09-18T18:18:10.885537Z",
     "start_time": "2022-09-18T18:18:10.861541Z"
    }
   },
   "outputs": [],
   "source": [
    "df_result[\"Open_Year\"] = df_result[\"Open_Date\"].dt.year"
   ]
  },
  {
   "cell_type": "markdown",
   "id": "18fec413",
   "metadata": {},
   "source": [
    "### Test data"
   ]
  },
  {
   "cell_type": "code",
   "execution_count": 90,
   "id": "dd811c95",
   "metadata": {
    "ExecuteTime": {
     "end_time": "2022-09-18T18:18:10.901548Z",
     "start_time": "2022-09-18T18:18:10.893566Z"
    },
    "scrolled": true
   },
   "outputs": [
    {
     "data": {
      "text/plain": [
       "Index(['Unnamed: 0.1', 'Unnamed: 0', 'Open_Date', 'Close_Date', 'Symbol',\n",
       "       'Quantity', 'Pnl', 'OpenAct', 'CloseAct', 'Open_Price', 'Close_Price',\n",
       "       'Comm_Tot', 'DATE', 'ACTION', 'QTYCHG', 'PRICE', 'TIME', 'UNNAMED: 6',\n",
       "       'COMMISSION', 'UNNAMED: 8', 'CASH CHG (PNL)', 'COMMENTS', 'PCTRETURN',\n",
       "       'DETAILS', 'STARTDATE', 'COMPANY NAME (IN ALPHABETICAL ORDER)',\n",
       "       'TICKER', 'STOP', '% TO STOP', 'CURRENT PRICE', '% TO TARGET',\n",
       "       'AT PRICE', 'TARGET', 'EPS1', 'EPS2', 'FYEND', 'DAYSTOFYEND',\n",
       "       'FYEPSNXT', 'GROWTH*0.5TO0.75', 'ROIC (BW ROA ROE)', 'TGT FWD P/E',\n",
       "       'YEARS TO NORMALIZATION', 'LASTUPDATED', 'CATEGORY', 'COMMENTS.1',\n",
       "       'FILENAME', 'DayOfWeek0Mon', 'Date_YahooFinance', 'Close_^GSPC',\n",
       "       'Close_^VIX', 'Open_Year'],\n",
       "      dtype='object')"
      ]
     },
     "execution_count": 90,
     "metadata": {},
     "output_type": "execute_result"
    }
   ],
   "source": [
    "df_result.columns"
   ]
  },
  {
   "cell_type": "code",
   "execution_count": 91,
   "id": "9605bd81",
   "metadata": {
    "ExecuteTime": {
     "end_time": "2022-09-18T18:18:11.245538Z",
     "start_time": "2022-09-18T18:18:10.907546Z"
    },
    "lines_to_next_cell": 2
   },
   "outputs": [
    {
     "data": {
      "image/png": "[encoded data removed]",
      "text/plain": [
       "<Figure size 432x288 with 1 Axes>"
      ]
     },
     "metadata": {
      "needs_background": "light"
     },
     "output_type": "display_data"
    },
    {
     "data": {
      "image/png": "[encoded data removed]",
      "text/plain": [
       "<Figure size 432x288 with 1 Axes>"
      ]
     },
     "metadata": {
      "needs_background": "light"
     },
     "output_type": "display_data"
    }
   ],
   "source": [
    "for symbol in tickers:\n",
    "    temp_df = pd.pivot_table(\n",
    "        df_result,\n",
    "        index=[\"Open_Year\"],\n",
    "        values=\"Close_\" + symbol,\n",
    "        aggfunc=\"mean\",\n",
    "        dropna=False,\n",
    "    )\n",
    "    temp_df.plot()\n",
    "\n",
    "    assert min(temp_df[\"Close_\" + symbol]) > 0, \"values should all be above zero\""
   ]
  },
  {
   "cell_type": "markdown",
   "id": "63f8ac7e",
   "metadata": {},
   "source": [
    "## pull data from Quandl  / Nasdaq Data Link\n",
    "1. log in is from [Nasdaq data link](https://docs.data.nasdaq.com/docs/python-installation)"
   ]
  },
  {
   "cell_type": "code",
   "execution_count": 92,
   "id": "fa3c76d3",
   "metadata": {
    "ExecuteTime": {
     "end_time": "2022-09-18T18:18:11.261541Z",
     "start_time": "2022-09-18T18:18:11.247537Z"
    }
   },
   "outputs": [],
   "source": [
    "externalvar_dict = {\n",
    "    #     \"AAII/AAII_SENTIMENT\": \"AAII_SENT\",  ## aaii sentiment looks like it ends 4/2021\n",
    "    \"UMICH/SOC1\": \"CONS_SENT\",  # consumer sentiment\n",
    "    #     \"FED/RIMLPAAAR_N_B\": \"FED_AAACORP\",  ## daily Fed AAA rates #TODO ned to fix different timeframes\n",
    "}"
   ]
  },
  {
   "cell_type": "code",
   "execution_count": 93,
   "id": "5e83a9cb",
   "metadata": {
    "ExecuteTime": {
     "end_time": "2022-09-18T18:18:11.276538Z",
     "start_time": "2022-09-18T18:18:11.266542Z"
    }
   },
   "outputs": [],
   "source": [
    "# for later\n",
    "# import nasdaqdatalink\n",
    "\n",
    "# NASDAQ_DATA_LINK_API_KEY = var_dict[\"NASDAQ_DATA_LINK_API_KEY\"]\n",
    "# data = nasdaqdatalink.get(\"AAII/AAII_SENTIMENT\", start_date=\"2015-01-01\", end_date=\"2030-12-31\")"
   ]
  },
  {
   "cell_type": "code",
   "execution_count": 94,
   "id": "67de48b6",
   "metadata": {
    "ExecuteTime": {
     "end_time": "2022-09-18T18:18:11.789666Z",
     "start_time": "2022-09-18T18:18:11.282543Z"
    },
    "lines_to_next_cell": 2
   },
   "outputs": [],
   "source": [
    "if reload_data:\n",
    "\n",
    "    #     df_varlist = []\n",
    "\n",
    "    for variable, value in externalvar_dict.items():\n",
    "\n",
    "        quandl_key = var_dict[\"QUANDL_API\"]\n",
    "\n",
    "        QR = QuandlReader(variable, api_key=quandl_key, start=\"1/1/2015\", end=end_date)\n",
    "\n",
    "        QR_df = QR.read().reset_index()\n",
    "\n",
    "        QR_df.columns = [\n",
    "            value + \"_\" + str(col)  # if col.upper() != \"DATE\" else col\n",
    "            for col in QR_df.columns\n",
    "        ]\n",
    "\n",
    "        #         df_varlist.append(QR_df)\n",
    "\n",
    "        # merge Quandl\n",
    "        QR_df_sorted = QR_df.sort_values([f\"{value}_Date\"])\n",
    "        QR_df_sorted[\"Date\"] = pd.to_datetime(QR_df[f\"{value}_Date\"], errors=\"coerce\")\n",
    "\n",
    "        # add iteratively\n",
    "        df_result = pd.merge_asof(\n",
    "            df_result,\n",
    "            QR_df_sorted,\n",
    "            left_on=[\"Open_Date\"],\n",
    "            right_on=[f\"{value}_Date\"],\n",
    "            direction=\"backward\", # can't see forward\n",
    "        )\n",
    "\n",
    "        #     QR_df = pd.concat(\n",
    "        #         [df.set_index(\"Date\") for df in df_varlist], axis=1, join=\"outer\"\n",
    "        #     ).reset_index()\n",
    "        QR_df.to_csv(f\"output/c_quandl_{value}.csv\")\n",
    "else:\n",
    "    for variable, value in externalvar_dict.items():\n",
    "\n",
    "        QR_df = pd.read_csv(f\"output/c_quandl_{value}.csv\")\n",
    "\n",
    "        # merge Quandl\n",
    "        QR_df_sorted = QR_df.sort_values([\"Date\"])\n",
    "        QR_df_sorted[\"Date\"] = pd.to_datetime(QR_df[f\"{value}_Date\"], errors=\"coerce\")\n",
    "\n",
    "        df_result = pd.merge_asof(\n",
    "            df_result,\n",
    "            QR_df_sorted,\n",
    "            left_on=[\"Open_Date\"],\n",
    "            right_on=[f\"{value}_Date\"],\n",
    "            direction=\"backward\", # can't see forward\n",
    "        )"
   ]
  },
  {
   "cell_type": "code",
   "execution_count": 95,
   "id": "e2b4ce90",
   "metadata": {
    "ExecuteTime": {
     "end_time": "2022-09-18T18:18:11.836536Z",
     "start_time": "2022-09-18T18:18:11.791543Z"
    }
   },
   "outputs": [
    {
     "data": {
      "text/html": [
       "<div>\n",
       "<style scoped>\n",
       "    .dataframe tbody tr th:only-of-type {\n",
       "        vertical-align: middle;\n",
       "    }\n",
       "\n",
       "    .dataframe tbody tr th {\n",
       "        vertical-align: top;\n",
       "    }\n",
       "\n",
       "    .dataframe thead th {\n",
       "        text-align: right;\n",
       "    }\n",
       "</style>\n",
       "<table border=\"1\" class=\"dataframe\">\n",
       "  <thead>\n",
       "    <tr style=\"text-align: right;\">\n",
       "      <th></th>\n",
       "      <th>Unnamed: 0.1</th>\n",
       "      <th>Unnamed: 0</th>\n",
       "      <th>Open_Date</th>\n",
       "      <th>Close_Date</th>\n",
       "      <th>Symbol</th>\n",
       "      <th>Quantity</th>\n",
       "      <th>Pnl</th>\n",
       "      <th>OpenAct</th>\n",
       "      <th>CloseAct</th>\n",
       "      <th>Open_Price</th>\n",
       "      <th>...</th>\n",
       "      <th>COMMENTS.1</th>\n",
       "      <th>FILENAME</th>\n",
       "      <th>DayOfWeek0Mon</th>\n",
       "      <th>Date_YahooFinance</th>\n",
       "      <th>Close_^GSPC</th>\n",
       "      <th>Close_^VIX</th>\n",
       "      <th>Open_Year</th>\n",
       "      <th>CONS_SENT_Date</th>\n",
       "      <th>CONS_SENT_Index</th>\n",
       "      <th>Date</th>\n",
       "    </tr>\n",
       "  </thead>\n",
       "  <tbody>\n",
       "    <tr>\n",
       "      <th>0</th>\n",
       "      <td>0</td>\n",
       "      <td>0</td>\n",
       "      <td>2015-06-30</td>\n",
       "      <td>2016-01-07 11:12:44</td>\n",
       "      <td>AER</td>\n",
       "      <td>600.0</td>\n",
       "      <td>-4851.23</td>\n",
       "      <td>B</td>\n",
       "      <td>S</td>\n",
       "      <td>46.972120</td>\n",
       "      <td>...</td>\n",
       "      <td>NaN</td>\n",
       "      <td>PCM-Tracking - LogHist.csv</td>\n",
       "      <td>1.0</td>\n",
       "      <td>2015-06-30</td>\n",
       "      <td>2063.110107</td>\n",
       "      <td>18.23</td>\n",
       "      <td>2015</td>\n",
       "      <td>2015-06-30</td>\n",
       "      <td>96.1</td>\n",
       "      <td>2015-06-30</td>\n",
       "    </tr>\n",
       "    <tr>\n",
       "      <th>1</th>\n",
       "      <td>62</td>\n",
       "      <td>15</td>\n",
       "      <td>2015-06-30</td>\n",
       "      <td>2016-01-07 14:17:15</td>\n",
       "      <td>FMCC</td>\n",
       "      <td>3500.0</td>\n",
       "      <td>-2925.12</td>\n",
       "      <td>B</td>\n",
       "      <td>S</td>\n",
       "      <td>2.435028</td>\n",
       "      <td>...</td>\n",
       "      <td>NaN</td>\n",
       "      <td>PCM-Tracking - LogHist.csv</td>\n",
       "      <td>3.0</td>\n",
       "      <td>2015-06-30</td>\n",
       "      <td>2063.110107</td>\n",
       "      <td>18.23</td>\n",
       "      <td>2015</td>\n",
       "      <td>2015-06-30</td>\n",
       "      <td>96.1</td>\n",
       "      <td>2015-06-30</td>\n",
       "    </tr>\n",
       "    <tr>\n",
       "      <th>2</th>\n",
       "      <td>61</td>\n",
       "      <td>5</td>\n",
       "      <td>2015-06-30</td>\n",
       "      <td>2016-01-07 11:44:15</td>\n",
       "      <td>LYB</td>\n",
       "      <td>200.0</td>\n",
       "      <td>-2773.30</td>\n",
       "      <td>B</td>\n",
       "      <td>S</td>\n",
       "      <td>96.065000</td>\n",
       "      <td>...</td>\n",
       "      <td>NaN</td>\n",
       "      <td>NaN</td>\n",
       "      <td>NaN</td>\n",
       "      <td>2015-06-30</td>\n",
       "      <td>2063.110107</td>\n",
       "      <td>18.23</td>\n",
       "      <td>2015</td>\n",
       "      <td>2015-06-30</td>\n",
       "      <td>96.1</td>\n",
       "      <td>2015-06-30</td>\n",
       "    </tr>\n",
       "    <tr>\n",
       "      <th>3</th>\n",
       "      <td>60</td>\n",
       "      <td>657</td>\n",
       "      <td>2015-06-30</td>\n",
       "      <td>2016-08-18 11:16:45</td>\n",
       "      <td>AWH</td>\n",
       "      <td>200.0</td>\n",
       "      <td>-405.17</td>\n",
       "      <td>B</td>\n",
       "      <td>S</td>\n",
       "      <td>41.795663</td>\n",
       "      <td>...</td>\n",
       "      <td>NaN</td>\n",
       "      <td>PCM-Tracking - LogHist.csv</td>\n",
       "      <td>1.0</td>\n",
       "      <td>2015-06-30</td>\n",
       "      <td>2063.110107</td>\n",
       "      <td>18.23</td>\n",
       "      <td>2015</td>\n",
       "      <td>2015-06-30</td>\n",
       "      <td>96.1</td>\n",
       "      <td>2015-06-30</td>\n",
       "    </tr>\n",
       "    <tr>\n",
       "      <th>4</th>\n",
       "      <td>59</td>\n",
       "      <td>64</td>\n",
       "      <td>2015-06-30</td>\n",
       "      <td>2016-01-20 15:22:41</td>\n",
       "      <td>VALE</td>\n",
       "      <td>8000.0</td>\n",
       "      <td>6677.80</td>\n",
       "      <td>S</td>\n",
       "      <td>B</td>\n",
       "      <td>3.184507</td>\n",
       "      <td>...</td>\n",
       "      <td>NaN</td>\n",
       "      <td>PCM-Tracking - LogHist.csv</td>\n",
       "      <td>1.0</td>\n",
       "      <td>2015-06-30</td>\n",
       "      <td>2063.110107</td>\n",
       "      <td>18.23</td>\n",
       "      <td>2015</td>\n",
       "      <td>2015-06-30</td>\n",
       "      <td>96.1</td>\n",
       "      <td>2015-06-30</td>\n",
       "    </tr>\n",
       "  </tbody>\n",
       "</table>\n",
       "<p>5 rows × 54 columns</p>\n",
       "</div>"
      ],
      "text/plain": [
       "   Unnamed: 0.1  Unnamed: 0  Open_Date           Close_Date Symbol  Quantity  \\\n",
       "0             0           0 2015-06-30  2016-01-07 11:12:44    AER     600.0   \n",
       "1            62          15 2015-06-30  2016-01-07 14:17:15   FMCC    3500.0   \n",
       "2            61           5 2015-06-30  2016-01-07 11:44:15    LYB     200.0   \n",
       "3            60         657 2015-06-30  2016-08-18 11:16:45    AWH     200.0   \n",
       "4            59          64 2015-06-30  2016-01-20 15:22:41   VALE    8000.0   \n",
       "\n",
       "       Pnl OpenAct CloseAct  Open_Price  ...  COMMENTS.1  \\\n",
       "0 -4851.23       B        S   46.972120  ...         NaN   \n",
       "1 -2925.12       B        S    2.435028  ...         NaN   \n",
       "2 -2773.30       B        S   96.065000  ...         NaN   \n",
       "3  -405.17       B        S   41.795663  ...         NaN   \n",
       "4  6677.80       S        B    3.184507  ...         NaN   \n",
       "\n",
       "                     FILENAME DayOfWeek0Mon Date_YahooFinance  Close_^GSPC  \\\n",
       "0  PCM-Tracking - LogHist.csv           1.0        2015-06-30  2063.110107   \n",
       "1  PCM-Tracking - LogHist.csv           3.0        2015-06-30  2063.110107   \n",
       "2                         NaN           NaN        2015-06-30  2063.110107   \n",
       "3  PCM-Tracking - LogHist.csv           1.0        2015-06-30  2063.110107   \n",
       "4  PCM-Tracking - LogHist.csv           1.0        2015-06-30  2063.110107   \n",
       "\n",
       "   Close_^VIX Open_Year CONS_SENT_Date  CONS_SENT_Index       Date  \n",
       "0       18.23      2015     2015-06-30             96.1 2015-06-30  \n",
       "1       18.23      2015     2015-06-30             96.1 2015-06-30  \n",
       "2       18.23      2015     2015-06-30             96.1 2015-06-30  \n",
       "3       18.23      2015     2015-06-30             96.1 2015-06-30  \n",
       "4       18.23      2015     2015-06-30             96.1 2015-06-30  \n",
       "\n",
       "[5 rows x 54 columns]"
      ]
     },
     "execution_count": 95,
     "metadata": {},
     "output_type": "execute_result"
    }
   ],
   "source": [
    "df_result.head()"
   ]
  },
  {
   "cell_type": "code",
   "execution_count": 96,
   "id": "659eedb2",
   "metadata": {
    "ExecuteTime": {
     "end_time": "2022-09-18T18:18:12.246536Z",
     "start_time": "2022-09-18T18:18:11.840538Z"
    },
    "lines_to_next_cell": 2,
    "scrolled": true
   },
   "outputs": [
    {
     "data": {
      "image/png": "[encoded data removed]",
      "text/plain": [
       "<Figure size 432x288 with 1 Axes>"
      ]
     },
     "metadata": {
      "needs_background": "light"
     },
     "output_type": "display_data"
    },
    {
     "data": {
      "image/png": "[encoded data removed]",
      "text/plain": [
       "<Figure size 432x288 with 1 Axes>"
      ]
     },
     "metadata": {
      "needs_background": "light"
     },
     "output_type": "display_data"
    }
   ],
   "source": [
    "cols_with_errors = []\n",
    "\n",
    "for variable, value in externalvar_dict.items():\n",
    "    for c in df_result.columns:\n",
    "        if value in c:\n",
    "            temp_df = pd.pivot_table(\n",
    "                df_result, index=[\"Open_Year\"], values=c, aggfunc=\"mean\", dropna=False\n",
    "            )\n",
    "            temp_df.plot()\n",
    "\n",
    "            try:\n",
    "                assert sum(temp_df[c].isna()) == 0, \"values should all be filled\"\n",
    "            except:\n",
    "                cols_with_errors.append(c)"
   ]
  },
  {
   "cell_type": "code",
   "execution_count": 97,
   "id": "d54cfc89",
   "metadata": {
    "ExecuteTime": {
     "end_time": "2022-09-18T18:18:12.261542Z",
     "start_time": "2022-09-18T18:18:12.250541Z"
    },
    "scrolled": false
   },
   "outputs": [
    {
     "data": {
      "text/plain": [
       "[]"
      ]
     },
     "execution_count": 97,
     "metadata": {},
     "output_type": "execute_result"
    }
   ],
   "source": [
    "cols_with_errors"
   ]
  },
  {
   "cell_type": "code",
   "execution_count": 98,
   "id": "e275ff63",
   "metadata": {
    "ExecuteTime": {
     "end_time": "2022-09-18T18:18:12.292542Z",
     "start_time": "2022-09-18T18:18:12.270541Z"
    }
   },
   "outputs": [
    {
     "data": {
      "text/html": [
       "<div>\n",
       "<style scoped>\n",
       "    .dataframe tbody tr th:only-of-type {\n",
       "        vertical-align: middle;\n",
       "    }\n",
       "\n",
       "    .dataframe tbody tr th {\n",
       "        vertical-align: top;\n",
       "    }\n",
       "\n",
       "    .dataframe thead th {\n",
       "        text-align: right;\n",
       "    }\n",
       "</style>\n",
       "<table border=\"1\" class=\"dataframe\">\n",
       "  <thead>\n",
       "    <tr style=\"text-align: right;\">\n",
       "      <th></th>\n",
       "      <th>CONS_SENT_Index</th>\n",
       "    </tr>\n",
       "    <tr>\n",
       "      <th>Open_Year</th>\n",
       "      <th></th>\n",
       "    </tr>\n",
       "  </thead>\n",
       "  <tbody>\n",
       "    <tr>\n",
       "      <th>2015</th>\n",
       "      <td>96.100000</td>\n",
       "    </tr>\n",
       "    <tr>\n",
       "      <th>2016</th>\n",
       "      <td>91.770485</td>\n",
       "    </tr>\n",
       "    <tr>\n",
       "      <th>2017</th>\n",
       "      <td>97.055612</td>\n",
       "    </tr>\n",
       "    <tr>\n",
       "      <th>2018</th>\n",
       "      <td>98.464423</td>\n",
       "    </tr>\n",
       "    <tr>\n",
       "      <th>2019</th>\n",
       "      <td>95.435714</td>\n",
       "    </tr>\n",
       "    <tr>\n",
       "      <th>2020</th>\n",
       "      <td>81.748201</td>\n",
       "    </tr>\n",
       "    <tr>\n",
       "      <th>2021</th>\n",
       "      <td>78.424299</td>\n",
       "    </tr>\n",
       "    <tr>\n",
       "      <th>2022</th>\n",
       "      <td>63.329787</td>\n",
       "    </tr>\n",
       "  </tbody>\n",
       "</table>\n",
       "</div>"
      ],
      "text/plain": [
       "           CONS_SENT_Index\n",
       "Open_Year                 \n",
       "2015             96.100000\n",
       "2016             91.770485\n",
       "2017             97.055612\n",
       "2018             98.464423\n",
       "2019             95.435714\n",
       "2020             81.748201\n",
       "2021             78.424299\n",
       "2022             63.329787"
      ]
     },
     "execution_count": 98,
     "metadata": {},
     "output_type": "execute_result"
    }
   ],
   "source": [
    "temp_df"
   ]
  },
  {
   "cell_type": "code",
   "execution_count": 99,
   "id": "2234af2f",
   "metadata": {
    "ExecuteTime": {
     "end_time": "2022-09-18T18:18:12.324537Z",
     "start_time": "2022-09-18T18:18:12.295537Z"
    }
   },
   "outputs": [],
   "source": [
    "# check diff\n",
    "assert len(set(cols_with_errors).difference(set(existing_err_cols))) == 0, \"new errors\""
   ]
  },
  {
   "cell_type": "markdown",
   "id": "d363f99a",
   "metadata": {},
   "source": [
    "## Pull AAII Sentiment Data\n",
    "Source: https://www.aaii.com/sentimentsurvey/sent_results"
   ]
  },
  {
   "cell_type": "code",
   "execution_count": 100,
   "id": "69d5463c",
   "metadata": {
    "ExecuteTime": {
     "end_time": "2022-09-18T18:18:12.478568Z",
     "start_time": "2022-09-18T18:18:12.327541Z"
    }
   },
   "outputs": [],
   "source": [
    "df_aaii = pd.read_excel(f\"data\\sentiment.xls\", header=[1, 2, 3])"
   ]
  },
  {
   "cell_type": "code",
   "execution_count": 101,
   "id": "ca7241c5",
   "metadata": {
    "ExecuteTime": {
     "end_time": "2022-09-18T18:18:12.510538Z",
     "start_time": "2022-09-18T18:18:12.482538Z"
    }
   },
   "outputs": [
    {
     "data": {
      "text/html": [
       "<div>\n",
       "<style scoped>\n",
       "    .dataframe tbody tr th:only-of-type {\n",
       "        vertical-align: middle;\n",
       "    }\n",
       "\n",
       "    .dataframe tbody tr th {\n",
       "        vertical-align: top;\n",
       "    }\n",
       "\n",
       "    .dataframe thead tr th {\n",
       "        text-align: left;\n",
       "    }\n",
       "</style>\n",
       "<table border=\"1\" class=\"dataframe\">\n",
       "  <thead>\n",
       "    <tr>\n",
       "      <th></th>\n",
       "      <th>Unnamed: 0_level_0</th>\n",
       "      <th>Unnamed: 1_level_0</th>\n",
       "      <th>Unnamed: 2_level_0</th>\n",
       "      <th>Unnamed: 3_level_0</th>\n",
       "      <th>Unnamed: 4_level_0</th>\n",
       "      <th colspan=\"5\" halign=\"left\">Bullish</th>\n",
       "      <th colspan=\"3\" halign=\"left\">S&amp;P 500</th>\n",
       "    </tr>\n",
       "    <tr>\n",
       "      <th></th>\n",
       "      <th>Reported</th>\n",
       "      <th>Reported</th>\n",
       "      <th>Reported</th>\n",
       "      <th>Reported</th>\n",
       "      <th>Reported</th>\n",
       "      <th>8-week</th>\n",
       "      <th>Bull-Bear</th>\n",
       "      <th>Bullish</th>\n",
       "      <th colspan=\"2\" halign=\"left\">Average</th>\n",
       "      <th colspan=\"3\" halign=\"left\">Weekly</th>\n",
       "    </tr>\n",
       "    <tr>\n",
       "      <th></th>\n",
       "      <th>Date</th>\n",
       "      <th>Bullish</th>\n",
       "      <th>Neutral</th>\n",
       "      <th>Bearish</th>\n",
       "      <th>Total</th>\n",
       "      <th>Mov Avg</th>\n",
       "      <th>Spread</th>\n",
       "      <th>Average</th>\n",
       "      <th>+St. Dev.</th>\n",
       "      <th>- St. Dev.</th>\n",
       "      <th>High</th>\n",
       "      <th>Low</th>\n",
       "      <th>Close</th>\n",
       "    </tr>\n",
       "  </thead>\n",
       "  <tbody>\n",
       "    <tr>\n",
       "      <th>0</th>\n",
       "      <td>NaN</td>\n",
       "      <td>NaN</td>\n",
       "      <td>NaN</td>\n",
       "      <td>NaN</td>\n",
       "      <td>NaN</td>\n",
       "      <td>NaN</td>\n",
       "      <td>NaN</td>\n",
       "      <td>NaN</td>\n",
       "      <td>NaN</td>\n",
       "      <td>NaN</td>\n",
       "      <td>NaN</td>\n",
       "      <td>NaN</td>\n",
       "      <td>NaN</td>\n",
       "    </tr>\n",
       "    <tr>\n",
       "      <th>1</th>\n",
       "      <td>1987-06-26 00:00:00</td>\n",
       "      <td>NaN</td>\n",
       "      <td>NaN</td>\n",
       "      <td>NaN</td>\n",
       "      <td>NaN</td>\n",
       "      <td>NaN</td>\n",
       "      <td>NaN</td>\n",
       "      <td>0.377495</td>\n",
       "      <td>0.478443</td>\n",
       "      <td>0.276547</td>\n",
       "      <td>NaN</td>\n",
       "      <td>NaN</td>\n",
       "      <td>NaN</td>\n",
       "    </tr>\n",
       "    <tr>\n",
       "      <th>2</th>\n",
       "      <td>1987-07-17 00:00:00</td>\n",
       "      <td>NaN</td>\n",
       "      <td>NaN</td>\n",
       "      <td>NaN</td>\n",
       "      <td>NaN</td>\n",
       "      <td>NaN</td>\n",
       "      <td>NaN</td>\n",
       "      <td>0.377495</td>\n",
       "      <td>0.478443</td>\n",
       "      <td>0.276547</td>\n",
       "      <td>314.59</td>\n",
       "      <td>307.63</td>\n",
       "      <td>314.59</td>\n",
       "    </tr>\n",
       "    <tr>\n",
       "      <th>3</th>\n",
       "      <td>1987-07-24 00:00:00</td>\n",
       "      <td>0.36</td>\n",
       "      <td>0.50</td>\n",
       "      <td>0.14</td>\n",
       "      <td>1.0</td>\n",
       "      <td>NaN</td>\n",
       "      <td>0.22</td>\n",
       "      <td>0.377495</td>\n",
       "      <td>0.478443</td>\n",
       "      <td>0.276547</td>\n",
       "      <td>311.39</td>\n",
       "      <td>307.81</td>\n",
       "      <td>309.27</td>\n",
       "    </tr>\n",
       "    <tr>\n",
       "      <th>4</th>\n",
       "      <td>1987-07-31 00:00:00</td>\n",
       "      <td>0.26</td>\n",
       "      <td>0.48</td>\n",
       "      <td>0.26</td>\n",
       "      <td>1.0</td>\n",
       "      <td>NaN</td>\n",
       "      <td>0.00</td>\n",
       "      <td>0.377495</td>\n",
       "      <td>0.478443</td>\n",
       "      <td>0.276547</td>\n",
       "      <td>318.66</td>\n",
       "      <td>310.65</td>\n",
       "      <td>318.66</td>\n",
       "    </tr>\n",
       "  </tbody>\n",
       "</table>\n",
       "</div>"
      ],
      "text/plain": [
       "    Unnamed: 0_level_0 Unnamed: 1_level_0 Unnamed: 2_level_0  \\\n",
       "              Reported           Reported           Reported   \n",
       "                  Date            Bullish            Neutral   \n",
       "0                  NaN                NaN                NaN   \n",
       "1  1987-06-26 00:00:00                NaN                NaN   \n",
       "2  1987-07-17 00:00:00                NaN                NaN   \n",
       "3  1987-07-24 00:00:00               0.36               0.50   \n",
       "4  1987-07-31 00:00:00               0.26               0.48   \n",
       "\n",
       "  Unnamed: 3_level_0 Unnamed: 4_level_0 Bullish                                \\\n",
       "            Reported           Reported  8-week Bull-Bear   Bullish   Average   \n",
       "             Bearish              Total Mov Avg    Spread   Average +St. Dev.   \n",
       "0                NaN                NaN     NaN       NaN       NaN       NaN   \n",
       "1                NaN                NaN     NaN       NaN  0.377495  0.478443   \n",
       "2                NaN                NaN     NaN       NaN  0.377495  0.478443   \n",
       "3               0.14                1.0     NaN      0.22  0.377495  0.478443   \n",
       "4               0.26                1.0     NaN      0.00  0.377495  0.478443   \n",
       "\n",
       "             S&P 500                  \n",
       "              Weekly                  \n",
       "  - St. Dev.    High     Low   Close  \n",
       "0        NaN     NaN     NaN     NaN  \n",
       "1   0.276547     NaN     NaN     NaN  \n",
       "2   0.276547  314.59  307.63  314.59  \n",
       "3   0.276547  311.39  307.81  309.27  \n",
       "4   0.276547  318.66  310.65  318.66  "
      ]
     },
     "execution_count": 101,
     "metadata": {},
     "output_type": "execute_result"
    }
   ],
   "source": [
    "df_aaii.head()"
   ]
  },
  {
   "cell_type": "code",
   "execution_count": 102,
   "id": "0d80cedf",
   "metadata": {
    "ExecuteTime": {
     "end_time": "2022-09-18T18:18:12.557546Z",
     "start_time": "2022-09-18T18:18:12.516543Z"
    },
    "scrolled": false
   },
   "outputs": [
    {
     "data": {
      "text/html": [
       "<div>\n",
       "<style scoped>\n",
       "    .dataframe tbody tr th:only-of-type {\n",
       "        vertical-align: middle;\n",
       "    }\n",
       "\n",
       "    .dataframe tbody tr th {\n",
       "        vertical-align: top;\n",
       "    }\n",
       "\n",
       "    .dataframe thead tr th {\n",
       "        text-align: left;\n",
       "    }\n",
       "</style>\n",
       "<table border=\"1\" class=\"dataframe\">\n",
       "  <thead>\n",
       "    <tr>\n",
       "      <th></th>\n",
       "      <th>Unnamed: 0_level_0</th>\n",
       "      <th>Unnamed: 1_level_0</th>\n",
       "      <th>Unnamed: 2_level_0</th>\n",
       "      <th>Unnamed: 3_level_0</th>\n",
       "      <th>Unnamed: 4_level_0</th>\n",
       "      <th colspan=\"5\" halign=\"left\">Bullish</th>\n",
       "      <th colspan=\"3\" halign=\"left\">S&amp;P 500</th>\n",
       "    </tr>\n",
       "    <tr>\n",
       "      <th></th>\n",
       "      <th>Reported</th>\n",
       "      <th>Reported</th>\n",
       "      <th>Reported</th>\n",
       "      <th>Reported</th>\n",
       "      <th>Reported</th>\n",
       "      <th>8-week</th>\n",
       "      <th>Bull-Bear</th>\n",
       "      <th>Bullish</th>\n",
       "      <th colspan=\"2\" halign=\"left\">Average</th>\n",
       "      <th colspan=\"3\" halign=\"left\">Weekly</th>\n",
       "    </tr>\n",
       "    <tr>\n",
       "      <th></th>\n",
       "      <th>Date</th>\n",
       "      <th>Bullish</th>\n",
       "      <th>Neutral</th>\n",
       "      <th>Bearish</th>\n",
       "      <th>Total</th>\n",
       "      <th>Mov Avg</th>\n",
       "      <th>Spread</th>\n",
       "      <th>Average</th>\n",
       "      <th>+St. Dev.</th>\n",
       "      <th>- St. Dev.</th>\n",
       "      <th>High</th>\n",
       "      <th>Low</th>\n",
       "      <th>Close</th>\n",
       "    </tr>\n",
       "  </thead>\n",
       "  <tbody>\n",
       "    <tr>\n",
       "      <th>2023</th>\n",
       "      <td>Count '17</td>\n",
       "      <td>52.0</td>\n",
       "      <td>52.0</td>\n",
       "      <td>52.0</td>\n",
       "      <td>NaN</td>\n",
       "      <td>52.0</td>\n",
       "      <td>52.0</td>\n",
       "      <td>NaN</td>\n",
       "      <td>NaN</td>\n",
       "      <td>NaN</td>\n",
       "      <td>52.0</td>\n",
       "      <td>52.0</td>\n",
       "      <td>52.0</td>\n",
       "    </tr>\n",
       "    <tr>\n",
       "      <th>2024</th>\n",
       "      <td>Count '18</td>\n",
       "      <td>52.0</td>\n",
       "      <td>52.0</td>\n",
       "      <td>52.0</td>\n",
       "      <td>NaN</td>\n",
       "      <td>52.0</td>\n",
       "      <td>52.0</td>\n",
       "      <td>NaN</td>\n",
       "      <td>NaN</td>\n",
       "      <td>NaN</td>\n",
       "      <td>52.0</td>\n",
       "      <td>52.0</td>\n",
       "      <td>52.0</td>\n",
       "    </tr>\n",
       "    <tr>\n",
       "      <th>2025</th>\n",
       "      <td>Count '19</td>\n",
       "      <td>52.0</td>\n",
       "      <td>52.0</td>\n",
       "      <td>52.0</td>\n",
       "      <td>NaN</td>\n",
       "      <td>52.0</td>\n",
       "      <td>52.0</td>\n",
       "      <td>NaN</td>\n",
       "      <td>NaN</td>\n",
       "      <td>NaN</td>\n",
       "      <td>52.0</td>\n",
       "      <td>52.0</td>\n",
       "      <td>52.0</td>\n",
       "    </tr>\n",
       "    <tr>\n",
       "      <th>2026</th>\n",
       "      <td>Count '20</td>\n",
       "      <td>53.0</td>\n",
       "      <td>53.0</td>\n",
       "      <td>53.0</td>\n",
       "      <td>NaN</td>\n",
       "      <td>53.0</td>\n",
       "      <td>53.0</td>\n",
       "      <td>NaN</td>\n",
       "      <td>NaN</td>\n",
       "      <td>NaN</td>\n",
       "      <td>53.0</td>\n",
       "      <td>53.0</td>\n",
       "      <td>53.0</td>\n",
       "    </tr>\n",
       "    <tr>\n",
       "      <th>2027</th>\n",
       "      <td>Count '21</td>\n",
       "      <td>51.0</td>\n",
       "      <td>51.0</td>\n",
       "      <td>51.0</td>\n",
       "      <td>NaN</td>\n",
       "      <td>51.0</td>\n",
       "      <td>51.0</td>\n",
       "      <td>NaN</td>\n",
       "      <td>NaN</td>\n",
       "      <td>NaN</td>\n",
       "      <td>51.0</td>\n",
       "      <td>51.0</td>\n",
       "      <td>51.0</td>\n",
       "    </tr>\n",
       "  </tbody>\n",
       "</table>\n",
       "</div>"
      ],
      "text/plain": [
       "     Unnamed: 0_level_0 Unnamed: 1_level_0 Unnamed: 2_level_0  \\\n",
       "               Reported           Reported           Reported   \n",
       "                   Date            Bullish            Neutral   \n",
       "2023          Count '17               52.0               52.0   \n",
       "2024          Count '18               52.0               52.0   \n",
       "2025          Count '19               52.0               52.0   \n",
       "2026          Count '20               53.0               53.0   \n",
       "2027          Count '21               51.0               51.0   \n",
       "\n",
       "     Unnamed: 3_level_0 Unnamed: 4_level_0 Bullish                    \\\n",
       "               Reported           Reported  8-week Bull-Bear Bullish   \n",
       "                Bearish              Total Mov Avg    Spread Average   \n",
       "2023               52.0                NaN    52.0      52.0     NaN   \n",
       "2024               52.0                NaN    52.0      52.0     NaN   \n",
       "2025               52.0                NaN    52.0      52.0     NaN   \n",
       "2026               53.0                NaN    53.0      53.0     NaN   \n",
       "2027               51.0                NaN    51.0      51.0     NaN   \n",
       "\n",
       "                          S&P 500              \n",
       "       Average             Weekly              \n",
       "     +St. Dev. - St. Dev.    High   Low Close  \n",
       "2023       NaN        NaN    52.0  52.0  52.0  \n",
       "2024       NaN        NaN    52.0  52.0  52.0  \n",
       "2025       NaN        NaN    52.0  52.0  52.0  \n",
       "2026       NaN        NaN    53.0  53.0  53.0  \n",
       "2027       NaN        NaN    51.0  51.0  51.0  "
      ]
     },
     "execution_count": 102,
     "metadata": {},
     "output_type": "execute_result"
    }
   ],
   "source": [
    "df_aaii.tail()"
   ]
  },
  {
   "cell_type": "code",
   "execution_count": 103,
   "id": "97d88822",
   "metadata": {
    "ExecuteTime": {
     "end_time": "2022-09-18T18:18:12.589540Z",
     "start_time": "2022-09-18T18:18:12.562539Z"
    }
   },
   "outputs": [
    {
     "data": {
      "text/plain": [
       "['0_level_0_Reported_Date',\n",
       " '1_level_0_Reported_Bullish',\n",
       " '2_level_0_Reported_Neutral',\n",
       " '3_level_0_Reported_Bearish',\n",
       " '4_level_0_Reported_Total',\n",
       " 'Bullish_8-week_Mov Avg',\n",
       " 'Bullish_Bull-Bear_Spread',\n",
       " 'Bullish_Bullish_Average',\n",
       " 'Bullish_Average_+St. Dev.',\n",
       " 'Bullish_Average_- St. Dev.',\n",
       " 'S&P 500_Weekly_High',\n",
       " 'S&P 500_Weekly_Low',\n",
       " 'S&P 500_Weekly_Close']"
      ]
     },
     "execution_count": 103,
     "metadata": {},
     "output_type": "execute_result"
    }
   ],
   "source": [
    "# squeeze multilevel columns to one\n",
    "col_list = list(df_aaii.columns.map(\"_\".join))\n",
    "col_list = [s.replace(\"Unnamed: \", \"\") for s in col_list]\n",
    "col_list"
   ]
  },
  {
   "cell_type": "code",
   "execution_count": 104,
   "id": "b9e81c7c",
   "metadata": {
    "ExecuteTime": {
     "end_time": "2022-09-18T18:18:12.620539Z",
     "start_time": "2022-09-18T18:18:12.594541Z"
    },
    "scrolled": true
   },
   "outputs": [
    {
     "data": {
      "text/plain": [
       "Index(['0_level_0_Reported_Date', '1_level_0_Reported_Bullish',\n",
       "       '2_level_0_Reported_Neutral', '3_level_0_Reported_Bearish',\n",
       "       '4_level_0_Reported_Total', 'Bullish_8-week_Mov Avg',\n",
       "       'Bullish_Bull-Bear_Spread', 'Bullish_Bullish_Average',\n",
       "       'Bullish_Average_+St. Dev.', 'Bullish_Average_- St. Dev.',\n",
       "       'S&P 500_Weekly_High', 'S&P 500_Weekly_Low', 'S&P 500_Weekly_Close'],\n",
       "      dtype='object')"
      ]
     },
     "execution_count": 104,
     "metadata": {},
     "output_type": "execute_result"
    }
   ],
   "source": [
    "df_aaii.columns = col_list\n",
    "df_aaii.columns"
   ]
  },
  {
   "cell_type": "code",
   "execution_count": 105,
   "id": "ae003eb0",
   "metadata": {
    "ExecuteTime": {
     "end_time": "2022-09-18T18:18:12.651544Z",
     "start_time": "2022-09-18T18:18:12.623551Z"
    }
   },
   "outputs": [],
   "source": [
    "# save only those with dates\n",
    "saved_idx = ~pd.to_datetime(df_aaii[\"0_level_0_Reported_Date\"], errors=\"coerce\").isna()"
   ]
  },
  {
   "cell_type": "code",
   "execution_count": 106,
   "id": "34bbdbc8",
   "metadata": {
    "ExecuteTime": {
     "end_time": "2022-09-18T18:18:12.698537Z",
     "start_time": "2022-09-18T18:18:12.657543Z"
    },
    "scrolled": false
   },
   "outputs": [
    {
     "data": {
      "text/html": [
       "<div>\n",
       "<style scoped>\n",
       "    .dataframe tbody tr th:only-of-type {\n",
       "        vertical-align: middle;\n",
       "    }\n",
       "\n",
       "    .dataframe tbody tr th {\n",
       "        vertical-align: top;\n",
       "    }\n",
       "\n",
       "    .dataframe thead th {\n",
       "        text-align: right;\n",
       "    }\n",
       "</style>\n",
       "<table border=\"1\" class=\"dataframe\">\n",
       "  <thead>\n",
       "    <tr style=\"text-align: right;\">\n",
       "      <th></th>\n",
       "      <th>0_level_0_Reported_Date</th>\n",
       "      <th>1_level_0_Reported_Bullish</th>\n",
       "      <th>2_level_0_Reported_Neutral</th>\n",
       "      <th>3_level_0_Reported_Bearish</th>\n",
       "      <th>4_level_0_Reported_Total</th>\n",
       "      <th>Bullish_8-week_Mov Avg</th>\n",
       "      <th>Bullish_Bull-Bear_Spread</th>\n",
       "      <th>Bullish_Bullish_Average</th>\n",
       "      <th>Bullish_Average_+St. Dev.</th>\n",
       "      <th>Bullish_Average_- St. Dev.</th>\n",
       "      <th>S&amp;P 500_Weekly_High</th>\n",
       "      <th>S&amp;P 500_Weekly_Low</th>\n",
       "      <th>S&amp;P 500_Weekly_Close</th>\n",
       "      <th>Date</th>\n",
       "    </tr>\n",
       "  </thead>\n",
       "  <tbody>\n",
       "    <tr>\n",
       "      <th>1</th>\n",
       "      <td>1987-06-26 00:00:00</td>\n",
       "      <td>NaN</td>\n",
       "      <td>NaN</td>\n",
       "      <td>NaN</td>\n",
       "      <td>NaN</td>\n",
       "      <td>NaN</td>\n",
       "      <td>NaN</td>\n",
       "      <td>0.377495</td>\n",
       "      <td>0.478443</td>\n",
       "      <td>0.276547</td>\n",
       "      <td>NaN</td>\n",
       "      <td>NaN</td>\n",
       "      <td>NaN</td>\n",
       "      <td>1987-06-26</td>\n",
       "    </tr>\n",
       "    <tr>\n",
       "      <th>2</th>\n",
       "      <td>1987-07-17 00:00:00</td>\n",
       "      <td>NaN</td>\n",
       "      <td>NaN</td>\n",
       "      <td>NaN</td>\n",
       "      <td>NaN</td>\n",
       "      <td>NaN</td>\n",
       "      <td>NaN</td>\n",
       "      <td>0.377495</td>\n",
       "      <td>0.478443</td>\n",
       "      <td>0.276547</td>\n",
       "      <td>314.59</td>\n",
       "      <td>307.63</td>\n",
       "      <td>314.59</td>\n",
       "      <td>1987-07-17</td>\n",
       "    </tr>\n",
       "    <tr>\n",
       "      <th>3</th>\n",
       "      <td>1987-07-24 00:00:00</td>\n",
       "      <td>0.36</td>\n",
       "      <td>0.50</td>\n",
       "      <td>0.14</td>\n",
       "      <td>1.0</td>\n",
       "      <td>NaN</td>\n",
       "      <td>0.22</td>\n",
       "      <td>0.377495</td>\n",
       "      <td>0.478443</td>\n",
       "      <td>0.276547</td>\n",
       "      <td>311.39</td>\n",
       "      <td>307.81</td>\n",
       "      <td>309.27</td>\n",
       "      <td>1987-07-24</td>\n",
       "    </tr>\n",
       "    <tr>\n",
       "      <th>4</th>\n",
       "      <td>1987-07-31 00:00:00</td>\n",
       "      <td>0.26</td>\n",
       "      <td>0.48</td>\n",
       "      <td>0.26</td>\n",
       "      <td>1.0</td>\n",
       "      <td>NaN</td>\n",
       "      <td>0.00</td>\n",
       "      <td>0.377495</td>\n",
       "      <td>0.478443</td>\n",
       "      <td>0.276547</td>\n",
       "      <td>318.66</td>\n",
       "      <td>310.65</td>\n",
       "      <td>318.66</td>\n",
       "      <td>1987-07-31</td>\n",
       "    </tr>\n",
       "    <tr>\n",
       "      <th>5</th>\n",
       "      <td>1987-08-07 00:00:00</td>\n",
       "      <td>0.56</td>\n",
       "      <td>0.15</td>\n",
       "      <td>0.29</td>\n",
       "      <td>1.0</td>\n",
       "      <td>NaN</td>\n",
       "      <td>0.27</td>\n",
       "      <td>0.377495</td>\n",
       "      <td>0.478443</td>\n",
       "      <td>0.276547</td>\n",
       "      <td>323.00</td>\n",
       "      <td>316.23</td>\n",
       "      <td>323.00</td>\n",
       "      <td>1987-08-07</td>\n",
       "    </tr>\n",
       "  </tbody>\n",
       "</table>\n",
       "</div>"
      ],
      "text/plain": [
       "  0_level_0_Reported_Date  1_level_0_Reported_Bullish  \\\n",
       "1     1987-06-26 00:00:00                         NaN   \n",
       "2     1987-07-17 00:00:00                         NaN   \n",
       "3     1987-07-24 00:00:00                        0.36   \n",
       "4     1987-07-31 00:00:00                        0.26   \n",
       "5     1987-08-07 00:00:00                        0.56   \n",
       "\n",
       "   2_level_0_Reported_Neutral  3_level_0_Reported_Bearish  \\\n",
       "1                         NaN                         NaN   \n",
       "2                         NaN                         NaN   \n",
       "3                        0.50                        0.14   \n",
       "4                        0.48                        0.26   \n",
       "5                        0.15                        0.29   \n",
       "\n",
       "   4_level_0_Reported_Total  Bullish_8-week_Mov Avg  Bullish_Bull-Bear_Spread  \\\n",
       "1                       NaN                     NaN                       NaN   \n",
       "2                       NaN                     NaN                       NaN   \n",
       "3                       1.0                     NaN                      0.22   \n",
       "4                       1.0                     NaN                      0.00   \n",
       "5                       1.0                     NaN                      0.27   \n",
       "\n",
       "   Bullish_Bullish_Average  Bullish_Average_+St. Dev.  \\\n",
       "1                 0.377495                   0.478443   \n",
       "2                 0.377495                   0.478443   \n",
       "3                 0.377495                   0.478443   \n",
       "4                 0.377495                   0.478443   \n",
       "5                 0.377495                   0.478443   \n",
       "\n",
       "   Bullish_Average_- St. Dev.  S&P 500_Weekly_High  S&P 500_Weekly_Low  \\\n",
       "1                    0.276547                  NaN                 NaN   \n",
       "2                    0.276547               314.59              307.63   \n",
       "3                    0.276547               311.39              307.81   \n",
       "4                    0.276547               318.66              310.65   \n",
       "5                    0.276547               323.00              316.23   \n",
       "\n",
       "   S&P 500_Weekly_Close       Date  \n",
       "1                   NaN 1987-06-26  \n",
       "2                314.59 1987-07-17  \n",
       "3                309.27 1987-07-24  \n",
       "4                318.66 1987-07-31  \n",
       "5                323.00 1987-08-07  "
      ]
     },
     "execution_count": 106,
     "metadata": {},
     "output_type": "execute_result"
    }
   ],
   "source": [
    "# final usable\n",
    "df_aaii = df_aaii.loc[saved_idx]\n",
    "df_aaii[\"Date\"] = pd.to_datetime(df_aaii[\"0_level_0_Reported_Date\"])\n",
    "df_aaii.head()"
   ]
  },
  {
   "cell_type": "code",
   "execution_count": 107,
   "id": "1a902d60",
   "metadata": {
    "ExecuteTime": {
     "end_time": "2022-09-18T18:18:12.730541Z",
     "start_time": "2022-09-18T18:18:12.700539Z"
    }
   },
   "outputs": [
    {
     "data": {
      "text/html": [
       "<div>\n",
       "<style scoped>\n",
       "    .dataframe tbody tr th:only-of-type {\n",
       "        vertical-align: middle;\n",
       "    }\n",
       "\n",
       "    .dataframe tbody tr th {\n",
       "        vertical-align: top;\n",
       "    }\n",
       "\n",
       "    .dataframe thead th {\n",
       "        text-align: right;\n",
       "    }\n",
       "</style>\n",
       "<table border=\"1\" class=\"dataframe\">\n",
       "  <thead>\n",
       "    <tr style=\"text-align: right;\">\n",
       "      <th></th>\n",
       "      <th>AAII_0_level_0_Reported_Date</th>\n",
       "      <th>AAII_1_level_0_Reported_Bullish</th>\n",
       "      <th>AAII_2_level_0_Reported_Neutral</th>\n",
       "      <th>AAII_3_level_0_Reported_Bearish</th>\n",
       "      <th>AAII_4_level_0_Reported_Total</th>\n",
       "      <th>AAII_Bullish_8-week_Mov Avg</th>\n",
       "      <th>AAII_Bullish_Bull-Bear_Spread</th>\n",
       "      <th>AAII_Bullish_Bullish_Average</th>\n",
       "      <th>AAII_Bullish_Average_+St. Dev.</th>\n",
       "      <th>AAII_Bullish_Average_- St. Dev.</th>\n",
       "      <th>AAII_S&amp;P 500_Weekly_High</th>\n",
       "      <th>AAII_S&amp;P 500_Weekly_Low</th>\n",
       "      <th>AAII_S&amp;P 500_Weekly_Close</th>\n",
       "      <th>AAII_Date</th>\n",
       "    </tr>\n",
       "  </thead>\n",
       "  <tbody>\n",
       "    <tr>\n",
       "      <th>1</th>\n",
       "      <td>1987-06-26 00:00:00</td>\n",
       "      <td>NaN</td>\n",
       "      <td>NaN</td>\n",
       "      <td>NaN</td>\n",
       "      <td>NaN</td>\n",
       "      <td>NaN</td>\n",
       "      <td>NaN</td>\n",
       "      <td>0.377495</td>\n",
       "      <td>0.478443</td>\n",
       "      <td>0.276547</td>\n",
       "      <td>NaN</td>\n",
       "      <td>NaN</td>\n",
       "      <td>NaN</td>\n",
       "      <td>1987-06-26</td>\n",
       "    </tr>\n",
       "    <tr>\n",
       "      <th>2</th>\n",
       "      <td>1987-07-17 00:00:00</td>\n",
       "      <td>NaN</td>\n",
       "      <td>NaN</td>\n",
       "      <td>NaN</td>\n",
       "      <td>NaN</td>\n",
       "      <td>NaN</td>\n",
       "      <td>NaN</td>\n",
       "      <td>0.377495</td>\n",
       "      <td>0.478443</td>\n",
       "      <td>0.276547</td>\n",
       "      <td>314.59</td>\n",
       "      <td>307.63</td>\n",
       "      <td>314.59</td>\n",
       "      <td>1987-07-17</td>\n",
       "    </tr>\n",
       "    <tr>\n",
       "      <th>3</th>\n",
       "      <td>1987-07-24 00:00:00</td>\n",
       "      <td>0.36</td>\n",
       "      <td>0.50</td>\n",
       "      <td>0.14</td>\n",
       "      <td>1.0</td>\n",
       "      <td>NaN</td>\n",
       "      <td>0.22</td>\n",
       "      <td>0.377495</td>\n",
       "      <td>0.478443</td>\n",
       "      <td>0.276547</td>\n",
       "      <td>311.39</td>\n",
       "      <td>307.81</td>\n",
       "      <td>309.27</td>\n",
       "      <td>1987-07-24</td>\n",
       "    </tr>\n",
       "    <tr>\n",
       "      <th>4</th>\n",
       "      <td>1987-07-31 00:00:00</td>\n",
       "      <td>0.26</td>\n",
       "      <td>0.48</td>\n",
       "      <td>0.26</td>\n",
       "      <td>1.0</td>\n",
       "      <td>NaN</td>\n",
       "      <td>0.00</td>\n",
       "      <td>0.377495</td>\n",
       "      <td>0.478443</td>\n",
       "      <td>0.276547</td>\n",
       "      <td>318.66</td>\n",
       "      <td>310.65</td>\n",
       "      <td>318.66</td>\n",
       "      <td>1987-07-31</td>\n",
       "    </tr>\n",
       "    <tr>\n",
       "      <th>5</th>\n",
       "      <td>1987-08-07 00:00:00</td>\n",
       "      <td>0.56</td>\n",
       "      <td>0.15</td>\n",
       "      <td>0.29</td>\n",
       "      <td>1.0</td>\n",
       "      <td>NaN</td>\n",
       "      <td>0.27</td>\n",
       "      <td>0.377495</td>\n",
       "      <td>0.478443</td>\n",
       "      <td>0.276547</td>\n",
       "      <td>323.00</td>\n",
       "      <td>316.23</td>\n",
       "      <td>323.00</td>\n",
       "      <td>1987-08-07</td>\n",
       "    </tr>\n",
       "  </tbody>\n",
       "</table>\n",
       "</div>"
      ],
      "text/plain": [
       "  AAII_0_level_0_Reported_Date  AAII_1_level_0_Reported_Bullish  \\\n",
       "1          1987-06-26 00:00:00                              NaN   \n",
       "2          1987-07-17 00:00:00                              NaN   \n",
       "3          1987-07-24 00:00:00                             0.36   \n",
       "4          1987-07-31 00:00:00                             0.26   \n",
       "5          1987-08-07 00:00:00                             0.56   \n",
       "\n",
       "   AAII_2_level_0_Reported_Neutral  AAII_3_level_0_Reported_Bearish  \\\n",
       "1                              NaN                              NaN   \n",
       "2                              NaN                              NaN   \n",
       "3                             0.50                             0.14   \n",
       "4                             0.48                             0.26   \n",
       "5                             0.15                             0.29   \n",
       "\n",
       "   AAII_4_level_0_Reported_Total  AAII_Bullish_8-week_Mov Avg  \\\n",
       "1                            NaN                          NaN   \n",
       "2                            NaN                          NaN   \n",
       "3                            1.0                          NaN   \n",
       "4                            1.0                          NaN   \n",
       "5                            1.0                          NaN   \n",
       "\n",
       "   AAII_Bullish_Bull-Bear_Spread  AAII_Bullish_Bullish_Average  \\\n",
       "1                            NaN                      0.377495   \n",
       "2                            NaN                      0.377495   \n",
       "3                           0.22                      0.377495   \n",
       "4                           0.00                      0.377495   \n",
       "5                           0.27                      0.377495   \n",
       "\n",
       "   AAII_Bullish_Average_+St. Dev.  AAII_Bullish_Average_- St. Dev.  \\\n",
       "1                        0.478443                         0.276547   \n",
       "2                        0.478443                         0.276547   \n",
       "3                        0.478443                         0.276547   \n",
       "4                        0.478443                         0.276547   \n",
       "5                        0.478443                         0.276547   \n",
       "\n",
       "   AAII_S&P 500_Weekly_High  AAII_S&P 500_Weekly_Low  \\\n",
       "1                       NaN                      NaN   \n",
       "2                    314.59                   307.63   \n",
       "3                    311.39                   307.81   \n",
       "4                    318.66                   310.65   \n",
       "5                    323.00                   316.23   \n",
       "\n",
       "   AAII_S&P 500_Weekly_Close  AAII_Date  \n",
       "1                        NaN 1987-06-26  \n",
       "2                     314.59 1987-07-17  \n",
       "3                     309.27 1987-07-24  \n",
       "4                     318.66 1987-07-31  \n",
       "5                     323.00 1987-08-07  "
      ]
     },
     "execution_count": 107,
     "metadata": {},
     "output_type": "execute_result"
    }
   ],
   "source": [
    "df_aaii_sorted.head()"
   ]
  },
  {
   "cell_type": "code",
   "execution_count": 108,
   "id": "33c03403",
   "metadata": {
    "ExecuteTime": {
     "end_time": "2022-09-18T18:18:12.824537Z",
     "start_time": "2022-09-18T18:18:12.746548Z"
    }
   },
   "outputs": [
    {
     "data": {
      "text/html": [
       "<div>\n",
       "<style scoped>\n",
       "    .dataframe tbody tr th:only-of-type {\n",
       "        vertical-align: middle;\n",
       "    }\n",
       "\n",
       "    .dataframe tbody tr th {\n",
       "        vertical-align: top;\n",
       "    }\n",
       "\n",
       "    .dataframe thead th {\n",
       "        text-align: right;\n",
       "    }\n",
       "</style>\n",
       "<table border=\"1\" class=\"dataframe\">\n",
       "  <thead>\n",
       "    <tr style=\"text-align: right;\">\n",
       "      <th></th>\n",
       "      <th>Unnamed: 0.1</th>\n",
       "      <th>Unnamed: 0</th>\n",
       "      <th>Open_Date</th>\n",
       "      <th>Close_Date</th>\n",
       "      <th>Symbol</th>\n",
       "      <th>Quantity</th>\n",
       "      <th>Pnl</th>\n",
       "      <th>OpenAct</th>\n",
       "      <th>CloseAct</th>\n",
       "      <th>Open_Price</th>\n",
       "      <th>...</th>\n",
       "      <th>AAII_4_level_0_Reported_Total</th>\n",
       "      <th>AAII_Bullish_8-week_Mov Avg</th>\n",
       "      <th>AAII_Bullish_Bull-Bear_Spread</th>\n",
       "      <th>AAII_Bullish_Bullish_Average</th>\n",
       "      <th>AAII_Bullish_Average_+St. Dev.</th>\n",
       "      <th>AAII_Bullish_Average_- St. Dev.</th>\n",
       "      <th>AAII_S&amp;P 500_Weekly_High</th>\n",
       "      <th>AAII_S&amp;P 500_Weekly_Low</th>\n",
       "      <th>AAII_S&amp;P 500_Weekly_Close</th>\n",
       "      <th>AAII_Date</th>\n",
       "    </tr>\n",
       "  </thead>\n",
       "  <tbody>\n",
       "    <tr>\n",
       "      <th>0</th>\n",
       "      <td>0</td>\n",
       "      <td>0</td>\n",
       "      <td>2015-06-30</td>\n",
       "      <td>2016-01-07 11:12:44</td>\n",
       "      <td>AER</td>\n",
       "      <td>600.0</td>\n",
       "      <td>-4851.23</td>\n",
       "      <td>B</td>\n",
       "      <td>S</td>\n",
       "      <td>46.972120</td>\n",
       "      <td>...</td>\n",
       "      <td>1.000001</td>\n",
       "      <td>0.267945</td>\n",
       "      <td>0.138889</td>\n",
       "      <td>0.377495</td>\n",
       "      <td>0.478443</td>\n",
       "      <td>0.276547</td>\n",
       "      <td>2129.87</td>\n",
       "      <td>2082.1</td>\n",
       "      <td>2108.58</td>\n",
       "      <td>2015-06-25</td>\n",
       "    </tr>\n",
       "    <tr>\n",
       "      <th>1</th>\n",
       "      <td>62</td>\n",
       "      <td>15</td>\n",
       "      <td>2015-06-30</td>\n",
       "      <td>2016-01-07 14:17:15</td>\n",
       "      <td>FMCC</td>\n",
       "      <td>3500.0</td>\n",
       "      <td>-2925.12</td>\n",
       "      <td>B</td>\n",
       "      <td>S</td>\n",
       "      <td>2.435028</td>\n",
       "      <td>...</td>\n",
       "      <td>1.000001</td>\n",
       "      <td>0.267945</td>\n",
       "      <td>0.138889</td>\n",
       "      <td>0.377495</td>\n",
       "      <td>0.478443</td>\n",
       "      <td>0.276547</td>\n",
       "      <td>2129.87</td>\n",
       "      <td>2082.1</td>\n",
       "      <td>2108.58</td>\n",
       "      <td>2015-06-25</td>\n",
       "    </tr>\n",
       "    <tr>\n",
       "      <th>2</th>\n",
       "      <td>61</td>\n",
       "      <td>5</td>\n",
       "      <td>2015-06-30</td>\n",
       "      <td>2016-01-07 11:44:15</td>\n",
       "      <td>LYB</td>\n",
       "      <td>200.0</td>\n",
       "      <td>-2773.30</td>\n",
       "      <td>B</td>\n",
       "      <td>S</td>\n",
       "      <td>96.065000</td>\n",
       "      <td>...</td>\n",
       "      <td>1.000001</td>\n",
       "      <td>0.267945</td>\n",
       "      <td>0.138889</td>\n",
       "      <td>0.377495</td>\n",
       "      <td>0.478443</td>\n",
       "      <td>0.276547</td>\n",
       "      <td>2129.87</td>\n",
       "      <td>2082.1</td>\n",
       "      <td>2108.58</td>\n",
       "      <td>2015-06-25</td>\n",
       "    </tr>\n",
       "    <tr>\n",
       "      <th>3</th>\n",
       "      <td>60</td>\n",
       "      <td>657</td>\n",
       "      <td>2015-06-30</td>\n",
       "      <td>2016-08-18 11:16:45</td>\n",
       "      <td>AWH</td>\n",
       "      <td>200.0</td>\n",
       "      <td>-405.17</td>\n",
       "      <td>B</td>\n",
       "      <td>S</td>\n",
       "      <td>41.795663</td>\n",
       "      <td>...</td>\n",
       "      <td>1.000001</td>\n",
       "      <td>0.267945</td>\n",
       "      <td>0.138889</td>\n",
       "      <td>0.377495</td>\n",
       "      <td>0.478443</td>\n",
       "      <td>0.276547</td>\n",
       "      <td>2129.87</td>\n",
       "      <td>2082.1</td>\n",
       "      <td>2108.58</td>\n",
       "      <td>2015-06-25</td>\n",
       "    </tr>\n",
       "    <tr>\n",
       "      <th>4</th>\n",
       "      <td>59</td>\n",
       "      <td>64</td>\n",
       "      <td>2015-06-30</td>\n",
       "      <td>2016-01-20 15:22:41</td>\n",
       "      <td>VALE</td>\n",
       "      <td>8000.0</td>\n",
       "      <td>6677.80</td>\n",
       "      <td>S</td>\n",
       "      <td>B</td>\n",
       "      <td>3.184507</td>\n",
       "      <td>...</td>\n",
       "      <td>1.000001</td>\n",
       "      <td>0.267945</td>\n",
       "      <td>0.138889</td>\n",
       "      <td>0.377495</td>\n",
       "      <td>0.478443</td>\n",
       "      <td>0.276547</td>\n",
       "      <td>2129.87</td>\n",
       "      <td>2082.1</td>\n",
       "      <td>2108.58</td>\n",
       "      <td>2015-06-25</td>\n",
       "    </tr>\n",
       "  </tbody>\n",
       "</table>\n",
       "<p>5 rows × 68 columns</p>\n",
       "</div>"
      ],
      "text/plain": [
       "   Unnamed: 0.1  Unnamed: 0  Open_Date           Close_Date Symbol  Quantity  \\\n",
       "0             0           0 2015-06-30  2016-01-07 11:12:44    AER     600.0   \n",
       "1            62          15 2015-06-30  2016-01-07 14:17:15   FMCC    3500.0   \n",
       "2            61           5 2015-06-30  2016-01-07 11:44:15    LYB     200.0   \n",
       "3            60         657 2015-06-30  2016-08-18 11:16:45    AWH     200.0   \n",
       "4            59          64 2015-06-30  2016-01-20 15:22:41   VALE    8000.0   \n",
       "\n",
       "       Pnl OpenAct CloseAct  Open_Price  ...  AAII_4_level_0_Reported_Total  \\\n",
       "0 -4851.23       B        S   46.972120  ...                       1.000001   \n",
       "1 -2925.12       B        S    2.435028  ...                       1.000001   \n",
       "2 -2773.30       B        S   96.065000  ...                       1.000001   \n",
       "3  -405.17       B        S   41.795663  ...                       1.000001   \n",
       "4  6677.80       S        B    3.184507  ...                       1.000001   \n",
       "\n",
       "   AAII_Bullish_8-week_Mov Avg AAII_Bullish_Bull-Bear_Spread  \\\n",
       "0                     0.267945                      0.138889   \n",
       "1                     0.267945                      0.138889   \n",
       "2                     0.267945                      0.138889   \n",
       "3                     0.267945                      0.138889   \n",
       "4                     0.267945                      0.138889   \n",
       "\n",
       "  AAII_Bullish_Bullish_Average  AAII_Bullish_Average_+St. Dev.  \\\n",
       "0                     0.377495                        0.478443   \n",
       "1                     0.377495                        0.478443   \n",
       "2                     0.377495                        0.478443   \n",
       "3                     0.377495                        0.478443   \n",
       "4                     0.377495                        0.478443   \n",
       "\n",
       "   AAII_Bullish_Average_- St. Dev. AAII_S&P 500_Weekly_High  \\\n",
       "0                         0.276547                  2129.87   \n",
       "1                         0.276547                  2129.87   \n",
       "2                         0.276547                  2129.87   \n",
       "3                         0.276547                  2129.87   \n",
       "4                         0.276547                  2129.87   \n",
       "\n",
       "  AAII_S&P 500_Weekly_Low  AAII_S&P 500_Weekly_Close  AAII_Date  \n",
       "0                  2082.1                    2108.58 2015-06-25  \n",
       "1                  2082.1                    2108.58 2015-06-25  \n",
       "2                  2082.1                    2108.58 2015-06-25  \n",
       "3                  2082.1                    2108.58 2015-06-25  \n",
       "4                  2082.1                    2108.58 2015-06-25  \n",
       "\n",
       "[5 rows x 68 columns]"
      ]
     },
     "execution_count": 108,
     "metadata": {},
     "output_type": "execute_result"
    }
   ],
   "source": [
    "df_aaii_sorted = df_aaii.sort_values([\"0_level_0_Reported_Date\"])\n",
    "df_aaii_sorted.columns = [\"AAII_\" + c for c in df_aaii_sorted.columns]\n",
    "df_result = pd.merge_asof(\n",
    "    df_result,\n",
    "    df_aaii_sorted,\n",
    "    left_on=[\"Open_Date\"],\n",
    "    right_on=[f\"AAII_Date\"],\n",
    "    direction=\"backward\",\n",
    ")\n",
    "df_result.head()"
   ]
  },
  {
   "cell_type": "markdown",
   "id": "6d223f76",
   "metadata": {},
   "source": [
    "## Final Checks"
   ]
  },
  {
   "cell_type": "code",
   "execution_count": 109,
   "id": "aad59578",
   "metadata": {
    "ExecuteTime": {
     "end_time": "2022-09-18T18:18:12.855539Z",
     "start_time": "2022-09-18T18:18:12.827541Z"
    }
   },
   "outputs": [
    {
     "data": {
      "text/plain": [
       "Series([], Name: 0, dtype: object)"
      ]
     },
     "execution_count": 109,
     "metadata": {},
     "output_type": "execute_result"
    }
   ],
   "source": [
    "df_result.loc[0, df_result.columns.duplicated()]"
   ]
  },
  {
   "cell_type": "code",
   "execution_count": 110,
   "id": "ff1979d8",
   "metadata": {
    "ExecuteTime": {
     "end_time": "2022-09-18T18:18:12.885539Z",
     "start_time": "2022-09-18T18:18:12.857538Z"
    }
   },
   "outputs": [],
   "source": [
    "assert len(df_result.loc[0, df_result.columns.duplicated()]) == 0, \"duplicates\""
   ]
  },
  {
   "cell_type": "markdown",
   "id": "2b175dd9",
   "metadata": {
    "ExecuteTime": {
     "end_time": "2022-07-17T14:09:50.010627Z",
     "start_time": "2022-07-17T14:09:49.984643Z"
    }
   },
   "source": [
    "## Save Output"
   ]
  },
  {
   "cell_type": "code",
   "execution_count": 111,
   "id": "2d034700",
   "metadata": {
    "ExecuteTime": {
     "end_time": "2022-09-18T18:29:31.570014Z",
     "start_time": "2022-09-18T18:29:31.369899Z"
    },
    "lines_to_next_cell": 2
   },
   "outputs": [],
   "source": [
    "df_result.to_csv(\"output/c_resulttradewattr.csv\")"
   ]
  },
  {
   "cell_type": "code",
   "execution_count": null,
   "id": "7415892f",
   "metadata": {},
   "outputs": [],
   "source": []
  }
 ],
 "metadata": {
  "celltoolbar": "Tags",
  "jupytext": {
   "cell_metadata_filter": "-all",
   "formats": "auto:percent,ipynb",
   "notebook_metadata_filter": "-all"
  },
  "kernelspec": {
   "display_name": "p1analyzetrades",
   "language": "python",
   "name": "p1analyzetrades"
  },
  "language_info": {
   "codemirror_mode": {
    "name": "ipython",
    "version": 3
   },
   "file_extension": ".py",
   "mimetype": "text/x-python",
   "name": "python",
   "nbconvert_exporter": "python",
   "pygments_lexer": "ipython3",
   "version": "3.9.10"
  },
  "toc": {
   "base_numbering": 1,
   "nav_menu": {},
   "number_sections": true,
   "sideBar": true,
   "skip_h1_title": false,
   "title_cell": "Table of Contents",
   "title_sidebar": "Contents",
   "toc_cell": false,
   "toc_position": {
    "height": "calc(100% - 180px)",
    "left": "10px",
    "top": "150px",
    "width": "384px"
   },
   "toc_section_display": true,
   "toc_window_display": true
  },
  "varInspector": {
   "cols": {
    "lenName": 16,
    "lenType": 16,
    "lenVar": 40
   },
   "kernels_config": {
    "python": {
     "delete_cmd_postfix": "",
     "delete_cmd_prefix": "del ",
     "library": "var_list.py",
     "varRefreshCmd": "print(var_dic_list())"
    },
    "r": {
     "delete_cmd_postfix": ") ",
     "delete_cmd_prefix": "rm(",
     "library": "var_list.r",
     "varRefreshCmd": "cat(var_dic_list()) "
    }
   },
   "position": {
    "height": "633.844px",
    "left": "1550px",
    "right": "20px",
    "top": "120px",
    "width": "350px"
   },
   "types_to_exclude": [
    "module",
    "function",
    "builtin_function_or_method",
    "instance",
    "_Feature"
   ],
   "window_display": true
  }
 },
 "nbformat": 4,
 "nbformat_minor": 5
}
