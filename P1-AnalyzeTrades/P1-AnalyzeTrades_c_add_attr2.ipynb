{
 "cells": [
  {
   "cell_type": "markdown",
   "id": "412e9eb2",
   "metadata": {},
   "source": [
    " ## C add attributes 2 to trade log\n",
    " Design matrix is one record per row"
   ]
  },
  {
   "cell_type": "code",
   "execution_count": null,
   "id": "f71b1069",
   "metadata": {},
   "outputs": [],
   "source": [
    "# imports\n",
    "\n",
    "import pandas as pd\n",
    "import numpy as np # for np.nan\n",
    "import os # for path\n",
    "\n",
    "import yfinance as yf\n",
    "\n",
    "import json\n",
    "\n",
    "from pandas_datareader.quandl import QuandlReader #data side"
   ]
  },
  {
   "cell_type": "code",
   "execution_count": null,
   "id": "c6efb470",
   "metadata": {},
   "outputs": [],
   "source": [
    "# read in raw data\n",
    "### INPUT ###\n",
    "\n",
    "# formatted tradelog\n",
    "trades_filename = 'output/b_completewattr.csv'\n",
    "df_raw = pd.read_csv(trades_filename)"
   ]
  },
  {
   "cell_type": "code",
   "execution_count": null,
   "id": "550d176c",
   "metadata": {
    "lines_to_next_cell": 2
   },
   "outputs": [],
   "source": [
    "# pull data from yahoo finance\n",
    "\n",
    "reload_data = False\n",
    "\n",
    "tickers = ['^VIX' , '^GSPC']\n",
    "if reload_data: \n",
    "    df_data = yf.download(\n",
    "        ' '.join(tickers), \n",
    "        start=\"2010-01-01\", end=\"2020-12-01\", \n",
    "        group_by='Tickers'\n",
    "    )\n",
    "    # turn into tabular form\n",
    "    df_data_formatted = df_data.stack(level=0).reset_index().rename(columns={'level_1':'Ticker'})\n",
    "    df_data_formatted.to_csv('output/c_mktdata.csv')\n",
    "else:\n",
    "    df_data_formatted = pd.read_csv('output/c_mktdata.csv')\n",
    "\n",
    "df_data_formatted.head()"
   ]
  },
  {
   "cell_type": "code",
   "execution_count": null,
   "id": "610ade48",
   "metadata": {},
   "outputs": [],
   "source": [
    "# pivoted\n",
    "\n",
    "df_data_pivot = df_data_formatted.pivot(\n",
    "    index=['Date'],columns=['Ticker'],values=['Close'],\n",
    ").reset_index()\n",
    "df_data_pivot.columns = ['_'.join(col).strip() for col in df_data_pivot.columns.values]\n",
    "df_data_pivot['Date_'] = pd.to_datetime(df_data_pivot['Date_'],errors='coerce')\n",
    "df_data_pivot.head()\n",
    "\n"
   ]
  },
  {
   "cell_type": "code",
   "execution_count": null,
   "id": "2b522ccd",
   "metadata": {
    "lines_to_next_cell": 2
   },
   "outputs": [],
   "source": [
    "# merge\n",
    "\n",
    "df_source = df_raw.copy(deep=True)\n",
    "\n",
    "df_source['Open_Date'] = pd.to_datetime(df_source['Open_Date'],errors='coerce')\n",
    "\n",
    "\n",
    "# need to sort\n",
    "df_source = df_source.sort_values(['Open_Date']) \n",
    "df_data_pivot = df_data_pivot.sort_values(['Date_'])\n",
    "\n",
    "df_result = pd.merge_asof(\n",
    "    df_source, df_data_pivot,left_on=['Open_Date'],right_on=['Date_']\n",
    ")"
   ]
  },
  {
   "cell_type": "code",
   "execution_count": null,
   "id": "67de48b6",
   "metadata": {
    "lines_to_next_cell": 2
   },
   "outputs": [],
   "source": [
    "# pull data from Quandl \n",
    "\n",
    "if reload_data:\n",
    "    \n",
    "    with open('data/vars.json', 'r') as json_file:\n",
    "        var_dict = json.load(json_file)\n",
    "\n",
    "    quandl_key = var_dict['QUANDL_API']\n",
    "\n",
    "    QR = QuandlReader(\"AAII/AAII_SENTIMENT\",api_key=quandl_key)\n",
    "\n",
    "    QR_df = QR.read().reset_index()\n",
    "\n",
    "    QR_df.columns = ['AAII_Sent_' + str(col)  for col in QR_df.columns]\n",
    "    QR_df.to_csv('output/c_mktdata_aaii.csv')\n",
    "else: \n",
    "    QR_df = pd.read_csv('output/c_mktdata_aaii.csv')"
   ]
  },
  {
   "cell_type": "code",
   "execution_count": null,
   "id": "af22f02f",
   "metadata": {
    "lines_to_next_cell": 2
   },
   "outputs": [],
   "source": [
    "# merge Quandl\n",
    "QR_df_sorted = QR_df.sort_values(['AAII_Sent_Date'])\n",
    "QR_df_sorted['AAII_Sent_Date'] = pd.to_datetime(QR_df['AAII_Sent_Date'], errors='coerce')\n",
    "\n",
    "\n",
    "df_result = pd.merge_asof(\n",
    "    df_result, QR_df_sorted,left_on=['Open_Date'],right_on=['AAII_Sent_Date'],\n",
    "    direction='forward',\n",
    ")"
   ]
  },
  {
   "cell_type": "code",
   "execution_count": null,
   "id": "2d034700",
   "metadata": {
    "lines_to_next_cell": 2
   },
   "outputs": [],
   "source": [
    "# save output\n",
    "\n",
    "df_result.to_csv('output/c_resulttradewattr.csv')"
   ]
  },
  {
   "cell_type": "code",
   "execution_count": null,
   "id": "7415892f",
   "metadata": {},
   "outputs": [],
   "source": []
  }
 ],
 "metadata": {
  "jupytext": {
   "cell_metadata_filter": "-all",
   "formats": "auto:percent,ipynb",
   "notebook_metadata_filter": "-all"
  },
  "kernelspec": {
   "display_name": "p1analyzetrades",
   "language": "python",
   "name": "p1analyzetrades"
  },
  "language_info": {
   "codemirror_mode": {
    "name": "ipython",
    "version": 3
   },
   "file_extension": ".py",
   "mimetype": "text/x-python",
   "name": "python",
   "nbconvert_exporter": "python",
   "pygments_lexer": "ipython3",
   "version": "3.9.10"
  },
  "toc": {
   "base_numbering": 1,
   "nav_menu": {},
   "number_sections": true,
   "sideBar": true,
   "skip_h1_title": false,
   "title_cell": "Table of Contents",
   "title_sidebar": "Contents",
   "toc_cell": false,
   "toc_position": {},
   "toc_section_display": true,
   "toc_window_display": true
  },
  "varInspector": {
   "cols": {
    "lenName": 16,
    "lenType": 16,
    "lenVar": 40
   },
   "kernels_config": {
    "python": {
     "delete_cmd_postfix": "",
     "delete_cmd_prefix": "del ",
     "library": "var_list.py",
     "varRefreshCmd": "print(var_dic_list())"
    },
    "r": {
     "delete_cmd_postfix": ") ",
     "delete_cmd_prefix": "rm(",
     "library": "var_list.r",
     "varRefreshCmd": "cat(var_dic_list()) "
    }
   },
   "types_to_exclude": [
    "module",
    "function",
    "builtin_function_or_method",
    "instance",
    "_Feature"
   ],
   "window_display": true
  }
 },
 "nbformat": 4,
 "nbformat_minor": 5
}
