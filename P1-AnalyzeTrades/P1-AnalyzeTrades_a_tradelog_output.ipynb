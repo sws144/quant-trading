{
 "cells": [
  {
   "cell_type": "markdown",
   "id": "d50c7066",
   "metadata": {
    "papermill": {
     "duration": 0.004012,
     "end_time": "2023-02-18T18:28:26.757499",
     "exception": false,
     "start_time": "2023-02-18T18:28:26.753487",
     "status": "completed"
    },
    "tags": []
   },
   "source": [
    "# Convert trade log \n",
    "1. into basic pnl design matrix for modeling\n",
    "1. Design matrix is one record per row\n"
   ]
  },
  {
   "cell_type": "markdown",
   "id": "36a66b4c",
   "metadata": {
    "papermill": {
     "duration": 0.002964,
     "end_time": "2023-02-18T18:28:26.764494",
     "exception": false,
     "start_time": "2023-02-18T18:28:26.761530",
     "status": "completed"
    },
    "tags": []
   },
   "source": [
    "## imports"
   ]
  },
  {
   "cell_type": "code",
   "execution_count": 1,
   "id": "f9d98e41",
   "metadata": {
    "execution": {
     "iopub.execute_input": "2023-02-18T18:28:26.776498Z",
     "iopub.status.busy": "2023-02-18T18:28:26.776498Z",
     "iopub.status.idle": "2023-02-18T18:28:27.524229Z",
     "shell.execute_reply": "2023-02-18T18:28:27.522286Z"
    },
    "papermill": {
     "duration": 0.756677,
     "end_time": "2023-02-18T18:28:27.527175",
     "exception": false,
     "start_time": "2023-02-18T18:28:26.770498",
     "status": "completed"
    },
    "tags": []
   },
   "outputs": [],
   "source": [
    "import pandas as pd\n",
    "import numpy as np  # for np.nan\n",
    "import glob  # for text matching\n",
    "import os  # for path\n",
    "\n",
    "import tradehelper as th  # local class\n",
    "\n",
    "pd.set_option(\"display.max_rows\", 20)\n",
    "pd.set_option(\"display.max_columns\", 500)\n",
    "pd.set_option(\"display.width\", 150)"
   ]
  },
  {
   "cell_type": "markdown",
   "id": "8dbebbc4",
   "metadata": {
    "papermill": {
     "duration": 0.004999,
     "end_time": "2023-02-18T18:28:27.537177",
     "exception": false,
     "start_time": "2023-02-18T18:28:27.532178",
     "status": "completed"
    },
    "tags": []
   },
   "source": [
    "## read in raw data"
   ]
  },
  {
   "cell_type": "code",
   "execution_count": 2,
   "id": "20e64e31",
   "metadata": {
    "execution": {
     "iopub.execute_input": "2023-02-18T18:28:27.553176Z",
     "iopub.status.busy": "2023-02-18T18:28:27.552177Z",
     "iopub.status.idle": "2023-02-18T18:28:30.485368Z",
     "shell.execute_reply": "2023-02-18T18:28:30.484366Z"
    },
    "lines_to_next_cell": 2,
    "papermill": {
     "duration": 2.943184,
     "end_time": "2023-02-18T18:28:30.488367",
     "exception": false,
     "start_time": "2023-02-18T18:28:27.545183",
     "status": "completed"
    },
    "tags": []
   },
   "outputs": [
    {
     "name": "stderr",
     "output_type": "stream",
     "text": [
      "C:\\Users\\SW\\AppData\\Local\\Temp\\ipykernel_19876\\86875061.py:12: FutureWarning: The frame.append method is deprecated and will be removed from pandas in a future version. Use pandas.concat instead.\n",
      "  df_raw = df_raw.append(frame)\n",
      "C:\\Users\\SW\\AppData\\Local\\Temp\\ipykernel_19876\\86875061.py:12: FutureWarning: The frame.append method is deprecated and will be removed from pandas in a future version. Use pandas.concat instead.\n",
      "  df_raw = df_raw.append(frame)\n"
     ]
    },
    {
     "name": "stderr",
     "output_type": "stream",
     "text": [
      "C:\\Users\\SW\\AppData\\Local\\Temp\\ipykernel_19876\\86875061.py:12: FutureWarning: The frame.append method is deprecated and will be removed from pandas in a future version. Use pandas.concat instead.\n",
      "  df_raw = df_raw.append(frame)\n"
     ]
    },
    {
     "name": "stderr",
     "output_type": "stream",
     "text": [
      "C:\\Users\\SW\\AppData\\Local\\Temp\\ipykernel_19876\\86875061.py:12: FutureWarning: The frame.append method is deprecated and will be removed from pandas in a future version. Use pandas.concat instead.\n",
      "  df_raw = df_raw.append(frame)\n"
     ]
    },
    {
     "name": "stderr",
     "output_type": "stream",
     "text": [
      "C:\\Users\\SW\\AppData\\Local\\Temp\\ipykernel_19876\\86875061.py:12: FutureWarning: The frame.append method is deprecated and will be removed from pandas in a future version. Use pandas.concat instead.\n",
      "  df_raw = df_raw.append(frame)\n"
     ]
    },
    {
     "name": "stderr",
     "output_type": "stream",
     "text": [
      "C:\\Users\\SW\\AppData\\Local\\Temp\\ipykernel_19876\\86875061.py:12: FutureWarning: The frame.append method is deprecated and will be removed from pandas in a future version. Use pandas.concat instead.\n",
      "  df_raw = df_raw.append(frame)\n"
     ]
    },
    {
     "name": "stderr",
     "output_type": "stream",
     "text": [
      "C:\\Users\\SW\\AppData\\Local\\Temp\\ipykernel_19876\\86875061.py:12: FutureWarning: The frame.append method is deprecated and will be removed from pandas in a future version. Use pandas.concat instead.\n",
      "  df_raw = df_raw.append(frame)\n"
     ]
    },
    {
     "name": "stderr",
     "output_type": "stream",
     "text": [
      "C:\\Users\\SW\\AppData\\Local\\Temp\\ipykernel_19876\\86875061.py:12: FutureWarning: The frame.append method is deprecated and will be removed from pandas in a future version. Use pandas.concat instead.\n",
      "  df_raw = df_raw.append(frame)\n"
     ]
    }
   ],
   "source": [
    "# activity file csv export from Interactive Brokers, max 30 cols\n",
    "globbed_files = glob.glob(\"data/*U106*.csv\")\n",
    "col_names_temp = list(range(30))\n",
    "df_raw = pd.DataFrame(columns=col_names_temp)\n",
    "\n",
    "# initial date\n",
    "init_date = \"2015-06-30\"\n",
    "\n",
    "for csv in globbed_files:\n",
    "    frame = pd.read_csv(csv, names=col_names_temp)\n",
    "    frame[\"filename\"] = os.path.basename(csv)\n",
    "    df_raw = df_raw.append(frame)"
   ]
  },
  {
   "cell_type": "code",
   "execution_count": 3,
   "id": "4f5e3e6e",
   "metadata": {
    "execution": {
     "iopub.execute_input": "2023-02-18T18:28:30.502365Z",
     "iopub.status.busy": "2023-02-18T18:28:30.502365Z",
     "iopub.status.idle": "2023-02-18T18:28:30.548427Z",
     "shell.execute_reply": "2023-02-18T18:28:30.546466Z"
    },
    "lines_to_next_cell": 2,
    "papermill": {
     "duration": 0.056071,
     "end_time": "2023-02-18T18:28:30.550436",
     "exception": false,
     "start_time": "2023-02-18T18:28:30.494365",
     "status": "completed"
    },
    "tags": []
   },
   "outputs": [
    {
     "data": {
      "text/html": [
       "<div>\n",
       "<style scoped>\n",
       "    .dataframe tbody tr th:only-of-type {\n",
       "        vertical-align: middle;\n",
       "    }\n",
       "\n",
       "    .dataframe tbody tr th {\n",
       "        vertical-align: top;\n",
       "    }\n",
       "\n",
       "    .dataframe thead th {\n",
       "        text-align: right;\n",
       "    }\n",
       "</style>\n",
       "<table border=\"1\" class=\"dataframe\">\n",
       "  <thead>\n",
       "    <tr style=\"text-align: right;\">\n",
       "      <th></th>\n",
       "      <th>0</th>\n",
       "      <th>1</th>\n",
       "      <th>2</th>\n",
       "      <th>3</th>\n",
       "      <th>4</th>\n",
       "      <th>5</th>\n",
       "      <th>6</th>\n",
       "      <th>7</th>\n",
       "      <th>8</th>\n",
       "      <th>9</th>\n",
       "      <th>10</th>\n",
       "      <th>11</th>\n",
       "      <th>12</th>\n",
       "      <th>13</th>\n",
       "      <th>14</th>\n",
       "      <th>15</th>\n",
       "      <th>16</th>\n",
       "      <th>17</th>\n",
       "      <th>18</th>\n",
       "      <th>19</th>\n",
       "      <th>20</th>\n",
       "      <th>21</th>\n",
       "      <th>22</th>\n",
       "      <th>23</th>\n",
       "      <th>24</th>\n",
       "      <th>25</th>\n",
       "      <th>26</th>\n",
       "      <th>27</th>\n",
       "      <th>28</th>\n",
       "      <th>29</th>\n",
       "      <th>filename</th>\n",
       "    </tr>\n",
       "  </thead>\n",
       "  <tbody>\n",
       "    <tr>\n",
       "      <th>0</th>\n",
       "      <td>Statement</td>\n",
       "      <td>Header</td>\n",
       "      <td>Field Name</td>\n",
       "      <td>Field Value</td>\n",
       "      <td>NaN</td>\n",
       "      <td>NaN</td>\n",
       "      <td>NaN</td>\n",
       "      <td>NaN</td>\n",
       "      <td>NaN</td>\n",
       "      <td>NaN</td>\n",
       "      <td>NaN</td>\n",
       "      <td>NaN</td>\n",
       "      <td>NaN</td>\n",
       "      <td>NaN</td>\n",
       "      <td>NaN</td>\n",
       "      <td>NaN</td>\n",
       "      <td>NaN</td>\n",
       "      <td>NaN</td>\n",
       "      <td>NaN</td>\n",
       "      <td>NaN</td>\n",
       "      <td>NaN</td>\n",
       "      <td>NaN</td>\n",
       "      <td>NaN</td>\n",
       "      <td>NaN</td>\n",
       "      <td>NaN</td>\n",
       "      <td>NaN</td>\n",
       "      <td>NaN</td>\n",
       "      <td>NaN</td>\n",
       "      <td>NaN</td>\n",
       "      <td>NaN</td>\n",
       "      <td>F1056881_U1060261_20150102_20151231_AS_Fv2_6ea...</td>\n",
       "    </tr>\n",
       "    <tr>\n",
       "      <th>1</th>\n",
       "      <td>Statement</td>\n",
       "      <td>Data</td>\n",
       "      <td>BrokerName</td>\n",
       "      <td>Interactive Brokers</td>\n",
       "      <td>NaN</td>\n",
       "      <td>NaN</td>\n",
       "      <td>NaN</td>\n",
       "      <td>NaN</td>\n",
       "      <td>NaN</td>\n",
       "      <td>NaN</td>\n",
       "      <td>NaN</td>\n",
       "      <td>NaN</td>\n",
       "      <td>NaN</td>\n",
       "      <td>NaN</td>\n",
       "      <td>NaN</td>\n",
       "      <td>NaN</td>\n",
       "      <td>NaN</td>\n",
       "      <td>NaN</td>\n",
       "      <td>NaN</td>\n",
       "      <td>NaN</td>\n",
       "      <td>NaN</td>\n",
       "      <td>NaN</td>\n",
       "      <td>NaN</td>\n",
       "      <td>NaN</td>\n",
       "      <td>NaN</td>\n",
       "      <td>NaN</td>\n",
       "      <td>NaN</td>\n",
       "      <td>NaN</td>\n",
       "      <td>NaN</td>\n",
       "      <td>NaN</td>\n",
       "      <td>F1056881_U1060261_20150102_20151231_AS_Fv2_6ea...</td>\n",
       "    </tr>\n",
       "    <tr>\n",
       "      <th>2</th>\n",
       "      <td>Statement</td>\n",
       "      <td>Data</td>\n",
       "      <td>BrokerAddress</td>\n",
       "      <td>NaN</td>\n",
       "      <td>NaN</td>\n",
       "      <td>NaN</td>\n",
       "      <td>NaN</td>\n",
       "      <td>NaN</td>\n",
       "      <td>NaN</td>\n",
       "      <td>NaN</td>\n",
       "      <td>NaN</td>\n",
       "      <td>NaN</td>\n",
       "      <td>NaN</td>\n",
       "      <td>NaN</td>\n",
       "      <td>NaN</td>\n",
       "      <td>NaN</td>\n",
       "      <td>NaN</td>\n",
       "      <td>NaN</td>\n",
       "      <td>NaN</td>\n",
       "      <td>NaN</td>\n",
       "      <td>NaN</td>\n",
       "      <td>NaN</td>\n",
       "      <td>NaN</td>\n",
       "      <td>NaN</td>\n",
       "      <td>NaN</td>\n",
       "      <td>NaN</td>\n",
       "      <td>NaN</td>\n",
       "      <td>NaN</td>\n",
       "      <td>NaN</td>\n",
       "      <td>NaN</td>\n",
       "      <td>F1056881_U1060261_20150102_20151231_AS_Fv2_6ea...</td>\n",
       "    </tr>\n",
       "    <tr>\n",
       "      <th>3</th>\n",
       "      <td>Statement</td>\n",
       "      <td>Data</td>\n",
       "      <td>Title</td>\n",
       "      <td>Activity Statement</td>\n",
       "      <td>NaN</td>\n",
       "      <td>NaN</td>\n",
       "      <td>NaN</td>\n",
       "      <td>NaN</td>\n",
       "      <td>NaN</td>\n",
       "      <td>NaN</td>\n",
       "      <td>NaN</td>\n",
       "      <td>NaN</td>\n",
       "      <td>NaN</td>\n",
       "      <td>NaN</td>\n",
       "      <td>NaN</td>\n",
       "      <td>NaN</td>\n",
       "      <td>NaN</td>\n",
       "      <td>NaN</td>\n",
       "      <td>NaN</td>\n",
       "      <td>NaN</td>\n",
       "      <td>NaN</td>\n",
       "      <td>NaN</td>\n",
       "      <td>NaN</td>\n",
       "      <td>NaN</td>\n",
       "      <td>NaN</td>\n",
       "      <td>NaN</td>\n",
       "      <td>NaN</td>\n",
       "      <td>NaN</td>\n",
       "      <td>NaN</td>\n",
       "      <td>NaN</td>\n",
       "      <td>F1056881_U1060261_20150102_20151231_AS_Fv2_6ea...</td>\n",
       "    </tr>\n",
       "    <tr>\n",
       "      <th>4</th>\n",
       "      <td>Statement</td>\n",
       "      <td>Data</td>\n",
       "      <td>Period</td>\n",
       "      <td>January 1, 2015 - December 31, 2015</td>\n",
       "      <td>NaN</td>\n",
       "      <td>NaN</td>\n",
       "      <td>NaN</td>\n",
       "      <td>NaN</td>\n",
       "      <td>NaN</td>\n",
       "      <td>NaN</td>\n",
       "      <td>NaN</td>\n",
       "      <td>NaN</td>\n",
       "      <td>NaN</td>\n",
       "      <td>NaN</td>\n",
       "      <td>NaN</td>\n",
       "      <td>NaN</td>\n",
       "      <td>NaN</td>\n",
       "      <td>NaN</td>\n",
       "      <td>NaN</td>\n",
       "      <td>NaN</td>\n",
       "      <td>NaN</td>\n",
       "      <td>NaN</td>\n",
       "      <td>NaN</td>\n",
       "      <td>NaN</td>\n",
       "      <td>NaN</td>\n",
       "      <td>NaN</td>\n",
       "      <td>NaN</td>\n",
       "      <td>NaN</td>\n",
       "      <td>NaN</td>\n",
       "      <td>NaN</td>\n",
       "      <td>F1056881_U1060261_20150102_20151231_AS_Fv2_6ea...</td>\n",
       "    </tr>\n",
       "  </tbody>\n",
       "</table>\n",
       "</div>"
      ],
      "text/plain": [
       "           0       1              2                                    3    4    5    6    7    8    9   10   11   12   13   14   15   16   17   18  \\\n",
       "0  Statement  Header     Field Name                          Field Value  NaN  NaN  NaN  NaN  NaN  NaN  NaN  NaN  NaN  NaN  NaN  NaN  NaN  NaN  NaN   \n",
       "1  Statement    Data     BrokerName                  Interactive Brokers  NaN  NaN  NaN  NaN  NaN  NaN  NaN  NaN  NaN  NaN  NaN  NaN  NaN  NaN  NaN   \n",
       "2  Statement    Data  BrokerAddress                                  NaN  NaN  NaN  NaN  NaN  NaN  NaN  NaN  NaN  NaN  NaN  NaN  NaN  NaN  NaN  NaN   \n",
       "3  Statement    Data          Title                   Activity Statement  NaN  NaN  NaN  NaN  NaN  NaN  NaN  NaN  NaN  NaN  NaN  NaN  NaN  NaN  NaN   \n",
       "4  Statement    Data         Period  January 1, 2015 - December 31, 2015  NaN  NaN  NaN  NaN  NaN  NaN  NaN  NaN  NaN  NaN  NaN  NaN  NaN  NaN  NaN   \n",
       "\n",
       "    19   20   21   22   23   24   25   26   27   28   29                                           filename  \n",
       "0  NaN  NaN  NaN  NaN  NaN  NaN  NaN  NaN  NaN  NaN  NaN  F1056881_U1060261_20150102_20151231_AS_Fv2_6ea...  \n",
       "1  NaN  NaN  NaN  NaN  NaN  NaN  NaN  NaN  NaN  NaN  NaN  F1056881_U1060261_20150102_20151231_AS_Fv2_6ea...  \n",
       "2  NaN  NaN  NaN  NaN  NaN  NaN  NaN  NaN  NaN  NaN  NaN  F1056881_U1060261_20150102_20151231_AS_Fv2_6ea...  \n",
       "3  NaN  NaN  NaN  NaN  NaN  NaN  NaN  NaN  NaN  NaN  NaN  F1056881_U1060261_20150102_20151231_AS_Fv2_6ea...  \n",
       "4  NaN  NaN  NaN  NaN  NaN  NaN  NaN  NaN  NaN  NaN  NaN  F1056881_U1060261_20150102_20151231_AS_Fv2_6ea...  "
      ]
     },
     "execution_count": 3,
     "metadata": {},
     "output_type": "execute_result"
    }
   ],
   "source": [
    "# Understand df_raw\n",
    "df_raw.head()"
   ]
  },
  {
   "cell_type": "code",
   "execution_count": 4,
   "id": "924e0dd8",
   "metadata": {
    "execution": {
     "iopub.execute_input": "2023-02-18T18:28:30.559472Z",
     "iopub.status.busy": "2023-02-18T18:28:30.559472Z",
     "iopub.status.idle": "2023-02-18T18:28:30.578443Z",
     "shell.execute_reply": "2023-02-18T18:28:30.577440Z"
    },
    "lines_to_next_cell": 2,
    "papermill": {
     "duration": 0.02804,
     "end_time": "2023-02-18T18:28:30.581476",
     "exception": false,
     "start_time": "2023-02-18T18:28:30.553436",
     "status": "completed"
    },
    "tags": []
   },
   "outputs": [
    {
     "data": {
      "text/plain": [
       "Borrow Fee Details                                                                                          8871\n",
       "Trades                                                                                                      5809\n",
       "IBKR Managed Securities Lent Activity (Stock Yield Enhancement Program)                                     5389\n",
       "IBKR Managed Securities Lent Activity (Stock Yield Enhancement Program) (Post February 28, 2017)            3604\n",
       "IBKR Managed Securities Lent Interest Details (Stock Yield Enhancement Program) (Post February 28, 2017)    2467\n",
       "IBKR Managed Securities Lent Fee Details (Stock Yield Enhancement Program)                                  2305\n",
       "Change in Dividend Accruals                                                                                 1682\n",
       "IBKR Managed Securities Lent Interest Details (Stock Yield Enhancement Program)                             1542\n",
       "Dividends                                                                                                    786\n",
       "Mark-to-Market Performance Summary                                                                           695\n",
       "Name: 0, dtype: int64"
      ]
     },
     "execution_count": 4,
     "metadata": {},
     "output_type": "execute_result"
    }
   ],
   "source": [
    "# See df_raw available data\n",
    "df_raw[0].value_counts()[:10]"
   ]
  },
  {
   "cell_type": "markdown",
   "id": "682a572d",
   "metadata": {
    "papermill": {
     "duration": 0.004994,
     "end_time": "2023-02-18T18:28:30.591469",
     "exception": false,
     "start_time": "2023-02-18T18:28:30.586475",
     "status": "completed"
    },
    "tags": []
   },
   "source": [
    "## Create trading list, after first activity file"
   ]
  },
  {
   "cell_type": "code",
   "execution_count": 5,
   "id": "209ba955",
   "metadata": {
    "execution": {
     "iopub.execute_input": "2023-02-18T18:28:30.640930Z",
     "iopub.status.busy": "2023-02-18T18:28:30.640930Z",
     "iopub.status.idle": "2023-02-18T18:28:30.718568Z",
     "shell.execute_reply": "2023-02-18T18:28:30.717563Z"
    },
    "lines_to_next_cell": 2,
    "papermill": {
     "duration": 0.087655,
     "end_time": "2023-02-18T18:28:30.720597",
     "exception": false,
     "start_time": "2023-02-18T18:28:30.632942",
     "status": "completed"
    },
    "scrolled": true,
    "tags": []
   },
   "outputs": [
    {
     "data": {
      "text/html": [
       "<div>\n",
       "<style scoped>\n",
       "    .dataframe tbody tr th:only-of-type {\n",
       "        vertical-align: middle;\n",
       "    }\n",
       "\n",
       "    .dataframe tbody tr th {\n",
       "        vertical-align: top;\n",
       "    }\n",
       "\n",
       "    .dataframe thead th {\n",
       "        text-align: right;\n",
       "    }\n",
       "</style>\n",
       "<table border=\"1\" class=\"dataframe\">\n",
       "  <thead>\n",
       "    <tr style=\"text-align: right;\">\n",
       "      <th></th>\n",
       "      <th>Trades</th>\n",
       "      <th>Header</th>\n",
       "      <th>DataDiscriminator</th>\n",
       "      <th>Asset Category</th>\n",
       "      <th>Currency</th>\n",
       "      <th>Symbol</th>\n",
       "      <th>Date/Time</th>\n",
       "      <th>Quantity</th>\n",
       "      <th>T. Price</th>\n",
       "      <th>C. Price</th>\n",
       "      <th>Proceeds</th>\n",
       "      <th>Comm/Fee</th>\n",
       "      <th>Basis</th>\n",
       "      <th>Realized P/L</th>\n",
       "      <th>MTM P/L</th>\n",
       "      <th>Code</th>\n",
       "      <th>filename</th>\n",
       "    </tr>\n",
       "  </thead>\n",
       "  <tbody>\n",
       "    <tr>\n",
       "      <th>388</th>\n",
       "      <td>Trades</td>\n",
       "      <td>Data</td>\n",
       "      <td>Order</td>\n",
       "      <td>Stocks</td>\n",
       "      <td>USD</td>\n",
       "      <td>AAPL</td>\n",
       "      <td>2016-01-11, 10:20:02</td>\n",
       "      <td>200</td>\n",
       "      <td>98.159</td>\n",
       "      <td>98.53</td>\n",
       "      <td>-19631.8</td>\n",
       "      <td>-1</td>\n",
       "      <td>19632.8</td>\n",
       "      <td>2566.569764</td>\n",
       "      <td>74.2</td>\n",
       "      <td>O</td>\n",
       "      <td>F1056881_U1060261_20160104_20161230_AS_Fv2_6b2...</td>\n",
       "    </tr>\n",
       "    <tr>\n",
       "      <th>389</th>\n",
       "      <td>Trades</td>\n",
       "      <td>Data</td>\n",
       "      <td>Order</td>\n",
       "      <td>Stocks</td>\n",
       "      <td>USD</td>\n",
       "      <td>AAPL</td>\n",
       "      <td>2016-01-25, 09:44:44</td>\n",
       "      <td>150</td>\n",
       "      <td>100.4</td>\n",
       "      <td>99.44</td>\n",
       "      <td>-15060</td>\n",
       "      <td>-1</td>\n",
       "      <td>15061</td>\n",
       "      <td>0</td>\n",
       "      <td>-144</td>\n",
       "      <td>O;P</td>\n",
       "      <td>F1056881_U1060261_20160104_20161230_AS_Fv2_6b2...</td>\n",
       "    </tr>\n",
       "    <tr>\n",
       "      <th>390</th>\n",
       "      <td>Trades</td>\n",
       "      <td>Data</td>\n",
       "      <td>Order</td>\n",
       "      <td>Stocks</td>\n",
       "      <td>USD</td>\n",
       "      <td>AAPL</td>\n",
       "      <td>2016-01-27, 12:22:10</td>\n",
       "      <td>-600</td>\n",
       "      <td>95.80105</td>\n",
       "      <td>93.42</td>\n",
       "      <td>57480.63</td>\n",
       "      <td>-3.457643592</td>\n",
       "      <td>-70599.8163</td>\n",
       "      <td>-13122.643944</td>\n",
       "      <td>1428.63</td>\n",
       "      <td>C;LI;P</td>\n",
       "      <td>F1056881_U1060261_20160104_20161230_AS_Fv2_6b2...</td>\n",
       "    </tr>\n",
       "    <tr>\n",
       "      <th>391</th>\n",
       "      <td>Trades</td>\n",
       "      <td>Data</td>\n",
       "      <td>Order</td>\n",
       "      <td>Stocks</td>\n",
       "      <td>USD</td>\n",
       "      <td>AAPL</td>\n",
       "      <td>2016-01-29, 09:51:29</td>\n",
       "      <td>600</td>\n",
       "      <td>95.58</td>\n",
       "      <td>97.34</td>\n",
       "      <td>-57348</td>\n",
       "      <td>-3</td>\n",
       "      <td>57351</td>\n",
       "      <td>13122.643944</td>\n",
       "      <td>1056</td>\n",
       "      <td>O</td>\n",
       "      <td>F1056881_U1060261_20160104_20161230_AS_Fv2_6b2...</td>\n",
       "    </tr>\n",
       "    <tr>\n",
       "      <th>392</th>\n",
       "      <td>Trades</td>\n",
       "      <td>Data</td>\n",
       "      <td>Order</td>\n",
       "      <td>Stocks</td>\n",
       "      <td>USD</td>\n",
       "      <td>AAPL</td>\n",
       "      <td>2016-02-11, 13:48:52</td>\n",
       "      <td>-600</td>\n",
       "      <td>93.17055</td>\n",
       "      <td>93.7</td>\n",
       "      <td>55902.33</td>\n",
       "      <td>-3.818670794</td>\n",
       "      <td>-70473.643944</td>\n",
       "      <td>-14575.132614</td>\n",
       "      <td>-317.67</td>\n",
       "      <td>C;LI;P</td>\n",
       "      <td>F1056881_U1060261_20160104_20161230_AS_Fv2_6b2...</td>\n",
       "    </tr>\n",
       "  </tbody>\n",
       "</table>\n",
       "</div>"
      ],
      "text/plain": [
       "     Trades Header DataDiscriminator Asset Category Currency Symbol             Date/Time Quantity  T. Price C. Price  Proceeds      Comm/Fee  \\\n",
       "388  Trades   Data             Order         Stocks      USD   AAPL  2016-01-11, 10:20:02      200    98.159    98.53  -19631.8            -1   \n",
       "389  Trades   Data             Order         Stocks      USD   AAPL  2016-01-25, 09:44:44      150     100.4    99.44    -15060            -1   \n",
       "390  Trades   Data             Order         Stocks      USD   AAPL  2016-01-27, 12:22:10     -600  95.80105    93.42  57480.63  -3.457643592   \n",
       "391  Trades   Data             Order         Stocks      USD   AAPL  2016-01-29, 09:51:29      600     95.58    97.34    -57348            -3   \n",
       "392  Trades   Data             Order         Stocks      USD   AAPL  2016-02-11, 13:48:52     -600  93.17055     93.7  55902.33  -3.818670794   \n",
       "\n",
       "             Basis   Realized P/L  MTM P/L    Code                                           filename  \n",
       "388        19632.8    2566.569764     74.2       O  F1056881_U1060261_20160104_20161230_AS_Fv2_6b2...  \n",
       "389          15061              0     -144     O;P  F1056881_U1060261_20160104_20161230_AS_Fv2_6b2...  \n",
       "390    -70599.8163  -13122.643944  1428.63  C;LI;P  F1056881_U1060261_20160104_20161230_AS_Fv2_6b2...  \n",
       "391          57351   13122.643944     1056       O  F1056881_U1060261_20160104_20161230_AS_Fv2_6b2...  \n",
       "392  -70473.643944  -14575.132614  -317.67  C;LI;P  F1056881_U1060261_20160104_20161230_AS_Fv2_6b2...  "
      ]
     },
     "execution_count": 5,
     "metadata": {},
     "output_type": "execute_result"
    }
   ],
   "source": [
    "df_trades = df_raw[df_raw[0] == \"Trades\"]\n",
    "df_trades.columns = df_trades.iloc[0, :]\n",
    "df_trades.columns = [*df_trades.columns[:-1], \"filename\"]\n",
    "cols = df_trades.columns[~df_trades.columns.isin([np.nan])]\n",
    "df_trades = df_trades[cols]\n",
    "df_trades = df_trades[df_trades[\"Header\"] == \"Data\"]\n",
    "df_trades = df_trades[df_trades[\"filename\"] != os.path.basename(globbed_files[0])]\n",
    "df_trades.head()"
   ]
  },
  {
   "cell_type": "markdown",
   "id": "56909f4d",
   "metadata": {
    "papermill": {
     "duration": 0.00501,
     "end_time": "2023-02-18T18:28:30.729608",
     "exception": false,
     "start_time": "2023-02-18T18:28:30.724598",
     "status": "completed"
    },
    "tags": []
   },
   "source": [
    "## create initial portfolio based on first activity file, add port to trades"
   ]
  },
  {
   "cell_type": "code",
   "execution_count": 6,
   "id": "28e0d188",
   "metadata": {
    "execution": {
     "iopub.execute_input": "2023-02-18T18:28:30.743568Z",
     "iopub.status.busy": "2023-02-18T18:28:30.742565Z",
     "iopub.status.idle": "2023-02-18T18:28:30.781563Z",
     "shell.execute_reply": "2023-02-18T18:28:30.779659Z"
    },
    "lines_to_next_cell": 2,
    "papermill": {
     "duration": 0.048968,
     "end_time": "2023-02-18T18:28:30.784564",
     "exception": false,
     "start_time": "2023-02-18T18:28:30.735596",
     "status": "completed"
    },
    "tags": []
   },
   "outputs": [],
   "source": [
    "df_port_init = df_raw[df_raw[0] == \"Open Positions\"]\n",
    "df_port_init.columns = df_port_init.iloc[0, :]\n",
    "df_port_init = df_port_init[df_port_init[\"Header\"] == \"Data\"]\n",
    "df_port_init.columns = [*df_port_init.columns[:-1], \"filename\"]\n",
    "cols = df_port_init.columns[~df_port_init.columns.isin([np.nan])]\n",
    "df_port_init = df_port_init[cols]\n",
    "\n",
    "df_port_init = df_port_init[\n",
    "    df_port_init[\"filename\"] == os.path.basename(globbed_files[0])\n",
    "]\n",
    "\n",
    "df_port_init.head()\n",
    "\n",
    "# add to trades\n",
    "df_port_init[\"Date/Time\"] = init_date\n",
    "df_port_init[\"T. Price\"] = df_port_init[\"Cost Price\"]\n",
    "\n",
    "df_trades = pd.concat([df_port_init, df_trades])"
   ]
  },
  {
   "cell_type": "code",
   "execution_count": 7,
   "id": "89a15609",
   "metadata": {
    "execution": {
     "iopub.execute_input": "2023-02-18T18:28:30.799560Z",
     "iopub.status.busy": "2023-02-18T18:28:30.799560Z",
     "iopub.status.idle": "2023-02-18T18:28:31.190602Z",
     "shell.execute_reply": "2023-02-18T18:28:31.188628Z"
    },
    "papermill": {
     "duration": 0.402005,
     "end_time": "2023-02-18T18:28:31.192591",
     "exception": false,
     "start_time": "2023-02-18T18:28:30.790586",
     "status": "completed"
    },
    "tags": []
   },
   "outputs": [
    {
     "data": {
      "text/plain": [
       "Open Positions        object\n",
       "Header                object\n",
       "DataDiscriminator     object\n",
       "Asset Category        object\n",
       "Currency              object\n",
       "                      ...   \n",
       "Proceeds              object\n",
       "Comm/Fee             float64\n",
       "Basis                 object\n",
       "Realized P/L          object\n",
       "MTM P/L               object\n",
       "Length: 24, dtype: object"
      ]
     },
     "execution_count": 7,
     "metadata": {},
     "output_type": "execute_result"
    }
   ],
   "source": [
    "# update data types for trades & fill nas\n",
    "\n",
    "df_trades[\"Date/Time\"] = pd.to_datetime(df_trades[\"Date/Time\"], errors=\"coerce\")\n",
    "numeric_cols = [\n",
    "    \"T. Price\",\n",
    "    \"Comm/Fee\",\n",
    "    \"Quantity\",\n",
    "]  # T. Price for opening trade includes comm\n",
    "for col in numeric_cols:\n",
    "    df_trades[col] = (\n",
    "        df_trades[col]\n",
    "        .astype(str)\n",
    "        .str.strip()\n",
    "        .str.replace(\"$\", \"\", regex=False)\n",
    "        .str.replace(\",\", \"\", regex=False)\n",
    "        .astype(float)\n",
    "    )\n",
    "\n",
    "df_trades[\"Comm/Fee\"] = df_trades[\"Comm/Fee\"].fillna(0)\n",
    "\n",
    "# QA\n",
    "df_trades.dtypes"
   ]
  },
  {
   "cell_type": "code",
   "execution_count": 8,
   "id": "36f64bed",
   "metadata": {
    "execution": {
     "iopub.execute_input": "2023-02-18T18:28:31.241714Z",
     "iopub.status.busy": "2023-02-18T18:28:31.240717Z",
     "iopub.status.idle": "2023-02-18T18:28:31.253726Z",
     "shell.execute_reply": "2023-02-18T18:28:31.251708Z"
    },
    "papermill": {
     "duration": 0.058124,
     "end_time": "2023-02-18T18:28:31.257704",
     "exception": false,
     "start_time": "2023-02-18T18:28:31.199580",
     "status": "completed"
    },
    "tags": []
   },
   "outputs": [],
   "source": [
    "# create trades action col and normalize quantity and add ratio for later\n",
    "df_trades[\"Action\"] = np.where(df_trades[\"Quantity\"] > 0, \"B\", \"S\")\n",
    "df_trades[\"Quantity\"] = abs(df_trades[\"Quantity\"])\n",
    "df_trades[\"RatioNewOld\"] = 1"
   ]
  },
  {
   "cell_type": "markdown",
   "id": "0e14a318",
   "metadata": {
    "papermill": {
     "duration": 0.004985,
     "end_time": "2023-02-18T18:28:31.272725",
     "exception": false,
     "start_time": "2023-02-18T18:28:31.267740",
     "status": "completed"
    },
    "tags": []
   },
   "source": [
    "## consider corporate actions"
   ]
  },
  {
   "cell_type": "code",
   "execution_count": 9,
   "id": "c9a63bd3",
   "metadata": {
    "execution": {
     "iopub.execute_input": "2023-02-18T18:28:31.284714Z",
     "iopub.status.busy": "2023-02-18T18:28:31.284714Z",
     "iopub.status.idle": "2023-02-18T18:28:31.331771Z",
     "shell.execute_reply": "2023-02-18T18:28:31.330769Z"
    },
    "papermill": {
     "duration": 0.057066,
     "end_time": "2023-02-18T18:28:31.334774",
     "exception": false,
     "start_time": "2023-02-18T18:28:31.277708",
     "status": "completed"
    },
    "tags": []
   },
   "outputs": [
    {
     "name": "stderr",
     "output_type": "stream",
     "text": [
      "C:\\Users\\SW\\AppData\\Local\\Temp\\ipykernel_19876\\1631371242.py:25: SettingWithCopyWarning: \n",
      "A value is trying to be set on a copy of a slice from a DataFrame.\n",
      "Try using .loc[row_indexer,col_indexer] = value instead\n",
      "\n",
      "See the caveats in the documentation: https://pandas.pydata.org/pandas-docs/stable/user_guide/indexing.html#returning-a-view-versus-a-copy\n",
      "  df_splits[\"RatioNewOld\"] = 1\n",
      "C:\\Users\\SW\\AppData\\Local\\Temp\\ipykernel_19876\\1631371242.py:26: SettingWithCopyWarning: \n",
      "A value is trying to be set on a copy of a slice from a DataFrame.\n",
      "Try using .loc[row_indexer,col_indexer] = value instead\n",
      "\n",
      "See the caveats in the documentation: https://pandas.pydata.org/pandas-docs/stable/user_guide/indexing.html#returning-a-view-versus-a-copy\n",
      "  df_splits.loc[:, \"RatioNewOld\"] = (\n"
     ]
    }
   ],
   "source": [
    "# pull corp actions\n",
    "df_corpact = df_raw[df_raw[0] == \"Corporate Actions\"]\n",
    "df_corpact.columns = df_corpact.iloc[0, :]  # col name is at top of block\n",
    "df_corpact = df_corpact[df_corpact[\"Header\"] == \"Data\"]\n",
    "df_corpact.columns = [*df_corpact.columns[:-1], \"filename\"]\n",
    "cols = df_corpact.columns[~df_corpact.columns.isin([np.nan])]\n",
    "df_corpact = df_corpact[cols]\n",
    "\n",
    "df_corpact = df_corpact[~df_corpact[\"Description\"].isna()]  # remove na's\n",
    "\n",
    "# add cols to match trades\n",
    "df_corpact[\"Symbol\"] = (\n",
    "    df_corpact[\"Description\"]\n",
    "    .str.split(\"(\", expand=True)[0]\n",
    "    .str.split(\".\", expand=True)[0]\n",
    ")\n",
    "df_corpact[\"Action\"] = \"CA\"\n",
    "df_corpact[\"Date/Time\"] = pd.to_datetime(df_corpact[\"Date/Time\"], errors=\"coerce\")\n",
    "condlist = [df_corpact[\"Description\"].str.contains(\"Split\"), True]\n",
    "choicelist = [\"Split\", \"\"]\n",
    "df_corpact[\"ActionType\"] = np.select(condlist, choicelist)\n",
    "\n",
    "df_splits = df_corpact.loc[df_corpact[\"ActionType\"] == \"Split\", :]\n",
    "\n",
    "df_splits[\"RatioNewOld\"] = 1\n",
    "df_splits.loc[:, \"RatioNewOld\"] = (\n",
    "    df_splits[\"Description\"]\n",
    "    .astype(str)\n",
    "    .str.split(\" for \", expand=True)[0]\n",
    "    .str.split(\" FOR \", expand=True)[0]\n",
    "    .str.split(\" \", expand=True)\n",
    "    .iloc[:, -1]\n",
    "    .str[0:2]\n",
    "    .astype(float)\n",
    ") / (\n",
    "    df_splits[\"Description\"]\n",
    "    .astype(str)\n",
    "    .str.split(\" for \", expand=True)\n",
    "    .iloc[:, -1]\n",
    "    .str.split(\" FOR \", expand=True)[0]\n",
    "    .str.split(\" \", expand=True)[0]\n",
    "    .str[0:2]\n",
    "    .astype(float)\n",
    ")\n",
    "\n",
    "# sort by time\n",
    "df_trades = pd.concat([df_trades, df_splits]).sort_values(\"Date/Time\", ascending=True)\n",
    "\n",
    "# ratio\n",
    "df_trades[\"RatioNewOld\"] = df_trades[\"RatioNewOld\"].fillna(1)"
   ]
  },
  {
   "cell_type": "markdown",
   "id": "aabf3123",
   "metadata": {
    "papermill": {
     "duration": 0.005993,
     "end_time": "2023-02-18T18:28:31.346775",
     "exception": false,
     "start_time": "2023-02-18T18:28:31.340782",
     "status": "completed"
    },
    "tags": []
   },
   "source": [
    "## create completed trade list"
   ]
  },
  {
   "cell_type": "code",
   "execution_count": 10,
   "id": "5bd1d12a",
   "metadata": {
    "execution": {
     "iopub.execute_input": "2023-02-18T18:28:31.360773Z",
     "iopub.status.busy": "2023-02-18T18:28:31.360773Z",
     "iopub.status.idle": "2023-02-18T18:28:34.411748Z",
     "shell.execute_reply": "2023-02-18T18:28:34.410746Z"
    },
    "papermill": {
     "duration": 3.059977,
     "end_time": "2023-02-18T18:28:34.414751",
     "exception": false,
     "start_time": "2023-02-18T18:28:31.354774",
     "status": "completed"
    },
    "tags": []
   },
   "outputs": [
    {
     "data": {
      "text/plain": [
       "475552.1800000005"
      ]
     },
     "execution_count": 10,
     "metadata": {},
     "output_type": "execute_result"
    }
   ],
   "source": [
    "# QA\n",
    "# df_trades = pd.read_csv('data-tests/tradelog2_corpact.csv')\n",
    "\n",
    "tm = th.TradeManager(store_trades=True, print_trades=False)\n",
    "\n",
    "tm.process_df(df_trades)\n",
    "\n",
    "# list of trade objects\n",
    "complete_trades = tm.get_copy_of_closed_trades()\n",
    "\n",
    "# pushed to dataframe\n",
    "df_complete_trades = pd.concat([x.to_df() for x in complete_trades]).reset_index(\n",
    "    drop=True\n",
    ")\n",
    "\n",
    "tm.get_pnl()"
   ]
  },
  {
   "cell_type": "code",
   "execution_count": 11,
   "id": "f4016b8f",
   "metadata": {
    "execution": {
     "iopub.execute_input": "2023-02-18T18:28:34.431750Z",
     "iopub.status.busy": "2023-02-18T18:28:34.431750Z",
     "iopub.status.idle": "2023-02-18T18:28:34.442745Z",
     "shell.execute_reply": "2023-02-18T18:28:34.441794Z"
    },
    "papermill": {
     "duration": 0.024035,
     "end_time": "2023-02-18T18:28:34.445781",
     "exception": false,
     "start_time": "2023-02-18T18:28:34.421746",
     "status": "completed"
    },
    "tags": []
   },
   "outputs": [
    {
     "data": {
      "text/plain": [
       "Open_Date      datetime64[ns]\n",
       "Close_Date     datetime64[ns]\n",
       "Symbol                 object\n",
       "Quantity              float64\n",
       "Pnl                   float64\n",
       "OpenAct                object\n",
       "CloseAct               object\n",
       "Open_Price            float64\n",
       "Close_Price           float64\n",
       "Comm_Tot              float64\n",
       "dtype: object"
      ]
     },
     "execution_count": 11,
     "metadata": {},
     "output_type": "execute_result"
    }
   ],
   "source": [
    "# understand data types\n",
    "\n",
    "df_complete_trades.dtypes"
   ]
  },
  {
   "cell_type": "markdown",
   "id": "30581a75",
   "metadata": {
    "papermill": {
     "duration": 0.006005,
     "end_time": "2023-02-18T18:28:34.456750",
     "exception": false,
     "start_time": "2023-02-18T18:28:34.450745",
     "status": "completed"
    },
    "tags": []
   },
   "source": [
    "## save output"
   ]
  },
  {
   "cell_type": "code",
   "execution_count": 12,
   "id": "cc572019",
   "metadata": {
    "execution": {
     "iopub.execute_input": "2023-02-18T18:28:34.471763Z",
     "iopub.status.busy": "2023-02-18T18:28:34.471763Z",
     "iopub.status.idle": "2023-02-18T18:28:34.520767Z",
     "shell.execute_reply": "2023-02-18T18:28:34.519841Z"
    },
    "lines_to_next_cell": 2,
    "papermill": {
     "duration": 0.059031,
     "end_time": "2023-02-18T18:28:34.522778",
     "exception": false,
     "start_time": "2023-02-18T18:28:34.463747",
     "status": "completed"
    },
    "tags": []
   },
   "outputs": [],
   "source": [
    "df_complete_trades.to_csv(\"output/a_completelog.csv\")"
   ]
  },
  {
   "cell_type": "code",
   "execution_count": null,
   "id": "c34272ac",
   "metadata": {
    "papermill": {
     "duration": 0.004999,
     "end_time": "2023-02-18T18:28:34.534746",
     "exception": false,
     "start_time": "2023-02-18T18:28:34.529747",
     "status": "completed"
    },
    "tags": []
   },
   "outputs": [],
   "source": []
  }
 ],
 "metadata": {
  "jupytext": {
   "formats": "auto:percent,ipynb"
  },
  "kernelspec": {
   "display_name": "p1analyzetrades",
   "language": "python",
   "name": "p1analyzetrades"
  },
  "language_info": {
   "codemirror_mode": {
    "name": "ipython",
    "version": 3
   },
   "file_extension": ".py",
   "mimetype": "text/x-python",
   "name": "python",
   "nbconvert_exporter": "python",
   "pygments_lexer": "ipython3",
   "version": "3.9.10"
  },
  "papermill": {
   "default_parameters": {},
   "duration": 10.518528,
   "end_time": "2023-02-18T18:28:34.915324",
   "environment_variables": {},
   "exception": null,
   "input_path": "P1-AnalyzeTrades_a_tradelog.ipynb",
   "output_path": "P1-AnalyzeTrades_a_tradelog_output.ipynb",
   "parameters": {},
   "start_time": "2023-02-18T18:28:24.396796",
   "version": "2.3.4"
  },
  "toc": {
   "base_numbering": 1,
   "nav_menu": {},
   "number_sections": true,
   "sideBar": true,
   "skip_h1_title": false,
   "title_cell": "Table of Contents",
   "title_sidebar": "Contents",
   "toc_cell": false,
   "toc_position": {},
   "toc_section_display": true,
   "toc_window_display": true
  },
  "varInspector": {
   "cols": {
    "lenName": 16,
    "lenType": 16,
    "lenVar": 40
   },
   "kernels_config": {
    "python": {
     "delete_cmd_postfix": "",
     "delete_cmd_prefix": "del ",
     "library": "var_list.py",
     "varRefreshCmd": "print(var_dic_list())"
    },
    "r": {
     "delete_cmd_postfix": ") ",
     "delete_cmd_prefix": "rm(",
     "library": "var_list.r",
     "varRefreshCmd": "cat(var_dic_list()) "
    }
   },
   "types_to_exclude": [
    "module",
    "function",
    "builtin_function_or_method",
    "instance",
    "_Feature"
   ],
   "window_display": true
  }
 },
 "nbformat": 4,
 "nbformat_minor": 5
}