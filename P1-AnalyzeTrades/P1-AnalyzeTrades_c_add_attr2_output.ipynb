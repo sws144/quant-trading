{
 "cells": [
  {
   "cell_type": "markdown",
   "id": "412e9eb2",
   "metadata": {
    "papermill": {
     "duration": 0.01197,
     "end_time": "2022-07-25T01:14:11.276868",
     "exception": false,
     "start_time": "2022-07-25T01:14:11.264898",
     "status": "completed"
    },
    "tags": []
   },
   "source": [
    " ## C add attributes 2 and begin feat engineering\n",
    " Design matrix is one record per row\n"
   ]
  },
  {
   "cell_type": "code",
   "execution_count": 1,
   "id": "578455e8",
   "metadata": {
    "ExecuteTime": {
     "end_time": "2022-07-17T19:16:08.201567Z",
     "start_time": "2022-07-17T19:16:08.181563Z"
    },
    "execution": {
     "iopub.execute_input": "2022-07-25T01:14:11.293870Z",
     "iopub.status.busy": "2022-07-25T01:14:11.293870Z",
     "iopub.status.idle": "2022-07-25T01:14:11.468872Z",
     "shell.execute_reply": "2022-07-25T01:14:11.467869Z"
    },
    "papermill": {
     "duration": 0.189,
     "end_time": "2022-07-25T01:14:11.472869",
     "exception": false,
     "start_time": "2022-07-25T01:14:11.283869",
     "status": "completed"
    },
    "tags": []
   },
   "outputs": [
    {
     "data": {
      "application/javascript": [
       "\n",
       "            (function() {\n",
       "                jb_set_cell(\"# pivoted\\n\\ndf_data_pivot = df_data_formatted.pivot(\\n    index=[\\\"Date\\\"],\\n    columns=[\\\"Ticker\\\"],\\n    values=[\\\"Close\\\"],\\n).reset_index()\\n\\n# to deal with multiindex columns\\ndf_data_pivot.columns = [\\\"_\\\".join(col).strip() for col in df_data_pivot.columns.values]\\ndf_data_pivot.rename(columns={\\\"Date_\\\": \\\"Date_YahooFinance\\\"}, inplace=True)\\ndf_data_pivot[\\\"Date_YahooFinance\\\"] = pd.to_datetime(\\n    df_data_pivot[\\\"Date_YahooFinance\\\"], errors=\\\"coerce\\\"\\n)\\ndf_data_pivot.head()\")\n",
       "            })();\n",
       "            "
      ],
      "text/plain": [
       "<IPython.core.display.Javascript object>"
      ]
     },
     "metadata": {},
     "output_type": "display_data"
    }
   ],
   "source": [
    "# formatting\n",
    "import jupyter_black\n",
    "\n",
    "jupyter_black.load(\n",
    "    lab=False,\n",
    ")"
   ]
  },
  {
   "cell_type": "code",
   "execution_count": 2,
   "id": "f71b1069",
   "metadata": {
    "ExecuteTime": {
     "end_time": "2022-07-17T19:16:08.232561Z",
     "start_time": "2022-07-17T19:16:08.205562Z"
    },
    "execution": {
     "iopub.execute_input": "2022-07-25T01:14:11.490870Z",
     "iopub.status.busy": "2022-07-25T01:14:11.489869Z",
     "iopub.status.idle": "2022-07-25T01:14:13.090872Z",
     "shell.execute_reply": "2022-07-25T01:14:13.089872Z"
    },
    "papermill": {
     "duration": 1.617002,
     "end_time": "2022-07-25T01:14:13.095870",
     "exception": false,
     "start_time": "2022-07-25T01:14:11.478868",
     "status": "completed"
    },
    "tags": []
   },
   "outputs": [],
   "source": [
    "# imports\n",
    "\n",
    "import pandas as pd\n",
    "import numpy as np  # for np.nan\n",
    "import os  # for path\n",
    "\n",
    "import yfinance as yf\n",
    "\n",
    "import json\n",
    "\n",
    "from pandas_datareader.quandl import QuandlReader  # data side\n",
    "\n",
    "reload_data = True\n",
    "end_date = \"2030-12-31\""
   ]
  },
  {
   "cell_type": "code",
   "execution_count": 3,
   "id": "d62bf341",
   "metadata": {
    "ExecuteTime": {
     "end_time": "2022-07-17T19:16:08.263583Z",
     "start_time": "2022-07-17T19:16:08.236561Z"
    },
    "execution": {
     "iopub.execute_input": "2022-07-25T01:14:13.130900Z",
     "iopub.status.busy": "2022-07-25T01:14:13.126890Z",
     "iopub.status.idle": "2022-07-25T01:14:13.153870Z",
     "shell.execute_reply": "2022-07-25T01:14:13.151886Z"
    },
    "papermill": {
     "duration": 0.045998,
     "end_time": "2022-07-25T01:14:13.156869",
     "exception": false,
     "start_time": "2022-07-25T01:14:13.110871",
     "status": "completed"
    },
    "tags": []
   },
   "outputs": [],
   "source": [
    "with open(\"data/vars.json\", \"r\") as json_file:\n",
    "    var_dict = json.load(json_file)"
   ]
  },
  {
   "cell_type": "code",
   "execution_count": 4,
   "id": "c6efb470",
   "metadata": {
    "ExecuteTime": {
     "end_time": "2022-07-17T19:16:08.341557Z",
     "start_time": "2022-07-17T19:16:08.271558Z"
    },
    "execution": {
     "iopub.execute_input": "2022-07-25T01:14:13.177877Z",
     "iopub.status.busy": "2022-07-25T01:14:13.176876Z",
     "iopub.status.idle": "2022-07-25T01:14:13.263893Z",
     "shell.execute_reply": "2022-07-25T01:14:13.261880Z"
    },
    "papermill": {
     "duration": 0.103001,
     "end_time": "2022-07-25T01:14:13.266870",
     "exception": false,
     "start_time": "2022-07-25T01:14:13.163869",
     "status": "completed"
    },
    "tags": []
   },
   "outputs": [],
   "source": [
    "# read in raw data\n",
    "### INPUT ###\n",
    "\n",
    "# formatted tradelog\n",
    "trades_filename = \"output/b_completewattr.csv\"\n",
    "df_raw = pd.read_csv(trades_filename)"
   ]
  },
  {
   "cell_type": "markdown",
   "id": "96179ba6",
   "metadata": {
    "papermill": {
     "duration": 0.011997,
     "end_time": "2022-07-25T01:14:13.293888",
     "exception": false,
     "start_time": "2022-07-25T01:14:13.281891",
     "status": "completed"
    },
    "tags": []
   },
   "source": [
    "### Existing Cols with Issues"
   ]
  },
  {
   "cell_type": "code",
   "execution_count": 5,
   "id": "b7a1be26",
   "metadata": {
    "ExecuteTime": {
     "end_time": "2022-07-17T19:16:08.373555Z",
     "start_time": "2022-07-17T19:16:08.350558Z"
    },
    "execution": {
     "iopub.execute_input": "2022-07-25T01:14:13.330874Z",
     "iopub.status.busy": "2022-07-25T01:14:13.329869Z",
     "iopub.status.idle": "2022-07-25T01:14:13.357872Z",
     "shell.execute_reply": "2022-07-25T01:14:13.355873Z"
    },
    "papermill": {
     "duration": 0.052001,
     "end_time": "2022-07-25T01:14:13.362872",
     "exception": false,
     "start_time": "2022-07-25T01:14:13.310871",
     "status": "completed"
    },
    "tags": []
   },
   "outputs": [],
   "source": [
    "existing_err_cols = [\n",
    "    \"AAII_SENT_Date\",\n",
    "    \"AAII_SENT_Bullish\",  ## AAII columns are missing later 2021 and 2022 values\n",
    "    \"AAII_SENT_Neutral\",\n",
    "    \"AAII_SENT_Bearish\",\n",
    "    \"AAII_SENT_Total\",\n",
    "    \"AAII_SENT_Bullish8WeekMovAvg\",\n",
    "    \"AAII_SENT_BullBearSpread\",\n",
    "    \"AAII_SENT_BullishAverage\",\n",
    "    \"AAII_SENT_BullishAverage+StDev\",\n",
    "    \"AAII_SENT_BullishAverageStDev\",\n",
    "    \"AAII_SENT_S&P500WeeklyHigh\",\n",
    "    \"AAII_SENT_S&P500WeeklyLow\",\n",
    "    \"AAII_SENT_S&P500WeeklyClose\",\n",
    "]"
   ]
  },
  {
   "cell_type": "markdown",
   "id": "5fab6fe7",
   "metadata": {
    "papermill": {
     "duration": 0.01598,
     "end_time": "2022-07-25T01:14:13.400871",
     "exception": false,
     "start_time": "2022-07-25T01:14:13.384891",
     "status": "completed"
    },
    "tags": []
   },
   "source": [
    "## pull data from yahoo finance"
   ]
  },
  {
   "cell_type": "code",
   "execution_count": 6,
   "id": "550d176c",
   "metadata": {
    "ExecuteTime": {
     "end_time": "2022-07-17T19:16:08.763560Z",
     "start_time": "2022-07-17T19:16:08.376557Z"
    },
    "execution": {
     "iopub.execute_input": "2022-07-25T01:14:13.439878Z",
     "iopub.status.busy": "2022-07-25T01:14:13.437874Z",
     "iopub.status.idle": "2022-07-25T01:14:16.930873Z",
     "shell.execute_reply": "2022-07-25T01:14:16.928872Z"
    },
    "lines_to_next_cell": 2,
    "papermill": {
     "duration": 3.518995,
     "end_time": "2022-07-25T01:14:16.938870",
     "exception": false,
     "start_time": "2022-07-25T01:14:13.419875",
     "status": "completed"
    },
    "tags": []
   },
   "outputs": [
    {
     "name": "stdout",
     "output_type": "stream",
     "text": [
      "\r",
      "[                       0%                       ]"
     ]
    },
    {
     "name": "stdout",
     "output_type": "stream",
     "text": [
      "\r",
      "[*********************100%***********************]  2 of 2 completed"
     ]
    },
    {
     "name": "stdout",
     "output_type": "stream",
     "text": [
      "\n"
     ]
    },
    {
     "data": {
      "text/html": [
       "<div>\n",
       "<style scoped>\n",
       "    .dataframe tbody tr th:only-of-type {\n",
       "        vertical-align: middle;\n",
       "    }\n",
       "\n",
       "    .dataframe tbody tr th {\n",
       "        vertical-align: top;\n",
       "    }\n",
       "\n",
       "    .dataframe thead th {\n",
       "        text-align: right;\n",
       "    }\n",
       "</style>\n",
       "<table border=\"1\" class=\"dataframe\">\n",
       "  <thead>\n",
       "    <tr style=\"text-align: right;\">\n",
       "      <th></th>\n",
       "      <th>Date</th>\n",
       "      <th>Ticker</th>\n",
       "      <th>Adj Close</th>\n",
       "      <th>Close</th>\n",
       "      <th>High</th>\n",
       "      <th>Low</th>\n",
       "      <th>Open</th>\n",
       "      <th>Volume</th>\n",
       "    </tr>\n",
       "  </thead>\n",
       "  <tbody>\n",
       "    <tr>\n",
       "      <th>0</th>\n",
       "      <td>2010-01-04</td>\n",
       "      <td>^GSPC</td>\n",
       "      <td>1132.989990</td>\n",
       "      <td>1132.989990</td>\n",
       "      <td>1133.869995</td>\n",
       "      <td>1116.560059</td>\n",
       "      <td>1116.560059</td>\n",
       "      <td>3991400000</td>\n",
       "    </tr>\n",
       "    <tr>\n",
       "      <th>1</th>\n",
       "      <td>2010-01-04</td>\n",
       "      <td>^VIX</td>\n",
       "      <td>20.040001</td>\n",
       "      <td>20.040001</td>\n",
       "      <td>21.680000</td>\n",
       "      <td>20.030001</td>\n",
       "      <td>21.680000</td>\n",
       "      <td>0</td>\n",
       "    </tr>\n",
       "    <tr>\n",
       "      <th>2</th>\n",
       "      <td>2010-01-05</td>\n",
       "      <td>^GSPC</td>\n",
       "      <td>1136.520020</td>\n",
       "      <td>1136.520020</td>\n",
       "      <td>1136.630005</td>\n",
       "      <td>1129.660034</td>\n",
       "      <td>1132.660034</td>\n",
       "      <td>2491020000</td>\n",
       "    </tr>\n",
       "    <tr>\n",
       "      <th>3</th>\n",
       "      <td>2010-01-05</td>\n",
       "      <td>^VIX</td>\n",
       "      <td>19.350000</td>\n",
       "      <td>19.350000</td>\n",
       "      <td>20.129999</td>\n",
       "      <td>19.340000</td>\n",
       "      <td>20.049999</td>\n",
       "      <td>0</td>\n",
       "    </tr>\n",
       "    <tr>\n",
       "      <th>4</th>\n",
       "      <td>2010-01-06</td>\n",
       "      <td>^GSPC</td>\n",
       "      <td>1137.140015</td>\n",
       "      <td>1137.140015</td>\n",
       "      <td>1139.189941</td>\n",
       "      <td>1133.949951</td>\n",
       "      <td>1135.709961</td>\n",
       "      <td>4972660000</td>\n",
       "    </tr>\n",
       "  </tbody>\n",
       "</table>\n",
       "</div>"
      ],
      "text/plain": [
       "        Date Ticker    Adj Close        Close         High          Low  \\\n",
       "0 2010-01-04  ^GSPC  1132.989990  1132.989990  1133.869995  1116.560059   \n",
       "1 2010-01-04   ^VIX    20.040001    20.040001    21.680000    20.030001   \n",
       "2 2010-01-05  ^GSPC  1136.520020  1136.520020  1136.630005  1129.660034   \n",
       "3 2010-01-05   ^VIX    19.350000    19.350000    20.129999    19.340000   \n",
       "4 2010-01-06  ^GSPC  1137.140015  1137.140015  1139.189941  1133.949951   \n",
       "\n",
       "          Open      Volume  \n",
       "0  1116.560059  3991400000  \n",
       "1    21.680000           0  \n",
       "2  1132.660034  2491020000  \n",
       "3    20.049999           0  \n",
       "4  1135.709961  4972660000  "
      ]
     },
     "execution_count": 6,
     "metadata": {},
     "output_type": "execute_result"
    }
   ],
   "source": [
    "tickers = [\"^VIX\", \"^GSPC\"]\n",
    "if reload_data:\n",
    "    df_data = yf.download(\n",
    "        \" \".join(tickers), start=\"2010-01-01\", end=end_date, group_by=\"Tickers\"\n",
    "    )\n",
    "    # turn into tabular form\n",
    "    df_data_formatted = (\n",
    "        df_data.stack(level=0).reset_index().rename(columns={\"level_1\": \"Ticker\"})\n",
    "    )\n",
    "    df_data_formatted.to_csv(\"output/c_mktdata.csv\")\n",
    "else:\n",
    "    df_data_formatted = pd.read_csv(\"output/c_mktdata.csv\")\n",
    "\n",
    "df_data_formatted.head()"
   ]
  },
  {
   "cell_type": "code",
   "execution_count": 7,
   "id": "610ade48",
   "metadata": {
    "ExecuteTime": {
     "end_time": "2022-07-17T19:16:08.827556Z",
     "start_time": "2022-07-17T19:16:08.767557Z"
    },
    "execution": {
     "iopub.execute_input": "2022-07-25T01:14:16.986875Z",
     "iopub.status.busy": "2022-07-25T01:14:16.984871Z",
     "iopub.status.idle": "2022-07-25T01:14:17.170880Z",
     "shell.execute_reply": "2022-07-25T01:14:17.166871Z"
    },
    "papermill": {
     "duration": 0.219008,
     "end_time": "2022-07-25T01:14:17.180881",
     "exception": false,
     "start_time": "2022-07-25T01:14:16.961873",
     "status": "completed"
    },
    "tags": []
   },
   "outputs": [
    {
     "data": {
      "text/html": [
       "<div>\n",
       "<style scoped>\n",
       "    .dataframe tbody tr th:only-of-type {\n",
       "        vertical-align: middle;\n",
       "    }\n",
       "\n",
       "    .dataframe tbody tr th {\n",
       "        vertical-align: top;\n",
       "    }\n",
       "\n",
       "    .dataframe thead th {\n",
       "        text-align: right;\n",
       "    }\n",
       "</style>\n",
       "<table border=\"1\" class=\"dataframe\">\n",
       "  <thead>\n",
       "    <tr style=\"text-align: right;\">\n",
       "      <th></th>\n",
       "      <th>Date_YahooFinance</th>\n",
       "      <th>Close_^GSPC</th>\n",
       "      <th>Close_^VIX</th>\n",
       "    </tr>\n",
       "  </thead>\n",
       "  <tbody>\n",
       "    <tr>\n",
       "      <th>0</th>\n",
       "      <td>2010-01-04</td>\n",
       "      <td>1132.989990</td>\n",
       "      <td>20.040001</td>\n",
       "    </tr>\n",
       "    <tr>\n",
       "      <th>1</th>\n",
       "      <td>2010-01-05</td>\n",
       "      <td>1136.520020</td>\n",
       "      <td>19.350000</td>\n",
       "    </tr>\n",
       "    <tr>\n",
       "      <th>2</th>\n",
       "      <td>2010-01-06</td>\n",
       "      <td>1137.140015</td>\n",
       "      <td>19.160000</td>\n",
       "    </tr>\n",
       "    <tr>\n",
       "      <th>3</th>\n",
       "      <td>2010-01-07</td>\n",
       "      <td>1141.689941</td>\n",
       "      <td>19.059999</td>\n",
       "    </tr>\n",
       "    <tr>\n",
       "      <th>4</th>\n",
       "      <td>2010-01-08</td>\n",
       "      <td>1144.979980</td>\n",
       "      <td>18.129999</td>\n",
       "    </tr>\n",
       "  </tbody>\n",
       "</table>\n",
       "</div>"
      ],
      "text/plain": [
       "  Date_YahooFinance  Close_^GSPC  Close_^VIX\n",
       "0        2010-01-04  1132.989990   20.040001\n",
       "1        2010-01-05  1136.520020   19.350000\n",
       "2        2010-01-06  1137.140015   19.160000\n",
       "3        2010-01-07  1141.689941   19.059999\n",
       "4        2010-01-08  1144.979980   18.129999"
      ]
     },
     "execution_count": 7,
     "metadata": {},
     "output_type": "execute_result"
    }
   ],
   "source": [
    "# pivoted\n",
    "\n",
    "df_data_pivot = df_data_formatted.pivot(\n",
    "    index=[\"Date\"],\n",
    "    columns=[\"Ticker\"],\n",
    "    values=[\"Close\"],\n",
    ").reset_index()\n",
    "\n",
    "# to deal with multiindex columns\n",
    "df_data_pivot.columns = [\"_\".join(col).strip() for col in df_data_pivot.columns.values]\n",
    "df_data_pivot.rename(columns={'Date_':'Date_YahooFinance'}, inplace=True)\n",
    "df_data_pivot[\"Date_YahooFinance\"] = pd.to_datetime(df_data_pivot[\"Date_YahooFinance\"], errors=\"coerce\")\n",
    "df_data_pivot.head()"
   ]
  },
  {
   "cell_type": "code",
   "execution_count": 8,
   "id": "2b522ccd",
   "metadata": {
    "ExecuteTime": {
     "end_time": "2022-07-17T19:16:08.891575Z",
     "start_time": "2022-07-17T19:16:08.831558Z"
    },
    "execution": {
     "iopub.execute_input": "2022-07-25T01:14:17.261877Z",
     "iopub.status.busy": "2022-07-25T01:14:17.260875Z",
     "iopub.status.idle": "2022-07-25T01:14:17.360874Z",
     "shell.execute_reply": "2022-07-25T01:14:17.357882Z"
    },
    "lines_to_next_cell": 2,
    "papermill": {
     "duration": 0.139995,
     "end_time": "2022-07-25T01:14:17.365874",
     "exception": false,
     "start_time": "2022-07-25T01:14:17.225879",
     "status": "completed"
    },
    "tags": []
   },
   "outputs": [],
   "source": [
    "# merge\n",
    "\n",
    "df_source = df_raw.copy(deep=True)\n",
    "\n",
    "df_source[\"Open_Date\"] = pd.to_datetime(df_source[\"Open_Date\"], errors=\"coerce\")\n",
    "\n",
    "\n",
    "# need to sort\n",
    "df_source = df_source.sort_values([\"Open_Date\"])\n",
    "df_data_pivot = df_data_pivot.sort_values([\"Date_YahooFinance\"])\n",
    "\n",
    "df_result = pd.merge_asof(\n",
    "    df_source, df_data_pivot, left_on=[\"Open_Date\"], right_on=[\"Date_YahooFinance\"]\n",
    ")"
   ]
  },
  {
   "cell_type": "markdown",
   "id": "08d5ea97",
   "metadata": {
    "papermill": {
     "duration": 0.012992,
     "end_time": "2022-07-25T01:14:17.395873",
     "exception": false,
     "start_time": "2022-07-25T01:14:17.382881",
     "status": "completed"
    },
    "tags": []
   },
   "source": [
    "### Add Open Year"
   ]
  },
  {
   "cell_type": "code",
   "execution_count": 9,
   "id": "9416c46a",
   "metadata": {
    "ExecuteTime": {
     "end_time": "2022-07-17T19:16:08.907557Z",
     "start_time": "2022-07-17T19:16:08.895558Z"
    },
    "execution": {
     "iopub.execute_input": "2022-07-25T01:14:17.422877Z",
     "iopub.status.busy": "2022-07-25T01:14:17.421878Z",
     "iopub.status.idle": "2022-07-25T01:14:17.452868Z",
     "shell.execute_reply": "2022-07-25T01:14:17.451870Z"
    },
    "papermill": {
     "duration": 0.048003,
     "end_time": "2022-07-25T01:14:17.456874",
     "exception": false,
     "start_time": "2022-07-25T01:14:17.408871",
     "status": "completed"
    },
    "tags": []
   },
   "outputs": [],
   "source": [
    "df_result[\"Open_Year\"] = df_result[\"Open_Date\"].dt.year"
   ]
  },
  {
   "cell_type": "markdown",
   "id": "18fec413",
   "metadata": {
    "papermill": {
     "duration": 0.011004,
     "end_time": "2022-07-25T01:14:17.478876",
     "exception": false,
     "start_time": "2022-07-25T01:14:17.467872",
     "status": "completed"
    },
    "tags": []
   },
   "source": [
    "### Test data"
   ]
  },
  {
   "cell_type": "code",
   "execution_count": 10,
   "id": "dd811c95",
   "metadata": {
    "ExecuteTime": {
     "end_time": "2022-07-17T19:16:08.939566Z",
     "start_time": "2022-07-17T19:16:08.914566Z"
    },
    "execution": {
     "iopub.execute_input": "2022-07-25T01:14:17.532884Z",
     "iopub.status.busy": "2022-07-25T01:14:17.530875Z",
     "iopub.status.idle": "2022-07-25T01:14:17.549893Z",
     "shell.execute_reply": "2022-07-25T01:14:17.547875Z"
    },
    "papermill": {
     "duration": 0.053001,
     "end_time": "2022-07-25T01:14:17.555873",
     "exception": false,
     "start_time": "2022-07-25T01:14:17.502872",
     "status": "completed"
    },
    "scrolled": true,
    "tags": []
   },
   "outputs": [
    {
     "data": {
      "text/plain": [
       "Index(['Unnamed: 0.1', 'Unnamed: 0', 'Open_Date', 'Close_Date', 'Symbol',\n",
       "       'Quantity', 'Pnl', 'OpenAct', 'CloseAct', 'Open_Price', 'Close_Price',\n",
       "       'Comm_Tot', 'DATE', 'ACTION', 'QTYCHG', 'PRICE', 'TIME', 'UNNAMED: 6',\n",
       "       'COMMISSION', 'UNNAMED: 8', 'CASH CHG (PNL)', 'COMMENTS', 'PCTRETURN',\n",
       "       'DETAILS', 'STARTDATE', 'COMPANY NAME (IN ALPHABETICAL ORDER)',\n",
       "       'TICKER', 'STOP', '% TO STOP', 'CURRENT PRICE', '% TO TARGET',\n",
       "       'AT PRICE', 'TARGET', 'EPS1', 'EPS2', 'FYEND', 'DAYSTOFYEND',\n",
       "       'FYEPSNXT', 'GROWTH*0.5TO0.75', 'ROIC (BW ROA ROE)', 'TGT FWD P/E',\n",
       "       'YEARS TO NORMALIZATION', 'LASTUPDATED', 'CATEGORY', 'COMMENTS.1',\n",
       "       'FILENAME', 'DayOfWeek0Mon', 'Date_YahooFinance', 'Close_^GSPC',\n",
       "       'Close_^VIX', 'Open_Year'],\n",
       "      dtype='object')"
      ]
     },
     "execution_count": 10,
     "metadata": {},
     "output_type": "execute_result"
    }
   ],
   "source": [
    "df_result.columns"
   ]
  },
  {
   "cell_type": "code",
   "execution_count": 11,
   "id": "9605bd81",
   "metadata": {
    "ExecuteTime": {
     "end_time": "2022-07-17T19:16:10.276279Z",
     "start_time": "2022-07-17T19:16:08.942561Z"
    },
    "execution": {
     "iopub.execute_input": "2022-07-25T01:14:17.590881Z",
     "iopub.status.busy": "2022-07-25T01:14:17.589876Z",
     "iopub.status.idle": "2022-07-25T01:14:20.341873Z",
     "shell.execute_reply": "2022-07-25T01:14:20.339871Z"
    },
    "lines_to_next_cell": 2,
    "papermill": {
     "duration": 2.780003,
     "end_time": "2022-07-25T01:14:20.349875",
     "exception": false,
     "start_time": "2022-07-25T01:14:17.569872",
     "status": "completed"
    },
    "tags": []
   },
   "outputs": [
    {
     "data": {
      "image/png": "[encoded data removed]",
      "text/plain": [
       "<Figure size 432x288 with 1 Axes>"
      ]
     },
     "metadata": {
      "needs_background": "light"
     },
     "output_type": "display_data"
    },
    {
     "data": {
      "image/png": "[encoded data removed]",
      "text/plain": [
       "<Figure size 432x288 with 1 Axes>"
      ]
     },
     "metadata": {
      "needs_background": "light"
     },
     "output_type": "display_data"
    }
   ],
   "source": [
    "for symbol in tickers:\n",
    "    temp_df = pd.pivot_table(\n",
    "        df_result,\n",
    "        index=[\"Open_Year\"],\n",
    "        values=\"Close_\" + symbol,\n",
    "        aggfunc=\"mean\",\n",
    "        dropna=False,\n",
    "    )\n",
    "    temp_df.plot()\n",
    "\n",
    "    assert min(temp_df[\"Close_\" + symbol]) > 0, \"values should all be above zero\""
   ]
  },
  {
   "cell_type": "markdown",
   "id": "63f8ac7e",
   "metadata": {
    "papermill": {
     "duration": 0.012,
     "end_time": "2022-07-25T01:14:20.379869",
     "exception": false,
     "start_time": "2022-07-25T01:14:20.367869",
     "status": "completed"
    },
    "tags": []
   },
   "source": [
    "## pull data from Quandl  / Nasdaq Data Link\n",
    "1. log in is from [Nasdaq data link](https://docs.data.nasdaq.com/docs/python-installation)"
   ]
  },
  {
   "cell_type": "code",
   "execution_count": 12,
   "id": "fa3c76d3",
   "metadata": {
    "ExecuteTime": {
     "end_time": "2022-07-17T19:16:10.307251Z",
     "start_time": "2022-07-17T19:16:10.282249Z"
    },
    "execution": {
     "iopub.execute_input": "2022-07-25T01:14:20.403869Z",
     "iopub.status.busy": "2022-07-25T01:14:20.402874Z",
     "iopub.status.idle": "2022-07-25T01:14:20.417875Z",
     "shell.execute_reply": "2022-07-25T01:14:20.416868Z"
    },
    "papermill": {
     "duration": 0.029011,
     "end_time": "2022-07-25T01:14:20.420882",
     "exception": false,
     "start_time": "2022-07-25T01:14:20.391871",
     "status": "completed"
    },
    "tags": []
   },
   "outputs": [],
   "source": [
    "externalvar_dict = {\n",
    "    \"AAII/AAII_SENTIMENT\": \"AAII_SENT\",  ## aaii sentiment\n",
    "    #     \"FED/RIMLPAAAR_N_B\": \"FED_AAACORP\",  ## daily Fed AAA rates #TODO ned to fix different timeframes\n",
    "}"
   ]
  },
  {
   "cell_type": "code",
   "execution_count": 13,
   "id": "5e83a9cb",
   "metadata": {
    "ExecuteTime": {
     "end_time": "2022-07-17T19:16:10.339246Z",
     "start_time": "2022-07-17T19:16:10.314248Z"
    },
    "execution": {
     "iopub.execute_input": "2022-07-25T01:14:20.439876Z",
     "iopub.status.busy": "2022-07-25T01:14:20.439876Z",
     "iopub.status.idle": "2022-07-25T01:14:20.448869Z",
     "shell.execute_reply": "2022-07-25T01:14:20.447868Z"
    },
    "papermill": {
     "duration": 0.021999,
     "end_time": "2022-07-25T01:14:20.450868",
     "exception": false,
     "start_time": "2022-07-25T01:14:20.428869",
     "status": "completed"
    },
    "tags": []
   },
   "outputs": [],
   "source": [
    "# import nasdaqdatalink\n",
    "\n",
    "# NASDAQ_DATA_LINK_API_KEY = var_dict[\"NASDAQ_DATA_LINK_API_KEY\"]\n",
    "# data = nasdaqdatalink.get(\"AAII/AAII_SENTIMENT\", start_date=\"2015-01-01\", end_date=\"2030-12-31\")"
   ]
  },
  {
   "cell_type": "code",
   "execution_count": 14,
   "id": "451d698f",
   "metadata": {
    "ExecuteTime": {
     "end_time": "2022-07-17T19:16:10.371243Z",
     "start_time": "2022-07-17T19:16:10.344251Z"
    },
    "execution": {
     "iopub.execute_input": "2022-07-25T01:14:20.464868Z",
     "iopub.status.busy": "2022-07-25T01:14:20.464868Z",
     "iopub.status.idle": "2022-07-25T01:14:20.480888Z",
     "shell.execute_reply": "2022-07-25T01:14:20.478873Z"
    },
    "papermill": {
     "duration": 0.026001,
     "end_time": "2022-07-25T01:14:20.482868",
     "exception": false,
     "start_time": "2022-07-25T01:14:20.456867",
     "status": "completed"
    },
    "scrolled": true,
    "tags": []
   },
   "outputs": [],
   "source": [
    "externalvar_dict = {\n",
    "    \"AAII/AAII_SENTIMENT\": \"AAII_SENT\",  ## aaii sentiment\n",
    "    #     \"FED/RIMLPAAAR_N_B\": \"FED_AAACORP\",  ## daily Fed AAA rates #TODO ned to fix different timeframes\n",
    "}"
   ]
  },
  {
   "cell_type": "code",
   "execution_count": 15,
   "id": "67de48b6",
   "metadata": {
    "ExecuteTime": {
     "end_time": "2022-07-17T19:16:10.905241Z",
     "start_time": "2022-07-17T19:16:10.375248Z"
    },
    "execution": {
     "iopub.execute_input": "2022-07-25T01:14:20.499870Z",
     "iopub.status.busy": "2022-07-25T01:14:20.498871Z",
     "iopub.status.idle": "2022-07-25T01:14:21.026541Z",
     "shell.execute_reply": "2022-07-25T01:14:21.025615Z"
    },
    "lines_to_next_cell": 2,
    "papermill": {
     "duration": 0.537708,
     "end_time": "2022-07-25T01:14:21.028576",
     "exception": false,
     "start_time": "2022-07-25T01:14:20.490868",
     "status": "completed"
    },
    "tags": []
   },
   "outputs": [],
   "source": [
    "if reload_data:\n",
    "\n",
    "    #     df_varlist = []\n",
    "\n",
    "    for variable, value in externalvar_dict.items():\n",
    "\n",
    "        quandl_key = var_dict[\"QUANDL_API\"]\n",
    "\n",
    "        QR = QuandlReader(variable, api_key=quandl_key, start=\"1/1/2015\", end=end_date)\n",
    "\n",
    "        QR_df = QR.read().reset_index()\n",
    "\n",
    "        QR_df.columns = [\n",
    "            value + \"_\" + str(col)  # if col.upper() != \"DATE\" else col\n",
    "            for col in QR_df.columns\n",
    "        ]\n",
    "\n",
    "        #         df_varlist.append(QR_df)\n",
    "\n",
    "        # merge Quandl\n",
    "        QR_df_sorted = QR_df.sort_values([f\"{value}_Date\"])\n",
    "        QR_df_sorted[\"Date\"] = pd.to_datetime(QR_df[f\"{value}_Date\"], errors=\"coerce\")\n",
    "\n",
    "        df_result = pd.merge_asof(\n",
    "            df_result,\n",
    "            QR_df_sorted,\n",
    "            left_on=[\"Open_Date\"],\n",
    "            right_on=[f\"{value}_Date\"],\n",
    "            direction=\"forward\",\n",
    "        )\n",
    "\n",
    "        #     QR_df = pd.concat(\n",
    "        #         [df.set_index(\"Date\") for df in df_varlist], axis=1, join=\"outer\"\n",
    "        #     ).reset_index()\n",
    "        QR_df.to_csv(f\"output/c_quandl_{value}.csv\")\n",
    "else:\n",
    "    for variable, value in externalvar_dict.items():\n",
    "\n",
    "        QR_df = pd.read_csv(f\"output/c_quandl_{value}.csv\")\n",
    "\n",
    "        # merge Quandl\n",
    "        QR_df_sorted = QR_df.sort_values([\"Date\"])\n",
    "        QR_df_sorted[\"Date\"] = pd.to_datetime(QR_df[f\"{value}_Date\"], errors=\"coerce\")\n",
    "\n",
    "        df_result = pd.merge_asof(\n",
    "            df_result,\n",
    "            QR_df_sorted,\n",
    "            left_on=[\"Open_Date\"],\n",
    "            right_on=[f\"{value}_Date\"],\n",
    "            direction=\"forward\",\n",
    "        )"
   ]
  },
  {
   "cell_type": "code",
   "execution_count": 16,
   "id": "e2b4ce90",
   "metadata": {
    "ExecuteTime": {
     "end_time": "2022-07-17T19:16:10.952249Z",
     "start_time": "2022-07-17T19:16:10.908245Z"
    },
    "execution": {
     "iopub.execute_input": "2022-07-25T01:14:21.044547Z",
     "iopub.status.busy": "2022-07-25T01:14:21.043570Z",
     "iopub.status.idle": "2022-07-25T01:14:21.074554Z",
     "shell.execute_reply": "2022-07-25T01:14:21.073605Z"
    },
    "papermill": {
     "duration": 0.042033,
     "end_time": "2022-07-25T01:14:21.076573",
     "exception": false,
     "start_time": "2022-07-25T01:14:21.034540",
     "status": "completed"
    },
    "tags": []
   },
   "outputs": [
    {
     "data": {
      "text/html": [
       "<div>\n",
       "<style scoped>\n",
       "    .dataframe tbody tr th:only-of-type {\n",
       "        vertical-align: middle;\n",
       "    }\n",
       "\n",
       "    .dataframe tbody tr th {\n",
       "        vertical-align: top;\n",
       "    }\n",
       "\n",
       "    .dataframe thead th {\n",
       "        text-align: right;\n",
       "    }\n",
       "</style>\n",
       "<table border=\"1\" class=\"dataframe\">\n",
       "  <thead>\n",
       "    <tr style=\"text-align: right;\">\n",
       "      <th></th>\n",
       "      <th>AAII_SENT_Date</th>\n",
       "      <th>AAII_SENT_Bullish</th>\n",
       "      <th>AAII_SENT_Neutral</th>\n",
       "      <th>AAII_SENT_Bearish</th>\n",
       "      <th>AAII_SENT_Total</th>\n",
       "      <th>AAII_SENT_Bullish8WeekMovAvg</th>\n",
       "      <th>AAII_SENT_BullBearSpread</th>\n",
       "      <th>AAII_SENT_BullishAverage</th>\n",
       "      <th>AAII_SENT_BullishAverage+StDev</th>\n",
       "      <th>AAII_SENT_BullishAverageStDev</th>\n",
       "      <th>AAII_SENT_S&amp;P500WeeklyHigh</th>\n",
       "      <th>AAII_SENT_S&amp;P500WeeklyLow</th>\n",
       "      <th>AAII_SENT_S&amp;P500WeeklyClose</th>\n",
       "    </tr>\n",
       "  </thead>\n",
       "  <tbody>\n",
       "    <tr>\n",
       "      <th>0</th>\n",
       "      <td>2021-04-22</td>\n",
       "      <td>0.526814</td>\n",
       "      <td>0.268139</td>\n",
       "      <td>0.205047</td>\n",
       "      <td>1.0</td>\n",
       "      <td>0.462819</td>\n",
       "      <td>0.321767</td>\n",
       "      <td>0.380245</td>\n",
       "      <td>0.480891</td>\n",
       "      <td>0.279599</td>\n",
       "      <td>4170.46</td>\n",
       "      <td>4160.11</td>\n",
       "      <td>4162.43</td>\n",
       "    </tr>\n",
       "    <tr>\n",
       "      <th>1</th>\n",
       "      <td>2021-04-15</td>\n",
       "      <td>0.538206</td>\n",
       "      <td>0.215947</td>\n",
       "      <td>0.245847</td>\n",
       "      <td>1.0</td>\n",
       "      <td>0.460250</td>\n",
       "      <td>0.292359</td>\n",
       "      <td>0.380245</td>\n",
       "      <td>0.480891</td>\n",
       "      <td>0.279599</td>\n",
       "      <td>4151.69</td>\n",
       "      <td>4120.87</td>\n",
       "      <td>4124.66</td>\n",
       "    </tr>\n",
       "    <tr>\n",
       "      <th>2</th>\n",
       "      <td>2021-04-08</td>\n",
       "      <td>0.569079</td>\n",
       "      <td>0.226974</td>\n",
       "      <td>0.203947</td>\n",
       "      <td>1.0</td>\n",
       "      <td>0.457611</td>\n",
       "      <td>0.365132</td>\n",
       "      <td>0.380245</td>\n",
       "      <td>0.480891</td>\n",
       "      <td>0.279599</td>\n",
       "      <td>4093.87</td>\n",
       "      <td>4089.89</td>\n",
       "      <td>4091.04</td>\n",
       "    </tr>\n",
       "    <tr>\n",
       "      <th>3</th>\n",
       "      <td>2021-04-01</td>\n",
       "      <td>0.458333</td>\n",
       "      <td>0.309524</td>\n",
       "      <td>0.232143</td>\n",
       "      <td>1.0</td>\n",
       "      <td>0.451054</td>\n",
       "      <td>0.226190</td>\n",
       "      <td>0.380245</td>\n",
       "      <td>0.480891</td>\n",
       "      <td>0.279599</td>\n",
       "      <td>4013.04</td>\n",
       "      <td>4013.04</td>\n",
       "      <td>4013.04</td>\n",
       "    </tr>\n",
       "    <tr>\n",
       "      <th>4</th>\n",
       "      <td>2021-03-25</td>\n",
       "      <td>0.509494</td>\n",
       "      <td>0.284810</td>\n",
       "      <td>0.205696</td>\n",
       "      <td>1.0</td>\n",
       "      <td>0.450599</td>\n",
       "      <td>0.303798</td>\n",
       "      <td>0.380245</td>\n",
       "      <td>0.480891</td>\n",
       "      <td>0.279599</td>\n",
       "      <td>3887.14</td>\n",
       "      <td>3864.63</td>\n",
       "      <td>3881.20</td>\n",
       "    </tr>\n",
       "  </tbody>\n",
       "</table>\n",
       "</div>"
      ],
      "text/plain": [
       "  AAII_SENT_Date  AAII_SENT_Bullish  AAII_SENT_Neutral  AAII_SENT_Bearish  \\\n",
       "0     2021-04-22           0.526814           0.268139           0.205047   \n",
       "1     2021-04-15           0.538206           0.215947           0.245847   \n",
       "2     2021-04-08           0.569079           0.226974           0.203947   \n",
       "3     2021-04-01           0.458333           0.309524           0.232143   \n",
       "4     2021-03-25           0.509494           0.284810           0.205696   \n",
       "\n",
       "   AAII_SENT_Total  AAII_SENT_Bullish8WeekMovAvg  AAII_SENT_BullBearSpread  \\\n",
       "0              1.0                      0.462819                  0.321767   \n",
       "1              1.0                      0.460250                  0.292359   \n",
       "2              1.0                      0.457611                  0.365132   \n",
       "3              1.0                      0.451054                  0.226190   \n",
       "4              1.0                      0.450599                  0.303798   \n",
       "\n",
       "   AAII_SENT_BullishAverage  AAII_SENT_BullishAverage+StDev  \\\n",
       "0                  0.380245                        0.480891   \n",
       "1                  0.380245                        0.480891   \n",
       "2                  0.380245                        0.480891   \n",
       "3                  0.380245                        0.480891   \n",
       "4                  0.380245                        0.480891   \n",
       "\n",
       "   AAII_SENT_BullishAverageStDev  AAII_SENT_S&P500WeeklyHigh  \\\n",
       "0                       0.279599                     4170.46   \n",
       "1                       0.279599                     4151.69   \n",
       "2                       0.279599                     4093.87   \n",
       "3                       0.279599                     4013.04   \n",
       "4                       0.279599                     3887.14   \n",
       "\n",
       "   AAII_SENT_S&P500WeeklyLow  AAII_SENT_S&P500WeeklyClose  \n",
       "0                    4160.11                      4162.43  \n",
       "1                    4120.87                      4124.66  \n",
       "2                    4089.89                      4091.04  \n",
       "3                    4013.04                      4013.04  \n",
       "4                    3864.63                      3881.20  "
      ]
     },
     "execution_count": 16,
     "metadata": {},
     "output_type": "execute_result"
    }
   ],
   "source": [
    "QR_df.head()"
   ]
  },
  {
   "cell_type": "code",
   "execution_count": 17,
   "id": "659eedb2",
   "metadata": {
    "ExecuteTime": {
     "end_time": "2022-07-17T19:16:13.952770Z",
     "start_time": "2022-07-17T19:16:10.956245Z"
    },
    "execution": {
     "iopub.execute_input": "2022-07-25T01:14:21.099552Z",
     "iopub.status.busy": "2022-07-25T01:14:21.098543Z",
     "iopub.status.idle": "2022-07-25T01:14:24.480545Z",
     "shell.execute_reply": "2022-07-25T01:14:24.478546Z"
    },
    "lines_to_next_cell": 2,
    "papermill": {
     "duration": 3.402003,
     "end_time": "2022-07-25T01:14:24.486545",
     "exception": false,
     "start_time": "2022-07-25T01:14:21.084542",
     "status": "completed"
    },
    "tags": []
   },
   "outputs": [
    {
     "data": {
      "image/png": "[encoded data removed]",
      "text/plain": [
       "<Figure size 432x288 with 1 Axes>"
      ]
     },
     "metadata": {
      "needs_background": "light"
     },
     "output_type": "display_data"
    },
    {
     "data": {
      "image/png": "[encoded data removed]",
      "text/plain": [
       "<Figure size 432x288 with 1 Axes>"
      ]
     },
     "metadata": {
      "needs_background": "light"
     },
     "output_type": "display_data"
    },
    {
     "data": {
      "image/png": "[encoded data removed]",
      "text/plain": [
       "<Figure size 432x288 with 1 Axes>"
      ]
     },
     "metadata": {
      "needs_background": "light"
     },
     "output_type": "display_data"
    },
    {
     "data": {
      "image/png": "[encoded data removed]",
      "text/plain": [
       "<Figure size 432x288 with 1 Axes>"
      ]
     },
     "metadata": {
      "needs_background": "light"
     },
     "output_type": "display_data"
    },
    {
     "data": {
      "image/png": "[encoded data removed]",
      "text/plain": [
       "<Figure size 432x288 with 1 Axes>"
      ]
     },
     "metadata": {
      "needs_background": "light"
     },
     "output_type": "display_data"
    },
    {
     "data": {
      "image/png": "[encoded data removed]",
      "text/plain": [
       "<Figure size 432x288 with 1 Axes>"
      ]
     },
     "metadata": {
      "needs_background": "light"
     },
     "output_type": "display_data"
    },
    {
     "data": {
      "image/png": "[encoded data removed]",
      "text/plain": [
       "<Figure size 432x288 with 1 Axes>"
      ]
     },
     "metadata": {
      "needs_background": "light"
     },
     "output_type": "display_data"
    },
    {
     "data": {
      "image/png": "[encoded data removed]",
      "text/plain": [
       "<Figure size 432x288 with 1 Axes>"
      ]
     },
     "metadata": {
      "needs_background": "light"
     },
     "output_type": "display_data"
    },
    {
     "data": {
      "image/png": "[encoded data removed]",
      "text/plain": [
       "<Figure size 432x288 with 1 Axes>"
      ]
     },
     "metadata": {
      "needs_background": "light"
     },
     "output_type": "display_data"
    },
    {
     "data": {
      "image/png": "[encoded data removed]",
      "text/plain": [
       "<Figure size 432x288 with 1 Axes>"
      ]
     },
     "metadata": {
      "needs_background": "light"
     },
     "output_type": "display_data"
    },
    {
     "data": {
      "image/png": "[encoded data removed]",
      "text/plain": [
       "<Figure size 432x288 with 1 Axes>"
      ]
     },
     "metadata": {
      "needs_background": "light"
     },
     "output_type": "display_data"
    },
    {
     "data": {
      "image/png": "[encoded data removed]",
      "text/plain": [
       "<Figure size 432x288 with 1 Axes>"
      ]
     },
     "metadata": {
      "needs_background": "light"
     },
     "output_type": "display_data"
    },
    {
     "data": {
      "image/png": "[encoded data removed]",
      "text/plain": [
       "<Figure size 432x288 with 1 Axes>"
      ]
     },
     "metadata": {
      "needs_background": "light"
     },
     "output_type": "display_data"
    }
   ],
   "source": [
    "cols_with_errors = []\n",
    "\n",
    "for variable, value in externalvar_dict.items():\n",
    "    for c in df_result.columns:\n",
    "        if value in c:\n",
    "            temp_df = pd.pivot_table(\n",
    "                df_result, index=[\"Open_Year\"], values=c, aggfunc=\"mean\", dropna=False\n",
    "            )\n",
    "            temp_df.plot()\n",
    "\n",
    "            try:\n",
    "                assert sum(temp_df[c].isna()) == 0, \"values should all be filled\"\n",
    "            except:\n",
    "                cols_with_errors.append(c)"
   ]
  },
  {
   "cell_type": "code",
   "execution_count": 18,
   "id": "d54cfc89",
   "metadata": {
    "ExecuteTime": {
     "end_time": "2022-07-17T19:16:13.967773Z",
     "start_time": "2022-07-17T19:16:13.954772Z"
    },
    "execution": {
     "iopub.execute_input": "2022-07-25T01:14:24.540547Z",
     "iopub.status.busy": "2022-07-25T01:14:24.539571Z",
     "iopub.status.idle": "2022-07-25T01:14:24.558547Z",
     "shell.execute_reply": "2022-07-25T01:14:24.556548Z"
    },
    "papermill": {
     "duration": 0.052997,
     "end_time": "2022-07-25T01:14:24.564549",
     "exception": false,
     "start_time": "2022-07-25T01:14:24.511552",
     "status": "completed"
    },
    "scrolled": false,
    "tags": []
   },
   "outputs": [
    {
     "data": {
      "text/plain": [
       "['AAII_SENT_Date',\n",
       " 'AAII_SENT_Bullish',\n",
       " 'AAII_SENT_Neutral',\n",
       " 'AAII_SENT_Bearish',\n",
       " 'AAII_SENT_Total',\n",
       " 'AAII_SENT_Bullish8WeekMovAvg',\n",
       " 'AAII_SENT_BullBearSpread',\n",
       " 'AAII_SENT_BullishAverage',\n",
       " 'AAII_SENT_BullishAverage+StDev',\n",
       " 'AAII_SENT_BullishAverageStDev',\n",
       " 'AAII_SENT_S&P500WeeklyHigh',\n",
       " 'AAII_SENT_S&P500WeeklyLow',\n",
       " 'AAII_SENT_S&P500WeeklyClose']"
      ]
     },
     "execution_count": 18,
     "metadata": {},
     "output_type": "execute_result"
    }
   ],
   "source": [
    "cols_with_errors"
   ]
  },
  {
   "cell_type": "code",
   "execution_count": 19,
   "id": "e275ff63",
   "metadata": {
    "ExecuteTime": {
     "end_time": "2022-07-17T19:16:13.998777Z",
     "start_time": "2022-07-17T19:16:13.974773Z"
    },
    "execution": {
     "iopub.execute_input": "2022-07-25T01:14:24.621546Z",
     "iopub.status.busy": "2022-07-25T01:14:24.620547Z",
     "iopub.status.idle": "2022-07-25T01:14:24.637547Z",
     "shell.execute_reply": "2022-07-25T01:14:24.635545Z"
    },
    "papermill": {
     "duration": 0.047002,
     "end_time": "2022-07-25T01:14:24.642549",
     "exception": false,
     "start_time": "2022-07-25T01:14:24.595547",
     "status": "completed"
    },
    "tags": []
   },
   "outputs": [
    {
     "data": {
      "text/html": [
       "<div>\n",
       "<style scoped>\n",
       "    .dataframe tbody tr th:only-of-type {\n",
       "        vertical-align: middle;\n",
       "    }\n",
       "\n",
       "    .dataframe tbody tr th {\n",
       "        vertical-align: top;\n",
       "    }\n",
       "\n",
       "    .dataframe thead th {\n",
       "        text-align: right;\n",
       "    }\n",
       "</style>\n",
       "<table border=\"1\" class=\"dataframe\">\n",
       "  <thead>\n",
       "    <tr style=\"text-align: right;\">\n",
       "      <th></th>\n",
       "      <th>AAII_SENT_S&amp;P500WeeklyClose</th>\n",
       "    </tr>\n",
       "    <tr>\n",
       "      <th>Open_Year</th>\n",
       "      <th></th>\n",
       "    </tr>\n",
       "  </thead>\n",
       "  <tbody>\n",
       "    <tr>\n",
       "      <th>2015</th>\n",
       "      <td>2077.420000</td>\n",
       "    </tr>\n",
       "    <tr>\n",
       "      <th>2016</th>\n",
       "      <td>1986.630368</td>\n",
       "    </tr>\n",
       "    <tr>\n",
       "      <th>2017</th>\n",
       "      <td>2421.097551</td>\n",
       "    </tr>\n",
       "    <tr>\n",
       "      <th>2018</th>\n",
       "      <td>2736.441442</td>\n",
       "    </tr>\n",
       "    <tr>\n",
       "      <th>2019</th>\n",
       "      <td>2849.521399</td>\n",
       "    </tr>\n",
       "    <tr>\n",
       "      <th>2020</th>\n",
       "      <td>3170.192446</td>\n",
       "    </tr>\n",
       "    <tr>\n",
       "      <th>2021</th>\n",
       "      <td>3884.754898</td>\n",
       "    </tr>\n",
       "    <tr>\n",
       "      <th>2022</th>\n",
       "      <td>NaN</td>\n",
       "    </tr>\n",
       "  </tbody>\n",
       "</table>\n",
       "</div>"
      ],
      "text/plain": [
       "           AAII_SENT_S&P500WeeklyClose\n",
       "Open_Year                             \n",
       "2015                       2077.420000\n",
       "2016                       1986.630368\n",
       "2017                       2421.097551\n",
       "2018                       2736.441442\n",
       "2019                       2849.521399\n",
       "2020                       3170.192446\n",
       "2021                       3884.754898\n",
       "2022                               NaN"
      ]
     },
     "execution_count": 19,
     "metadata": {},
     "output_type": "execute_result"
    }
   ],
   "source": [
    "temp_df"
   ]
  },
  {
   "cell_type": "code",
   "execution_count": 20,
   "id": "2234af2f",
   "metadata": {
    "ExecuteTime": {
     "end_time": "2022-07-17T19:16:14.014770Z",
     "start_time": "2022-07-17T19:16:14.002773Z"
    },
    "execution": {
     "iopub.execute_input": "2022-07-25T01:14:24.677542Z",
     "iopub.status.busy": "2022-07-25T01:14:24.676544Z",
     "iopub.status.idle": "2022-07-25T01:14:24.826560Z",
     "shell.execute_reply": "2022-07-25T01:14:24.825540Z"
    },
    "papermill": {
     "duration": 0.167999,
     "end_time": "2022-07-25T01:14:24.828541",
     "exception": false,
     "start_time": "2022-07-25T01:14:24.660542",
     "status": "completed"
    },
    "tags": []
   },
   "outputs": [],
   "source": [
    "# check diff\n",
    "assert len(set(cols_with_errors).difference(set(existing_err_cols))) == 0, \"new errors\""
   ]
  },
  {
   "cell_type": "markdown",
   "id": "6d223f76",
   "metadata": {
    "papermill": {
     "duration": 0.022001,
     "end_time": "2022-07-25T01:14:24.868545",
     "exception": false,
     "start_time": "2022-07-25T01:14:24.846544",
     "status": "completed"
    },
    "tags": []
   },
   "source": [
    "## Final Checks"
   ]
  },
  {
   "cell_type": "code",
   "execution_count": 21,
   "id": "aad59578",
   "metadata": {
    "ExecuteTime": {
     "end_time": "2022-07-17T19:16:14.045770Z",
     "start_time": "2022-07-17T19:16:14.020776Z"
    },
    "execution": {
     "iopub.execute_input": "2022-07-25T01:14:24.904544Z",
     "iopub.status.busy": "2022-07-25T01:14:24.903547Z",
     "iopub.status.idle": "2022-07-25T01:14:24.921545Z",
     "shell.execute_reply": "2022-07-25T01:14:24.919541Z"
    },
    "papermill": {
     "duration": 0.042001,
     "end_time": "2022-07-25T01:14:24.925544",
     "exception": false,
     "start_time": "2022-07-25T01:14:24.883543",
     "status": "completed"
    },
    "tags": []
   },
   "outputs": [
    {
     "data": {
      "text/plain": [
       "Series([], Name: 0, dtype: object)"
      ]
     },
     "execution_count": 21,
     "metadata": {},
     "output_type": "execute_result"
    }
   ],
   "source": [
    "df_result.loc[0, df_result.columns.duplicated()]"
   ]
  },
  {
   "cell_type": "code",
   "execution_count": 22,
   "id": "ff1979d8",
   "metadata": {
    "ExecuteTime": {
     "end_time": "2022-07-17T19:16:14.077770Z",
     "start_time": "2022-07-17T19:16:14.049787Z"
    },
    "execution": {
     "iopub.execute_input": "2022-07-25T01:14:24.949549Z",
     "iopub.status.busy": "2022-07-25T01:14:24.949549Z",
     "iopub.status.idle": "2022-07-25T01:14:24.968547Z",
     "shell.execute_reply": "2022-07-25T01:14:24.967543Z"
    },
    "papermill": {
     "duration": 0.035011,
     "end_time": "2022-07-25T01:14:24.972553",
     "exception": false,
     "start_time": "2022-07-25T01:14:24.937542",
     "status": "completed"
    },
    "tags": []
   },
   "outputs": [],
   "source": [
    "assert len(df_result.loc[0, df_result.columns.duplicated()]) == 0, \"duplicates\""
   ]
  },
  {
   "cell_type": "markdown",
   "id": "2b175dd9",
   "metadata": {
    "ExecuteTime": {
     "end_time": "2022-07-17T14:09:50.010627Z",
     "start_time": "2022-07-17T14:09:49.984643Z"
    },
    "papermill": {
     "duration": 0.012002,
     "end_time": "2022-07-25T01:14:24.999544",
     "exception": false,
     "start_time": "2022-07-25T01:14:24.987542",
     "status": "completed"
    },
    "tags": []
   },
   "source": [
    "## Save Output"
   ]
  },
  {
   "cell_type": "code",
   "execution_count": 23,
   "id": "2d034700",
   "metadata": {
    "ExecuteTime": {
     "end_time": "2022-07-17T19:16:14.296772Z",
     "start_time": "2022-07-17T19:16:14.080776Z"
    },
    "execution": {
     "iopub.execute_input": "2022-07-25T01:14:25.027541Z",
     "iopub.status.busy": "2022-07-25T01:14:25.027541Z",
     "iopub.status.idle": "2022-07-25T01:14:25.219543Z",
     "shell.execute_reply": "2022-07-25T01:14:25.217541Z"
    },
    "lines_to_next_cell": 2,
    "papermill": {
     "duration": 0.210002,
     "end_time": "2022-07-25T01:14:25.224549",
     "exception": false,
     "start_time": "2022-07-25T01:14:25.014547",
     "status": "completed"
    },
    "tags": []
   },
   "outputs": [],
   "source": [
    "df_result.to_csv(\"output/c_resulttradewattr.csv\")"
   ]
  },
  {
   "cell_type": "code",
   "execution_count": null,
   "id": "7415892f",
   "metadata": {
    "papermill": {
     "duration": 0.01501,
     "end_time": "2022-07-25T01:14:25.257557",
     "exception": false,
     "start_time": "2022-07-25T01:14:25.242547",
     "status": "completed"
    },
    "tags": []
   },
   "outputs": [],
   "source": []
  }
 ],
 "metadata": {
  "celltoolbar": "Tags",
  "jupytext": {
   "cell_metadata_filter": "-all",
   "formats": "auto:percent,ipynb",
   "notebook_metadata_filter": "-all"
  },
  "kernelspec": {
   "display_name": "p1analyzetrades",
   "language": "python",
   "name": "p1analyzetrades"
  },
  "language_info": {
   "codemirror_mode": {
    "name": "ipython",
    "version": 3
   },
   "file_extension": ".py",
   "mimetype": "text/x-python",
   "name": "python",
   "nbconvert_exporter": "python",
   "pygments_lexer": "ipython3",
   "version": "3.9.10"
  },
  "papermill": {
   "default_parameters": {},
   "duration": 17.278656,
   "end_time": "2022-07-25T01:14:25.827544",
   "environment_variables": {},
   "exception": null,
   "input_path": "P1-AnalyzeTrades_c_add_attr2.ipynb",
   "output_path": "P1-AnalyzeTrades_c_add_attr2_output.ipynb",
   "parameters": {},
   "start_time": "2022-07-25T01:14:08.548888",
   "version": "2.3.4"
  },
  "toc": {
   "base_numbering": 1,
   "nav_menu": {},
   "number_sections": true,
   "sideBar": true,
   "skip_h1_title": false,
   "title_cell": "Table of Contents",
   "title_sidebar": "Contents",
   "toc_cell": false,
   "toc_position": {
    "height": "calc(100% - 180px)",
    "left": "10px",
    "top": "150px",
    "width": "384px"
   },
   "toc_section_display": true,
   "toc_window_display": true
  },
  "varInspector": {
   "cols": {
    "lenName": 16,
    "lenType": 16,
    "lenVar": 40
   },
   "kernels_config": {
    "python": {
     "delete_cmd_postfix": "",
     "delete_cmd_prefix": "del ",
     "library": "var_list.py",
     "varRefreshCmd": "print(var_dic_list())"
    },
    "r": {
     "delete_cmd_postfix": ") ",
     "delete_cmd_prefix": "rm(",
     "library": "var_list.r",
     "varRefreshCmd": "cat(var_dic_list()) "
    }
   },
   "position": {
    "height": "633.844px",
    "left": "1550px",
    "right": "20px",
    "top": "120px",
    "width": "350px"
   },
   "types_to_exclude": [
    "module",
    "function",
    "builtin_function_or_method",
    "instance",
    "_Feature"
   ],
   "window_display": true
  }
 },
 "nbformat": 4,
 "nbformat_minor": 5
}