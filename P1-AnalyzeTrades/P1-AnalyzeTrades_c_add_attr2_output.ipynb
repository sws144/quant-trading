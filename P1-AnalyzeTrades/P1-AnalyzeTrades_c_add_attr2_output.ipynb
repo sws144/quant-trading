{
 "cells": [
  {
   "cell_type": "markdown",
   "id": "412e9eb2",
   "metadata": {
    "papermill": {
     "duration": 0.006974,
     "end_time": "2023-12-10T20:46:48.735651",
     "exception": false,
     "start_time": "2023-12-10T20:46:48.728677",
     "status": "completed"
    },
    "tags": []
   },
   "source": [
    " ## C add attributes 2 and begin feat engineering\n",
    " Design matrix is one record per row\n"
   ]
  },
  {
   "cell_type": "code",
   "execution_count": 1,
   "id": "578455e8",
   "metadata": {
    "ExecuteTime": {
     "end_time": "2022-09-24T23:36:22.076605Z",
     "start_time": "2022-09-24T23:36:21.253608Z"
    },
    "execution": {
     "iopub.execute_input": "2023-12-10T20:46:48.743055Z",
     "iopub.status.busy": "2023-12-10T20:46:48.743055Z",
     "iopub.status.idle": "2023-12-10T20:46:48.806876Z",
     "shell.execute_reply": "2023-12-10T20:46:48.806876Z"
    },
    "papermill": {
     "duration": 0.069232,
     "end_time": "2023-12-10T20:46:48.807873",
     "exception": false,
     "start_time": "2023-12-10T20:46:48.738641",
     "status": "completed"
    },
    "tags": []
   },
   "outputs": [
    {
     "data": {
      "application/javascript": [
       "\n",
       "            (function() {\n",
       "                jb_set_cell(\"if reload_data:\\n    #     df_varlist = []\\n\\n    for variable, value in externalvar_dict.items():\\n        quandl_key = var_dict[\\\"QUANDL_API\\\"]\\n\\n        QR = QuandlReader(variable, api_key=quandl_key, start=\\\"1/1/2015\\\", end=end_date)\\n\\n        QR_df = QR.read().reset_index()\\n\\n        QR_df.columns = [\\n            value + \\\"_\\\" + str(col)  # if col.upper() != \\\"DATE\\\" else col\\n            for col in QR_df.columns\\n        ]\\n\\n        #         df_varlist.append(QR_df)\\n\\n        # merge Quandl\\n        QR_df_sorted = QR_df.sort_values([f\\\"{value}_Date\\\"])\\n        QR_df_sorted[\\\"Date\\\"] = pd.to_datetime(QR_df[f\\\"{value}_Date\\\"], errors=\\\"coerce\\\")\\n\\n        # add iteratively\\n        df_result = pd.merge_asof(\\n            df_result,\\n            QR_df_sorted,\\n            left_on=[\\\"Open_Date\\\"],\\n            right_on=[f\\\"{value}_Date\\\"],\\n            direction=\\\"backward\\\",  # can't see forward\\n        )\\n\\n        #     QR_df = pd.concat(\\n        #         [df.set_index(\\\"Date\\\") for df in df_varlist], axis=1, join=\\\"outer\\\"\\n        #     ).reset_index()\\n        QR_df.to_csv(f\\\"output/c_quandl_{value}.csv\\\")\\nelse:\\n    for variable, value in externalvar_dict.items():\\n        QR_df = pd.read_csv(f\\\"output/c_quandl_{value}.csv\\\")\\n\\n        # merge Quandl\\n        QR_df_sorted = QR_df.sort_values([\\\"Date\\\"])\\n        QR_df_sorted[\\\"Date\\\"] = pd.to_datetime(QR_df[f\\\"{value}_Date\\\"], errors=\\\"coerce\\\")\\n\\n        df_result = pd.merge_asof(\\n            df_result,\\n            QR_df_sorted,\\n            left_on=[\\\"Open_Date\\\"],\\n            right_on=[f\\\"{value}_Date\\\"],\\n            direction=\\\"backward\\\",  # can't see forward\\n        )\")\n",
       "            })();\n",
       "            "
      ],
      "text/plain": [
       "<IPython.core.display.Javascript object>"
      ]
     },
     "metadata": {},
     "output_type": "display_data"
    }
   ],
   "source": [
    "# formatting\n",
    "import jupyter_black\n",
    "\n",
    "jupyter_black.load(\n",
    "    lab=False,\n",
    ")"
   ]
  },
  {
   "cell_type": "code",
   "execution_count": 2,
   "id": "f71b1069",
   "metadata": {
    "ExecuteTime": {
     "end_time": "2022-09-24T23:36:23.329608Z",
     "start_time": "2022-09-24T23:36:22.081607Z"
    },
    "execution": {
     "iopub.execute_input": "2023-12-10T20:46:48.814849Z",
     "iopub.status.busy": "2023-12-10T20:46:48.814849Z",
     "iopub.status.idle": "2023-12-10T20:46:49.322904Z",
     "shell.execute_reply": "2023-12-10T20:46:49.322904Z"
    },
    "papermill": {
     "duration": 0.513039,
     "end_time": "2023-12-10T20:46:49.323901",
     "exception": false,
     "start_time": "2023-12-10T20:46:48.810862",
     "status": "completed"
    },
    "tags": []
   },
   "outputs": [],
   "source": [
    "# imports\n",
    "\n",
    "import pandas as pd\n",
    "import numpy as np  # for np.nan\n",
    "import os  # for path\n",
    "\n",
    "import yfinance as yf\n",
    "\n",
    "import json\n",
    "\n",
    "from pandas_datareader.quandl import QuandlReader  # data side\n",
    "\n",
    "reload_data = True\n",
    "end_date = \"2030-12-31\""
   ]
  },
  {
   "cell_type": "code",
   "execution_count": 3,
   "id": "d62bf341",
   "metadata": {
    "ExecuteTime": {
     "end_time": "2022-09-24T23:36:23.393605Z",
     "start_time": "2022-09-24T23:36:23.344620Z"
    },
    "execution": {
     "iopub.execute_input": "2023-12-10T20:46:49.332871Z",
     "iopub.status.busy": "2023-12-10T20:46:49.332871Z",
     "iopub.status.idle": "2023-12-10T20:46:49.338851Z",
     "shell.execute_reply": "2023-12-10T20:46:49.338851Z"
    },
    "papermill": {
     "duration": 0.011961,
     "end_time": "2023-12-10T20:46:49.339849",
     "exception": false,
     "start_time": "2023-12-10T20:46:49.327888",
     "status": "completed"
    },
    "tags": []
   },
   "outputs": [],
   "source": [
    "with open(\"data/vars.json\", \"r\") as json_file:\n",
    "    var_dict = json.load(json_file)"
   ]
  },
  {
   "cell_type": "code",
   "execution_count": 4,
   "id": "c6efb470",
   "metadata": {
    "ExecuteTime": {
     "end_time": "2022-09-24T23:36:23.519617Z",
     "start_time": "2022-09-24T23:36:23.400622Z"
    },
    "execution": {
     "iopub.execute_input": "2023-12-10T20:46:49.347821Z",
     "iopub.status.busy": "2023-12-10T20:46:49.347821Z",
     "iopub.status.idle": "2023-12-10T20:46:49.384698Z",
     "shell.execute_reply": "2023-12-10T20:46:49.384698Z"
    },
    "papermill": {
     "duration": 0.04186,
     "end_time": "2023-12-10T20:46:49.385695",
     "exception": false,
     "start_time": "2023-12-10T20:46:49.343835",
     "status": "completed"
    },
    "tags": []
   },
   "outputs": [],
   "source": [
    "# read in raw data\n",
    "### INPUT ###\n",
    "\n",
    "# formatted tradelog\n",
    "trades_filename = \"output/b_completewattr.csv\"\n",
    "df_raw = pd.read_csv(trades_filename)"
   ]
  },
  {
   "cell_type": "markdown",
   "id": "96179ba6",
   "metadata": {
    "papermill": {
     "duration": 0.003987,
     "end_time": "2023-12-10T20:46:49.392671",
     "exception": false,
     "start_time": "2023-12-10T20:46:49.388684",
     "status": "completed"
    },
    "tags": []
   },
   "source": [
    "### Existing Cols with Issues"
   ]
  },
  {
   "cell_type": "code",
   "execution_count": 5,
   "id": "b7a1be26",
   "metadata": {
    "ExecuteTime": {
     "end_time": "2022-09-24T23:36:23.550604Z",
     "start_time": "2022-09-24T23:36:23.524607Z"
    },
    "execution": {
     "iopub.execute_input": "2023-12-10T20:46:49.399648Z",
     "iopub.status.busy": "2023-12-10T20:46:49.398651Z",
     "iopub.status.idle": "2023-12-10T20:46:49.415594Z",
     "shell.execute_reply": "2023-12-10T20:46:49.415594Z"
    },
    "papermill": {
     "duration": 0.02093,
     "end_time": "2023-12-10T20:46:49.416591",
     "exception": false,
     "start_time": "2023-12-10T20:46:49.395661",
     "status": "completed"
    },
    "tags": []
   },
   "outputs": [],
   "source": [
    "existing_err_cols = [\n",
    "    \"AAII_SENT_Date\",\n",
    "    \"AAII_SENT_Bullish\",  ## AAII columns are missing later 2021 and 2022 values\n",
    "    \"AAII_SENT_Neutral\",\n",
    "    \"AAII_SENT_Bearish\",\n",
    "    \"AAII_SENT_Total\",\n",
    "    \"AAII_SENT_Bullish8WeekMovAvg\",\n",
    "    \"AAII_SENT_BullBearSpread\",\n",
    "    \"AAII_SENT_BullishAverage\",\n",
    "    \"AAII_SENT_BullishAverage+StDev\",\n",
    "    \"AAII_SENT_BullishAverageStDev\",\n",
    "    \"AAII_SENT_S&P500WeeklyHigh\",\n",
    "    \"AAII_SENT_S&P500WeeklyLow\",\n",
    "    \"AAII_SENT_S&P500WeeklyClose\",\n",
    "]"
   ]
  },
  {
   "cell_type": "markdown",
   "id": "5fab6fe7",
   "metadata": {
    "papermill": {
     "duration": 0.00299,
     "end_time": "2023-12-10T20:46:49.423568",
     "exception": false,
     "start_time": "2023-12-10T20:46:49.420578",
     "status": "completed"
    },
    "tags": []
   },
   "source": [
    "## pull data from yahoo finance"
   ]
  },
  {
   "cell_type": "code",
   "execution_count": 6,
   "id": "550d176c",
   "metadata": {
    "ExecuteTime": {
     "end_time": "2022-09-24T23:36:27.235603Z",
     "start_time": "2022-09-24T23:36:23.556608Z"
    },
    "execution": {
     "iopub.execute_input": "2023-12-10T20:46:49.430544Z",
     "iopub.status.busy": "2023-12-10T20:46:49.430544Z",
     "iopub.status.idle": "2023-12-10T20:46:49.803955Z",
     "shell.execute_reply": "2023-12-10T20:46:49.803955Z"
    },
    "lines_to_next_cell": 2,
    "papermill": {
     "duration": 0.378395,
     "end_time": "2023-12-10T20:46:49.804953",
     "exception": false,
     "start_time": "2023-12-10T20:46:49.426558",
     "status": "completed"
    },
    "tags": []
   },
   "outputs": [
    {
     "name": "stdout",
     "output_type": "stream",
     "text": [
      "\r",
      "[                       0%%                      ]"
     ]
    },
    {
     "name": "stdout",
     "output_type": "stream",
     "text": [
      "\r",
      "[*********************100%%**********************]  2 of 2 completed"
     ]
    },
    {
     "name": "stdout",
     "output_type": "stream",
     "text": [
      "\n"
     ]
    },
    {
     "data": {
      "text/html": [
       "<div>\n",
       "<style scoped>\n",
       "    .dataframe tbody tr th:only-of-type {\n",
       "        vertical-align: middle;\n",
       "    }\n",
       "\n",
       "    .dataframe tbody tr th {\n",
       "        vertical-align: top;\n",
       "    }\n",
       "\n",
       "    .dataframe thead th {\n",
       "        text-align: right;\n",
       "    }\n",
       "</style>\n",
       "<table border=\"1\" class=\"dataframe\">\n",
       "  <thead>\n",
       "    <tr style=\"text-align: right;\">\n",
       "      <th></th>\n",
       "      <th>Date</th>\n",
       "      <th>Ticker</th>\n",
       "      <th>Adj Close</th>\n",
       "      <th>Close</th>\n",
       "      <th>High</th>\n",
       "      <th>Low</th>\n",
       "      <th>Open</th>\n",
       "      <th>Volume</th>\n",
       "    </tr>\n",
       "  </thead>\n",
       "  <tbody>\n",
       "    <tr>\n",
       "      <th>0</th>\n",
       "      <td>2010-01-04</td>\n",
       "      <td>^GSPC</td>\n",
       "      <td>1132.989990</td>\n",
       "      <td>1132.989990</td>\n",
       "      <td>1133.869995</td>\n",
       "      <td>1116.560059</td>\n",
       "      <td>1116.560059</td>\n",
       "      <td>3991400000</td>\n",
       "    </tr>\n",
       "    <tr>\n",
       "      <th>1</th>\n",
       "      <td>2010-01-04</td>\n",
       "      <td>^VIX</td>\n",
       "      <td>20.040001</td>\n",
       "      <td>20.040001</td>\n",
       "      <td>21.680000</td>\n",
       "      <td>20.030001</td>\n",
       "      <td>21.680000</td>\n",
       "      <td>0</td>\n",
       "    </tr>\n",
       "    <tr>\n",
       "      <th>2</th>\n",
       "      <td>2010-01-05</td>\n",
       "      <td>^GSPC</td>\n",
       "      <td>1136.520020</td>\n",
       "      <td>1136.520020</td>\n",
       "      <td>1136.630005</td>\n",
       "      <td>1129.660034</td>\n",
       "      <td>1132.660034</td>\n",
       "      <td>2491020000</td>\n",
       "    </tr>\n",
       "    <tr>\n",
       "      <th>3</th>\n",
       "      <td>2010-01-05</td>\n",
       "      <td>^VIX</td>\n",
       "      <td>19.350000</td>\n",
       "      <td>19.350000</td>\n",
       "      <td>20.129999</td>\n",
       "      <td>19.340000</td>\n",
       "      <td>20.049999</td>\n",
       "      <td>0</td>\n",
       "    </tr>\n",
       "    <tr>\n",
       "      <th>4</th>\n",
       "      <td>2010-01-06</td>\n",
       "      <td>^GSPC</td>\n",
       "      <td>1137.140015</td>\n",
       "      <td>1137.140015</td>\n",
       "      <td>1139.189941</td>\n",
       "      <td>1133.949951</td>\n",
       "      <td>1135.709961</td>\n",
       "      <td>4972660000</td>\n",
       "    </tr>\n",
       "  </tbody>\n",
       "</table>\n",
       "</div>"
      ],
      "text/plain": [
       "        Date Ticker    Adj Close        Close         High          Low  \\\n",
       "0 2010-01-04  ^GSPC  1132.989990  1132.989990  1133.869995  1116.560059   \n",
       "1 2010-01-04   ^VIX    20.040001    20.040001    21.680000    20.030001   \n",
       "2 2010-01-05  ^GSPC  1136.520020  1136.520020  1136.630005  1129.660034   \n",
       "3 2010-01-05   ^VIX    19.350000    19.350000    20.129999    19.340000   \n",
       "4 2010-01-06  ^GSPC  1137.140015  1137.140015  1139.189941  1133.949951   \n",
       "\n",
       "          Open      Volume  \n",
       "0  1116.560059  3991400000  \n",
       "1    21.680000           0  \n",
       "2  1132.660034  2491020000  \n",
       "3    20.049999           0  \n",
       "4  1135.709961  4972660000  "
      ]
     },
     "execution_count": 6,
     "metadata": {},
     "output_type": "execute_result"
    }
   ],
   "source": [
    "tickers = [\"^VIX\", \"^GSPC\"]\n",
    "if reload_data:\n",
    "    df_data = yf.download(\n",
    "        \" \".join(tickers), start=\"2010-01-01\", end=end_date, group_by=\"Tickers\"\n",
    "    )\n",
    "    # turn into tabular form\n",
    "    df_data_formatted = (\n",
    "        df_data.stack(level=0).reset_index().rename(columns={\"level_1\": \"Ticker\"})\n",
    "    )\n",
    "    df_data_formatted.to_csv(\"output/c_mktdata.csv\")\n",
    "else:\n",
    "    df_data_formatted = pd.read_csv(\"output/c_mktdata.csv\")\n",
    "\n",
    "df_data_formatted.head()"
   ]
  },
  {
   "cell_type": "code",
   "execution_count": 7,
   "id": "610ade48",
   "metadata": {
    "ExecuteTime": {
     "end_time": "2022-09-24T23:36:27.329604Z",
     "start_time": "2022-09-24T23:36:27.238605Z"
    },
    "execution": {
     "iopub.execute_input": "2023-12-10T20:46:49.814919Z",
     "iopub.status.busy": "2023-12-10T20:46:49.814919Z",
     "iopub.status.idle": "2023-12-10T20:46:49.834853Z",
     "shell.execute_reply": "2023-12-10T20:46:49.834853Z"
    },
    "papermill": {
     "duration": 0.025914,
     "end_time": "2023-12-10T20:46:49.835850",
     "exception": false,
     "start_time": "2023-12-10T20:46:49.809936",
     "status": "completed"
    },
    "tags": []
   },
   "outputs": [
    {
     "data": {
      "text/html": [
       "<div>\n",
       "<style scoped>\n",
       "    .dataframe tbody tr th:only-of-type {\n",
       "        vertical-align: middle;\n",
       "    }\n",
       "\n",
       "    .dataframe tbody tr th {\n",
       "        vertical-align: top;\n",
       "    }\n",
       "\n",
       "    .dataframe thead th {\n",
       "        text-align: right;\n",
       "    }\n",
       "</style>\n",
       "<table border=\"1\" class=\"dataframe\">\n",
       "  <thead>\n",
       "    <tr style=\"text-align: right;\">\n",
       "      <th></th>\n",
       "      <th>Date_YahooFinance</th>\n",
       "      <th>Close_^GSPC</th>\n",
       "      <th>Close_^VIX</th>\n",
       "    </tr>\n",
       "  </thead>\n",
       "  <tbody>\n",
       "    <tr>\n",
       "      <th>0</th>\n",
       "      <td>2010-01-04</td>\n",
       "      <td>1132.989990</td>\n",
       "      <td>20.040001</td>\n",
       "    </tr>\n",
       "    <tr>\n",
       "      <th>1</th>\n",
       "      <td>2010-01-05</td>\n",
       "      <td>1136.520020</td>\n",
       "      <td>19.350000</td>\n",
       "    </tr>\n",
       "    <tr>\n",
       "      <th>2</th>\n",
       "      <td>2010-01-06</td>\n",
       "      <td>1137.140015</td>\n",
       "      <td>19.160000</td>\n",
       "    </tr>\n",
       "    <tr>\n",
       "      <th>3</th>\n",
       "      <td>2010-01-07</td>\n",
       "      <td>1141.689941</td>\n",
       "      <td>19.059999</td>\n",
       "    </tr>\n",
       "    <tr>\n",
       "      <th>4</th>\n",
       "      <td>2010-01-08</td>\n",
       "      <td>1144.979980</td>\n",
       "      <td>18.129999</td>\n",
       "    </tr>\n",
       "  </tbody>\n",
       "</table>\n",
       "</div>"
      ],
      "text/plain": [
       "  Date_YahooFinance  Close_^GSPC  Close_^VIX\n",
       "0        2010-01-04  1132.989990   20.040001\n",
       "1        2010-01-05  1136.520020   19.350000\n",
       "2        2010-01-06  1137.140015   19.160000\n",
       "3        2010-01-07  1141.689941   19.059999\n",
       "4        2010-01-08  1144.979980   18.129999"
      ]
     },
     "execution_count": 7,
     "metadata": {},
     "output_type": "execute_result"
    }
   ],
   "source": [
    "# pivoted\n",
    "\n",
    "df_data_pivot = df_data_formatted.pivot(\n",
    "    index=[\"Date\"],\n",
    "    columns=[\"Ticker\"],\n",
    "    values=[\"Close\"],\n",
    ").reset_index()\n",
    "\n",
    "# to deal with multiindex columns\n",
    "df_data_pivot.columns = [\"_\".join(col).strip() for col in df_data_pivot.columns.values]\n",
    "df_data_pivot.rename(columns={\"Date_\": \"Date_YahooFinance\"}, inplace=True)\n",
    "df_data_pivot[\"Date_YahooFinance\"] = pd.to_datetime(\n",
    "    df_data_pivot[\"Date_YahooFinance\"], errors=\"coerce\"\n",
    ")\n",
    "df_data_pivot.head()"
   ]
  },
  {
   "cell_type": "code",
   "execution_count": 8,
   "id": "4ca9eac2",
   "metadata": {
    "ExecuteTime": {
     "end_time": "2022-09-24T23:39:38.042203Z",
     "start_time": "2022-09-24T23:39:37.995170Z"
    },
    "execution": {
     "iopub.execute_input": "2023-12-10T20:46:49.844184Z",
     "iopub.status.busy": "2023-12-10T20:46:49.844184Z",
     "iopub.status.idle": "2023-12-10T20:46:49.866386Z",
     "shell.execute_reply": "2023-12-10T20:46:49.866386Z"
    },
    "papermill": {
     "duration": 0.02742,
     "end_time": "2023-12-10T20:46:49.867384",
     "exception": false,
     "start_time": "2023-12-10T20:46:49.839964",
     "status": "completed"
    },
    "tags": []
   },
   "outputs": [
    {
     "data": {
      "text/html": [
       "<div>\n",
       "<style scoped>\n",
       "    .dataframe tbody tr th:only-of-type {\n",
       "        vertical-align: middle;\n",
       "    }\n",
       "\n",
       "    .dataframe tbody tr th {\n",
       "        vertical-align: top;\n",
       "    }\n",
       "\n",
       "    .dataframe thead th {\n",
       "        text-align: right;\n",
       "    }\n",
       "</style>\n",
       "<table border=\"1\" class=\"dataframe\">\n",
       "  <thead>\n",
       "    <tr style=\"text-align: right;\">\n",
       "      <th></th>\n",
       "      <th>Date_YahooFinance</th>\n",
       "      <th>Close_^GSPC</th>\n",
       "      <th>Close_^VIX</th>\n",
       "      <th>Close_^GSPC_200MA</th>\n",
       "      <th>SP500from200MA</th>\n",
       "    </tr>\n",
       "  </thead>\n",
       "  <tbody>\n",
       "    <tr>\n",
       "      <th>3503</th>\n",
       "      <td>2023-12-04</td>\n",
       "      <td>4569.779785</td>\n",
       "      <td>13.08</td>\n",
       "      <td>4288.354148</td>\n",
       "      <td>0.065626</td>\n",
       "    </tr>\n",
       "    <tr>\n",
       "      <th>3504</th>\n",
       "      <td>2023-12-05</td>\n",
       "      <td>4567.180176</td>\n",
       "      <td>12.85</td>\n",
       "      <td>4290.794598</td>\n",
       "      <td>0.064414</td>\n",
       "    </tr>\n",
       "    <tr>\n",
       "      <th>3505</th>\n",
       "      <td>2023-12-06</td>\n",
       "      <td>4549.339844</td>\n",
       "      <td>12.97</td>\n",
       "      <td>4293.554597</td>\n",
       "      <td>0.059574</td>\n",
       "    </tr>\n",
       "    <tr>\n",
       "      <th>3506</th>\n",
       "      <td>2023-12-07</td>\n",
       "      <td>4585.589844</td>\n",
       "      <td>13.06</td>\n",
       "      <td>4296.527296</td>\n",
       "      <td>0.067278</td>\n",
       "    </tr>\n",
       "    <tr>\n",
       "      <th>3507</th>\n",
       "      <td>2023-12-08</td>\n",
       "      <td>4604.370117</td>\n",
       "      <td>12.35</td>\n",
       "      <td>4299.487546</td>\n",
       "      <td>0.070911</td>\n",
       "    </tr>\n",
       "  </tbody>\n",
       "</table>\n",
       "</div>"
      ],
      "text/plain": [
       "     Date_YahooFinance  Close_^GSPC  Close_^VIX  Close_^GSPC_200MA  \\\n",
       "3503        2023-12-04  4569.779785       13.08        4288.354148   \n",
       "3504        2023-12-05  4567.180176       12.85        4290.794598   \n",
       "3505        2023-12-06  4549.339844       12.97        4293.554597   \n",
       "3506        2023-12-07  4585.589844       13.06        4296.527296   \n",
       "3507        2023-12-08  4604.370117       12.35        4299.487546   \n",
       "\n",
       "      SP500from200MA  \n",
       "3503        0.065626  \n",
       "3504        0.064414  \n",
       "3505        0.059574  \n",
       "3506        0.067278  \n",
       "3507        0.070911  "
      ]
     },
     "execution_count": 8,
     "metadata": {},
     "output_type": "execute_result"
    }
   ],
   "source": [
    "df_data_pivot[\"Close_^GSPC_200MA\"] = df_data_pivot[\"Close_^GSPC\"].rolling(200).mean()\n",
    "df_data_pivot[\"SP500from200MA\"] = (\n",
    "    df_data_pivot[\"Close_^GSPC\"] - df_data_pivot[\"Close_^GSPC_200MA\"]\n",
    ") / df_data_pivot[\"Close_^GSPC_200MA\"]\n",
    "df_data_pivot.tail()"
   ]
  },
  {
   "cell_type": "code",
   "execution_count": 9,
   "id": "2b522ccd",
   "metadata": {
    "ExecuteTime": {
     "end_time": "2022-09-24T23:39:38.106176Z",
     "start_time": "2022-09-24T23:39:38.048178Z"
    },
    "execution": {
     "iopub.execute_input": "2023-12-10T20:46:49.875356Z",
     "iopub.status.busy": "2023-12-10T20:46:49.875356Z",
     "iopub.status.idle": "2023-12-10T20:46:49.898102Z",
     "shell.execute_reply": "2023-12-10T20:46:49.898102Z"
    },
    "lines_to_next_cell": 2,
    "papermill": {
     "duration": 0.027728,
     "end_time": "2023-12-10T20:46:49.899098",
     "exception": false,
     "start_time": "2023-12-10T20:46:49.871370",
     "status": "completed"
    },
    "tags": []
   },
   "outputs": [],
   "source": [
    "# merge\n",
    "\n",
    "df_source = df_raw.copy(deep=True)\n",
    "\n",
    "df_source[\"Open_Date\"] = pd.to_datetime(df_source[\"Open_Date\"], errors=\"coerce\")\n",
    "\n",
    "\n",
    "# need to sort\n",
    "df_source = df_source.sort_values([\"Open_Date\"])\n",
    "df_data_pivot = df_data_pivot.sort_values([\"Date_YahooFinance\"])\n",
    "\n",
    "df_result = pd.merge_asof(\n",
    "    df_source, df_data_pivot, left_on=[\"Open_Date\"], right_on=[\"Date_YahooFinance\"]\n",
    ")"
   ]
  },
  {
   "cell_type": "markdown",
   "id": "08d5ea97",
   "metadata": {
    "papermill": {
     "duration": 0.003986,
     "end_time": "2023-12-10T20:46:49.907071",
     "exception": false,
     "start_time": "2023-12-10T20:46:49.903085",
     "status": "completed"
    },
    "tags": []
   },
   "source": [
    "### Add Open Year"
   ]
  },
  {
   "cell_type": "code",
   "execution_count": 10,
   "id": "9416c46a",
   "metadata": {
    "ExecuteTime": {
     "end_time": "2022-09-24T23:39:38.138170Z",
     "start_time": "2022-09-24T23:39:38.112171Z"
    },
    "execution": {
     "iopub.execute_input": "2023-12-10T20:46:49.916041Z",
     "iopub.status.busy": "2023-12-10T20:46:49.916041Z",
     "iopub.status.idle": "2023-12-10T20:46:49.928998Z",
     "shell.execute_reply": "2023-12-10T20:46:49.928998Z"
    },
    "papermill": {
     "duration": 0.018937,
     "end_time": "2023-12-10T20:46:49.929995",
     "exception": false,
     "start_time": "2023-12-10T20:46:49.911058",
     "status": "completed"
    },
    "tags": []
   },
   "outputs": [],
   "source": [
    "df_result[\"Open_Year\"] = df_result[\"Open_Date\"].dt.year"
   ]
  },
  {
   "cell_type": "markdown",
   "id": "18fec413",
   "metadata": {
    "papermill": {
     "duration": 0.003987,
     "end_time": "2023-12-10T20:46:49.937969",
     "exception": false,
     "start_time": "2023-12-10T20:46:49.933982",
     "status": "completed"
    },
    "tags": []
   },
   "source": [
    "### Test data"
   ]
  },
  {
   "cell_type": "code",
   "execution_count": 11,
   "id": "dd811c95",
   "metadata": {
    "ExecuteTime": {
     "end_time": "2022-09-24T23:39:38.170177Z",
     "start_time": "2022-09-24T23:39:38.146214Z"
    },
    "execution": {
     "iopub.execute_input": "2023-12-10T20:46:49.945941Z",
     "iopub.status.busy": "2023-12-10T20:46:49.945941Z",
     "iopub.status.idle": "2023-12-10T20:46:49.960891Z",
     "shell.execute_reply": "2023-12-10T20:46:49.960891Z"
    },
    "papermill": {
     "duration": 0.019933,
     "end_time": "2023-12-10T20:46:49.961888",
     "exception": false,
     "start_time": "2023-12-10T20:46:49.941955",
     "status": "completed"
    },
    "scrolled": true,
    "tags": []
   },
   "outputs": [
    {
     "data": {
      "text/plain": [
       "Index(['Unnamed: 0.1', 'Unnamed: 0', 'Open_Date', 'Close_Date', 'Symbol',\n",
       "       'Quantity', 'Pnl', 'OpenAct', 'CloseAct', 'Open_Price', 'Close_Price',\n",
       "       'Comm_Tot', 'DATE', 'ACTION', 'QTYCHG', 'PRICE', 'TIME', 'UNNAMED: 6',\n",
       "       'COMMISSION', 'UNNAMED: 8', 'CASH CHG (PNL)', 'COMMENTS', 'PCTRETURN',\n",
       "       'DETAILS', 'STARTDATE', 'COMPANY NAME (IN ALPHABETICAL ORDER)',\n",
       "       'TICKER', 'STOP', '% TO STOP', 'CURRENT PRICE', '% TO TARGET',\n",
       "       'AT PRICE', 'TARGET', 'EPS1', 'EPS2', 'FYEND', 'DAYSTOFYEND',\n",
       "       'FYEPSNXT', 'GROWTH*0.5TO0.75', 'ROIC (BW ROA ROE)', 'TGT FWD P/E',\n",
       "       'YEARS TO NORMALIZATION', 'LASTUPDATED', 'CATEGORY', 'COMMENTS.1',\n",
       "       'FILENAME', 'DayOfWeek0Mon', 'Date_YahooFinance', 'Close_^GSPC',\n",
       "       'Close_^VIX', 'Close_^GSPC_200MA', 'SP500from200MA', 'Open_Year'],\n",
       "      dtype='object')"
      ]
     },
     "execution_count": 11,
     "metadata": {},
     "output_type": "execute_result"
    }
   ],
   "source": [
    "df_result.columns"
   ]
  },
  {
   "cell_type": "code",
   "execution_count": 12,
   "id": "9605bd81",
   "metadata": {
    "ExecuteTime": {
     "end_time": "2022-09-24T23:39:40.036173Z",
     "start_time": "2022-09-24T23:39:38.178172Z"
    },
    "execution": {
     "iopub.execute_input": "2023-12-10T20:46:49.970858Z",
     "iopub.status.busy": "2023-12-10T20:46:49.969861Z",
     "iopub.status.idle": "2023-12-10T20:46:50.368866Z",
     "shell.execute_reply": "2023-12-10T20:46:50.368866Z"
    },
    "lines_to_next_cell": 2,
    "papermill": {
     "duration": 0.403988,
     "end_time": "2023-12-10T20:46:50.369863",
     "exception": false,
     "start_time": "2023-12-10T20:46:49.965875",
     "status": "completed"
    },
    "tags": []
   },
   "outputs": [
    {
     "data": {
      "image/png": "[encoded data removed]",
      "text/plain": [
       "<Figure size 640x480 with 1 Axes>"
      ]
     },
     "metadata": {},
     "output_type": "display_data"
    },
    {
     "data": {
      "image/png": "[encoded data removed]",
      "text/plain": [
       "<Figure size 640x480 with 1 Axes>"
      ]
     },
     "metadata": {},
     "output_type": "display_data"
    }
   ],
   "source": [
    "for symbol in tickers:\n",
    "    temp_df = pd.pivot_table(\n",
    "        df_result,\n",
    "        index=[\"Open_Year\"],\n",
    "        values=\"Close_\" + symbol,\n",
    "        aggfunc=\"mean\",\n",
    "        dropna=False,\n",
    "    )\n",
    "    temp_df.plot()\n",
    "\n",
    "    assert min(temp_df[\"Close_\" + symbol]) > 0, \"values should all be above zero\""
   ]
  },
  {
   "cell_type": "markdown",
   "id": "63f8ac7e",
   "metadata": {
    "papermill": {
     "duration": 0.003987,
     "end_time": "2023-12-10T20:46:50.378833",
     "exception": false,
     "start_time": "2023-12-10T20:46:50.374846",
     "status": "completed"
    },
    "tags": []
   },
   "source": [
    "## pull data from Quandl  / Nasdaq Data Link\n",
    "1. log in is from [Nasdaq data link](https://docs.data.nasdaq.com/docs/python-installation)"
   ]
  },
  {
   "cell_type": "code",
   "execution_count": 13,
   "id": "fa3c76d3",
   "metadata": {
    "ExecuteTime": {
     "end_time": "2022-09-24T23:39:40.083174Z",
     "start_time": "2022-09-24T23:39:40.042171Z"
    },
    "execution": {
     "iopub.execute_input": "2023-12-10T20:46:50.387803Z",
     "iopub.status.busy": "2023-12-10T20:46:50.386806Z",
     "iopub.status.idle": "2023-12-10T20:46:50.399768Z",
     "shell.execute_reply": "2023-12-10T20:46:50.399768Z"
    },
    "papermill": {
     "duration": 0.017946,
     "end_time": "2023-12-10T20:46:50.400765",
     "exception": false,
     "start_time": "2023-12-10T20:46:50.382819",
     "status": "completed"
    },
    "tags": []
   },
   "outputs": [],
   "source": [
    "externalvar_dict = {\n",
    "    #     \"AAII/AAII_SENTIMENT\": \"AAII_SENT\",  ## aaii sentiment looks like it ends 4/2021\n",
    "    # \"UMICH/SOC1\": \"CONS_SENT\",  # consumer sentiment, not used ofr now \n",
    "    #     \"FED/RIMLPAAAR_N_B\": \"FED_AAACORP\",  ## daily Fed AAA rates #TODO ned to fix different timeframes\n",
    "}"
   ]
  },
  {
   "cell_type": "code",
   "execution_count": 14,
   "id": "5e83a9cb",
   "metadata": {
    "ExecuteTime": {
     "end_time": "2022-09-24T23:39:40.114171Z",
     "start_time": "2022-09-24T23:39:40.097195Z"
    },
    "execution": {
     "iopub.execute_input": "2023-12-10T20:46:50.409735Z",
     "iopub.status.busy": "2023-12-10T20:46:50.408738Z",
     "iopub.status.idle": "2023-12-10T20:46:50.415715Z",
     "shell.execute_reply": "2023-12-10T20:46:50.415715Z"
    },
    "papermill": {
     "duration": 0.011961,
     "end_time": "2023-12-10T20:46:50.416712",
     "exception": false,
     "start_time": "2023-12-10T20:46:50.404751",
     "status": "completed"
    },
    "tags": []
   },
   "outputs": [],
   "source": [
    "# for later\n",
    "# import nasdaqdatalink\n",
    "\n",
    "# NASDAQ_DATA_LINK_API_KEY = var_dict[\"NASDAQ_DATA_LINK_API_KEY\"]\n",
    "# data = nasdaqdatalink.get(\"AAII/AAII_SENTIMENT\", start_date=\"2015-01-01\", end_date=\"2030-12-31\")"
   ]
  },
  {
   "cell_type": "code",
   "execution_count": 15,
   "id": "67de48b6",
   "metadata": {
    "ExecuteTime": {
     "end_time": "2022-09-24T23:39:40.676168Z",
     "start_time": "2022-09-24T23:39:40.118174Z"
    },
    "execution": {
     "iopub.execute_input": "2023-12-10T20:46:50.425681Z",
     "iopub.status.busy": "2023-12-10T20:46:50.425681Z",
     "iopub.status.idle": "2023-12-10T20:46:50.446611Z",
     "shell.execute_reply": "2023-12-10T20:46:50.446611Z"
    },
    "lines_to_next_cell": 2,
    "papermill": {
     "duration": 0.02691,
     "end_time": "2023-12-10T20:46:50.447608",
     "exception": false,
     "start_time": "2023-12-10T20:46:50.420698",
     "status": "completed"
    },
    "tags": []
   },
   "outputs": [],
   "source": [
    "if reload_data:\n",
    "\n",
    "    #     df_varlist = []\n",
    "\n",
    "    for variable, value in externalvar_dict.items():\n",
    "\n",
    "        quandl_key = var_dict[\"QUANDL_API\"]\n",
    "\n",
    "        QR = QuandlReader(variable, api_key=quandl_key, start=\"1/1/2015\", end=end_date)\n",
    "\n",
    "        QR_df = QR.read().reset_index()\n",
    "\n",
    "        QR_df.columns = [\n",
    "            value + \"_\" + str(col)  # if col.upper() != \"DATE\" else col\n",
    "            for col in QR_df.columns\n",
    "        ]\n",
    "\n",
    "        #         df_varlist.append(QR_df)\n",
    "\n",
    "        # merge Quandl\n",
    "        QR_df_sorted = QR_df.sort_values([f\"{value}_Date\"])\n",
    "        QR_df_sorted[\"Date\"] = pd.to_datetime(QR_df[f\"{value}_Date\"], errors=\"coerce\")\n",
    "\n",
    "        # add iteratively\n",
    "        df_result = pd.merge_asof(\n",
    "            df_result,\n",
    "            QR_df_sorted,\n",
    "            left_on=[\"Open_Date\"],\n",
    "            right_on=[f\"{value}_Date\"],\n",
    "            direction=\"backward\",  # can't see forward\n",
    "        )\n",
    "\n",
    "        #     QR_df = pd.concat(\n",
    "        #         [df.set_index(\"Date\") for df in df_varlist], axis=1, join=\"outer\"\n",
    "        #     ).reset_index()\n",
    "        QR_df.to_csv(f\"output/c_quandl_{value}.csv\")\n",
    "else:\n",
    "    for variable, value in externalvar_dict.items():\n",
    "\n",
    "        QR_df = pd.read_csv(f\"output/c_quandl_{value}.csv\")\n",
    "\n",
    "        # merge Quandl\n",
    "        QR_df_sorted = QR_df.sort_values([\"Date\"])\n",
    "        QR_df_sorted[\"Date\"] = pd.to_datetime(QR_df[f\"{value}_Date\"], errors=\"coerce\")\n",
    "\n",
    "        df_result = pd.merge_asof(\n",
    "            df_result,\n",
    "            QR_df_sorted,\n",
    "            left_on=[\"Open_Date\"],\n",
    "            right_on=[f\"{value}_Date\"],\n",
    "            direction=\"backward\",  # can't see forward\n",
    "        )"
   ]
  },
  {
   "cell_type": "code",
   "execution_count": 16,
   "id": "e2b4ce90",
   "metadata": {
    "ExecuteTime": {
     "end_time": "2022-09-24T23:39:40.739170Z",
     "start_time": "2022-09-24T23:39:40.681173Z"
    },
    "execution": {
     "iopub.execute_input": "2023-12-10T20:46:50.455643Z",
     "iopub.status.busy": "2023-12-10T20:46:50.455643Z",
     "iopub.status.idle": "2023-12-10T20:46:50.477569Z",
     "shell.execute_reply": "2023-12-10T20:46:50.477569Z"
    },
    "papermill": {
     "duration": 0.026971,
     "end_time": "2023-12-10T20:46:50.478566",
     "exception": false,
     "start_time": "2023-12-10T20:46:50.451595",
     "status": "completed"
    },
    "tags": []
   },
   "outputs": [
    {
     "data": {
      "text/html": [
       "<div>\n",
       "<style scoped>\n",
       "    .dataframe tbody tr th:only-of-type {\n",
       "        vertical-align: middle;\n",
       "    }\n",
       "\n",
       "    .dataframe tbody tr th {\n",
       "        vertical-align: top;\n",
       "    }\n",
       "\n",
       "    .dataframe thead th {\n",
       "        text-align: right;\n",
       "    }\n",
       "</style>\n",
       "<table border=\"1\" class=\"dataframe\">\n",
       "  <thead>\n",
       "    <tr style=\"text-align: right;\">\n",
       "      <th></th>\n",
       "      <th>Unnamed: 0.1</th>\n",
       "      <th>Unnamed: 0</th>\n",
       "      <th>Open_Date</th>\n",
       "      <th>Close_Date</th>\n",
       "      <th>Symbol</th>\n",
       "      <th>Quantity</th>\n",
       "      <th>Pnl</th>\n",
       "      <th>OpenAct</th>\n",
       "      <th>CloseAct</th>\n",
       "      <th>Open_Price</th>\n",
       "      <th>...</th>\n",
       "      <th>CATEGORY</th>\n",
       "      <th>COMMENTS.1</th>\n",
       "      <th>FILENAME</th>\n",
       "      <th>DayOfWeek0Mon</th>\n",
       "      <th>Date_YahooFinance</th>\n",
       "      <th>Close_^GSPC</th>\n",
       "      <th>Close_^VIX</th>\n",
       "      <th>Close_^GSPC_200MA</th>\n",
       "      <th>SP500from200MA</th>\n",
       "      <th>Open_Year</th>\n",
       "    </tr>\n",
       "  </thead>\n",
       "  <tbody>\n",
       "    <tr>\n",
       "      <th>0</th>\n",
       "      <td>0</td>\n",
       "      <td>0</td>\n",
       "      <td>2015-06-30</td>\n",
       "      <td>2016-01-07 11:12:44</td>\n",
       "      <td>AER</td>\n",
       "      <td>600.0</td>\n",
       "      <td>-4851.23</td>\n",
       "      <td>B</td>\n",
       "      <td>S</td>\n",
       "      <td>46.972120</td>\n",
       "      <td>...</td>\n",
       "      <td>NaN</td>\n",
       "      <td>NaN</td>\n",
       "      <td>PCM-Tracking - LogHist.csv</td>\n",
       "      <td>1.0</td>\n",
       "      <td>2015-06-30</td>\n",
       "      <td>2063.110107</td>\n",
       "      <td>18.23</td>\n",
       "      <td>2053.895403</td>\n",
       "      <td>0.004486</td>\n",
       "      <td>2015</td>\n",
       "    </tr>\n",
       "    <tr>\n",
       "      <th>1</th>\n",
       "      <td>62</td>\n",
       "      <td>23</td>\n",
       "      <td>2015-06-30</td>\n",
       "      <td>2016-01-08 14:25:15</td>\n",
       "      <td>GLNG</td>\n",
       "      <td>500.0</td>\n",
       "      <td>-492.00</td>\n",
       "      <td>S</td>\n",
       "      <td>B</td>\n",
       "      <td>15.216190</td>\n",
       "      <td>...</td>\n",
       "      <td>NaN</td>\n",
       "      <td>NaN</td>\n",
       "      <td>NaN</td>\n",
       "      <td>NaN</td>\n",
       "      <td>2015-06-30</td>\n",
       "      <td>2063.110107</td>\n",
       "      <td>18.23</td>\n",
       "      <td>2053.895403</td>\n",
       "      <td>0.004486</td>\n",
       "      <td>2015</td>\n",
       "    </tr>\n",
       "    <tr>\n",
       "      <th>2</th>\n",
       "      <td>61</td>\n",
       "      <td>55</td>\n",
       "      <td>2015-06-30</td>\n",
       "      <td>2016-01-20 15:20:34</td>\n",
       "      <td>ESV</td>\n",
       "      <td>1000.0</td>\n",
       "      <td>4667.70</td>\n",
       "      <td>S</td>\n",
       "      <td>B</td>\n",
       "      <td>14.641980</td>\n",
       "      <td>...</td>\n",
       "      <td>NaN</td>\n",
       "      <td>NaN</td>\n",
       "      <td>NaN</td>\n",
       "      <td>NaN</td>\n",
       "      <td>2015-06-30</td>\n",
       "      <td>2063.110107</td>\n",
       "      <td>18.23</td>\n",
       "      <td>2053.895403</td>\n",
       "      <td>0.004486</td>\n",
       "      <td>2015</td>\n",
       "    </tr>\n",
       "    <tr>\n",
       "      <th>3</th>\n",
       "      <td>60</td>\n",
       "      <td>653</td>\n",
       "      <td>2015-06-30</td>\n",
       "      <td>2016-08-11 11:02:04</td>\n",
       "      <td>ENH</td>\n",
       "      <td>75.0</td>\n",
       "      <td>-41.61</td>\n",
       "      <td>B</td>\n",
       "      <td>S</td>\n",
       "      <td>66.956667</td>\n",
       "      <td>...</td>\n",
       "      <td>NaN</td>\n",
       "      <td>NaN</td>\n",
       "      <td>PCM-Tracking - LogHist.csv</td>\n",
       "      <td>4.0</td>\n",
       "      <td>2015-06-30</td>\n",
       "      <td>2063.110107</td>\n",
       "      <td>18.23</td>\n",
       "      <td>2053.895403</td>\n",
       "      <td>0.004486</td>\n",
       "      <td>2015</td>\n",
       "    </tr>\n",
       "    <tr>\n",
       "      <th>4</th>\n",
       "      <td>59</td>\n",
       "      <td>64</td>\n",
       "      <td>2015-06-30</td>\n",
       "      <td>2016-01-20 15:22:41</td>\n",
       "      <td>VALE</td>\n",
       "      <td>8000.0</td>\n",
       "      <td>6677.80</td>\n",
       "      <td>S</td>\n",
       "      <td>B</td>\n",
       "      <td>3.184507</td>\n",
       "      <td>...</td>\n",
       "      <td>NaN</td>\n",
       "      <td>NaN</td>\n",
       "      <td>PCM-Tracking - LogHist.csv</td>\n",
       "      <td>1.0</td>\n",
       "      <td>2015-06-30</td>\n",
       "      <td>2063.110107</td>\n",
       "      <td>18.23</td>\n",
       "      <td>2053.895403</td>\n",
       "      <td>0.004486</td>\n",
       "      <td>2015</td>\n",
       "    </tr>\n",
       "  </tbody>\n",
       "</table>\n",
       "<p>5 rows × 53 columns</p>\n",
       "</div>"
      ],
      "text/plain": [
       "   Unnamed: 0.1  Unnamed: 0  Open_Date           Close_Date Symbol  Quantity  \\\n",
       "0             0           0 2015-06-30  2016-01-07 11:12:44    AER     600.0   \n",
       "1            62          23 2015-06-30  2016-01-08 14:25:15   GLNG     500.0   \n",
       "2            61          55 2015-06-30  2016-01-20 15:20:34    ESV    1000.0   \n",
       "3            60         653 2015-06-30  2016-08-11 11:02:04    ENH      75.0   \n",
       "4            59          64 2015-06-30  2016-01-20 15:22:41   VALE    8000.0   \n",
       "\n",
       "       Pnl OpenAct CloseAct  Open_Price  ...  CATEGORY  COMMENTS.1  \\\n",
       "0 -4851.23       B        S   46.972120  ...       NaN         NaN   \n",
       "1  -492.00       S        B   15.216190  ...       NaN         NaN   \n",
       "2  4667.70       S        B   14.641980  ...       NaN         NaN   \n",
       "3   -41.61       B        S   66.956667  ...       NaN         NaN   \n",
       "4  6677.80       S        B    3.184507  ...       NaN         NaN   \n",
       "\n",
       "                     FILENAME DayOfWeek0Mon  Date_YahooFinance  Close_^GSPC  \\\n",
       "0  PCM-Tracking - LogHist.csv           1.0         2015-06-30  2063.110107   \n",
       "1                         NaN           NaN         2015-06-30  2063.110107   \n",
       "2                         NaN           NaN         2015-06-30  2063.110107   \n",
       "3  PCM-Tracking - LogHist.csv           4.0         2015-06-30  2063.110107   \n",
       "4  PCM-Tracking - LogHist.csv           1.0         2015-06-30  2063.110107   \n",
       "\n",
       "  Close_^VIX Close_^GSPC_200MA  SP500from200MA Open_Year  \n",
       "0      18.23       2053.895403        0.004486      2015  \n",
       "1      18.23       2053.895403        0.004486      2015  \n",
       "2      18.23       2053.895403        0.004486      2015  \n",
       "3      18.23       2053.895403        0.004486      2015  \n",
       "4      18.23       2053.895403        0.004486      2015  \n",
       "\n",
       "[5 rows x 53 columns]"
      ]
     },
     "execution_count": 16,
     "metadata": {},
     "output_type": "execute_result"
    }
   ],
   "source": [
    "df_result.head()"
   ]
  },
  {
   "cell_type": "code",
   "execution_count": 17,
   "id": "659eedb2",
   "metadata": {
    "ExecuteTime": {
     "end_time": "2022-09-24T23:39:41.327171Z",
     "start_time": "2022-09-24T23:39:40.746172Z"
    },
    "execution": {
     "iopub.execute_input": "2023-12-10T20:46:50.488906Z",
     "iopub.status.busy": "2023-12-10T20:46:50.488906Z",
     "iopub.status.idle": "2023-12-10T20:46:50.508841Z",
     "shell.execute_reply": "2023-12-10T20:46:50.508841Z"
    },
    "lines_to_next_cell": 2,
    "papermill": {
     "duration": 0.026289,
     "end_time": "2023-12-10T20:46:50.509838",
     "exception": false,
     "start_time": "2023-12-10T20:46:50.483549",
     "status": "completed"
    },
    "scrolled": true,
    "tags": []
   },
   "outputs": [],
   "source": [
    "cols_with_errors = []\n",
    "\n",
    "for variable, value in externalvar_dict.items():\n",
    "    for c in df_result.columns:\n",
    "        if value in c:\n",
    "            temp_df = pd.pivot_table(\n",
    "                df_result, index=[\"Open_Year\"], values=c, aggfunc=\"mean\", dropna=False\n",
    "            )\n",
    "            temp_df.plot()\n",
    "\n",
    "            try:\n",
    "                assert sum(temp_df[c].isna()) == 0, \"values should all be filled\"\n",
    "            except:\n",
    "                cols_with_errors.append(c)"
   ]
  },
  {
   "cell_type": "code",
   "execution_count": 18,
   "id": "d54cfc89",
   "metadata": {
    "ExecuteTime": {
     "end_time": "2022-09-24T23:39:41.358172Z",
     "start_time": "2022-09-24T23:39:41.332171Z"
    },
    "execution": {
     "iopub.execute_input": "2023-12-10T20:46:50.518808Z",
     "iopub.status.busy": "2023-12-10T20:46:50.518808Z",
     "iopub.status.idle": "2023-12-10T20:46:50.523791Z",
     "shell.execute_reply": "2023-12-10T20:46:50.523791Z"
    },
    "papermill": {
     "duration": 0.010963,
     "end_time": "2023-12-10T20:46:50.524788",
     "exception": false,
     "start_time": "2023-12-10T20:46:50.513825",
     "status": "completed"
    },
    "tags": []
   },
   "outputs": [
    {
     "data": {
      "text/plain": [
       "[]"
      ]
     },
     "execution_count": 18,
     "metadata": {},
     "output_type": "execute_result"
    }
   ],
   "source": [
    "cols_with_errors"
   ]
  },
  {
   "cell_type": "code",
   "execution_count": 19,
   "id": "e275ff63",
   "metadata": {
    "ExecuteTime": {
     "end_time": "2022-09-24T23:39:41.388180Z",
     "start_time": "2022-09-24T23:39:41.365195Z"
    },
    "execution": {
     "iopub.execute_input": "2023-12-10T20:46:50.533758Z",
     "iopub.status.busy": "2023-12-10T20:46:50.532761Z",
     "iopub.status.idle": "2023-12-10T20:46:50.539021Z",
     "shell.execute_reply": "2023-12-10T20:46:50.539021Z"
    },
    "papermill": {
     "duration": 0.011242,
     "end_time": "2023-12-10T20:46:50.540017",
     "exception": false,
     "start_time": "2023-12-10T20:46:50.528775",
     "status": "completed"
    },
    "tags": []
   },
   "outputs": [
    {
     "data": {
      "text/html": [
       "<div>\n",
       "<style scoped>\n",
       "    .dataframe tbody tr th:only-of-type {\n",
       "        vertical-align: middle;\n",
       "    }\n",
       "\n",
       "    .dataframe tbody tr th {\n",
       "        vertical-align: top;\n",
       "    }\n",
       "\n",
       "    .dataframe thead th {\n",
       "        text-align: right;\n",
       "    }\n",
       "</style>\n",
       "<table border=\"1\" class=\"dataframe\">\n",
       "  <thead>\n",
       "    <tr style=\"text-align: right;\">\n",
       "      <th></th>\n",
       "      <th>Close_^GSPC</th>\n",
       "    </tr>\n",
       "    <tr>\n",
       "      <th>Open_Year</th>\n",
       "      <th></th>\n",
       "    </tr>\n",
       "  </thead>\n",
       "  <tbody>\n",
       "    <tr>\n",
       "      <th>2015</th>\n",
       "      <td>2063.110107</td>\n",
       "    </tr>\n",
       "    <tr>\n",
       "      <th>2016</th>\n",
       "      <td>1987.011646</td>\n",
       "    </tr>\n",
       "    <tr>\n",
       "      <th>2017</th>\n",
       "      <td>2414.437274</td>\n",
       "    </tr>\n",
       "    <tr>\n",
       "      <th>2018</th>\n",
       "      <td>2715.997326</td>\n",
       "    </tr>\n",
       "    <tr>\n",
       "      <th>2019</th>\n",
       "      <td>2844.883343</td>\n",
       "    </tr>\n",
       "    <tr>\n",
       "      <th>2020</th>\n",
       "      <td>3164.087365</td>\n",
       "    </tr>\n",
       "    <tr>\n",
       "      <th>2021</th>\n",
       "      <td>4166.741308</td>\n",
       "    </tr>\n",
       "    <tr>\n",
       "      <th>2022</th>\n",
       "      <td>4072.061710</td>\n",
       "    </tr>\n",
       "    <tr>\n",
       "      <th>2023</th>\n",
       "      <td>4204.248819</td>\n",
       "    </tr>\n",
       "  </tbody>\n",
       "</table>\n",
       "</div>"
      ],
      "text/plain": [
       "           Close_^GSPC\n",
       "Open_Year             \n",
       "2015       2063.110107\n",
       "2016       1987.011646\n",
       "2017       2414.437274\n",
       "2018       2715.997326\n",
       "2019       2844.883343\n",
       "2020       3164.087365\n",
       "2021       4166.741308\n",
       "2022       4072.061710\n",
       "2023       4204.248819"
      ]
     },
     "execution_count": 19,
     "metadata": {},
     "output_type": "execute_result"
    }
   ],
   "source": [
    "temp_df"
   ]
  },
  {
   "cell_type": "code",
   "execution_count": 20,
   "id": "2234af2f",
   "metadata": {
    "ExecuteTime": {
     "end_time": "2022-09-24T23:39:41.434170Z",
     "start_time": "2022-09-24T23:39:41.400190Z"
    },
    "execution": {
     "iopub.execute_input": "2023-12-10T20:46:50.548987Z",
     "iopub.status.busy": "2023-12-10T20:46:50.548987Z",
     "iopub.status.idle": "2023-12-10T20:46:50.554404Z",
     "shell.execute_reply": "2023-12-10T20:46:50.554404Z"
    },
    "papermill": {
     "duration": 0.0104,
     "end_time": "2023-12-10T20:46:50.554404",
     "exception": false,
     "start_time": "2023-12-10T20:46:50.544004",
     "status": "completed"
    },
    "tags": []
   },
   "outputs": [],
   "source": [
    "# check diff\n",
    "assert len(set(cols_with_errors).difference(set(existing_err_cols))) == 0, \"new errors\""
   ]
  },
  {
   "cell_type": "markdown",
   "id": "d363f99a",
   "metadata": {
    "papermill": {
     "duration": 0.004983,
     "end_time": "2023-12-10T20:46:50.563861",
     "exception": false,
     "start_time": "2023-12-10T20:46:50.558878",
     "status": "completed"
    },
    "tags": []
   },
   "source": [
    "## Pull AAII Sentiment Data\n",
    "Source: https://www.aaii.com/sentimentsurvey/sent_results"
   ]
  },
  {
   "cell_type": "code",
   "execution_count": 21,
   "id": "69d5463c",
   "metadata": {
    "ExecuteTime": {
     "end_time": "2022-09-24T23:39:41.810168Z",
     "start_time": "2022-09-24T23:39:41.437172Z"
    },
    "execution": {
     "iopub.execute_input": "2023-12-10T20:46:50.593761Z",
     "iopub.status.busy": "2023-12-10T20:46:50.593761Z",
     "iopub.status.idle": "2023-12-10T20:46:50.976829Z",
     "shell.execute_reply": "2023-12-10T20:46:50.976829Z"
    },
    "papermill": {
     "duration": 0.390044,
     "end_time": "2023-12-10T20:46:50.978822",
     "exception": false,
     "start_time": "2023-12-10T20:46:50.588778",
     "status": "completed"
    },
    "tags": []
   },
   "outputs": [
    {
     "name": "stderr",
     "output_type": "stream",
     "text": [
      "C:\\Users\\Stanley\\.virtualenvs\\P1-AnalyzeTrades-FUwO02Mg\\lib\\site-packages\\openpyxl\\worksheet\\header_footer.py:48: UserWarning: Cannot parse header or footer so it will be ignored\n",
      "  warn(\"\"\"Cannot parse header or footer so it will be ignored\"\"\")\n"
     ]
    }
   ],
   "source": [
    "df_aaii = pd.read_excel(f\"data\\sentiment.xlsx\", header=[1, 2, 3])"
   ]
  },
  {
   "cell_type": "code",
   "execution_count": 22,
   "id": "ca7241c5",
   "metadata": {
    "ExecuteTime": {
     "end_time": "2022-09-24T23:39:41.858172Z",
     "start_time": "2022-09-24T23:39:41.816171Z"
    },
    "execution": {
     "iopub.execute_input": "2023-12-10T20:46:50.996762Z",
     "iopub.status.busy": "2023-12-10T20:46:50.996762Z",
     "iopub.status.idle": "2023-12-10T20:46:51.007725Z",
     "shell.execute_reply": "2023-12-10T20:46:51.007725Z"
    },
    "papermill": {
     "duration": 0.02093,
     "end_time": "2023-12-10T20:46:51.009719",
     "exception": false,
     "start_time": "2023-12-10T20:46:50.988789",
     "status": "completed"
    },
    "tags": []
   },
   "outputs": [
    {
     "data": {
      "text/html": [
       "<div>\n",
       "<style scoped>\n",
       "    .dataframe tbody tr th:only-of-type {\n",
       "        vertical-align: middle;\n",
       "    }\n",
       "\n",
       "    .dataframe tbody tr th {\n",
       "        vertical-align: top;\n",
       "    }\n",
       "\n",
       "    .dataframe thead tr th {\n",
       "        text-align: left;\n",
       "    }\n",
       "</style>\n",
       "<table border=\"1\" class=\"dataframe\">\n",
       "  <thead>\n",
       "    <tr>\n",
       "      <th></th>\n",
       "      <th>Unnamed: 0_level_0</th>\n",
       "      <th>Unnamed: 1_level_0</th>\n",
       "      <th>Unnamed: 2_level_0</th>\n",
       "      <th>Unnamed: 3_level_0</th>\n",
       "      <th>Unnamed: 4_level_0</th>\n",
       "      <th colspan=\"5\" halign=\"left\">Bullish</th>\n",
       "      <th colspan=\"3\" halign=\"left\">S&amp;P 500</th>\n",
       "    </tr>\n",
       "    <tr>\n",
       "      <th></th>\n",
       "      <th>Reported</th>\n",
       "      <th>Reported</th>\n",
       "      <th>Reported</th>\n",
       "      <th>Reported</th>\n",
       "      <th>Reported</th>\n",
       "      <th>8-week</th>\n",
       "      <th>Bull-Bear</th>\n",
       "      <th>Bullish</th>\n",
       "      <th colspan=\"2\" halign=\"left\">Average</th>\n",
       "      <th colspan=\"3\" halign=\"left\">Weekly</th>\n",
       "    </tr>\n",
       "    <tr>\n",
       "      <th></th>\n",
       "      <th>Date</th>\n",
       "      <th>Bullish</th>\n",
       "      <th>Neutral</th>\n",
       "      <th>Bearish</th>\n",
       "      <th>Total</th>\n",
       "      <th>Mov Avg</th>\n",
       "      <th>Spread</th>\n",
       "      <th>Average</th>\n",
       "      <th>+St. Dev.</th>\n",
       "      <th>- St. Dev.</th>\n",
       "      <th>High</th>\n",
       "      <th>Low</th>\n",
       "      <th>Close</th>\n",
       "    </tr>\n",
       "  </thead>\n",
       "  <tbody>\n",
       "    <tr>\n",
       "      <th>0</th>\n",
       "      <td>NaN</td>\n",
       "      <td>NaN</td>\n",
       "      <td>NaN</td>\n",
       "      <td>NaN</td>\n",
       "      <td>NaN</td>\n",
       "      <td>NaN</td>\n",
       "      <td>NaN</td>\n",
       "      <td>NaN</td>\n",
       "      <td>NaN</td>\n",
       "      <td>NaN</td>\n",
       "      <td>NaN</td>\n",
       "      <td>NaN</td>\n",
       "      <td>NaN</td>\n",
       "    </tr>\n",
       "    <tr>\n",
       "      <th>1</th>\n",
       "      <td>1987-06-26 00:00:00</td>\n",
       "      <td>NaN</td>\n",
       "      <td>NaN</td>\n",
       "      <td>NaN</td>\n",
       "      <td>NaN</td>\n",
       "      <td>NaN</td>\n",
       "      <td>NaN</td>\n",
       "      <td>0.375269</td>\n",
       "      <td>0.476572</td>\n",
       "      <td>0.273966</td>\n",
       "      <td>NaN</td>\n",
       "      <td>NaN</td>\n",
       "      <td>NaN</td>\n",
       "    </tr>\n",
       "    <tr>\n",
       "      <th>2</th>\n",
       "      <td>1987-07-17 00:00:00</td>\n",
       "      <td>NaN</td>\n",
       "      <td>NaN</td>\n",
       "      <td>NaN</td>\n",
       "      <td>NaN</td>\n",
       "      <td>NaN</td>\n",
       "      <td>NaN</td>\n",
       "      <td>0.375269</td>\n",
       "      <td>0.476572</td>\n",
       "      <td>0.273966</td>\n",
       "      <td>314.59</td>\n",
       "      <td>307.63</td>\n",
       "      <td>314.59</td>\n",
       "    </tr>\n",
       "    <tr>\n",
       "      <th>3</th>\n",
       "      <td>1987-07-24 00:00:00</td>\n",
       "      <td>0.36</td>\n",
       "      <td>0.50</td>\n",
       "      <td>0.14</td>\n",
       "      <td>1.0</td>\n",
       "      <td>NaN</td>\n",
       "      <td>0.22</td>\n",
       "      <td>0.375269</td>\n",
       "      <td>0.476572</td>\n",
       "      <td>0.273966</td>\n",
       "      <td>311.39</td>\n",
       "      <td>307.81</td>\n",
       "      <td>309.27</td>\n",
       "    </tr>\n",
       "    <tr>\n",
       "      <th>4</th>\n",
       "      <td>1987-07-31 00:00:00</td>\n",
       "      <td>0.26</td>\n",
       "      <td>0.48</td>\n",
       "      <td>0.26</td>\n",
       "      <td>1.0</td>\n",
       "      <td>NaN</td>\n",
       "      <td>0.00</td>\n",
       "      <td>0.375269</td>\n",
       "      <td>0.476572</td>\n",
       "      <td>0.273966</td>\n",
       "      <td>318.66</td>\n",
       "      <td>310.65</td>\n",
       "      <td>318.66</td>\n",
       "    </tr>\n",
       "  </tbody>\n",
       "</table>\n",
       "</div>"
      ],
      "text/plain": [
       "    Unnamed: 0_level_0 Unnamed: 1_level_0 Unnamed: 2_level_0  \\\n",
       "              Reported           Reported           Reported   \n",
       "                  Date            Bullish            Neutral   \n",
       "0                  NaN                NaN                NaN   \n",
       "1  1987-06-26 00:00:00                NaN                NaN   \n",
       "2  1987-07-17 00:00:00                NaN                NaN   \n",
       "3  1987-07-24 00:00:00               0.36               0.50   \n",
       "4  1987-07-31 00:00:00               0.26               0.48   \n",
       "\n",
       "  Unnamed: 3_level_0 Unnamed: 4_level_0 Bullish                                \\\n",
       "            Reported           Reported  8-week Bull-Bear   Bullish   Average   \n",
       "             Bearish              Total Mov Avg    Spread   Average +St. Dev.   \n",
       "0                NaN                NaN     NaN       NaN       NaN       NaN   \n",
       "1                NaN                NaN     NaN       NaN  0.375269  0.476572   \n",
       "2                NaN                NaN     NaN       NaN  0.375269  0.476572   \n",
       "3               0.14                1.0     NaN      0.22  0.375269  0.476572   \n",
       "4               0.26                1.0     NaN      0.00  0.375269  0.476572   \n",
       "\n",
       "             S&P 500                  \n",
       "              Weekly                  \n",
       "  - St. Dev.    High     Low   Close  \n",
       "0        NaN     NaN     NaN     NaN  \n",
       "1   0.273966     NaN     NaN     NaN  \n",
       "2   0.273966  314.59  307.63  314.59  \n",
       "3   0.273966  311.39  307.81  309.27  \n",
       "4   0.273966  318.66  310.65  318.66  "
      ]
     },
     "execution_count": 22,
     "metadata": {},
     "output_type": "execute_result"
    }
   ],
   "source": [
    "df_aaii.head()"
   ]
  },
  {
   "cell_type": "code",
   "execution_count": 23,
   "id": "0d80cedf",
   "metadata": {
    "ExecuteTime": {
     "end_time": "2022-09-24T23:39:41.922172Z",
     "start_time": "2022-09-24T23:39:41.862172Z"
    },
    "execution": {
     "iopub.execute_input": "2023-12-10T20:46:51.031646Z",
     "iopub.status.busy": "2023-12-10T20:46:51.031646Z",
     "iopub.status.idle": "2023-12-10T20:46:51.053572Z",
     "shell.execute_reply": "2023-12-10T20:46:51.053572Z"
    },
    "papermill": {
     "duration": 0.036876,
     "end_time": "2023-12-10T20:46:51.055565",
     "exception": false,
     "start_time": "2023-12-10T20:46:51.018689",
     "status": "completed"
    },
    "scrolled": true,
    "tags": []
   },
   "outputs": [
    {
     "data": {
      "text/html": [
       "<div>\n",
       "<style scoped>\n",
       "    .dataframe tbody tr th:only-of-type {\n",
       "        vertical-align: middle;\n",
       "    }\n",
       "\n",
       "    .dataframe tbody tr th {\n",
       "        vertical-align: top;\n",
       "    }\n",
       "\n",
       "    .dataframe thead tr th {\n",
       "        text-align: left;\n",
       "    }\n",
       "</style>\n",
       "<table border=\"1\" class=\"dataframe\">\n",
       "  <thead>\n",
       "    <tr>\n",
       "      <th></th>\n",
       "      <th>Unnamed: 0_level_0</th>\n",
       "      <th>Unnamed: 1_level_0</th>\n",
       "      <th>Unnamed: 2_level_0</th>\n",
       "      <th>Unnamed: 3_level_0</th>\n",
       "      <th>Unnamed: 4_level_0</th>\n",
       "      <th colspan=\"5\" halign=\"left\">Bullish</th>\n",
       "      <th colspan=\"3\" halign=\"left\">S&amp;P 500</th>\n",
       "    </tr>\n",
       "    <tr>\n",
       "      <th></th>\n",
       "      <th>Reported</th>\n",
       "      <th>Reported</th>\n",
       "      <th>Reported</th>\n",
       "      <th>Reported</th>\n",
       "      <th>Reported</th>\n",
       "      <th>8-week</th>\n",
       "      <th>Bull-Bear</th>\n",
       "      <th>Bullish</th>\n",
       "      <th colspan=\"2\" halign=\"left\">Average</th>\n",
       "      <th colspan=\"3\" halign=\"left\">Weekly</th>\n",
       "    </tr>\n",
       "    <tr>\n",
       "      <th></th>\n",
       "      <th>Date</th>\n",
       "      <th>Bullish</th>\n",
       "      <th>Neutral</th>\n",
       "      <th>Bearish</th>\n",
       "      <th>Total</th>\n",
       "      <th>Mov Avg</th>\n",
       "      <th>Spread</th>\n",
       "      <th>Average</th>\n",
       "      <th>+St. Dev.</th>\n",
       "      <th>- St. Dev.</th>\n",
       "      <th>High</th>\n",
       "      <th>Low</th>\n",
       "      <th>Close</th>\n",
       "    </tr>\n",
       "  </thead>\n",
       "  <tbody>\n",
       "    <tr>\n",
       "      <th>2094</th>\n",
       "      <td>Count '18</td>\n",
       "      <td>52.0</td>\n",
       "      <td>52.0</td>\n",
       "      <td>52.0</td>\n",
       "      <td>NaN</td>\n",
       "      <td>52.0</td>\n",
       "      <td>52.0</td>\n",
       "      <td>NaN</td>\n",
       "      <td>NaN</td>\n",
       "      <td>NaN</td>\n",
       "      <td>52.0</td>\n",
       "      <td>52.0</td>\n",
       "      <td>52.0</td>\n",
       "    </tr>\n",
       "    <tr>\n",
       "      <th>2095</th>\n",
       "      <td>Count '19</td>\n",
       "      <td>52.0</td>\n",
       "      <td>52.0</td>\n",
       "      <td>52.0</td>\n",
       "      <td>NaN</td>\n",
       "      <td>52.0</td>\n",
       "      <td>52.0</td>\n",
       "      <td>NaN</td>\n",
       "      <td>NaN</td>\n",
       "      <td>NaN</td>\n",
       "      <td>52.0</td>\n",
       "      <td>52.0</td>\n",
       "      <td>52.0</td>\n",
       "    </tr>\n",
       "    <tr>\n",
       "      <th>2096</th>\n",
       "      <td>Count '20</td>\n",
       "      <td>53.0</td>\n",
       "      <td>53.0</td>\n",
       "      <td>53.0</td>\n",
       "      <td>NaN</td>\n",
       "      <td>53.0</td>\n",
       "      <td>53.0</td>\n",
       "      <td>NaN</td>\n",
       "      <td>NaN</td>\n",
       "      <td>NaN</td>\n",
       "      <td>53.0</td>\n",
       "      <td>53.0</td>\n",
       "      <td>53.0</td>\n",
       "    </tr>\n",
       "    <tr>\n",
       "      <th>2097</th>\n",
       "      <td>Count '21</td>\n",
       "      <td>51.0</td>\n",
       "      <td>51.0</td>\n",
       "      <td>51.0</td>\n",
       "      <td>NaN</td>\n",
       "      <td>51.0</td>\n",
       "      <td>51.0</td>\n",
       "      <td>NaN</td>\n",
       "      <td>NaN</td>\n",
       "      <td>NaN</td>\n",
       "      <td>51.0</td>\n",
       "      <td>51.0</td>\n",
       "      <td>51.0</td>\n",
       "    </tr>\n",
       "    <tr>\n",
       "      <th>2098</th>\n",
       "      <td>Count '22</td>\n",
       "      <td>52.0</td>\n",
       "      <td>52.0</td>\n",
       "      <td>52.0</td>\n",
       "      <td>NaN</td>\n",
       "      <td>52.0</td>\n",
       "      <td>52.0</td>\n",
       "      <td>NaN</td>\n",
       "      <td>NaN</td>\n",
       "      <td>NaN</td>\n",
       "      <td>52.0</td>\n",
       "      <td>52.0</td>\n",
       "      <td>52.0</td>\n",
       "    </tr>\n",
       "  </tbody>\n",
       "</table>\n",
       "</div>"
      ],
      "text/plain": [
       "     Unnamed: 0_level_0 Unnamed: 1_level_0 Unnamed: 2_level_0  \\\n",
       "               Reported           Reported           Reported   \n",
       "                   Date            Bullish            Neutral   \n",
       "2094          Count '18               52.0               52.0   \n",
       "2095          Count '19               52.0               52.0   \n",
       "2096          Count '20               53.0               53.0   \n",
       "2097          Count '21               51.0               51.0   \n",
       "2098          Count '22               52.0               52.0   \n",
       "\n",
       "     Unnamed: 3_level_0 Unnamed: 4_level_0 Bullish                    \\\n",
       "               Reported           Reported  8-week Bull-Bear Bullish   \n",
       "                Bearish              Total Mov Avg    Spread Average   \n",
       "2094               52.0                NaN    52.0      52.0     NaN   \n",
       "2095               52.0                NaN    52.0      52.0     NaN   \n",
       "2096               53.0                NaN    53.0      53.0     NaN   \n",
       "2097               51.0                NaN    51.0      51.0     NaN   \n",
       "2098               52.0                NaN    52.0      52.0     NaN   \n",
       "\n",
       "                          S&P 500              \n",
       "       Average             Weekly              \n",
       "     +St. Dev. - St. Dev.    High   Low Close  \n",
       "2094       NaN        NaN    52.0  52.0  52.0  \n",
       "2095       NaN        NaN    52.0  52.0  52.0  \n",
       "2096       NaN        NaN    53.0  53.0  53.0  \n",
       "2097       NaN        NaN    51.0  51.0  51.0  \n",
       "2098       NaN        NaN    52.0  52.0  52.0  "
      ]
     },
     "execution_count": 23,
     "metadata": {},
     "output_type": "execute_result"
    }
   ],
   "source": [
    "df_aaii.tail()"
   ]
  },
  {
   "cell_type": "code",
   "execution_count": 24,
   "id": "97d88822",
   "metadata": {
    "ExecuteTime": {
     "end_time": "2022-09-24T23:39:41.954172Z",
     "start_time": "2022-09-24T23:39:41.926179Z"
    },
    "execution": {
     "iopub.execute_input": "2023-12-10T20:46:51.070515Z",
     "iopub.status.busy": "2023-12-10T20:46:51.069519Z",
     "iopub.status.idle": "2023-12-10T20:46:51.083472Z",
     "shell.execute_reply": "2023-12-10T20:46:51.083472Z"
    },
    "papermill": {
     "duration": 0.02093,
     "end_time": "2023-12-10T20:46:51.084469",
     "exception": false,
     "start_time": "2023-12-10T20:46:51.063539",
     "status": "completed"
    },
    "tags": []
   },
   "outputs": [
    {
     "data": {
      "text/plain": [
       "['0_level_0_Reported_Date',\n",
       " '1_level_0_Reported_Bullish',\n",
       " '2_level_0_Reported_Neutral',\n",
       " '3_level_0_Reported_Bearish',\n",
       " '4_level_0_Reported_Total',\n",
       " 'Bullish_8-week_Mov Avg',\n",
       " 'Bullish_Bull-Bear_Spread',\n",
       " 'Bullish_Bullish_Average',\n",
       " 'Bullish_Average_+St. Dev.',\n",
       " 'Bullish_Average_- St. Dev.',\n",
       " 'S&P 500_Weekly_High',\n",
       " 'S&P 500_Weekly_Low',\n",
       " 'S&P 500_Weekly_Close']"
      ]
     },
     "execution_count": 24,
     "metadata": {},
     "output_type": "execute_result"
    }
   ],
   "source": [
    "# squeeze multilevel columns to one\n",
    "col_list = list(df_aaii.columns.map(\"_\".join))\n",
    "col_list = [s.replace(\"Unnamed: \", \"\") for s in col_list]\n",
    "col_list"
   ]
  },
  {
   "cell_type": "code",
   "execution_count": 25,
   "id": "b9e81c7c",
   "metadata": {
    "ExecuteTime": {
     "end_time": "2022-09-24T23:39:41.986173Z",
     "start_time": "2022-09-24T23:39:41.959183Z"
    },
    "execution": {
     "iopub.execute_input": "2023-12-10T20:46:51.096430Z",
     "iopub.status.busy": "2023-12-10T20:46:51.096430Z",
     "iopub.status.idle": "2023-12-10T20:46:51.114369Z",
     "shell.execute_reply": "2023-12-10T20:46:51.114369Z"
    },
    "papermill": {
     "duration": 0.024916,
     "end_time": "2023-12-10T20:46:51.115365",
     "exception": false,
     "start_time": "2023-12-10T20:46:51.090449",
     "status": "completed"
    },
    "scrolled": true,
    "tags": []
   },
   "outputs": [
    {
     "data": {
      "text/plain": [
       "Index(['0_level_0_Reported_Date', '1_level_0_Reported_Bullish',\n",
       "       '2_level_0_Reported_Neutral', '3_level_0_Reported_Bearish',\n",
       "       '4_level_0_Reported_Total', 'Bullish_8-week_Mov Avg',\n",
       "       'Bullish_Bull-Bear_Spread', 'Bullish_Bullish_Average',\n",
       "       'Bullish_Average_+St. Dev.', 'Bullish_Average_- St. Dev.',\n",
       "       'S&P 500_Weekly_High', 'S&P 500_Weekly_Low', 'S&P 500_Weekly_Close'],\n",
       "      dtype='object')"
      ]
     },
     "execution_count": 25,
     "metadata": {},
     "output_type": "execute_result"
    }
   ],
   "source": [
    "df_aaii.columns = col_list\n",
    "df_aaii.columns"
   ]
  },
  {
   "cell_type": "code",
   "execution_count": 26,
   "id": "ae003eb0",
   "metadata": {
    "ExecuteTime": {
     "end_time": "2022-09-24T23:39:42.033173Z",
     "start_time": "2022-09-24T23:39:41.992178Z"
    },
    "execution": {
     "iopub.execute_input": "2023-12-10T20:46:51.127326Z",
     "iopub.status.busy": "2023-12-10T20:46:51.126329Z",
     "iopub.status.idle": "2023-12-10T20:46:51.145265Z",
     "shell.execute_reply": "2023-12-10T20:46:51.145265Z"
    },
    "papermill": {
     "duration": 0.024917,
     "end_time": "2023-12-10T20:46:51.146262",
     "exception": false,
     "start_time": "2023-12-10T20:46:51.121345",
     "status": "completed"
    },
    "tags": []
   },
   "outputs": [],
   "source": [
    "# save only those with dates\n",
    "saved_idx = ~pd.to_datetime(df_aaii[\"0_level_0_Reported_Date\"], errors=\"coerce\").isna()"
   ]
  },
  {
   "cell_type": "code",
   "execution_count": 27,
   "id": "34bbdbc8",
   "metadata": {
    "ExecuteTime": {
     "start_time": "2022-09-24T23:40:07.709Z"
    },
    "execution": {
     "iopub.execute_input": "2023-12-10T20:46:51.157225Z",
     "iopub.status.busy": "2023-12-10T20:46:51.157225Z",
     "iopub.status.idle": "2023-12-10T20:46:51.177158Z",
     "shell.execute_reply": "2023-12-10T20:46:51.177158Z"
    },
    "papermill": {
     "duration": 0.02691,
     "end_time": "2023-12-10T20:46:51.178155",
     "exception": false,
     "start_time": "2023-12-10T20:46:51.151245",
     "status": "completed"
    },
    "scrolled": true,
    "tags": []
   },
   "outputs": [
    {
     "data": {
      "text/html": [
       "<div>\n",
       "<style scoped>\n",
       "    .dataframe tbody tr th:only-of-type {\n",
       "        vertical-align: middle;\n",
       "    }\n",
       "\n",
       "    .dataframe tbody tr th {\n",
       "        vertical-align: top;\n",
       "    }\n",
       "\n",
       "    .dataframe thead th {\n",
       "        text-align: right;\n",
       "    }\n",
       "</style>\n",
       "<table border=\"1\" class=\"dataframe\">\n",
       "  <thead>\n",
       "    <tr style=\"text-align: right;\">\n",
       "      <th></th>\n",
       "      <th>0_level_0_Reported_Date</th>\n",
       "      <th>1_level_0_Reported_Bullish</th>\n",
       "      <th>2_level_0_Reported_Neutral</th>\n",
       "      <th>3_level_0_Reported_Bearish</th>\n",
       "      <th>4_level_0_Reported_Total</th>\n",
       "      <th>Bullish_8-week_Mov Avg</th>\n",
       "      <th>Bullish_Bull-Bear_Spread</th>\n",
       "      <th>Bullish_Bullish_Average</th>\n",
       "      <th>Bullish_Average_+St. Dev.</th>\n",
       "      <th>Bullish_Average_- St. Dev.</th>\n",
       "      <th>S&amp;P 500_Weekly_High</th>\n",
       "      <th>S&amp;P 500_Weekly_Low</th>\n",
       "      <th>S&amp;P 500_Weekly_Close</th>\n",
       "      <th>Date</th>\n",
       "    </tr>\n",
       "  </thead>\n",
       "  <tbody>\n",
       "    <tr>\n",
       "      <th>1</th>\n",
       "      <td>1987-06-26 00:00:00</td>\n",
       "      <td>NaN</td>\n",
       "      <td>NaN</td>\n",
       "      <td>NaN</td>\n",
       "      <td>NaN</td>\n",
       "      <td>NaN</td>\n",
       "      <td>NaN</td>\n",
       "      <td>0.375269</td>\n",
       "      <td>0.476572</td>\n",
       "      <td>0.273966</td>\n",
       "      <td>NaN</td>\n",
       "      <td>NaN</td>\n",
       "      <td>NaN</td>\n",
       "      <td>1987-06-26</td>\n",
       "    </tr>\n",
       "    <tr>\n",
       "      <th>2</th>\n",
       "      <td>1987-07-17 00:00:00</td>\n",
       "      <td>NaN</td>\n",
       "      <td>NaN</td>\n",
       "      <td>NaN</td>\n",
       "      <td>NaN</td>\n",
       "      <td>NaN</td>\n",
       "      <td>NaN</td>\n",
       "      <td>0.375269</td>\n",
       "      <td>0.476572</td>\n",
       "      <td>0.273966</td>\n",
       "      <td>314.59</td>\n",
       "      <td>307.63</td>\n",
       "      <td>314.59</td>\n",
       "      <td>1987-07-17</td>\n",
       "    </tr>\n",
       "    <tr>\n",
       "      <th>3</th>\n",
       "      <td>1987-07-24 00:00:00</td>\n",
       "      <td>0.36</td>\n",
       "      <td>0.50</td>\n",
       "      <td>0.14</td>\n",
       "      <td>1.0</td>\n",
       "      <td>NaN</td>\n",
       "      <td>0.22</td>\n",
       "      <td>0.375269</td>\n",
       "      <td>0.476572</td>\n",
       "      <td>0.273966</td>\n",
       "      <td>311.39</td>\n",
       "      <td>307.81</td>\n",
       "      <td>309.27</td>\n",
       "      <td>1987-07-24</td>\n",
       "    </tr>\n",
       "    <tr>\n",
       "      <th>4</th>\n",
       "      <td>1987-07-31 00:00:00</td>\n",
       "      <td>0.26</td>\n",
       "      <td>0.48</td>\n",
       "      <td>0.26</td>\n",
       "      <td>1.0</td>\n",
       "      <td>NaN</td>\n",
       "      <td>0.00</td>\n",
       "      <td>0.375269</td>\n",
       "      <td>0.476572</td>\n",
       "      <td>0.273966</td>\n",
       "      <td>318.66</td>\n",
       "      <td>310.65</td>\n",
       "      <td>318.66</td>\n",
       "      <td>1987-07-31</td>\n",
       "    </tr>\n",
       "    <tr>\n",
       "      <th>5</th>\n",
       "      <td>1987-08-07 00:00:00</td>\n",
       "      <td>0.56</td>\n",
       "      <td>0.15</td>\n",
       "      <td>0.29</td>\n",
       "      <td>1.0</td>\n",
       "      <td>NaN</td>\n",
       "      <td>0.27</td>\n",
       "      <td>0.375269</td>\n",
       "      <td>0.476572</td>\n",
       "      <td>0.273966</td>\n",
       "      <td>323.00</td>\n",
       "      <td>316.23</td>\n",
       "      <td>323.00</td>\n",
       "      <td>1987-08-07</td>\n",
       "    </tr>\n",
       "  </tbody>\n",
       "</table>\n",
       "</div>"
      ],
      "text/plain": [
       "  0_level_0_Reported_Date  1_level_0_Reported_Bullish  \\\n",
       "1     1987-06-26 00:00:00                         NaN   \n",
       "2     1987-07-17 00:00:00                         NaN   \n",
       "3     1987-07-24 00:00:00                        0.36   \n",
       "4     1987-07-31 00:00:00                        0.26   \n",
       "5     1987-08-07 00:00:00                        0.56   \n",
       "\n",
       "   2_level_0_Reported_Neutral  3_level_0_Reported_Bearish  \\\n",
       "1                         NaN                         NaN   \n",
       "2                         NaN                         NaN   \n",
       "3                        0.50                        0.14   \n",
       "4                        0.48                        0.26   \n",
       "5                        0.15                        0.29   \n",
       "\n",
       "   4_level_0_Reported_Total  Bullish_8-week_Mov Avg  Bullish_Bull-Bear_Spread  \\\n",
       "1                       NaN                     NaN                       NaN   \n",
       "2                       NaN                     NaN                       NaN   \n",
       "3                       1.0                     NaN                      0.22   \n",
       "4                       1.0                     NaN                      0.00   \n",
       "5                       1.0                     NaN                      0.27   \n",
       "\n",
       "   Bullish_Bullish_Average  Bullish_Average_+St. Dev.  \\\n",
       "1                 0.375269                   0.476572   \n",
       "2                 0.375269                   0.476572   \n",
       "3                 0.375269                   0.476572   \n",
       "4                 0.375269                   0.476572   \n",
       "5                 0.375269                   0.476572   \n",
       "\n",
       "   Bullish_Average_- St. Dev.  S&P 500_Weekly_High  S&P 500_Weekly_Low  \\\n",
       "1                    0.273966                  NaN                 NaN   \n",
       "2                    0.273966               314.59              307.63   \n",
       "3                    0.273966               311.39              307.81   \n",
       "4                    0.273966               318.66              310.65   \n",
       "5                    0.273966               323.00              316.23   \n",
       "\n",
       "   S&P 500_Weekly_Close       Date  \n",
       "1                   NaN 1987-06-26  \n",
       "2                314.59 1987-07-17  \n",
       "3                309.27 1987-07-24  \n",
       "4                318.66 1987-07-31  \n",
       "5                323.00 1987-08-07  "
      ]
     },
     "execution_count": 27,
     "metadata": {},
     "output_type": "execute_result"
    }
   ],
   "source": [
    "# final usable\n",
    "df_aaii = df_aaii.loc[saved_idx]\n",
    "df_aaii[\"Date\"] = pd.to_datetime(df_aaii[\"0_level_0_Reported_Date\"])\n",
    "df_aaii.head()"
   ]
  },
  {
   "cell_type": "code",
   "execution_count": 28,
   "id": "33c03403",
   "metadata": {
    "ExecuteTime": {
     "start_time": "2022-09-24T23:40:07.714Z"
    },
    "execution": {
     "iopub.execute_input": "2023-12-10T20:46:51.190116Z",
     "iopub.status.busy": "2023-12-10T20:46:51.189119Z",
     "iopub.status.idle": "2023-12-10T20:46:51.208055Z",
     "shell.execute_reply": "2023-12-10T20:46:51.208055Z"
    },
    "papermill": {
     "duration": 0.025913,
     "end_time": "2023-12-10T20:46:51.209052",
     "exception": false,
     "start_time": "2023-12-10T20:46:51.183139",
     "status": "completed"
    },
    "tags": []
   },
   "outputs": [
    {
     "data": {
      "text/html": [
       "<div>\n",
       "<style scoped>\n",
       "    .dataframe tbody tr th:only-of-type {\n",
       "        vertical-align: middle;\n",
       "    }\n",
       "\n",
       "    .dataframe tbody tr th {\n",
       "        vertical-align: top;\n",
       "    }\n",
       "\n",
       "    .dataframe thead th {\n",
       "        text-align: right;\n",
       "    }\n",
       "</style>\n",
       "<table border=\"1\" class=\"dataframe\">\n",
       "  <thead>\n",
       "    <tr style=\"text-align: right;\">\n",
       "      <th></th>\n",
       "      <th>Unnamed: 0.1</th>\n",
       "      <th>Unnamed: 0</th>\n",
       "      <th>Open_Date</th>\n",
       "      <th>Close_Date</th>\n",
       "      <th>Symbol</th>\n",
       "      <th>Quantity</th>\n",
       "      <th>Pnl</th>\n",
       "      <th>OpenAct</th>\n",
       "      <th>CloseAct</th>\n",
       "      <th>Open_Price</th>\n",
       "      <th>...</th>\n",
       "      <th>AAII_4_level_0_Reported_Total</th>\n",
       "      <th>AAII_Bullish_8-week_Mov Avg</th>\n",
       "      <th>AAII_Bullish_Bull-Bear_Spread</th>\n",
       "      <th>AAII_Bullish_Bullish_Average</th>\n",
       "      <th>AAII_Bullish_Average_+St. Dev.</th>\n",
       "      <th>AAII_Bullish_Average_- St. Dev.</th>\n",
       "      <th>AAII_S&amp;P 500_Weekly_High</th>\n",
       "      <th>AAII_S&amp;P 500_Weekly_Low</th>\n",
       "      <th>AAII_S&amp;P 500_Weekly_Close</th>\n",
       "      <th>AAII_Date</th>\n",
       "    </tr>\n",
       "  </thead>\n",
       "  <tbody>\n",
       "    <tr>\n",
       "      <th>0</th>\n",
       "      <td>0</td>\n",
       "      <td>0</td>\n",
       "      <td>2015-06-30</td>\n",
       "      <td>2016-01-07 11:12:44</td>\n",
       "      <td>AER</td>\n",
       "      <td>600.0</td>\n",
       "      <td>-4851.23</td>\n",
       "      <td>B</td>\n",
       "      <td>S</td>\n",
       "      <td>46.972120</td>\n",
       "      <td>...</td>\n",
       "      <td>1.000001</td>\n",
       "      <td>0.267945</td>\n",
       "      <td>0.138889</td>\n",
       "      <td>0.375269</td>\n",
       "      <td>0.476572</td>\n",
       "      <td>0.273966</td>\n",
       "      <td>2129.87</td>\n",
       "      <td>2082.1</td>\n",
       "      <td>2108.58</td>\n",
       "      <td>2015-06-25</td>\n",
       "    </tr>\n",
       "    <tr>\n",
       "      <th>1</th>\n",
       "      <td>62</td>\n",
       "      <td>23</td>\n",
       "      <td>2015-06-30</td>\n",
       "      <td>2016-01-08 14:25:15</td>\n",
       "      <td>GLNG</td>\n",
       "      <td>500.0</td>\n",
       "      <td>-492.00</td>\n",
       "      <td>S</td>\n",
       "      <td>B</td>\n",
       "      <td>15.216190</td>\n",
       "      <td>...</td>\n",
       "      <td>1.000001</td>\n",
       "      <td>0.267945</td>\n",
       "      <td>0.138889</td>\n",
       "      <td>0.375269</td>\n",
       "      <td>0.476572</td>\n",
       "      <td>0.273966</td>\n",
       "      <td>2129.87</td>\n",
       "      <td>2082.1</td>\n",
       "      <td>2108.58</td>\n",
       "      <td>2015-06-25</td>\n",
       "    </tr>\n",
       "    <tr>\n",
       "      <th>2</th>\n",
       "      <td>61</td>\n",
       "      <td>55</td>\n",
       "      <td>2015-06-30</td>\n",
       "      <td>2016-01-20 15:20:34</td>\n",
       "      <td>ESV</td>\n",
       "      <td>1000.0</td>\n",
       "      <td>4667.70</td>\n",
       "      <td>S</td>\n",
       "      <td>B</td>\n",
       "      <td>14.641980</td>\n",
       "      <td>...</td>\n",
       "      <td>1.000001</td>\n",
       "      <td>0.267945</td>\n",
       "      <td>0.138889</td>\n",
       "      <td>0.375269</td>\n",
       "      <td>0.476572</td>\n",
       "      <td>0.273966</td>\n",
       "      <td>2129.87</td>\n",
       "      <td>2082.1</td>\n",
       "      <td>2108.58</td>\n",
       "      <td>2015-06-25</td>\n",
       "    </tr>\n",
       "    <tr>\n",
       "      <th>3</th>\n",
       "      <td>60</td>\n",
       "      <td>653</td>\n",
       "      <td>2015-06-30</td>\n",
       "      <td>2016-08-11 11:02:04</td>\n",
       "      <td>ENH</td>\n",
       "      <td>75.0</td>\n",
       "      <td>-41.61</td>\n",
       "      <td>B</td>\n",
       "      <td>S</td>\n",
       "      <td>66.956667</td>\n",
       "      <td>...</td>\n",
       "      <td>1.000001</td>\n",
       "      <td>0.267945</td>\n",
       "      <td>0.138889</td>\n",
       "      <td>0.375269</td>\n",
       "      <td>0.476572</td>\n",
       "      <td>0.273966</td>\n",
       "      <td>2129.87</td>\n",
       "      <td>2082.1</td>\n",
       "      <td>2108.58</td>\n",
       "      <td>2015-06-25</td>\n",
       "    </tr>\n",
       "    <tr>\n",
       "      <th>4</th>\n",
       "      <td>59</td>\n",
       "      <td>64</td>\n",
       "      <td>2015-06-30</td>\n",
       "      <td>2016-01-20 15:22:41</td>\n",
       "      <td>VALE</td>\n",
       "      <td>8000.0</td>\n",
       "      <td>6677.80</td>\n",
       "      <td>S</td>\n",
       "      <td>B</td>\n",
       "      <td>3.184507</td>\n",
       "      <td>...</td>\n",
       "      <td>1.000001</td>\n",
       "      <td>0.267945</td>\n",
       "      <td>0.138889</td>\n",
       "      <td>0.375269</td>\n",
       "      <td>0.476572</td>\n",
       "      <td>0.273966</td>\n",
       "      <td>2129.87</td>\n",
       "      <td>2082.1</td>\n",
       "      <td>2108.58</td>\n",
       "      <td>2015-06-25</td>\n",
       "    </tr>\n",
       "  </tbody>\n",
       "</table>\n",
       "<p>5 rows × 67 columns</p>\n",
       "</div>"
      ],
      "text/plain": [
       "   Unnamed: 0.1  Unnamed: 0  Open_Date           Close_Date Symbol  Quantity  \\\n",
       "0             0           0 2015-06-30  2016-01-07 11:12:44    AER     600.0   \n",
       "1            62          23 2015-06-30  2016-01-08 14:25:15   GLNG     500.0   \n",
       "2            61          55 2015-06-30  2016-01-20 15:20:34    ESV    1000.0   \n",
       "3            60         653 2015-06-30  2016-08-11 11:02:04    ENH      75.0   \n",
       "4            59          64 2015-06-30  2016-01-20 15:22:41   VALE    8000.0   \n",
       "\n",
       "       Pnl OpenAct CloseAct  Open_Price  ...  AAII_4_level_0_Reported_Total  \\\n",
       "0 -4851.23       B        S   46.972120  ...                       1.000001   \n",
       "1  -492.00       S        B   15.216190  ...                       1.000001   \n",
       "2  4667.70       S        B   14.641980  ...                       1.000001   \n",
       "3   -41.61       B        S   66.956667  ...                       1.000001   \n",
       "4  6677.80       S        B    3.184507  ...                       1.000001   \n",
       "\n",
       "   AAII_Bullish_8-week_Mov Avg AAII_Bullish_Bull-Bear_Spread  \\\n",
       "0                     0.267945                      0.138889   \n",
       "1                     0.267945                      0.138889   \n",
       "2                     0.267945                      0.138889   \n",
       "3                     0.267945                      0.138889   \n",
       "4                     0.267945                      0.138889   \n",
       "\n",
       "  AAII_Bullish_Bullish_Average  AAII_Bullish_Average_+St. Dev.  \\\n",
       "0                     0.375269                        0.476572   \n",
       "1                     0.375269                        0.476572   \n",
       "2                     0.375269                        0.476572   \n",
       "3                     0.375269                        0.476572   \n",
       "4                     0.375269                        0.476572   \n",
       "\n",
       "   AAII_Bullish_Average_- St. Dev. AAII_S&P 500_Weekly_High  \\\n",
       "0                         0.273966                  2129.87   \n",
       "1                         0.273966                  2129.87   \n",
       "2                         0.273966                  2129.87   \n",
       "3                         0.273966                  2129.87   \n",
       "4                         0.273966                  2129.87   \n",
       "\n",
       "  AAII_S&P 500_Weekly_Low  AAII_S&P 500_Weekly_Close  AAII_Date  \n",
       "0                  2082.1                    2108.58 2015-06-25  \n",
       "1                  2082.1                    2108.58 2015-06-25  \n",
       "2                  2082.1                    2108.58 2015-06-25  \n",
       "3                  2082.1                    2108.58 2015-06-25  \n",
       "4                  2082.1                    2108.58 2015-06-25  \n",
       "\n",
       "[5 rows x 67 columns]"
      ]
     },
     "execution_count": 28,
     "metadata": {},
     "output_type": "execute_result"
    }
   ],
   "source": [
    "df_aaii_sorted = df_aaii.sort_values([\"0_level_0_Reported_Date\"])\n",
    "df_aaii_sorted.columns = [\"AAII_\" + c for c in df_aaii_sorted.columns]\n",
    "df_result = pd.merge_asof(\n",
    "    df_result,\n",
    "    df_aaii_sorted,\n",
    "    left_on=[\"Open_Date\"],\n",
    "    right_on=[f\"AAII_Date\"],\n",
    "    direction=\"backward\",\n",
    ")\n",
    "df_result.head()"
   ]
  },
  {
   "cell_type": "markdown",
   "id": "6d223f76",
   "metadata": {
    "papermill": {
     "duration": 0.004983,
     "end_time": "2023-12-10T20:46:51.220015",
     "exception": false,
     "start_time": "2023-12-10T20:46:51.215032",
     "status": "completed"
    },
    "tags": []
   },
   "source": [
    "## Final Checks"
   ]
  },
  {
   "cell_type": "code",
   "execution_count": 29,
   "id": "aad59578",
   "metadata": {
    "ExecuteTime": {
     "start_time": "2022-09-24T23:40:07.718Z"
    },
    "execution": {
     "iopub.execute_input": "2023-12-10T20:46:51.230979Z",
     "iopub.status.busy": "2023-12-10T20:46:51.230979Z",
     "iopub.status.idle": "2023-12-10T20:46:51.239948Z",
     "shell.execute_reply": "2023-12-10T20:46:51.239948Z"
    },
    "papermill": {
     "duration": 0.015947,
     "end_time": "2023-12-10T20:46:51.240945",
     "exception": false,
     "start_time": "2023-12-10T20:46:51.224998",
     "status": "completed"
    },
    "tags": []
   },
   "outputs": [
    {
     "data": {
      "text/plain": [
       "Series([], Name: 0, dtype: object)"
      ]
     },
     "execution_count": 29,
     "metadata": {},
     "output_type": "execute_result"
    }
   ],
   "source": [
    "df_result.loc[0, df_result.columns.duplicated()]"
   ]
  },
  {
   "cell_type": "code",
   "execution_count": 30,
   "id": "ff1979d8",
   "metadata": {
    "ExecuteTime": {
     "start_time": "2022-09-24T23:40:07.721Z"
    },
    "execution": {
     "iopub.execute_input": "2023-12-10T20:46:51.251909Z",
     "iopub.status.busy": "2023-12-10T20:46:51.250912Z",
     "iopub.status.idle": "2023-12-10T20:46:51.255895Z",
     "shell.execute_reply": "2023-12-10T20:46:51.255895Z"
    },
    "papermill": {
     "duration": 0.010964,
     "end_time": "2023-12-10T20:46:51.256892",
     "exception": false,
     "start_time": "2023-12-10T20:46:51.245928",
     "status": "completed"
    },
    "tags": []
   },
   "outputs": [],
   "source": [
    "assert len(df_result.loc[0, df_result.columns.duplicated()]) == 0, \"duplicates\""
   ]
  },
  {
   "cell_type": "markdown",
   "id": "2b175dd9",
   "metadata": {
    "ExecuteTime": {
     "end_time": "2022-07-17T14:09:50.010627Z",
     "start_time": "2022-07-17T14:09:49.984643Z"
    },
    "papermill": {
     "duration": 0.004983,
     "end_time": "2023-12-10T20:46:51.266858",
     "exception": false,
     "start_time": "2023-12-10T20:46:51.261875",
     "status": "completed"
    },
    "tags": []
   },
   "source": [
    "## Save Output"
   ]
  },
  {
   "cell_type": "code",
   "execution_count": 31,
   "id": "2d034700",
   "metadata": {
    "ExecuteTime": {
     "start_time": "2022-09-24T23:40:07.724Z"
    },
    "execution": {
     "iopub.execute_input": "2023-12-10T20:46:51.277822Z",
     "iopub.status.busy": "2023-12-10T20:46:51.277822Z",
     "iopub.status.idle": "2023-12-10T20:46:51.334637Z",
     "shell.execute_reply": "2023-12-10T20:46:51.334637Z"
    },
    "lines_to_next_cell": 2,
    "papermill": {
     "duration": 0.062796,
     "end_time": "2023-12-10T20:46:51.335635",
     "exception": false,
     "start_time": "2023-12-10T20:46:51.272839",
     "status": "completed"
    },
    "tags": []
   },
   "outputs": [],
   "source": [
    "df_result.to_csv(\"output/c_resulttradewattr.csv\")"
   ]
  },
  {
   "cell_type": "code",
   "execution_count": null,
   "id": "7415892f",
   "metadata": {
    "papermill": {
     "duration": 0.004983,
     "end_time": "2023-12-10T20:46:51.346597",
     "exception": false,
     "start_time": "2023-12-10T20:46:51.341614",
     "status": "completed"
    },
    "tags": []
   },
   "outputs": [],
   "source": []
  }
 ],
 "metadata": {
  "celltoolbar": "Tags",
  "jupytext": {
   "cell_metadata_filter": "-all",
   "formats": "auto:percent,ipynb",
   "notebook_metadata_filter": "-all"
  },
  "kernelspec": {
   "display_name": "p1analyzetrades",
   "language": "python",
   "name": "p1analyzetrades"
  },
  "language_info": {
   "codemirror_mode": {
    "name": "ipython",
    "version": 3
   },
   "file_extension": ".py",
   "mimetype": "text/x-python",
   "name": "python",
   "nbconvert_exporter": "python",
   "pygments_lexer": "ipython3",
   "version": "3.9.13"
  },
  "papermill": {
   "default_parameters": {},
   "duration": 3.684591,
   "end_time": "2023-12-10T20:46:51.585601",
   "environment_variables": {},
   "exception": null,
   "input_path": "P1-AnalyzeTrades_c_add_attr2.ipynb",
   "output_path": "P1-AnalyzeTrades_c_add_attr2_output.ipynb",
   "parameters": {},
   "start_time": "2023-12-10T20:46:47.901010",
   "version": "2.5.0"
  },
  "toc": {
   "base_numbering": 1,
   "nav_menu": {},
   "number_sections": true,
   "sideBar": true,
   "skip_h1_title": false,
   "title_cell": "Table of Contents",
   "title_sidebar": "Contents",
   "toc_cell": false,
   "toc_position": {
    "height": "calc(100% - 180px)",
    "left": "10px",
    "top": "150px",
    "width": "384px"
   },
   "toc_section_display": true,
   "toc_window_display": true
  },
  "varInspector": {
   "cols": {
    "lenName": 16,
    "lenType": 16,
    "lenVar": 40
   },
   "kernels_config": {
    "python": {
     "delete_cmd_postfix": "",
     "delete_cmd_prefix": "del ",
     "library": "var_list.py",
     "varRefreshCmd": "print(var_dic_list())"
    },
    "r": {
     "delete_cmd_postfix": ") ",
     "delete_cmd_prefix": "rm(",
     "library": "var_list.r",
     "varRefreshCmd": "cat(var_dic_list()) "
    }
   },
   "position": {
    "height": "633.844px",
    "left": "1550px",
    "right": "20px",
    "top": "120px",
    "width": "350px"
   },
   "types_to_exclude": [
    "module",
    "function",
    "builtin_function_or_method",
    "instance",
    "_Feature"
   ],
   "window_display": true
  }
 },
 "nbformat": 4,
 "nbformat_minor": 5
}