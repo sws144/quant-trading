{
 "cells": [
  {
   "cell_type": "markdown",
   "id": "412e9eb2",
   "metadata": {
    "papermill": {
     "duration": 0.003976,
     "end_time": "2022-07-05T14:22:06.887515",
     "exception": false,
     "start_time": "2022-07-05T14:22:06.883539",
     "status": "completed"
    },
    "tags": []
   },
   "source": [
    " ## C add attributes 2 to trade log\n",
    " Design matrix is one record per row"
   ]
  },
  {
   "cell_type": "code",
   "execution_count": 1,
   "id": "f71b1069",
   "metadata": {
    "execution": {
     "iopub.execute_input": "2022-07-05T14:22:06.900502Z",
     "iopub.status.busy": "2022-07-05T14:22:06.899504Z",
     "iopub.status.idle": "2022-07-05T14:22:08.179508Z",
     "shell.execute_reply": "2022-07-05T14:22:08.176505Z"
    },
    "papermill": {
     "duration": 1.295009,
     "end_time": "2022-07-05T14:22:08.189511",
     "exception": false,
     "start_time": "2022-07-05T14:22:06.894502",
     "status": "completed"
    },
    "tags": []
   },
   "outputs": [],
   "source": [
    "# imports\n",
    "\n",
    "import pandas as pd\n",
    "import numpy as np # for np.nan\n",
    "import os # for path\n",
    "\n",
    "import yfinance as yf\n",
    "\n",
    "import json\n",
    "\n",
    "from pandas_datareader.quandl import QuandlReader #data side"
   ]
  },
  {
   "cell_type": "code",
   "execution_count": 2,
   "id": "c6efb470",
   "metadata": {
    "execution": {
     "iopub.execute_input": "2022-07-05T14:22:08.213503Z",
     "iopub.status.busy": "2022-07-05T14:22:08.212507Z",
     "iopub.status.idle": "2022-07-05T14:22:08.272502Z",
     "shell.execute_reply": "2022-07-05T14:22:08.269500Z"
    },
    "papermill": {
     "duration": 0.071001,
     "end_time": "2022-07-05T14:22:08.274502",
     "exception": false,
     "start_time": "2022-07-05T14:22:08.203501",
     "status": "completed"
    },
    "tags": []
   },
   "outputs": [],
   "source": [
    "# read in raw data\n",
    "### INPUT ###\n",
    "\n",
    "# formatted tradelog\n",
    "trades_filename = 'output/b_completewattr.csv'\n",
    "df_raw = pd.read_csv(trades_filename)"
   ]
  },
  {
   "cell_type": "code",
   "execution_count": 3,
   "id": "550d176c",
   "metadata": {
    "execution": {
     "iopub.execute_input": "2022-07-05T14:22:08.282499Z",
     "iopub.status.busy": "2022-07-05T14:22:08.281502Z",
     "iopub.status.idle": "2022-07-05T14:22:08.364502Z",
     "shell.execute_reply": "2022-07-05T14:22:08.363535Z"
    },
    "lines_to_next_cell": 2,
    "papermill": {
     "duration": 0.088999,
     "end_time": "2022-07-05T14:22:08.366502",
     "exception": false,
     "start_time": "2022-07-05T14:22:08.277503",
     "status": "completed"
    },
    "tags": []
   },
   "outputs": [
    {
     "data": {
      "text/html": [
       "<div>\n",
       "<style scoped>\n",
       "    .dataframe tbody tr th:only-of-type {\n",
       "        vertical-align: middle;\n",
       "    }\n",
       "\n",
       "    .dataframe tbody tr th {\n",
       "        vertical-align: top;\n",
       "    }\n",
       "\n",
       "    .dataframe thead th {\n",
       "        text-align: right;\n",
       "    }\n",
       "</style>\n",
       "<table border=\"1\" class=\"dataframe\">\n",
       "  <thead>\n",
       "    <tr style=\"text-align: right;\">\n",
       "      <th></th>\n",
       "      <th>Unnamed: 0</th>\n",
       "      <th>Date</th>\n",
       "      <th>Ticker</th>\n",
       "      <th>Adj Close</th>\n",
       "      <th>Close</th>\n",
       "      <th>High</th>\n",
       "      <th>Low</th>\n",
       "      <th>Open</th>\n",
       "      <th>Volume</th>\n",
       "    </tr>\n",
       "  </thead>\n",
       "  <tbody>\n",
       "    <tr>\n",
       "      <th>0</th>\n",
       "      <td>0</td>\n",
       "      <td>2010-01-04</td>\n",
       "      <td>^GSPC</td>\n",
       "      <td>1132.989990</td>\n",
       "      <td>1132.989990</td>\n",
       "      <td>1133.869995</td>\n",
       "      <td>1116.560059</td>\n",
       "      <td>1116.560059</td>\n",
       "      <td>3991400000</td>\n",
       "    </tr>\n",
       "    <tr>\n",
       "      <th>1</th>\n",
       "      <td>1</td>\n",
       "      <td>2010-01-04</td>\n",
       "      <td>^VIX</td>\n",
       "      <td>20.040001</td>\n",
       "      <td>20.040001</td>\n",
       "      <td>21.680000</td>\n",
       "      <td>20.030001</td>\n",
       "      <td>21.680000</td>\n",
       "      <td>0</td>\n",
       "    </tr>\n",
       "    <tr>\n",
       "      <th>2</th>\n",
       "      <td>2</td>\n",
       "      <td>2010-01-05</td>\n",
       "      <td>^GSPC</td>\n",
       "      <td>1136.520020</td>\n",
       "      <td>1136.520020</td>\n",
       "      <td>1136.630005</td>\n",
       "      <td>1129.660034</td>\n",
       "      <td>1132.660034</td>\n",
       "      <td>2491020000</td>\n",
       "    </tr>\n",
       "    <tr>\n",
       "      <th>3</th>\n",
       "      <td>3</td>\n",
       "      <td>2010-01-05</td>\n",
       "      <td>^VIX</td>\n",
       "      <td>19.350000</td>\n",
       "      <td>19.350000</td>\n",
       "      <td>20.129999</td>\n",
       "      <td>19.340000</td>\n",
       "      <td>20.049999</td>\n",
       "      <td>0</td>\n",
       "    </tr>\n",
       "    <tr>\n",
       "      <th>4</th>\n",
       "      <td>4</td>\n",
       "      <td>2010-01-06</td>\n",
       "      <td>^GSPC</td>\n",
       "      <td>1137.140015</td>\n",
       "      <td>1137.140015</td>\n",
       "      <td>1139.189941</td>\n",
       "      <td>1133.949951</td>\n",
       "      <td>1135.709961</td>\n",
       "      <td>4972660000</td>\n",
       "    </tr>\n",
       "  </tbody>\n",
       "</table>\n",
       "</div>"
      ],
      "text/plain": [
       "   Unnamed: 0        Date Ticker    Adj Close        Close         High  \\\n",
       "0           0  2010-01-04  ^GSPC  1132.989990  1132.989990  1133.869995   \n",
       "1           1  2010-01-04   ^VIX    20.040001    20.040001    21.680000   \n",
       "2           2  2010-01-05  ^GSPC  1136.520020  1136.520020  1136.630005   \n",
       "3           3  2010-01-05   ^VIX    19.350000    19.350000    20.129999   \n",
       "4           4  2010-01-06  ^GSPC  1137.140015  1137.140015  1139.189941   \n",
       "\n",
       "           Low         Open      Volume  \n",
       "0  1116.560059  1116.560059  3991400000  \n",
       "1    20.030001    21.680000           0  \n",
       "2  1129.660034  1132.660034  2491020000  \n",
       "3    19.340000    20.049999           0  \n",
       "4  1133.949951  1135.709961  4972660000  "
      ]
     },
     "execution_count": 3,
     "metadata": {},
     "output_type": "execute_result"
    }
   ],
   "source": [
    "# pull data from yahoo finance\n",
    "\n",
    "reload_data = False\n",
    "\n",
    "tickers = ['^VIX' , '^GSPC']\n",
    "if reload_data: \n",
    "    df_data = yf.download(\n",
    "        ' '.join(tickers), \n",
    "        start=\"2010-01-01\", end=\"2020-12-01\", \n",
    "        group_by='Tickers'\n",
    "    )\n",
    "    # turn into tabular form\n",
    "    df_data_formatted = df_data.stack(level=0).reset_index().rename(columns={'level_1':'Ticker'})\n",
    "    df_data_formatted.to_csv('output/c_mktdata.csv')\n",
    "else:\n",
    "    df_data_formatted = pd.read_csv('output/c_mktdata.csv')\n",
    "\n",
    "df_data_formatted.head()"
   ]
  },
  {
   "cell_type": "code",
   "execution_count": 4,
   "id": "610ade48",
   "metadata": {
    "execution": {
     "iopub.execute_input": "2022-07-05T14:22:08.376501Z",
     "iopub.status.busy": "2022-07-05T14:22:08.375502Z",
     "iopub.status.idle": "2022-07-05T14:22:08.430509Z",
     "shell.execute_reply": "2022-07-05T14:22:08.425569Z"
    },
    "papermill": {
     "duration": 0.069008,
     "end_time": "2022-07-05T14:22:08.439508",
     "exception": false,
     "start_time": "2022-07-05T14:22:08.370500",
     "status": "completed"
    },
    "tags": []
   },
   "outputs": [
    {
     "data": {
      "text/html": [
       "<div>\n",
       "<style scoped>\n",
       "    .dataframe tbody tr th:only-of-type {\n",
       "        vertical-align: middle;\n",
       "    }\n",
       "\n",
       "    .dataframe tbody tr th {\n",
       "        vertical-align: top;\n",
       "    }\n",
       "\n",
       "    .dataframe thead th {\n",
       "        text-align: right;\n",
       "    }\n",
       "</style>\n",
       "<table border=\"1\" class=\"dataframe\">\n",
       "  <thead>\n",
       "    <tr style=\"text-align: right;\">\n",
       "      <th></th>\n",
       "      <th>Date_</th>\n",
       "      <th>Close_^GSPC</th>\n",
       "      <th>Close_^VIX</th>\n",
       "    </tr>\n",
       "  </thead>\n",
       "  <tbody>\n",
       "    <tr>\n",
       "      <th>0</th>\n",
       "      <td>2010-01-04</td>\n",
       "      <td>1132.989990</td>\n",
       "      <td>20.040001</td>\n",
       "    </tr>\n",
       "    <tr>\n",
       "      <th>1</th>\n",
       "      <td>2010-01-05</td>\n",
       "      <td>1136.520020</td>\n",
       "      <td>19.350000</td>\n",
       "    </tr>\n",
       "    <tr>\n",
       "      <th>2</th>\n",
       "      <td>2010-01-06</td>\n",
       "      <td>1137.140015</td>\n",
       "      <td>19.160000</td>\n",
       "    </tr>\n",
       "    <tr>\n",
       "      <th>3</th>\n",
       "      <td>2010-01-07</td>\n",
       "      <td>1141.689941</td>\n",
       "      <td>19.059999</td>\n",
       "    </tr>\n",
       "    <tr>\n",
       "      <th>4</th>\n",
       "      <td>2010-01-08</td>\n",
       "      <td>1144.979980</td>\n",
       "      <td>18.129999</td>\n",
       "    </tr>\n",
       "  </tbody>\n",
       "</table>\n",
       "</div>"
      ],
      "text/plain": [
       "       Date_  Close_^GSPC  Close_^VIX\n",
       "0 2010-01-04  1132.989990   20.040001\n",
       "1 2010-01-05  1136.520020   19.350000\n",
       "2 2010-01-06  1137.140015   19.160000\n",
       "3 2010-01-07  1141.689941   19.059999\n",
       "4 2010-01-08  1144.979980   18.129999"
      ]
     },
     "execution_count": 4,
     "metadata": {},
     "output_type": "execute_result"
    }
   ],
   "source": [
    "# pivoted\n",
    "\n",
    "df_data_pivot = df_data_formatted.pivot(\n",
    "    index=['Date'],columns=['Ticker'],values=['Close'],\n",
    ").reset_index()\n",
    "df_data_pivot.columns = ['_'.join(col).strip() for col in df_data_pivot.columns.values]\n",
    "df_data_pivot['Date_'] = pd.to_datetime(df_data_pivot['Date_'],errors='coerce')\n",
    "df_data_pivot.head()\n",
    "\n"
   ]
  },
  {
   "cell_type": "code",
   "execution_count": 5,
   "id": "2b522ccd",
   "metadata": {
    "execution": {
     "iopub.execute_input": "2022-07-05T14:22:08.463505Z",
     "iopub.status.busy": "2022-07-05T14:22:08.462504Z",
     "iopub.status.idle": "2022-07-05T14:22:08.505518Z",
     "shell.execute_reply": "2022-07-05T14:22:08.504502Z"
    },
    "lines_to_next_cell": 2,
    "papermill": {
     "duration": 0.056014,
     "end_time": "2022-07-05T14:22:08.508520",
     "exception": false,
     "start_time": "2022-07-05T14:22:08.452506",
     "status": "completed"
    },
    "tags": []
   },
   "outputs": [],
   "source": [
    "# merge\n",
    "\n",
    "df_source = df_raw.copy(deep=True)\n",
    "\n",
    "df_source['Open_Date'] = pd.to_datetime(df_source['Open_Date'],errors='coerce')\n",
    "\n",
    "\n",
    "# need to sort\n",
    "df_source = df_source.sort_values(['Open_Date']) \n",
    "df_data_pivot = df_data_pivot.sort_values(['Date_'])\n",
    "\n",
    "df_result = pd.merge_asof(\n",
    "    df_source, df_data_pivot,left_on=['Open_Date'],right_on=['Date_']\n",
    ")"
   ]
  },
  {
   "cell_type": "code",
   "execution_count": 6,
   "id": "67de48b6",
   "metadata": {
    "execution": {
     "iopub.execute_input": "2022-07-05T14:22:08.526501Z",
     "iopub.status.busy": "2022-07-05T14:22:08.525503Z",
     "iopub.status.idle": "2022-07-05T14:22:08.553503Z",
     "shell.execute_reply": "2022-07-05T14:22:08.552533Z"
    },
    "lines_to_next_cell": 2,
    "papermill": {
     "duration": 0.038999,
     "end_time": "2022-07-05T14:22:08.557499",
     "exception": false,
     "start_time": "2022-07-05T14:22:08.518500",
     "status": "completed"
    },
    "tags": []
   },
   "outputs": [],
   "source": [
    "# pull data from Quandl \n",
    "\n",
    "if reload_data:\n",
    "    \n",
    "    with open('data/vars.json', 'r') as json_file:\n",
    "        var_dict = json.load(json_file)\n",
    "\n",
    "    quandl_key = var_dict['QUANDL_API']\n",
    "\n",
    "    QR = QuandlReader(\"AAII/AAII_SENTIMENT\",api_key=quandl_key)\n",
    "\n",
    "    QR_df = QR.read().reset_index()\n",
    "\n",
    "    QR_df.columns = ['AAII_Sent_' + str(col)  for col in QR_df.columns]\n",
    "    QR_df.to_csv('output/c_mktdata_aaii.csv')\n",
    "else: \n",
    "    QR_df = pd.read_csv('output/c_mktdata_aaii.csv')"
   ]
  },
  {
   "cell_type": "code",
   "execution_count": 7,
   "id": "af22f02f",
   "metadata": {
    "execution": {
     "iopub.execute_input": "2022-07-05T14:22:08.572501Z",
     "iopub.status.busy": "2022-07-05T14:22:08.571502Z",
     "iopub.status.idle": "2022-07-05T14:22:08.601515Z",
     "shell.execute_reply": "2022-07-05T14:22:08.599504Z"
    },
    "lines_to_next_cell": 2,
    "papermill": {
     "duration": 0.040998,
     "end_time": "2022-07-05T14:22:08.604502",
     "exception": false,
     "start_time": "2022-07-05T14:22:08.563504",
     "status": "completed"
    },
    "tags": []
   },
   "outputs": [],
   "source": [
    "# merge Quandl\n",
    "QR_df_sorted = QR_df.sort_values(['AAII_Sent_Date'])\n",
    "QR_df_sorted['AAII_Sent_Date'] = pd.to_datetime(QR_df['AAII_Sent_Date'], errors='coerce')\n",
    "\n",
    "\n",
    "df_result = pd.merge_asof(\n",
    "    df_result, QR_df_sorted,left_on=['Open_Date'],right_on=['AAII_Sent_Date'],\n",
    "    direction='forward',\n",
    ")"
   ]
  },
  {
   "cell_type": "code",
   "execution_count": 8,
   "id": "2d034700",
   "metadata": {
    "execution": {
     "iopub.execute_input": "2022-07-05T14:22:08.613533Z",
     "iopub.status.busy": "2022-07-05T14:22:08.613533Z",
     "iopub.status.idle": "2022-07-05T14:22:08.754506Z",
     "shell.execute_reply": "2022-07-05T14:22:08.753588Z"
    },
    "lines_to_next_cell": 2,
    "papermill": {
     "duration": 0.147001,
     "end_time": "2022-07-05T14:22:08.756505",
     "exception": false,
     "start_time": "2022-07-05T14:22:08.609504",
     "status": "completed"
    },
    "tags": []
   },
   "outputs": [],
   "source": [
    "# save output\n",
    "\n",
    "df_result.to_csv('output/c_resulttradewattr.csv')"
   ]
  },
  {
   "cell_type": "code",
   "execution_count": null,
   "id": "7415892f",
   "metadata": {
    "papermill": {
     "duration": 0.003997,
     "end_time": "2022-07-05T14:22:08.766503",
     "exception": false,
     "start_time": "2022-07-05T14:22:08.762506",
     "status": "completed"
    },
    "tags": []
   },
   "outputs": [],
   "source": []
  }
 ],
 "metadata": {
  "jupytext": {
   "cell_metadata_filter": "-all",
   "formats": "auto:percent,ipynb",
   "notebook_metadata_filter": "-all"
  },
  "kernelspec": {
   "display_name": "p1analyzetrades",
   "language": "python",
   "name": "p1analyzetrades"
  },
  "language_info": {
   "codemirror_mode": {
    "name": "ipython",
    "version": 3
   },
   "file_extension": ".py",
   "mimetype": "text/x-python",
   "name": "python",
   "nbconvert_exporter": "python",
   "pygments_lexer": "ipython3",
   "version": "3.9.10"
  },
  "papermill": {
   "default_parameters": {},
   "duration": 4.674037,
   "end_time": "2022-07-05T14:22:09.218537",
   "environment_variables": {},
   "exception": null,
   "input_path": "P1-AnalyzeTrades_c_add_attr2.ipynb",
   "output_path": "P1-AnalyzeTrades_c_add_attr2_output.ipynb",
   "parameters": {},
   "start_time": "2022-07-05T14:22:04.544500",
   "version": "2.3.4"
  },
  "toc": {
   "base_numbering": 1,
   "nav_menu": {},
   "number_sections": true,
   "sideBar": true,
   "skip_h1_title": false,
   "title_cell": "Table of Contents",
   "title_sidebar": "Contents",
   "toc_cell": false,
   "toc_position": {},
   "toc_section_display": true,
   "toc_window_display": true
  },
  "varInspector": {
   "cols": {
    "lenName": 16,
    "lenType": 16,
    "lenVar": 40
   },
   "kernels_config": {
    "python": {
     "delete_cmd_postfix": "",
     "delete_cmd_prefix": "del ",
     "library": "var_list.py",
     "varRefreshCmd": "print(var_dic_list())"
    },
    "r": {
     "delete_cmd_postfix": ") ",
     "delete_cmd_prefix": "rm(",
     "library": "var_list.r",
     "varRefreshCmd": "cat(var_dic_list()) "
    }
   },
   "types_to_exclude": [
    "module",
    "function",
    "builtin_function_or_method",
    "instance",
    "_Feature"
   ],
   "window_display": true
  }
 },
 "nbformat": 4,
 "nbformat_minor": 5
}