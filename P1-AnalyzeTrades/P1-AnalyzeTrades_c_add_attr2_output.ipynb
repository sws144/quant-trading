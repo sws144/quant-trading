{
 "cells": [
  {
   "cell_type": "markdown",
   "id": "412e9eb2",
   "metadata": {
    "papermill": {
     "duration": 0.022004,
     "end_time": "2023-01-14T19:22:12.248640",
     "exception": false,
     "start_time": "2023-01-14T19:22:12.226636",
     "status": "completed"
    },
    "tags": []
   },
   "source": [
    " ## C add attributes 2 and begin feat engineering\n",
    " Design matrix is one record per row\n"
   ]
  },
  {
   "cell_type": "code",
   "execution_count": 1,
   "id": "578455e8",
   "metadata": {
    "ExecuteTime": {
     "end_time": "2022-09-24T23:36:22.076605Z",
     "start_time": "2022-09-24T23:36:21.253608Z"
    },
    "execution": {
     "iopub.execute_input": "2023-01-14T19:22:12.281639Z",
     "iopub.status.busy": "2023-01-14T19:22:12.280638Z",
     "iopub.status.idle": "2023-01-14T19:22:12.444633Z",
     "shell.execute_reply": "2023-01-14T19:22:12.443641Z"
    },
    "papermill": {
     "duration": 0.182,
     "end_time": "2023-01-14T19:22:12.447632",
     "exception": false,
     "start_time": "2023-01-14T19:22:12.265632",
     "status": "completed"
    },
    "tags": []
   },
   "outputs": [
    {
     "data": {
      "text/html": [
       "\n",
       "                <script type=\"application/javascript\" id=\"jupyter_black\">\n",
       "                function jb_set_cell(\n",
       "                        jb_formatted_code\n",
       "                        ) {\n",
       "                    for (var cell of Jupyter.notebook.get_cells()) {\n",
       "                        if (cell.input_prompt_number == \"*\") {\n",
       "                            cell.set_text(jb_formatted_code)\n",
       "                            return\n",
       "                        }\n",
       "                    }\n",
       "                }\n",
       "                </script>\n",
       "                "
      ],
      "text/plain": [
       "<IPython.core.display.HTML object>"
      ]
     },
     "metadata": {},
     "output_type": "display_data"
    }
   ],
   "source": [
    "# formatting\n",
    "import jupyter_black\n",
    "\n",
    "jupyter_black.load(\n",
    "    lab=False,\n",
    ")"
   ]
  },
  {
   "cell_type": "code",
   "execution_count": 2,
   "id": "f71b1069",
   "metadata": {
    "ExecuteTime": {
     "end_time": "2022-09-24T23:36:23.329608Z",
     "start_time": "2022-09-24T23:36:22.081607Z"
    },
    "execution": {
     "iopub.execute_input": "2023-01-14T19:22:12.466634Z",
     "iopub.status.busy": "2023-01-14T19:22:12.465633Z",
     "iopub.status.idle": "2023-01-14T19:22:13.551823Z",
     "shell.execute_reply": "2023-01-14T19:22:13.548892Z"
    },
    "papermill": {
     "duration": 1.103192,
     "end_time": "2023-01-14T19:22:13.557823",
     "exception": false,
     "start_time": "2023-01-14T19:22:12.454631",
     "status": "completed"
    },
    "tags": []
   },
   "outputs": [],
   "source": [
    "# imports\n",
    "\n",
    "import pandas as pd\n",
    "import numpy as np  # for np.nan\n",
    "import os  # for path\n",
    "\n",
    "import yfinance as yf\n",
    "\n",
    "import json\n",
    "\n",
    "from pandas_datareader.quandl import QuandlReader  # data side\n",
    "\n",
    "reload_data = True\n",
    "end_date = \"2030-12-31\""
   ]
  },
  {
   "cell_type": "code",
   "execution_count": 3,
   "id": "d62bf341",
   "metadata": {
    "ExecuteTime": {
     "end_time": "2022-09-24T23:36:23.393605Z",
     "start_time": "2022-09-24T23:36:23.344620Z"
    },
    "execution": {
     "iopub.execute_input": "2023-01-14T19:22:13.581820Z",
     "iopub.status.busy": "2023-01-14T19:22:13.580819Z",
     "iopub.status.idle": "2023-01-14T19:22:13.612821Z",
     "shell.execute_reply": "2023-01-14T19:22:13.610859Z"
    },
    "papermill": {
     "duration": 0.043966,
     "end_time": "2023-01-14T19:22:13.614819",
     "exception": false,
     "start_time": "2023-01-14T19:22:13.570853",
     "status": "completed"
    },
    "tags": []
   },
   "outputs": [],
   "source": [
    "with open(\"data/vars.json\", \"r\") as json_file:\n",
    "    var_dict = json.load(json_file)"
   ]
  },
  {
   "cell_type": "code",
   "execution_count": 4,
   "id": "c6efb470",
   "metadata": {
    "ExecuteTime": {
     "end_time": "2022-09-24T23:36:23.519617Z",
     "start_time": "2022-09-24T23:36:23.400622Z"
    },
    "execution": {
     "iopub.execute_input": "2023-01-14T19:22:13.629818Z",
     "iopub.status.busy": "2023-01-14T19:22:13.629818Z",
     "iopub.status.idle": "2023-01-14T19:22:13.691830Z",
     "shell.execute_reply": "2023-01-14T19:22:13.687892Z"
    },
    "papermill": {
     "duration": 0.076003,
     "end_time": "2023-01-14T19:22:13.697821",
     "exception": false,
     "start_time": "2023-01-14T19:22:13.621818",
     "status": "completed"
    },
    "tags": []
   },
   "outputs": [],
   "source": [
    "# read in raw data\n",
    "### INPUT ###\n",
    "\n",
    "# formatted tradelog\n",
    "trades_filename = \"output/b_completewattr.csv\"\n",
    "df_raw = pd.read_csv(trades_filename)"
   ]
  },
  {
   "cell_type": "markdown",
   "id": "96179ba6",
   "metadata": {
    "papermill": {
     "duration": 0.010001,
     "end_time": "2023-01-14T19:22:13.720826",
     "exception": false,
     "start_time": "2023-01-14T19:22:13.710825",
     "status": "completed"
    },
    "tags": []
   },
   "source": [
    "### Existing Cols with Issues"
   ]
  },
  {
   "cell_type": "code",
   "execution_count": 5,
   "id": "b7a1be26",
   "metadata": {
    "ExecuteTime": {
     "end_time": "2022-09-24T23:36:23.550604Z",
     "start_time": "2022-09-24T23:36:23.524607Z"
    },
    "execution": {
     "iopub.execute_input": "2023-01-14T19:22:13.739832Z",
     "iopub.status.busy": "2023-01-14T19:22:13.738821Z",
     "iopub.status.idle": "2023-01-14T19:22:13.767832Z",
     "shell.execute_reply": "2023-01-14T19:22:13.766881Z"
    },
    "papermill": {
     "duration": 0.039031,
     "end_time": "2023-01-14T19:22:13.769848",
     "exception": false,
     "start_time": "2023-01-14T19:22:13.730817",
     "status": "completed"
    },
    "tags": []
   },
   "outputs": [],
   "source": [
    "existing_err_cols = [\n",
    "    \"AAII_SENT_Date\",\n",
    "    \"AAII_SENT_Bullish\",  ## AAII columns are missing later 2021 and 2022 values\n",
    "    \"AAII_SENT_Neutral\",\n",
    "    \"AAII_SENT_Bearish\",\n",
    "    \"AAII_SENT_Total\",\n",
    "    \"AAII_SENT_Bullish8WeekMovAvg\",\n",
    "    \"AAII_SENT_BullBearSpread\",\n",
    "    \"AAII_SENT_BullishAverage\",\n",
    "    \"AAII_SENT_BullishAverage+StDev\",\n",
    "    \"AAII_SENT_BullishAverageStDev\",\n",
    "    \"AAII_SENT_S&P500WeeklyHigh\",\n",
    "    \"AAII_SENT_S&P500WeeklyLow\",\n",
    "    \"AAII_SENT_S&P500WeeklyClose\",\n",
    "]"
   ]
  },
  {
   "cell_type": "markdown",
   "id": "5fab6fe7",
   "metadata": {
    "papermill": {
     "duration": 0.007995,
     "end_time": "2023-01-14T19:22:13.785820",
     "exception": false,
     "start_time": "2023-01-14T19:22:13.777825",
     "status": "completed"
    },
    "tags": []
   },
   "source": [
    "## pull data from yahoo finance"
   ]
  },
  {
   "cell_type": "code",
   "execution_count": 6,
   "id": "550d176c",
   "metadata": {
    "ExecuteTime": {
     "end_time": "2022-09-24T23:36:27.235603Z",
     "start_time": "2022-09-24T23:36:23.556608Z"
    },
    "execution": {
     "iopub.execute_input": "2023-01-14T19:22:13.800847Z",
     "iopub.status.busy": "2023-01-14T19:22:13.799819Z",
     "iopub.status.idle": "2023-01-14T19:22:16.601545Z",
     "shell.execute_reply": "2023-01-14T19:22:16.600634Z"
    },
    "lines_to_next_cell": 2,
    "papermill": {
     "duration": 2.810719,
     "end_time": "2023-01-14T19:22:16.603572",
     "exception": false,
     "start_time": "2023-01-14T19:22:13.792853",
     "status": "completed"
    },
    "tags": []
   },
   "outputs": [
    {
     "name": "stdout",
     "output_type": "stream",
     "text": [
      "\r",
      "[                       0%                       ]"
     ]
    },
    {
     "name": "stdout",
     "output_type": "stream",
     "text": [
      "\r",
      "[*********************100%***********************]  2 of 2 completed"
     ]
    },
    {
     "name": "stdout",
     "output_type": "stream",
     "text": [
      "\n"
     ]
    },
    {
     "data": {
      "text/html": [
       "<div>\n",
       "<style scoped>\n",
       "    .dataframe tbody tr th:only-of-type {\n",
       "        vertical-align: middle;\n",
       "    }\n",
       "\n",
       "    .dataframe tbody tr th {\n",
       "        vertical-align: top;\n",
       "    }\n",
       "\n",
       "    .dataframe thead th {\n",
       "        text-align: right;\n",
       "    }\n",
       "</style>\n",
       "<table border=\"1\" class=\"dataframe\">\n",
       "  <thead>\n",
       "    <tr style=\"text-align: right;\">\n",
       "      <th></th>\n",
       "      <th>Date</th>\n",
       "      <th>Ticker</th>\n",
       "      <th>Adj Close</th>\n",
       "      <th>Close</th>\n",
       "      <th>High</th>\n",
       "      <th>Low</th>\n",
       "      <th>Open</th>\n",
       "      <th>Volume</th>\n",
       "    </tr>\n",
       "  </thead>\n",
       "  <tbody>\n",
       "    <tr>\n",
       "      <th>0</th>\n",
       "      <td>2010-01-04</td>\n",
       "      <td>^GSPC</td>\n",
       "      <td>1132.989990</td>\n",
       "      <td>1132.989990</td>\n",
       "      <td>1133.869995</td>\n",
       "      <td>1116.560059</td>\n",
       "      <td>1116.560059</td>\n",
       "      <td>3991400000</td>\n",
       "    </tr>\n",
       "    <tr>\n",
       "      <th>1</th>\n",
       "      <td>2010-01-04</td>\n",
       "      <td>^VIX</td>\n",
       "      <td>20.040001</td>\n",
       "      <td>20.040001</td>\n",
       "      <td>21.680000</td>\n",
       "      <td>20.030001</td>\n",
       "      <td>21.680000</td>\n",
       "      <td>0</td>\n",
       "    </tr>\n",
       "    <tr>\n",
       "      <th>2</th>\n",
       "      <td>2010-01-05</td>\n",
       "      <td>^GSPC</td>\n",
       "      <td>1136.520020</td>\n",
       "      <td>1136.520020</td>\n",
       "      <td>1136.630005</td>\n",
       "      <td>1129.660034</td>\n",
       "      <td>1132.660034</td>\n",
       "      <td>2491020000</td>\n",
       "    </tr>\n",
       "    <tr>\n",
       "      <th>3</th>\n",
       "      <td>2010-01-05</td>\n",
       "      <td>^VIX</td>\n",
       "      <td>19.350000</td>\n",
       "      <td>19.350000</td>\n",
       "      <td>20.129999</td>\n",
       "      <td>19.340000</td>\n",
       "      <td>20.049999</td>\n",
       "      <td>0</td>\n",
       "    </tr>\n",
       "    <tr>\n",
       "      <th>4</th>\n",
       "      <td>2010-01-06</td>\n",
       "      <td>^GSPC</td>\n",
       "      <td>1137.140015</td>\n",
       "      <td>1137.140015</td>\n",
       "      <td>1139.189941</td>\n",
       "      <td>1133.949951</td>\n",
       "      <td>1135.709961</td>\n",
       "      <td>4972660000</td>\n",
       "    </tr>\n",
       "  </tbody>\n",
       "</table>\n",
       "</div>"
      ],
      "text/plain": [
       "        Date Ticker    Adj Close        Close         High          Low  \\\n",
       "0 2010-01-04  ^GSPC  1132.989990  1132.989990  1133.869995  1116.560059   \n",
       "1 2010-01-04   ^VIX    20.040001    20.040001    21.680000    20.030001   \n",
       "2 2010-01-05  ^GSPC  1136.520020  1136.520020  1136.630005  1129.660034   \n",
       "3 2010-01-05   ^VIX    19.350000    19.350000    20.129999    19.340000   \n",
       "4 2010-01-06  ^GSPC  1137.140015  1137.140015  1139.189941  1133.949951   \n",
       "\n",
       "          Open      Volume  \n",
       "0  1116.560059  3991400000  \n",
       "1    21.680000           0  \n",
       "2  1132.660034  2491020000  \n",
       "3    20.049999           0  \n",
       "4  1135.709961  4972660000  "
      ]
     },
     "execution_count": 6,
     "metadata": {},
     "output_type": "execute_result"
    }
   ],
   "source": [
    "tickers = [\"^VIX\", \"^GSPC\"]\n",
    "if reload_data:\n",
    "    df_data = yf.download(\n",
    "        \" \".join(tickers), start=\"2010-01-01\", end=end_date, group_by=\"Tickers\"\n",
    "    )\n",
    "    # turn into tabular form\n",
    "    df_data_formatted = (\n",
    "        df_data.stack(level=0).reset_index().rename(columns={\"level_1\": \"Ticker\"})\n",
    "    )\n",
    "    df_data_formatted.to_csv(\"output/c_mktdata.csv\")\n",
    "else:\n",
    "    df_data_formatted = pd.read_csv(\"output/c_mktdata.csv\")\n",
    "\n",
    "df_data_formatted.head()"
   ]
  },
  {
   "cell_type": "code",
   "execution_count": 7,
   "id": "610ade48",
   "metadata": {
    "ExecuteTime": {
     "end_time": "2022-09-24T23:36:27.329604Z",
     "start_time": "2022-09-24T23:36:27.238605Z"
    },
    "execution": {
     "iopub.execute_input": "2023-01-14T19:22:16.628541Z",
     "iopub.status.busy": "2023-01-14T19:22:16.627536Z",
     "iopub.status.idle": "2023-01-14T19:22:16.680092Z",
     "shell.execute_reply": "2023-01-14T19:22:16.678238Z"
    },
    "papermill": {
     "duration": 0.064554,
     "end_time": "2023-01-14T19:22:16.682095",
     "exception": false,
     "start_time": "2023-01-14T19:22:16.617541",
     "status": "completed"
    },
    "tags": []
   },
   "outputs": [
    {
     "data": {
      "text/html": [
       "<div>\n",
       "<style scoped>\n",
       "    .dataframe tbody tr th:only-of-type {\n",
       "        vertical-align: middle;\n",
       "    }\n",
       "\n",
       "    .dataframe tbody tr th {\n",
       "        vertical-align: top;\n",
       "    }\n",
       "\n",
       "    .dataframe thead th {\n",
       "        text-align: right;\n",
       "    }\n",
       "</style>\n",
       "<table border=\"1\" class=\"dataframe\">\n",
       "  <thead>\n",
       "    <tr style=\"text-align: right;\">\n",
       "      <th></th>\n",
       "      <th>Date_YahooFinance</th>\n",
       "      <th>Close_^GSPC</th>\n",
       "      <th>Close_^VIX</th>\n",
       "    </tr>\n",
       "  </thead>\n",
       "  <tbody>\n",
       "    <tr>\n",
       "      <th>0</th>\n",
       "      <td>2010-01-04</td>\n",
       "      <td>1132.989990</td>\n",
       "      <td>20.040001</td>\n",
       "    </tr>\n",
       "    <tr>\n",
       "      <th>1</th>\n",
       "      <td>2010-01-05</td>\n",
       "      <td>1136.520020</td>\n",
       "      <td>19.350000</td>\n",
       "    </tr>\n",
       "    <tr>\n",
       "      <th>2</th>\n",
       "      <td>2010-01-06</td>\n",
       "      <td>1137.140015</td>\n",
       "      <td>19.160000</td>\n",
       "    </tr>\n",
       "    <tr>\n",
       "      <th>3</th>\n",
       "      <td>2010-01-07</td>\n",
       "      <td>1141.689941</td>\n",
       "      <td>19.059999</td>\n",
       "    </tr>\n",
       "    <tr>\n",
       "      <th>4</th>\n",
       "      <td>2010-01-08</td>\n",
       "      <td>1144.979980</td>\n",
       "      <td>18.129999</td>\n",
       "    </tr>\n",
       "  </tbody>\n",
       "</table>\n",
       "</div>"
      ],
      "text/plain": [
       "  Date_YahooFinance  Close_^GSPC  Close_^VIX\n",
       "0        2010-01-04  1132.989990   20.040001\n",
       "1        2010-01-05  1136.520020   19.350000\n",
       "2        2010-01-06  1137.140015   19.160000\n",
       "3        2010-01-07  1141.689941   19.059999\n",
       "4        2010-01-08  1144.979980   18.129999"
      ]
     },
     "execution_count": 7,
     "metadata": {},
     "output_type": "execute_result"
    }
   ],
   "source": [
    "# pivoted\n",
    "\n",
    "df_data_pivot = df_data_formatted.pivot(\n",
    "    index=[\"Date\"],\n",
    "    columns=[\"Ticker\"],\n",
    "    values=[\"Close\"],\n",
    ").reset_index()\n",
    "\n",
    "# to deal with multiindex columns\n",
    "df_data_pivot.columns = [\"_\".join(col).strip() for col in df_data_pivot.columns.values]\n",
    "df_data_pivot.rename(columns={\"Date_\": \"Date_YahooFinance\"}, inplace=True)\n",
    "df_data_pivot[\"Date_YahooFinance\"] = pd.to_datetime(\n",
    "    df_data_pivot[\"Date_YahooFinance\"], errors=\"coerce\"\n",
    ")\n",
    "df_data_pivot.head()"
   ]
  },
  {
   "cell_type": "code",
   "execution_count": 8,
   "id": "4ca9eac2",
   "metadata": {
    "ExecuteTime": {
     "end_time": "2022-09-24T23:39:38.042203Z",
     "start_time": "2022-09-24T23:39:37.995170Z"
    },
    "execution": {
     "iopub.execute_input": "2023-01-14T19:22:16.703102Z",
     "iopub.status.busy": "2023-01-14T19:22:16.703102Z",
     "iopub.status.idle": "2023-01-14T19:22:16.728142Z",
     "shell.execute_reply": "2023-01-14T19:22:16.726120Z"
    },
    "papermill": {
     "duration": 0.041033,
     "end_time": "2023-01-14T19:22:16.730125",
     "exception": false,
     "start_time": "2023-01-14T19:22:16.689092",
     "status": "completed"
    },
    "tags": []
   },
   "outputs": [
    {
     "data": {
      "text/html": [
       "<div>\n",
       "<style scoped>\n",
       "    .dataframe tbody tr th:only-of-type {\n",
       "        vertical-align: middle;\n",
       "    }\n",
       "\n",
       "    .dataframe tbody tr th {\n",
       "        vertical-align: top;\n",
       "    }\n",
       "\n",
       "    .dataframe thead th {\n",
       "        text-align: right;\n",
       "    }\n",
       "</style>\n",
       "<table border=\"1\" class=\"dataframe\">\n",
       "  <thead>\n",
       "    <tr style=\"text-align: right;\">\n",
       "      <th></th>\n",
       "      <th>Date_YahooFinance</th>\n",
       "      <th>Close_^GSPC</th>\n",
       "      <th>Close_^VIX</th>\n",
       "      <th>Close_^GSPC_200MA</th>\n",
       "      <th>SP500from200MA</th>\n",
       "    </tr>\n",
       "  </thead>\n",
       "  <tbody>\n",
       "    <tr>\n",
       "      <th>3276</th>\n",
       "      <td>2023-01-09</td>\n",
       "      <td>3892.090088</td>\n",
       "      <td>21.969999</td>\n",
       "      <td>3993.218715</td>\n",
       "      <td>-0.025325</td>\n",
       "    </tr>\n",
       "    <tr>\n",
       "      <th>3277</th>\n",
       "      <td>2023-01-10</td>\n",
       "      <td>3919.250000</td>\n",
       "      <td>20.580000</td>\n",
       "      <td>3990.214164</td>\n",
       "      <td>-0.017785</td>\n",
       "    </tr>\n",
       "    <tr>\n",
       "      <th>3278</th>\n",
       "      <td>2023-01-11</td>\n",
       "      <td>3969.610107</td>\n",
       "      <td>21.090000</td>\n",
       "      <td>3987.346914</td>\n",
       "      <td>-0.004448</td>\n",
       "    </tr>\n",
       "    <tr>\n",
       "      <th>3279</th>\n",
       "      <td>2023-01-12</td>\n",
       "      <td>3983.169922</td>\n",
       "      <td>18.830000</td>\n",
       "      <td>3984.385164</td>\n",
       "      <td>-0.000305</td>\n",
       "    </tr>\n",
       "    <tr>\n",
       "      <th>3280</th>\n",
       "      <td>2023-01-13</td>\n",
       "      <td>3999.090088</td>\n",
       "      <td>18.350000</td>\n",
       "      <td>3981.222614</td>\n",
       "      <td>0.004488</td>\n",
       "    </tr>\n",
       "  </tbody>\n",
       "</table>\n",
       "</div>"
      ],
      "text/plain": [
       "     Date_YahooFinance  Close_^GSPC  Close_^VIX  Close_^GSPC_200MA  \\\n",
       "3276        2023-01-09  3892.090088   21.969999        3993.218715   \n",
       "3277        2023-01-10  3919.250000   20.580000        3990.214164   \n",
       "3278        2023-01-11  3969.610107   21.090000        3987.346914   \n",
       "3279        2023-01-12  3983.169922   18.830000        3984.385164   \n",
       "3280        2023-01-13  3999.090088   18.350000        3981.222614   \n",
       "\n",
       "      SP500from200MA  \n",
       "3276       -0.025325  \n",
       "3277       -0.017785  \n",
       "3278       -0.004448  \n",
       "3279       -0.000305  \n",
       "3280        0.004488  "
      ]
     },
     "execution_count": 8,
     "metadata": {},
     "output_type": "execute_result"
    }
   ],
   "source": [
    "df_data_pivot[\"Close_^GSPC_200MA\"] = df_data_pivot[\"Close_^GSPC\"].rolling(200).mean()\n",
    "df_data_pivot[\"SP500from200MA\"] = (\n",
    "    df_data_pivot[\"Close_^GSPC\"] - df_data_pivot[\"Close_^GSPC_200MA\"]\n",
    ") / df_data_pivot[\"Close_^GSPC_200MA\"]\n",
    "df_data_pivot.tail()"
   ]
  },
  {
   "cell_type": "code",
   "execution_count": 9,
   "id": "2b522ccd",
   "metadata": {
    "ExecuteTime": {
     "end_time": "2022-09-24T23:39:38.106176Z",
     "start_time": "2022-09-24T23:39:38.048178Z"
    },
    "execution": {
     "iopub.execute_input": "2023-01-14T19:22:16.750095Z",
     "iopub.status.busy": "2023-01-14T19:22:16.749119Z",
     "iopub.status.idle": "2023-01-14T19:22:16.788336Z",
     "shell.execute_reply": "2023-01-14T19:22:16.787406Z"
    },
    "lines_to_next_cell": 2,
    "papermill": {
     "duration": 0.05318,
     "end_time": "2023-01-14T19:22:16.791307",
     "exception": false,
     "start_time": "2023-01-14T19:22:16.738127",
     "status": "completed"
    },
    "tags": []
   },
   "outputs": [],
   "source": [
    "# merge\n",
    "\n",
    "df_source = df_raw.copy(deep=True)\n",
    "\n",
    "df_source[\"Open_Date\"] = pd.to_datetime(df_source[\"Open_Date\"], errors=\"coerce\")\n",
    "\n",
    "\n",
    "# need to sort\n",
    "df_source = df_source.sort_values([\"Open_Date\"])\n",
    "df_data_pivot = df_data_pivot.sort_values([\"Date_YahooFinance\"])\n",
    "\n",
    "df_result = pd.merge_asof(\n",
    "    df_source, df_data_pivot, left_on=[\"Open_Date\"], right_on=[\"Date_YahooFinance\"]\n",
    ")"
   ]
  },
  {
   "cell_type": "markdown",
   "id": "08d5ea97",
   "metadata": {
    "papermill": {
     "duration": 0.006953,
     "end_time": "2023-01-14T19:22:16.805306",
     "exception": false,
     "start_time": "2023-01-14T19:22:16.798353",
     "status": "completed"
    },
    "tags": []
   },
   "source": [
    "### Add Open Year"
   ]
  },
  {
   "cell_type": "code",
   "execution_count": 10,
   "id": "9416c46a",
   "metadata": {
    "ExecuteTime": {
     "end_time": "2022-09-24T23:39:38.138170Z",
     "start_time": "2022-09-24T23:39:38.112171Z"
    },
    "execution": {
     "iopub.execute_input": "2023-01-14T19:22:16.823308Z",
     "iopub.status.busy": "2023-01-14T19:22:16.822322Z",
     "iopub.status.idle": "2023-01-14T19:22:16.834858Z",
     "shell.execute_reply": "2023-01-14T19:22:16.833856Z"
    },
    "papermill": {
     "duration": 0.02359,
     "end_time": "2023-01-14T19:22:16.836896",
     "exception": false,
     "start_time": "2023-01-14T19:22:16.813306",
     "status": "completed"
    },
    "tags": []
   },
   "outputs": [],
   "source": [
    "df_result[\"Open_Year\"] = df_result[\"Open_Date\"].dt.year"
   ]
  },
  {
   "cell_type": "markdown",
   "id": "18fec413",
   "metadata": {
    "papermill": {
     "duration": 0.007951,
     "end_time": "2023-01-14T19:22:16.853860",
     "exception": false,
     "start_time": "2023-01-14T19:22:16.845909",
     "status": "completed"
    },
    "tags": []
   },
   "source": [
    "### Test data"
   ]
  },
  {
   "cell_type": "code",
   "execution_count": 11,
   "id": "dd811c95",
   "metadata": {
    "ExecuteTime": {
     "end_time": "2022-09-24T23:39:38.170177Z",
     "start_time": "2022-09-24T23:39:38.146214Z"
    },
    "execution": {
     "iopub.execute_input": "2023-01-14T19:22:16.874871Z",
     "iopub.status.busy": "2023-01-14T19:22:16.873862Z",
     "iopub.status.idle": "2023-01-14T19:22:16.898860Z",
     "shell.execute_reply": "2023-01-14T19:22:16.897919Z"
    },
    "papermill": {
     "duration": 0.036972,
     "end_time": "2023-01-14T19:22:16.901857",
     "exception": false,
     "start_time": "2023-01-14T19:22:16.864885",
     "status": "completed"
    },
    "scrolled": true,
    "tags": []
   },
   "outputs": [
    {
     "data": {
      "text/plain": [
       "Index(['Unnamed: 0.1', 'Unnamed: 0', 'Open_Date', 'Close_Date', 'Symbol',\n",
       "       'Quantity', 'Pnl', 'OpenAct', 'CloseAct', 'Open_Price', 'Close_Price',\n",
       "       'Comm_Tot', 'DATE', 'ACTION', 'QTYCHG', 'PRICE', 'TIME', 'UNNAMED: 6',\n",
       "       'COMMISSION', 'UNNAMED: 8', 'CASH CHG (PNL)', 'COMMENTS', 'PCTRETURN',\n",
       "       'DETAILS', 'STARTDATE', 'COMPANY NAME (IN ALPHABETICAL ORDER)',\n",
       "       'TICKER', 'STOP', '% TO STOP', 'CURRENT PRICE', '% TO TARGET',\n",
       "       'AT PRICE', 'TARGET', 'EPS1', 'EPS2', 'FYEND', 'DAYSTOFYEND',\n",
       "       'FYEPSNXT', 'GROWTH*0.5TO0.75', 'ROIC (BW ROA ROE)', 'TGT FWD P/E',\n",
       "       'YEARS TO NORMALIZATION', 'LASTUPDATED', 'CATEGORY', 'COMMENTS.1',\n",
       "       'FILENAME', 'DayOfWeek0Mon', 'Date_YahooFinance', 'Close_^GSPC',\n",
       "       'Close_^VIX', 'Close_^GSPC_200MA', 'SP500from200MA', 'Open_Year'],\n",
       "      dtype='object')"
      ]
     },
     "execution_count": 11,
     "metadata": {},
     "output_type": "execute_result"
    }
   ],
   "source": [
    "df_result.columns"
   ]
  },
  {
   "cell_type": "code",
   "execution_count": 12,
   "id": "9605bd81",
   "metadata": {
    "ExecuteTime": {
     "end_time": "2022-09-24T23:39:40.036173Z",
     "start_time": "2022-09-24T23:39:38.178172Z"
    },
    "execution": {
     "iopub.execute_input": "2023-01-14T19:22:16.959445Z",
     "iopub.status.busy": "2023-01-14T19:22:16.959445Z",
     "iopub.status.idle": "2023-01-14T19:22:18.597539Z",
     "shell.execute_reply": "2023-01-14T19:22:18.597306Z"
    },
    "lines_to_next_cell": 2,
    "papermill": {
     "duration": 1.689724,
     "end_time": "2023-01-14T19:22:18.599581",
     "exception": false,
     "start_time": "2023-01-14T19:22:16.909857",
     "status": "completed"
    },
    "tags": []
   },
   "outputs": [
    {
     "data": {
      "image/png": "[encoded data removed]",
      "text/plain": [
       "<Figure size 432x288 with 1 Axes>"
      ]
     },
     "metadata": {
      "needs_background": "light"
     },
     "output_type": "display_data"
    },
    {
     "data": {
      "image/png": "[encoded data removed]",
      "text/plain": [
       "<Figure size 432x288 with 1 Axes>"
      ]
     },
     "metadata": {
      "needs_background": "light"
     },
     "output_type": "display_data"
    }
   ],
   "source": [
    "for symbol in tickers:\n",
    "    temp_df = pd.pivot_table(\n",
    "        df_result,\n",
    "        index=[\"Open_Year\"],\n",
    "        values=\"Close_\" + symbol,\n",
    "        aggfunc=\"mean\",\n",
    "        dropna=False,\n",
    "    )\n",
    "    temp_df.plot()\n",
    "\n",
    "    assert min(temp_df[\"Close_\" + symbol]) > 0, \"values should all be above zero\""
   ]
  },
  {
   "cell_type": "markdown",
   "id": "63f8ac7e",
   "metadata": {
    "papermill": {
     "duration": 0.009985,
     "end_time": "2023-01-14T19:22:18.621547",
     "exception": false,
     "start_time": "2023-01-14T19:22:18.611562",
     "status": "completed"
    },
    "tags": []
   },
   "source": [
    "## pull data from Quandl  / Nasdaq Data Link\n",
    "1. log in is from [Nasdaq data link](https://docs.data.nasdaq.com/docs/python-installation)"
   ]
  },
  {
   "cell_type": "code",
   "execution_count": 13,
   "id": "fa3c76d3",
   "metadata": {
    "ExecuteTime": {
     "end_time": "2022-09-24T23:39:40.083174Z",
     "start_time": "2022-09-24T23:39:40.042171Z"
    },
    "execution": {
     "iopub.execute_input": "2023-01-14T19:22:18.638587Z",
     "iopub.status.busy": "2023-01-14T19:22:18.637548Z",
     "iopub.status.idle": "2023-01-14T19:22:18.661644Z",
     "shell.execute_reply": "2023-01-14T19:22:18.659675Z"
    },
    "papermill": {
     "duration": 0.034092,
     "end_time": "2023-01-14T19:22:18.663675",
     "exception": false,
     "start_time": "2023-01-14T19:22:18.629583",
     "status": "completed"
    },
    "tags": []
   },
   "outputs": [],
   "source": [
    "externalvar_dict = {\n",
    "    #     \"AAII/AAII_SENTIMENT\": \"AAII_SENT\",  ## aaii sentiment looks like it ends 4/2021\n",
    "    \"UMICH/SOC1\": \"CONS_SENT\",  # consumer sentiment\n",
    "    #     \"FED/RIMLPAAAR_N_B\": \"FED_AAACORP\",  ## daily Fed AAA rates #TODO ned to fix different timeframes\n",
    "}"
   ]
  },
  {
   "cell_type": "code",
   "execution_count": 14,
   "id": "5e83a9cb",
   "metadata": {
    "ExecuteTime": {
     "end_time": "2022-09-24T23:39:40.114171Z",
     "start_time": "2022-09-24T23:39:40.097195Z"
    },
    "execution": {
     "iopub.execute_input": "2023-01-14T19:22:18.681641Z",
     "iopub.status.busy": "2023-01-14T19:22:18.681641Z",
     "iopub.status.idle": "2023-01-14T19:22:18.693090Z",
     "shell.execute_reply": "2023-01-14T19:22:18.691092Z"
    },
    "papermill": {
     "duration": 0.025479,
     "end_time": "2023-01-14T19:22:18.696121",
     "exception": false,
     "start_time": "2023-01-14T19:22:18.670642",
     "status": "completed"
    },
    "tags": []
   },
   "outputs": [],
   "source": [
    "# for later\n",
    "# import nasdaqdatalink\n",
    "\n",
    "# NASDAQ_DATA_LINK_API_KEY = var_dict[\"NASDAQ_DATA_LINK_API_KEY\"]\n",
    "# data = nasdaqdatalink.get(\"AAII/AAII_SENTIMENT\", start_date=\"2015-01-01\", end_date=\"2030-12-31\")"
   ]
  },
  {
   "cell_type": "code",
   "execution_count": 15,
   "id": "67de48b6",
   "metadata": {
    "ExecuteTime": {
     "end_time": "2022-09-24T23:39:40.676168Z",
     "start_time": "2022-09-24T23:39:40.118174Z"
    },
    "execution": {
     "iopub.execute_input": "2023-01-14T19:22:18.715089Z",
     "iopub.status.busy": "2023-01-14T19:22:18.715089Z",
     "iopub.status.idle": "2023-01-14T19:22:19.222975Z",
     "shell.execute_reply": "2023-01-14T19:22:19.221112Z"
    },
    "lines_to_next_cell": 2,
    "papermill": {
     "duration": 0.521863,
     "end_time": "2023-01-14T19:22:19.225973",
     "exception": false,
     "start_time": "2023-01-14T19:22:18.704110",
     "status": "completed"
    },
    "tags": []
   },
   "outputs": [],
   "source": [
    "if reload_data:\n",
    "\n",
    "    #     df_varlist = []\n",
    "\n",
    "    for variable, value in externalvar_dict.items():\n",
    "\n",
    "        quandl_key = var_dict[\"QUANDL_API\"]\n",
    "\n",
    "        QR = QuandlReader(variable, api_key=quandl_key, start=\"1/1/2015\", end=end_date)\n",
    "\n",
    "        QR_df = QR.read().reset_index()\n",
    "\n",
    "        QR_df.columns = [\n",
    "            value + \"_\" + str(col)  # if col.upper() != \"DATE\" else col\n",
    "            for col in QR_df.columns\n",
    "        ]\n",
    "\n",
    "        #         df_varlist.append(QR_df)\n",
    "\n",
    "        # merge Quandl\n",
    "        QR_df_sorted = QR_df.sort_values([f\"{value}_Date\"])\n",
    "        QR_df_sorted[\"Date\"] = pd.to_datetime(QR_df[f\"{value}_Date\"], errors=\"coerce\")\n",
    "\n",
    "        # add iteratively\n",
    "        df_result = pd.merge_asof(\n",
    "            df_result,\n",
    "            QR_df_sorted,\n",
    "            left_on=[\"Open_Date\"],\n",
    "            right_on=[f\"{value}_Date\"],\n",
    "            direction=\"backward\",  # can't see forward\n",
    "        )\n",
    "\n",
    "        #     QR_df = pd.concat(\n",
    "        #         [df.set_index(\"Date\") for df in df_varlist], axis=1, join=\"outer\"\n",
    "        #     ).reset_index()\n",
    "        QR_df.to_csv(f\"output/c_quandl_{value}.csv\")\n",
    "else:\n",
    "    for variable, value in externalvar_dict.items():\n",
    "\n",
    "        QR_df = pd.read_csv(f\"output/c_quandl_{value}.csv\")\n",
    "\n",
    "        # merge Quandl\n",
    "        QR_df_sorted = QR_df.sort_values([\"Date\"])\n",
    "        QR_df_sorted[\"Date\"] = pd.to_datetime(QR_df[f\"{value}_Date\"], errors=\"coerce\")\n",
    "\n",
    "        df_result = pd.merge_asof(\n",
    "            df_result,\n",
    "            QR_df_sorted,\n",
    "            left_on=[\"Open_Date\"],\n",
    "            right_on=[f\"{value}_Date\"],\n",
    "            direction=\"backward\",  # can't see forward\n",
    "        )"
   ]
  },
  {
   "cell_type": "code",
   "execution_count": 16,
   "id": "e2b4ce90",
   "metadata": {
    "ExecuteTime": {
     "end_time": "2022-09-24T23:39:40.739170Z",
     "start_time": "2022-09-24T23:39:40.681173Z"
    },
    "execution": {
     "iopub.execute_input": "2023-01-14T19:22:19.250980Z",
     "iopub.status.busy": "2023-01-14T19:22:19.250003Z",
     "iopub.status.idle": "2023-01-14T19:22:19.299012Z",
     "shell.execute_reply": "2023-01-14T19:22:19.298070Z"
    },
    "papermill": {
     "duration": 0.063035,
     "end_time": "2023-01-14T19:22:19.301008",
     "exception": false,
     "start_time": "2023-01-14T19:22:19.237973",
     "status": "completed"
    },
    "tags": []
   },
   "outputs": [
    {
     "data": {
      "text/html": [
       "<div>\n",
       "<style scoped>\n",
       "    .dataframe tbody tr th:only-of-type {\n",
       "        vertical-align: middle;\n",
       "    }\n",
       "\n",
       "    .dataframe tbody tr th {\n",
       "        vertical-align: top;\n",
       "    }\n",
       "\n",
       "    .dataframe thead th {\n",
       "        text-align: right;\n",
       "    }\n",
       "</style>\n",
       "<table border=\"1\" class=\"dataframe\">\n",
       "  <thead>\n",
       "    <tr style=\"text-align: right;\">\n",
       "      <th></th>\n",
       "      <th>Unnamed: 0.1</th>\n",
       "      <th>Unnamed: 0</th>\n",
       "      <th>Open_Date</th>\n",
       "      <th>Close_Date</th>\n",
       "      <th>Symbol</th>\n",
       "      <th>Quantity</th>\n",
       "      <th>Pnl</th>\n",
       "      <th>OpenAct</th>\n",
       "      <th>CloseAct</th>\n",
       "      <th>Open_Price</th>\n",
       "      <th>...</th>\n",
       "      <th>DayOfWeek0Mon</th>\n",
       "      <th>Date_YahooFinance</th>\n",
       "      <th>Close_^GSPC</th>\n",
       "      <th>Close_^VIX</th>\n",
       "      <th>Close_^GSPC_200MA</th>\n",
       "      <th>SP500from200MA</th>\n",
       "      <th>Open_Year</th>\n",
       "      <th>CONS_SENT_Date</th>\n",
       "      <th>CONS_SENT_Index</th>\n",
       "      <th>Date</th>\n",
       "    </tr>\n",
       "  </thead>\n",
       "  <tbody>\n",
       "    <tr>\n",
       "      <th>0</th>\n",
       "      <td>0</td>\n",
       "      <td>0</td>\n",
       "      <td>2015-06-30</td>\n",
       "      <td>2016-01-07 11:12:44</td>\n",
       "      <td>AER</td>\n",
       "      <td>600.0</td>\n",
       "      <td>-4851.23</td>\n",
       "      <td>B</td>\n",
       "      <td>S</td>\n",
       "      <td>46.972120</td>\n",
       "      <td>...</td>\n",
       "      <td>1.0</td>\n",
       "      <td>2015-06-30</td>\n",
       "      <td>2063.110107</td>\n",
       "      <td>18.23</td>\n",
       "      <td>2053.895403</td>\n",
       "      <td>0.004486</td>\n",
       "      <td>2015</td>\n",
       "      <td>2015-06-30</td>\n",
       "      <td>96.1</td>\n",
       "      <td>2015-06-30</td>\n",
       "    </tr>\n",
       "    <tr>\n",
       "      <th>1</th>\n",
       "      <td>62</td>\n",
       "      <td>14</td>\n",
       "      <td>2015-06-30</td>\n",
       "      <td>2016-01-07 14:17:08</td>\n",
       "      <td>FNMAS</td>\n",
       "      <td>2000.0</td>\n",
       "      <td>-3810.12</td>\n",
       "      <td>B</td>\n",
       "      <td>S</td>\n",
       "      <td>5.071132</td>\n",
       "      <td>...</td>\n",
       "      <td>3.0</td>\n",
       "      <td>2015-06-30</td>\n",
       "      <td>2063.110107</td>\n",
       "      <td>18.23</td>\n",
       "      <td>2053.895403</td>\n",
       "      <td>0.004486</td>\n",
       "      <td>2015</td>\n",
       "      <td>2015-06-30</td>\n",
       "      <td>96.1</td>\n",
       "      <td>2015-06-30</td>\n",
       "    </tr>\n",
       "    <tr>\n",
       "      <th>2</th>\n",
       "      <td>61</td>\n",
       "      <td>22</td>\n",
       "      <td>2015-06-30</td>\n",
       "      <td>2016-01-08 14:24:59</td>\n",
       "      <td>AR</td>\n",
       "      <td>500.0</td>\n",
       "      <td>-322.00</td>\n",
       "      <td>S</td>\n",
       "      <td>B</td>\n",
       "      <td>21.952429</td>\n",
       "      <td>...</td>\n",
       "      <td>NaN</td>\n",
       "      <td>2015-06-30</td>\n",
       "      <td>2063.110107</td>\n",
       "      <td>18.23</td>\n",
       "      <td>2053.895403</td>\n",
       "      <td>0.004486</td>\n",
       "      <td>2015</td>\n",
       "      <td>2015-06-30</td>\n",
       "      <td>96.1</td>\n",
       "      <td>2015-06-30</td>\n",
       "    </tr>\n",
       "    <tr>\n",
       "      <th>3</th>\n",
       "      <td>60</td>\n",
       "      <td>653</td>\n",
       "      <td>2015-06-30</td>\n",
       "      <td>2016-08-11 11:02:04</td>\n",
       "      <td>ENH</td>\n",
       "      <td>75.0</td>\n",
       "      <td>-41.61</td>\n",
       "      <td>B</td>\n",
       "      <td>S</td>\n",
       "      <td>66.956667</td>\n",
       "      <td>...</td>\n",
       "      <td>4.0</td>\n",
       "      <td>2015-06-30</td>\n",
       "      <td>2063.110107</td>\n",
       "      <td>18.23</td>\n",
       "      <td>2053.895403</td>\n",
       "      <td>0.004486</td>\n",
       "      <td>2015</td>\n",
       "      <td>2015-06-30</td>\n",
       "      <td>96.1</td>\n",
       "      <td>2015-06-30</td>\n",
       "    </tr>\n",
       "    <tr>\n",
       "      <th>4</th>\n",
       "      <td>59</td>\n",
       "      <td>64</td>\n",
       "      <td>2015-06-30</td>\n",
       "      <td>2016-01-20 15:22:41</td>\n",
       "      <td>VALE</td>\n",
       "      <td>8000.0</td>\n",
       "      <td>6677.80</td>\n",
       "      <td>S</td>\n",
       "      <td>B</td>\n",
       "      <td>3.184507</td>\n",
       "      <td>...</td>\n",
       "      <td>1.0</td>\n",
       "      <td>2015-06-30</td>\n",
       "      <td>2063.110107</td>\n",
       "      <td>18.23</td>\n",
       "      <td>2053.895403</td>\n",
       "      <td>0.004486</td>\n",
       "      <td>2015</td>\n",
       "      <td>2015-06-30</td>\n",
       "      <td>96.1</td>\n",
       "      <td>2015-06-30</td>\n",
       "    </tr>\n",
       "  </tbody>\n",
       "</table>\n",
       "<p>5 rows × 56 columns</p>\n",
       "</div>"
      ],
      "text/plain": [
       "   Unnamed: 0.1  Unnamed: 0  Open_Date           Close_Date Symbol  Quantity  \\\n",
       "0             0           0 2015-06-30  2016-01-07 11:12:44    AER     600.0   \n",
       "1            62          14 2015-06-30  2016-01-07 14:17:08  FNMAS    2000.0   \n",
       "2            61          22 2015-06-30  2016-01-08 14:24:59     AR     500.0   \n",
       "3            60         653 2015-06-30  2016-08-11 11:02:04    ENH      75.0   \n",
       "4            59          64 2015-06-30  2016-01-20 15:22:41   VALE    8000.0   \n",
       "\n",
       "       Pnl OpenAct CloseAct  Open_Price  ...  DayOfWeek0Mon  \\\n",
       "0 -4851.23       B        S   46.972120  ...            1.0   \n",
       "1 -3810.12       B        S    5.071132  ...            3.0   \n",
       "2  -322.00       S        B   21.952429  ...            NaN   \n",
       "3   -41.61       B        S   66.956667  ...            4.0   \n",
       "4  6677.80       S        B    3.184507  ...            1.0   \n",
       "\n",
       "   Date_YahooFinance  Close_^GSPC Close_^VIX  Close_^GSPC_200MA  \\\n",
       "0         2015-06-30  2063.110107      18.23        2053.895403   \n",
       "1         2015-06-30  2063.110107      18.23        2053.895403   \n",
       "2         2015-06-30  2063.110107      18.23        2053.895403   \n",
       "3         2015-06-30  2063.110107      18.23        2053.895403   \n",
       "4         2015-06-30  2063.110107      18.23        2053.895403   \n",
       "\n",
       "   SP500from200MA Open_Year CONS_SENT_Date  CONS_SENT_Index       Date  \n",
       "0        0.004486      2015     2015-06-30             96.1 2015-06-30  \n",
       "1        0.004486      2015     2015-06-30             96.1 2015-06-30  \n",
       "2        0.004486      2015     2015-06-30             96.1 2015-06-30  \n",
       "3        0.004486      2015     2015-06-30             96.1 2015-06-30  \n",
       "4        0.004486      2015     2015-06-30             96.1 2015-06-30  \n",
       "\n",
       "[5 rows x 56 columns]"
      ]
     },
     "execution_count": 16,
     "metadata": {},
     "output_type": "execute_result"
    }
   ],
   "source": [
    "df_result.head()"
   ]
  },
  {
   "cell_type": "code",
   "execution_count": 17,
   "id": "659eedb2",
   "metadata": {
    "ExecuteTime": {
     "end_time": "2022-09-24T23:39:41.327171Z",
     "start_time": "2022-09-24T23:39:40.746172Z"
    },
    "execution": {
     "iopub.execute_input": "2023-01-14T19:22:19.319985Z",
     "iopub.status.busy": "2023-01-14T19:22:19.318999Z",
     "iopub.status.idle": "2023-01-14T19:22:19.691480Z",
     "shell.execute_reply": "2023-01-14T19:22:19.689506Z"
    },
    "lines_to_next_cell": 2,
    "papermill": {
     "duration": 0.386504,
     "end_time": "2023-01-14T19:22:19.695476",
     "exception": false,
     "start_time": "2023-01-14T19:22:19.308972",
     "status": "completed"
    },
    "scrolled": true,
    "tags": []
   },
   "outputs": [
    {
     "data": {
      "image/png": "[encoded data removed]",
      "text/plain": [
       "<Figure size 432x288 with 1 Axes>"
      ]
     },
     "metadata": {
      "needs_background": "light"
     },
     "output_type": "display_data"
    },
    {
     "data": {
      "image/png": "[encoded data removed]",
      "text/plain": [
       "<Figure size 432x288 with 1 Axes>"
      ]
     },
     "metadata": {
      "needs_background": "light"
     },
     "output_type": "display_data"
    }
   ],
   "source": [
    "cols_with_errors = []\n",
    "\n",
    "for variable, value in externalvar_dict.items():\n",
    "    for c in df_result.columns:\n",
    "        if value in c:\n",
    "            temp_df = pd.pivot_table(\n",
    "                df_result, index=[\"Open_Year\"], values=c, aggfunc=\"mean\", dropna=False\n",
    "            )\n",
    "            temp_df.plot()\n",
    "\n",
    "            try:\n",
    "                assert sum(temp_df[c].isna()) == 0, \"values should all be filled\"\n",
    "            except:\n",
    "                cols_with_errors.append(c)"
   ]
  },
  {
   "cell_type": "code",
   "execution_count": 18,
   "id": "d54cfc89",
   "metadata": {
    "ExecuteTime": {
     "end_time": "2022-09-24T23:39:41.358172Z",
     "start_time": "2022-09-24T23:39:41.332171Z"
    },
    "execution": {
     "iopub.execute_input": "2023-01-14T19:22:19.720476Z",
     "iopub.status.busy": "2023-01-14T19:22:19.719480Z",
     "iopub.status.idle": "2023-01-14T19:22:19.736476Z",
     "shell.execute_reply": "2023-01-14T19:22:19.735514Z"
    },
    "papermill": {
     "duration": 0.031521,
     "end_time": "2023-01-14T19:22:19.740005",
     "exception": false,
     "start_time": "2023-01-14T19:22:19.708484",
     "status": "completed"
    },
    "scrolled": false,
    "tags": []
   },
   "outputs": [
    {
     "data": {
      "text/plain": [
       "[]"
      ]
     },
     "execution_count": 18,
     "metadata": {},
     "output_type": "execute_result"
    }
   ],
   "source": [
    "cols_with_errors"
   ]
  },
  {
   "cell_type": "code",
   "execution_count": 19,
   "id": "e275ff63",
   "metadata": {
    "ExecuteTime": {
     "end_time": "2022-09-24T23:39:41.388180Z",
     "start_time": "2022-09-24T23:39:41.365195Z"
    },
    "execution": {
     "iopub.execute_input": "2023-01-14T19:22:19.762020Z",
     "iopub.status.busy": "2023-01-14T19:22:19.761015Z",
     "iopub.status.idle": "2023-01-14T19:22:19.783016Z",
     "shell.execute_reply": "2023-01-14T19:22:19.781018Z"
    },
    "papermill": {
     "duration": 0.037004,
     "end_time": "2023-01-14T19:22:19.786017",
     "exception": false,
     "start_time": "2023-01-14T19:22:19.749013",
     "status": "completed"
    },
    "tags": []
   },
   "outputs": [
    {
     "data": {
      "text/html": [
       "<div>\n",
       "<style scoped>\n",
       "    .dataframe tbody tr th:only-of-type {\n",
       "        vertical-align: middle;\n",
       "    }\n",
       "\n",
       "    .dataframe tbody tr th {\n",
       "        vertical-align: top;\n",
       "    }\n",
       "\n",
       "    .dataframe thead th {\n",
       "        text-align: right;\n",
       "    }\n",
       "</style>\n",
       "<table border=\"1\" class=\"dataframe\">\n",
       "  <thead>\n",
       "    <tr style=\"text-align: right;\">\n",
       "      <th></th>\n",
       "      <th>CONS_SENT_Index</th>\n",
       "    </tr>\n",
       "    <tr>\n",
       "      <th>Open_Year</th>\n",
       "      <th></th>\n",
       "    </tr>\n",
       "  </thead>\n",
       "  <tbody>\n",
       "    <tr>\n",
       "      <th>2015</th>\n",
       "      <td>96.100000</td>\n",
       "    </tr>\n",
       "    <tr>\n",
       "      <th>2016</th>\n",
       "      <td>91.770485</td>\n",
       "    </tr>\n",
       "    <tr>\n",
       "      <th>2017</th>\n",
       "      <td>97.055612</td>\n",
       "    </tr>\n",
       "    <tr>\n",
       "      <th>2018</th>\n",
       "      <td>98.464423</td>\n",
       "    </tr>\n",
       "    <tr>\n",
       "      <th>2019</th>\n",
       "      <td>95.436578</td>\n",
       "    </tr>\n",
       "    <tr>\n",
       "      <th>2020</th>\n",
       "      <td>81.655116</td>\n",
       "    </tr>\n",
       "    <tr>\n",
       "      <th>2021</th>\n",
       "      <td>78.435652</td>\n",
       "    </tr>\n",
       "    <tr>\n",
       "      <th>2022</th>\n",
       "      <td>60.448276</td>\n",
       "    </tr>\n",
       "  </tbody>\n",
       "</table>\n",
       "</div>"
      ],
      "text/plain": [
       "           CONS_SENT_Index\n",
       "Open_Year                 \n",
       "2015             96.100000\n",
       "2016             91.770485\n",
       "2017             97.055612\n",
       "2018             98.464423\n",
       "2019             95.436578\n",
       "2020             81.655116\n",
       "2021             78.435652\n",
       "2022             60.448276"
      ]
     },
     "execution_count": 19,
     "metadata": {},
     "output_type": "execute_result"
    }
   ],
   "source": [
    "temp_df"
   ]
  },
  {
   "cell_type": "code",
   "execution_count": 20,
   "id": "2234af2f",
   "metadata": {
    "ExecuteTime": {
     "end_time": "2022-09-24T23:39:41.434170Z",
     "start_time": "2022-09-24T23:39:41.400190Z"
    },
    "execution": {
     "iopub.execute_input": "2023-01-14T19:22:19.808015Z",
     "iopub.status.busy": "2023-01-14T19:22:19.807028Z",
     "iopub.status.idle": "2023-01-14T19:22:19.828012Z",
     "shell.execute_reply": "2023-01-14T19:22:19.827012Z"
    },
    "papermill": {
     "duration": 0.032999,
     "end_time": "2023-01-14T19:22:19.830014",
     "exception": false,
     "start_time": "2023-01-14T19:22:19.797015",
     "status": "completed"
    },
    "tags": []
   },
   "outputs": [],
   "source": [
    "# check diff\n",
    "assert len(set(cols_with_errors).difference(set(existing_err_cols))) == 0, \"new errors\""
   ]
  },
  {
   "cell_type": "markdown",
   "id": "d363f99a",
   "metadata": {
    "papermill": {
     "duration": 0.009,
     "end_time": "2023-01-14T19:22:19.853019",
     "exception": false,
     "start_time": "2023-01-14T19:22:19.844019",
     "status": "completed"
    },
    "tags": []
   },
   "source": [
    "## Pull AAII Sentiment Data\n",
    "Source: https://www.aaii.com/sentimentsurvey/sent_results"
   ]
  },
  {
   "cell_type": "code",
   "execution_count": 21,
   "id": "69d5463c",
   "metadata": {
    "ExecuteTime": {
     "end_time": "2022-09-24T23:39:41.810168Z",
     "start_time": "2022-09-24T23:39:41.437172Z"
    },
    "execution": {
     "iopub.execute_input": "2023-01-14T19:22:19.877015Z",
     "iopub.status.busy": "2023-01-14T19:22:19.877015Z",
     "iopub.status.idle": "2023-01-14T19:22:20.058932Z",
     "shell.execute_reply": "2023-01-14T19:22:20.057929Z"
    },
    "papermill": {
     "duration": 0.197944,
     "end_time": "2023-01-14T19:22:20.063961",
     "exception": false,
     "start_time": "2023-01-14T19:22:19.866017",
     "status": "completed"
    },
    "tags": []
   },
   "outputs": [],
   "source": [
    "df_aaii = pd.read_excel(f\"data\\sentiment.xls\", header=[1, 2, 3])"
   ]
  },
  {
   "cell_type": "code",
   "execution_count": 22,
   "id": "ca7241c5",
   "metadata": {
    "ExecuteTime": {
     "end_time": "2022-09-24T23:39:41.858172Z",
     "start_time": "2022-09-24T23:39:41.816171Z"
    },
    "execution": {
     "iopub.execute_input": "2023-01-14T19:22:20.090933Z",
     "iopub.status.busy": "2023-01-14T19:22:20.089930Z",
     "iopub.status.idle": "2023-01-14T19:22:20.120064Z",
     "shell.execute_reply": "2023-01-14T19:22:20.119087Z"
    },
    "papermill": {
     "duration": 0.044075,
     "end_time": "2023-01-14T19:22:20.122038",
     "exception": false,
     "start_time": "2023-01-14T19:22:20.077963",
     "status": "completed"
    },
    "tags": []
   },
   "outputs": [
    {
     "data": {
      "text/html": [
       "<div>\n",
       "<style scoped>\n",
       "    .dataframe tbody tr th:only-of-type {\n",
       "        vertical-align: middle;\n",
       "    }\n",
       "\n",
       "    .dataframe tbody tr th {\n",
       "        vertical-align: top;\n",
       "    }\n",
       "\n",
       "    .dataframe thead tr th {\n",
       "        text-align: left;\n",
       "    }\n",
       "</style>\n",
       "<table border=\"1\" class=\"dataframe\">\n",
       "  <thead>\n",
       "    <tr>\n",
       "      <th></th>\n",
       "      <th>Unnamed: 0_level_0</th>\n",
       "      <th>Unnamed: 1_level_0</th>\n",
       "      <th>Unnamed: 2_level_0</th>\n",
       "      <th>Unnamed: 3_level_0</th>\n",
       "      <th>Unnamed: 4_level_0</th>\n",
       "      <th colspan=\"5\" halign=\"left\">Bullish</th>\n",
       "      <th colspan=\"3\" halign=\"left\">S&amp;P 500</th>\n",
       "    </tr>\n",
       "    <tr>\n",
       "      <th></th>\n",
       "      <th>Reported</th>\n",
       "      <th>Reported</th>\n",
       "      <th>Reported</th>\n",
       "      <th>Reported</th>\n",
       "      <th>Reported</th>\n",
       "      <th>8-week</th>\n",
       "      <th>Bull-Bear</th>\n",
       "      <th>Bullish</th>\n",
       "      <th colspan=\"2\" halign=\"left\">Average</th>\n",
       "      <th colspan=\"3\" halign=\"left\">Weekly</th>\n",
       "    </tr>\n",
       "    <tr>\n",
       "      <th></th>\n",
       "      <th>Date</th>\n",
       "      <th>Bullish</th>\n",
       "      <th>Neutral</th>\n",
       "      <th>Bearish</th>\n",
       "      <th>Total</th>\n",
       "      <th>Mov Avg</th>\n",
       "      <th>Spread</th>\n",
       "      <th>Average</th>\n",
       "      <th>+St. Dev.</th>\n",
       "      <th>- St. Dev.</th>\n",
       "      <th>High</th>\n",
       "      <th>Low</th>\n",
       "      <th>Close</th>\n",
       "    </tr>\n",
       "  </thead>\n",
       "  <tbody>\n",
       "    <tr>\n",
       "      <th>0</th>\n",
       "      <td>NaN</td>\n",
       "      <td>NaN</td>\n",
       "      <td>NaN</td>\n",
       "      <td>NaN</td>\n",
       "      <td>NaN</td>\n",
       "      <td>NaN</td>\n",
       "      <td>NaN</td>\n",
       "      <td>NaN</td>\n",
       "      <td>NaN</td>\n",
       "      <td>NaN</td>\n",
       "      <td>NaN</td>\n",
       "      <td>NaN</td>\n",
       "      <td>NaN</td>\n",
       "    </tr>\n",
       "    <tr>\n",
       "      <th>1</th>\n",
       "      <td>1987-06-26 00:00:00</td>\n",
       "      <td>NaN</td>\n",
       "      <td>NaN</td>\n",
       "      <td>NaN</td>\n",
       "      <td>NaN</td>\n",
       "      <td>NaN</td>\n",
       "      <td>NaN</td>\n",
       "      <td>0.377495</td>\n",
       "      <td>0.478443</td>\n",
       "      <td>0.276547</td>\n",
       "      <td>NaN</td>\n",
       "      <td>NaN</td>\n",
       "      <td>NaN</td>\n",
       "    </tr>\n",
       "    <tr>\n",
       "      <th>2</th>\n",
       "      <td>1987-07-17 00:00:00</td>\n",
       "      <td>NaN</td>\n",
       "      <td>NaN</td>\n",
       "      <td>NaN</td>\n",
       "      <td>NaN</td>\n",
       "      <td>NaN</td>\n",
       "      <td>NaN</td>\n",
       "      <td>0.377495</td>\n",
       "      <td>0.478443</td>\n",
       "      <td>0.276547</td>\n",
       "      <td>314.59</td>\n",
       "      <td>307.63</td>\n",
       "      <td>314.59</td>\n",
       "    </tr>\n",
       "    <tr>\n",
       "      <th>3</th>\n",
       "      <td>1987-07-24 00:00:00</td>\n",
       "      <td>0.36</td>\n",
       "      <td>0.50</td>\n",
       "      <td>0.14</td>\n",
       "      <td>1.0</td>\n",
       "      <td>NaN</td>\n",
       "      <td>0.22</td>\n",
       "      <td>0.377495</td>\n",
       "      <td>0.478443</td>\n",
       "      <td>0.276547</td>\n",
       "      <td>311.39</td>\n",
       "      <td>307.81</td>\n",
       "      <td>309.27</td>\n",
       "    </tr>\n",
       "    <tr>\n",
       "      <th>4</th>\n",
       "      <td>1987-07-31 00:00:00</td>\n",
       "      <td>0.26</td>\n",
       "      <td>0.48</td>\n",
       "      <td>0.26</td>\n",
       "      <td>1.0</td>\n",
       "      <td>NaN</td>\n",
       "      <td>0.00</td>\n",
       "      <td>0.377495</td>\n",
       "      <td>0.478443</td>\n",
       "      <td>0.276547</td>\n",
       "      <td>318.66</td>\n",
       "      <td>310.65</td>\n",
       "      <td>318.66</td>\n",
       "    </tr>\n",
       "  </tbody>\n",
       "</table>\n",
       "</div>"
      ],
      "text/plain": [
       "    Unnamed: 0_level_0 Unnamed: 1_level_0 Unnamed: 2_level_0  \\\n",
       "              Reported           Reported           Reported   \n",
       "                  Date            Bullish            Neutral   \n",
       "0                  NaN                NaN                NaN   \n",
       "1  1987-06-26 00:00:00                NaN                NaN   \n",
       "2  1987-07-17 00:00:00                NaN                NaN   \n",
       "3  1987-07-24 00:00:00               0.36               0.50   \n",
       "4  1987-07-31 00:00:00               0.26               0.48   \n",
       "\n",
       "  Unnamed: 3_level_0 Unnamed: 4_level_0 Bullish                                \\\n",
       "            Reported           Reported  8-week Bull-Bear   Bullish   Average   \n",
       "             Bearish              Total Mov Avg    Spread   Average +St. Dev.   \n",
       "0                NaN                NaN     NaN       NaN       NaN       NaN   \n",
       "1                NaN                NaN     NaN       NaN  0.377495  0.478443   \n",
       "2                NaN                NaN     NaN       NaN  0.377495  0.478443   \n",
       "3               0.14                1.0     NaN      0.22  0.377495  0.478443   \n",
       "4               0.26                1.0     NaN      0.00  0.377495  0.478443   \n",
       "\n",
       "             S&P 500                  \n",
       "              Weekly                  \n",
       "  - St. Dev.    High     Low   Close  \n",
       "0        NaN     NaN     NaN     NaN  \n",
       "1   0.276547     NaN     NaN     NaN  \n",
       "2   0.276547  314.59  307.63  314.59  \n",
       "3   0.276547  311.39  307.81  309.27  \n",
       "4   0.276547  318.66  310.65  318.66  "
      ]
     },
     "execution_count": 22,
     "metadata": {},
     "output_type": "execute_result"
    }
   ],
   "source": [
    "df_aaii.head()"
   ]
  },
  {
   "cell_type": "code",
   "execution_count": 23,
   "id": "0d80cedf",
   "metadata": {
    "ExecuteTime": {
     "end_time": "2022-09-24T23:39:41.922172Z",
     "start_time": "2022-09-24T23:39:41.862172Z"
    },
    "execution": {
     "iopub.execute_input": "2023-01-14T19:22:20.142868Z",
     "iopub.status.busy": "2023-01-14T19:22:20.141860Z",
     "iopub.status.idle": "2023-01-14T19:22:20.166859Z",
     "shell.execute_reply": "2023-01-14T19:22:20.165864Z"
    },
    "papermill": {
     "duration": 0.037822,
     "end_time": "2023-01-14T19:22:20.168861",
     "exception": false,
     "start_time": "2023-01-14T19:22:20.131039",
     "status": "completed"
    },
    "scrolled": true,
    "tags": []
   },
   "outputs": [
    {
     "data": {
      "text/html": [
       "<div>\n",
       "<style scoped>\n",
       "    .dataframe tbody tr th:only-of-type {\n",
       "        vertical-align: middle;\n",
       "    }\n",
       "\n",
       "    .dataframe tbody tr th {\n",
       "        vertical-align: top;\n",
       "    }\n",
       "\n",
       "    .dataframe thead tr th {\n",
       "        text-align: left;\n",
       "    }\n",
       "</style>\n",
       "<table border=\"1\" class=\"dataframe\">\n",
       "  <thead>\n",
       "    <tr>\n",
       "      <th></th>\n",
       "      <th>Unnamed: 0_level_0</th>\n",
       "      <th>Unnamed: 1_level_0</th>\n",
       "      <th>Unnamed: 2_level_0</th>\n",
       "      <th>Unnamed: 3_level_0</th>\n",
       "      <th>Unnamed: 4_level_0</th>\n",
       "      <th colspan=\"5\" halign=\"left\">Bullish</th>\n",
       "      <th colspan=\"3\" halign=\"left\">S&amp;P 500</th>\n",
       "    </tr>\n",
       "    <tr>\n",
       "      <th></th>\n",
       "      <th>Reported</th>\n",
       "      <th>Reported</th>\n",
       "      <th>Reported</th>\n",
       "      <th>Reported</th>\n",
       "      <th>Reported</th>\n",
       "      <th>8-week</th>\n",
       "      <th>Bull-Bear</th>\n",
       "      <th>Bullish</th>\n",
       "      <th colspan=\"2\" halign=\"left\">Average</th>\n",
       "      <th colspan=\"3\" halign=\"left\">Weekly</th>\n",
       "    </tr>\n",
       "    <tr>\n",
       "      <th></th>\n",
       "      <th>Date</th>\n",
       "      <th>Bullish</th>\n",
       "      <th>Neutral</th>\n",
       "      <th>Bearish</th>\n",
       "      <th>Total</th>\n",
       "      <th>Mov Avg</th>\n",
       "      <th>Spread</th>\n",
       "      <th>Average</th>\n",
       "      <th>+St. Dev.</th>\n",
       "      <th>- St. Dev.</th>\n",
       "      <th>High</th>\n",
       "      <th>Low</th>\n",
       "      <th>Close</th>\n",
       "    </tr>\n",
       "  </thead>\n",
       "  <tbody>\n",
       "    <tr>\n",
       "      <th>2023</th>\n",
       "      <td>Count '17</td>\n",
       "      <td>52.0</td>\n",
       "      <td>52.0</td>\n",
       "      <td>52.0</td>\n",
       "      <td>NaN</td>\n",
       "      <td>52.0</td>\n",
       "      <td>52.0</td>\n",
       "      <td>NaN</td>\n",
       "      <td>NaN</td>\n",
       "      <td>NaN</td>\n",
       "      <td>52.0</td>\n",
       "      <td>52.0</td>\n",
       "      <td>52.0</td>\n",
       "    </tr>\n",
       "    <tr>\n",
       "      <th>2024</th>\n",
       "      <td>Count '18</td>\n",
       "      <td>52.0</td>\n",
       "      <td>52.0</td>\n",
       "      <td>52.0</td>\n",
       "      <td>NaN</td>\n",
       "      <td>52.0</td>\n",
       "      <td>52.0</td>\n",
       "      <td>NaN</td>\n",
       "      <td>NaN</td>\n",
       "      <td>NaN</td>\n",
       "      <td>52.0</td>\n",
       "      <td>52.0</td>\n",
       "      <td>52.0</td>\n",
       "    </tr>\n",
       "    <tr>\n",
       "      <th>2025</th>\n",
       "      <td>Count '19</td>\n",
       "      <td>52.0</td>\n",
       "      <td>52.0</td>\n",
       "      <td>52.0</td>\n",
       "      <td>NaN</td>\n",
       "      <td>52.0</td>\n",
       "      <td>52.0</td>\n",
       "      <td>NaN</td>\n",
       "      <td>NaN</td>\n",
       "      <td>NaN</td>\n",
       "      <td>52.0</td>\n",
       "      <td>52.0</td>\n",
       "      <td>52.0</td>\n",
       "    </tr>\n",
       "    <tr>\n",
       "      <th>2026</th>\n",
       "      <td>Count '20</td>\n",
       "      <td>53.0</td>\n",
       "      <td>53.0</td>\n",
       "      <td>53.0</td>\n",
       "      <td>NaN</td>\n",
       "      <td>53.0</td>\n",
       "      <td>53.0</td>\n",
       "      <td>NaN</td>\n",
       "      <td>NaN</td>\n",
       "      <td>NaN</td>\n",
       "      <td>53.0</td>\n",
       "      <td>53.0</td>\n",
       "      <td>53.0</td>\n",
       "    </tr>\n",
       "    <tr>\n",
       "      <th>2027</th>\n",
       "      <td>Count '21</td>\n",
       "      <td>51.0</td>\n",
       "      <td>51.0</td>\n",
       "      <td>51.0</td>\n",
       "      <td>NaN</td>\n",
       "      <td>51.0</td>\n",
       "      <td>51.0</td>\n",
       "      <td>NaN</td>\n",
       "      <td>NaN</td>\n",
       "      <td>NaN</td>\n",
       "      <td>51.0</td>\n",
       "      <td>51.0</td>\n",
       "      <td>51.0</td>\n",
       "    </tr>\n",
       "  </tbody>\n",
       "</table>\n",
       "</div>"
      ],
      "text/plain": [
       "     Unnamed: 0_level_0 Unnamed: 1_level_0 Unnamed: 2_level_0  \\\n",
       "               Reported           Reported           Reported   \n",
       "                   Date            Bullish            Neutral   \n",
       "2023          Count '17               52.0               52.0   \n",
       "2024          Count '18               52.0               52.0   \n",
       "2025          Count '19               52.0               52.0   \n",
       "2026          Count '20               53.0               53.0   \n",
       "2027          Count '21               51.0               51.0   \n",
       "\n",
       "     Unnamed: 3_level_0 Unnamed: 4_level_0 Bullish                    \\\n",
       "               Reported           Reported  8-week Bull-Bear Bullish   \n",
       "                Bearish              Total Mov Avg    Spread Average   \n",
       "2023               52.0                NaN    52.0      52.0     NaN   \n",
       "2024               52.0                NaN    52.0      52.0     NaN   \n",
       "2025               52.0                NaN    52.0      52.0     NaN   \n",
       "2026               53.0                NaN    53.0      53.0     NaN   \n",
       "2027               51.0                NaN    51.0      51.0     NaN   \n",
       "\n",
       "                          S&P 500              \n",
       "       Average             Weekly              \n",
       "     +St. Dev. - St. Dev.    High   Low Close  \n",
       "2023       NaN        NaN    52.0  52.0  52.0  \n",
       "2024       NaN        NaN    52.0  52.0  52.0  \n",
       "2025       NaN        NaN    52.0  52.0  52.0  \n",
       "2026       NaN        NaN    53.0  53.0  53.0  \n",
       "2027       NaN        NaN    51.0  51.0  51.0  "
      ]
     },
     "execution_count": 23,
     "metadata": {},
     "output_type": "execute_result"
    }
   ],
   "source": [
    "df_aaii.tail()"
   ]
  },
  {
   "cell_type": "code",
   "execution_count": 24,
   "id": "97d88822",
   "metadata": {
    "ExecuteTime": {
     "end_time": "2022-09-24T23:39:41.954172Z",
     "start_time": "2022-09-24T23:39:41.926179Z"
    },
    "execution": {
     "iopub.execute_input": "2023-01-14T19:22:20.193870Z",
     "iopub.status.busy": "2023-01-14T19:22:20.191865Z",
     "iopub.status.idle": "2023-01-14T19:22:20.213901Z",
     "shell.execute_reply": "2023-01-14T19:22:20.212933Z"
    },
    "papermill": {
     "duration": 0.035989,
     "end_time": "2023-01-14T19:22:20.215892",
     "exception": false,
     "start_time": "2023-01-14T19:22:20.179903",
     "status": "completed"
    },
    "tags": []
   },
   "outputs": [
    {
     "data": {
      "text/plain": [
       "['0_level_0_Reported_Date',\n",
       " '1_level_0_Reported_Bullish',\n",
       " '2_level_0_Reported_Neutral',\n",
       " '3_level_0_Reported_Bearish',\n",
       " '4_level_0_Reported_Total',\n",
       " 'Bullish_8-week_Mov Avg',\n",
       " 'Bullish_Bull-Bear_Spread',\n",
       " 'Bullish_Bullish_Average',\n",
       " 'Bullish_Average_+St. Dev.',\n",
       " 'Bullish_Average_- St. Dev.',\n",
       " 'S&P 500_Weekly_High',\n",
       " 'S&P 500_Weekly_Low',\n",
       " 'S&P 500_Weekly_Close']"
      ]
     },
     "execution_count": 24,
     "metadata": {},
     "output_type": "execute_result"
    }
   ],
   "source": [
    "# squeeze multilevel columns to one\n",
    "col_list = list(df_aaii.columns.map(\"_\".join))\n",
    "col_list = [s.replace(\"Unnamed: \", \"\") for s in col_list]\n",
    "col_list"
   ]
  },
  {
   "cell_type": "code",
   "execution_count": 25,
   "id": "b9e81c7c",
   "metadata": {
    "ExecuteTime": {
     "end_time": "2022-09-24T23:39:41.986173Z",
     "start_time": "2022-09-24T23:39:41.959183Z"
    },
    "execution": {
     "iopub.execute_input": "2023-01-14T19:22:20.239942Z",
     "iopub.status.busy": "2023-01-14T19:22:20.239881Z",
     "iopub.status.idle": "2023-01-14T19:22:20.259690Z",
     "shell.execute_reply": "2023-01-14T19:22:20.258736Z"
    },
    "papermill": {
     "duration": 0.036803,
     "end_time": "2023-01-14T19:22:20.261659",
     "exception": false,
     "start_time": "2023-01-14T19:22:20.224856",
     "status": "completed"
    },
    "scrolled": true,
    "tags": []
   },
   "outputs": [
    {
     "data": {
      "text/plain": [
       "Index(['0_level_0_Reported_Date', '1_level_0_Reported_Bullish',\n",
       "       '2_level_0_Reported_Neutral', '3_level_0_Reported_Bearish',\n",
       "       '4_level_0_Reported_Total', 'Bullish_8-week_Mov Avg',\n",
       "       'Bullish_Bull-Bear_Spread', 'Bullish_Bullish_Average',\n",
       "       'Bullish_Average_+St. Dev.', 'Bullish_Average_- St. Dev.',\n",
       "       'S&P 500_Weekly_High', 'S&P 500_Weekly_Low', 'S&P 500_Weekly_Close'],\n",
       "      dtype='object')"
      ]
     },
     "execution_count": 25,
     "metadata": {},
     "output_type": "execute_result"
    }
   ],
   "source": [
    "df_aaii.columns = col_list\n",
    "df_aaii.columns"
   ]
  },
  {
   "cell_type": "code",
   "execution_count": 26,
   "id": "ae003eb0",
   "metadata": {
    "ExecuteTime": {
     "end_time": "2022-09-24T23:39:42.033173Z",
     "start_time": "2022-09-24T23:39:41.992178Z"
    },
    "execution": {
     "iopub.execute_input": "2023-01-14T19:22:20.285392Z",
     "iopub.status.busy": "2023-01-14T19:22:20.285392Z",
     "iopub.status.idle": "2023-01-14T19:22:20.306712Z",
     "shell.execute_reply": "2023-01-14T19:22:20.304709Z"
    },
    "papermill": {
     "duration": 0.03833,
     "end_time": "2023-01-14T19:22:20.309710",
     "exception": false,
     "start_time": "2023-01-14T19:22:20.271380",
     "status": "completed"
    },
    "tags": []
   },
   "outputs": [],
   "source": [
    "# save only those with dates\n",
    "saved_idx = ~pd.to_datetime(df_aaii[\"0_level_0_Reported_Date\"], errors=\"coerce\").isna()"
   ]
  },
  {
   "cell_type": "code",
   "execution_count": 27,
   "id": "34bbdbc8",
   "metadata": {
    "ExecuteTime": {
     "start_time": "2022-09-24T23:40:07.709Z"
    },
    "execution": {
     "iopub.execute_input": "2023-01-14T19:22:20.333727Z",
     "iopub.status.busy": "2023-01-14T19:22:20.333727Z",
     "iopub.status.idle": "2023-01-14T19:22:20.369646Z",
     "shell.execute_reply": "2023-01-14T19:22:20.368808Z"
    },
    "papermill": {
     "duration": 0.050902,
     "end_time": "2023-01-14T19:22:20.372643",
     "exception": false,
     "start_time": "2023-01-14T19:22:20.321741",
     "status": "completed"
    },
    "scrolled": true,
    "tags": []
   },
   "outputs": [
    {
     "data": {
      "text/html": [
       "<div>\n",
       "<style scoped>\n",
       "    .dataframe tbody tr th:only-of-type {\n",
       "        vertical-align: middle;\n",
       "    }\n",
       "\n",
       "    .dataframe tbody tr th {\n",
       "        vertical-align: top;\n",
       "    }\n",
       "\n",
       "    .dataframe thead th {\n",
       "        text-align: right;\n",
       "    }\n",
       "</style>\n",
       "<table border=\"1\" class=\"dataframe\">\n",
       "  <thead>\n",
       "    <tr style=\"text-align: right;\">\n",
       "      <th></th>\n",
       "      <th>0_level_0_Reported_Date</th>\n",
       "      <th>1_level_0_Reported_Bullish</th>\n",
       "      <th>2_level_0_Reported_Neutral</th>\n",
       "      <th>3_level_0_Reported_Bearish</th>\n",
       "      <th>4_level_0_Reported_Total</th>\n",
       "      <th>Bullish_8-week_Mov Avg</th>\n",
       "      <th>Bullish_Bull-Bear_Spread</th>\n",
       "      <th>Bullish_Bullish_Average</th>\n",
       "      <th>Bullish_Average_+St. Dev.</th>\n",
       "      <th>Bullish_Average_- St. Dev.</th>\n",
       "      <th>S&amp;P 500_Weekly_High</th>\n",
       "      <th>S&amp;P 500_Weekly_Low</th>\n",
       "      <th>S&amp;P 500_Weekly_Close</th>\n",
       "      <th>Date</th>\n",
       "    </tr>\n",
       "  </thead>\n",
       "  <tbody>\n",
       "    <tr>\n",
       "      <th>1</th>\n",
       "      <td>1987-06-26 00:00:00</td>\n",
       "      <td>NaN</td>\n",
       "      <td>NaN</td>\n",
       "      <td>NaN</td>\n",
       "      <td>NaN</td>\n",
       "      <td>NaN</td>\n",
       "      <td>NaN</td>\n",
       "      <td>0.377495</td>\n",
       "      <td>0.478443</td>\n",
       "      <td>0.276547</td>\n",
       "      <td>NaN</td>\n",
       "      <td>NaN</td>\n",
       "      <td>NaN</td>\n",
       "      <td>1987-06-26</td>\n",
       "    </tr>\n",
       "    <tr>\n",
       "      <th>2</th>\n",
       "      <td>1987-07-17 00:00:00</td>\n",
       "      <td>NaN</td>\n",
       "      <td>NaN</td>\n",
       "      <td>NaN</td>\n",
       "      <td>NaN</td>\n",
       "      <td>NaN</td>\n",
       "      <td>NaN</td>\n",
       "      <td>0.377495</td>\n",
       "      <td>0.478443</td>\n",
       "      <td>0.276547</td>\n",
       "      <td>314.59</td>\n",
       "      <td>307.63</td>\n",
       "      <td>314.59</td>\n",
       "      <td>1987-07-17</td>\n",
       "    </tr>\n",
       "    <tr>\n",
       "      <th>3</th>\n",
       "      <td>1987-07-24 00:00:00</td>\n",
       "      <td>0.36</td>\n",
       "      <td>0.50</td>\n",
       "      <td>0.14</td>\n",
       "      <td>1.0</td>\n",
       "      <td>NaN</td>\n",
       "      <td>0.22</td>\n",
       "      <td>0.377495</td>\n",
       "      <td>0.478443</td>\n",
       "      <td>0.276547</td>\n",
       "      <td>311.39</td>\n",
       "      <td>307.81</td>\n",
       "      <td>309.27</td>\n",
       "      <td>1987-07-24</td>\n",
       "    </tr>\n",
       "    <tr>\n",
       "      <th>4</th>\n",
       "      <td>1987-07-31 00:00:00</td>\n",
       "      <td>0.26</td>\n",
       "      <td>0.48</td>\n",
       "      <td>0.26</td>\n",
       "      <td>1.0</td>\n",
       "      <td>NaN</td>\n",
       "      <td>0.00</td>\n",
       "      <td>0.377495</td>\n",
       "      <td>0.478443</td>\n",
       "      <td>0.276547</td>\n",
       "      <td>318.66</td>\n",
       "      <td>310.65</td>\n",
       "      <td>318.66</td>\n",
       "      <td>1987-07-31</td>\n",
       "    </tr>\n",
       "    <tr>\n",
       "      <th>5</th>\n",
       "      <td>1987-08-07 00:00:00</td>\n",
       "      <td>0.56</td>\n",
       "      <td>0.15</td>\n",
       "      <td>0.29</td>\n",
       "      <td>1.0</td>\n",
       "      <td>NaN</td>\n",
       "      <td>0.27</td>\n",
       "      <td>0.377495</td>\n",
       "      <td>0.478443</td>\n",
       "      <td>0.276547</td>\n",
       "      <td>323.00</td>\n",
       "      <td>316.23</td>\n",
       "      <td>323.00</td>\n",
       "      <td>1987-08-07</td>\n",
       "    </tr>\n",
       "  </tbody>\n",
       "</table>\n",
       "</div>"
      ],
      "text/plain": [
       "  0_level_0_Reported_Date  1_level_0_Reported_Bullish  \\\n",
       "1     1987-06-26 00:00:00                         NaN   \n",
       "2     1987-07-17 00:00:00                         NaN   \n",
       "3     1987-07-24 00:00:00                        0.36   \n",
       "4     1987-07-31 00:00:00                        0.26   \n",
       "5     1987-08-07 00:00:00                        0.56   \n",
       "\n",
       "   2_level_0_Reported_Neutral  3_level_0_Reported_Bearish  \\\n",
       "1                         NaN                         NaN   \n",
       "2                         NaN                         NaN   \n",
       "3                        0.50                        0.14   \n",
       "4                        0.48                        0.26   \n",
       "5                        0.15                        0.29   \n",
       "\n",
       "   4_level_0_Reported_Total  Bullish_8-week_Mov Avg  Bullish_Bull-Bear_Spread  \\\n",
       "1                       NaN                     NaN                       NaN   \n",
       "2                       NaN                     NaN                       NaN   \n",
       "3                       1.0                     NaN                      0.22   \n",
       "4                       1.0                     NaN                      0.00   \n",
       "5                       1.0                     NaN                      0.27   \n",
       "\n",
       "   Bullish_Bullish_Average  Bullish_Average_+St. Dev.  \\\n",
       "1                 0.377495                   0.478443   \n",
       "2                 0.377495                   0.478443   \n",
       "3                 0.377495                   0.478443   \n",
       "4                 0.377495                   0.478443   \n",
       "5                 0.377495                   0.478443   \n",
       "\n",
       "   Bullish_Average_- St. Dev.  S&P 500_Weekly_High  S&P 500_Weekly_Low  \\\n",
       "1                    0.276547                  NaN                 NaN   \n",
       "2                    0.276547               314.59              307.63   \n",
       "3                    0.276547               311.39              307.81   \n",
       "4                    0.276547               318.66              310.65   \n",
       "5                    0.276547               323.00              316.23   \n",
       "\n",
       "   S&P 500_Weekly_Close       Date  \n",
       "1                   NaN 1987-06-26  \n",
       "2                314.59 1987-07-17  \n",
       "3                309.27 1987-07-24  \n",
       "4                318.66 1987-07-31  \n",
       "5                323.00 1987-08-07  "
      ]
     },
     "execution_count": 27,
     "metadata": {},
     "output_type": "execute_result"
    }
   ],
   "source": [
    "# final usable\n",
    "df_aaii = df_aaii.loc[saved_idx]\n",
    "df_aaii[\"Date\"] = pd.to_datetime(df_aaii[\"0_level_0_Reported_Date\"])\n",
    "df_aaii.head()"
   ]
  },
  {
   "cell_type": "code",
   "execution_count": 28,
   "id": "33c03403",
   "metadata": {
    "ExecuteTime": {
     "start_time": "2022-09-24T23:40:07.714Z"
    },
    "execution": {
     "iopub.execute_input": "2023-01-14T19:22:20.434678Z",
     "iopub.status.busy": "2023-01-14T19:22:20.434678Z",
     "iopub.status.idle": "2023-01-14T19:22:20.493647Z",
     "shell.execute_reply": "2023-01-14T19:22:20.492649Z"
    },
    "papermill": {
     "duration": 0.073999,
     "end_time": "2023-01-14T19:22:20.496642",
     "exception": false,
     "start_time": "2023-01-14T19:22:20.422643",
     "status": "completed"
    },
    "tags": []
   },
   "outputs": [
    {
     "data": {
      "text/html": [
       "<div>\n",
       "<style scoped>\n",
       "    .dataframe tbody tr th:only-of-type {\n",
       "        vertical-align: middle;\n",
       "    }\n",
       "\n",
       "    .dataframe tbody tr th {\n",
       "        vertical-align: top;\n",
       "    }\n",
       "\n",
       "    .dataframe thead th {\n",
       "        text-align: right;\n",
       "    }\n",
       "</style>\n",
       "<table border=\"1\" class=\"dataframe\">\n",
       "  <thead>\n",
       "    <tr style=\"text-align: right;\">\n",
       "      <th></th>\n",
       "      <th>Unnamed: 0.1</th>\n",
       "      <th>Unnamed: 0</th>\n",
       "      <th>Open_Date</th>\n",
       "      <th>Close_Date</th>\n",
       "      <th>Symbol</th>\n",
       "      <th>Quantity</th>\n",
       "      <th>Pnl</th>\n",
       "      <th>OpenAct</th>\n",
       "      <th>CloseAct</th>\n",
       "      <th>Open_Price</th>\n",
       "      <th>...</th>\n",
       "      <th>AAII_4_level_0_Reported_Total</th>\n",
       "      <th>AAII_Bullish_8-week_Mov Avg</th>\n",
       "      <th>AAII_Bullish_Bull-Bear_Spread</th>\n",
       "      <th>AAII_Bullish_Bullish_Average</th>\n",
       "      <th>AAII_Bullish_Average_+St. Dev.</th>\n",
       "      <th>AAII_Bullish_Average_- St. Dev.</th>\n",
       "      <th>AAII_S&amp;P 500_Weekly_High</th>\n",
       "      <th>AAII_S&amp;P 500_Weekly_Low</th>\n",
       "      <th>AAII_S&amp;P 500_Weekly_Close</th>\n",
       "      <th>AAII_Date</th>\n",
       "    </tr>\n",
       "  </thead>\n",
       "  <tbody>\n",
       "    <tr>\n",
       "      <th>0</th>\n",
       "      <td>0</td>\n",
       "      <td>0</td>\n",
       "      <td>2015-06-30</td>\n",
       "      <td>2016-01-07 11:12:44</td>\n",
       "      <td>AER</td>\n",
       "      <td>600.0</td>\n",
       "      <td>-4851.23</td>\n",
       "      <td>B</td>\n",
       "      <td>S</td>\n",
       "      <td>46.972120</td>\n",
       "      <td>...</td>\n",
       "      <td>1.000001</td>\n",
       "      <td>0.267945</td>\n",
       "      <td>0.138889</td>\n",
       "      <td>0.377495</td>\n",
       "      <td>0.478443</td>\n",
       "      <td>0.276547</td>\n",
       "      <td>2129.87</td>\n",
       "      <td>2082.1</td>\n",
       "      <td>2108.58</td>\n",
       "      <td>2015-06-25</td>\n",
       "    </tr>\n",
       "    <tr>\n",
       "      <th>1</th>\n",
       "      <td>62</td>\n",
       "      <td>14</td>\n",
       "      <td>2015-06-30</td>\n",
       "      <td>2016-01-07 14:17:08</td>\n",
       "      <td>FNMAS</td>\n",
       "      <td>2000.0</td>\n",
       "      <td>-3810.12</td>\n",
       "      <td>B</td>\n",
       "      <td>S</td>\n",
       "      <td>5.071132</td>\n",
       "      <td>...</td>\n",
       "      <td>1.000001</td>\n",
       "      <td>0.267945</td>\n",
       "      <td>0.138889</td>\n",
       "      <td>0.377495</td>\n",
       "      <td>0.478443</td>\n",
       "      <td>0.276547</td>\n",
       "      <td>2129.87</td>\n",
       "      <td>2082.1</td>\n",
       "      <td>2108.58</td>\n",
       "      <td>2015-06-25</td>\n",
       "    </tr>\n",
       "    <tr>\n",
       "      <th>2</th>\n",
       "      <td>61</td>\n",
       "      <td>22</td>\n",
       "      <td>2015-06-30</td>\n",
       "      <td>2016-01-08 14:24:59</td>\n",
       "      <td>AR</td>\n",
       "      <td>500.0</td>\n",
       "      <td>-322.00</td>\n",
       "      <td>S</td>\n",
       "      <td>B</td>\n",
       "      <td>21.952429</td>\n",
       "      <td>...</td>\n",
       "      <td>1.000001</td>\n",
       "      <td>0.267945</td>\n",
       "      <td>0.138889</td>\n",
       "      <td>0.377495</td>\n",
       "      <td>0.478443</td>\n",
       "      <td>0.276547</td>\n",
       "      <td>2129.87</td>\n",
       "      <td>2082.1</td>\n",
       "      <td>2108.58</td>\n",
       "      <td>2015-06-25</td>\n",
       "    </tr>\n",
       "    <tr>\n",
       "      <th>3</th>\n",
       "      <td>60</td>\n",
       "      <td>653</td>\n",
       "      <td>2015-06-30</td>\n",
       "      <td>2016-08-11 11:02:04</td>\n",
       "      <td>ENH</td>\n",
       "      <td>75.0</td>\n",
       "      <td>-41.61</td>\n",
       "      <td>B</td>\n",
       "      <td>S</td>\n",
       "      <td>66.956667</td>\n",
       "      <td>...</td>\n",
       "      <td>1.000001</td>\n",
       "      <td>0.267945</td>\n",
       "      <td>0.138889</td>\n",
       "      <td>0.377495</td>\n",
       "      <td>0.478443</td>\n",
       "      <td>0.276547</td>\n",
       "      <td>2129.87</td>\n",
       "      <td>2082.1</td>\n",
       "      <td>2108.58</td>\n",
       "      <td>2015-06-25</td>\n",
       "    </tr>\n",
       "    <tr>\n",
       "      <th>4</th>\n",
       "      <td>59</td>\n",
       "      <td>64</td>\n",
       "      <td>2015-06-30</td>\n",
       "      <td>2016-01-20 15:22:41</td>\n",
       "      <td>VALE</td>\n",
       "      <td>8000.0</td>\n",
       "      <td>6677.80</td>\n",
       "      <td>S</td>\n",
       "      <td>B</td>\n",
       "      <td>3.184507</td>\n",
       "      <td>...</td>\n",
       "      <td>1.000001</td>\n",
       "      <td>0.267945</td>\n",
       "      <td>0.138889</td>\n",
       "      <td>0.377495</td>\n",
       "      <td>0.478443</td>\n",
       "      <td>0.276547</td>\n",
       "      <td>2129.87</td>\n",
       "      <td>2082.1</td>\n",
       "      <td>2108.58</td>\n",
       "      <td>2015-06-25</td>\n",
       "    </tr>\n",
       "  </tbody>\n",
       "</table>\n",
       "<p>5 rows × 70 columns</p>\n",
       "</div>"
      ],
      "text/plain": [
       "   Unnamed: 0.1  Unnamed: 0  Open_Date           Close_Date Symbol  Quantity  \\\n",
       "0             0           0 2015-06-30  2016-01-07 11:12:44    AER     600.0   \n",
       "1            62          14 2015-06-30  2016-01-07 14:17:08  FNMAS    2000.0   \n",
       "2            61          22 2015-06-30  2016-01-08 14:24:59     AR     500.0   \n",
       "3            60         653 2015-06-30  2016-08-11 11:02:04    ENH      75.0   \n",
       "4            59          64 2015-06-30  2016-01-20 15:22:41   VALE    8000.0   \n",
       "\n",
       "       Pnl OpenAct CloseAct  Open_Price  ...  AAII_4_level_0_Reported_Total  \\\n",
       "0 -4851.23       B        S   46.972120  ...                       1.000001   \n",
       "1 -3810.12       B        S    5.071132  ...                       1.000001   \n",
       "2  -322.00       S        B   21.952429  ...                       1.000001   \n",
       "3   -41.61       B        S   66.956667  ...                       1.000001   \n",
       "4  6677.80       S        B    3.184507  ...                       1.000001   \n",
       "\n",
       "   AAII_Bullish_8-week_Mov Avg AAII_Bullish_Bull-Bear_Spread  \\\n",
       "0                     0.267945                      0.138889   \n",
       "1                     0.267945                      0.138889   \n",
       "2                     0.267945                      0.138889   \n",
       "3                     0.267945                      0.138889   \n",
       "4                     0.267945                      0.138889   \n",
       "\n",
       "  AAII_Bullish_Bullish_Average  AAII_Bullish_Average_+St. Dev.  \\\n",
       "0                     0.377495                        0.478443   \n",
       "1                     0.377495                        0.478443   \n",
       "2                     0.377495                        0.478443   \n",
       "3                     0.377495                        0.478443   \n",
       "4                     0.377495                        0.478443   \n",
       "\n",
       "   AAII_Bullish_Average_- St. Dev. AAII_S&P 500_Weekly_High  \\\n",
       "0                         0.276547                  2129.87   \n",
       "1                         0.276547                  2129.87   \n",
       "2                         0.276547                  2129.87   \n",
       "3                         0.276547                  2129.87   \n",
       "4                         0.276547                  2129.87   \n",
       "\n",
       "  AAII_S&P 500_Weekly_Low  AAII_S&P 500_Weekly_Close  AAII_Date  \n",
       "0                  2082.1                    2108.58 2015-06-25  \n",
       "1                  2082.1                    2108.58 2015-06-25  \n",
       "2                  2082.1                    2108.58 2015-06-25  \n",
       "3                  2082.1                    2108.58 2015-06-25  \n",
       "4                  2082.1                    2108.58 2015-06-25  \n",
       "\n",
       "[5 rows x 70 columns]"
      ]
     },
     "execution_count": 28,
     "metadata": {},
     "output_type": "execute_result"
    }
   ],
   "source": [
    "df_aaii_sorted = df_aaii.sort_values([\"0_level_0_Reported_Date\"])\n",
    "df_aaii_sorted.columns = [\"AAII_\" + c for c in df_aaii_sorted.columns]\n",
    "df_result = pd.merge_asof(\n",
    "    df_result,\n",
    "    df_aaii_sorted,\n",
    "    left_on=[\"Open_Date\"],\n",
    "    right_on=[f\"AAII_Date\"],\n",
    "    direction=\"backward\",\n",
    ")\n",
    "df_result.head()"
   ]
  },
  {
   "cell_type": "markdown",
   "id": "6d223f76",
   "metadata": {
    "papermill": {
     "duration": 0.010054,
     "end_time": "2023-01-14T19:22:20.518699",
     "exception": false,
     "start_time": "2023-01-14T19:22:20.508645",
     "status": "completed"
    },
    "tags": []
   },
   "source": [
    "## Final Checks"
   ]
  },
  {
   "cell_type": "code",
   "execution_count": 29,
   "id": "aad59578",
   "metadata": {
    "ExecuteTime": {
     "start_time": "2022-09-24T23:40:07.718Z"
    },
    "execution": {
     "iopub.execute_input": "2023-01-14T19:22:20.544680Z",
     "iopub.status.busy": "2023-01-14T19:22:20.544680Z",
     "iopub.status.idle": "2023-01-14T19:22:20.557643Z",
     "shell.execute_reply": "2023-01-14T19:22:20.556645Z"
    },
    "papermill": {
     "duration": 0.027964,
     "end_time": "2023-01-14T19:22:20.559644",
     "exception": false,
     "start_time": "2023-01-14T19:22:20.531680",
     "status": "completed"
    },
    "tags": []
   },
   "outputs": [
    {
     "data": {
      "text/plain": [
       "Series([], Name: 0, dtype: object)"
      ]
     },
     "execution_count": 29,
     "metadata": {},
     "output_type": "execute_result"
    }
   ],
   "source": [
    "df_result.loc[0, df_result.columns.duplicated()]"
   ]
  },
  {
   "cell_type": "code",
   "execution_count": 30,
   "id": "ff1979d8",
   "metadata": {
    "ExecuteTime": {
     "start_time": "2022-09-24T23:40:07.721Z"
    },
    "execution": {
     "iopub.execute_input": "2023-01-14T19:22:20.586645Z",
     "iopub.status.busy": "2023-01-14T19:22:20.585645Z",
     "iopub.status.idle": "2023-01-14T19:22:20.605686Z",
     "shell.execute_reply": "2023-01-14T19:22:20.603717Z"
    },
    "papermill": {
     "duration": 0.039012,
     "end_time": "2023-01-14T19:22:20.611655",
     "exception": false,
     "start_time": "2023-01-14T19:22:20.572643",
     "status": "completed"
    },
    "tags": []
   },
   "outputs": [],
   "source": [
    "assert len(df_result.loc[0, df_result.columns.duplicated()]) == 0, \"duplicates\""
   ]
  },
  {
   "cell_type": "markdown",
   "id": "2b175dd9",
   "metadata": {
    "ExecuteTime": {
     "end_time": "2022-07-17T14:09:50.010627Z",
     "start_time": "2022-07-17T14:09:49.984643Z"
    },
    "papermill": {
     "duration": 0.010984,
     "end_time": "2023-01-14T19:22:20.637648",
     "exception": false,
     "start_time": "2023-01-14T19:22:20.626664",
     "status": "completed"
    },
    "tags": []
   },
   "source": [
    "## Save Output"
   ]
  },
  {
   "cell_type": "code",
   "execution_count": 31,
   "id": "2d034700",
   "metadata": {
    "ExecuteTime": {
     "start_time": "2022-09-24T23:40:07.724Z"
    },
    "execution": {
     "iopub.execute_input": "2023-01-14T19:22:20.666680Z",
     "iopub.status.busy": "2023-01-14T19:22:20.666680Z",
     "iopub.status.idle": "2023-01-14T19:22:20.855349Z",
     "shell.execute_reply": "2023-01-14T19:22:20.854298Z"
    },
    "lines_to_next_cell": 2,
    "papermill": {
     "duration": 0.204665,
     "end_time": "2023-01-14T19:22:20.858309",
     "exception": false,
     "start_time": "2023-01-14T19:22:20.653644",
     "status": "completed"
    },
    "tags": []
   },
   "outputs": [],
   "source": [
    "df_result.to_csv(\"output/c_resulttradewattr.csv\")"
   ]
  },
  {
   "cell_type": "code",
   "execution_count": null,
   "id": "7415892f",
   "metadata": {
    "papermill": {
     "duration": 0.010999,
     "end_time": "2023-01-14T19:22:20.885306",
     "exception": false,
     "start_time": "2023-01-14T19:22:20.874307",
     "status": "completed"
    },
    "tags": []
   },
   "outputs": [],
   "source": []
  }
 ],
 "metadata": {
  "celltoolbar": "Tags",
  "jupytext": {
   "cell_metadata_filter": "-all",
   "formats": "auto:percent,ipynb",
   "notebook_metadata_filter": "-all"
  },
  "kernelspec": {
   "display_name": "p1analyzetrades",
   "language": "python",
   "name": "p1analyzetrades"
  },
  "language_info": {
   "codemirror_mode": {
    "name": "ipython",
    "version": 3
   },
   "file_extension": ".py",
   "mimetype": "text/x-python",
   "name": "python",
   "nbconvert_exporter": "python",
   "pygments_lexer": "ipython3",
   "version": "3.9.10"
  },
  "papermill": {
   "default_parameters": {},
   "duration": 11.683283,
   "end_time": "2023-01-14T19:22:21.339681",
   "environment_variables": {},
   "exception": null,
   "input_path": "P1-AnalyzeTrades_c_add_attr2.ipynb",
   "output_path": "P1-AnalyzeTrades_c_add_attr2_output.ipynb",
   "parameters": {},
   "start_time": "2023-01-14T19:22:09.656398",
   "version": "2.3.4"
  },
  "toc": {
   "base_numbering": 1,
   "nav_menu": {},
   "number_sections": true,
   "sideBar": true,
   "skip_h1_title": false,
   "title_cell": "Table of Contents",
   "title_sidebar": "Contents",
   "toc_cell": false,
   "toc_position": {
    "height": "calc(100% - 180px)",
    "left": "10px",
    "top": "150px",
    "width": "384px"
   },
   "toc_section_display": true,
   "toc_window_display": true
  },
  "varInspector": {
   "cols": {
    "lenName": 16,
    "lenType": 16,
    "lenVar": 40
   },
   "kernels_config": {
    "python": {
     "delete_cmd_postfix": "",
     "delete_cmd_prefix": "del ",
     "library": "var_list.py",
     "varRefreshCmd": "print(var_dic_list())"
    },
    "r": {
     "delete_cmd_postfix": ") ",
     "delete_cmd_prefix": "rm(",
     "library": "var_list.r",
     "varRefreshCmd": "cat(var_dic_list()) "
    }
   },
   "position": {
    "height": "633.844px",
    "left": "1550px",
    "right": "20px",
    "top": "120px",
    "width": "350px"
   },
   "types_to_exclude": [
    "module",
    "function",
    "builtin_function_or_method",
    "instance",
    "_Feature"
   ],
   "window_display": true
  }
 },
 "nbformat": 4,
 "nbformat_minor": 5
}