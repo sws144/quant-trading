{
 "cells": [
  {
   "cell_type": "markdown",
   "metadata": {},
   "source": [
    "# Index research based on shiller dataset\n",
    "\n",
    "http://www.econ.yale.edu/~shisller/data.htm\n",
    "\n",
    "Req'd inputs:\n",
    "FinancialMarketData.xlsx\n"
   ]
  },
  {
   "cell_type": "code",
   "execution_count": 1,
   "metadata": {},
   "outputs": [],
   "source": [
    "# %% 1 packages\n",
    "import pandas as pd\n",
    "import matplotlib\n",
    "import matplotlib.pyplot as plt\n",
    "\n",
    "# for datetime plotting\n",
    "from pandas.plotting import register_matplotlib_converters\n",
    "register_matplotlib_converters()\n",
    "\n",
    "# more plotting\n",
    "import seaborn as sns\n",
    "\n",
    "# machine learning & numpy\n",
    "import numpy as np\n",
    "from sklearn import linear_model\n",
    "\n",
    "# file export\n",
    "import openpyxl"
   ]
  },
  {
   "cell_type": "code",
   "execution_count": 2,
   "metadata": {},
   "outputs": [
    {
     "name": "stdout",
     "output_type": "stream",
     "text": [
      "DateFmt                float64\n",
      "Price                  float64\n",
      "Dividend               float64\n",
      "Earnings               float64\n",
      "CPI                    float64\n",
      "DateFraction           float64\n",
      "RateGS10               float64\n",
      "RealSP500              float64\n",
      "RealDividend           float64\n",
      "RealEarnings           float64\n",
      "CAPE                   float64\n",
      "Source                  object\n",
      "LastUpdated     datetime64[ns]\n",
      "Date            datetime64[ns]\n",
      "dtype: object\n"
     ]
    },
    {
     "data": {
      "text/plain": [
       "[<matplotlib.lines.Line2D at 0x28ba971ab70>]"
      ]
     },
     "execution_count": 2,
     "metadata": {},
     "output_type": "execute_result"
    },
    {
     "data": {
      "image/png": "[encoded data removed]",
      "text/plain": [
       "<Figure size 432x288 with 1 Axes>"
      ]
     },
     "metadata": {
      "needs_background": "light"
     },
     "output_type": "display_data"
    }
   ],
   "source": [
    "# %% 2 import & explore data\n",
    "df = pd.read_excel('SP500_Index_Research_FinancialMarketData.xlsx', \n",
    "                   sheet_name = \"YearlyMacro\")\n",
    "\n",
    "print(df.dtypes)\n",
    "\n",
    "# plot data\n",
    "# fix for using IPython/Spyder\n",
    "# %matplotlib qt5\n",
    "fig, ax  = plt.subplots()\n",
    "ax.plot(df['DateFraction'],df['Price'])\n",
    "\n",
    "# ax1 = ax.twinx()\n",
    "# ax1.plot(summary['DGS10'], color = 'r')"
   ]
  }
 ],
 "metadata": {
  "kernelspec": {
   "display_name": "Python 3",
   "language": "python",
   "name": "python3"
  },
  "language_info": {
   "codemirror_mode": {
    "name": "ipython",
    "version": 3
   },
   "file_extension": ".py",
   "mimetype": "text/x-python",
   "name": "python",
   "nbconvert_exporter": "python",
   "pygments_lexer": "ipython3",
   "version": "3.7.3"
  }
 },
 "nbformat": 4,
 "nbformat_minor": 4
}
